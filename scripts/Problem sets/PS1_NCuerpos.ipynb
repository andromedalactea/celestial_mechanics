{
  "cells": [
    {
      "cell_type": "markdown",
      "metadata": {
        "id": "WU1IWBjNZms5"
      },
      "source": [
        "# Mecánica Celeste\n",
        "## 2023-2\n",
        "## Set de Problemas No 1: Problema de N-cuerpos"
      ]
    },
    {
      "cell_type": "markdown",
      "metadata": {
        "id": "sHCHltJiZms-"
      },
      "source": [
        "**1. Conceptos I.**\n",
        "> ¿Qué es una fuerza conservativa? De ejemplos de fuerzas conservativas y no conservativas, y analice cómo afectan ambos tipos de fuerza a los sistemas físicos.\n",
        "\n",
        "Respuesta// Una fuerza conservativa es aquella que cumple la característica de que el trabajo realizado por la fuerza para mover una partícula entre dos puntos es independiente de la trayectoria tomada entre esos dos puntos. En otras palabras, el trabajo neto realizado por una fuerza conservativa en un objeto que se mueve en un recorrido cerrado (es decir, que regresa a su punto de inicio) es cero. Esencialmente, en presencia de fuerzas puramente conservativas, la energía mecánica del sistema se conserva.\n",
        "\n",
        "> Demuestre por cualquier método que la fuerza de gravedad es una fuerza conservativa.\n",
        "\n",
        "Respuesta// Otra forma para demostrar que una fuerza es conservativa es cuando se cumple la relación:\n",
        "\n",
        "$\\mathbf{F} = -\\nabla U(r)$\n",
        "\n",
        "\n",
        "Así, tenemos que la fuerza gravitacional esta definida como:\n",
        "\n",
        "$\\mathbf{F} = -\\frac{G m_1 m_2}{r^2} \\hat{r}$\n",
        "\n",
        "Así la energía potencial asociada a esta fuerza esta dada por:\n",
        "\n",
        "$U(r) = -\\frac{G m_1 m_2}{r}$\n",
        "\n",
        "Tomando el gradiente del potencial respecto a r, tenemos que:\n",
        "\n",
        "$\\nabla U(r) = \\frac{dU}{dr} \\hat{r}$\n",
        "\n",
        "$\\nabla U(r) = \\frac{G m_1 m_2}{r^2} \\hat{r}$\n",
        "\n",
        "Vemos que la fuerza gravitacional es simplemente el negativo del gradiente de la energía potencial gravitacional:\n",
        "\n",
        "$\\mathbf{F} = -\\nabla U(r)$\n",
        "\n",
        "Por lo tanto, hemos demostrado que la fuerza gravitacional es conservativa"
      ]
    },
    {
      "cell_type": "markdown",
      "metadata": {
        "id": "ygPyxzyBZms_"
      },
      "source": [
        "**2. Conceptos II.** Dado un sistema de dos cuerpos con posiciones $\\vec{r}_1$ y $\\vec{r}_2$ respecto a un sistema de referencia con origen $\\mathcal{O}$, cuyo centro  de masa se encuentra en $\\vec{R}$ (ver Figura 1), demuestre que el vector de momentum angular total en el sistema de referencia de laboratorio es igual a la suma del momentum angular del centro de masa más el momentum de un cuerpo de masa $m_r = m_1m_2/(m_1+m_2)$ con respecto a un sistema de referencia con origen en el centro de masa. Es decir\n",
        "  \n",
        "  \\begin{equation}\n",
        "  \\displaystyle \\vec{L} = M\\vec{R}\\times \\dot{\\vec{R}} + m_r \\vec{r}\\times \\dot{\\vec{r}}\n",
        "  \\end{equation}\n",
        "  \n",
        "  donde, de acuerdo con la Figura 1, $\\vec{r} = \\vec{r}_{2c} - \\vec{r}_{1c}$.\n"
      ]
    },
    {
      "cell_type": "markdown",
      "metadata": {
        "id": "MN5blovFdMyV"
      },
      "source": [
        "![sist-lab.jpeg](data:image/jpeg;base64,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)\n",
        " Figura 1."
      ]
    },
    {
      "cell_type": "markdown",
      "metadata": {
        "id": "luKobFhXZmtA"
      },
      "source": [
        "**3. Graficando el sistema solar.** Utilice Astroquery para consultar las posiciones de los planetas y planetas enanos del sistema solar para diferentes fechas, tal que alcance a completar al menos una órbita de cada cuerpo. Realice un gráfico en 3 dimensiones que muestra las órbitas de cada uno, con su respectiva etiqueta."
      ]
    },
    {
      "cell_type": "markdown",
      "metadata": {
        "id": "uNhEL0sgZmtB"
      },
      "source": [
        "**4. Las constantes del Sistema Solar.** Elija una fecha inicial para la cual va a obtener los datos de los 8 planetas del Sistema Solar (Puede utilizar SPICE para la solución de éste ejercicio).\n",
        "\n",
        "1. Calcule la energía total del sistema formado por los 8 planetas y el Sol en Joules.  ¿Es positiva o negativa?.  Compare el orden de magnitud esa energía con el orden de magnitud de magnitud la energía cinética del planeta Júpiter.\n",
        "\n",
        "2. Calcule la misma cantidad para un período de tiempo de 100 años (por ejemplo todo el siglo xx) en intervalos de entre 1 y 5 años.  Haga un gráfico de la energía como función del tiempo y muestre que el valor de esa cantidad es aproximadamente \"constante\", como lo predice la teoría.\n",
        "\n",
        "3. Calcule el momentum angular total del sistema solar en la fecha del punto 1.  Recuerde que este vector define la normal al plano invariable de Laplace del sistema solar.  Repita el cálculo 100 años después y calcule el ángulo en el que el vector cambio. \\\n",
        "Ayuda: el ángulo entre dos vectores se calcula usando la propiedad del producto punto A⋅ B = A B cos θ.\n",
        "\n",
        "4. Encuentre la inclinación del plano orbital de la Tierra respecto al plano invariable de Laplace del sistema solar calculado en 3 en la fecha inicial. \\\n",
        "Ayuda: el ángulo entre el plano de la órbita de la Tierra y el plano invariable de Laplace es igual al ángulo entre el vector momentum angular de la Tierra y el vector momentum angular total del sistema solar.\n",
        "\n",
        "5. Repetir lo anterior con todos los planetas del sistema solar ¿cuál es el planeta que presenta la mayor inclinación? ¿cuál es el planeta que presenta la menor inclinación?\n"
      ]
    },
    {
      "cell_type": "markdown",
      "metadata": {
        "id": "cuj4zPIHZmtE"
      },
      "source": [
        "**5. Problema de 3 cuerpos II.** Considere tres cuerpos $m_1$, $m_2$ y $m_3$, tal que $m_1 > m_2 >> m_3$, los cuales interactuan gravitacionalmente. En un instante $t_0=0$ las masas están ubicadas en los vértices de un trángulo equilatero de lado $d$.\n",
        "\n",
        "> Encuentre la dirección y la magnitud de la fuerza que experimenta la masa $m_3$ en el instante $t_0$.\n",
        "\n",
        "> Asigne valores a las cantidades $m_1$, $m_2$, $m_3$ y $d$, de forma que tengan algun sentido físico.\n",
        "\n",
        "> Cree un sistema de unidades canónico con base en estos valores.\n",
        "\n",
        "> Simule el movimiento del sistema usando diferentes vectores de velocidad en el instante $t_0$ y diferentes valores para $m_1$, $m_2$ y $m_3$. Trate de conseguir un sistema estable. ¿Qué observa?\n"
      ]
    },
    {
      "cell_type": "markdown",
      "metadata": {
        "id": "vrbjhbG-ZmtE"
      },
      "source": [
        "**6. El Virial.** En un sistema de $n$ cuerpos, la fuerza que actua sobre $m_i$ es $F_i$. Muestre que:\n",
        "\n",
        "\\begin{equation}\n",
        "\\frac{1}{2}\\ddot{I} = 2T + \\sum_i \\vec{r_i} \\cdot \\vec{F_i}\n",
        "\\end{equation}\n",
        "\n",
        "donde $I$ es el momento de inercia y $T$ es la energía cinética.\n",
        "\n",
        "> Demuestre que el virial de un sistema de N cuerpos es igual a su energía potencial y a partir de allí deduzca la identidad de Lagrange-Jacobi. ¿Qué interpretación permite dicha identidad?\n",
        "\n",
        "> Finalmente, deduzca e interprete el teorema del virial."
      ]
    },
    {
      "cell_type": "markdown",
      "metadata": {
        "id": "58zIujAPZmtC"
      },
      "source": [
        "**7. El virial en la práctica.** Nos proponemos evaluar las condiciones del teorema del virial en el sistema solar.  Para ello es necesario calcular la energía cinética, la energía potencial y la energía total del sistema por un tiempo prolongado.\n",
        "\n",
        "1. Elija una fecha inicial arbitraria, calcule las posiciones y velocidades del Sol, Júpiter y Saturno a lo largo de 100 años en intervalos de 1 mes.\n",
        "2. Calcule la energía cinética (K), la energía potencial (U) y la energía total del sistema en todos los tiempos anteriores. ¿Qué observa? Explique.\n",
        "3. En el tiempo inicial, calcule las fuerzas que siente cada cuerpo y use la fórmula original del virial para V=∑ rᵢ⋅ Fᵢ para calcular su valor.  Compárelo con el valor de la energía potencial en ese tiempo inicial ¿Qué observa? Explique.\n",
        "4. Encuentre el promedio de K, U y E.  ¿Se cumple el teorema del virial para el sistema Sol, Júpiter y Saturno?"
      ]
    },
    {
      "cell_type": "markdown",
      "metadata": {
        "id": "1hthAtKCZmtF"
      },
      "source": [
        "**8. Simulación de $N$ cuerpos.** Gliese 667-C es un sistema planetario con 5 planetas descubiertos. Consulte las propiedades de dicho sistema (masas, radios, etc.) y desarrolle:\n",
        "\n",
        "> a. Elija unas condiciones iniciales y un conjunto de unidades canónicas apropiados, e integre las ecuaciones de movimiento, de forma que el sistema se mantenga estable (suponga que la estrella central se encuentra en reposo en el origen).\n",
        "\n",
        "> b. Calcule la posición del centro de masas.\n",
        "\n",
        "> c. Calcule el momentum angular total del sistema.\n",
        "\n",
        "> d. Encuentre el plano invariante del sistema."
      ]
    },
    {
      "cell_type": "markdown",
      "metadata": {
        "id": "dP3qWrvKGt8X"
      },
      "source": [
        "**9. Aproximación de un cometa.** Considere una partícula de masa despreciable en el sistema solar (un cometa), que se encuentra a 15 unidades astronómicas del Sol. Estudie numéricamente el movimiento de dicho cuerpo:\n",
        "\n",
        "1. Considerando los todos los planetas del sistema solar.\n",
        "2. Despreciando completamente los 4 planetas interiores.\n",
        "3. Añadiendo las masas de los planetas interiores al Sol. \\\n",
        "Nota: A esto se le conoce como \"tirar los planetas dentro del Sol.\" Léase la sección 9.5 del libro *Fundamentals of celestial mechanics*, J.M.A Danby, segunda edición."
      ]
    },
    {
      "cell_type": "code",
      "execution_count": null,
      "metadata": {
        "id": "9ywwk_LoZmtG"
      },
      "outputs": [],
      "source": []
    }
  ],
  "metadata": {
    "colab": {
      "provenance": []
    },
    "kernelspec": {
      "display_name": "Python 3",
      "language": "python",
      "name": "python3"
    },
    "language_info": {
      "codemirror_mode": {
        "name": "ipython",
        "version": 3
      },
      "file_extension": ".py",
      "mimetype": "text/x-python",
      "name": "python",
      "nbconvert_exporter": "python",
      "pygments_lexer": "ipython3",
      "version": "3.7.8"
    }
  },
  "nbformat": 4,
  "nbformat_minor": 0
}
