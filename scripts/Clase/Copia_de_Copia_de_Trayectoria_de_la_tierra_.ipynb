{
  "cells": [
    {
      "cell_type": "code",
      "execution_count": 1,
      "metadata": {},
      "outputs": [
        {
          "name": "stdout",
          "output_type": "stream",
          "text": [
            "Collecting plotly\n",
            "  Obtaining dependency information for plotly from https://files.pythonhosted.org/packages/26/5d/1e13b597ed8e54803e9ac6ded18c04cd35d8cbc49016778ec50c4ca9e9d5/plotly-5.16.1-py2.py3-none-any.whl.metadata\n",
            "  Downloading plotly-5.16.1-py2.py3-none-any.whl.metadata (7.0 kB)\n",
            "Collecting tenacity>=6.2.0 (from plotly)\n",
            "  Obtaining dependency information for tenacity>=6.2.0 from https://files.pythonhosted.org/packages/f4/f1/990741d5bb2487d529d20a433210ffa136a367751e454214013b441c4575/tenacity-8.2.3-py3-none-any.whl.metadata\n",
            "  Downloading tenacity-8.2.3-py3-none-any.whl.metadata (1.0 kB)\n",
            "Requirement already satisfied: packaging in /home/clickgreen/celestial_mechanics/.venv/lib/python3.10/site-packages (from plotly) (23.1)\n",
            "Downloading plotly-5.16.1-py2.py3-none-any.whl (15.6 MB)\n",
            "\u001b[2K   \u001b[91m━━━━━━━━━━━\u001b[0m\u001b[90m╺\u001b[0m\u001b[90m━━━━━━━━━━━━━━━━━━━━━━━━━━━━\u001b[0m \u001b[32m4.3/15.6 MB\u001b[0m \u001b[31m13.8 kB/s\u001b[0m eta \u001b[36m0:13:36\u001b[0m\n",
            "\u001b[?25h\u001b[31mERROR: Exception:\n",
            "Traceback (most recent call last):\n",
            "  File \"/home/clickgreen/celestial_mechanics/.venv/lib/python3.10/site-packages/pip/_vendor/urllib3/response.py\", line 438, in _error_catcher\n",
            "    yield\n",
            "  File \"/home/clickgreen/celestial_mechanics/.venv/lib/python3.10/site-packages/pip/_vendor/urllib3/response.py\", line 561, in read\n",
            "    data = self._fp_read(amt) if not fp_closed else b\"\"\n",
            "  File \"/home/clickgreen/celestial_mechanics/.venv/lib/python3.10/site-packages/pip/_vendor/urllib3/response.py\", line 527, in _fp_read\n",
            "    return self._fp.read(amt) if amt is not None else self._fp.read()\n",
            "  File \"/home/clickgreen/celestial_mechanics/.venv/lib/python3.10/site-packages/pip/_vendor/cachecontrol/filewrapper.py\", line 90, in read\n",
            "    data = self.__fp.read(amt)\n",
            "  File \"/usr/lib/python3.10/http/client.py\", line 466, in read\n",
            "    s = self.fp.read(amt)\n",
            "  File \"/usr/lib/python3.10/socket.py\", line 705, in readinto\n",
            "    return self._sock.recv_into(b)\n",
            "  File \"/usr/lib/python3.10/ssl.py\", line 1274, in recv_into\n",
            "    return self.read(nbytes, buffer)\n",
            "  File \"/usr/lib/python3.10/ssl.py\", line 1130, in read\n",
            "    return self._sslobj.read(len, buffer)\n",
            "TimeoutError: The read operation timed out\n",
            "\n",
            "During handling of the above exception, another exception occurred:\n",
            "\n",
            "Traceback (most recent call last):\n",
            "  File \"/home/clickgreen/celestial_mechanics/.venv/lib/python3.10/site-packages/pip/_internal/cli/base_command.py\", line 180, in exc_logging_wrapper\n",
            "    status = run_func(*args)\n",
            "  File \"/home/clickgreen/celestial_mechanics/.venv/lib/python3.10/site-packages/pip/_internal/cli/req_command.py\", line 248, in wrapper\n",
            "    return func(self, options, args)\n",
            "  File \"/home/clickgreen/celestial_mechanics/.venv/lib/python3.10/site-packages/pip/_internal/commands/install.py\", line 377, in run\n",
            "    requirement_set = resolver.resolve(\n",
            "  File \"/home/clickgreen/celestial_mechanics/.venv/lib/python3.10/site-packages/pip/_internal/resolution/resolvelib/resolver.py\", line 161, in resolve\n",
            "    self.factory.preparer.prepare_linked_requirements_more(reqs)\n",
            "  File \"/home/clickgreen/celestial_mechanics/.venv/lib/python3.10/site-packages/pip/_internal/operations/prepare.py\", line 565, in prepare_linked_requirements_more\n",
            "    self._complete_partial_requirements(\n",
            "  File \"/home/clickgreen/celestial_mechanics/.venv/lib/python3.10/site-packages/pip/_internal/operations/prepare.py\", line 479, in _complete_partial_requirements\n",
            "    for link, (filepath, _) in batch_download:\n",
            "  File \"/home/clickgreen/celestial_mechanics/.venv/lib/python3.10/site-packages/pip/_internal/network/download.py\", line 183, in __call__\n",
            "    for chunk in chunks:\n",
            "  File \"/home/clickgreen/celestial_mechanics/.venv/lib/python3.10/site-packages/pip/_internal/cli/progress_bars.py\", line 53, in _rich_progress_bar\n",
            "    for chunk in iterable:\n",
            "  File \"/home/clickgreen/celestial_mechanics/.venv/lib/python3.10/site-packages/pip/_internal/network/utils.py\", line 63, in response_chunks\n",
            "    for chunk in response.raw.stream(\n",
            "  File \"/home/clickgreen/celestial_mechanics/.venv/lib/python3.10/site-packages/pip/_vendor/urllib3/response.py\", line 622, in stream\n",
            "    data = self.read(amt=amt, decode_content=decode_content)\n",
            "  File \"/home/clickgreen/celestial_mechanics/.venv/lib/python3.10/site-packages/pip/_vendor/urllib3/response.py\", line 560, in read\n",
            "    with self._error_catcher():\n",
            "  File \"/usr/lib/python3.10/contextlib.py\", line 153, in __exit__\n",
            "    self.gen.throw(typ, value, traceback)\n",
            "  File \"/home/clickgreen/celestial_mechanics/.venv/lib/python3.10/site-packages/pip/_vendor/urllib3/response.py\", line 443, in _error_catcher\n",
            "    raise ReadTimeoutError(self._pool, None, \"Read timed out.\")\n",
            "pip._vendor.urllib3.exceptions.ReadTimeoutError: HTTPSConnectionPool(host='files.pythonhosted.org', port=443): Read timed out.\u001b[0m\u001b[31m\n",
            "\u001b[0m"
          ]
        }
      ],
      "source": [
        "!pip install plotly"
      ]
    },
    {
      "cell_type": "code",
      "execution_count": 5,
      "metadata": {
        "id": "zvJfgpycsKyW"
      },
      "outputs": [],
      "source": [
        "from astroquery.jplhorizons import Horizons"
      ]
    },
    {
      "cell_type": "code",
      "execution_count": 6,
      "metadata": {
        "id": "SUml5nAIsgrl"
      },
      "outputs": [],
      "source": [
        "earth_busca=Horizons(id='Geocenter',location='@Sun',\n",
        "          epochs=dict(start='2023-08-08 19:45:23',stop='2023-08-08 19:45:24',step='1d'))"
      ]
    },
    {
      "cell_type": "code",
      "execution_count": 7,
      "metadata": {
        "colab": {
          "base_uri": "https://localhost:8080/",
          "height": 80
        },
        "id": "y-vC486ptjz4",
        "outputId": "5b221b9b-f768-4f28-989c-81a8ad0d90fb"
      },
      "outputs": [
        {
          "data": {
            "text/html": [
              "<div>\n",
              "<style scoped>\n",
              "    .dataframe tbody tr th:only-of-type {\n",
              "        vertical-align: middle;\n",
              "    }\n",
              "\n",
              "    .dataframe tbody tr th {\n",
              "        vertical-align: top;\n",
              "    }\n",
              "\n",
              "    .dataframe thead th {\n",
              "        text-align: right;\n",
              "    }\n",
              "</style>\n",
              "<table border=\"1\" class=\"dataframe\">\n",
              "  <thead>\n",
              "    <tr style=\"text-align: right;\">\n",
              "      <th></th>\n",
              "      <th>targetname</th>\n",
              "      <th>datetime_jd</th>\n",
              "      <th>datetime_str</th>\n",
              "      <th>x</th>\n",
              "      <th>y</th>\n",
              "      <th>z</th>\n",
              "      <th>vx</th>\n",
              "      <th>vy</th>\n",
              "      <th>vz</th>\n",
              "      <th>lighttime</th>\n",
              "      <th>range</th>\n",
              "      <th>range_rate</th>\n",
              "    </tr>\n",
              "  </thead>\n",
              "  <tbody>\n",
              "    <tr>\n",
              "      <th>0</th>\n",
              "      <td>Earth (399)</td>\n",
              "      <td>2.460165e+06</td>\n",
              "      <td>A.D. 2023-Aug-08 19:45:23.0000</td>\n",
              "      <td>0.725594</td>\n",
              "      <td>-0.708318</td>\n",
              "      <td>0.000032</td>\n",
              "      <td>0.011743</td>\n",
              "      <td>0.012241</td>\n",
              "      <td>-0.000001</td>\n",
              "      <td>0.005856</td>\n",
              "      <td>1.014002</td>\n",
              "      <td>-0.000148</td>\n",
              "    </tr>\n",
              "  </tbody>\n",
              "</table>\n",
              "</div>"
            ],
            "text/plain": [
              "    targetname   datetime_jd                    datetime_str         x  \\\n",
              "0  Earth (399)  2.460165e+06  A.D. 2023-Aug-08 19:45:23.0000  0.725594   \n",
              "\n",
              "          y         z        vx        vy        vz  lighttime     range  \\\n",
              "0 -0.708318  0.000032  0.011743  0.012241 -0.000001   0.005856  1.014002   \n",
              "\n",
              "   range_rate  \n",
              "0   -0.000148  "
            ]
          },
          "execution_count": 7,
          "metadata": {},
          "output_type": "execute_result"
        }
      ],
      "source": [
        "earth_busca.vectors().to_pandas()"
      ]
    },
    {
      "cell_type": "code",
      "execution_count": 8,
      "metadata": {
        "colab": {
          "base_uri": "https://localhost:8080/"
        },
        "id": "pzjcfSL9uvlc",
        "outputId": "7536779b-37a5-49ef-acd7-09a89d339f8e"
      },
      "outputs": [
        {
          "data": {
            "text/plain": [
              "1.988409870698051e+30"
            ]
          },
          "execution_count": 8,
          "metadata": {},
          "output_type": "execute_result"
        }
      ],
      "source": [
        "from astropy import constants\n",
        "Au=constants.au.value\n",
        "Msun= constants.M_sun.value\n",
        "Msun"
      ]
    },
    {
      "cell_type": "markdown",
      "metadata": {
        "id": "yY1OoCMpwyin"
      },
      "source": [
        "# Ahora vamos a dibujar la orbita de la tierra"
      ]
    },
    {
      "cell_type": "code",
      "execution_count": 2,
      "metadata": {
        "id": "qOULY5i9w2t7"
      },
      "outputs": [],
      "source": [
        "import numpy as np\n",
        "import pandas as pd\n",
        "from astroquery.jplhorizons import Horizons\n",
        "import matplotlib.pyplot as plt"
      ]
    },
    {
      "cell_type": "code",
      "execution_count": 5,
      "metadata": {
        "id": "g9iDYYbjxDDk"
      },
      "outputs": [],
      "source": [
        "Posicion_terrestre=Horizons(id='Geocenter',location='0',\n",
        "          epochs=dict(start='1900-01-01 00:00:01',stop='2023-12-31 23:59:59',step='90d')).vectors().to_pandas()"
      ]
    },
    {
      "cell_type": "code",
      "execution_count": 8,
      "metadata": {
        "colab": {
          "base_uri": "https://localhost:8080/",
          "height": 423
        },
        "id": "Wp80bRWLLEUP",
        "outputId": "098723ea-d636-4772-caa5-62952fcb3560"
      },
      "outputs": [
        {
          "data": {
            "text/plain": [
              "Index(['targetname', 'datetime_jd', 'datetime_str', 'x', 'y', 'z', 'vx', 'vy',\n",
              "       'vz', 'lighttime', 'range', 'range_rate'],\n",
              "      dtype='object')"
            ]
          },
          "execution_count": 8,
          "metadata": {},
          "output_type": "execute_result"
        }
      ],
      "source": [
        "Posicion_terrestre.columns"
      ]
    },
    {
      "cell_type": "code",
      "execution_count": 12,
      "metadata": {
        "colab": {
          "base_uri": "https://localhost:8080/",
          "height": 536
        },
        "id": "i1lp385OMmbT",
        "outputId": "29ab7b18-8ae1-4b85-dca4-d94747530103"
      },
      "outputs": [
        {
          "data": {
            "text/plain": [
              "(-2.9365679788155296e-05,\n",
              " 2.9608972566974304e-05,\n",
              " -4.006258672554345e-05,\n",
              " 1.3654984555235996e-05)"
            ]
          },
          "execution_count": 12,
          "metadata": {},
          "output_type": "execute_result"
        },
        {
          "data": {
            "image/png": "[encoded data removed]",
            "text/plain": [
              "<Figure size 640x480 with 1 Axes>"
            ]
          },
          "metadata": {},
          "output_type": "display_data"
        }
      ],
      "source": [
        "plt.plot(Posicion_terrestre['x'].tolist(),Posicion_terrestre['y'].tolist())\n",
        "plt.axis('equal')"
      ]
    },
    {
      "cell_type": "code",
      "execution_count": 13,
      "metadata": {
        "colab": {
          "base_uri": "https://localhost:8080/",
          "height": 408
        },
        "id": "WBRv6s6axUM1",
        "outputId": "d98163e2-348c-4bf3-ae5f-d24ec1c337c5"
      },
      "outputs": [
        {
          "data": {
            "image/png": "[encoded data removed]",
            "text/plain": [
              "<Figure size 640x480 with 1 Axes>"
            ]
          },
          "metadata": {},
          "output_type": "display_data"
        }
      ],
      "source": [
        "import matplotlib.pyplot as plt\n",
        "from mpl_toolkits.mplot3d import Axes3D  # Importar el módulo de gráficos 3D\n",
        "\n",
        "# Crear una figura en 3D\n",
        "fig = plt.figure()\n",
        "ax = fig.add_subplot(111, projection='3d')\n",
        "\n",
        "# Obtener los valores de las columnas x, y, z como listas\n",
        "x_values = Posicion_terrestre['x'].tolist()\n",
        "y_values = Posicion_terrestre['y'].tolist()\n",
        "z_values = Posicion_terrestre['z'].tolist()\n",
        "\n",
        "# Crear el gráfico en 3D\n",
        "ax.plot(x_values, y_values, z_values)\n",
        "\n",
        "# Configurar ejes iguales\n",
        "ax.axis('equal')\n",
        "\n",
        "# Mostrar el gráfico\n",
        "plt.show()\n"
      ]
    },
    {
      "cell_type": "markdown",
      "metadata": {
        "id": "wjKRNn6r8NGu"
      },
      "source": [
        "Aceleración de la luna"
      ]
    },
    {
      "cell_type": "code",
      "execution_count": 14,
      "metadata": {
        "id": "HWFjXBoW8QAs"
      },
      "outputs": [],
      "source": [
        "#constans\n",
        "G=constants.G.value\n",
        "au=constants.au.value\n",
        "musun=G*constants.M_sun.value\n",
        "muearth=G*constants.M_earth.value"
      ]
    },
    {
      "cell_type": "code",
      "execution_count": 15,
      "metadata": {
        "colab": {
          "base_uri": "https://localhost:8080/"
        },
        "id": "iWIfAXLC63Xm",
        "outputId": "1f4031df-7626-4656-834e-2db0a3a222d4"
      },
      "outputs": [
        {
          "data": {
            "text/plain": [
              "array([[-2.64991067e+10,  1.45111529e+11,  1.92081230e+07],\n",
              "       [-2.91223885e+10,  1.44700389e+11,  2.68032076e+07],\n",
              "       [-3.17503811e+10,  1.44230711e+11,  3.42695071e+07],\n",
              "       ...,\n",
              "       [-1.84351697e+10,  1.46034561e+11,  5.74707179e+07],\n",
              "       [-2.10998825e+10,  1.45656435e+11,  5.59138786e+07],\n",
              "       [-2.37462396e+10,  1.45219439e+11,  5.28425700e+07]])"
            ]
          },
          "execution_count": 15,
          "metadata": {},
          "output_type": "execute_result"
        }
      ],
      "source": [
        "Posicion_terrestre=Horizons(id='Geocenter',location='@0',\n",
        "          epochs=dict(start='2023-01-01 00:00:01',stop='2023-12-31 23:59:59',step='1d')).vectors().to_pandas()\n",
        "r_earth=np.array(Posicion_terrestre[['x','y','z']]*au)\n",
        "\n",
        "sun=Horizons(id='10',location='@0',\n",
        "          epochs=dict(start='2023-01-01 00:00:01',stop='2023-12-31 23:59:59',step='1d')).vectors().to_pandas()\n",
        "r_sun=np.array(sun[['x','y','z']]*au)\n",
        "\n",
        "moon=Horizons(id='301',location='@0',\n",
        "          epochs=dict(start='2023-01-01 00:00:01',stop='2023-12-31 23:59:59',step='1d')).vectors().to_pandas()\n",
        "r_moon= np.array(moon[['x','y','z']]*au)\n",
        "\n",
        "r_moon"
      ]
    },
    {
      "cell_type": "code",
      "execution_count": null,
      "metadata": {
        "id": "Aek6qvgF5uMP"
      },
      "outputs": [],
      "source": []
    },
    {
      "cell_type": "code",
      "execution_count": 16,
      "metadata": {
        "id": "w9x3UQrh83-l"
      },
      "outputs": [],
      "source": [
        "r31s=r_moon-r_sun\n",
        "r32s=r_moon-r_earth"
      ]
    },
    {
      "cell_type": "code",
      "execution_count": 17,
      "metadata": {
        "id": "VBN4JcdW9EDu"
      },
      "outputs": [],
      "source": [
        "r31=np.linalg.norm(r31s,axis=1)\n",
        "r32=np.linalg.norm(r32s,axis=1)"
      ]
    },
    {
      "cell_type": "code",
      "execution_count": 18,
      "metadata": {
        "id": "7foHLmL5D_gE"
      },
      "outputs": [],
      "source": [
        "N=len(r32)\n",
        "a3s=np.zeros((N,3))\n",
        "for i in range(N):\n",
        "  a3s[i]=-musun*r31s[i,:]/r31[i]**3 -muearth*r32s[i,:]/r32[i]**3"
      ]
    },
    {
      "cell_type": "code",
      "execution_count": 19,
      "metadata": {
        "colab": {
          "base_uri": "https://localhost:8080/"
        },
        "id": "uRUh2jAzFcEK",
        "outputId": "69262dd3-419f-44e7-b42c-3a59d3131bcd"
      },
      "outputs": [
        {
          "data": {
            "text/plain": [
              "array([[-1.14985371e-03, -7.47280900e-03,  3.36977623e-05],\n",
              "       [-6.35903581e-04, -7.85055920e-03, -1.75607845e-05],\n",
              "       [-6.65092831e-05, -8.12347825e-03, -6.50618800e-05],\n",
              "       ...,\n",
              "       [ 1.94365092e-03, -8.23822233e-03, -2.18045960e-04],\n",
              "       [ 2.46559756e-03, -7.89147876e-03, -2.03528294e-04],\n",
              "       [ 2.90461722e-03, -7.48172481e-03, -1.81109443e-04]])"
            ]
          },
          "execution_count": 19,
          "metadata": {},
          "output_type": "execute_result"
        }
      ],
      "source": [
        "a3s"
      ]
    },
    {
      "cell_type": "code",
      "execution_count": 22,
      "metadata": {
        "id": "urTKX3d9hDkO"
      },
      "outputs": [],
      "source": [
        "#!pip install astroquery\n",
        "import numpy as np\n",
        "import pandas as pd\n",
        "from astroquery.jplhorizons import Horizons\n",
        "import matplotlib.pyplot as plt\n",
        "from astropy import constants\n",
        "\n",
        "#Obteniendo las constantes necesarias\n",
        "G=constants.G.value\n",
        "au=constants.au.value\n",
        "musun=G*constants.M_sun.value\n",
        "muearth=G*constants.M_earth.value\n",
        "\n",
        "#Ahora calculando la aceleración de la luna y la tierra, primero hayando la posicion:\n",
        "Posicion_terrestre=Horizons(id='Geocenter',location='@0',\n",
        "          epochs=dict(start='2023-07-26 12:00:01',stop='2023-12-31 23:59:59',step='1d')).vectors().to_pandas()\n",
        "r_earth=np.array(Posicion_terrestre[['x','y','z']]*au)\n",
        "\n",
        "moon=Horizons(id='301',location='@0',\n",
        "          epochs=dict(start='2023-07-26 12:00:01',stop='2023-12-31 23:59:59',step='1d')).vectors().to_pandas()\n",
        "r_moon= np.array(moon[['x','y','z']]*au)\n",
        "\n"
      ]
    }
  ],
  "metadata": {
    "colab": {
      "provenance": []
    },
    "kernelspec": {
      "display_name": "Python 3",
      "name": "python3"
    },
    "language_info": {
      "codemirror_mode": {
        "name": "ipython",
        "version": 3
      },
      "file_extension": ".py",
      "mimetype": "text/x-python",
      "name": "python",
      "nbconvert_exporter": "python",
      "pygments_lexer": "ipython3",
      "version": "3.10.12"
    }
  },
  "nbformat": 4,
  "nbformat_minor": 0
}
