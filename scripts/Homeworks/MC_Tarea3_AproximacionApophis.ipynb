{
  "cells": [
    {
      "cell_type": "markdown",
      "metadata": {
        "id": "6XE49aAfGdAu"
      },
      "source": [
        "<p>\n",
        "<img src=\"https://drive.google.com/uc?id=1ZHUKcwzA5c-PKUwoGmBG3TsHk6TmZ-Y0\" align=\"left\" width=\"250\">\n",
        "</p>\n",
        "<p>\n",
        "<h1><b><center>Mecánica Celeste</center></b></h1>\n",
        "<h2><b><center>Prof. Jorge I. Zuluaga</center></b></h1>\n",
        "<h2><b><center>Tarea 3</center></b><h2>\n",
        "<h3><b><center>La aproximación de Apophis</center></b><h3>\n",
        "<h5><center><b>Asignada</b>: 19 de Septiembre de 2023</center><h5>\n",
        "<h5><center><b>Entrega</b>: 3 de Octubre de 2023</center><h5>\n",
        "</p>"
      ]
    },
    {
      "cell_type": "markdown",
      "metadata": {
        "id": "DZ3br0tlHiUH"
      },
      "source": [
        "<hr/>\n",
        "<b>Nombre</b>: Bryan Camilo  Restrepo Arcila\n",
        "<br/>\n",
        "<b>Cédula</b>: 1000567825\n",
        "<br/>\n",
        "<b>Última actualización</b>: 2023-10-02\n",
        "<hr/>"
      ]
    },
    {
      "cell_type": "markdown",
      "metadata": {
        "id": "32KKSLFEHYpg"
      },
      "source": [
        "## Enunciado"
      ]
    },
    {
      "cell_type": "markdown",
      "metadata": {
        "id": "BJv9-ZZAIUgW"
      },
      "source": [
        "**Objetivo**: El objetivo de esta tarea es utilizar la solución analítica del problema de los dos cuerpos para estudiar la aproximación del asteroide peligroso **99942 Apophis (2004 MN4)** durante el 13 de abril del año 2029.\n",
        "\n",
        "**Procedimiento**:\n",
        "\n",
        "1. Obtenga el vector de estado del asteroide Apophis el día de su cumpleaños en 2023 a las 00:00:00 UTC con respecto al Sol, así como el vector de estado de la Tierra respecto al mismo sistema de referencia.\n",
        "\n",
        "2. Determine los elementos orbitales del asteroide y los elementos órbitales osculatrices de la Tierra usando el procedimiento aprendido en clase. Estos elementos orbitales serán los que usará a partir de ahora en todos los cálculos que use la teoría del problema de los dos cuerpos. Es importante que use el procedimiento en clase en lugar de obtener simplemente los elementos de astroquery.\n",
        "\n",
        "3. Usando los elementos orbitales de ambos cuerpos determine la mínima distancia a la que se encontarán ambas órbitas en cualquier momento del futuro. A esta distancia se la llama MOID, por el acrónimo en inglés *Minimum orbital intersection distance*.\n",
        "\n",
        "4. Para saber cuándo se producirá la máxima aproximación entre los dos cuerpos es necesario sin embargo resolver el problema de los dos cuerpos en el tiempo. Para ello use la ecuación de Kepler y los métodos aprendidos en clase para propagar hacia el futuro la posición de la Tierra y del asteroide en el tiempo y determinar la fecha, hora y distancia de la próxima aproximación. Para ello avance primero de mes en mes por ejemplo, y luego, cerca a la aproximación máxima, de día en día, de hora en hora, hasta encontrar el punto de mínima distancia. ¿En qué fecha, hora y distancia predice usted que se producirá la máxima aproximación?\n",
        "\n",
        "5. Una vez encontrada la fecha y hora de la aproximación obtenida con el problema exclusivamente con la solución analítica del problema de los dos cuerpos (la que estamos viendo aquí), compárela con la que se obtiene recuperando de astroquery las posiciones de la Tierra y Apophis desde su cumpleaños hacia el futuro. Es decir, repita el procedimiento anterior, pero en lugar de obtener las posiciones a partir de la teoría del problema de los dos cuerpos, recupere las posiciones usando astroquery.  ¿Qué tan diferentes son los resultados de este procedimiento y del anterior? ¿podría explicar las discrepancias?"
      ]
    },
    {
      "cell_type": "markdown",
      "metadata": {
        "id": "NI1EmWvOa_o2"
      },
      "source": [
        "**Resultados esperados**:\n",
        "\n",
        "- Este notebook con el procedimiento debidamente comentado.\n",
        "\n",
        "- Datos mínimos:\n",
        "  - MOID de la órbita de Apophis y de la Tierra calculado con la teoría del problema de los 2 cuerpos.\n",
        "  - Fecha, hora y distancia mínima de aproximación calculado con la teoría del problema de los 2 cuerpos.\n",
        "  - Fecha, hora y distancia mínima de aproximación calculado con los datos obtenidos de Astroqery.\n",
        "\n",
        "- Gráficos mínimos:\n",
        "  - Distancia entre Apophis y la Tierra como función del tiempo desde la fecha de nacimiento hasta la máxima aproximación, calculada con la teoría del problema de los dos cuerpos y con los datos de Astroquery.\n",
        "\n",
        "- Gráficos opcionales:\n",
        "  - Animaciones de la aproximación.\n",
        "\n",
        "- En caso de utilizar ayudas como `ChatGPT` o códigos de `Stack Over Flow` debe citar debidamente la fuente, pero también entender a cabalidad el código, el profesor puede pedir justificación."
      ]
    },
    {
      "cell_type": "markdown",
      "metadata": {},
      "source": [
        "instalemos las librerias necesarias:"
      ]
    },
    {
      "cell_type": "code",
      "execution_count": 26,
      "metadata": {},
      "outputs": [],
      "source": [
        "!python3 -m pip install -q pymcel astroquery astropy \n"
      ]
    },
    {
      "cell_type": "markdown",
      "metadata": {},
      "source": [
        "Importación de librerias:"
      ]
    },
    {
      "cell_type": "code",
      "execution_count": 27,
      "metadata": {},
      "outputs": [],
      "source": [
        "import pymcel as pc\n",
        "import numpy as np\n",
        "import pandas as pd\n",
        "import spiceypy as spy\n",
        "import matplotlib.pyplot as plt\n",
        "from astroquery.jplhorizons import Horizons\n",
        "from astropy.time import Time\n",
        "from astropy import constants as c,units as u"
      ]
    },
    {
      "cell_type": "markdown",
      "metadata": {},
      "source": [
        "Constantes:"
      ]
    },
    {
      "cell_type": "code",
      "execution_count": 28,
      "metadata": {},
      "outputs": [],
      "source": [
        "# Constante para convertir m^3 a km^3\n",
        "m3_km3 = 10**9\n",
        "\n",
        "# Gravitational constant en m^3/(kg s^2)\n",
        "G = c.G.value\n",
        "\n",
        "# Convertir GM a masa en Kg\n",
        "GM2M = 1 / (G / m3_km3)\n",
        "\n",
        "# Encontrar la masa del sol con alta precisión\n",
        "# Descargar la librería de SPICE que contiene datos necesarios\n",
        "!wget -q https://naif.jpl.nasa.gov/pub/naif/generic_kernels/pck/gm_de440.tpc -O gm_de440.tpc\n",
        "spy.furnsh('gm_de440.tpc')\n",
        "\n",
        "# Obtener la información de la masa del sol desde la base de datos de SPICE\n",
        "n, dato = spy.bodvrd('sun', 'GM', 1)\n",
        "\n",
        "# Convertir unidades\n",
        "M_sun = dato[0] * GM2M"
      ]
    },
    {
      "cell_type": "code",
      "execution_count": 29,
      "metadata": {},
      "outputs": [],
      "source": [
        "# Para pasar de grados a radianes y viceversa\n",
        "deg2rad = np.pi/180\n",
        "rad2deg = 1/deg2rad\n",
        "m3_km3 = 10**9 #m^3 a km^3\n",
        "\n",
        "# factores de conversión\n",
        "day = 86400 # segundos\n",
        "au = c.au.value # metros\n",
        "G = c.G.value # m^3/(kg s^2)\n",
        "au2km = au/1000"
      ]
    },
    {
      "cell_type": "markdown",
      "metadata": {},
      "source": [
        "Unidades Canónicas:"
      ]
    },
    {
      "cell_type": "code",
      "execution_count": 30,
      "metadata": {},
      "outputs": [],
      "source": [
        "UL = au # m\n",
        "UM = M_sun # kg\n",
        "UT = (UL**3/(G*UM))**0.5 # segundos\n",
        "\n",
        "# Unidades derivadas\n",
        "UV = UL/UT\n",
        "\n",
        "# Entonces el mu en unidades canónicas es\n",
        "mu = 1"
      ]
    },
    {
      "cell_type": "markdown",
      "metadata": {
        "id": "J0ISSYQpHex_"
      },
      "source": [
        "## Solución"
      ]
    },
    {
      "cell_type": "markdown",
      "metadata": {},
      "source": [
        "### 1. Obtenga el vector de estado del asteroide Apophis el día de su cumpleaños en 2023 a las 00:00:00 UTC con respecto al Sol, así como el vector de estado de la Tierra respecto al mismo sistema de referencia."
      ]
    },
    {
      "cell_type": "code",
      "execution_count": 31,
      "metadata": {
        "id": "iH20o0jpHhgr"
      },
      "outputs": [],
      "source": [
        "# Mi cumpleaños en 2023 fue el 2023-07-26\n",
        "jd = Time('2023-07-26 00:00:00').jd\n",
        "# Día Juliano de mi cumpleaños en 2023\n",
        "\n",
        "# Consulta el vector de estado de Aphophis en este día\n",
        "X0_aphophis_df = Horizons(\n",
        "    id='2004 MN4', location='@sun', epochs=jd\n",
        ").vectors().to_pandas()\n",
        "\n",
        "# Construyendo nuestros vectores fila con el estado inicial de Aphophis\n",
        "X0_aphophis = np.array(X0_aphophis_df[['x','y','z']]*au/UL)[0]  # Para la posición\n",
        "X0_aphophis_norm = np.linalg.norm(X0_aphophis)  # La norma\n",
        "\n",
        "# Ahora para la velocidad\n",
        "V0_aphophis = np.array(X0_aphophis_df[['vx','vy','vz']]*(au/day)/UV)[0]  # Para la velocidad\n",
        "V0_aphophis_norm = np.linalg.norm(V0_aphophis)  # La norma\n",
        "\n",
        "# Consulta el vector de estado de la tierra en este día\n",
        "X0_earth_df = Horizons(\n",
        "    id='399', location='@sun', epochs=jd\n",
        ").vectors().to_pandas()\n",
        "\n",
        "# Construyendo nuestros vectores fila con el estado inicial de Aphophis\n",
        "X0_earth = np.array(X0_earth_df[['x','y','z']]*au/UL)[0]  # Para la posición\n",
        "X0_earth_norm = np.linalg.norm(X0_earth)  # La norma\n",
        "\n",
        "# Ahora para la velocidad\n",
        "V0_earth = np.array(X0_earth_df[['vx','vy','vz']]*(au/day)/UV)[0]  # Para la velocidad\n",
        "V0_earth_norm = np.linalg.norm(V0_earth)  # La norma"
      ]
    },
    {
      "cell_type": "markdown",
      "metadata": {},
      "source": [
        "### 2. Determine los elementos orbitales del asteroide y los elementos órbitales osculatrices de la Tierra usando el procedimiento aprendido en clase. Estos elementos orbitales serán los que usará a partir de ahora en todos los cálculos que use la teoría del problema de los dos cuerpos. Es importante que use el procedimiento en clase en lugar de obtener simplemente los elementos de astroquery."
      ]
    },
    {
      "cell_type": "markdown",
      "metadata": {},
      "source": [
        "### Encontremos los elementos orbitales de apophis\n"
      ]
    },
    {
      "cell_type": "markdown",
      "metadata": {},
      "source": [
        "#### Primero calculemos los vectores clave del sistema"
      ]
    },
    {
      "cell_type": "code",
      "execution_count": 32,
      "metadata": {},
      "outputs": [],
      "source": [
        "# Calculamos el M.A.R.E\n",
        "hvec_aphophis = np.cross(X0_aphophis, V0_aphophis)\n",
        "h_aphophis = np.linalg.norm(hvec_aphophis)\n",
        "\n",
        "# Calculando el vector nodal\n",
        "nvec_aphophis = np.cross([0, 0, 1], hvec_aphophis)  # [0, 0, 1] es el vector x unitario\n",
        "n_aphophis = np.linalg.norm(nvec_aphophis)\n"
      ]
    },
    {
      "cell_type": "markdown",
      "metadata": {},
      "source": [
        "A partir de estos vectores podemos calcular los elementos orbitales para apophis"
      ]
    },
    {
      "cell_type": "code",
      "execution_count": 33,
      "metadata": {},
      "outputs": [],
      "source": [
        "# Calculando el vector de Laplace\n",
        "evec_aphophis = (np.cross(V0_aphophis, hvec_aphophis) / mu -\n",
        "                 X0_aphophis / X0_aphophis_norm)\n",
        "e_aphophis = np.linalg.norm(evec_aphophis)  # Excentricidad\n",
        "\n",
        "# Inclinación\n",
        "I_aphophis = np.arccos(hvec_aphophis @ [0, 0, 1] / h_aphophis) * rad2deg # [0, 0, 1] es el vector z unitario\n",
        "\n",
        "# Longitud del nodo ascendente\n",
        "Omegap_aphophis = np.arccos(nvec_aphophis @ [1, 0, 0] / n_aphophis) # [1, 0, 0] es el vector x unitario\n",
        "Omega_aphophis = (Omegap_aphophis if nvec_aphophis[1] >= 0 \n",
        "                  else 2 * np.pi - Omegap_aphophis)\n",
        "Omega_aphophis *= rad2deg\n",
        "\n",
        "# Argumento del periapsis\n",
        "omegap_aphophis = np.arccos(\n",
        "    evec_aphophis @ nvec_aphophis / (e_aphophis * n_aphophis))\n",
        "omega_aphophis = (omegap_aphophis if evec_aphophis[2] >= 0 \n",
        "                  else 2 * np.pi - omegap_aphophis)\n",
        "omega_aphophis *= rad2deg\n",
        "\n",
        "# Anomalía verdadera\n",
        "fp_aphophis = np.arccos(\n",
        "    evec_aphophis @ X0_aphophis / (e_aphophis * X0_aphophis_norm))\n",
        "f_aphophis = (fp_aphophis if X0_aphophis @ V0_aphophis > 0 \n",
        "              else 2 * np.pi - fp_aphophis)\n",
        "f_aphophis *= rad2deg\n",
        "\n",
        "# Semilatus rectum\n",
        "p_aphophis = h_aphophis**2 / mu"
      ]
    },
    {
      "cell_type": "markdown",
      "metadata": {},
      "source": [
        "Creemos un dataframe con los elementos orbitales para Apophis"
      ]
    },
    {
      "cell_type": "code",
      "execution_count": 34,
      "metadata": {},
      "outputs": [
        {
          "data": {
            "text/html": [
              "<div>\n",
              "<style scoped>\n",
              "    .dataframe tbody tr th:only-of-type {\n",
              "        vertical-align: middle;\n",
              "    }\n",
              "\n",
              "    .dataframe tbody tr th {\n",
              "        vertical-align: top;\n",
              "    }\n",
              "\n",
              "    .dataframe thead th {\n",
              "        text-align: right;\n",
              "    }\n",
              "</style>\n",
              "<table border=\"1\" class=\"dataframe\">\n",
              "  <thead>\n",
              "    <tr style=\"text-align: right;\">\n",
              "      <th></th>\n",
              "      <th>Elementos orbitales Aphophis</th>\n",
              "    </tr>\n",
              "  </thead>\n",
              "  <tbody>\n",
              "    <tr>\n",
              "      <th>e</th>\n",
              "      <td>0.191443</td>\n",
              "    </tr>\n",
              "    <tr>\n",
              "      <th>I</th>\n",
              "      <td>3.339301</td>\n",
              "    </tr>\n",
              "    <tr>\n",
              "      <th>Omega</th>\n",
              "      <td>203.957180</td>\n",
              "    </tr>\n",
              "    <tr>\n",
              "      <th>omega</th>\n",
              "      <td>126.604463</td>\n",
              "    </tr>\n",
              "    <tr>\n",
              "      <th>f</th>\n",
              "      <td>109.927880</td>\n",
              "    </tr>\n",
              "    <tr>\n",
              "      <th>p</th>\n",
              "      <td>0.888905</td>\n",
              "    </tr>\n",
              "  </tbody>\n",
              "</table>\n",
              "</div>"
            ],
            "text/plain": [
              "       Elementos orbitales Aphophis\n",
              "e                          0.191443\n",
              "I                          3.339301\n",
              "Omega                    203.957180\n",
              "omega                    126.604463\n",
              "f                        109.927880\n",
              "p                          0.888905"
            ]
          },
          "execution_count": 34,
          "metadata": {},
          "output_type": "execute_result"
        }
      ],
      "source": [
        "# Creando el DataFrame\n",
        "data = {\n",
        "    \"Elementos orbitales Aphophis\": [\n",
        "        e_aphophis, I_aphophis, Omega_aphophis,\n",
        "        omega_aphophis, f_aphophis, p_aphophis\n",
        "    ]\n",
        "}\n",
        "\n",
        "#Modificando los indices del DataFrame\n",
        "indices = [\"e\", \"I\", \"Omega\", \"omega\", \"f\", \"p\"]\n",
        "df = pd.DataFrame(data, index=indices)\n",
        "\n",
        "df"
      ]
    },
    {
      "cell_type": "markdown",
      "metadata": {},
      "source": [
        "### Encontremos los elementos orbitales de la tierra"
      ]
    },
    {
      "cell_type": "markdown",
      "metadata": {},
      "source": [
        "#### Primero calculemos los vectores clave del sistema"
      ]
    },
    {
      "cell_type": "code",
      "execution_count": 35,
      "metadata": {},
      "outputs": [],
      "source": [
        "# Calculamos el M.A.R.E\n",
        "hvec_earth = np.cross(X0_earth, V0_earth)\n",
        "h_earth = np.linalg.norm(hvec_earth)\n",
        "\n",
        "# Calculando el vector nodal\n",
        "nvec_earth = np.cross([0, 0, 1], hvec_earth)  # [0, 0, 1] es el vector x unitario\n",
        "n_earth = np.linalg.norm(nvec_earth)\n"
      ]
    },
    {
      "cell_type": "markdown",
      "metadata": {},
      "source": [
        "A partir de estos vectores podemos calcular los elementos orbitales para apophis"
      ]
    },
    {
      "cell_type": "code",
      "execution_count": 36,
      "metadata": {},
      "outputs": [],
      "source": [
        "# Calculando el vector de Laplace\n",
        "evec_earth = (np.cross(V0_earth, hvec_earth) / mu -\n",
        "                 X0_earth / X0_earth_norm)\n",
        "e_earth = np.linalg.norm(evec_earth)  # Excentricidad\n",
        "\n",
        "# Inclinación\n",
        "I_earth = np.arccos(hvec_earth @ [0, 0, 1] / h_earth) * rad2deg # [0, 0, 1] es el vector z unitario\n",
        "\n",
        "# Longitud del nodo ascendente\n",
        "Omegap_earth = np.arccos(nvec_earth @ [1, 0, 0] / n_earth) # [1, 0, 0] es el vector x unitario\n",
        "Omega_earth = (Omegap_earth if nvec_earth[1] >= 0 \n",
        "                  else 2 * np.pi - Omegap_earth)\n",
        "Omega_earth *= rad2deg\n",
        "\n",
        "# Argumento del periapsis\n",
        "omegap_earth = np.arccos(\n",
        "    evec_earth @ nvec_earth / (e_earth * n_earth))\n",
        "omega_earth = (omegap_earth if evec_earth[2] >= 0 \n",
        "                  else 2 * np.pi - omegap_earth)\n",
        "omega_earth *= rad2deg\n",
        "\n",
        "# Anomalía verdadera\n",
        "fp_earth = np.arccos(\n",
        "    evec_earth @ X0_earth / (e_earth * X0_earth_norm))\n",
        "f_earth = (fp_earth if X0_earth @ V0_earth > 0 \n",
        "              else 2 * np.pi - fp_earth)\n",
        "f_earth *= rad2deg\n",
        "\n",
        "# Semilatus rectum\n",
        "p_earth = h_earth**2 / mu\n"
      ]
    },
    {
      "cell_type": "markdown",
      "metadata": {},
      "source": [
        "Creemos un dataframe con los elementos orbitales para la tierra"
      ]
    },
    {
      "cell_type": "code",
      "execution_count": 37,
      "metadata": {},
      "outputs": [
        {
          "data": {
            "text/html": [
              "<div>\n",
              "<style scoped>\n",
              "    .dataframe tbody tr th:only-of-type {\n",
              "        vertical-align: middle;\n",
              "    }\n",
              "\n",
              "    .dataframe tbody tr th {\n",
              "        vertical-align: top;\n",
              "    }\n",
              "\n",
              "    .dataframe thead th {\n",
              "        text-align: right;\n",
              "    }\n",
              "</style>\n",
              "<table border=\"1\" class=\"dataframe\">\n",
              "  <thead>\n",
              "    <tr style=\"text-align: right;\">\n",
              "      <th></th>\n",
              "      <th>Elementos orbitales earth</th>\n",
              "    </tr>\n",
              "  </thead>\n",
              "  <tbody>\n",
              "    <tr>\n",
              "      <th>e</th>\n",
              "      <td>0.016901</td>\n",
              "    </tr>\n",
              "    <tr>\n",
              "      <th>I</th>\n",
              "      <td>0.002396</td>\n",
              "    </tr>\n",
              "    <tr>\n",
              "      <th>Omega</th>\n",
              "      <td>217.128706</td>\n",
              "    </tr>\n",
              "    <tr>\n",
              "      <th>omega</th>\n",
              "      <td>244.908643</td>\n",
              "    </tr>\n",
              "    <tr>\n",
              "      <th>f</th>\n",
              "      <td>200.432183</td>\n",
              "    </tr>\n",
              "    <tr>\n",
              "      <th>p</th>\n",
              "      <td>0.999646</td>\n",
              "    </tr>\n",
              "  </tbody>\n",
              "</table>\n",
              "</div>"
            ],
            "text/plain": [
              "       Elementos orbitales earth\n",
              "e                       0.016901\n",
              "I                       0.002396\n",
              "Omega                 217.128706\n",
              "omega                 244.908643\n",
              "f                     200.432183\n",
              "p                       0.999646"
            ]
          },
          "execution_count": 37,
          "metadata": {},
          "output_type": "execute_result"
        }
      ],
      "source": [
        "# Creando el DataFrame\n",
        "data = {\n",
        "    \"Elementos orbitales earth\": [\n",
        "        e_earth, I_earth, Omega_earth,\n",
        "        omega_earth, f_earth, p_earth\n",
        "    ]\n",
        "}\n",
        "\n",
        "# Modificando los indices del DataFrame\n",
        "indices = [\"e\", \"I\", \"Omega\", \"omega\", \"f\", \"p\"]\n",
        "df = pd.DataFrame(data, index=indices)\n",
        "\n",
        "df"
      ]
    },
    {
      "cell_type": "markdown",
      "metadata": {},
      "source": [
        "### 3. Usando los elementos orbitales de ambos cuerpos determine la mínima distancia a la que se encontarán ambas órbitas en cualquier momento del futuro. A esta distancia se la llama MOID, por el acrónimo en inglés *Minimum orbital intersection distance*.\n",
        "\n",
        "### 4. Para saber cuándo se producirá la máxima aproximación entre los dos cuerpos es necesario sin embargo resolver el problema de los dos cuerpos en el tiempo. Para ello use la ecuación de Kepler y los métodos aprendidos en clase para propagar hacia el futuro la posición de la Tierra y del asteroide en el tiempo y determinar la fecha, hora y distancia de la próxima aproximación. Para ello avance primero de mes en mes por ejemplo, y luego, cerca a la aproximación máxima, de día en día, de hora en hora, hasta encontrar el punto de mínima distancia. ¿En qué fecha, hora y distancia predice usted que se producirá la máxima aproximación?"
      ]
    },
    {
      "cell_type": "markdown",
      "metadata": {},
      "source": [
        "#### Para realizar este proceso, primero voy a realizar una o varias funciones que me calcule el vector de estado final, dados los elementos orbitales el tiempo inicial y final"
      ]
    },
    {
      "cell_type": "markdown",
      "metadata": {},
      "source": [
        "##### Funciones auxiliares"
      ]
    },
    {
      "cell_type": "code",
      "execution_count": 38,
      "metadata": {},
      "outputs": [],
      "source": [
        "def true_anomaly(jd, jdf, e, f, p, mu):\n",
        "    \"\"\"\n",
        "    Calcula la anomalía verdadera.\n",
        "\n",
        "    Args:\n",
        "    - jd : día juliano inicial\n",
        "    - jdf : ía juliano final\n",
        "    - e (float): Excentricidad\n",
        "    - f (float): Anomalía verdadera inicial\n",
        "    - p (float): Semi-latus rectum\n",
        "    - mu (float): Parámetro gravitacional\n",
        "\n",
        "    Returns:\n",
        "    float: Anomalía verdadera\n",
        "    \"\"\"\n",
        "    # Distancia del centro de la conica al periapsis\n",
        "    a = p / (1 - e**2)\n",
        "\n",
        "    # Velocidad angular promedio\n",
        "    n = (mu / abs(a**3))**0.5\n",
        "\n",
        "    # Si f > 180°, entonces E es su complementario\n",
        "    Ep = 2 * np.arctan(np.sqrt((1 - e) / (1 + e)) * np.tan(f * deg2rad / 2))\n",
        "    E = Ep if f <= 180 else 2 * np.pi + Ep\n",
        "\n",
        "    # M = E - e sin E\n",
        "    M = E - e * np.sin(E)\n",
        "    M = M * rad2deg\n",
        "\n",
        "    # Condiciones finales\n",
        "    Mf = M + n * (jdf - jd)\n",
        "    Ef, error, niter = pc.kepler_newton(Mf * deg2rad, e, delta=1e-14)\n",
        "\n",
        "    # Anomalía verdadera final\n",
        "    ffp = 2 * np.arctan(np.sqrt((1 + e) / (1 - e)) * np.tan(Ef / 2))\n",
        "    ff = ffp if ffp > 0 else 2 * np.pi + ffp\n",
        "    return ff\n",
        "\n",
        "\n",
        "def state_natural_system(p, f, e, mu, h):\n",
        "    \"\"\"\n",
        "    Vector de estado en el sistema natural de la cónica.\n",
        "\n",
        "    Args:\n",
        "    - p (float): Semi-latus rectum\n",
        "    - f (float): Anomalía verdadera inicial\n",
        "    - e (float): Excentricidad\n",
        "    - mu (float): Parámetro gravitacional\n",
        "    - h (float): magnitud del M.A.R.E\n",
        "\n",
        "    Returns:\n",
        "    tuple: (vector de posición, vector de velocidad)\n",
        "    \"\"\"\n",
        "    r = p / (1 + e * np.cos(f))\n",
        "    xppp = r * np.cos(f)\n",
        "    yppp = r * np.sin(f)\n",
        "    zppp = 0\n",
        "    rvec = np.array([xppp, yppp, zppp])\n",
        "\n",
        "    vxppp = -mu / h * np.sin(f)\n",
        "    vyppp = mu / h * (e + np.cos(f))\n",
        "    vzppp = 0\n",
        "    vvec = np.array([vxppp, vyppp, vzppp])\n",
        "\n",
        "    return rvec, vvec\n",
        "\n",
        "\n",
        "def natural2coordinate(Omega, I, w, r_vecppp, v_vecppp):\n",
        "    \"\"\"\n",
        "    Transformación de coordenadas del sistema natural de la conica al sistema coordenado inicial.\n",
        "\n",
        "    Args:\n",
        "    - Omega (float): Longitud del nodo ascendente\n",
        "    - I (float): Inclinación\n",
        "    - w (float): Argumento del periapsis\n",
        "    - r_vecppp (array): vector posición en el sistema natural de la conica\n",
        "    - v_vecppp (array): vector velocidad en el sistema natural de la conica\n",
        "\n",
        "    Returns:\n",
        "    tuple: (vector de posición, vector de velocidad)\n",
        "    \"\"\"\n",
        "    # Matriz de rotación inversa\n",
        "    Minv = spy.eul2m(-Omega * deg2rad, -I * deg2rad, -w * deg2rad, 3, 1, 3)\n",
        "\n",
        "    # Producto matriz vector\n",
        "    rvec = spy.mxv(Minv, r_vecppp)\n",
        "    vvec = spy.mxv(Minv, v_vecppp)\n",
        "\n",
        "    # Llevandolo a au/day\n",
        "    vvec = vvec * UV / (au / day)\n",
        "\n",
        "    return rvec, vvec"
      ]
    },
    {
      "cell_type": "markdown",
      "metadata": {},
      "source": [
        "#### Ya con estás funciones auxiliares podemos hacer la función que precide la posición del cuerpo dados los tiempos y los parámetros orbitales"
      ]
    },
    {
      "cell_type": "code",
      "execution_count": 39,
      "metadata": {},
      "outputs": [],
      "source": [
        "def prediccion(jd, jdf, e, I, Omega, w, f, p, mu, h):\n",
        "    \"\"\"\n",
        "    Realiza una predicción basada en los argumentos proporcionados.\n",
        "\n",
        "    Args:\n",
        "    - jd (float): día juliano inicial.\n",
        "    - jdf (float): día juliano final.\n",
        "    - e (float): Excentricidad.\n",
        "    - I (float): Inclinación.\n",
        "    - Omega (float): Longitud del nodo ascendente.\n",
        "    - w (float): Argumento de periapsis.\n",
        "    - f (float): Anomalía verdadera.\n",
        "    - p (float): Semi-latus rectum.\n",
        "    - mu (float): Parámetro gravitacional.\n",
        "    - h (float): magnitud del M.A.R.E.\n",
        "\n",
        "    Returns:\n",
        "    tuple: (vector de posición (en el sistema inicial), vector de velocidad(en el sistema inicial))\n",
        "    \"\"\"\n",
        "    # Calculamos la anomalía verdadera\n",
        "    ff = true_anomaly(jd, jdf, e, f, p, mu)\n",
        "\n",
        "    # Vector de estado en el sistema natural de la cónica\n",
        "    r_vecppp, v_vecppp = state_natural_system(p, ff, e, mu, h)\n",
        "\n",
        "    # Transformación al sistema coordenado inicial\n",
        "    rvec, vvec = natural2coordinate(Omega, I, w, r_vecppp, v_vecppp)\n",
        "\n",
        "    return rvec, vvec\n"
      ]
    },
    {
      "cell_type": "markdown",
      "metadata": {},
      "source": [
        "#### Ya con esta función podemos ir variando el tiempo por horas, para así encontrar la posición de aphophis y la tierra en el tiempo, con esto podemos hallar el vector relativo cuya magnitud nos permite saber cual es la distancia entre la tierra y apophis en el tiempo, para finalmente hallar cual es la menor distancia entre estos cuerpos y además cuando se produce esta aproximación"
      ]
    },
    {
      "cell_type": "code",
      "execution_count": 40,
      "metadata": {},
      "outputs": [],
      "source": [
        "#Definamos el intervalo de tiempo de estudio\n",
        "step = 1/24 # Hora a día\n",
        "increment = 365.25*10  # Número años en días\n",
        "t_study = np.arange(jd, jd + increment,step)\n",
        "\n",
        "dic={'time_jd':[], 'distance_earth_apophis':[]}\n",
        "\n",
        "for jdf in t_study:\n",
        "\n",
        "    # Veamos el vector de estado para final para aphophis\n",
        "    rvec_aphophis, vvec_aphophis = prediccion(jd, jdf, e_aphophis, I_aphophis, Omega_aphophis, omega_aphophis, f_aphophis, p_aphophis, mu, h_aphophis)\n",
        "\n",
        "    # Veamos el vector de estado para final para earth\n",
        "    rvec_earth, vvec_earth = prediccion(jd, jdf, e_earth, I_earth, Omega_earth, omega_earth, f_earth, p_earth, mu, h_earth)\n",
        "    \n",
        "    # Vector relativo entre aphophis y la tierra \n",
        "    relative_vector = rvec_aphophis-rvec_earth\n",
        "\n",
        "    # Norma del vector relativo (distancia entre los cuerpos)\n",
        "    distance = np.linalg.norm(relative_vector)\n",
        "\n",
        "    #Añadiendo la información al diccionario\n",
        "    dic['time_jd'].append(jdf)\n",
        "    dic['distance_earth_apophis'].append(distance)"
      ]
    },
    {
      "cell_type": "markdown",
      "metadata": {},
      "source": [
        "Con lo anterior tenemos un diccionario con información en el tiempo de la distancia entre aphophis y la Tierra, entonces lo unico que queda es encontrar el minimo de distancia y en que fecha de produjo"
      ]
    },
    {
      "cell_type": "code",
      "execution_count": 41,
      "metadata": {},
      "outputs": [
        {
          "name": "stderr",
          "output_type": "stream",
          "text": [
            "/home/clickgreen/celestial_mechanics/.venv/lib/python3.10/site-packages/erfa/core.py:154: ErfaWarning: ERFA function \"d2dtf\" yielded 1 of \"dubious year (Note 5)\"\n",
            "  warnings.warn('ERFA function \"{}\" yielded {}'.format(func_name, wmsg),\n"
          ]
        }
      ],
      "source": [
        "# Encontremos el mínimo de distancia\n",
        "min_distance = min(dic['distance_earth_apophis'])\n",
        "\n",
        "# Veamos en que día juliano se produce esta menor distancia\n",
        "day_min_distance = dic['time_jd'][dic['distance_earth_apophis'].index(min_distance)]\n",
        "\n",
        "# Ya teniendo el día juliano podemos convertirlo a formato de fecha\n",
        "fecha = Time(day_min_distance, format='jd')\n",
        "fecha = fecha.iso  # Representación en formato ISO (AAAA-MM-DD HH:MM:SS.sss)"
      ]
    },
    {
      "cell_type": "code",
      "execution_count": 42,
      "metadata": {},
      "outputs": [
        {
          "data": {
            "text/html": [
              "<div>\n",
              "<style scoped>\n",
              "    .dataframe tbody tr th:only-of-type {\n",
              "        vertical-align: middle;\n",
              "    }\n",
              "\n",
              "    .dataframe tbody tr th {\n",
              "        vertical-align: top;\n",
              "    }\n",
              "\n",
              "    .dataframe thead th {\n",
              "        text-align: right;\n",
              "    }\n",
              "</style>\n",
              "<table border=\"1\" class=\"dataframe\">\n",
              "  <thead>\n",
              "    <tr style=\"text-align: right;\">\n",
              "      <th></th>\n",
              "      <th>Mínima Distancia (Km)</th>\n",
              "      <th>Fecha de Aproximación</th>\n",
              "    </tr>\n",
              "  </thead>\n",
              "  <tbody>\n",
              "    <tr>\n",
              "      <th>0</th>\n",
              "      <td>3352200.295</td>\n",
              "      <td>2029-03-13 11:59:59</td>\n",
              "    </tr>\n",
              "  </tbody>\n",
              "</table>\n",
              "</div>"
            ],
            "text/plain": [
              "  Mínima Distancia (Km) Fecha de Aproximación\n",
              "0           3352200.295   2029-03-13 11:59:59"
            ]
          },
          "execution_count": 42,
          "metadata": {},
          "output_type": "execute_result"
        }
      ],
      "source": [
        "# Creando el dataframe con la información\n",
        "df = pd.DataFrame({\n",
        "    'Mínima Distancia (Km)': [f\"{min_distance*au2km:.3f}\"], \n",
        "    'Fecha de Aproximación': [fecha.split('.')[0]]\n",
        "})\n",
        "\n",
        "df"
      ]
    },
    {
      "cell_type": "markdown",
      "metadata": {},
      "source": [
        "En el dataframe anterior se puede observar la minima distancia y la fecha en la que se produce esta"
      ]
    },
    {
      "cell_type": "markdown",
      "metadata": {},
      "source": [
        "### 5. Una vez encontrada la fecha y hora de la aproximación obtenida con el problema exclusivamente con la solución analítica del problema de los dos cuerpos (la que estamos viendo aquí), compárela con la que se obtiene recuperando de astroquery las posiciones de la Tierra y Apophis desde su cumpleaños hacia el futuro. Es decir, repita el procedimiento anterior, pero en lugar de obtener las posiciones a partir de la teoría del problema de los dos cuerpos, recupere las posiciones usando astroquery.  ¿Qué tan diferentes son los resultados de este procedimiento y del anterior? ¿podría explicar las discrepancias?"
      ]
    },
    {
      "cell_type": "markdown",
      "metadata": {},
      "source": [
        "Obtengamos la información de la posicion para aphophis y la tierra"
      ]
    },
    {
      "cell_type": "code",
      "execution_count": 43,
      "metadata": {},
      "outputs": [],
      "source": [
        "# Para Apophis\n",
        "data_aphophis=Horizons(\n",
        "    id='2004 MN4', location='@sun',\n",
        "    epochs={'start': '2023-07-06', 'stop': '2033-07-06', 'step': '1h'}\n",
        ").vectors().to_pandas()\n",
        "\n",
        "#Para la Tierra\n",
        "data_earth=Horizons(\n",
        "    id='399', location='@sun',\n",
        "    epochs={'start': '2023-07-06', 'stop': '2033-07-06', 'step': '1h'}\n",
        ").vectors().to_pandas()"
      ]
    },
    {
      "cell_type": "markdown",
      "metadata": {},
      "source": [
        "generemos matrices con esta información \n"
      ]
    },
    {
      "cell_type": "code",
      "execution_count": 44,
      "metadata": {},
      "outputs": [],
      "source": [
        "# Posiciones para apophis\n",
        "\n",
        "rvecs_aphophis = data_aphophis[['x', 'y', 'z']].to_numpy()\n",
        "\n",
        "rvecs_earth = data_earth[['x', 'y', 'z']].to_numpy()\n",
        "\n",
        "# Veamos la magnitud del vector relativo \n",
        "\n",
        "distance = list(np.linalg.norm(rvecs_aphophis - rvecs_earth, axis=1))\n"
      ]
    },
    {
      "cell_type": "code",
      "execution_count": 45,
      "metadata": {},
      "outputs": [],
      "source": [
        "# Encontremos el mínimo de distancia\n",
        "min_distance = min(distance)\n",
        "\n",
        "# Veamos en que fecha se produce esta menor distancia\n",
        "day_min_distance=data_aphophis.loc[distance.index(min_distance), 'datetime_str'] "
      ]
    },
    {
      "cell_type": "code",
      "execution_count": 46,
      "metadata": {},
      "outputs": [
        {
          "data": {
            "text/html": [
              "<div>\n",
              "<style scoped>\n",
              "    .dataframe tbody tr th:only-of-type {\n",
              "        vertical-align: middle;\n",
              "    }\n",
              "\n",
              "    .dataframe tbody tr th {\n",
              "        vertical-align: top;\n",
              "    }\n",
              "\n",
              "    .dataframe thead th {\n",
              "        text-align: right;\n",
              "    }\n",
              "</style>\n",
              "<table border=\"1\" class=\"dataframe\">\n",
              "  <thead>\n",
              "    <tr style=\"text-align: right;\">\n",
              "      <th></th>\n",
              "      <th>Mínima Distancia (Km)</th>\n",
              "      <th>Fecha de Aproximación</th>\n",
              "    </tr>\n",
              "  </thead>\n",
              "  <tbody>\n",
              "    <tr>\n",
              "      <th>0</th>\n",
              "      <td>38410.680</td>\n",
              "      <td>2029-Apr-13 22:00:00</td>\n",
              "    </tr>\n",
              "  </tbody>\n",
              "</table>\n",
              "</div>"
            ],
            "text/plain": [
              "  Mínima Distancia (Km)  Fecha de Aproximación\n",
              "0             38410.680   2029-Apr-13 22:00:00"
            ]
          },
          "execution_count": 46,
          "metadata": {},
          "output_type": "execute_result"
        }
      ],
      "source": [
        "# Hagamos un dataframe con esta información\n",
        "df = pd.DataFrame({\n",
        "    'Mínima Distancia (Km)': [f\"{min_distance*au2km:.3f}\"], \n",
        "    'Fecha de Aproximación': [day_min_distance.split('.')[2]]\n",
        "})\n",
        "\n",
        "df"
      ]
    },
    {
      "cell_type": "markdown",
      "metadata": {},
      "source": [
        "Ahora ya tenemos las dos fechas y hora de máxima aproximación de apophis a la tierra, y nos podemos dar de cuenta que hay una diferencia de un mes, esta diferencia puede ser debida a varios motivos:\n",
        "- El principal es que para el primer modelo con los parámetros orbitales se esta teniendo la orbita osculatris de ambos cuerpos, pero ya sabemos que en realidad esto solo es correcto en un problema de 2 cuerpos, pero el sistema solar es un problema de n cuerpos.\n",
        "\n",
        "- Al ser un problema de n cuerpos los parámetros orbitales van cambiando aunque sea poco \n",
        "\n",
        "- A medida que se realizan los procedimientos algunas constantes se aproximan como el valor de $\\mu$, y también se van propagando errores "
      ]
    },
    {
      "cell_type": "markdown",
      "metadata": {},
      "source": [
        "### Extras"
      ]
    },
    {
      "cell_type": "markdown",
      "metadata": {},
      "source": [
        "Hagamos un gráfico de distancia entre aphophis y la tierra en el tiempo, con los dos metodos vistos en este notebook: Por medio de parámetros orbitales y por medio de Astroquery"
      ]
    },
    {
      "cell_type": "code",
      "execution_count": 47,
      "metadata": {},
      "outputs": [
        {
          "name": "stderr",
          "output_type": "stream",
          "text": [
            "/home/clickgreen/celestial_mechanics/.venv/lib/python3.10/site-packages/erfa/core.py:154: ErfaWarning: ERFA function \"d2dtf\" yielded 1 of \"dubious year (Note 5)\"\n",
            "  warnings.warn('ERFA function \"{}\" yielded {}'.format(func_name, wmsg),\n"
          ]
        },
        {
          "data": {
            "image/png": "[encoded data removed]",
            "text/plain": [
              "<Figure size 1000x800 with 2 Axes>"
            ]
          },
          "metadata": {},
          "output_type": "display_data"
        }
      ],
      "source": [
        "# Definir los datos iniciales\n",
        "jd_dates = dic['time_jd']\n",
        "converted_dates = [Time(jd, format='jd').iso for jd in jd_dates]\n",
        "\n",
        "# Crear una figura con dos subplots (dos gráficos en un layout vertical)\n",
        "fig, (ax1, ax2) = plt.subplots(2, 1, figsize=(10, 8))\n",
        "\n",
        "# Gráfico 1: Distancia Tierra-Apophis basado en parámetros orbitales\n",
        "ax1.plot(converted_dates[::30], dic['distance_earth_apophis'][::30])\n",
        "ax1.set_title('Con parámetros orbitales')\n",
        "ax1.set_xlabel('Fecha')\n",
        "ax1.set_ylabel('Distancia (AU)')\n",
        "\n",
        "# Ajuste de las etiquetas del eje x del primer gráfico para mejorar la legibilidad\n",
        "locs1, labels1 = ax1.get_xticks(), ax1.get_xticklabels()\n",
        "selected_locs1 = locs1[::len(locs1)//7][:7]\n",
        "selected_labels1 = [label.get_text().split(\" \")[0] for label in labels1[::len(locs1)//7][:7]]\n",
        "ax1.set_xticks(selected_locs1)\n",
        "ax1.set_xticklabels(selected_labels1, rotation=45)\n",
        "\n",
        "# Gráfico 2: Distancia Tierra-Apophis basado en datos de Astroquery\n",
        "\n",
        "# Reducir la cantidad de datos en un factor de 30\n",
        "reduced_dates = data_aphophis['datetime_str'][::30]\n",
        "reduced_distance = distance[::30]\n",
        "\n",
        "ax2.plot(reduced_dates, reduced_distance,color='red')\n",
        "ax2.set_title('Con Astroquery')\n",
        "ax2.set_xlabel('Fecha')\n",
        "ax2.set_ylabel('Distancia (AU)')\n",
        "\n",
        "# Ajuste de las etiquetas del eje x del segundo gráfico para mejorar la legibilidad\n",
        "locs2, labels2 = ax2.get_xticks(), ax2.get_xticklabels()\n",
        "selected_locs2 = locs2[::len(locs2)//7][:7]\n",
        "selected_labels2 = [label.get_text().split(\" \")[1] for label in labels2[::len(locs2)//7][:7]]\n",
        "ax2.set_xticks(selected_locs2)\n",
        "ax2.set_xticklabels(selected_labels2, rotation=45)\n",
        "\n",
        "# Ajuste del layout para evitar superposición de elementos en el gráfico\n",
        "plt.tight_layout()\n",
        "\n",
        "# Título principal de la figura\n",
        "plt.suptitle('Distancia Tierra-Apophis en el tiempo', fontweight='bold', y=1.02)\n",
        "\n",
        "# Mostrar el gráfico\n",
        "plt.show()\n"
      ]
    },
    {
      "cell_type": "markdown",
      "metadata": {},
      "source": [
        "Apenas se pueden observar diferencias en el comportamiento con los datos de la distancia obtenidos por parámetros orbitales y los obtenidos por los datos oficiales de Astroquery"
      ]
    }
  ],
  "metadata": {
    "colab": {
      "provenance": []
    },
    "kernelspec": {
      "display_name": "Python 3",
      "name": "python3"
    },
    "language_info": {
      "codemirror_mode": {
        "name": "ipython",
        "version": 3
      },
      "file_extension": ".py",
      "mimetype": "text/x-python",
      "name": "python",
      "nbconvert_exporter": "python",
      "pygments_lexer": "ipython3",
      "version": "3.10.12"
    }
  },
  "nbformat": 4,
  "nbformat_minor": 0
}
