{
  "cells": [
    {
      "cell_type": "markdown",
      "metadata": {
        "id": "6XE49aAfGdAu"
      },
      "source": [
        "<p>\n",
        "<img src=\"https://drive.google.com/uc?id=1ZHUKcwzA5c-PKUwoGmBG3TsHk6TmZ-Y0\" align=\"left\" width=\"250\">\n",
        "</p>\n",
        "<p>\n",
        "<h1><b><center>Mecánica Celeste</center></b></h1>\n",
        "<h2><b><center>Prof. Jorge I. Zuluaga</center></b></h1>\n",
        "<h2><b><center>Tarea 3</center></b><h2>\n",
        "<h3><b><center>La aproximación de Apophis</center></b><h3>\n",
        "<h5><center><b>Asignada</b>: 19 de Septiembre de 2023</center><h5>\n",
        "<h5><center><b>Entrega</b>: 3 de Octubre de 2023</center><h5>\n",
        "</p>"
      ]
    },
    {
      "cell_type": "markdown",
      "metadata": {
        "id": "DZ3br0tlHiUH"
      },
      "source": [
        "<hr/>\n",
        "<b>Nombre</b>:\n",
        "<br/>\n",
        "<b>Cédula</b>:\n",
        "<br/>\n",
        "<b>Última actualización</b>:\n",
        "<hr/>"
      ]
    },
    {
      "cell_type": "markdown",
      "metadata": {
        "id": "32KKSLFEHYpg"
      },
      "source": [
        "## Enunciado"
      ]
    },
    {
      "cell_type": "markdown",
      "metadata": {
        "id": "BJv9-ZZAIUgW"
      },
      "source": [
        "**Objetivo**: El objetivo de esta tarea es utilizar la solución analítica del problema de los dos cuerpos para estudiar la aproximación del asteroide peligroso **99942 Apophis (2004 MN4)** durante el 13 de abril del año 2029.\n",
        "\n",
        "**Procedimiento**:\n",
        "\n",
        "1. Obtenga el vector de estado del asteroide Apophis el día de su cumpleaños en 2023 a las 00:00:00 UTC con respecto al Sol, así como el vector de estado de la Tierra respecto al mismo sistema de referencia.\n",
        "\n",
        "2. Determine los elementos orbitales del asteroide y los elementos órbitales osculatrices de la Tierra usando el procedimiento aprendido en clase. Estos elementos orbitales serán los que usará a partir de ahora en todos los cálculos que use la teoría del problema de los dos cuerpos. Es importante que use el procedimiento en clase en lugar de obtener simplemente los elementos de astroquery.\n",
        "\n",
        "3. Usando los elementos orbitales de ambos cuerpos determine la mínima distancia a la que se encontarán ambas órbitas en cualquier momento del futuro. A esta distancia se la llama MOID, por el acrónimo en inglés *Minimum orbital intersection distance*.\n",
        "\n",
        "4. Para saber cuándo se producirá la máxima aproximación entre los dos cuerpos es necesario sin embargo resolver el problema de los dos cuerpos en el tiempo. Para ello use la ecuación de Kepler y los métodos aprendidos en clase para propagar hacia el futuro la posición de la Tierra y del asteroide en el tiempo y determinar la fecha, hora y distancia de la próxima aproximación. Para ello avance primero de mes en mes por ejemplo, y luego, cerca a la aproximación máxima, de día en día, de hora en hora, hasta encontrar el punto de mínima distancia. ¿En qué fecha, hora y distancia predice usted que se producirá la máxima aproximación?\n",
        "\n",
        "5. Una vez encontrada la fecha y hora de la aproximación obtenida con el problema exclusivamente con la solución analítica del problema de los dos cuerpos (la que estamos viendo aquí), compárela con la que se obtiene recuperando de astroquery las posiciones de la Tierra y Apophis desde su cumpleaños hacia el futuro. Es decir, repita el procedimiento anterior, pero en lugar de obtener las posiciones a partir de la teoría del problema de los dos cuerpos, recupere las posiciones usando astroquery.  ¿Qué tan diferentes son los resultados de este procedimiento y del anterior? ¿podría explicar las discrepancias?"
      ]
    },
    {
      "cell_type": "markdown",
      "metadata": {
        "id": "NI1EmWvOa_o2"
      },
      "source": [
        "**Resultados esperados**:\n",
        "\n",
        "- Este notebook con el procedimiento debidamente comentado.\n",
        "\n",
        "- Datos mínimos:\n",
        "  - MOID de la órbita de Apophis y de la Tierra calculado con la teoría del problema de los 2 cuerpos.\n",
        "  - Fecha, hora y distancia mínima de aproximación calculado con la teoría del problema de los 2 cuerpos.\n",
        "  - Fecha, hora y distancia mínima de aproximación calculado con los datos obtenidos de Astroqery.\n",
        "\n",
        "- Gráficos mínimos:\n",
        "  - Distancia entre Apophis y la Tierra como función del tiempo desde la fecha de nacimiento hasta la máxima aproximación, calculada con la teoría del problema de los dos cuerpos y con los datos de Astroquery.\n",
        "\n",
        "- Gráficos opcionales:\n",
        "  - Animaciones de la aproximación.\n",
        "\n",
        "- En caso de utilizar ayudas como `ChatGPT` o códigos de `Stack Over Flow` debe citar debidamente la fuente, pero también entender a cabalidad el código, el profesor puede pedir justificación."
      ]
    },
    {
      "cell_type": "markdown",
      "metadata": {},
      "source": [
        "instalemos las librerias necesarias:"
      ]
    },
    {
      "cell_type": "code",
      "execution_count": 119,
      "metadata": {},
      "outputs": [],
      "source": [
        "# python3 -m pip install -q pymcel astroquery astropy plotly\n"
      ]
    },
    {
      "cell_type": "markdown",
      "metadata": {},
      "source": [
        "Importación de librerias:"
      ]
    },
    {
      "cell_type": "code",
      "execution_count": 120,
      "metadata": {},
      "outputs": [],
      "source": [
        "import pymcel as pc\n",
        "import numpy as np\n",
        "import pandas as pd\n",
        "import spiceypy as spy\n",
        "import matplotlib.pyplot as plt\n",
        "from astroquery.jplhorizons import Horizons\n",
        "from astropy.time import Time\n",
        "from astropy import constants as c,units as u"
      ]
    },
    {
      "cell_type": "markdown",
      "metadata": {},
      "source": [
        "Constantes:"
      ]
    },
    {
      "cell_type": "code",
      "execution_count": 121,
      "metadata": {},
      "outputs": [],
      "source": [
        "# Constante para convertir m^3 a km^3\n",
        "m3_km3 = 10**9\n",
        "\n",
        "# Gravitational constant en m^3/(kg s^2)\n",
        "G = c.G.value\n",
        "\n",
        "# Convertir GM a masa en Kg\n",
        "GM2M = 1 / (G / m3_km3)\n",
        "\n",
        "# Encontrar la masa del sol con alta precisión\n",
        "# Descargar la librería de SPICE que contiene datos necesarios\n",
        "!wget -q https://naif.jpl.nasa.gov/pub/naif/generic_kernels/pck/gm_de440.tpc -O gm_de440.tpc\n",
        "spy.furnsh('gm_de440.tpc')\n",
        "\n",
        "# Obtener la información de la masa del sol desde la base de datos de SPICE\n",
        "n, dato = spy.bodvrd('sun', 'GM', 1)\n",
        "\n",
        "# Convertir unidades\n",
        "M_sun = dato[0] * GM2M"
      ]
    },
    {
      "cell_type": "code",
      "execution_count": 122,
      "metadata": {},
      "outputs": [],
      "source": [
        "# Para pasar de grados a radianes y viceversa\n",
        "deg2rad = np.pi/180\n",
        "rad2deg = 1/deg2rad\n",
        "m3_km3= 10**9 #m^3 a km^3\n",
        "\n",
        "# factores de conversión\n",
        "day = 86400 # segundos\n",
        "au = c.au.value # metros\n",
        "G = c.G.value # m^3/(kg s^2)"
      ]
    },
    {
      "cell_type": "markdown",
      "metadata": {},
      "source": [
        "Unidades Canónicas:"
      ]
    },
    {
      "cell_type": "code",
      "execution_count": 123,
      "metadata": {},
      "outputs": [],
      "source": [
        "UL = au # m\n",
        "UM = M_sun # kg\n",
        "UT = (UL**3/(G*UM))**0.5 # segundos\n",
        "\n",
        "# Unidades derivadas\n",
        "UV = UL/UT\n",
        "\n",
        "# Entonces el mu en unidades canónicas es\n",
        "mu = 1"
      ]
    },
    {
      "cell_type": "markdown",
      "metadata": {
        "id": "J0ISSYQpHex_"
      },
      "source": [
        "## Solución"
      ]
    },
    {
      "cell_type": "markdown",
      "metadata": {},
      "source": [
        "### 1. Obtenga el vector de estado del asteroide Apophis el día de su cumpleaños en 2023 a las 00:00:00 UTC con respecto al Sol, así como el vector de estado de la Tierra respecto al mismo sistema de referencia."
      ]
    },
    {
      "cell_type": "code",
      "execution_count": 124,
      "metadata": {},
      "outputs": [
        {
          "data": {
            "text/html": [
              "<div><i>Table masked=True length=1</i>\n",
              "<table id=\"table139786242891088\" class=\"table-striped table-bordered table-condensed\">\n",
              "<thead><tr><th>targetname</th><th>datetime_jd</th><th>datetime_str</th><th>H</th><th>G</th><th>x</th><th>y</th><th>z</th><th>vx</th><th>vy</th><th>vz</th><th>lighttime</th><th>range</th><th>range_rate</th></tr></thead>\n",
              "<thead><tr><th>---</th><th>d</th><th>---</th><th>mag</th><th>---</th><th>AU</th><th>AU</th><th>AU</th><th>AU / d</th><th>AU / d</th><th>AU / d</th><th>d</th><th>AU</th><th>AU / d</th></tr></thead>\n",
              "<thead><tr><th>str24</th><th>float64</th><th>str30</th><th>float64</th><th>float64</th><th>float64</th><th>float64</th><th>float64</th><th>float64</th><th>float64</th><th>float64</th><th>float64</th><th>float64</th><th>float64</th></tr></thead>\n",
              "<tr><td>99942 Apophis (2004 MN4)</td><td>2460151.5</td><td>A.D. 2023-Jul-26 00:00:00.0000</td><td>19.09</td><td>0.24</td><td>0.1576713962490502</td><td>0.936654275657962</td><td>-0.04620787634986293</td><td>-0.01626952578813921</td><td>0.006037769768090685</td><td>-0.0007074045257305857</td><td>0.005492261852344384</td><td>0.9509556609749115</td><td>0.003283803662357464</td></tr>\n",
              "</table></div>"
            ],
            "text/plain": [
              "<Table masked=True length=1>\n",
              "       targetname        datetime_jd ...       range             range_rate     \n",
              "          ---                 d      ...         AU                AU / d       \n",
              "         str24             float64   ...      float64             float64       \n",
              "------------------------ ----------- ... ------------------ --------------------\n",
              "99942 Apophis (2004 MN4)   2460151.5 ... 0.9509556609749115 0.003283803662357464"
            ]
          },
          "execution_count": 124,
          "metadata": {},
          "output_type": "execute_result"
        }
      ],
      "source": [
        "Horizons(\n",
        "    id='2004 MN4', location='@sun', epochs=jd\n",
        ").vectors()"
      ]
    },
    {
      "cell_type": "code",
      "execution_count": 125,
      "metadata": {
        "id": "iH20o0jpHhgr"
      },
      "outputs": [],
      "source": [
        "# Mi cumpleaños en 2023 fue el 2023-07-26\n",
        "jd = Time('2023-07-26 00:00:00').jd\n",
        "# Día Juliano de mi cumpleaños en 2023\n",
        "\n",
        "# Consulta el vector de estado de Aphophis en este día\n",
        "X0_aphophis_df = Horizons(\n",
        "    id='2004 MN4', location='@sun', epochs=jd\n",
        ").vectors().to_pandas()\n",
        "\n",
        "# Construyendo nuestros vectores fila con el estado inicial de Aphophis\n",
        "X0_aphophis = np.array(X0_aphophis_df[['x','y','z']]*au/UL)[0]  # Para la posición\n",
        "X0_aphophis_norm = np.linalg.norm(X0_aphophis)  # La norma\n",
        "\n",
        "V0_aphophis = np.array(X0_aphophis_df[['vx','vy','vz']]*(au/day)/UV)[0]  # Para la velocidad\n",
        "V0_aphophis_norm = np.linalg.norm(V0_aphophis)  # La norma\n",
        "\n",
        "# Consulta el vector de estado de la tierra en este día\n",
        "X0_earth_df = Horizons(\n",
        "    id='399', location='@sun', epochs=jd\n",
        ").vectors().to_pandas()\n",
        "\n",
        "# Construyendo nuestros vectores fila con el estado inicial de Aphophis\n",
        "X0_earth = np.array(X0_earth_df[['x','y','z']]*au/UL)[0]  # Para la posición\n",
        "X0_earth_norm = np.linalg.norm(X0_earth)  # La norma\n",
        "\n",
        "V0_earth = np.array(X0_earth_df[['vx','vy','vz']]*(au/day)/UV)[0]  # Para la velocidad\n",
        "V0_earth_norm = np.linalg.norm(V0_earth)  # La norma"
      ]
    },
    {
      "cell_type": "markdown",
      "metadata": {},
      "source": [
        "### 2. Determine los elementos orbitales del asteroide y los elementos órbitales osculatrices de la Tierra usando el procedimiento aprendido en clase. Estos elementos orbitales serán los que usará a partir de ahora en todos los cálculos que use la teoría del problema de los dos cuerpos. Es importante que use el procedimiento en clase en lugar de obtener simplemente los elementos de astroquery."
      ]
    },
    {
      "cell_type": "markdown",
      "metadata": {},
      "source": [
        "### Encontremos los elementos orbitales de apophis\n"
      ]
    },
    {
      "cell_type": "markdown",
      "metadata": {},
      "source": [
        "#### Primero calculemos los vectores clave del sistema"
      ]
    },
    {
      "cell_type": "code",
      "execution_count": 126,
      "metadata": {},
      "outputs": [
        {
          "data": {
            "text/plain": [
              "0.016218441820317883"
            ]
          },
          "execution_count": 126,
          "metadata": {},
          "output_type": "execute_result"
        }
      ],
      "source": [
        "# Calculamos el M.A.R.E\n",
        "hvec_aphophis = np.cross(X0_aphophis, V0_aphophis)\n",
        "h_aphophis = np.linalg.norm(hvec_aphophis)\n",
        "\n",
        "# Calculando el vector nodal\n",
        "nvec_aphophis = np.cross([0, 0, 1], hvec_aphophis)  # [0, 0, 1] es el vector x unitario\n",
        "n_aphophis = np.linalg.norm(nvec_aphophis)\n",
        "h_aphophis"
      ]
    },
    {
      "cell_type": "markdown",
      "metadata": {},
      "source": [
        "A partir de estos vectores podemos calcular los elementos orbitales para apophis"
      ]
    },
    {
      "cell_type": "code",
      "execution_count": 127,
      "metadata": {},
      "outputs": [],
      "source": [
        "# Calculando el vector de Laplace\n",
        "evec_aphophis = (np.cross(V0_aphophis, hvec_aphophis) / mu -\n",
        "                 X0_aphophis / X0_aphophis_norm)\n",
        "e_aphophis = np.linalg.norm(evec_aphophis)  # Excentricidad\n",
        "\n",
        "# Inclinación\n",
        "I_aphophis = np.arccos(hvec_aphophis @ [0, 0, 1] / h_aphophis) * rad2deg # [0, 0, 1] es el vector z unitario\n",
        "\n",
        "# Longitud del nodo ascendente\n",
        "Omegap_aphophis = np.arccos(nvec_aphophis @ [1, 0, 0] / n_aphophis) # [1, 0, 0] es el vector x unitario\n",
        "Omega_aphophis = (Omegap_aphophis if nvec_aphophis[1] >= 0 \n",
        "                  else 2 * np.pi - Omegap_aphophis)\n",
        "Omega_aphophis *= rad2deg\n",
        "\n",
        "# Argumento del periapsis\n",
        "omegap_aphophis = np.arccos(\n",
        "    evec_aphophis @ nvec_aphophis / (e_aphophis * n_aphophis))\n",
        "omega_aphophis = (omegap_aphophis if evec_aphophis[2] >= 0 \n",
        "                  else 2 * np.pi - omegap_aphophis)\n",
        "omega_aphophis *= rad2deg\n",
        "\n",
        "# Anomalía verdadera\n",
        "fp_aphophis = np.arccos(\n",
        "    evec_aphophis @ X0_aphophis / (e_aphophis * X0_aphophis_norm))\n",
        "f_aphophis = (fp_aphophis if X0_aphophis @ V0_aphophis > 0 \n",
        "              else 2 * np.pi - fp_aphophis)\n",
        "f_aphophis *= rad2deg\n",
        "\n",
        "# Semilatus rectum\n",
        "p_aphophis = h_aphophis**2 / mu\n"
      ]
    },
    {
      "cell_type": "markdown",
      "metadata": {},
      "source": [
        "Creemos un dataframe con los elementos orbitales para Apophis"
      ]
    },
    {
      "cell_type": "code",
      "execution_count": 128,
      "metadata": {},
      "outputs": [
        {
          "data": {
            "text/html": [
              "<div>\n",
              "<style scoped>\n",
              "    .dataframe tbody tr th:only-of-type {\n",
              "        vertical-align: middle;\n",
              "    }\n",
              "\n",
              "    .dataframe tbody tr th {\n",
              "        vertical-align: top;\n",
              "    }\n",
              "\n",
              "    .dataframe thead th {\n",
              "        text-align: right;\n",
              "    }\n",
              "</style>\n",
              "<table border=\"1\" class=\"dataframe\">\n",
              "  <thead>\n",
              "    <tr style=\"text-align: right;\">\n",
              "      <th></th>\n",
              "      <th>Elementos orbitales Aphophis</th>\n",
              "    </tr>\n",
              "  </thead>\n",
              "  <tbody>\n",
              "    <tr>\n",
              "      <th>e</th>\n",
              "      <td>0.999723</td>\n",
              "    </tr>\n",
              "    <tr>\n",
              "      <th>I</th>\n",
              "      <td>3.339301</td>\n",
              "    </tr>\n",
              "    <tr>\n",
              "      <th>Omega</th>\n",
              "      <td>203.957180</td>\n",
              "    </tr>\n",
              "    <tr>\n",
              "      <th>omega</th>\n",
              "      <td>56.535395</td>\n",
              "    </tr>\n",
              "    <tr>\n",
              "      <th>f</th>\n",
              "      <td>179.996948</td>\n",
              "    </tr>\n",
              "    <tr>\n",
              "      <th>p</th>\n",
              "      <td>0.000263</td>\n",
              "    </tr>\n",
              "    <tr>\n",
              "      <th>n</th>\n",
              "      <td>0.000945</td>\n",
              "    </tr>\n",
              "  </tbody>\n",
              "</table>\n",
              "</div>"
            ],
            "text/plain": [
              "       Elementos orbitales Aphophis\n",
              "e                          0.999723\n",
              "I                          3.339301\n",
              "Omega                    203.957180\n",
              "omega                     56.535395\n",
              "f                        179.996948\n",
              "p                          0.000263\n",
              "n                          0.000945"
            ]
          },
          "execution_count": 128,
          "metadata": {},
          "output_type": "execute_result"
        }
      ],
      "source": [
        "# Creando el DataFrame\n",
        "data = {\n",
        "    \"Elementos orbitales Aphophis\": [\n",
        "        e_aphophis, I_aphophis, Omega_aphophis,\n",
        "        omega_aphophis, f_aphophis, p_aphophis,n_aphophis\n",
        "    ]\n",
        "}\n",
        "indices = [\"e\", \"I\", \"Omega\", \"omega\", \"f\", \"p\",'n']\n",
        "df = pd.DataFrame(data, index=indices)\n",
        "\n",
        "df"
      ]
    },
    {
      "cell_type": "markdown",
      "metadata": {},
      "source": [
        "### Encontremos los elementos orbitales de la tierra"
      ]
    },
    {
      "cell_type": "markdown",
      "metadata": {},
      "source": [
        "#### Primero calculemos los vectores clave del sistema"
      ]
    },
    {
      "cell_type": "code",
      "execution_count": 129,
      "metadata": {},
      "outputs": [],
      "source": [
        "# Calculamos el M.A.R.E\n",
        "hvec_earth = np.cross(X0_earth, V0_earth)\n",
        "h_earth = np.linalg.norm(hvec_earth)\n",
        "\n",
        "# Calculando el vector nodal\n",
        "nvec_earth = np.cross([0, 0, 1], hvec_earth)  # [0, 0, 1] es el vector x unitario\n",
        "n_earth = np.linalg.norm(nvec_earth)\n"
      ]
    },
    {
      "cell_type": "markdown",
      "metadata": {},
      "source": [
        "A partir de estos vectores podemos calcular los elementos orbitales para apophis"
      ]
    },
    {
      "cell_type": "code",
      "execution_count": 130,
      "metadata": {},
      "outputs": [],
      "source": [
        "# Calculando el vector de Laplace\n",
        "evec_earth = (np.cross(V0_earth, hvec_earth) / mu -\n",
        "                 X0_earth / X0_earth_norm)\n",
        "e_earth = np.linalg.norm(evec_earth)  # Excentricidad\n",
        "\n",
        "# Inclinación\n",
        "I_earth = np.arccos(hvec_earth @ [0, 0, 1] / h_earth) * rad2deg # [0, 0, 1] es el vector z unitario\n",
        "\n",
        "# Longitud del nodo ascendente\n",
        "Omegap_earth = np.arccos(nvec_earth @ [1, 0, 0] / n_earth) # [1, 0, 0] es el vector x unitario\n",
        "Omega_earth = (Omegap_earth if nvec_earth[1] >= 0 \n",
        "                  else 2 * np.pi - Omegap_earth)\n",
        "Omega_earth *= rad2deg\n",
        "\n",
        "# Argumento del periapsis\n",
        "omegap_earth = np.arccos(\n",
        "    evec_earth @ nvec_earth / (e_earth * n_earth))\n",
        "omega_earth = (omegap_earth if evec_earth[2] >= 0 \n",
        "                  else 2 * np.pi - omegap_earth)\n",
        "omega_earth *= rad2deg\n",
        "\n",
        "# Anomalía verdadera\n",
        "fp_earth = np.arccos(\n",
        "    evec_earth @ X0_earth / (e_earth * X0_earth_norm))\n",
        "f_earth = (fp_earth if X0_earth @ V0_earth > 0 \n",
        "              else 2 * np.pi - fp_earth)\n",
        "f_earth *= rad2deg\n",
        "\n",
        "# Semilatus rectum\n",
        "p_earth = h_earth**2 / mu\n"
      ]
    },
    {
      "cell_type": "markdown",
      "metadata": {},
      "source": [
        "Creemos un dataframe con los elementos orbitales para la tierra"
      ]
    },
    {
      "cell_type": "code",
      "execution_count": 131,
      "metadata": {},
      "outputs": [
        {
          "data": {
            "text/html": [
              "<div>\n",
              "<style scoped>\n",
              "    .dataframe tbody tr th:only-of-type {\n",
              "        vertical-align: middle;\n",
              "    }\n",
              "\n",
              "    .dataframe tbody tr th {\n",
              "        vertical-align: top;\n",
              "    }\n",
              "\n",
              "    .dataframe thead th {\n",
              "        text-align: right;\n",
              "    }\n",
              "</style>\n",
              "<table border=\"1\" class=\"dataframe\">\n",
              "  <thead>\n",
              "    <tr style=\"text-align: right;\">\n",
              "      <th></th>\n",
              "      <th>Elementos orbitales earth</th>\n",
              "    </tr>\n",
              "  </thead>\n",
              "  <tbody>\n",
              "    <tr>\n",
              "      <th>e</th>\n",
              "      <td>0.016901</td>\n",
              "    </tr>\n",
              "    <tr>\n",
              "      <th>I</th>\n",
              "      <td>0.002396</td>\n",
              "    </tr>\n",
              "    <tr>\n",
              "      <th>Omega</th>\n",
              "      <td>217.128706</td>\n",
              "    </tr>\n",
              "    <tr>\n",
              "      <th>omega</th>\n",
              "      <td>244.908643</td>\n",
              "    </tr>\n",
              "    <tr>\n",
              "      <th>f</th>\n",
              "      <td>200.432183</td>\n",
              "    </tr>\n",
              "    <tr>\n",
              "      <th>p</th>\n",
              "      <td>0.999646</td>\n",
              "    </tr>\n",
              "  </tbody>\n",
              "</table>\n",
              "</div>"
            ],
            "text/plain": [
              "       Elementos orbitales earth\n",
              "e                       0.016901\n",
              "I                       0.002396\n",
              "Omega                 217.128706\n",
              "omega                 244.908643\n",
              "f                     200.432183\n",
              "p                       0.999646"
            ]
          },
          "execution_count": 131,
          "metadata": {},
          "output_type": "execute_result"
        }
      ],
      "source": [
        "# Creando el DataFrame\n",
        "data = {\n",
        "    \"Elementos orbitales earth\": [\n",
        "        e_earth, I_earth, Omega_earth,\n",
        "        omega_earth, f_earth, p_earth\n",
        "    ]\n",
        "}\n",
        "indices = [\"e\", \"I\", \"Omega\", \"omega\", \"f\", \"p\"]\n",
        "df = pd.DataFrame(data, index=indices)\n",
        "\n",
        "df"
      ]
    },
    {
      "cell_type": "markdown",
      "metadata": {},
      "source": [
        "### 3. Usando los elementos orbitales de ambos cuerpos determine la mínima distancia a la que se encontarán ambas órbitas en cualquier momento del futuro. A esta distancia se la llama MOID, por el acrónimo en inglés *Minimum orbital intersection distance*.\n",
        "\n",
        "### 4. Para saber cuándo se producirá la máxima aproximación entre los dos cuerpos es necesario sin embargo resolver el problema de los dos cuerpos en el tiempo. Para ello use la ecuación de Kepler y los métodos aprendidos en clase para propagar hacia el futuro la posición de la Tierra y del asteroide en el tiempo y determinar la fecha, hora y distancia de la próxima aproximación. Para ello avance primero de mes en mes por ejemplo, y luego, cerca a la aproximación máxima, de día en día, de hora en hora, hasta encontrar el punto de mínima distancia. ¿En qué fecha, hora y distancia predice usted que se producirá la máxima aproximación?"
      ]
    },
    {
      "cell_type": "markdown",
      "metadata": {},
      "source": [
        "#### Para realizar este proceso, primero voy a realizar una o varias funciones que me calcule el vector de estado final, dados los elementos orbitales el tiempo inicial y final"
      ]
    },
    {
      "cell_type": "markdown",
      "metadata": {},
      "source": [
        "##### Funciones auxiliares"
      ]
    },
    {
      "cell_type": "code",
      "execution_count": 132,
      "metadata": {},
      "outputs": [
        {
          "data": {
            "text/plain": [
              "-179.72420691168625"
            ]
          },
          "execution_count": 132,
          "metadata": {},
          "output_type": "execute_result"
        }
      ],
      "source": [
        "def prediccion(jd,jdf,a,e,I,Omega,w,f,n):\n",
        "    # E inicial\n",
        "    E = 2*np.arctan(np.sqrt((1-e)/(1+e))*np.tan(f*deg2rad/2))\n",
        "    #E=E*rad2deg\n",
        "\n",
        "    # M = E - e sin E\n",
        "    M = E - e*np.sin(E)\n",
        "    M=M*rad2deg\n",
        "\n",
        "    #Ahora para las condiciones finales:\n",
        "    Mf = M + n*(jdf-jd)\n",
        "    Ef,error,niter = pc.kepler_newton(Mf*deg2rad,e,delta=1e-14)\n",
        "    #Ef=Ef*rad2deg\n",
        "\n",
        "    #Encontremos la anomalía verdadera\n",
        "    ff = 2*np.arctan(np.sqrt((1+e)/(1-e))*np.tan(Ef/2))\n",
        "    ff=ff*rad2deg\n",
        "    \n",
        "    return ff\n",
        "prediccion(jd,jd+365.25,1,\n",
        "        e_aphophis, I_aphophis, Omega_aphophis,\n",
        "        omega_aphophis, f_aphophis, 1.11198)"
      ]
    },
    {
      "cell_type": "code",
      "execution_count": 133,
      "metadata": {},
      "outputs": [
        {
          "data": {
            "text/plain": [
              "(0.9997233977178548,\n",
              " 3.3393005993205813,\n",
              " 203.957179610651,\n",
              " 56.535394692801255,\n",
              " 179.99694768673396,\n",
              " 0.0009447047873823015)"
            ]
          },
          "execution_count": 133,
          "metadata": {},
          "output_type": "execute_result"
        }
      ],
      "source": [
        "e_aphophis, I_aphophis, Omega_aphophis,omega_aphophis, f_aphophis, n_aphophis"
      ]
    },
    {
      "cell_type": "code",
      "execution_count": 134,
      "metadata": {},
      "outputs": [
        {
          "data": {
            "text/html": [
              "<div><i>Table masked=True length=1</i>\n",
              "<table id=\"table139786242260320\" class=\"table-striped table-bordered table-condensed\">\n",
              "<thead><tr><th>targetname</th><th>datetime_jd</th><th>datetime_str</th><th>H</th><th>G</th><th>e</th><th>q</th><th>incl</th><th>Omega</th><th>w</th><th>Tp_jd</th><th>n</th><th>M</th><th>nu</th><th>a</th><th>Q</th><th>P</th></tr></thead>\n",
              "<thead><tr><th>---</th><th>d</th><th>---</th><th>mag</th><th>---</th><th>---</th><th>AU</th><th>deg</th><th>deg</th><th>deg</th><th>d</th><th>deg / d</th><th>deg</th><th>deg</th><th>AU</th><th>AU</th><th>d</th></tr></thead>\n",
              "<thead><tr><th>str24</th><th>float64</th><th>str30</th><th>float64</th><th>float64</th><th>float64</th><th>float64</th><th>float64</th><th>float64</th><th>float64</th><th>float64</th><th>float64</th><th>float64</th><th>float64</th><th>float64</th><th>float64</th><th>float64</th></tr></thead>\n",
              "<tr><td>99942 Apophis (2004 MN4)</td><td>2460151.5</td><td>A.D. 2023-Jul-26 00:00:00.0000</td><td>19.09</td><td>0.24</td><td>0.1914427971442487</td><td>0.7460744636697038</td><td>3.339300599320679</td><td>203.957179610651</td><td>126.6044627878949</td><td>2460072.030268009</td><td>1.111979897875463</td><td>88.36874446324205</td><td>109.9278795917671</td><td>0.9227231679275577</td><td>1.099371872185412</td><td>323.7468597119534</td></tr>\n",
              "</table></div>"
            ],
            "text/plain": [
              "<Table masked=True length=1>\n",
              "       targetname        datetime_jd ...         Q                 P        \n",
              "          ---                 d      ...         AU                d        \n",
              "         str24             float64   ...      float64           float64     \n",
              "------------------------ ----------- ... ----------------- -----------------\n",
              "99942 Apophis (2004 MN4)   2460151.5 ... 1.099371872185412 323.7468597119534"
            ]
          },
          "execution_count": 134,
          "metadata": {},
          "output_type": "execute_result"
        }
      ],
      "source": [
        "queryf = Horizons(id='2004 MN4',location='@sun',epochs=jd)\n",
        "elementf = queryf.elements()\n",
        "elementf"
      ]
    },
    {
      "cell_type": "code",
      "execution_count": 135,
      "metadata": {},
      "outputs": [
        {
          "data": {
            "text/plain": [
              "33"
            ]
          },
          "execution_count": 135,
          "metadata": {},
          "output_type": "execute_result"
        }
      ],
      "source": [
        "180-147"
      ]
    }
  ],
  "metadata": {
    "colab": {
      "provenance": []
    },
    "kernelspec": {
      "display_name": "Python 3",
      "name": "python3"
    },
    "language_info": {
      "codemirror_mode": {
        "name": "ipython",
        "version": 3
      },
      "file_extension": ".py",
      "mimetype": "text/x-python",
      "name": "python",
      "nbconvert_exporter": "python",
      "pygments_lexer": "ipython3",
      "version": "3.10.12"
    }
  },
  "nbformat": 4,
  "nbformat_minor": 0
}
