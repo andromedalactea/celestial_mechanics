{
  "cells": [
    {
      "cell_type": "markdown",
      "metadata": {
        "id": "6XE49aAfGdAu"
      },
      "source": [
        "<p>\n",
        "<img src=\"https://drive.google.com/uc?id=1ZHUKcwzA5c-PKUwoGmBG3TsHk6TmZ-Y0\" align=\"left\" width=\"250\">\n",
        "</p>\n",
        "<p>\n",
        "<h1><b><center>Mecánica Celeste</center></b></h1>\n",
        "<h2><b><center>Prof. Jorge I. Zuluaga</center></b></h1>\n",
        "<h2><b><center>Tarea 4</center></b><h2>\n",
        "<h3><b><center>Viaje a la Luna</center></b><h3>\n",
        "<h5><center><b>Asignada</b>: 12 de Octubre de 2023</center><h5>\n",
        "<h5><center><b>Entrega</b>: 26 de Octubre de 2023</center><h5>\n",
        "</p>"
      ]
    },
    {
      "cell_type": "markdown",
      "metadata": {
        "id": "DZ3br0tlHiUH"
      },
      "source": [
        "<hr/>\n",
        "<b>Nombre</b>: Bryan Camilo Restrepo Arcila\n",
        "<br/>\n",
        "<b>Cédula</b>: 1000567825\n",
        "<br/>\n",
        "<b>Última actualización</b>:\n",
        "<hr/>"
      ]
    },
    {
      "cell_type": "markdown",
      "metadata": {
        "id": "32KKSLFEHYpg"
      },
      "source": [
        "## Enunciado"
      ]
    },
    {
      "cell_type": "markdown",
      "metadata": {
        "id": "BJv9-ZZAIUgW"
      },
      "source": [
        "**Objetivo**: En esta tarea nos proponemos estudiar las denominadas trayectorias de retorno libre a la Luna usando la teoría del CRTBP, apoyado por lo que sabemos el problema de los dos cuerpos.\n",
        "\n",
        "**Procedimiento**:\n",
        "\n",
        "Responda primero estas cuestiones usando el problema de los dos cuerpos.\n",
        "\n",
        "- Una nave espacial se encuentra en una órbita circular inicial alrededor de la Tierra a una distancia de 36 000 km del centro de nuestro planeta. Calcule la velocidad que debe tener la nave respecto al centro de la Tierra para que se mantenga en una órbita circular con ese radio.\n",
        "\n",
        "- ¿Cuánto debe aumentar la velocidad, $\\Delta v$, para que la nave pase de estar en una órbita circular alrededor de la Tierra a una órbita elíptica que tenga perigeo igual a 36 000 km y apogeo igual a la distancia promedio de la Luna (383 000 km)?. A está orbita se la llama *orbita de transferencia de Hohmann*. Obviamente está orbita asume que no existe la Luna.\n",
        "\n",
        "- Suponga que la Luna arranca en t = 0, en x = 383 000 km, con una órbita circular alrededor de la Tierra. ¿En qué anomalía verdadera debe recibir la nave el impulso $\\Delta v$ para que cuando llegue al apogeo la Luna se encuentre con la nave?. Esta es la condición básica que define el caso de una transferencia de Hohmann.\n",
        "\n",
        "- Calcule las componentes cartesianas de la posición y la velocidad inicial de la nave respecto de la Tierra en la órbita de Hohmann.\n",
        "\n",
        "Con estos valores indicativos vamos ahora a simular el sistema Tierra-Luna-Nave y a estudiar la trayectoria del vehículo, tanto en un sistema de referencia inercial, como en un sistema de referencia rotante en el que la Tierra y la Luna están en reposo (sistema del CRTBP).\n",
        "\n",
        "1. Calcule la posición y velocidad inicial de la Tierra en un sistema de referencia inercial en el que el origen está en el centro de masa de la Tierra y la Luna y la Luna y la Tierra orbitan con un semieje mayor relativo igual a 383 000 km.\n",
        "\n",
        "2. Calcule ahora la posición y velocidad inicial de la nave en el sistema de referencia inercial y en el momento en el que recibe el impulso Para ello simplemente sume a la posición y velocidad inicial de la nave, la posición y velocidad inicial de la Tierra en t = 0.\n",
        "\n",
        "3. Simule el movimiento de la nave usando la rutina `crtbp_solucion` y mire cómo es la trayectoria, tanto en el sistema rotante como en el sistema de referencia inercial. Calcule la constante de Jacobi, grafique las regiones de exclusión y la superficie de cero velocidad correspondiente a este valor de la constante de Jacobi.\n",
        "\n",
        "4. Es posible que en el primer intento no consiga la trayectoria deseada (una trayectoria que lleve la nave hasta la Luna y que después la regrese a la Tierra). Modifique con cuidado las condiciones iniciales de la nave (en especial la velocidad incial) hasta que consiga una o varias trayectorias de retorno libre en el sistema. Calcule el apogeo y el perigeo de la trayectoria de la nave respecto a la Tierra y el tiempo que tardaría la nave en salir de la órbita alrededor de la Tierra y en regresar a un punto cercano."
      ]
    },
    {
      "cell_type": "markdown",
      "metadata": {
        "id": "NI1EmWvOa_o2"
      },
      "source": [
        "**Resultados esperados**:\n",
        "\n",
        "- Este notebook con el procedimiento debidamente comentado.\n",
        "\n",
        "- Datos mínimos:\n",
        "  - Velocidad de la nave en la órbita circular circumterrestre.\n",
        "  - Valor del impulso $\\Delta v$ para la transferencia de Hohmann.\n",
        "  - Anomalía inicial de la nave para llegar a la Luna.\n",
        "\n",
        "- Gráficos mínimos:\n",
        "  - Gráfico de una o varias trayectorias de retorno libre de la Tierra a la Luna, que incluyan, regiones de exclusión, superficies de cero velocidad-\n",
        "\n",
        "- Gráficos opcionales:\n",
        "  - Animación de las trayectorias de retorno libre.\n",
        "\n",
        "- En caso de utilizar ayudas como `ChatGPT` o códigos de `Stack Over Flow` debe citar debidamente la fuente, pero también entender a cabalidad el código, el profesor puede pedir justificación."
      ]
    },
    {
      "cell_type": "code",
      "execution_count": null,
      "metadata": {},
      "outputs": [],
      "source": [
        "#!pip install -q pymcel astropy plotly"
      ]
    },
    {
      "cell_type": "markdown",
      "metadata": {},
      "source": [
        "Dependencias"
      ]
    },
    {
      "cell_type": "code",
      "execution_count": 3,
      "metadata": {},
      "outputs": [],
      "source": [
        "import numpy as np\n",
        "import matplotlib.pyplot as plt\n",
        "from astropy import constants as c,units as u"
      ]
    },
    {
      "cell_type": "markdown",
      "metadata": {},
      "source": [
        "Constantes"
      ]
    },
    {
      "cell_type": "code",
      "execution_count": 8,
      "metadata": {},
      "outputs": [],
      "source": [
        "# Constante de gravitación universal\n",
        "G_international=c.G.value \n",
        "\n",
        "# Masa de la tierra en Kg\n",
        "M_earth = c.M_earth.value\n",
        "\n",
        "# mu para la tierra\n",
        "mu_earth_international = G_international*M_earth \n",
        "\n",
        "\n",
        "## Conversión de unidades\n",
        "\n",
        "km2m = 1000 # Kilometros a metros\n"
      ]
    },
    {
      "cell_type": "markdown",
      "metadata": {
        "id": "J0ISSYQpHex_"
      },
      "source": [
        "## Solución"
      ]
    },
    {
      "cell_type": "markdown",
      "metadata": {},
      "source": [
        "- Una nave espacial se encuentra en una órbita circular inicial alrededor de la Tierra a una distancia de 36 000 km del centro de nuestro planeta. Calcule la velocidad que debe tener la nave respecto al centro de la Tierra para que se mantenga en una órbita circular con ese radio.\n",
        "\n",
        "Para encontyrar esta velocidad podemos usar la vis-viva, definida como:\n",
        "\n",
        "$$v^2=\\mu(\\frac{2}{r}-\\frac{1}{a})$$\n",
        "\n",
        "en una circunferencia r=a, así que:\n",
        "\n",
        "$$v=\\sqrt{\\frac{\\mu}{r}}$$"
      ]
    },
    {
      "cell_type": "code",
      "execution_count": 14,
      "metadata": {},
      "outputs": [
        {
          "name": "stdout",
          "output_type": "stream",
          "text": [
            "La velocidad del satelite para una orbita circular es :3327.497 m/s\n"
          ]
        }
      ],
      "source": [
        "# Ahora veamos númericamente este valor\n",
        "r_orbit = 36000*km2m # Radio de la orbita en metros  \n",
        "\n",
        "# Velocidad que debe tener un satelite en una orbita circular\n",
        "v_satelite_o = (mu_earth_international/r_orbit)**0.5\n",
        "\n",
        "print(f'La velocidad del satelite para una orbita circular es :{v_satelite_o:.3f} m/s')"
      ]
    },
    {
      "cell_type": "markdown",
      "metadata": {},
      "source": [
        "- ¿Cuánto debe aumentar la velocidad, $\\Delta v$, para que la nave pase de estar en una órbita circular alrededor de la Tierra a una órbita elíptica que tenga perigeo igual a 36 000 km y apogeo igual a la distancia promedio de la Luna (383 000 km)?. A está orbita se la llama *orbita de transferencia de Hohmann*. Obviamente está orbita asume que no existe la Luna."
      ]
    },
    {
      "cell_type": "markdown",
      "metadata": {},
      "source": [
        "Para esto podemos volver a usar la vis-viva, y encontrar nuevamente la velocidad en el perigeo, pero teniendo en cuenta las caracteristicas de la elipse:\n",
        "\n",
        "Primero encontremos \"a\":\n",
        "$$a=\\frac{r_{peri}+r_{apo}}{2}$$\n",
        "\n",
        "con este ya podemos saber cual es la velocidad en el perigeo para la orbita elíptica con la vis-viva:\n",
        "\n",
        "$$v=\\sqrt{\\mu(\\frac{2}{r_{peri}}-\\frac{1}{a})}$$"
      ]
    },
    {
      "cell_type": "code",
      "execution_count": 21,
      "metadata": {},
      "outputs": [
        {
          "name": "stdout",
          "output_type": "stream",
          "text": [
            "El impulso que se le debe de dar para alcanzar la orbita\n",
            "de tranferencia de Hohmann es de 1171.597 m/s\n"
          ]
        }
      ],
      "source": [
        "# Primero definamos ambos radios\n",
        "r_peri = 36000*km2m\n",
        "r_apo = 383000*km2m\n",
        "\n",
        "# Hallemos al parámetro \"a\" de la elipse:\n",
        "a_eliptic_orbit = (r_peri + r_apo)/2\n",
        "\n",
        "# Ahora veamos la velocidad en el perigeo para esta orbita elíptica\n",
        "v_eliptic_orbit = (mu_earth_international*(2/r_peri-1/a_eliptic_orbit))**0.5\n",
        "\n",
        "# Entonces el impulso será la diferencia entre la velocidad en la orbita circular\n",
        "# y la velocidad en el perigeo de la orbita eliptica\n",
        "\n",
        "delta_v = v_eliptic_orbit - v_satelite_o\n",
        "\n",
        "print(f'''El impulso que se le debe de dar para alcanzar la orbita\n",
        "de tranferencia de Hohmann es de {delta_v:.3f} m/s''')"
      ]
    }
  ],
  "metadata": {
    "colab": {
      "provenance": []
    },
    "kernelspec": {
      "display_name": "Python 3",
      "name": "python3"
    },
    "language_info": {
      "codemirror_mode": {
        "name": "ipython",
        "version": 3
      },
      "file_extension": ".py",
      "mimetype": "text/x-python",
      "name": "python",
      "nbconvert_exporter": "python",
      "pygments_lexer": "ipython3",
      "version": "3.10.12"
    }
  },
  "nbformat": 4,
  "nbformat_minor": 0
}
