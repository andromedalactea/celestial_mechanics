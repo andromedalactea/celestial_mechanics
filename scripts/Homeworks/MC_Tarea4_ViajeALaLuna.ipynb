{
  "cells": [
    {
      "cell_type": "markdown",
      "metadata": {
        "id": "6XE49aAfGdAu"
      },
      "source": [
        "<p>\n",
        "<img src=\"https://drive.google.com/uc?id=1ZHUKcwzA5c-PKUwoGmBG3TsHk6TmZ-Y0\" align=\"left\" width=\"250\">\n",
        "</p>\n",
        "<p>\n",
        "<h1><b><center>Mecánica Celeste</center></b></h1>\n",
        "<h2><b><center>Prof. Jorge I. Zuluaga</center></b></h1>\n",
        "<h2><b><center>Tarea 4</center></b><h2>\n",
        "<h3><b><center>Viaje a la Luna</center></b><h3>\n",
        "<h5><center><b>Asignada</b>: 12 de Octubre de 2023</center><h5>\n",
        "<h5><center><b>Entrega</b>: 26 de Octubre de 2023</center><h5>\n",
        "</p>"
      ]
    },
    {
      "cell_type": "markdown",
      "metadata": {
        "id": "DZ3br0tlHiUH"
      },
      "source": [
        "<hr/>\n",
        "<b>Nombre</b>: Bryan Camilo Restrepo Arcila\n",
        "<br/>\n",
        "<b>Cédula</b>: 1000567825\n",
        "<br/>\n",
        "<b>Última actualización</b>:\n",
        "<hr/>"
      ]
    },
    {
      "cell_type": "markdown",
      "metadata": {
        "id": "32KKSLFEHYpg"
      },
      "source": [
        "## Enunciado"
      ]
    },
    {
      "cell_type": "markdown",
      "metadata": {
        "id": "BJv9-ZZAIUgW"
      },
      "source": [
        "**Objetivo**: En esta tarea nos proponemos estudiar las denominadas trayectorias de retorno libre a la Luna usando la teoría del CRTBP, apoyado por lo que sabemos el problema de los dos cuerpos.\n",
        "\n",
        "**Procedimiento**:\n",
        "\n",
        "Responda primero estas cuestiones usando el problema de los dos cuerpos.\n",
        "\n",
        "- Una nave espacial se encuentra en una órbita circular inicial alrededor de la Tierra a una distancia de 36 000 km del centro de nuestro planeta. Calcule la velocidad que debe tener la nave respecto al centro de la Tierra para que se mantenga en una órbita circular con ese radio.\n",
        "\n",
        "- ¿Cuánto debe aumentar la velocidad, $\\Delta v$, para que la nave pase de estar en una órbita circular alrededor de la Tierra a una órbita elíptica que tenga perigeo igual a 36 000 km y apogeo igual a la distancia promedio de la Luna (383 000 km)?. A está orbita se la llama *orbita de transferencia de Hohmann*. Obviamente está orbita asume que no existe la Luna.\n",
        "\n",
        "- Suponga que la Luna arranca en t = 0, en x = 383 000 km, con una órbita circular alrededor de la Tierra. ¿En qué anomalía verdadera debe recibir la nave el impulso $\\Delta v$ para que cuando llegue al apogeo la Luna se encuentre con la nave?. Esta es la condición básica que define el caso de una transferencia de Hohmann.\n",
        "\n",
        "- Calcule las componentes cartesianas de la posición y la velocidad inicial de la nave respecto de la Tierra en la órbita de Hohmann.\n",
        "\n",
        "Con estos valores indicativos vamos ahora a simular el sistema Tierra-Luna-Nave y a estudiar la trayectoria del vehículo, tanto en un sistema de referencia inercial, como en un sistema de referencia rotante en el que la Tierra y la Luna están en reposo (sistema del CRTBP).\n",
        "\n",
        "1. Calcule la posición y velocidad inicial de la Tierra en un sistema de referencia inercial en el que el origen está en el centro de masa de la Tierra y la Luna y la Luna y la Tierra orbitan con un semieje mayor relativo igual a 383 000 km.\n",
        "\n",
        "2. Calcule ahora la posición y velocidad inicial de la nave en el sistema de referencia inercial y en el momento en el que recibe el impulso Para ello simplemente sume a la posición y velocidad inicial de la nave, la posición y velocidad inicial de la Tierra en t = 0.\n",
        "\n",
        "3. Simule el movimiento de la nave usando la rutina `crtbp_solucion` y mire cómo es la trayectoria, tanto en el sistema rotante como en el sistema de referencia inercial. Calcule la constante de Jacobi, grafique las regiones de exclusión y la superficie de cero velocidad correspondiente a este valor de la constante de Jacobi.\n",
        "\n",
        "4. Es posible que en el primer intento no consiga la trayectoria deseada (una trayectoria que lleve la nave hasta la Luna y que después la regrese a la Tierra). Modifique con cuidado las condiciones iniciales de la nave (en especial la velocidad incial) hasta que consiga una o varias trayectorias de retorno libre en el sistema. Calcule el apogeo y el perigeo de la trayectoria de la nave respecto a la Tierra y el tiempo que tardaría la nave en salir de la órbita alrededor de la Tierra y en regresar a un punto cercano."
      ]
    },
    {
      "cell_type": "markdown",
      "metadata": {
        "id": "NI1EmWvOa_o2"
      },
      "source": [
        "**Resultados esperados**:\n",
        "\n",
        "- Este notebook con el procedimiento debidamente comentado.\n",
        "\n",
        "- Datos mínimos:\n",
        "  - Velocidad de la nave en la órbita circular circumterrestre.\n",
        "  - Valor del impulso $\\Delta v$ para la transferencia de Hohmann.\n",
        "  - Anomalía inicial de la nave para llegar a la Luna.\n",
        "\n",
        "- Gráficos mínimos:\n",
        "  - Gráfico de una o varias trayectorias de retorno libre de la Tierra a la Luna, que incluyan, regiones de exclusión, superficies de cero velocidad-\n",
        "\n",
        "- Gráficos opcionales:\n",
        "  - Animación de las trayectorias de retorno libre.\n",
        "\n",
        "- En caso de utilizar ayudas como `ChatGPT` o códigos de `Stack Over Flow` debe citar debidamente la fuente, pero también entender a cabalidad el código, el profesor puede pedir justificación."
      ]
    },
    {
      "cell_type": "code",
      "execution_count": null,
      "metadata": {},
      "outputs": [],
      "source": [
        "#!pip install -q pymcel astropy plotly"
      ]
    },
    {
      "cell_type": "markdown",
      "metadata": {},
      "source": [
        "Dependencias"
      ]
    },
    {
      "cell_type": "code",
      "execution_count": 3,
      "metadata": {},
      "outputs": [],
      "source": [
        "import numpy as np\n",
        "import matplotlib.pyplot as plt\n",
        "from astropy import constants as c,units as u"
      ]
    },
    {
      "cell_type": "markdown",
      "metadata": {},
      "source": [
        "Constantes"
      ]
    },
    {
      "cell_type": "code",
      "execution_count": 32,
      "metadata": {},
      "outputs": [],
      "source": [
        "# Constante de gravitación universal\n",
        "G_international=c.G.value \n",
        "\n",
        "# Masa de la tierra en Kg\n",
        "M_earth = c.M_earth.value\n",
        "\n",
        "# mu para la tierra\n",
        "mu_earth_international = G_international*M_earth \n",
        "\n",
        "# Periodo sideral de la luna\n",
        "T_sideral_moon = 27.3 #días\n",
        "\n",
        "## Conversión de unidades\n",
        "\n",
        "km2m = 1000 # Kilometros a metros\n",
        "\n",
        "d2s = 86400 # Días a segundos\n",
        "\n",
        "deg2rad = np.pi/180 # Grados a radianes\n"
      ]
    },
    {
      "cell_type": "markdown",
      "metadata": {
        "id": "J0ISSYQpHex_"
      },
      "source": [
        "## Solución"
      ]
    },
    {
      "cell_type": "markdown",
      "metadata": {},
      "source": [
        "- Una nave espacial se encuentra en una órbita circular inicial alrededor de la Tierra a una distancia de 36 000 km del centro de nuestro planeta. Calcule la velocidad que debe tener la nave respecto al centro de la Tierra para que se mantenga en una órbita circular con ese radio.\n",
        "\n",
        "Para encontyrar esta velocidad podemos usar la vis-viva, definida como:\n",
        "\n",
        "$$v^2=\\mu(\\frac{2}{r}-\\frac{1}{a})$$\n",
        "\n",
        "en una circunferencia r=a, así que:\n",
        "\n",
        "$$v=\\sqrt{\\frac{\\mu}{r}}$$"
      ]
    },
    {
      "cell_type": "code",
      "execution_count": 14,
      "metadata": {},
      "outputs": [
        {
          "name": "stdout",
          "output_type": "stream",
          "text": [
            "La velocidad del satelite para una orbita circular es :3327.497 m/s\n"
          ]
        }
      ],
      "source": [
        "# Ahora veamos númericamente este valor\n",
        "r_orbit = 36000*km2m # Radio de la orbita en metros  \n",
        "\n",
        "# Velocidad que debe tener un satelite en una orbita circular\n",
        "v_satelite_o = (mu_earth_international/r_orbit)**0.5\n",
        "\n",
        "print(f'La velocidad del satelite para una orbita circular es :{v_satelite_o:.3f} m/s')"
      ]
    },
    {
      "cell_type": "markdown",
      "metadata": {},
      "source": [
        "- ¿Cuánto debe aumentar la velocidad, $\\Delta v$, para que la nave pase de estar en una órbita circular alrededor de la Tierra a una órbita elíptica que tenga perigeo igual a 36 000 km y apogeo igual a la distancia promedio de la Luna (383 000 km)?. A está orbita se la llama *orbita de transferencia de Hohmann*. Obviamente está orbita asume que no existe la Luna."
      ]
    },
    {
      "cell_type": "markdown",
      "metadata": {},
      "source": [
        "Para esto podemos volver a usar la vis-viva, y encontrar nuevamente la velocidad en el perigeo, pero teniendo en cuenta las caracteristicas de la elipse:\n",
        "\n",
        "Primero encontremos \"a\":\n",
        "$$a=\\frac{r_{peri}+r_{apo}}{2}$$\n",
        "\n",
        "con este ya podemos saber cual es la velocidad en el perigeo para la orbita elíptica con la vis-viva:\n",
        "\n",
        "$$v=\\sqrt{\\mu(\\frac{2}{r_{peri}}-\\frac{1}{a})}$$"
      ]
    },
    {
      "cell_type": "code",
      "execution_count": 21,
      "metadata": {},
      "outputs": [
        {
          "name": "stdout",
          "output_type": "stream",
          "text": [
            "El impulso que se le debe de dar para alcanzar la orbita\n",
            "de tranferencia de Hohmann es de 1171.597 m/s\n"
          ]
        }
      ],
      "source": [
        "# Primero definamos ambos radios\n",
        "r_peri = 36000*km2m\n",
        "r_apo = 383000*km2m\n",
        "\n",
        "# Hallemos al parámetro \"a\" de la elipse:\n",
        "a_eliptic_orbit = (r_peri + r_apo)/2\n",
        "\n",
        "# Ahora veamos la velocidad en el perigeo para esta orbita elíptica\n",
        "v_eliptic_orbit = (mu_earth_international*(2/r_peri-1/a_eliptic_orbit))**0.5\n",
        "\n",
        "# Entonces el impulso será la diferencia entre la velocidad en la orbita circular\n",
        "# y la velocidad en el perigeo de la orbita eliptica\n",
        "\n",
        "delta_v = v_eliptic_orbit - v_satelite_o\n",
        "\n",
        "print(f'''El impulso que se le debe de dar para alcanzar la orbita\n",
        "de tranferencia de Hohmann es de {delta_v:.3f} m/s''')"
      ]
    },
    {
      "cell_type": "markdown",
      "metadata": {},
      "source": [
        "- Suponga que la Luna arranca en t = 0, en x = 383 000 km, con una órbita circular alrededor de la Tierra. ¿En qué anomalía verdadera debe recibir la nave el impulso $\\Delta v$ para que cuando llegue al apogeo la Luna se encuentre con la nave?. Esta es la condición básica que define el caso de una transferencia de Hohmann."
      ]
    },
    {
      "cell_type": "markdown",
      "metadata": {},
      "source": [
        "el solucion a este problema, primero debemos tener en cuenta ¿Cuanto se demora el satelite en ir del perigeo al apogeo?\n",
        "\n",
        "la respuesta de esta pregunta es la mitad de su periodo orbital, sabemos que el periodo orbital esta dado por la segunda tercera ley de kepler, la cual nos dice que:\n",
        "\n",
        "$$T=2\\pi \\sqrt{\\frac{a^3}{\\mu}}$$\n",
        "\n",
        "Así el tiempo, que tarda el satelite en ir del perigeo al apogeo es:\n",
        "\n",
        "$$t=\\pi \\sqrt{\\frac{a^3}{\\mu}}$$\n",
        "\n",
        "entonces con este tiempo y asumiendo una orbita ciruclar para la luna, podemos saber cual es la anomalia verdadera que tiene que estar atrasada la luna, antes de llegar al punto de encuentro con el satelite ya que sabemos el tiempo de retraso y la velocidad angular de la luna, así:\n",
        "\n",
        "$$\\Delta f= w_{moon}*t$$\n",
        "\n",
        "cabe aclarar que esto no es lo que se pide en el problema, pero podrá ser usado para la solución del mismo ya que son problemas equivalentes desde diferentes marcosa de referencia, ya que en el problema la anomalía verdadera pero del satelite\n",
        "Ya con este analisis veamoslo númericamente\n"
      ]
    },
    {
      "cell_type": "code",
      "execution_count": 28,
      "metadata": {},
      "outputs": [
        {
          "data": {
            "text/plain": [
              "72.82544713603487"
            ]
          },
          "execution_count": 28,
          "metadata": {},
          "output_type": "execute_result"
        }
      ],
      "source": [
        "# Veamos el timepo que tarda el satelite en ir del perigeo al apogeo\n",
        "t_satelite = np.pi*(a_eliptic_orbit**3/mu_earth_international)**0.5\n",
        "\n",
        "# Calculemos la velocidad angular de la luna\n",
        "T_sideral_moon_s = T_sideral_moon*d2s # Segundos\n",
        "w_moon = 360/T_sideral_moon_s\n",
        "\n",
        "df = w_moon*t_satelite \n",
        "\n",
        "df"
      ]
    },
    {
      "cell_type": "markdown",
      "metadata": {},
      "source": [
        "El anterior angulo corresponde a la diferencia entre la anomalía verdadera de la luna desde el momento que se le da el impulso al satelite hasta cuando se encuentra con la luna, es equivalente decir, que la luna esta en x=383.000 Km en t=0, y que avanzo este angulo hasta encontrarse con el satelite, por tanto el satelite se le tuvo que aplicar  el impulso en una anomalía verdadera de 180 + $\\Delta df$, así tenemos que la anomalía verdadera del satelite  para encontrarse con la luna es de:"
      ]
    },
    {
      "cell_type": "code",
      "execution_count": 30,
      "metadata": {},
      "outputs": [
        {
          "data": {
            "text/plain": [
              "252.82544713603488"
            ]
          },
          "execution_count": 30,
          "metadata": {},
          "output_type": "execute_result"
        }
      ],
      "source": [
        "true_anomaly_satelite = 180 + df\n",
        "true_anomaly_satelite"
      ]
    },
    {
      "cell_type": "markdown",
      "metadata": {},
      "source": [
        "- Calcule las componentes cartesianas de la posición y la velocidad inicial de la nave respecto de la Tierra en la órbita de Hohmann."
      ]
    },
    {
      "cell_type": "markdown",
      "metadata": {},
      "source": [
        "Para la solución de este problema hagamos un diagrama del planteamiento:\n",
        "\n",
        "\n"
      ]
    },
    {
      "cell_type": "markdown",
      "metadata": {},
      "source": [
        "Para las posiciones tenemos que:\n",
        "![sist-lab.jpeg](data:image/jpeg;base64,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)"
      ]
    },
    {
      "cell_type": "markdown",
      "metadata": {},
      "source": [
        "como f'=f-180\n",
        "\n",
        "Se puede ver claramente que:\n",
        "\n",
        "$$x = r_{peri} cos(f') = - r_{peri} cos(f)$$\n",
        "$$y= r_{peri} sin(f') =r_{peri} sin(f)$$"
      ]
    },
    {
      "cell_type": "markdown",
      "metadata": {},
      "source": [
        "Para las velocidades tenemos el siguiente diagrama:\n",
        "![sist-lab.jpeg](data:image/jpeg;base64,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)"
      ]
    },
    {
      "cell_type": "markdown",
      "metadata": {},
      "source": [
        "como f'=f-180\n",
        "\n",
        "Se puede ver claramente que:\n",
        "\n",
        "$$Vx = V_{peri} sin(f') = V_{peri} sin(f)$$\n",
        "$$Vy= V_{peri} cos(f') = - V_{peri} cos(f)$$"
      ]
    },
    {
      "cell_type": "markdown",
      "metadata": {},
      "source": [
        "Ahora que tenemos el como encontrar las componentes de la posición y la velocidad, podemos verlos númericamente:"
      ]
    },
    {
      "cell_type": "code",
      "execution_count": 37,
      "metadata": {},
      "outputs": [
        {
          "name": "stdout",
          "output_type": "stream",
          "text": [
            "Las posiciones y velocidades iniciales de la nave son:\n",
            "x = 10630.214895128884 \n",
            "y = -34394.74569295985\n",
            "Vx = -4298.476828858075\n",
            "Vy = 1328.5090932318299\n",
            "\n"
          ]
        }
      ],
      "source": [
        "# Para las posiciones\n",
        "x_initial = -r_peri*np.cos(true_anomaly_satelite*deg2rad)/km2m\n",
        "y_initial = r_peri*np.sin(true_anomaly_satelite*deg2rad)/km2m\n",
        "\n",
        "# Para las velocidades\n",
        "Vx_initial = v_eliptic_orbit*np.sin(true_anomaly_satelite*deg2rad)\n",
        "Vy_initial = -v_eliptic_orbit*np.cos(true_anomaly_satelite*deg2rad)\n",
        "\n",
        "print(f'''Las posiciones y velocidades iniciales de la nave son:\n",
        "x = {x_initial} \n",
        "y = {y_initial}\n",
        "Vx = {Vx_initial}\n",
        "Vy = {Vy_initial}\n",
        "''')"
      ]
    }
  ],
  "metadata": {
    "colab": {
      "provenance": []
    },
    "kernelspec": {
      "display_name": "Python 3",
      "name": "python3"
    },
    "language_info": {
      "codemirror_mode": {
        "name": "ipython",
        "version": 3
      },
      "file_extension": ".py",
      "mimetype": "text/x-python",
      "name": "python",
      "nbconvert_exporter": "python",
      "pygments_lexer": "ipython3",
      "version": "3.10.12"
    }
  },
  "nbformat": 4,
  "nbformat_minor": 0
}
