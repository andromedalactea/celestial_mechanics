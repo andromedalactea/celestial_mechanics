{
  "cells": [
    {
      "cell_type": "markdown",
      "metadata": {
        "id": "6XE49aAfGdAu"
      },
      "source": [
        "<p>\n",
        "<img src=\"https://drive.google.com/uc?id=1ZHUKcwzA5c-PKUwoGmBG3TsHk6TmZ-Y0\" align=\"left\" width=\"250\">\n",
        "</p>\n",
        "<p>\n",
        "<h1><b><center>Mecánica Celeste</center></b></h1>\n",
        "<h2><b><center>Prof. Jorge I. Zuluaga</center></b></h1>\n",
        "<h2><b><center>Tarea 5 y 6</center></b><h2>\n",
        "<h3><b><center>El péndulo doble</center></b><h3>\n",
        "<h5><center><b>Asignada</b>: 26 de Octubre de 2023</center><h5>\n",
        "<h5><center><b>Entrega</b>: 14 de Noviembre de 2023</center><h5>\n",
        "</p>"
      ]
    },
    {
      "cell_type": "markdown",
      "metadata": {
        "id": "DZ3br0tlHiUH"
      },
      "source": [
        "<hr/>\n",
        "<b>Nombre</b>: Bryan Camilo Restrepo Arcila\n",
        "<br/>\n",
        "<b>Cédula</b>: 1000567825\n",
        "<br/>\n",
        "<b>Última actualización</b>:\n",
        "<hr/>"
      ]
    },
    {
      "cell_type": "markdown",
      "metadata": {
        "id": "32KKSLFEHYpg"
      },
      "source": [
        "## Enunciado"
      ]
    },
    {
      "cell_type": "markdown",
      "metadata": {
        "id": "BJv9-ZZAIUgW"
      },
      "source": [
        "**Objetivo**: Estudiar la dinámica del péndulo doble utilizando los métodos de Lagrange y Hamilton.\n",
        "\n",
        "Un péndulo doble es un sistema formado por 2 partículas puntuales de masas $m_1$ y $m_2$ unidas por varillas inextensibles de longitudes $L_1$ y $L_2$. La varilla $L_1$ esta fija a un punto del espacio.\n",
        "\n",
        "**Procedimiento**:"
      ]
    },
    {
      "cell_type": "markdown",
      "metadata": {
        "id": "xYGuJo1gfAf3"
      },
      "source": [
        "**Parte 1. La receta de Lagrange**\n",
        "\n",
        "1. Para este sistema identifique:\n",
        "\n",
        "  - Número de partículas: _____________\n",
        "  - Número de coordenadas: _____________\n",
        "  - Número de restricciones: _____________\n",
        "  - Número de grados de libertad: _____________\n",
        "\n",
        "2. Escriba las ecuaciones que describen las restricciones del sistema.\n",
        "\n",
        "3. Identifique las variables generalizadas del sistema y explique por qué esas variables son apropiadas para describir el sistema con el método de Lagrange.\n",
        "\n",
        "4. Escriba las ecuaciones que permiten transformar de las variables generalizadas $\\{q_j\\}_M$ a las coordenadas $\\{\\vec r_i\\}_N$ y viceversa (transformación inversa).\n",
        "\n",
        "5. Usando `SymPy` escriba una rutina que, dadas las ecuaciones de transformación  $\\{\\vec r_i(\\{q_j\\}_M)\\}_N$ calcule la función de energía cinética para el sistema. Intente que la rutina sea tan general posible que pueda ser aplicada a otros sistemas.\n",
        "\n",
        "6. Usando `SymPy` escriba una rutina que, dadas las ecuaciones de transformación  $\\{\\vec r_i(\\{q_j\\}_M)\\}_N$ y las componentes cartesianas de las fuerzas que actúan sobre las partículas, determine las fuerzas generalizadas. Intente que la rutina sea tan general posible que pueda ser aplicada a otros sitstemas.\n",
        "\n",
        "7. Usando los resultados en 5 y en 6, escriba las ecuaciones de movimiento del sistema. Es normal que las ecuaciones se escriban como la segunda derivada de cada variable generalizada como función de las primeras derivada de las variables generalizadas y las variables generalizadas en sí.  Es decir las ecuaciones deben tener la forma:\n",
        "\n",
        "  $$\n",
        "  \\ddot q_j = f_j (t,\\{q_j\\}_M,\\{\\dot q_j\\}_M)\n",
        "  $$\n"
      ]
    },
    {
      "cell_type": "markdown",
      "metadata": {
        "id": "ZZiwA0xtfEJf"
      },
      "source": [
        "**Parte 2. Lagrangiano**\n",
        "\n",
        "1. Encuentre la forma de la función potencial de la que derivan las fuerzas generalizadas del sistema.\n",
        "\n",
        "2. Con la función potencial y la función lagrangiana, escriba el lagrangiano del sistema.\n",
        "\n",
        "3. Deduzca, a partir de las ecuaciones de Euler-Lagrange, las ecuaciones de movimiento y verifique que coinciden con las ecuaciones de movimiento obtenidas a partir de las ecuaciones de Lagrange.\n",
        "\n",
        "4. Evalúe las simetrías del lagrangiano:\n",
        "  - ¿Tiene simetría de traslación?: _________ en caso afirmativo ¿cuáles son las constantes (cuadraturas) asociadas?: _________\n",
        "  - ¿Tiene simetría de rotación?: _________ en caso afirmativo ¿cuáles son las constantes (cuadraturas) asociadas?: _________\n",
        "  - ¿Tiene simetría temporal?: _________ en caso afirmativo ¿cuáles son las constantes (cuadraturas) asociadas?: _________\n",
        "  - ¿Tiene variables cíclicas? ¿cuáles?: _________\n",
        "  - Escriba explícitamente la función de Jacobi $h(t,\\{q_j\\}_M,\\{\\dot q_j\\}_M)$ del sistema y diga si es constante o no."
      ]
    },
    {
      "cell_type": "markdown",
      "metadata": {
        "id": "-1Iz7rhZg2DA"
      },
      "source": [
        "**Parte 3. Hamiltoniano**\n",
        "\n",
        "1. Escriba los momentos generalizados $\\{p_j\\}_M$ del sistema como función de las velocidades generalizadas $\\{q_j\\}_M$ del sistema.\n",
        "\n",
        "2. Escriba la función de energía cinética en función de $\\{p_j\\}_M$.\n",
        "\n",
        "3. Escriba el Lagrangianop $\\{L_{qp}(t,\\{q_j\\}_M,\\{p_j\\}_M)\\}$ del sistema.\n",
        "\n",
        "4. Escriba el Hamiltoniano $\\{H(t,\\{q_j\\}_M,\\{p_j\\}_M)\\}$ del sistema.\n",
        "\n",
        "5. A partir del Hamiltoniano escriba explícitamente las ecuaciones de movimiento usando las ecuaciones canónicas."
      ]
    },
    {
      "cell_type": "markdown",
      "metadata": {
        "id": "LFjc7elmhk2_"
      },
      "source": [
        "**Parte 4. Experimentos numéricos**\n",
        "\n",
        "1. Escriba un programa para resolver numéricamente las ecuaciones de movimiento obtenidas en la **parte 1**. Con condiciones iniciales apropiadas, resuelva las ecuaciones y haga una animación del movimiento del péndulo.\n",
        "\n",
        "2. Compruebe con una solución particular , que las constantes de movimiento identificadas del sistema en la **parte 2**, son en realidad constantes.\n",
        "\n",
        "3. Escriba un programa para resolver numéricamente las ecuaciones de movimiento obtenidas en la **parte 3**. Con condiciones iniciales apropiadas, resuelva las ecuaciones y haga una animación del movimiento del péndulo.\n",
        "\n",
        "4. El espacio de fases del sistema tiene muchas dimensiones. Se puede reducir si si fijan algunas variables del sistema. Fije en 0 el valor de las variables y momentos generalizados de la partícula 1 y gráfique contornos del Hamiltoniano en el espacio de fase resultante con las variables y momentos generalizados de la partícula 2.\n",
        "\n",
        "5. Es bien sabido que el péndulo doble experimenta caos. Vamos a comprobarlo. Escoja condiciones iniciales arbitrarias para las variables (use las variables del formalismo Hamiltoniano). Grafique la evolución en el tiempo de las variables generalizadas de ambas partículas. Cambie ahora sutilmente las condiciones iniciales y estudie la evolución a largo plazo de las variables generalizadas.  Haga una animación que muestre la evolución del sistema con condiciones sutilmente diferentes como la que aparece [aquí](https://en.wikipedia.org/wiki/Double_pendulum#/media/File:Demonstrating_Chaos_with_a_Double_Pendulum.gif)."
      ]
    },
    {
      "cell_type": "markdown",
      "metadata": {
        "id": "NI1EmWvOa_o2"
      },
      "source": [
        "**Resultados esperados**:\n",
        "\n",
        "- Este notebook con el procedimiento debidamente comentado.\n",
        "\n",
        "- Respuestas a las preguntas que terminan en '________'.\n",
        "\n",
        "- Rutinas solicitadas.\n",
        "\n",
        "- Fórmulas solicitadas: ecuaciones de movimiento, forma explícita de las funciones de energía cinética, fuerzas generalizadas, lagrangiano, hamiltoniano.\n",
        "\n",
        "- Gráficos:\n",
        "  - Constantes de movimiento.\n",
        "  - Animaciones del movimiento.\n",
        "  - Contornos del Hamiltoniano.\n",
        "  - Evolución de las variables generalizadas.\n",
        "  - Animación ilustrando el caos.\n",
        "\n",
        "- En caso de utilizar ayudas como `ChatGPT` o códigos de `Stack Over Flow` debe citar debidamente la fuente, pero también entender a cabalidad el código, el profesor puede pedir justificación."
      ]
    },
    {
      "cell_type": "markdown",
      "metadata": {},
      "source": [
        "Instalemos las librerias necesarias"
      ]
    },
    {
      "cell_type": "code",
      "execution_count": 1,
      "metadata": {},
      "outputs": [],
      "source": [
        "import numpy as np\n",
        "import sympy as sp\n",
        "from sympy import symbols, Function, diff, sin, cos, simplify, Rational, Eq, Matrix, Derivative, solve, lambdify\n",
        "import matplotlib.pyplot as plt\n",
        "from IPython.display import HTML\n",
        "from celluloid import Camera\n",
        "from scipy.integrate import odeint\n"
      ]
    },
    {
      "cell_type": "markdown",
      "metadata": {
        "id": "J0ISSYQpHex_"
      },
      "source": [
        "## Solución"
      ]
    },
    {
      "cell_type": "markdown",
      "metadata": {},
      "source": [
        "\n",
        "### 1. Para este sistema identifique:\n",
        "\n",
        "  - Número de partículas: ______2_______\n",
        "  - Número de coordenadas: ______6_______\n",
        "  - Número de restricciones: ______4_______\n",
        "  - Número de grados de libertad: ______2_______"
      ]
    },
    {
      "cell_type": "markdown",
      "metadata": {},
      "source": [
        "### 2. Escriba las ecuaciones que describen las restricciones del sistema."
      ]
    },
    {
      "cell_type": "markdown",
      "metadata": {},
      "source": [
        "Definamos los simbolos para todo nuestro procedimiento"
      ]
    },
    {
      "cell_type": "code",
      "execution_count": 2,
      "metadata": {},
      "outputs": [
        {
          "name": "stdout",
          "output_type": "stream",
          "text": [
            "Restricciones del pendulo doble\n"
          ]
        },
        {
          "data": {
            "text/latex": [
              "$\\displaystyle z_{1} = 0$"
            ],
            "text/plain": [
              "Eq(z1, 0)"
            ]
          },
          "metadata": {},
          "output_type": "display_data"
        },
        {
          "data": {
            "text/latex": [
              "$\\displaystyle z_{2} = 0$"
            ],
            "text/plain": [
              "Eq(z2, 0)"
            ]
          },
          "metadata": {},
          "output_type": "display_data"
        },
        {
          "data": {
            "text/latex": [
              "$\\displaystyle x_{1}^{2} + y_{1}^{2} = L_{1}^{2}$"
            ],
            "text/plain": [
              "Eq(x1**2 + y1**2, L1**2)"
            ]
          },
          "metadata": {},
          "output_type": "display_data"
        },
        {
          "data": {
            "text/latex": [
              "$\\displaystyle \\left(- x_{1} + x_{2}\\right)^{2} + \\left(- y_{1} + y_{2}\\right)^{2} = L_{2}^{2}$"
            ],
            "text/plain": [
              "Eq((-x1 + x2)**2 + (-y1 + y2)**2, L2**2)"
            ]
          },
          "metadata": {},
          "output_type": "display_data"
        }
      ],
      "source": [
        "# Definiendo simbolos\n",
        "\n",
        "# sistema de q_s:\n",
        "L1, L2, theta1, theta2 = sp.symbols('L1 L2 theta1 theta2')\n",
        "\n",
        "# Sistema cartesiano\n",
        "x1, y1, z1, x2, y2, z2 = sp.symbols('x1 y1 z1 x2 y2 z2')\n",
        "\n",
        "## Restricciones del sistema \n",
        "\n",
        "# Restricciones de movimiento en un plano\n",
        "first_restriction = sp.Eq(z1, 0) \n",
        "second_restriction =  sp.Eq(z2,0)\n",
        "\n",
        "# Restricciones de las varillas:\n",
        "third_restriction = sp.Eq(x1**2 + y1**2 , L1**2)\n",
        "fourth_restriction = sp.Eq((x2 - x1)**2 + (y2 - y1)**2, L2**2)\n",
        "\n",
        "# Imprimamos las restricciones\n",
        "print('Restricciones del pendulo doble')\n",
        "display(first_restriction, second_restriction, third_restriction, fourth_restriction)"
      ]
    },
    {
      "cell_type": "markdown",
      "metadata": {},
      "source": [
        "### 3. Identifique las variables generalizadas del sistema y explique por qué esas variables son apropiadas para describir el sistema con el método de Lagrange."
      ]
    },
    {
      "cell_type": "markdown",
      "metadata": {},
      "source": [
        "La variables generalizadas más correctas del problema del pendulo doble son los angulos $\\theta_1$ y $\\theta_2$, estos angulos son los angulos que tienen las varillas con respecto al eje y, y tienen ventajas respecto a otras coordendas generalizadas porque:\n",
        "\n",
        "- Reducen el número de coordenadas necesarias: Al utilizar los ángulos, se reducen las cuatro coordenadas cartesianas a solo dos coordenadas generalizadas.\n",
        "\n",
        "- Simplifican las restricciones: Las longitudes de las varillas son constantes y, por tanto, no necesitan ser consideradas como variables independientes. Los ángulos incorporan naturalmente esta restricción geométrica."
      ]
    },
    {
      "cell_type": "markdown",
      "metadata": {},
      "source": [
        "### 4. Escriba las ecuaciones que permiten transformar de las variables generalizadas $\\{q_j\\}_M$ a las coordenadas $\\{\\vec r_i\\}_N$ y viceversa (transformación inversa).\n"
      ]
    },
    {
      "cell_type": "code",
      "execution_count": 3,
      "metadata": {},
      "outputs": [
        {
          "name": "stdout",
          "output_type": "stream",
          "text": [
            "De coordenadas generalizadas a cartesianas\n"
          ]
        },
        {
          "data": {
            "text/latex": [
              "$\\displaystyle x_{1} = L_{1} \\sin{\\left(\\theta_{1} \\right)}$"
            ],
            "text/plain": [
              "Eq(x1, L1*sin(theta1))"
            ]
          },
          "metadata": {},
          "output_type": "display_data"
        },
        {
          "data": {
            "text/latex": [
              "$\\displaystyle y_{1} = L_{1} \\cos{\\left(\\theta_{1} \\right)}$"
            ],
            "text/plain": [
              "Eq(y1, L1*cos(theta1))"
            ]
          },
          "metadata": {},
          "output_type": "display_data"
        },
        {
          "data": {
            "text/latex": [
              "$\\displaystyle x_{2} = L_{1} \\sin{\\left(\\theta_{1} \\right)} + L_{2} \\sin{\\left(\\theta_{2} \\right)}$"
            ],
            "text/plain": [
              "Eq(x2, L1*sin(theta1) + L2*sin(theta2))"
            ]
          },
          "metadata": {},
          "output_type": "display_data"
        },
        {
          "data": {
            "text/latex": [
              "$\\displaystyle y_{2} = L_{1} \\cos{\\left(\\theta_{1} \\right)} + L_{2} \\cos{\\left(\\theta_{2} \\right)}$"
            ],
            "text/plain": [
              "Eq(y2, L1*cos(theta1) + L2*cos(theta2))"
            ]
          },
          "metadata": {},
          "output_type": "display_data"
        },
        {
          "name": "stdout",
          "output_type": "stream",
          "text": [
            "De cartesianas a generalizadas\n"
          ]
        },
        {
          "data": {
            "text/latex": [
              "$\\displaystyle \\theta_{1} = \\operatorname{asin}{\\left(\\frac{x_{1}}{L_{1}} \\right)}$"
            ],
            "text/plain": [
              "Eq(theta1, asin(x1/L1))"
            ]
          },
          "metadata": {},
          "output_type": "display_data"
        },
        {
          "data": {
            "text/latex": [
              "$\\displaystyle \\theta_{1} = \\operatorname{acos}{\\left(\\frac{y_{1}}{L_{1}} \\right)}$"
            ],
            "text/plain": [
              "Eq(theta1, acos(y1/L1))"
            ]
          },
          "metadata": {},
          "output_type": "display_data"
        },
        {
          "data": {
            "text/latex": [
              "$\\displaystyle \\theta_{2} = - \\operatorname{asin}{\\left(\\frac{x_{1} - x_{2}}{L_{2}} \\right)}$"
            ],
            "text/plain": [
              "Eq(theta2, -asin((x1 - x2)/L2))"
            ]
          },
          "metadata": {},
          "output_type": "display_data"
        }
      ],
      "source": [
        "# Definiendo el eje positivo y hacía abajo, y el x hacía la derecha \n",
        "\n",
        "# Primero de coordenadas generalizadas a cartesianas\n",
        "x1_equation = sp.Eq(x1, L1 * sp.sin(theta1))\n",
        "y1_equation = sp.Eq(y1, L1 * sp.cos(theta1))\n",
        "x2_equation = sp.Eq(x2, L1 * sp.sin(theta1) + L2 * sp.sin(theta2) )\n",
        "y2_equation = sp.Eq(y2, L1 * sp.cos(theta1) + L2 * sp.cos(theta2))\n",
        "\n",
        "## Ahora de cartesianas a generalizadas\n",
        "\n",
        "# Primero resolvamos las ecuaciones \n",
        "theta1_solutions = sp.solve(( x1_equation), theta1) # Dos soluciones para theta1\n",
        "theta1_solutions_2 = sp.solve(( y1_equation), theta1)\n",
        "\n",
        "theta2_solutions = sp.solve((  x2_equation, y2_equation), theta2) # Dos soluciones para theta2\n",
        "\n",
        "# Poniendo las soluciones en ecuaciones\n",
        "theta1_equation = sp.Eq(theta1, theta1_solutions[1])\n",
        "theta1_equation_2 = sp.Eq(theta1, theta1_solutions_2[1]) \n",
        "\n",
        "# Reemplando L1*sin(theta1) por x1\n",
        "theta2_solution = theta2_solutions[1][0].subs(L1 * sp.sin(theta1), x1)\n",
        "theta2_equation = sp.Eq(theta2, theta2_solution) # Construyendo la ecuación\n",
        "\n",
        "## Imprimiendo nuestros resultados\n",
        "print('De coordenadas generalizadas a cartesianas')\n",
        "display(x1_equation, y1_equation, x2_equation, y2_equation)\n",
        "\n",
        "print('De cartesianas a generalizadas')\n",
        "display(theta1_equation, theta1_equation_2, theta2_equation)"
      ]
    },
    {
      "cell_type": "markdown",
      "metadata": {},
      "source": [
        "5. Usando `SymPy` escriba una rutina que, dadas las ecuaciones de transformación  $\\{\\vec r_i(\\{q_j\\}_M)\\}_N$ calcule la función de energía cinética para el sistema. Intente que la rutina sea tan general posible que pueda ser aplicada a otros sitstemas."
      ]
    },
    {
      "cell_type": "code",
      "execution_count": 4,
      "metadata": {},
      "outputs": [],
      "source": [
        "def kinetic_energy(transform_equations_per_particle):\n",
        "    \"\"\"\n",
        "    Esta función recibe una lista de diccionarios, donde cada diccionario\n",
        "    debe contener las ecuaciones de transformación de sympy y\n",
        "    las variables generalizadas por cada ecuación, si no aparece la función\n",
        "    se asume esta como 0, por ejemplo en el caso de z=0.\n",
        "\n",
        "    Retorna la función de energía cinética del sistema considerando movimiento en x, y, z.\n",
        "    \"\"\"\n",
        "    energy_total = 0  # Energía cinética total del sistema inicialmente es cero\n",
        "    t = symbols('t')  # Símbolo para el tiempo\n",
        "\n",
        "    # Procesamos cada partícula y calculamos su energía cinética\n",
        "    for particle in transform_equations_per_particle:\n",
        "        m = particle['mass']  # Masa de la partícula\n",
        "        q = particle['q']  # Variables generalizadas como funciones del tiempo\n",
        "\n",
        "        # Convertimos las variables generalizadas a funciones del tiempo y calculamos sus derivadas\n",
        "        q_funcs = {qi: Function(str(qi))(t) for qi in q}\n",
        "        #dq_funcs = {qi: diff(q_func, t) for qi, q_func in q_funcs.items()}\n",
        "\n",
        "        # Sustituimos las variables generalizadas en las ecuaciones de transformación por las funciones\n",
        "        x = particle['x'].subs(q_funcs) if 'x' in particle else 0\n",
        "        y = particle['y'].subs(q_funcs) if 'y' in particle else 0\n",
        "        z = particle['z'].subs(q_funcs) if 'z' in particle else 0\n",
        "\n",
        "        # Calculamos las derivadas de x, y, y z con respecto al tiempo usando la regla de la cadena\n",
        "        vx = x.diff(t) if 'x' in particle else 0\n",
        "        vy = y.diff(t) if 'y' in particle else 0\n",
        "        vz = z.diff(t) if 'z' in particle else 0\n",
        "\n",
        "        # Calculamos la energía cinética de la partícula y la sumamos al total\n",
        "        E = Rational(1, 2) * m * (vx**2 + vy**2 + vz**2)\n",
        "        energy_total += E\n",
        "\n",
        "    # Simplificamos la energía cinética total y la retornamos\n",
        "    return simplify(energy_total)\n"
      ]
    },
    {
      "cell_type": "markdown",
      "metadata": {},
      "source": [
        "usemos esta función  para hallar la ecuación de la engergía cinética de nuestro problema del pendulo doble"
      ]
    },
    {
      "cell_type": "code",
      "execution_count": 5,
      "metadata": {},
      "outputs": [
        {
          "data": {
            "text/latex": [
              "$\\displaystyle T = \\frac{L_{1}^{2} m_{1} \\left(\\frac{d}{d t} \\theta_{1}{\\left(t \\right)}\\right)^{2}}{2} + \\frac{m_{2} \\left(L_{1}^{2} \\left(\\frac{d}{d t} \\theta_{1}{\\left(t \\right)}\\right)^{2} + 2 L_{1} L_{2} \\cos{\\left(\\theta_{1}{\\left(t \\right)} - \\theta_{2}{\\left(t \\right)} \\right)} \\frac{d}{d t} \\theta_{1}{\\left(t \\right)} \\frac{d}{d t} \\theta_{2}{\\left(t \\right)} + L_{2}^{2} \\left(\\frac{d}{d t} \\theta_{2}{\\left(t \\right)}\\right)^{2}\\right)}{2}$"
            ],
            "text/plain": [
              "Eq(T, L1**2*m1*Derivative(theta1(t), t)**2/2 + m2*(L1**2*Derivative(theta1(t), t)**2 + 2*L1*L2*cos(theta1(t) - theta2(t))*Derivative(theta1(t), t)*Derivative(theta2(t), t) + L2**2*Derivative(theta2(t), t)**2)/2)"
            ]
          },
          "execution_count": 5,
          "metadata": {},
          "output_type": "execute_result"
        }
      ],
      "source": [
        "# Definir las variables generalizadas\n",
        "theta1, theta2 = symbols('theta1 theta2')\n",
        "m1, m2, L1, L2 = symbols('m1 m2 L1 L2')\n",
        "\n",
        "# Lista de ecuaciones de transformación para cada partícula \n",
        "transform_equations_per_particle = [\n",
        "    {\n",
        "        'mass': m1,\n",
        "        'x': L1 * sin(theta1),\n",
        "        'y': L1 * cos(theta1),\n",
        "        'q': [theta1],\n",
        "    },\n",
        "    {\n",
        "        'mass': m2,\n",
        "        'x': L1 * sin(theta1) + L2 * sin(theta2),\n",
        "        'y': L1 * cos(theta1) + L2 * cos(theta2),\n",
        "       'q': [theta1, theta2],\n",
        "    }\n",
        "]\n",
        "\n",
        "# Calcular la función de energía cinética del sistema  \n",
        "T_total = kinetic_energy(transform_equations_per_particle)\n",
        "# Imprimiendo la energía cinética\n",
        "T = symbols('T')\n",
        "Ttotal_equation = Eq(T, T_total)\n",
        "Ttotal_equation"
      ]
    },
    {
      "cell_type": "code",
      "execution_count": 6,
      "metadata": {},
      "outputs": [
        {
          "data": {
            "text/latex": [
              "$\\displaystyle Q_{1} = L_{1} \\left(L_{1} m_{1} \\frac{d^{2}}{d t^{2}} \\theta_{1}{\\left(t \\right)} + L_{1} m_{2} \\frac{d^{2}}{d t^{2}} \\theta_{1}{\\left(t \\right)} + L_{2} m_{2} \\sin{\\left(\\theta_{1}{\\left(t \\right)} - \\theta_{2}{\\left(t \\right)} \\right)} \\left(\\frac{d}{d t} \\theta_{2}{\\left(t \\right)}\\right)^{2} + L_{2} m_{2} \\cos{\\left(\\theta_{1}{\\left(t \\right)} - \\theta_{2}{\\left(t \\right)} \\right)} \\frac{d^{2}}{d t^{2}} \\theta_{2}{\\left(t \\right)}\\right)$"
            ],
            "text/plain": [
              "Eq(Q1, L1*(L1*m1*Derivative(theta1(t), (t, 2)) + L1*m2*Derivative(theta1(t), (t, 2)) + L2*m2*sin(theta1(t) - theta2(t))*Derivative(theta2(t), t)**2 + L2*m2*cos(theta1(t) - theta2(t))*Derivative(theta2(t), (t, 2))))"
            ]
          },
          "metadata": {},
          "output_type": "display_data"
        },
        {
          "data": {
            "text/latex": [
              "$\\displaystyle Q_{2} = L_{2} m_{2} \\left(- L_{1} \\sin{\\left(\\theta_{1}{\\left(t \\right)} - \\theta_{2}{\\left(t \\right)} \\right)} \\left(\\frac{d}{d t} \\theta_{1}{\\left(t \\right)}\\right)^{2} + L_{1} \\cos{\\left(\\theta_{1}{\\left(t \\right)} - \\theta_{2}{\\left(t \\right)} \\right)} \\frac{d^{2}}{d t^{2}} \\theta_{1}{\\left(t \\right)} + L_{2} \\frac{d^{2}}{d t^{2}} \\theta_{2}{\\left(t \\right)}\\right)$"
            ],
            "text/plain": [
              "Eq(Q2, L2*m2*(-L1*sin(theta1(t) - theta2(t))*Derivative(theta1(t), t)**2 + L1*cos(theta1(t) - theta2(t))*Derivative(theta1(t), (t, 2)) + L2*Derivative(theta2(t), (t, 2))))"
            ]
          },
          "metadata": {},
          "output_type": "display_data"
        }
      ],
      "source": [
        "def Q_k_from_T_total(T_function, qs):\n",
        "    \"\"\"\n",
        "    Las qs ya deben entrar como funciones del tiempo\n",
        "    \"\"\"\n",
        "    \n",
        "    Q=[]\n",
        "    t = symbols('t')  # Símbolo para el tiempo\n",
        "    for q in qs:\n",
        "\n",
        "        # Primero encontremos las derivadas respecto a las qs\n",
        "        dT_dq = T_function.diff(q)\n",
        "\n",
        "        # Ahora respecto a las q punto:\n",
        "        dT_dq_dot = T_function.diff(Derivative(q, t))\n",
        "\n",
        "        # Ahora eso lo derivamos respecto al tiempo\n",
        "        dt_dT_dq_dot = dT_dq_dot.diff(t)\n",
        "        Q.append(simplify(dt_dT_dq_dot - dT_dq))\n",
        "    return(Q)\n",
        "\n",
        "t = symbols('t')  # Símbolo para el tiempo\n",
        "theta1 = Function('theta1')(t)\n",
        "theta2 = Function('theta2')(t)\n",
        "\n",
        "Qs = Q_k_from_T_total(T_total,  [theta1, theta2])\n",
        "\n",
        "# Imprimamos nuestros resultados\n",
        "for i,j in enumerate(Qs): \n",
        "    Qj = symbols(f'Q{i + 1}')\n",
        "    display(Eq(Qj,j))"
      ]
    },
    {
      "cell_type": "markdown",
      "metadata": {},
      "source": [
        "### 6. Usando `SymPy` escriba una rutina que, dadas las ecuaciones de transformación  $\\{\\vec r_i(\\{q_j\\}_M)\\}_N$ y las componentes cartesianas de las fuerzas que actúan sobre las partículas, determine las fuerzas generalizadas. Intente que la rutina sea tan general posible que pueda ser aplicada a otros sitstemas."
      ]
    },
    {
      "cell_type": "code",
      "execution_count": 7,
      "metadata": {},
      "outputs": [],
      "source": [
        "\n",
        "\n",
        "# Hagamos una función que encuentre las fuerzas generalizadas de muchos sistemas\n",
        "def generalized_forces(transform_equations, forces):\n",
        "    # t será nuestro símbolo para el tiempo\n",
        "    t = sp.symbols('t')\n",
        "    Q = [] # en esta lista vamos a ir agegando nuestros Qj\n",
        "\n",
        "    for j, qj in enumerate(transform_equations['q']):\n",
        "        Qj = 0\n",
        "        for i, particle in enumerate(transform_equations['particles']):\n",
        "            # Extraemos el vector de posición de la partícula i\n",
        "            r_i = sp.Matrix(particle['r'])\n",
        "            # Calculamos la derivada parcial del vector r_i respecto a la variable generalizada qj\n",
        "            dr_i_dqj = r_i.diff(qj)\n",
        "            # Agregamos el producto punto de la fuerza en la partícula i y dr_i_dqj a Qj\n",
        "            Qj += forces[i].dot(dr_i_dqj)\n",
        "        # Agregamos la fuerza generalizada para la variable qj a la lista de fuerzas generalizadas\n",
        "        Q.append(simplify(Qj))\n",
        "\n",
        "    return Q"
      ]
    },
    {
      "cell_type": "markdown",
      "metadata": {},
      "source": [
        "Ahora usemos esta función para hallar las Fuerzas generalizadas de nuestro sistema de pendulo doble"
      ]
    },
    {
      "cell_type": "code",
      "execution_count": 8,
      "metadata": {},
      "outputs": [
        {
          "data": {
            "text/latex": [
              "$\\displaystyle Q_{1} = L_{1} g \\left(- m_{1} - m_{2}\\right) \\sin{\\left(\\theta_{1}{\\left(t \\right)} \\right)}$"
            ],
            "text/plain": [
              "Eq(Q1, L1*g*(-m1 - m2)*sin(theta1(t)))"
            ]
          },
          "metadata": {},
          "output_type": "display_data"
        },
        {
          "data": {
            "text/latex": [
              "$\\displaystyle Q_{2} = - L_{2} g m_{2} \\sin{\\left(\\theta_{2}{\\left(t \\right)} \\right)}$"
            ],
            "text/plain": [
              "Eq(Q2, -L2*g*m2*sin(theta2(t)))"
            ]
          },
          "metadata": {},
          "output_type": "display_data"
        }
      ],
      "source": [
        "# Definir las variables generalizadas y las fuerzas\n",
        "# Haciendo nuetsras variables funciones del tiempo\n",
        "theta1 = Function('theta1')(t)\n",
        "theta2 = Function('theta2')(t)\n",
        "m1, m2, L1, L2, g = symbols('m1 m2 L1 L2 g')\n",
        "\n",
        "# Ecuaciones de transformación para las posiciones de las partículas en términos de las variables generalizadas\n",
        "r1 = [L1 * sin(theta1), L1 * cos(theta1), 0]  # Posición de la primera masa\n",
        "r2 = [L1 * sin(theta1) + L2 * sin(theta2),  L1 * cos(theta1) + L2 * cos(theta2), 0]  # Posición de la segunda masa\n",
        "\n",
        "# Fuerzas actuando sobre las partículas (en este caso, solo la gravedad)\n",
        "F1 = [0, m1 * g, 0]\n",
        "F2 = [0, m2 * g, 0]\n",
        "\n",
        "# Construir las ecuaciones de transformación y las fuerzas en la estructura correcta\n",
        "transform_equations = {\n",
        "    'q': [theta1, theta2],\n",
        "    'particles': [\n",
        "        {'r': r1},\n",
        "        {'r': r2}\n",
        "    ]\n",
        "}\n",
        "\n",
        "forces = [Matrix(F1), Matrix(F2)]\n",
        "\n",
        "# Calcular las fuerzas generalizadas para el péndulo doble\n",
        "generalized_forces = generalized_forces(transform_equations, forces)\n",
        "\n",
        "# Imprimamos nuestros resultados\n",
        "for i,j in enumerate(generalized_forces, start = 1): \n",
        "    Qj = symbols(f'Q{i}')\n",
        "    display(Eq(Qj,j))"
      ]
    },
    {
      "cell_type": "markdown",
      "metadata": {},
      "source": [
        "7. Usando los resultados en 5 y en 6, escriba las ecuaciones de movimiento del sistema. Es normal que las ecuaciones se escriban como la segunda derivada de cada variable generalizada como función de las primeras derivada de las variables generalizadas y las variables generalizadas en sí.  Es decir las ecuaciones deben tener la forma:\n",
        "\n",
        "  $$\n",
        "  \\ddot q_j = f_j (t,\\{q_j\\}_M,\\{\\dot q_j\\}_M)\n",
        "  $$"
      ]
    },
    {
      "cell_type": "markdown",
      "metadata": {},
      "source": [
        "primero obtengamos las Qs a partir de la ecuación de Lagrange con la función de Energí cinética"
      ]
    },
    {
      "cell_type": "code",
      "execution_count": 9,
      "metadata": {},
      "outputs": [
        {
          "data": {
            "text/latex": [
              "$\\displaystyle Q_{1} = L_{1} \\left(L_{1} m_{1} \\frac{d^{2}}{d t^{2}} \\theta_{1}{\\left(t \\right)} + L_{1} m_{2} \\frac{d^{2}}{d t^{2}} \\theta_{1}{\\left(t \\right)} + L_{2} m_{2} \\sin{\\left(\\theta_{1}{\\left(t \\right)} - \\theta_{2}{\\left(t \\right)} \\right)} \\left(\\frac{d}{d t} \\theta_{2}{\\left(t \\right)}\\right)^{2} + L_{2} m_{2} \\cos{\\left(\\theta_{1}{\\left(t \\right)} - \\theta_{2}{\\left(t \\right)} \\right)} \\frac{d^{2}}{d t^{2}} \\theta_{2}{\\left(t \\right)}\\right)$"
            ],
            "text/plain": [
              "Eq(Q1, L1*(L1*m1*Derivative(theta1(t), (t, 2)) + L1*m2*Derivative(theta1(t), (t, 2)) + L2*m2*sin(theta1(t) - theta2(t))*Derivative(theta2(t), t)**2 + L2*m2*cos(theta1(t) - theta2(t))*Derivative(theta2(t), (t, 2))))"
            ]
          },
          "metadata": {},
          "output_type": "display_data"
        },
        {
          "data": {
            "text/latex": [
              "$\\displaystyle Q_{2} = L_{2} m_{2} \\left(- L_{1} \\sin{\\left(\\theta_{1}{\\left(t \\right)} - \\theta_{2}{\\left(t \\right)} \\right)} \\left(\\frac{d}{d t} \\theta_{1}{\\left(t \\right)}\\right)^{2} + L_{1} \\cos{\\left(\\theta_{1}{\\left(t \\right)} - \\theta_{2}{\\left(t \\right)} \\right)} \\frac{d^{2}}{d t^{2}} \\theta_{1}{\\left(t \\right)} + L_{2} \\frac{d^{2}}{d t^{2}} \\theta_{2}{\\left(t \\right)}\\right)$"
            ],
            "text/plain": [
              "Eq(Q2, L2*m2*(-L1*sin(theta1(t) - theta2(t))*Derivative(theta1(t), t)**2 + L1*cos(theta1(t) - theta2(t))*Derivative(theta1(t), (t, 2)) + L2*Derivative(theta2(t), (t, 2))))"
            ]
          },
          "metadata": {},
          "output_type": "display_data"
        }
      ],
      "source": [
        "def Q_k_from_T_total(T_function, qs):\n",
        "    \"\"\"\n",
        "    Las qs ya deben entrar como funciones del tiempo\n",
        "    \"\"\"\n",
        "    \n",
        "    Q=[]\n",
        "    t = symbols('t')  # Símbolo para el tiempo\n",
        "    for q in qs:\n",
        "\n",
        "        # Primero encontremos las derivadas respecto a las qs\n",
        "        dT_dq = T_function.diff(q)\n",
        "\n",
        "        # Ahora respecto a las q punto:\n",
        "        dT_dq_dot = T_function.diff(Derivative(q, t))\n",
        "\n",
        "        # Ahora eso lo derivamos respecto al tiempo\n",
        "        dt_dT_dq_dot = dT_dq_dot.diff(t)\n",
        "        Q.append(simplify(dt_dT_dq_dot - dT_dq))\n",
        "    return(Q)\n",
        "\n",
        "# Ahora usemos esta función para obtener las Qs\n",
        "t = symbols('t')  # Símbolo para el tiempo\n",
        "theta1 = Function('theta1')(t)\n",
        "theta2 = Function('theta2')(t)\n",
        "\n",
        "Qs = Q_k_from_T_total(T_total,  [theta1, theta2])\n",
        "\n",
        "# Imprimamos nuestros resultados\n",
        "for i,j in enumerate(Qs): \n",
        "    Qj = symbols(f'Q{i + 1}')\n",
        "    display(Eq(Qj,j))"
      ]
    },
    {
      "cell_type": "code",
      "execution_count": 10,
      "metadata": {},
      "outputs": [],
      "source": [
        "def Qs_from_T_function(T_function, variables):\n",
        "    \"\"\"\n",
        "    Calcula las derivadas generalizadas (Q_k) para un conjunto de variables de una función \n",
        "    de energía cinética total dada. Devuelve una lista de expresiones para cada Q_k.\n",
        "    \n",
        "    Parámetros:\n",
        "    - T_function : sympy.Expr\n",
        "        La función de energía cinética del sistema.\n",
        "    - variables : list\n",
        "        Lista de variables generalizadas como funciones del t.\n",
        "    \n",
        "    Retorna:\n",
        "    - list\n",
        "        Lista de expresiones de derivadas generalizadas Q_k.\n",
        "    \"\"\"\n",
        "    \n",
        "    Q = []  # Lista para almacenar las derivadas generalizadas\n",
        "    t = symbols('t')  # Definir el símbolo del t\n",
        "    for q in variables:\n",
        "        # Encontrar la derivada parcial de la energía cinética con respecto a q\n",
        "        dT_dq = T_function.diff(q)\n",
        "\n",
        "        # Encontrar la derivada parcial de la energía cinética con respecto a q punto (derivada de q)\n",
        "        dT_dq_punto = T_function.diff(Derivative(q, t))\n",
        "\n",
        "        # Derivar dT_dq_punto con respecto al t\n",
        "        d_dt_dT_dq_punto = dT_dq_punto.diff(t)\n",
        "        \n",
        "        # Calcular la derivada generalizada Q y añadirla a la lista\n",
        "        Q.append(simplify(d_dt_dT_dq_punto - dT_dq))\n",
        "    return Q\n",
        "\n"
      ]
    },
    {
      "cell_type": "markdown",
      "metadata": {},
      "source": [
        "Usando la función para calcular nuetros Qs a partir de la ecuación de lagrange"
      ]
    },
    {
      "cell_type": "code",
      "execution_count": 11,
      "metadata": {},
      "outputs": [
        {
          "data": {
            "text/latex": [
              "$\\displaystyle Q_{1} = L_{1} \\left(L_{1} m_{1} \\frac{d^{2}}{d t^{2}} \\theta_{1}{\\left(t \\right)} + L_{1} m_{2} \\frac{d^{2}}{d t^{2}} \\theta_{1}{\\left(t \\right)} + L_{2} m_{2} \\sin{\\left(\\theta_{1}{\\left(t \\right)} - \\theta_{2}{\\left(t \\right)} \\right)} \\left(\\frac{d}{d t} \\theta_{2}{\\left(t \\right)}\\right)^{2} + L_{2} m_{2} \\cos{\\left(\\theta_{1}{\\left(t \\right)} - \\theta_{2}{\\left(t \\right)} \\right)} \\frac{d^{2}}{d t^{2}} \\theta_{2}{\\left(t \\right)}\\right)$"
            ],
            "text/plain": [
              "Eq(Q1, L1*(L1*m1*Derivative(theta1(t), (t, 2)) + L1*m2*Derivative(theta1(t), (t, 2)) + L2*m2*sin(theta1(t) - theta2(t))*Derivative(theta2(t), t)**2 + L2*m2*cos(theta1(t) - theta2(t))*Derivative(theta2(t), (t, 2))))"
            ]
          },
          "metadata": {},
          "output_type": "display_data"
        },
        {
          "data": {
            "text/latex": [
              "$\\displaystyle Q_{2} = L_{2} m_{2} \\left(- L_{1} \\sin{\\left(\\theta_{1}{\\left(t \\right)} - \\theta_{2}{\\left(t \\right)} \\right)} \\left(\\frac{d}{d t} \\theta_{1}{\\left(t \\right)}\\right)^{2} + L_{1} \\cos{\\left(\\theta_{1}{\\left(t \\right)} - \\theta_{2}{\\left(t \\right)} \\right)} \\frac{d^{2}}{d t^{2}} \\theta_{1}{\\left(t \\right)} + L_{2} \\frac{d^{2}}{d t^{2}} \\theta_{2}{\\left(t \\right)}\\right)$"
            ],
            "text/plain": [
              "Eq(Q2, L2*m2*(-L1*sin(theta1(t) - theta2(t))*Derivative(theta1(t), t)**2 + L1*cos(theta1(t) - theta2(t))*Derivative(theta1(t), (t, 2)) + L2*Derivative(theta2(t), (t, 2))))"
            ]
          },
          "metadata": {},
          "output_type": "display_data"
        }
      ],
      "source": [
        "# Haciendo nuetsras variables funciones del tiempo\n",
        "theta1 = Function('theta1')(t)\n",
        "theta2 = Function('theta2')(t)\n",
        "\n",
        "# Calcular las Qs para theta1 y theta2\n",
        "Qs = Qs_from_T_function(T_total, [theta1, theta2])\n",
        "\n",
        "# Mostrar los resultados (asumiendo que Qs ha sido calculado)\n",
        "for i, Q in enumerate(Qs, start=1):\n",
        "     display(Eq(symbols(f'Q{i}'), Q))"
      ]
    },
    {
      "cell_type": "markdown",
      "metadata": {},
      "source": []
    },
    {
      "cell_type": "markdown",
      "metadata": {},
      "source": [
        "Ahora ya tenemos los Qs por dos metodos, podemos igualarlos para despejar nuestra aceleración angular"
      ]
    },
    {
      "cell_type": "code",
      "execution_count": 12,
      "metadata": {},
      "outputs": [
        {
          "data": {
            "text/latex": [
              "$\\displaystyle \\frac{d^{2}}{d t^{2}} \\theta_{1}{\\left(t \\right)} = - \\frac{L_{2} m_{2} \\sin{\\left(\\theta_{1}{\\left(t \\right)} - \\theta_{2}{\\left(t \\right)} \\right)} \\left(\\frac{d}{d t} \\theta_{2}{\\left(t \\right)}\\right)^{2} + L_{2} m_{2} \\cos{\\left(\\theta_{1}{\\left(t \\right)} - \\theta_{2}{\\left(t \\right)} \\right)} \\frac{d^{2}}{d t^{2}} \\theta_{2}{\\left(t \\right)} + g m_{1} \\sin{\\left(\\theta_{1}{\\left(t \\right)} \\right)} + g m_{2} \\sin{\\left(\\theta_{1}{\\left(t \\right)} \\right)}}{L_{1} \\left(m_{1} + m_{2}\\right)}$"
            ],
            "text/plain": [
              "Eq(Derivative(theta1(t), (t, 2)), -(L2*m2*sin(theta1(t) - theta2(t))*Derivative(theta2(t), t)**2 + L2*m2*cos(theta1(t) - theta2(t))*Derivative(theta2(t), (t, 2)) + g*m1*sin(theta1(t)) + g*m2*sin(theta1(t)))/(L1*(m1 + m2)))"
            ]
          },
          "metadata": {},
          "output_type": "display_data"
        },
        {
          "data": {
            "text/latex": [
              "$\\displaystyle \\frac{d^{2}}{d t^{2}} \\theta_{2}{\\left(t \\right)} = \\frac{L_{1} \\sin{\\left(\\theta_{1}{\\left(t \\right)} - \\theta_{2}{\\left(t \\right)} \\right)} \\left(\\frac{d}{d t} \\theta_{1}{\\left(t \\right)}\\right)^{2} - L_{1} \\cos{\\left(\\theta_{1}{\\left(t \\right)} - \\theta_{2}{\\left(t \\right)} \\right)} \\frac{d^{2}}{d t^{2}} \\theta_{1}{\\left(t \\right)} - g \\sin{\\left(\\theta_{2}{\\left(t \\right)} \\right)}}{L_{2}}$"
            ],
            "text/plain": [
              "Eq(Derivative(theta2(t), (t, 2)), (L1*sin(theta1(t) - theta2(t))*Derivative(theta1(t), t)**2 - L1*cos(theta1(t) - theta2(t))*Derivative(theta1(t), (t, 2)) - g*sin(theta2(t)))/L2)"
            ]
          },
          "metadata": {},
          "output_type": "display_data"
        }
      ],
      "source": [
        "# Igualando\n",
        "eq_1 = Eq(generalized_forces[0], Qs[0])\n",
        "eq_2 = Eq(generalized_forces[1], Qs[1])\n",
        "\n",
        "# Despejando las aceleraciones angulares\n",
        "d2_theta1 = Eq(Derivative(theta1, t, 2),solve(eq_1,Derivative(theta1, t, 2))[0])\n",
        "d2_theta2 = Eq(Derivative(theta2, t, 2),solve(eq_2,Derivative(theta2, t, 2))[0])\n",
        "\n",
        "# Mostrando los resultados \n",
        "display(d2_theta1, d2_theta2)"
      ]
    },
    {
      "cell_type": "markdown",
      "metadata": {},
      "source": [
        "-----------------"
      ]
    },
    {
      "cell_type": "markdown",
      "metadata": {},
      "source": [
        "sin dependencias la una de la otra"
      ]
    },
    {
      "cell_type": "code",
      "execution_count": 13,
      "metadata": {},
      "outputs": [
        {
          "data": {
            "text/latex": [
              "$\\displaystyle \\frac{d^{2}}{d t^{2}} \\theta_{1}{\\left(t \\right)} = \\frac{- \\frac{L_{1} m_{2} \\sin{\\left(2 \\theta_{1}{\\left(t \\right)} - 2 \\theta_{2}{\\left(t \\right)} \\right)} \\left(\\frac{d}{d t} \\theta_{1}{\\left(t \\right)}\\right)^{2}}{2} - L_{2} m_{2} \\sin{\\left(\\theta_{1}{\\left(t \\right)} - \\theta_{2}{\\left(t \\right)} \\right)} \\left(\\frac{d}{d t} \\theta_{2}{\\left(t \\right)}\\right)^{2} - g m_{1} \\sin{\\left(\\theta_{1}{\\left(t \\right)} \\right)} - \\frac{g m_{2} \\sin{\\left(\\theta_{1}{\\left(t \\right)} - 2 \\theta_{2}{\\left(t \\right)} \\right)}}{2} - \\frac{g m_{2} \\sin{\\left(\\theta_{1}{\\left(t \\right)} \\right)}}{2}}{L_{1} \\left(m_{1} - m_{2} \\cos^{2}{\\left(\\theta_{1}{\\left(t \\right)} - \\theta_{2}{\\left(t \\right)} \\right)} + m_{2}\\right)}$"
            ],
            "text/plain": [
              "Eq(Derivative(theta1(t), (t, 2)), (-L1*m2*sin(2*theta1(t) - 2*theta2(t))*Derivative(theta1(t), t)**2/2 - L2*m2*sin(theta1(t) - theta2(t))*Derivative(theta2(t), t)**2 - g*m1*sin(theta1(t)) - g*m2*sin(theta1(t) - 2*theta2(t))/2 - g*m2*sin(theta1(t))/2)/(L1*(m1 - m2*cos(theta1(t) - theta2(t))**2 + m2)))"
            ]
          },
          "metadata": {},
          "output_type": "display_data"
        },
        {
          "data": {
            "text/latex": [
              "$\\displaystyle \\frac{d^{2}}{d t^{2}} \\theta_{2}{\\left(t \\right)} = \\frac{L_{1} m_{1} \\sin{\\left(\\theta_{1}{\\left(t \\right)} - \\theta_{2}{\\left(t \\right)} \\right)} \\left(\\frac{d}{d t} \\theta_{1}{\\left(t \\right)}\\right)^{2} + L_{1} m_{2} \\sin{\\left(\\theta_{1}{\\left(t \\right)} - \\theta_{2}{\\left(t \\right)} \\right)} \\left(\\frac{d}{d t} \\theta_{1}{\\left(t \\right)}\\right)^{2} + \\frac{L_{2} m_{2} \\sin{\\left(2 \\theta_{1}{\\left(t \\right)} - 2 \\theta_{2}{\\left(t \\right)} \\right)} \\left(\\frac{d}{d t} \\theta_{2}{\\left(t \\right)}\\right)^{2}}{2} + \\frac{g m_{1} \\sin{\\left(2 \\theta_{1}{\\left(t \\right)} - \\theta_{2}{\\left(t \\right)} \\right)}}{2} - \\frac{g m_{1} \\sin{\\left(\\theta_{2}{\\left(t \\right)} \\right)}}{2} + \\frac{g m_{2} \\sin{\\left(2 \\theta_{1}{\\left(t \\right)} - \\theta_{2}{\\left(t \\right)} \\right)}}{2} - \\frac{g m_{2} \\sin{\\left(\\theta_{2}{\\left(t \\right)} \\right)}}{2}}{L_{2} \\left(m_{1} - m_{2} \\cos^{2}{\\left(\\theta_{1}{\\left(t \\right)} - \\theta_{2}{\\left(t \\right)} \\right)} + m_{2}\\right)}$"
            ],
            "text/plain": [
              "Eq(Derivative(theta2(t), (t, 2)), (L1*m1*sin(theta1(t) - theta2(t))*Derivative(theta1(t), t)**2 + L1*m2*sin(theta1(t) - theta2(t))*Derivative(theta1(t), t)**2 + L2*m2*sin(2*theta1(t) - 2*theta2(t))*Derivative(theta2(t), t)**2/2 + g*m1*sin(2*theta1(t) - theta2(t))/2 - g*m1*sin(theta2(t))/2 + g*m2*sin(2*theta1(t) - theta2(t))/2 - g*m2*sin(theta2(t))/2)/(L2*(m1 - m2*cos(theta1(t) - theta2(t))**2 + m2)))"
            ]
          },
          "metadata": {},
          "output_type": "display_data"
        }
      ],
      "source": [
        "# Resolvemos el sistema de ecuaciones para las segundas derivadas de theta1 y theta2\n",
        "solutions = solve((eq_1, eq_2), (Derivative(theta1, t, 2), Derivative(theta2, t, 2)), dict=True)\n",
        "\n",
        "# Convertimos las soluciones en ecuaciones para mostrarlas\n",
        "solutions_eqs = [Eq(key, value) for solution in solutions for key, value in solution.items()]\n",
        "\n",
        "# Imprimimos las soluciones de manera 'bonita'\n",
        "for eq in solutions_eqs:\n",
        "    display(simplify(eq))\n"
      ]
    },
    {
      "cell_type": "markdown",
      "metadata": {},
      "source": [
        "### **Parte 2. Lagrangiano**\n",
        "\n",
        "## 1. Encuentre la forma de la función potencial de la que derivan las fuerzas generalizadas del sistema."
      ]
    },
    {
      "cell_type": "code",
      "execution_count": 14,
      "metadata": {},
      "outputs": [
        {
          "data": {
            "text/latex": [
              "$\\displaystyle Ugen = - g \\left(L_{1} m_{1} \\cos{\\left(\\theta_{1}{\\left(t \\right)} \\right)} + L_{1} m_{2} \\cos{\\left(\\theta_{1}{\\left(t \\right)} \\right)} + L_{2} m_{2} \\cos{\\left(\\theta_{2}{\\left(t \\right)} \\right)}\\right)$"
            ],
            "text/plain": [
              "Eq(Ugen, -g*(L1*m1*cos(theta1(t)) + L1*m2*cos(theta1(t)) + L2*m2*cos(theta2(t))))"
            ]
          },
          "execution_count": 14,
          "metadata": {},
          "output_type": "execute_result"
        }
      ],
      "source": [
        "# Definamos esta función potencial\n",
        "Ugen = symbols(\"Ugen\") # Asignandole un simbolo\n",
        "\n",
        "# Escribiendo la ecuación\n",
        "potential_function = Eq(Ugen,simplify(-(m1*g*L1*cos(theta1)+m2*g*(L1 * sp.cos(theta1) + L2 * sp.cos(theta2)))))\n",
        "potential_function"
      ]
    },
    {
      "cell_type": "markdown",
      "metadata": {},
      "source": [
        "## 2. Con la función potencial y la función lagrangiana, escriba el lagrangiano del sistema."
      ]
    },
    {
      "cell_type": "code",
      "execution_count": 15,
      "metadata": {},
      "outputs": [
        {
          "data": {
            "text/latex": [
              "$\\displaystyle L = \\frac{L_{1}^{2} m_{1} \\left(\\frac{d}{d t} \\theta_{1}{\\left(t \\right)}\\right)^{2}}{2} + g \\left(L_{1} m_{1} \\cos{\\left(\\theta_{1}{\\left(t \\right)} \\right)} + L_{1} m_{2} \\cos{\\left(\\theta_{1}{\\left(t \\right)} \\right)} + L_{2} m_{2} \\cos{\\left(\\theta_{2}{\\left(t \\right)} \\right)}\\right) + \\frac{m_{2} \\left(L_{1}^{2} \\left(\\frac{d}{d t} \\theta_{1}{\\left(t \\right)}\\right)^{2} + 2 L_{1} L_{2} \\cos{\\left(\\theta_{1}{\\left(t \\right)} - \\theta_{2}{\\left(t \\right)} \\right)} \\frac{d}{d t} \\theta_{1}{\\left(t \\right)} \\frac{d}{d t} \\theta_{2}{\\left(t \\right)} + L_{2}^{2} \\left(\\frac{d}{d t} \\theta_{2}{\\left(t \\right)}\\right)^{2}\\right)}{2}$"
            ],
            "text/plain": [
              "Eq(L, L1**2*m1*Derivative(theta1(t), t)**2/2 + g*(L1*m1*cos(theta1(t)) + L1*m2*cos(theta1(t)) + L2*m2*cos(theta2(t))) + m2*(L1**2*Derivative(theta1(t), t)**2 + 2*L1*L2*cos(theta1(t) - theta2(t))*Derivative(theta1(t), t)*Derivative(theta2(t), t) + L2**2*Derivative(theta2(t), t)**2)/2)"
            ]
          },
          "execution_count": 15,
          "metadata": {},
          "output_type": "execute_result"
        }
      ],
      "source": [
        "L = symbols('L') # Primero definamos el simbolo del Lagrangiano\n",
        "# Ahora podemos tener la ecuación del lagrangiano como L = T - Ugen\n",
        "Lagrangiano = simplify(Ttotal_equation.rhs - potential_function.rhs)\n",
        "Lagrangiano_equation =  Eq(L, Lagrangiano ) \n",
        "Lagrangiano_equation"
      ]
    },
    {
      "cell_type": "markdown",
      "metadata": {},
      "source": [
        "### 3. Deduzca, a partir de las ecuaciones de Euler-Lagrange, las ecuaciones de movimiento y verifique que coinciden con las ecuaciones de movimiento obtenidas a partir de las ecuaciones de Lagrange."
      ]
    },
    {
      "cell_type": "markdown",
      "metadata": {},
      "source": [
        "$$\\left\\{ \\frac{d}{dt} \\left( \\frac{\\partial L}{\\partial \\dot{q}_j} \\right) - \\frac{\\partial L}{\\partial q_j} = 0 \\right\\}_M$$\n"
      ]
    },
    {
      "cell_type": "markdown",
      "metadata": {},
      "source": [
        "Para la solyución de este problema nos podemos valer del codigo que teniamos para hallar las ecuaciones de Lagrange, solo que ahora nuestro resultado usamos a L en vez de T, y este va igualado a 0 en vez de los $Q_k$"
      ]
    },
    {
      "cell_type": "code",
      "execution_count": 16,
      "metadata": {},
      "outputs": [
        {
          "data": {
            "text/latex": [
              "$\\displaystyle 0 = L_{1} \\left(L_{1} m_{1} \\frac{d^{2}}{d t^{2}} \\theta_{1}{\\left(t \\right)} + L_{1} m_{2} \\frac{d^{2}}{d t^{2}} \\theta_{1}{\\left(t \\right)} + L_{2} m_{2} \\sin{\\left(\\theta_{1}{\\left(t \\right)} - \\theta_{2}{\\left(t \\right)} \\right)} \\left(\\frac{d}{d t} \\theta_{2}{\\left(t \\right)}\\right)^{2} + L_{2} m_{2} \\cos{\\left(\\theta_{1}{\\left(t \\right)} - \\theta_{2}{\\left(t \\right)} \\right)} \\frac{d^{2}}{d t^{2}} \\theta_{2}{\\left(t \\right)} + g m_{1} \\sin{\\left(\\theta_{1}{\\left(t \\right)} \\right)} + g m_{2} \\sin{\\left(\\theta_{1}{\\left(t \\right)} \\right)}\\right)$"
            ],
            "text/plain": [
              "Eq(0, L1*(L1*m1*Derivative(theta1(t), (t, 2)) + L1*m2*Derivative(theta1(t), (t, 2)) + L2*m2*sin(theta1(t) - theta2(t))*Derivative(theta2(t), t)**2 + L2*m2*cos(theta1(t) - theta2(t))*Derivative(theta2(t), (t, 2)) + g*m1*sin(theta1(t)) + g*m2*sin(theta1(t))))"
            ]
          },
          "metadata": {},
          "output_type": "display_data"
        },
        {
          "data": {
            "text/latex": [
              "$\\displaystyle 0 = L_{2} m_{2} \\left(- L_{1} \\sin{\\left(\\theta_{1}{\\left(t \\right)} - \\theta_{2}{\\left(t \\right)} \\right)} \\left(\\frac{d}{d t} \\theta_{1}{\\left(t \\right)}\\right)^{2} + L_{1} \\cos{\\left(\\theta_{1}{\\left(t \\right)} - \\theta_{2}{\\left(t \\right)} \\right)} \\frac{d^{2}}{d t^{2}} \\theta_{1}{\\left(t \\right)} + L_{2} \\frac{d^{2}}{d t^{2}} \\theta_{2}{\\left(t \\right)} + g \\sin{\\left(\\theta_{2}{\\left(t \\right)} \\right)}\\right)$"
            ],
            "text/plain": [
              "Eq(0, L2*m2*(-L1*sin(theta1(t) - theta2(t))*Derivative(theta1(t), t)**2 + L1*cos(theta1(t) - theta2(t))*Derivative(theta1(t), (t, 2)) + L2*Derivative(theta2(t), (t, 2)) + g*sin(theta2(t))))"
            ]
          },
          "metadata": {},
          "output_type": "display_data"
        }
      ],
      "source": [
        "t = symbols('t')  # Símbolo para el tiempo\n",
        "theta1 = Function('theta1')(t)\n",
        "theta2 = Function('theta2')(t)\n",
        "\n",
        "Euler_Lagrange_equations = Q_k_from_T_total(Lagrangiano,  [theta1, theta2])\n",
        "\n",
        "# Imprimamos nuestros resultados\n",
        "equatio_E_L_1 = Eq(0,Euler_Lagrange_equations[0])\n",
        "equatio_E_L_2 = Eq(0,Euler_Lagrange_equations[1])\n",
        "\n",
        "# Mostrando nuestros resultados\n",
        "display(equatio_E_L_1, equatio_E_L_2)"
      ]
    },
    {
      "cell_type": "markdown",
      "metadata": {},
      "source": [
        "A partir de estás expresiones de Equler-Lagrange poodemos despejar la aceleracion angular $\\ddot{\\theta_1} , \\ddot{\\theta_2} $"
      ]
    },
    {
      "cell_type": "code",
      "execution_count": 17,
      "metadata": {},
      "outputs": [
        {
          "data": {
            "text/latex": [
              "$\\displaystyle \\frac{d^{2}}{d t^{2}} \\theta_{1}{\\left(t \\right)} = - \\frac{L_{2} m_{2} \\sin{\\left(\\theta_{1}{\\left(t \\right)} - \\theta_{2}{\\left(t \\right)} \\right)} \\left(\\frac{d}{d t} \\theta_{2}{\\left(t \\right)}\\right)^{2} + L_{2} m_{2} \\cos{\\left(\\theta_{1}{\\left(t \\right)} - \\theta_{2}{\\left(t \\right)} \\right)} \\frac{d^{2}}{d t^{2}} \\theta_{2}{\\left(t \\right)} + g m_{1} \\sin{\\left(\\theta_{1}{\\left(t \\right)} \\right)} + g m_{2} \\sin{\\left(\\theta_{1}{\\left(t \\right)} \\right)}}{L_{1} \\left(m_{1} + m_{2}\\right)}$"
            ],
            "text/plain": [
              "Eq(Derivative(theta1(t), (t, 2)), -(L2*m2*sin(theta1(t) - theta2(t))*Derivative(theta2(t), t)**2 + L2*m2*cos(theta1(t) - theta2(t))*Derivative(theta2(t), (t, 2)) + g*m1*sin(theta1(t)) + g*m2*sin(theta1(t)))/(L1*(m1 + m2)))"
            ]
          },
          "metadata": {},
          "output_type": "display_data"
        },
        {
          "data": {
            "text/latex": [
              "$\\displaystyle \\frac{d^{2}}{d t^{2}} \\theta_{2}{\\left(t \\right)} = \\frac{L_{1} \\sin{\\left(\\theta_{1}{\\left(t \\right)} - \\theta_{2}{\\left(t \\right)} \\right)} \\left(\\frac{d}{d t} \\theta_{1}{\\left(t \\right)}\\right)^{2} - L_{1} \\cos{\\left(\\theta_{1}{\\left(t \\right)} - \\theta_{2}{\\left(t \\right)} \\right)} \\frac{d^{2}}{d t^{2}} \\theta_{1}{\\left(t \\right)} - g \\sin{\\left(\\theta_{2}{\\left(t \\right)} \\right)}}{L_{2}}$"
            ],
            "text/plain": [
              "Eq(Derivative(theta2(t), (t, 2)), (L1*sin(theta1(t) - theta2(t))*Derivative(theta1(t), t)**2 - L1*cos(theta1(t) - theta2(t))*Derivative(theta1(t), (t, 2)) - g*sin(theta2(t)))/L2)"
            ]
          },
          "metadata": {},
          "output_type": "display_data"
        }
      ],
      "source": [
        "# Despejando las aceleraciones angulares\n",
        "d2_theta1EL = Eq(Derivative(theta1, t, 2),solve(equatio_E_L_1,Derivative(theta1, t, 2))[0])\n",
        "d2_theta2EL = Eq(Derivative(theta2, t, 2),solve(equatio_E_L_2,Derivative(theta2, t, 2))[0])\n",
        "\n",
        "# Mostrando nuestros resultados\n",
        "display(d2_theta1EL, d2_theta2EL)"
      ]
    },
    {
      "cell_type": "markdown",
      "metadata": {},
      "source": [
        "Mostremos los resultados anteriores a partir de las ecuaciones de Lagrange"
      ]
    },
    {
      "cell_type": "code",
      "execution_count": 18,
      "metadata": {},
      "outputs": [
        {
          "data": {
            "text/latex": [
              "$\\displaystyle \\frac{d^{2}}{d t^{2}} \\theta_{1}{\\left(t \\right)} = - \\frac{L_{2} m_{2} \\sin{\\left(\\theta_{1}{\\left(t \\right)} - \\theta_{2}{\\left(t \\right)} \\right)} \\left(\\frac{d}{d t} \\theta_{2}{\\left(t \\right)}\\right)^{2} + L_{2} m_{2} \\cos{\\left(\\theta_{1}{\\left(t \\right)} - \\theta_{2}{\\left(t \\right)} \\right)} \\frac{d^{2}}{d t^{2}} \\theta_{2}{\\left(t \\right)} + g m_{1} \\sin{\\left(\\theta_{1}{\\left(t \\right)} \\right)} + g m_{2} \\sin{\\left(\\theta_{1}{\\left(t \\right)} \\right)}}{L_{1} \\left(m_{1} + m_{2}\\right)}$"
            ],
            "text/plain": [
              "Eq(Derivative(theta1(t), (t, 2)), -(L2*m2*sin(theta1(t) - theta2(t))*Derivative(theta2(t), t)**2 + L2*m2*cos(theta1(t) - theta2(t))*Derivative(theta2(t), (t, 2)) + g*m1*sin(theta1(t)) + g*m2*sin(theta1(t)))/(L1*(m1 + m2)))"
            ]
          },
          "metadata": {},
          "output_type": "display_data"
        },
        {
          "data": {
            "text/latex": [
              "$\\displaystyle \\frac{d^{2}}{d t^{2}} \\theta_{2}{\\left(t \\right)} = \\frac{L_{1} \\sin{\\left(\\theta_{1}{\\left(t \\right)} - \\theta_{2}{\\left(t \\right)} \\right)} \\left(\\frac{d}{d t} \\theta_{1}{\\left(t \\right)}\\right)^{2} - L_{1} \\cos{\\left(\\theta_{1}{\\left(t \\right)} - \\theta_{2}{\\left(t \\right)} \\right)} \\frac{d^{2}}{d t^{2}} \\theta_{1}{\\left(t \\right)} - g \\sin{\\left(\\theta_{2}{\\left(t \\right)} \\right)}}{L_{2}}$"
            ],
            "text/plain": [
              "Eq(Derivative(theta2(t), (t, 2)), (L1*sin(theta1(t) - theta2(t))*Derivative(theta1(t), t)**2 - L1*cos(theta1(t) - theta2(t))*Derivative(theta1(t), (t, 2)) - g*sin(theta2(t)))/L2)"
            ]
          },
          "metadata": {},
          "output_type": "display_data"
        }
      ],
      "source": [
        "# Mostrando los resultados \n",
        "display(d2_theta1, d2_theta2)"
      ]
    },
    {
      "cell_type": "markdown",
      "metadata": {},
      "source": [
        "Efectivamente se puede observar que ambos resultados para las aceleraciones angulares son iguales"
      ]
    },
    {
      "cell_type": "markdown",
      "metadata": {},
      "source": [
        "4. Evalúe las simetrías del lagrangiano:\n",
        "  - ¿Tiene simetría de traslación?: ____No_____ en caso afirmativo ¿cuáles son las constantes (cuadraturas) asociadas?: _________\n",
        "  - ¿Tiene simetría de rotación?: _____No____ en caso afirmativo ¿cuáles son las constantes (cuadraturas) asociadas?: _________\n",
        "  - ¿Tiene simetría temporal?: _____Si____ en caso afirmativo ¿cuáles son las constantes (cuadraturas) asociadas?: ___La función de Jacobi y la energia ______\n",
        "  - ¿Tiene variables cíclicas? Si ¿cuáles?: ____El tiempo_____\n",
        "  - Escriba explícitamente la función de Jacobi $h(t,\\{q_j\\}_M,\\{\\dot q_j\\}_M)$ del sistema y diga si es constante o no."
      ]
    },
    {
      "cell_type": "markdown",
      "metadata": {},
      "source": [
        "Encontremos la función de Jacobi de este sistema, para esto hagamos una función que a partir de cualquier lagrangiano y sus variables generalizadas obtenga la función de Jacobi:\n",
        "$$h \\equiv \\sum_j \\left( \\frac{\\partial L}{\\partial \\dot{q}_j} \\dot{q}_j \\right) - L = \\text{cte}\n",
        "$$"
      ]
    },
    {
      "cell_type": "code",
      "execution_count": 19,
      "metadata": {},
      "outputs": [],
      "source": [
        "def Jacobi_function(L_function, variables):\n",
        "    \"\"\"\n",
        "    Calculala funcion de Jacobi a partir del lagrangiano\n",
        "    y las variables generalizadas\n",
        "    \n",
        "    Parámetros:\n",
        "    - L_function : sympy.Expr\n",
        "        Lagrangiano del sistema.\n",
        "    - variables : list\n",
        "        Lista de variables generalizadas como funciones del t.\n",
        "    \n",
        "    Retorna:\n",
        "    - La función de Jacobi\n",
        "    \"\"\"\n",
        "    \n",
        "    \n",
        "    t = symbols('t')  # Definir el símbolo del t\n",
        "    Jacobi_function = 0\n",
        "    for q in variables:\n",
        "        Jacobi_function += L_function.diff(Derivative(q, t))*Derivative(q, t)\n",
        "    Jacobi_function += -L_function\n",
        "    return simplify(Jacobi_function)"
      ]
    },
    {
      "cell_type": "markdown",
      "metadata": {},
      "source": [
        "Ahora usemos esta función para calcular la función de Jacobi"
      ]
    },
    {
      "cell_type": "code",
      "execution_count": 20,
      "metadata": {},
      "outputs": [
        {
          "data": {
            "text/latex": [
              "$\\displaystyle cte = \\frac{L_{1}^{2} m_{1} \\left(\\frac{d}{d t} \\theta_{1}{\\left(t \\right)}\\right)^{2}}{2} + \\frac{L_{1}^{2} m_{2} \\left(\\frac{d}{d t} \\theta_{1}{\\left(t \\right)}\\right)^{2}}{2} + L_{1} L_{2} m_{2} \\cos{\\left(\\theta_{1}{\\left(t \\right)} - \\theta_{2}{\\left(t \\right)} \\right)} \\frac{d}{d t} \\theta_{1}{\\left(t \\right)} \\frac{d}{d t} \\theta_{2}{\\left(t \\right)} - L_{1} g m_{1} \\cos{\\left(\\theta_{1}{\\left(t \\right)} \\right)} - L_{1} g m_{2} \\cos{\\left(\\theta_{1}{\\left(t \\right)} \\right)} + \\frac{L_{2}^{2} m_{2} \\left(\\frac{d}{d t} \\theta_{2}{\\left(t \\right)}\\right)^{2}}{2} - L_{2} g m_{2} \\cos{\\left(\\theta_{2}{\\left(t \\right)} \\right)}$"
            ],
            "text/plain": [
              "Eq(cte, L1**2*m1*Derivative(theta1(t), t)**2/2 + L1**2*m2*Derivative(theta1(t), t)**2/2 + L1*L2*m2*cos(theta1(t) - theta2(t))*Derivative(theta1(t), t)*Derivative(theta2(t), t) - L1*g*m1*cos(theta1(t)) - L1*g*m2*cos(theta1(t)) + L2**2*m2*Derivative(theta2(t), t)**2/2 - L2*g*m2*cos(theta2(t)))"
            ]
          },
          "execution_count": 20,
          "metadata": {},
          "output_type": "execute_result"
        }
      ],
      "source": [
        "cte = symbols('cte')\n",
        "Pendulo_doble_Jacobi = Jacobi_function(Lagrangiano, [theta1, theta2])\n",
        "Pendulo_doble_Jacobi_Function = Eq(cte, Pendulo_doble_Jacobi)\n",
        "Pendulo_doble_Jacobi_Function"
      ]
    },
    {
      "cell_type": "markdown",
      "metadata": {},
      "source": [
        "estableciendo la velocidad angular como w"
      ]
    },
    {
      "cell_type": "code",
      "execution_count": 21,
      "metadata": {},
      "outputs": [],
      "source": [
        "# # Definiendo los simbolos\n",
        "# w1, w2 = symbols('w1 w2')\n",
        "# w1 = Function('w1')(t)\n",
        "# w2 = Function('w2')(t)\n",
        "\n",
        "# # Reemplzando la velocidad angular por le nuevo simbolo\n",
        "# Pendulo_doble_Jacobi_Function_w = simplify(Pendulo_doble_Jacobi_Function.subs(\n",
        "#     {Derivative(theta1, t): w1,\n",
        "#     Derivative(theta2, t): w2}))\n",
        "# Pendulo_doble_Jacobi_Function_w"
      ]
    },
    {
      "cell_type": "markdown",
      "metadata": {},
      "source": [
        "La anterior es la funcion de Jacobi"
      ]
    },
    {
      "cell_type": "markdown",
      "metadata": {},
      "source": [
        "## **Parte 3. Hamiltoniano**\n",
        "\n",
        "### 1. Escriba los momentos generalizados $\\{p_j\\}_M$ del sistema como función de las velocidades generalizadas $\\{q_j\\}_M$ del sistema.\n",
        "\n",
        "$$P_j = \\frac{\\partial L}{\\partial \\dot{q_j}}$$"
      ]
    },
    {
      "cell_type": "markdown",
      "metadata": {},
      "source": [
        "Hagamos una función que a partir del lagrangiano y las variables generalizadas obtenga los $P_j$"
      ]
    },
    {
      "cell_type": "code",
      "execution_count": 22,
      "metadata": {},
      "outputs": [],
      "source": [
        "def Pj_to_hamiltoniano(L_function, variables):\n",
        "    \"\"\"\n",
        "   Calcula los Pj para el Hamiltoniano a partir del lagrangiano\n",
        "    y las variables generalizadas\n",
        "    Parámetros:\n",
        "    - L_function : sympy.Expr\n",
        "        Lagrangiano del sistema.\n",
        "    - variables : list\n",
        "        Lista de variables generalizadas como funciones del t.\n",
        "    \n",
        "    Retorna:\n",
        "    - list. con las Pj\n",
        "    \"\"\"\n",
        "    \n",
        "    \n",
        "    t = symbols('t')  # Definir el símbolo del t\n",
        "    Pj = []\n",
        "    for q in variables:\n",
        "        Pj.append(simplify(L_function.diff(Derivative(q, t))))\n",
        "    return Pj"
      ]
    },
    {
      "cell_type": "code",
      "execution_count": 23,
      "metadata": {},
      "outputs": [
        {
          "data": {
            "text/latex": [
              "$\\displaystyle \\frac{L_{1}^{2} m_{1} \\left(\\frac{d}{d t} \\theta_{1}{\\left(t \\right)}\\right)^{2}}{2} + g \\left(L_{1} m_{1} \\cos{\\left(\\theta_{1}{\\left(t \\right)} \\right)} + L_{1} m_{2} \\cos{\\left(\\theta_{1}{\\left(t \\right)} \\right)} + L_{2} m_{2} \\cos{\\left(\\theta_{2}{\\left(t \\right)} \\right)}\\right) + \\frac{m_{2} \\left(L_{1}^{2} \\left(\\frac{d}{d t} \\theta_{1}{\\left(t \\right)}\\right)^{2} + 2 L_{1} L_{2} \\cos{\\left(\\theta_{1}{\\left(t \\right)} - \\theta_{2}{\\left(t \\right)} \\right)} \\frac{d}{d t} \\theta_{1}{\\left(t \\right)} \\frac{d}{d t} \\theta_{2}{\\left(t \\right)} + L_{2}^{2} \\left(\\frac{d}{d t} \\theta_{2}{\\left(t \\right)}\\right)^{2}\\right)}{2}$"
            ],
            "text/plain": [
              "L1**2*m1*Derivative(theta1(t), t)**2/2 + g*(L1*m1*cos(theta1(t)) + L1*m2*cos(theta1(t)) + L2*m2*cos(theta2(t))) + m2*(L1**2*Derivative(theta1(t), t)**2 + 2*L1*L2*cos(theta1(t) - theta2(t))*Derivative(theta1(t), t)*Derivative(theta2(t), t) + L2**2*Derivative(theta2(t), t)**2)/2"
            ]
          },
          "execution_count": 23,
          "metadata": {},
          "output_type": "execute_result"
        }
      ],
      "source": [
        "Lagrangiano"
      ]
    },
    {
      "cell_type": "code",
      "execution_count": 24,
      "metadata": {},
      "outputs": [
        {
          "data": {
            "text/latex": [
              "$\\displaystyle P_{1}{\\left(t \\right)} = L_{1} \\left(L_{1} m_{1} \\frac{d}{d t} \\theta_{1}{\\left(t \\right)} + m_{2} \\left(L_{1} \\frac{d}{d t} \\theta_{1}{\\left(t \\right)} + L_{2} \\cos{\\left(\\theta_{1}{\\left(t \\right)} - \\theta_{2}{\\left(t \\right)} \\right)} \\frac{d}{d t} \\theta_{2}{\\left(t \\right)}\\right)\\right)$"
            ],
            "text/plain": [
              "Eq(P1(t), L1*(L1*m1*Derivative(theta1(t), t) + m2*(L1*Derivative(theta1(t), t) + L2*cos(theta1(t) - theta2(t))*Derivative(theta2(t), t))))"
            ]
          },
          "metadata": {},
          "output_type": "display_data"
        },
        {
          "data": {
            "text/latex": [
              "$\\displaystyle P_{2}{\\left(t \\right)} = L_{2} m_{2} \\left(L_{1} \\cos{\\left(\\theta_{1}{\\left(t \\right)} - \\theta_{2}{\\left(t \\right)} \\right)} \\frac{d}{d t} \\theta_{1}{\\left(t \\right)} + L_{2} \\frac{d}{d t} \\theta_{2}{\\left(t \\right)}\\right)$"
            ],
            "text/plain": [
              "Eq(P2(t), L2*m2*(L1*cos(theta1(t) - theta2(t))*Derivative(theta1(t), t) + L2*Derivative(theta2(t), t)))"
            ]
          },
          "metadata": {},
          "output_type": "display_data"
        }
      ],
      "source": [
        "# Usemos esta función para encontrar nuestro Hamiltoniano\n",
        "Pjs = Pj_to_hamiltoniano(Lagrangiano, [theta1, theta2])\n",
        "\n",
        "# Ahora con estos podemos encontrar las ecuaciones de los p\n",
        "# Para esto definamos nuestros symbolos para los P\n",
        "P1, P2 = symbols('P1 P2')\n",
        "P1, P2 = Function('P1')(t), Function('P2')(t)\n",
        "P1_equation = Eq(P1, Pjs[0])\n",
        "P2_equation = Eq(P2, Pjs[1])\n",
        "\n",
        "# Mostrando nuestros resultados\n",
        "display(P1_equation, P2_equation)"
      ]
    },
    {
      "cell_type": "markdown",
      "metadata": {},
      "source": [
        "### 2. Escriba la función de energía cinética en función de $\\{p_j\\}_M$."
      ]
    },
    {
      "cell_type": "markdown",
      "metadata": {},
      "source": [
        "para esto despejemos de los $P_j$ nuestras aceleraciones angulares"
      ]
    },
    {
      "cell_type": "code",
      "execution_count": 25,
      "metadata": {},
      "outputs": [
        {
          "data": {
            "text/latex": [
              "$\\displaystyle \\frac{d}{d t} \\theta_{1}{\\left(t \\right)} = \\frac{- L_{1} P_{2}{\\left(t \\right)} \\cos{\\left(\\theta_{1}{\\left(t \\right)} - \\theta_{2}{\\left(t \\right)} \\right)} + L_{2} P_{1}{\\left(t \\right)}}{L_{1}^{2} L_{2} \\left(m_{1} - m_{2} \\cos^{2}{\\left(\\theta_{1}{\\left(t \\right)} - \\theta_{2}{\\left(t \\right)} \\right)} + m_{2}\\right)}$"
            ],
            "text/plain": [
              "Eq(Derivative(theta1(t), t), (-L1*P2(t)*cos(theta1(t) - theta2(t)) + L2*P1(t))/(L1**2*L2*(m1 - m2*cos(theta1(t) - theta2(t))**2 + m2)))"
            ]
          },
          "metadata": {},
          "output_type": "display_data"
        },
        {
          "data": {
            "text/latex": [
              "$\\displaystyle \\frac{d}{d t} \\theta_{2}{\\left(t \\right)} = \\frac{L_{1} m_{1} P_{2}{\\left(t \\right)} + L_{1} m_{2} P_{2}{\\left(t \\right)} - L_{2} m_{2} P_{1}{\\left(t \\right)} \\cos{\\left(\\theta_{1}{\\left(t \\right)} - \\theta_{2}{\\left(t \\right)} \\right)}}{L_{1} L_{2}^{2} m_{2} \\left(m_{1} - m_{2} \\cos^{2}{\\left(\\theta_{1}{\\left(t \\right)} - \\theta_{2}{\\left(t \\right)} \\right)} + m_{2}\\right)}$"
            ],
            "text/plain": [
              "Eq(Derivative(theta2(t), t), (L1*m1*P2(t) + L1*m2*P2(t) - L2*m2*P1(t)*cos(theta1(t) - theta2(t)))/(L1*L2**2*m2*(m1 - m2*cos(theta1(t) - theta2(t))**2 + m2)))"
            ]
          },
          "metadata": {},
          "output_type": "display_data"
        }
      ],
      "source": [
        "# Resolvemos el sistema de ecuaciones para las segundas derivadas de theta1 y theta2\n",
        "angular_acelerations = solve((P1_equation, P2_equation), (Derivative(theta1, t), Derivative(theta2, t)), dict=True)\n",
        "\n",
        "# Asignemos las soluciones a una variable\n",
        "solutions_angular_acelerations = [value for solution in angular_acelerations for key, value in solution.items()]\n",
        "\n",
        "# Convertimos las soluciones en ecuaciones para mostrarlas\n",
        "solutions_eqs = [Eq(key, value) for solution in angular_acelerations for key, value in solution.items()]\n",
        "\n",
        "\n",
        "# Imprimimos las soluciones en forma de ecuación\n",
        "for eq in solutions_eqs:\n",
        "    display(simplify(eq))"
      ]
    },
    {
      "cell_type": "markdown",
      "metadata": {},
      "source": [
        "Ahora reemplazamos estos valores en la expresión que tenemos para la función de energía cinética"
      ]
    },
    {
      "cell_type": "code",
      "execution_count": 26,
      "metadata": {},
      "outputs": [
        {
          "data": {
            "text/latex": [
              "$\\displaystyle T_{Pj} = \\frac{L_{1}^{2} m_{1} P_{2}^{2}{\\left(t \\right)} + L_{1}^{2} m_{2} P_{2}^{2}{\\left(t \\right)} - 2 L_{1} L_{2} m_{2} P_{1}{\\left(t \\right)} P_{2}{\\left(t \\right)} \\cos{\\left(\\theta_{1}{\\left(t \\right)} - \\theta_{2}{\\left(t \\right)} \\right)} + L_{2}^{2} m_{2} P_{1}^{2}{\\left(t \\right)}}{2 L_{1}^{2} L_{2}^{2} m_{2} \\left(m_{1} - m_{2} \\cos^{2}{\\left(\\theta_{1}{\\left(t \\right)} - \\theta_{2}{\\left(t \\right)} \\right)} + m_{2}\\right)}$"
            ],
            "text/plain": [
              "Eq(T_Pj, (L1**2*m1*P2(t)**2 + L1**2*m2*P2(t)**2 - 2*L1*L2*m2*P1(t)*P2(t)*cos(theta1(t) - theta2(t)) + L2**2*m2*P1(t)**2)/(2*L1**2*L2**2*m2*(m1 - m2*cos(theta1(t) - theta2(t))**2 + m2)))"
            ]
          },
          "execution_count": 26,
          "metadata": {},
          "output_type": "execute_result"
        }
      ],
      "source": [
        "T_total_Pj = simplify(T_total.subs(\n",
        "    {Derivative(theta1, t):solutions_angular_acelerations[0],\n",
        "    Derivative(theta2, t): solutions_angular_acelerations[1]}))\n",
        "\n",
        "# Hacemos una ecuación para la nueva expresion de la fucion de energia cinética\n",
        "T_Pj = symbols('T_Pj')\n",
        "Ttotal_equation = Eq(T_Pj, T_total_Pj)\n",
        "\n",
        "# Imprimiendo nuestros resultados\n",
        "Ttotal_equation"
      ]
    },
    {
      "cell_type": "markdown",
      "metadata": {},
      "source": [
        "En la anterior celda se puede observar la energía cinética a partir de los $P_j$"
      ]
    },
    {
      "cell_type": "markdown",
      "metadata": {},
      "source": [
        "### 3. Escriba el Lagrangianop $\\{L_{qp}(t,\\{q_j\\}_M,\\{p_j\\}_M)\\}$ del sistema."
      ]
    },
    {
      "cell_type": "markdown",
      "metadata": {},
      "source": [
        "Del punto anterior ya tenemos las expresiones para las aceleraciones angulares en terminos de los Pj, solo basta con reemplazarlas en nuestro Lagrangiano para obtener nuestro $\\{L_{qp}(t,\\{q_j\\}_M,\\{p_j\\}_M)\\}$"
      ]
    },
    {
      "cell_type": "code",
      "execution_count": 27,
      "metadata": {},
      "outputs": [
        {
          "data": {
            "text/latex": [
              "$\\displaystyle L_{P} = \\frac{2 L_{1}^{2} L_{2}^{2} g m_{2} \\left(m_{1} - m_{2} \\cos^{2}{\\left(\\theta_{1}{\\left(t \\right)} - \\theta_{2}{\\left(t \\right)} \\right)} + m_{2}\\right)^{2} \\left(L_{1} m_{1} \\cos{\\left(\\theta_{1}{\\left(t \\right)} \\right)} + L_{1} m_{2} \\cos{\\left(\\theta_{1}{\\left(t \\right)} \\right)} + L_{2} m_{2} \\cos{\\left(\\theta_{2}{\\left(t \\right)} \\right)}\\right) + m_{1} m_{2} \\left(L_{1} P_{2}{\\left(t \\right)} \\cos{\\left(\\theta_{1}{\\left(t \\right)} - \\theta_{2}{\\left(t \\right)} \\right)} - L_{2} P_{1}{\\left(t \\right)}\\right)^{2} + m_{2}^{2} \\left(L_{1} P_{2}{\\left(t \\right)} \\cos{\\left(\\theta_{1}{\\left(t \\right)} - \\theta_{2}{\\left(t \\right)} \\right)} - L_{2} P_{1}{\\left(t \\right)}\\right)^{2} - 2 m_{2} \\left(L_{1} P_{2}{\\left(t \\right)} \\cos{\\left(\\theta_{1}{\\left(t \\right)} - \\theta_{2}{\\left(t \\right)} \\right)} - L_{2} P_{1}{\\left(t \\right)}\\right) \\left(L_{1} m_{1} P_{2}{\\left(t \\right)} + L_{1} m_{2} P_{2}{\\left(t \\right)} - L_{2} m_{2} P_{1}{\\left(t \\right)} \\cos{\\left(\\theta_{1}{\\left(t \\right)} - \\theta_{2}{\\left(t \\right)} \\right)}\\right) \\cos{\\left(\\theta_{1}{\\left(t \\right)} - \\theta_{2}{\\left(t \\right)} \\right)} + \\left(L_{1} m_{1} P_{2}{\\left(t \\right)} + L_{1} m_{2} P_{2}{\\left(t \\right)} - L_{2} m_{2} P_{1}{\\left(t \\right)} \\cos{\\left(\\theta_{1}{\\left(t \\right)} - \\theta_{2}{\\left(t \\right)} \\right)}\\right)^{2}}{2 L_{1}^{2} L_{2}^{2} m_{2} \\left(m_{1} - m_{2} \\cos^{2}{\\left(\\theta_{1}{\\left(t \\right)} - \\theta_{2}{\\left(t \\right)} \\right)} + m_{2}\\right)^{2}}$"
            ],
            "text/plain": [
              "Eq(L_P, (2*L1**2*L2**2*g*m2*(m1 - m2*cos(theta1(t) - theta2(t))**2 + m2)**2*(L1*m1*cos(theta1(t)) + L1*m2*cos(theta1(t)) + L2*m2*cos(theta2(t))) + m1*m2*(L1*P2(t)*cos(theta1(t) - theta2(t)) - L2*P1(t))**2 + m2**2*(L1*P2(t)*cos(theta1(t) - theta2(t)) - L2*P1(t))**2 - 2*m2*(L1*P2(t)*cos(theta1(t) - theta2(t)) - L2*P1(t))*(L1*m1*P2(t) + L1*m2*P2(t) - L2*m2*P1(t)*cos(theta1(t) - theta2(t)))*cos(theta1(t) - theta2(t)) + (L1*m1*P2(t) + L1*m2*P2(t) - L2*m2*P1(t)*cos(theta1(t) - theta2(t)))**2)/(2*L1**2*L2**2*m2*(m1 - m2*cos(theta1(t) - theta2(t))**2 + m2)**2))"
            ]
          },
          "execution_count": 27,
          "metadata": {},
          "output_type": "execute_result"
        }
      ],
      "source": [
        "Lagrangiano_Pj = simplify(Lagrangiano.subs(\n",
        "    {Derivative(theta1, t):solutions_angular_acelerations[0],\n",
        "    Derivative(theta2, t): solutions_angular_acelerations[1]}))\n",
        "\n",
        "# Hacemos una ecuación para la nueva expresion de la fucion de energia cinética\n",
        "L_P = symbols('L_P')\n",
        "Lagrangiano_Pj_equation = Eq(L_P, Lagrangiano_Pj)\n",
        "\n",
        "# Imprimiendo nuestros resultados\n",
        "Lagrangiano_Pj_equation"
      ]
    },
    {
      "cell_type": "markdown",
      "metadata": {},
      "source": [
        "En la anterior celda se puede observar el lagrangiano en terminos de los $q_j$ y $p_j$"
      ]
    },
    {
      "cell_type": "markdown",
      "metadata": {},
      "source": [
        "### 4. Escriba el Hamiltoniano $\\{H(t,\\{q_j\\}_M,\\{p_j\\}_M)\\}$ del sistema.\n",
        "$$H(q_j, p_j, t) = \\sum_k p_k \\dot{q}_k(q_j, p_j, t) - L(q_j, p_j, t)$$"
      ]
    },
    {
      "cell_type": "markdown",
      "metadata": {},
      "source": [
        "Listo ahora con esta expresión podemos, encontrar nuestro hamiltoniano, hagamos una función que me encuentre el hamiltoniano de un sistema a partir de las expresion para $\\dot{q}_k(q_j, p_j, t)$, los $p_k$ y la expresión Lqp"
      ]
    },
    {
      "cell_type": "code",
      "execution_count": 28,
      "metadata": {},
      "outputs": [],
      "source": [
        "def Hamiltoniano_(Lqp, pk, dotqj_pk):\n",
        "    \"\"\" \n",
        "    Calcula el Hamiltoniano a partir de los q_k(q_j, p_j, t), los p_k y el\n",
        "    Lagrangiano en términos de q y p.\n",
        "    \n",
        "    Parámetros:\n",
        "    - Lqp: sympy.Expr\n",
        "        Lagrangiano del sistema en términos de p y q.\n",
        "    - pk: list\n",
        "        Lista de los p_k del sistema.\n",
        "    - dotqj_pk: list\n",
        "        Lista de q_k punto en términos de q y p.\n",
        "    \n",
        "    Retorna:\n",
        "    - sympy.Expr: Expresión para el Hamiltoniano.\n",
        "    \"\"\"\n",
        "   \n",
        "    Hamil = sum(p * q_dot for p, q_dot in zip(pk, dotqj_pk))\n",
        "    Hamil -= Lqp\n",
        "\n",
        "    return simplify(Hamil)\n"
      ]
    },
    {
      "cell_type": "code",
      "execution_count": 29,
      "metadata": {},
      "outputs": [
        {
          "data": {
            "text/latex": [
              "$\\displaystyle H = \\frac{- L_{1}^{3} L_{2}^{2} g m_{1}^{2} m_{2} \\cos{\\left(\\theta_{1}{\\left(t \\right)} \\right)} + L_{1}^{3} L_{2}^{2} g m_{1} m_{2}^{2} \\cos^{2}{\\left(\\theta_{1}{\\left(t \\right)} - \\theta_{2}{\\left(t \\right)} \\right)} \\cos{\\left(\\theta_{1}{\\left(t \\right)} \\right)} - 2 L_{1}^{3} L_{2}^{2} g m_{1} m_{2}^{2} \\cos{\\left(\\theta_{1}{\\left(t \\right)} \\right)} + L_{1}^{3} L_{2}^{2} g m_{2}^{3} \\cos^{2}{\\left(\\theta_{1}{\\left(t \\right)} - \\theta_{2}{\\left(t \\right)} \\right)} \\cos{\\left(\\theta_{1}{\\left(t \\right)} \\right)} - L_{1}^{3} L_{2}^{2} g m_{2}^{3} \\cos{\\left(\\theta_{1}{\\left(t \\right)} \\right)} - L_{1}^{2} L_{2}^{3} g m_{1} m_{2}^{2} \\cos{\\left(\\theta_{2}{\\left(t \\right)} \\right)} + L_{1}^{2} L_{2}^{3} g m_{2}^{3} \\cos^{2}{\\left(\\theta_{1}{\\left(t \\right)} - \\theta_{2}{\\left(t \\right)} \\right)} \\cos{\\left(\\theta_{2}{\\left(t \\right)} \\right)} - L_{1}^{2} L_{2}^{3} g m_{2}^{3} \\cos{\\left(\\theta_{2}{\\left(t \\right)} \\right)} + \\frac{L_{1}^{2} m_{1} P_{2}^{2}{\\left(t \\right)}}{2} + \\frac{L_{1}^{2} m_{2} P_{2}^{2}{\\left(t \\right)}}{2} - L_{1} L_{2} m_{2} P_{1}{\\left(t \\right)} P_{2}{\\left(t \\right)} \\cos{\\left(\\theta_{1}{\\left(t \\right)} - \\theta_{2}{\\left(t \\right)} \\right)} + \\frac{L_{2}^{2} m_{2} P_{1}^{2}{\\left(t \\right)}}{2}}{L_{1}^{2} L_{2}^{2} m_{2} \\left(m_{1} - m_{2} \\cos^{2}{\\left(\\theta_{1}{\\left(t \\right)} - \\theta_{2}{\\left(t \\right)} \\right)} + m_{2}\\right)}$"
            ],
            "text/plain": [
              "Eq(H, (-L1**3*L2**2*g*m1**2*m2*cos(theta1(t)) + L1**3*L2**2*g*m1*m2**2*cos(theta1(t) - theta2(t))**2*cos(theta1(t)) - 2*L1**3*L2**2*g*m1*m2**2*cos(theta1(t)) + L1**3*L2**2*g*m2**3*cos(theta1(t) - theta2(t))**2*cos(theta1(t)) - L1**3*L2**2*g*m2**3*cos(theta1(t)) - L1**2*L2**3*g*m1*m2**2*cos(theta2(t)) + L1**2*L2**3*g*m2**3*cos(theta1(t) - theta2(t))**2*cos(theta2(t)) - L1**2*L2**3*g*m2**3*cos(theta2(t)) + L1**2*m1*P2(t)**2/2 + L1**2*m2*P2(t)**2/2 - L1*L2*m2*P1(t)*P2(t)*cos(theta1(t) - theta2(t)) + L2**2*m2*P1(t)**2/2)/(L1**2*L2**2*m2*(m1 - m2*cos(theta1(t) - theta2(t))**2 + m2)))"
            ]
          },
          "metadata": {},
          "output_type": "display_data"
        }
      ],
      "source": [
        "# Usando la función anterior para hallar la expresión de nuestro Hamiltoniano\n",
        "Hamiltoniano = Hamiltoniano_(Lagrangiano_Pj,\n",
        "                              [P1, P2],\n",
        "                              solutions_angular_acelerations)\n",
        "\n",
        "# Hagamos una ecuación para nuestro hamiltoniano\n",
        "H = symbols('H') # Definiendo el simbolo para el hamiltoniano\n",
        "Hamiltoniano_equation = Eq(H, Hamiltoniano)\n",
        "\n",
        "# Imprimamos nuestros resultados\n",
        "display(Hamiltoniano_equation)"
      ]
    },
    {
      "cell_type": "markdown",
      "metadata": {},
      "source": [
        "En la anterior celda podemos observar la expresion para el Hamiltoniano del pendulo doble"
      ]
    },
    {
      "cell_type": "markdown",
      "metadata": {},
      "source": [
        "### 5. A partir del Hamiltoniano escriba explícitamente las ecuaciones de movimiento usando las ecuaciones canónicas."
      ]
    },
    {
      "cell_type": "markdown",
      "metadata": {},
      "source": [
        "\\begin{equation}\n",
        "\\begin{cases}\n",
        "\\dot{q}_j = +\\frac{\\partial H}{\\partial p_j} & M \\\\\n",
        "\\dot{p}_j = -\\frac{\\partial H}{\\partial q_j} & M\n",
        "\\end{cases}\n",
        "\\end{equation}\n",
        "\n",
        "\\begin{equation}\n",
        "\\frac{\\partial H}{\\partial t} = -\\frac{\\partial L_{qp}}{\\partial t}\n",
        "\\end{equation}\n"
      ]
    },
    {
      "cell_type": "markdown",
      "metadata": {},
      "source": [
        "Definamos algunas funciones: Una que que encuentre $\\dot{q}_j$ a partir de H al igual para $\\dot{p}_j$"
      ]
    },
    {
      "cell_type": "code",
      "execution_count": 30,
      "metadata": {},
      "outputs": [],
      "source": [
        "# Defininedo la funcion para qj\n",
        "dotqj_function = lambda H, pj: [simplify(H.diff(i)) for i in pj]\n",
        "\n",
        "# Definiendo la funcion para pj punto \n",
        "dotpj_function = lambda H, qj: [-simplify(H.diff(i)) for i in qj]\n"
      ]
    },
    {
      "cell_type": "code",
      "execution_count": 31,
      "metadata": {},
      "outputs": [
        {
          "data": {
            "text/latex": [
              "$\\displaystyle \\frac{d}{d t} \\theta_{1}{\\left(t \\right)} = \\frac{- L_{1} P_{2}{\\left(t \\right)} \\cos{\\left(\\theta_{1}{\\left(t \\right)} - \\theta_{2}{\\left(t \\right)} \\right)} + L_{2} P_{1}{\\left(t \\right)}}{L_{1}^{2} L_{2} \\left(m_{1} - m_{2} \\cos^{2}{\\left(\\theta_{1}{\\left(t \\right)} - \\theta_{2}{\\left(t \\right)} \\right)} + m_{2}\\right)}$"
            ],
            "text/plain": [
              "Eq(Derivative(theta1(t), t), (-L1*P2(t)*cos(theta1(t) - theta2(t)) + L2*P1(t))/(L1**2*L2*(m1 - m2*cos(theta1(t) - theta2(t))**2 + m2)))"
            ]
          },
          "metadata": {},
          "output_type": "display_data"
        },
        {
          "data": {
            "text/latex": [
              "$\\displaystyle \\frac{d}{d t} \\theta_{2}{\\left(t \\right)} = \\frac{L_{1} m_{1} P_{2}{\\left(t \\right)} + L_{1} m_{2} P_{2}{\\left(t \\right)} - L_{2} m_{2} P_{1}{\\left(t \\right)} \\cos{\\left(\\theta_{1}{\\left(t \\right)} - \\theta_{2}{\\left(t \\right)} \\right)}}{L_{1} L_{2}^{2} m_{2} \\left(m_{1} - m_{2} \\cos^{2}{\\left(\\theta_{1}{\\left(t \\right)} - \\theta_{2}{\\left(t \\right)} \\right)} + m_{2}\\right)}$"
            ],
            "text/plain": [
              "Eq(Derivative(theta2(t), t), (L1*m1*P2(t) + L1*m2*P2(t) - L2*m2*P1(t)*cos(theta1(t) - theta2(t)))/(L1*L2**2*m2*(m1 - m2*cos(theta1(t) - theta2(t))**2 + m2)))"
            ]
          },
          "metadata": {},
          "output_type": "display_data"
        },
        {
          "data": {
            "text/latex": [
              "$\\displaystyle \\frac{d}{d t} P_{1}{\\left(t \\right)} = - \\frac{L_{1}^{3} L_{2}^{2} g m_{1}^{3} \\sin{\\left(\\theta_{1}{\\left(t \\right)} \\right)} - 2 L_{1}^{3} L_{2}^{2} g m_{1}^{2} m_{2} \\sin{\\left(\\theta_{1}{\\left(t \\right)} \\right)} \\cos^{2}{\\left(\\theta_{1}{\\left(t \\right)} - \\theta_{2}{\\left(t \\right)} \\right)} + 3 L_{1}^{3} L_{2}^{2} g m_{1}^{2} m_{2} \\sin{\\left(\\theta_{1}{\\left(t \\right)} \\right)} + L_{1}^{3} L_{2}^{2} g m_{1} m_{2}^{2} \\sin{\\left(\\theta_{1}{\\left(t \\right)} \\right)} \\cos^{4}{\\left(\\theta_{1}{\\left(t \\right)} - \\theta_{2}{\\left(t \\right)} \\right)} - 4 L_{1}^{3} L_{2}^{2} g m_{1} m_{2}^{2} \\sin{\\left(\\theta_{1}{\\left(t \\right)} \\right)} \\cos^{2}{\\left(\\theta_{1}{\\left(t \\right)} - \\theta_{2}{\\left(t \\right)} \\right)} + 3 L_{1}^{3} L_{2}^{2} g m_{1} m_{2}^{2} \\sin{\\left(\\theta_{1}{\\left(t \\right)} \\right)} + L_{1}^{3} L_{2}^{2} g m_{2}^{3} \\sin{\\left(\\theta_{1}{\\left(t \\right)} \\right)} \\cos^{4}{\\left(\\theta_{1}{\\left(t \\right)} - \\theta_{2}{\\left(t \\right)} \\right)} - 2 L_{1}^{3} L_{2}^{2} g m_{2}^{3} \\sin{\\left(\\theta_{1}{\\left(t \\right)} \\right)} \\cos^{2}{\\left(\\theta_{1}{\\left(t \\right)} - \\theta_{2}{\\left(t \\right)} \\right)} + L_{1}^{3} L_{2}^{2} g m_{2}^{3} \\sin{\\left(\\theta_{1}{\\left(t \\right)} \\right)} - \\frac{L_{1}^{2} m_{1} P_{2}^{2}{\\left(t \\right)} \\sin{\\left(2 \\theta_{1}{\\left(t \\right)} - 2 \\theta_{2}{\\left(t \\right)} \\right)}}{2} - \\frac{L_{1}^{2} m_{2} P_{2}^{2}{\\left(t \\right)} \\sin{\\left(2 \\theta_{1}{\\left(t \\right)} - 2 \\theta_{2}{\\left(t \\right)} \\right)}}{2} + L_{1} L_{2} m_{1} P_{1}{\\left(t \\right)} P_{2}{\\left(t \\right)} \\sin{\\left(\\theta_{1}{\\left(t \\right)} - \\theta_{2}{\\left(t \\right)} \\right)} + L_{1} L_{2} m_{2} P_{1}{\\left(t \\right)} P_{2}{\\left(t \\right)} \\sin{\\left(\\theta_{1}{\\left(t \\right)} - \\theta_{2}{\\left(t \\right)} \\right)} \\cos^{2}{\\left(\\theta_{1}{\\left(t \\right)} - \\theta_{2}{\\left(t \\right)} \\right)} + L_{1} L_{2} m_{2} P_{1}{\\left(t \\right)} P_{2}{\\left(t \\right)} \\sin{\\left(\\theta_{1}{\\left(t \\right)} - \\theta_{2}{\\left(t \\right)} \\right)} - \\frac{L_{2}^{2} m_{2} P_{1}^{2}{\\left(t \\right)} \\sin{\\left(2 \\theta_{1}{\\left(t \\right)} - 2 \\theta_{2}{\\left(t \\right)} \\right)}}{2}}{L_{1}^{2} L_{2}^{2} \\left(m_{1}^{2} - 2 m_{1} m_{2} \\cos^{2}{\\left(\\theta_{1}{\\left(t \\right)} - \\theta_{2}{\\left(t \\right)} \\right)} + 2 m_{1} m_{2} + m_{2}^{2} \\cos^{4}{\\left(\\theta_{1}{\\left(t \\right)} - \\theta_{2}{\\left(t \\right)} \\right)} - 2 m_{2}^{2} \\cos^{2}{\\left(\\theta_{1}{\\left(t \\right)} - \\theta_{2}{\\left(t \\right)} \\right)} + m_{2}^{2}\\right)}$"
            ],
            "text/plain": [
              "Eq(Derivative(P1(t), t), -(L1**3*L2**2*g*m1**3*sin(theta1(t)) - 2*L1**3*L2**2*g*m1**2*m2*sin(theta1(t))*cos(theta1(t) - theta2(t))**2 + 3*L1**3*L2**2*g*m1**2*m2*sin(theta1(t)) + L1**3*L2**2*g*m1*m2**2*sin(theta1(t))*cos(theta1(t) - theta2(t))**4 - 4*L1**3*L2**2*g*m1*m2**2*sin(theta1(t))*cos(theta1(t) - theta2(t))**2 + 3*L1**3*L2**2*g*m1*m2**2*sin(theta1(t)) + L1**3*L2**2*g*m2**3*sin(theta1(t))*cos(theta1(t) - theta2(t))**4 - 2*L1**3*L2**2*g*m2**3*sin(theta1(t))*cos(theta1(t) - theta2(t))**2 + L1**3*L2**2*g*m2**3*sin(theta1(t)) - L1**2*m1*P2(t)**2*sin(2*theta1(t) - 2*theta2(t))/2 - L1**2*m2*P2(t)**2*sin(2*theta1(t) - 2*theta2(t))/2 + L1*L2*m1*P1(t)*P2(t)*sin(theta1(t) - theta2(t)) + L1*L2*m2*P1(t)*P2(t)*sin(theta1(t) - theta2(t))*cos(theta1(t) - theta2(t))**2 + L1*L2*m2*P1(t)*P2(t)*sin(theta1(t) - theta2(t)) - L2**2*m2*P1(t)**2*sin(2*theta1(t) - 2*theta2(t))/2)/(L1**2*L2**2*(m1**2 - 2*m1*m2*cos(theta1(t) - theta2(t))**2 + 2*m1*m2 + m2**2*cos(theta1(t) - theta2(t))**4 - 2*m2**2*cos(theta1(t) - theta2(t))**2 + m2**2)))"
            ]
          },
          "metadata": {},
          "output_type": "display_data"
        },
        {
          "data": {
            "text/latex": [
              "$\\displaystyle \\frac{d}{d t} P_{2}{\\left(t \\right)} = - \\frac{L_{1}^{2} L_{2}^{3} g m_{1}^{2} m_{2} \\sin{\\left(\\theta_{2}{\\left(t \\right)} \\right)} - 2 L_{1}^{2} L_{2}^{3} g m_{1} m_{2}^{2} \\sin{\\left(\\theta_{2}{\\left(t \\right)} \\right)} \\cos^{2}{\\left(\\theta_{1}{\\left(t \\right)} - \\theta_{2}{\\left(t \\right)} \\right)} + 2 L_{1}^{2} L_{2}^{3} g m_{1} m_{2}^{2} \\sin{\\left(\\theta_{2}{\\left(t \\right)} \\right)} + L_{1}^{2} L_{2}^{3} g m_{2}^{3} \\sin{\\left(\\theta_{2}{\\left(t \\right)} \\right)} \\cos^{4}{\\left(\\theta_{1}{\\left(t \\right)} - \\theta_{2}{\\left(t \\right)} \\right)} - 2 L_{1}^{2} L_{2}^{3} g m_{2}^{3} \\sin{\\left(\\theta_{2}{\\left(t \\right)} \\right)} \\cos^{2}{\\left(\\theta_{1}{\\left(t \\right)} - \\theta_{2}{\\left(t \\right)} \\right)} + L_{1}^{2} L_{2}^{3} g m_{2}^{3} \\sin{\\left(\\theta_{2}{\\left(t \\right)} \\right)} + \\frac{L_{1}^{2} m_{1} P_{2}^{2}{\\left(t \\right)} \\sin{\\left(2 \\theta_{1}{\\left(t \\right)} - 2 \\theta_{2}{\\left(t \\right)} \\right)}}{2} + \\frac{L_{1}^{2} m_{2} P_{2}^{2}{\\left(t \\right)} \\sin{\\left(2 \\theta_{1}{\\left(t \\right)} - 2 \\theta_{2}{\\left(t \\right)} \\right)}}{2} - L_{1} L_{2} m_{1} P_{1}{\\left(t \\right)} P_{2}{\\left(t \\right)} \\sin{\\left(\\theta_{1}{\\left(t \\right)} - \\theta_{2}{\\left(t \\right)} \\right)} - L_{1} L_{2} m_{2} P_{1}{\\left(t \\right)} P_{2}{\\left(t \\right)} \\sin{\\left(\\theta_{1}{\\left(t \\right)} - \\theta_{2}{\\left(t \\right)} \\right)} \\cos^{2}{\\left(\\theta_{1}{\\left(t \\right)} - \\theta_{2}{\\left(t \\right)} \\right)} - L_{1} L_{2} m_{2} P_{1}{\\left(t \\right)} P_{2}{\\left(t \\right)} \\sin{\\left(\\theta_{1}{\\left(t \\right)} - \\theta_{2}{\\left(t \\right)} \\right)} + \\frac{L_{2}^{2} m_{2} P_{1}^{2}{\\left(t \\right)} \\sin{\\left(2 \\theta_{1}{\\left(t \\right)} - 2 \\theta_{2}{\\left(t \\right)} \\right)}}{2}}{L_{1}^{2} L_{2}^{2} \\left(m_{1}^{2} - 2 m_{1} m_{2} \\cos^{2}{\\left(\\theta_{1}{\\left(t \\right)} - \\theta_{2}{\\left(t \\right)} \\right)} + 2 m_{1} m_{2} + m_{2}^{2} \\cos^{4}{\\left(\\theta_{1}{\\left(t \\right)} - \\theta_{2}{\\left(t \\right)} \\right)} - 2 m_{2}^{2} \\cos^{2}{\\left(\\theta_{1}{\\left(t \\right)} - \\theta_{2}{\\left(t \\right)} \\right)} + m_{2}^{2}\\right)}$"
            ],
            "text/plain": [
              "Eq(Derivative(P2(t), t), -(L1**2*L2**3*g*m1**2*m2*sin(theta2(t)) - 2*L1**2*L2**3*g*m1*m2**2*sin(theta2(t))*cos(theta1(t) - theta2(t))**2 + 2*L1**2*L2**3*g*m1*m2**2*sin(theta2(t)) + L1**2*L2**3*g*m2**3*sin(theta2(t))*cos(theta1(t) - theta2(t))**4 - 2*L1**2*L2**3*g*m2**3*sin(theta2(t))*cos(theta1(t) - theta2(t))**2 + L1**2*L2**3*g*m2**3*sin(theta2(t)) + L1**2*m1*P2(t)**2*sin(2*theta1(t) - 2*theta2(t))/2 + L1**2*m2*P2(t)**2*sin(2*theta1(t) - 2*theta2(t))/2 - L1*L2*m1*P1(t)*P2(t)*sin(theta1(t) - theta2(t)) - L1*L2*m2*P1(t)*P2(t)*sin(theta1(t) - theta2(t))*cos(theta1(t) - theta2(t))**2 - L1*L2*m2*P1(t)*P2(t)*sin(theta1(t) - theta2(t)) + L2**2*m2*P1(t)**2*sin(2*theta1(t) - 2*theta2(t))/2)/(L1**2*L2**2*(m1**2 - 2*m1*m2*cos(theta1(t) - theta2(t))**2 + 2*m1*m2 + m2**2*cos(theta1(t) - theta2(t))**4 - 2*m2**2*cos(theta1(t) - theta2(t))**2 + m2**2)))"
            ]
          },
          "metadata": {},
          "output_type": "display_data"
        }
      ],
      "source": [
        "# Usemos estas funciones para hallar nuestros dotqj y dotpj\n",
        "dotqj = dotqj_function(Hamiltoniano, [P1, P2])\n",
        "dotpj = dotpj_function(Hamiltoniano, [theta1, theta2])\n",
        "\n",
        "## Ahora veamos estas expresiones en sus ecuaciones correspondientes\n",
        "# Para los q punto \n",
        "dotq1_equation = Eq(Derivative(theta1, t ), dotqj[0])\n",
        "dotq2_equation = Eq(Derivative(theta2, t ), dotqj[1])\n",
        "\n",
        "# Para los p punto\n",
        "dotp1_equation = Eq(Derivative(P1, t ), dotpj[0])\n",
        "dotp2_equation = Eq(Derivative(P2, t ), dotpj[1])\n",
        "\n",
        "# Mostrando los resultados \n",
        "display(dotq1_equation, dotq2_equation, dotp1_equation, dotp2_equation)"
      ]
    },
    {
      "cell_type": "markdown",
      "metadata": {},
      "source": [
        "## **Parte 4. Experimentos numéricos**\n",
        "\n",
        "### 1. Escriba un programa para resolver numéricamente las ecuaciones de movimiento obtenidas en la **parte 1**. Con condiciones iniciales apropiadas, resuelva las ecuaciones y haga una animación del movimiento del péndulo."
      ]
    },
    {
      "cell_type": "markdown",
      "metadata": {},
      "source": [
        "Traigamos las ecuaciones que habiamos obtenido para las aceleraciones angulares en la parte1"
      ]
    },
    {
      "cell_type": "code",
      "execution_count": 32,
      "metadata": {},
      "outputs": [
        {
          "data": {
            "text/latex": [
              "$\\displaystyle \\frac{d^{2}}{d t^{2}} \\theta_{1}{\\left(t \\right)} = - \\frac{L_{2} m_{2} \\sin{\\left(\\theta_{1}{\\left(t \\right)} - \\theta_{2}{\\left(t \\right)} \\right)} \\left(\\frac{d}{d t} \\theta_{2}{\\left(t \\right)}\\right)^{2} + L_{2} m_{2} \\cos{\\left(\\theta_{1}{\\left(t \\right)} - \\theta_{2}{\\left(t \\right)} \\right)} \\frac{d^{2}}{d t^{2}} \\theta_{2}{\\left(t \\right)} + g m_{1} \\sin{\\left(\\theta_{1}{\\left(t \\right)} \\right)} + g m_{2} \\sin{\\left(\\theta_{1}{\\left(t \\right)} \\right)}}{L_{1} \\left(m_{1} + m_{2}\\right)}$"
            ],
            "text/plain": [
              "Eq(Derivative(theta1(t), (t, 2)), -(L2*m2*sin(theta1(t) - theta2(t))*Derivative(theta2(t), t)**2 + L2*m2*cos(theta1(t) - theta2(t))*Derivative(theta2(t), (t, 2)) + g*m1*sin(theta1(t)) + g*m2*sin(theta1(t)))/(L1*(m1 + m2)))"
            ]
          },
          "metadata": {},
          "output_type": "display_data"
        },
        {
          "data": {
            "text/latex": [
              "$\\displaystyle \\frac{d^{2}}{d t^{2}} \\theta_{2}{\\left(t \\right)} = \\frac{L_{1} \\sin{\\left(\\theta_{1}{\\left(t \\right)} - \\theta_{2}{\\left(t \\right)} \\right)} \\left(\\frac{d}{d t} \\theta_{1}{\\left(t \\right)}\\right)^{2} - L_{1} \\cos{\\left(\\theta_{1}{\\left(t \\right)} - \\theta_{2}{\\left(t \\right)} \\right)} \\frac{d^{2}}{d t^{2}} \\theta_{1}{\\left(t \\right)} - g \\sin{\\left(\\theta_{2}{\\left(t \\right)} \\right)}}{L_{2}}$"
            ],
            "text/plain": [
              "Eq(Derivative(theta2(t), (t, 2)), (L1*sin(theta1(t) - theta2(t))*Derivative(theta1(t), t)**2 - L1*cos(theta1(t) - theta2(t))*Derivative(theta1(t), (t, 2)) - g*sin(theta2(t)))/L2)"
            ]
          },
          "metadata": {},
          "output_type": "display_data"
        }
      ],
      "source": [
        "display(d2_theta1, d2_theta2)"
      ]
    },
    {
      "cell_type": "markdown",
      "metadata": {},
      "source": [
        "Debemos llevar estas ecuaciones diferenciales de segundo orden a una de primer orden"
      ]
    },
    {
      "cell_type": "code",
      "execution_count": 33,
      "metadata": {},
      "outputs": [
        {
          "data": {
            "text/latex": [
              "$\\displaystyle \\frac{d}{d t} \\theta_{1}{\\left(t \\right)} = w_{1}{\\left(t \\right)}$"
            ],
            "text/plain": [
              "Eq(Derivative(theta1(t), t), w1(t))"
            ]
          },
          "metadata": {},
          "output_type": "display_data"
        },
        {
          "data": {
            "text/latex": [
              "$\\displaystyle \\frac{d}{d t} w_{1}{\\left(t \\right)} = - \\frac{L_{2} m_{2} w_{2}^{2}{\\left(t \\right)} \\sin{\\left(\\theta_{1}{\\left(t \\right)} - \\theta_{2}{\\left(t \\right)} \\right)} + L_{2} m_{2} \\cos{\\left(\\theta_{1}{\\left(t \\right)} - \\theta_{2}{\\left(t \\right)} \\right)} \\frac{d}{d t} w_{2}{\\left(t \\right)} + g m_{1} \\sin{\\left(\\theta_{1}{\\left(t \\right)} \\right)} + g m_{2} \\sin{\\left(\\theta_{1}{\\left(t \\right)} \\right)}}{L_{1} \\left(m_{1} + m_{2}\\right)}$"
            ],
            "text/plain": [
              "Eq(Derivative(w1(t), t), -(L2*m2*w2(t)**2*sin(theta1(t) - theta2(t)) + L2*m2*cos(theta1(t) - theta2(t))*Derivative(w2(t), t) + g*m1*sin(theta1(t)) + g*m2*sin(theta1(t)))/(L1*(m1 + m2)))"
            ]
          },
          "metadata": {},
          "output_type": "display_data"
        },
        {
          "data": {
            "text/latex": [
              "$\\displaystyle \\frac{d}{d t} \\theta_{2}{\\left(t \\right)} = w_{2}{\\left(t \\right)}$"
            ],
            "text/plain": [
              "Eq(Derivative(theta2(t), t), w2(t))"
            ]
          },
          "metadata": {},
          "output_type": "display_data"
        },
        {
          "data": {
            "text/latex": [
              "$\\displaystyle \\frac{d}{d t} w_{2}{\\left(t \\right)} = \\frac{L_{1} w_{1}^{2}{\\left(t \\right)} \\sin{\\left(\\theta_{1}{\\left(t \\right)} - \\theta_{2}{\\left(t \\right)} \\right)} - L_{1} \\cos{\\left(\\theta_{1}{\\left(t \\right)} - \\theta_{2}{\\left(t \\right)} \\right)} \\frac{d}{d t} w_{1}{\\left(t \\right)} - g \\sin{\\left(\\theta_{2}{\\left(t \\right)} \\right)}}{L_{2}}$"
            ],
            "text/plain": [
              "Eq(Derivative(w2(t), t), (L1*w1(t)**2*sin(theta1(t) - theta2(t)) - L1*cos(theta1(t) - theta2(t))*Derivative(w1(t), t) - g*sin(theta2(t)))/L2)"
            ]
          },
          "metadata": {},
          "output_type": "display_data"
        }
      ],
      "source": [
        "# Definimos los simbolos de las variables de transformación\n",
        "w1, w2 = symbols('w1 w2')\n",
        "w1, w2 = Function('w1')(t), Function('w2')(t)\n",
        "## Establecemos w como d(theta)/dt\n",
        "\n",
        "omega1_equation = Eq(Derivative(theta1,t), w1)\n",
        "omega2_equation = Eq(Derivative(theta2,t), w2)\n",
        "\n",
        "\n",
        "# Ahora reemplazamos omega en nuestras expresiones para la aceleración angular\n",
        "\n",
        "d2_theta1_w = simplify(d2_theta1.subs(\n",
        "    {Derivative(theta1, t): w1,\n",
        "    Derivative(theta2, t): w2,\n",
        "    Derivative(theta1, t, 2): Derivative(w1,t)}))\n",
        "\n",
        "d2_theta2_w = simplify(d2_theta2.subs(\n",
        "    {Derivative(theta1, t): w1,\n",
        "    Derivative(theta2, t): w2}))\n",
        "\n",
        "display(omega1_equation, d2_theta1_w, omega2_equation, d2_theta2_w)"
      ]
    },
    {
      "cell_type": "markdown",
      "metadata": {},
      "source": [
        "vamos a desacoplarlas"
      ]
    },
    {
      "cell_type": "code",
      "execution_count": 34,
      "metadata": {},
      "outputs": [],
      "source": [
        "desacoplate_solutions = solve((d2_theta1_w, d2_theta2_w), (Derivative(w1, t), Derivative(w2, t)), dict=True)\n",
        "desacoplate_solutions = [ value for solution in solutions for key, value in solution.items()]\n",
        "\n",
        "d2_theta1_w = simplify(desacoplate_solutions[0].subs(\n",
        "    {Derivative(theta1, t): w1,\n",
        "    Derivative(theta2, t): w2}))\n",
        "\n",
        "d2_theta2_w = simplify(desacoplate_solutions[1].subs(\n",
        "    {Derivative(theta1, t): w1,\n",
        "    Derivative(theta2, t): w2}))"
      ]
    },
    {
      "cell_type": "markdown",
      "metadata": {},
      "source": [
        "Pasemos nuestras funciones simbolicas a funciones de python"
      ]
    },
    {
      "cell_type": "code",
      "execution_count": 35,
      "metadata": {},
      "outputs": [],
      "source": [
        "\n",
        "dw1_dt_func = lambdify((theta1,theta2, w1,  w2, g, m1, m2, L1, L2), d2_theta1_w)\n",
        "dw2_dt_func = lambdify((theta1, theta2, w1,  w2, g,m1, m2,  L1, L2), d2_theta2_w)\n"
      ]
    },
    {
      "cell_type": "code",
      "execution_count": 57,
      "metadata": {},
      "outputs": [],
      "source": [
        "\n",
        "# Definiendo las ecuaciones diferenciales del péndulo doble\n",
        "def double_pendulum_derivs(y, t, L1, L2, m1, m2, g):\n",
        "\n",
        "    theta1, w1, theta2, w2 = y\n",
        "    \n",
        "    # Evaluar las funciones numéricas\n",
        "    domega1_dt = dw1_dt_func(theta1,theta2, w1,  w2, g, m1, m2, L1, L2)\n",
        "    domega2_dt = dw2_dt_func(theta1, theta2, w1,  w2, g,m1, m2,  L1, L2)\n",
        "    \n",
        "    # Las derivadas de theta1 y theta2 son simplemente omega1 y omega2\n",
        "    dtheta1_dt = w1\n",
        "    dtheta2_dt = w2\n",
        "\n",
        "    \n",
        "    return [dtheta1_dt, domega1_dt, dtheta2_dt, domega2_dt]"
      ]
    },
    {
      "cell_type": "markdown",
      "metadata": {},
      "source": [
        "Integremos nuestra solución"
      ]
    },
    {
      "cell_type": "code",
      "execution_count": 58,
      "metadata": {},
      "outputs": [],
      "source": [
        "# Reorganización del código para cumplir con PEP8 y agregar varillas a la simulación del péndulo doble\n",
        "# Parámetros y condiciones iniciales\n",
        "L1p, L2p, m1p, m2p, gp = .5, 1, 5, 1, 9.8  # Definir los valores reales aquí\n",
        "L1, L2, m1, m2, g = L1p, L2p, m1p, m2p, gp \n",
        "y0 = [np.pi/4, -1, np.pi/4, 2]  # Condiciones iniciales\n",
        "t_integrate = np.linspace(0, 10, 200)  # Array de tiempo para la integración\n",
        "\n",
        "# Integración con odeint\n",
        "solution = odeint(double_pendulum_derivs, y0, t_integrate, args=(L1, L2, m1, m2, g))"
      ]
    },
    {
      "cell_type": "markdown",
      "metadata": {},
      "source": [
        "Haciendo nuestras animación"
      ]
    },
    {
      "cell_type": "code",
      "execution_count": 59,
      "metadata": {},
      "outputs": [
        {
          "data": {
            "text/html": [
              "<video width=\"640\" height=\"480\" controls autoplay loop>\n",
              "  <source type=\"video/mp4\" src=\"data:video/mp4;base64,AAAAIGZ0eXBNNFYgAAACAE00ViBpc29taXNvMmF2YzEAAAAIZnJlZQABWsRtZGF0AAACrwYF//+r\n",
              "3EXpvebZSLeWLNgg2SPu73gyNjQgLSBjb3JlIDE2MyByMzA2MCA1ZGI2YWE2IC0gSC4yNjQvTVBF\n",
              "Ry00IEFWQyBjb2RlYyAtIENvcHlsZWZ0IDIwMDMtMjAyMSAtIGh0dHA6Ly93d3cudmlkZW9sYW4u\n",
              "b3JnL3gyNjQuaHRtbCAtIG9wdGlvbnM6IGNhYmFjPTEgcmVmPTMgZGVibG9jaz0xOjA6MCBhbmFs\n",
              "eXNlPTB4MzoweDExMyBtZT1oZXggc3VibWU9NyBwc3k9MSBwc3lfcmQ9MS4wMDowLjAwIG1peGVk\n",
              "X3JlZj0xIG1lX3JhbmdlPTE2IGNocm9tYV9tZT0xIHRyZWxsaXM9MSA4eDhkY3Q9MSBjcW09MCBk\n",
              "ZWFkem9uZT0yMSwxMSBmYXN0X3Bza2lwPTEgY2hyb21hX3FwX29mZnNldD0tMiB0aHJlYWRzPTE1\n",
              "IGxvb2thaGVhZF90aHJlYWRzPTIgc2xpY2VkX3RocmVhZHM9MCBucj0wIGRlY2ltYXRlPTEgaW50\n",
              "ZXJsYWNlZD0wIGJsdXJheV9jb21wYXQ9MCBjb25zdHJhaW5lZF9pbnRyYT0wIGJmcmFtZXM9MyBi\n",
              "X3B5cmFtaWQ9MiBiX2FkYXB0PTEgYl9iaWFzPTAgZGlyZWN0PTEgd2VpZ2h0Yj0xIG9wZW5fZ29w\n",
              "PTAgd2VpZ2h0cD0yIGtleWludD0yNTAga2V5aW50X21pbj0xMCBzY2VuZWN1dD00MCBpbnRyYV9y\n",
              "ZWZyZXNoPTAgcmNfbG9va2FoZWFkPTQwIHJjPWNyZiBtYnRyZWU9MSBjcmY9MjMuMCBxY29tcD0w\n",
              "LjYwIHFwbWluPTAgcXBtYXg9NjkgcXBzdGVwPTQgaXBfcmF0aW89MS40MCBhcT0xOjEuMDAAgAAA\n",
              "H5tliIQAEP/+94G/MstfIrrJcfnnfSyszzzkPHJdia640AAAAwAAAwAAP8j+NuVUetgS4AAABPMh\n",
              "4d5a4o87eAAilX4GB67MaTVJSj5LYkAMb6+QcRZvnXj/zXuqpizCg8Pe8JEIrwkfCeOXEhBEN9pO\n",
              "5ltBE3lCTXchDZBb/BW97zY7m78msUCv8UW+GpbYd506g/8cOGu4x6+goOKOS6/HQ1qYljJJnmry\n",
              "+YGi5JKAMmForJEAhAzurh9lfAN/Z/L59mExGb/t8RVbqP3eFA0/oj8a0N7QURwZQ7Gq229QZRRg\n",
              "xaWbuALAraLv4zNZF6dRZhGo12InxSWHNs35J8ZgCWlDc+9ljk6MJ6H2G62iLF8lWkaxW4HNqVWU\n",
              "f6WPWZLCuep4BU1p5GgwaoLrkpjWiqKv8GHetTkTFwSW3qZ//mq7WbrKcsdsTRx+NsKMIEokhDXZ\n",
              "fHPONvk4oO/UJWRFXzd2gSJ3RoXJIP/tYdXPicFRkN9EWQPK6QDVo6Hnes2LRiSN+ysm4LcVxUjl\n",
              "lB5+XU0FG8PdvZeuI2U9+rxTCiTadgcRysoC5pRSXP4wPdT+kanx5dRiWC5cdh8jzkGbXPpybWVn\n",
              "KJBBcMvYBjvw3SNa8Gz4ut/KZzyR8sCncI6JZAQ0rxyL0FLyfZP4v2NjSEr3xfL4O00fPoA3Tyh1\n",
              "OH8+oWqQhfp4yP4SCHGmw8SNMzbmJh+1ru27v6p56BHh3xsKOZQ6vTQtfYFs+mR41nqZcN2Q8f6K\n",
              "mffVVt4Z46vfEinONrZTaEzgnJ7K6DZfRqe9wYDtaFlLxRuFD5veiswrYSXCNAHWSMYUE4SFaHwV\n",
              "5/a7Nz0Ykrmb6JlV4bDAllx4o0LxE3wdUf9nlAIwAHCdNz1TZTWww7NKvXttQ4Z6lrkEof9wrfzR\n",
              "7F9yU8Pe5pEHN8538B88Ib+LDCgl0YCpr0PcvJLFkPiS4LtmO/XjCZuDlx+zOQWciL6+OGERU3f+\n",
              "vsxZTkrwk0HRWqVk0ogwh1TGhMaBSuF1FmFcaBWe/d/PbYfwXZ2ulwF+b7hAPRhV4aYJhn8mrcAe\n",
              "kXsAcdDwtG+XemGjsFiA1zGb0HD4RvulZfoVFuFEPLyRiIKVA2UzgFJG/vhoqn4suTy7dS3+dxrh\n",
              "Z7A/zaQlBuDL7xqMaNAd5iWUOD4H+IFJm8XUdhxsuwtyQZQRcRT8X9W6npVRO4ov71VhdvoPuiZp\n",
              "OAo3otb1/iKZu01LyUMzw/+1m8Go1SrlWbsXIDymHQbzEhC+r47AXamB0R1YQM0mN7DPSro9L23P\n",
              "wzHYdpOaGrNAU/8MUpyGGpPeHmdq5ptJGnSxt3rxqNK2b8LXr/2RtA2OF6I2pZLkAG9ur597upAT\n",
              "NU6S+fD/TdX+3Ibb39b3GAZnRTlK6zmdu0Cvnd33ml3szbisqJeG2n+HniC86Jy8e5d1pJvbkCau\n",
              "bnj/loFPbk53k22jUPfdMkIYhlzgPRZkgZi+HqdqozK9+N17GQ0nokuibHfoSC7TeKiAGHG19bXQ\n",
              "P0YGawkb60/uhvnVUOS2VNnNBca7oXkzGrdUd7UfGtAl6cD2lh2tT6roYwkSgWmu/caIvgGXgYg8\n",
              "yMK8oN5dpQ5UJsUpoCYR5qP4/avQFmFtxC8JVDCJNBvde4Hzh9fR+y5fCoX3Az59pCG3YjPbDcZ5\n",
              "9Lbl9iGYXiFuvIyk9q33+6QBGTLRBI85x6aXzVZqwN/Vys1WWWCjTBIdeUgJf2fuFWyzyIGFQw1N\n",
              "5DTvs8zeNESIAUbvW1sz7zbhbxhduhSUQjyfa6y3V7066uKWsoWNXwB+Y0f1UlbWTcYQ9qGXPV5l\n",
              "tn12DaX7Zo6P8wGEP3HaxMnAIdcPm81enq8qDGFUTwiNUsYDvQ7I8W2sxPiSZxI28tH6Dx8Sr6V/\n",
              "3+rHpn73/pfoEkhfnXUUpranrnDRasgixJp4nE3n22zK2gNsE/1U0gOokc8e/CR1VCiGe5DEDFsH\n",
              "VHptjrn9FoZOGIgMvnJ1wzsGzZHoB5s3NyUyEMLLHwloYYefRApFh/Cswnt9UohUo1RpjIKUbGiM\n",
              "0Lh89k6z/1cfAbnQm2zfOS1sL2HrW0Ozr67dmqVPeALd03/9F+IBhjkNz5snQpQMv8hRSVGKXsHY\n",
              "ozCOifTG/ooLNbEf21pmYKbsURXW6SUra0KvUtD3BMrj2KVJRKJYtoOcZVtF0q+4pmBHXJQiCXH2\n",
              "rZPuusap02tMfJWXfoCN+Y4wlL/sRavgxkVlbmx+jrN8Z8pTkSu0olwEbfas4FWnX+Lv2qBxzvtG\n",
              "IYP0pLROTUalkWAm8OZb23whTyR0ROhvpkEACjC8d6ZUm/EkKy5rx4BdxJKz/YLOhYQLmuHz+tBv\n",
              "AeJtzhIeCBHPoHMzynmIy8vzpZ3GkjcihKAVIJ/D1RZ9xygUwyvEyp52T8y5FM46HQC17J4GDsKN\n",
              "z6RxJz5H5KQmshWG325zF0zT0D0/xazrBt6BmhtK5ujOrOg7UbiiPpzZWRK0uH1/Shb994f+oZgS\n",
              "sJUfWe15EdiluNrZ+G8Fs99hwNDkgE3kDDpUhGAEqlCTeZuRxDKIEDu+8qQwWZgURx2dxVnOB99W\n",
              "U46uL/nmX4f5cUYLmeJRHvDvG3LCOMOXJiW5wqytNeGrdExwet8VxexsZSTZKVVO/msCQ5YBliBJ\n",
              "kbpcVRvPeh/uqxH6ruYIkzsumv9CpE07BLR7JA1RI81yBE4ouEbT+EheBBsBhTxsmf70+wdrPXSi\n",
              "SjxX3lYsBG3XOmTh/ratCaohMfELXlc0gejUhrEUFe50f99u+GuFoab/2Kuz7QX+/ONK/NK0RVa9\n",
              "9BLsky6LjBujZIrTupp+2+jmkb62lEYE453Uc2UAsGPyLnIlz2N09m7e4v7IhMeG0VGxuPVQPJMZ\n",
              "gnSPxcf1PU25/0/axgC3YK22N6gyuj6++ufFZGFzzSec+GSHTKMKiOubOTU/QU0O6Nw4bmcDkute\n",
              "RvyPdwQ7EgvOtkaGNeMP03yJ02OvVSq6jee+06YIYSRUtCN9UEE/DWPRBZPaVCpMHpk7nJZ//YgG\n",
              "qBa2QNbMTRUPMwTO7B5zFZVZELrVdyx9+edosweG4fQ7J7orNMaNAw8GWfQYcDYtLdr6Els4tKyd\n",
              "V8HjVk51rmcsEQEy1NpZl2xendjmqQZj4yKsYWa8pt852hWvktt6N94aUw2ln14GU2QuFDYAta6E\n",
              "oty7IktHpyrVqYty8PlDKDDWszHc6voCzOrHBDlUEpxogEV4dVo4t8MWuYcv/F4Yl+fsTHC7rT5P\n",
              "SbB4zQweDJbFzeNi+6MtlFHccQBvrxfPADdKdTa8FTGjvMGPDLPVx8vSKh/dn7C8gOTCOPlZMfuf\n",
              "GvPuGiwPWivQkVqCR3WtaKsMNGMXvt45xcntrWOXQxxJOmOFa+miL73/S6OA4MWackKSuBWmZmza\n",
              "aUzQM1Y3xYGCVyNLFQrwcL6Ja/7+G2yzQ1s23NQ17FDfUu+l4x/i9BjUmfZ0bZZg4LeTpYUd2H5E\n",
              "IIlVLIH+5Qz9zwnxhEPNCr6FGkRK4hbfd6UsQp3Bsin8UiFcZvkwEGLFLi1DZMmcWU4DLfp3iRnT\n",
              "2n5BLhPiobkjgGEbRFEGp1/s0FWYKR2ioLzEQzqqP8ZRQyD4OYn3nfEHzQCZXPqCh3kjLIjtxjXc\n",
              "gYVbBOkQRAkDI36GvHukeVaAl9y5x4q4r5AkYSLJwfSn4kE4/9wijDNl5qzy2df6knw7/vDdkmJI\n",
              "13PYXEnfjUjpqT/t7N1VDsCP5C88VtyzxlMpNkCMXpHRHC53xKC6ZnHb8vLskb86ge9pNBpNTnhT\n",
              "SVzX6N92iWBpFMClmNTEvqooIS5116Pnu5nGhqdEbA8GxchzqhKOJ797oHa0zK74u9FiHLM8qLYn\n",
              "naUJRfvFVQmZJM+ghH3uBKeMDOsyvK7dF51o9azdeVCjTQeufb5HfY/aNVBHGEABy0muD2cZadtS\n",
              "kgu4SWdgpzo/V80yUwKM19PCy1eLF1MZZIyxCORFWn7Y0uouEfaY0DP7IwdEByCqL/SzgKlr4jOs\n",
              "RpOeEMxdtsBJ2o/u+Mq+P1Zvb6ue2ZaT/aTGa9jbs0GzHYnK710N0/mmRpKgoXEnF5ZPfUJaqHtb\n",
              "1PU0Byv+218Mft6lygMuPnb54YoGndszQEgkihZA9jmaxHTG9uYng64BJe2eYXXr+VvlZNnMd/Y9\n",
              "yzIU/91Roua6q2YK2vmjM6JLY9r1La9OGl7RQXjT3VRX+jsAzdwEcCWkPBarybNi7xN4v47PeFNx\n",
              "naigWcb3nKxZtcABeHHnmTeowmnuhlVxDNIStLLeWnfXe5jEZAaiWLEzfEGpFI5grKCRFFDtqTeV\n",
              "m6HOK5EC/GFxGla5n1WEWgTZALMquv1NWv1aXj5B5nVblR5pKwzULiNsfSr6UIR1MhGbBGBwxw6u\n",
              "hxqWy66pQCf2P3XozM3zd8QkCmJj1eqsgV/i6l9V1pRUEoKHj6aVyLkuZzM3AvXZc+mGV8dYQo7W\n",
              "vT1SdDkB1FBNmN4WantnU8lS0RrLM9uf+aTtiml1aF2hthRU97sFOKjChFpyIhG08H5lygwWiejt\n",
              "A6krg9DCFt+J8XS/3pNWlNiXxuUTBzrYvsqvU/0CjByTocODHbOShf66o6rEiYOCRFkJh7DCPXVr\n",
              "58+zEjr9QnDFSQyQV8phpu/oStfCP/2jLcmR9giIdlwzNquEK2w7LllvyK9uerN515po/RuLuPN3\n",
              "7Xf59/D7L02proQLQVf+aVxcY8PemMynVNUWUyWkKb/yyOl+/I46HaqvudebQLPTFX8fWSCUXodg\n",
              "Eqm/c86af1QjKMiT5moF+NEA+/S3xk+8lLBIqBJEOdYm7N33conZ9yfJewvTXfOgMZU2uOtffeA6\n",
              "3mHr0wMZwbCegS5xuqoJP84XFWSkkOe7CPc2VRplKdwYx84rEBnA5COuacuRvbZfNKD42aXMo73e\n",
              "fIQcWhF0kOmNeF+7kUCaAJzIqLhyYTFaEY+TCk4sBk2Pj9bmV6nb9Y+Nxwhb64Fhqcy7VV+hoSyb\n",
              "EXaGYrTpaFf4vCqU2kL97asftC2ZPtM2Nhu8Y1jiqGU8ygwB+5jNllSmC4mhFDU0jzCvOWnRP62M\n",
              "uCSHd3UjxVFZtcQFkiD0zJFtoMWXNxsQ/GbLNEbeErUoOvwWtYHcM7YQ7fow+NHPrwSRkTed4Xba\n",
              "HYZU3/7WgVr1NybkCMqNAApCBW8UgJsmqFdwDK/clFONIkyWqyvcdhuA6jxj1/aDfE8sO2v7qtKC\n",
              "iO5XrE6Iy+bxBRaWDdLaYi5IfxrU4Ii51VpAuvxoAw+pQXMB9sfS+yLQ9TwmEtuoiiwKrJMuJ+AG\n",
              "pMXN75O297ThzOEQLYJFNOeMl/Ep88TqAq1YPQfo/dN9KNkE7nAGuTCFHlybDJVRMvI9GqqURWlX\n",
              "5YSm2Mf6mTiajuHwKyAAScgbHH22FZKTq95g5WQgufTf8+/VUnhuBFCVFwKZMguzCUELVv7SjJbd\n",
              "460oRokTNI4Z5C8H25LDMgqsYLOrzA7wlJVUVJpqw7GyLTdq7KbieCf6TpuMnjJ2t99XWJPONRKr\n",
              "HkW0dZ1tCqkUo/s9CvbctyfKvbMDKembXVJKYD1PgEXs3b6Ava4LLgjCDAoLGefP/IHnbVk73dDg\n",
              "kUaaMbpQ3symyunefA4UR7psC4OToxUwAIbQklX7rQugYR/d+xtbb10TY2erKgk70JcZ+vfUouG1\n",
              "vk+95fvigdulJSLwgyvBJYxXB8ZAkvubJbGlaRWzFP3YHG3II68IPBu/65QPN+462jz6iFW82HJm\n",
              "yoTs9KaIjGg7+yjQXjAxdGzOA0/WurImTjzyRyQXYkUExSsfFur/3nS/bm/y0ZdkCrilYZUMlAgj\n",
              "O6PxzA+LRijCM0/LIaheiQKMusRHYfjJGn7i/CQydhDAt94JTYX58RXR7GQr39+xK09A+excQrd3\n",
              "DkjWn04s6X+in/cyehL8bFWQ9FsB5Yz/sS0F2fiQ9yDwvhlHRlI4r5h9aG6z5JIhVyj7APl5HfEQ\n",
              "NT9Q33x+w4+dI7ueHhBvSn7yrnUZyalk9CDhlQN1hmYqBO8we0ccCdvdi1FPD9PJ+wtrJSI/i32V\n",
              "hPbOP5Ti/JwRog0qo+yE4oFPv8IYGM7T4gzn3R22reFQFH8e0+y1ZTXsI8TwFN6P+dv4+eIABS2q\n",
              "pIDq7qZ3DOvJ9ZwHYkplh/9K+fE0dYA5wXbQ3SVNchuoUB7ydlgGjKbo9Gmx2dacSOM5oA+WVhQ+\n",
              "mVKVf5a1uwRGixemJ6yi/2x1HFWr9yfegZzCsWo0GYsVoV28Ee411bEfeoca+995E8QPSR7+Rc1O\n",
              "SxTwXlzxEoWyQCkj8VVJf0QBoNMO4aAp0aTZEzO1msQlzBEPE57AMIPXkCvF5+PfndUSZfdpxHRV\n",
              "O4D2CPthwoOtcmzYDWxEksKAkpnzIPXUkvCFzPIqWfdAGHh3QRZMW1gGvXPZOisXj9VKDE7aoLG1\n",
              "Er39c34mv9WsR8ptJ4Lb+0AMYnZ6Wll64dBp/4U2zTp9M6Ed3zm5v2vS/bIBKrGInJgEr0czvmA8\n",
              "DGQ/RwGeTkzKWDI46lQwExHgj1k3Lw/+NAej/HwDvGIOLNpYjeSEz20qSj7iJn4xF1vNtrdkWBt/\n",
              "RxBjeaQKDDSxFb2zm5QFxfeQ19RICO15nU/SGgbjhDo/l7kD+p3ORlKjEVRFloOY3qMVUgGr8k6k\n",
              "P+MZ6770cznd3OJSEdMQaeeLaysaMZy5zKoWFD/6yiNUyS0cbg7joYrna68DGVpX4zQDgP4Uuzxz\n",
              "xh/9rl7ix+iFV7nZzbnMT8gPmvTUG4CmvhD+g/0O97KBxAuKuLGGzlYDBKOtbmtBL9FV8I55Y870\n",
              "EL9j6ONp4iG+hDt8yxZ8rjQk3GmJSdVW0y36kugd2DR2pRBLJ8xUvljO4bXc8cf3cApy8bkQQY7X\n",
              "83Rzg/9ML2bNQnqgQDKQ2HyDg6r2BFDqP5GTLIDxh+ZNPcWsdUMy7ue5w6JbgsQk31yiEtBqDKCM\n",
              "vZRr0+12Wy5AusRjbnrbymhuuWem8LWG9XzBiTxaIR2R2heuNrHup25Tclyv4UGxhomVo6ktgBqd\n",
              "BddKWbhXQ0Mt3Mgr4TDNOPy7PGrUTvO4nsF0gTIiuEAk767bKNl+hAvM6hJB9xK8DVMJjT9Q8qA2\n",
              "ey/0TW3PBFiSt+vz6nBQDw1zTOkbUI5/8k+uX715SE8z/k1hmG0RYyW+pADRaH9WX2Jf1hcdWx0d\n",
              "RP/EayFAlnE+KVJsOS+j3LGdN6mWnnQqA5WJ63xVxCAjoN2coUKmq4V5C7pCgjNOV71oM090tolX\n",
              "dkWJ7cGrirV9sDUGaOdosk5Sqv2PXv/rzc5ODiwBMNzhQbVvUm7h6sCmYeSl8xH/UqWvwO+NuNqa\n",
              "QG/mSchwz0VkzYqYCVZZFi3+RRQvCuKXwD/x8V3xzmvn/nTMuqHqh6xX951P3j9F0yBY7GEWFJmF\n",
              "fmG1V6fvY6yNySnDSxh6IJl8N9/QbiqwK5kFucI8zRhhRub9j5Hl3Cg1vmS7PGdJQRDEfqVB9zdm\n",
              "kKEDcLsTu/qIN+176/IPwdXdTO4Z15b5QrMy4/R20N/op3+5PeUNwsWybZHWdDYx7aeyQvgl14JY\n",
              "lH7wu7HWb0icJiox4E5h3grbSlSDbrY6k+bM1vEEtgKqj/b+wt31yPDzfgMeO7Nqyy9Sh53eNzaj\n",
              "+yatN1k3F/9OdHlnbT1fLzL15XJ9qN/DplT7H41zwbOOsV/x4RSSrr9zrtDkrv3pNLm6hlW7Dy1K\n",
              "z0sDXupt4iD6NBNW/CbtrTtm5TvslHJlYvNo31ZXgbuae6HpM3/5YnzqURI/ombry4ZudVjEqAi7\n",
              "LTaaJKGEXybcFOARweGMGdCkgNHTyp88VPaz+Ziyjgciy/SDATvOkcoKNu+4vzzCTUqkNgMFx6ut\n",
              "SHNuqgDFsHMyASIJKPxFTiLJhs4eEGlwy68MF3QusSBU2TDkPuOrTnCPAMV6cKuzeUk0hX9An88q\n",
              "eFMN/O4EM5RPYmU6wFPNdwf9dVEzoZDzHe8vkly6eiNx6lz/EzyXaHUEgdKp1Qd45lXfHa3Aja2g\n",
              "QQFsupfvse4xmpZ7r5DZEsJS3NmoR9AgxK6Rc90CXXbIyKQ2Ggc5dH0+e6NbzrNuwuGG+f0BjuHg\n",
              "rcXihyChR5z/Db+QLm6GVZW+ab8JmhHqX1BJSz2lOPm9sPPBwfg7zhnWzc+YYOyXttrBrzfnQnGt\n",
              "2iBTedDbPbbqFFGMTFYiLU6JgkyeZ4RFg0Ty1i+tuiF5UaY0L16if99hwdU/uD8vJgZg6eqRXiHq\n",
              "MlemAJzNB1KpPO7R7GpgsPDmeXXnaW+Z+sXwra5F7RkjABROHHbSrYAK5v8TP/ba2EnJpaCB2EbX\n",
              "GZwmrruc6XU80xEs1/Se/60zCVo43h7n7XD/2z5amA0HIfh/fTsX/5QncVP8guA2q8vwEbAq5deK\n",
              "b+u4gRPD1qbegJEAAzKMpNI+GLWcC+wY9vWN/fPoQPoI01oqcAPmGcgJ0jIjHCgESIUdqWSEAcVD\n",
              "efL416b6u7sqesImCX/daVzJD+kAJjG/pzwpLGcsPPosk74byKv1rkMwNOpiU+YbPGOP+kp5UuW6\n",
              "Zd1ikUtZQOBHr4j6W133tcylCiMcaw6EZYn/Ple3gwqPMIFGY7ubaDFDO9pyOcm4JVIroSbi5zQr\n",
              "BiN2cZXy27TBPEuAoJDT/fL2c3eH8e5rKCd+4iFasY5tdNkRcfmU0hTQBCXgXaFmF329LorRwn97\n",
              "Yz8tcWPMhzp3bZZnDHLnfW3GSlQKieQWje3PwkvEAYnLuKONmuKjYCIcjxnL8Ya/AKfdQRDxtBT+\n",
              "hQMv9VtMoJdqLNs0IoXRn3c4KS6pB7xONUWdYMOZFkTWKgh+1hewCVcb24d4JS0X29IUpqyR6v2P\n",
              "ArNH7ugAAAMAX5R5hcSHD4MkMpwRljLE3pwcQmu9dq2SrvsZUyQj/8hkYKVwc+Xv9bFgwDmdprE8\n",
              "GIMBg/A1cpwyIJKesc8NSDSUPFD6JdbDXWqUhmBjKo97i3Tvg3JvNObVFLy2nBz3izcqewTSsK+U\n",
              "qfDSflXAsuZreCf379JLbumcoyt/nGuFEWIiCMVEfxmf5LiBDZ0zeckrIxoQlWNmsACcVmZzN6Ud\n",
              "W/GOdRs7g11QrS8kV0v14hvcbW+iUJQJudUSGlvRTRh+rvEtDYaAoHeK0e54w+CB9wuCXEvQbKSN\n",
              "pRoM1cy2DkBVfqjbcDj4WHsoadjG7k7RY3xAtVDVsIqhJzmQnWtPs4sx1OuH7w1Bg4NMGIDSQH+o\n",
              "KxHpFXOLwAH+9vUsAAEIgzTWg+n4uBxxSMDvWyP3v44/MftOqTSN3gtvDX176gCj+uq0l33n4yZX\n",
              "N7Ulao++PK3TlTxyt8fnNwvTGcC8Af0YVMHD5RG2FT96Qvz9ltpEWmzFKv4xmEZ1X9Taz41k39jm\n",
              "KHhJngWuY9xj5vvC0/aOUEnFdmlLtyS5LHoUgfSLOWf7v0IIbK2Eu1mhJJEEWLjoU2Mvjgtu72Yw\n",
              "BkgBhHRfm091yNk+wfwI/ShXfzh2YTe6f/lataeP26O7L9ZhcLas0rbrI/5HUm4+JAIZ8304nqgM\n",
              "3SP1/YcNGiWUH1OmikSx6Q545fsO1izdHqUv0AvyPAr05IgdAmvIjLMo2deIAPS/PTeVD7Aj0pR8\n",
              "vOPKvgmtjdKVw91I0zlEcXSGqwOo4uXBCnx3i7xC6Y/tnMTEYbtQGCA6+Amunw1/ayM+QNRIrCtE\n",
              "OtXgM5psYu0mEMzOlWS1zUltQGfM/3VU3K8AWu9Qc/3qhG6x3RtKDphn7eEzgF/Thk74jLimQSrW\n",
              "KWEc6zBuNkabWVzVlHp6t2u4wvWTnr1vIBW6Y5dB6Z6Nh/at8U6YXKVfcZD4DO2xCU39P4LUTXYW\n",
              "YjKUGzhn3O8LfHNAxS+Rbqd9Uc4wG1DXvrbI6EjXhD1HRqU0LQ5sEMwb7jjooOitctuVnK3l4zn/\n",
              "KIW6Az258H4iKBYU4TnFzGhw5u97CkDfOBEbpQwbm+dCiifCG9S0WHALMlfglUuWYtaxL9IIJHlZ\n",
              "yJefqB3qOyhMwypANibTeiMmhz5RPf53DaZhvV73Ji+shiwNYJo2KS8kiIbZfBkps2GKL+c1fngd\n",
              "i1jxnc6Mssi41XzNt9ny3bjO3o81uwZe0DvVnDV9mrUN3EIbNj5g4hcar5HIAZTwm1Ws1RfRZpTy\n",
              "JPSXtq8RSUDLxjQYIJG6KM6MXXP9yPFiE5s3epYt/VZr25l3Av6RJg5eT6Utf/5o2IP4JrGLoBiz\n",
              "JEhv2hSRMrgRaf1fDndmYP1l6fnMUTV3yHSaAOWAqIWuUUnjagy9xm48YrAIwBcfDFlOsz6nFDx7\n",
              "nXfnlhpi1o3vs3vbQGj5yK7tqLee50fYng6lTwpV5Pb3uNKBw2EUWhintIYn1s7U4heCJ9hZwLDY\n",
              "Le0K4Jw0pQOQVy94lWjodj7VHGQrcNfJ5/xZcRNjqUZHCBOlcY2D+ISPAB/P4zal8JGAw5v88tRO\n",
              "84rNLvobouedg5Dby/r3jLxb2KjfbcJfFx4ErRn9OxZkpzZEOmbnuX7Wzx/16vl7R65cB8LoMTVm\n",
              "IF1dkFc2+ofoIBs8qFWPgXNP3WQHiCVQuRhiQf1SXg+/jgGa3az2hoDVbhtTwfYFnr+LTmgLUOux\n",
              "V1x5dlIaq5P1+4G097S6UKAAd3nySo9aWVTnm0uhQRD7BVtPV5vRk3IxNwHxr6kvS6OKY2oj10UL\n",
              "xS3/Nx2A9YgFaW0oG4jfEU2kVPas28bhQON38+n/cYgrCjkHCP0I+gxfQCour1OBZu0QNoAADOkA\n",
              "AAPFQZoibEP//qmWAGA0+XwA35JhNIxaFQtn5JzzYmV54dzcErT21zGERxRyiBZIqocO5AF0UcUe\n",
              "fU3BP6qUsQP7mLAKhSoq+8wTu7RSEA/QtbemIaYl3V3UQ3uzjbomf5GhSOJF4wQzkFkjC8Igvpqb\n",
              "UnKcASx94OZNyso0noUYGtCOp/Q5z5B1OPvZmA34TpcTzQs3fgZGe+nH0iCrW1z3edakrkaY67eJ\n",
              "KT9bMdXzWbf52aBEdUJQ+KuWZ6P1R7AhRY/U8SheUF5vpqaSZAtwtGkCdet27x3F2iWv2/IPkZ6E\n",
              "kfZTnDqsW2WoZsw42SGg8ZbZHPSzkNqxxwAdW8w9yOm+AD42YcO8aPpPdCgkOInl7hmRMu8MODwV\n",
              "si+U7UGXgqoJgVdeJsZm/PJ858uQ6dTK/2vHmxvalePxM2snGPfH1r++LJb+cl6t9Nm1yspIH/+/\n",
              "81Ik0eR3HLiGmI4+D8Q8kryBERvSVyYpDYhSsdwWnG5G8RElYhoCY52tqHc7j91de36tFgV6nujq\n",
              "VvJAOfJtF5MiYRerxL1D2RRK9FiM/euzFzMoBtmeJL7jD3BuTdxvCLYCMmDqX8Wfuh6onzfwbhC2\n",
              "nEzl25AF+LlpNQpNUrHEgkKUTZp8Rp1IV+Lm4WUuyGzAK+eh8HgcxSEK6NPgnxrOe5O3EmSnkpAM\n",
              "2j2DFB7un3H4DkgAZAeM1/Yd9IwYI0KMms8yjSv5uV2z+oFxgXlt71lHiMsSOiHs3rw0lMrjfEta\n",
              "VoZwdUDx77+dlWJyV9y2V0tq4LGHWyagIrPh6ptJM9X1p8xwI/VSAdr9wdMa06oS7tJESpwYE+8X\n",
              "LYdmsHwGi4MnZ1f4fLo39pw2KVi1V+ukLfEfr6k5tlQd5acu0npw+vfZm1rRJA9hTYUhf24BKNzP\n",
              "VCkFqNK/b38XHNpzvfeSj2sfhF6c3BDpkiDDtcxNiU6kNDypvimL2NsFN8tM8XmwtM6i8Nb02yMi\n",
              "p6D80xqko+ZJfGe3nc4I1JUEyRmIz6wJsOT+o7k3D878Y3NixY8DlZQima57bDyKs+3DA5LrFY/r\n",
              "1MQfgvM3Pif1oDfaNpzjDug8aOnKkiCYrjTfD2ElsuC8jo8XgHQ9qbPF/Sdh2I3MeGAX9+01yWHO\n",
              "g/fiYCHC0E7BDbUuAMVucc/EgzbUIijojX6ZdHKPUuGTbUOFQztOj2mTB+6nupwgiVXgJLHv7B+R\n",
              "Nc+wY8humHW0doHG9uS0x5fcCBcRwsXPJltoJGB/BweW+p2Z4Eu2ZY6tEOX7mFJEoIg4e7ESTagA\n",
              "AAOqAZ5BeQ3/AAJsfZAC3O9sXZecbGh8VLZiQV0JwFvDXyOUCUYf+nl8mfd95qBUUdlO2vsr2TLn\n",
              "gznz3aRSuR64IYXHm5yscpUZXd3HCK+VGZ5FPr8S37Ej+B95i5P//K3vVjl5MDlrVgW0qhO6BWx+\n",
              "JoBvbpIU9hQ7TICrQ3NBkKmms+fZhN0ozVQ7TqwMaNRu2ptRX1emLehnIGqLtl8NVrB1ztG4Ix1a\n",
              "NZQ0BWTGjXONpGRERNgoHF5w1xvwkA1F85Yv9VF8nsFQfCKxKCyBD5TxMIVS3VeRb+dwKEsunrW2\n",
              "mhplcI9nqnfchG1x3nHGvo/1mECONjMyCvSO9eHN/xIqP2jeOjm8fzB2tgP7nLkBLRnfb62qgcu7\n",
              "dsONwAf+B17N8hxvq5fjtn6K+FDVlZjrvjtLyRkCpXAplOK0uwXJbb/Maapmz982b/J4JOsKdPqR\n",
              "wRsGisGd70z6cX4EniG2sIlW3pplzJxq5ElvFjlL6wuCtBpGsDMZ+oc9QJf4xmUIsFiiNyfZN0KB\n",
              "WtaZ+lYIR7G3ulB5eBXpK4wx57MPhNlaGXhLwLlrEZz3JrXiYzwBz23AA+C2321+xrTa9EqqE5QO\n",
              "XXecLKY5fJqGmzcmM74z/h4c+tAZRDGSIO8eTzKOIMrr42sYYknBmdBiOLuyoHihQzFbLRusW7Rk\n",
              "Wr4S7K/Exqocw3danH5LC9hqtF4b5c200Hy5T+DLc0cwFwhfju+IhrXU1c/qKtlOb4THpd2vzyDA\n",
              "IXqO8+rfSIsjSL1Ylj1YERV2Eaebz+Xx7mSe8XSF7EEJsYpqEYsuei8nMNujoeeot4Q12QZRcULZ\n",
              "bDPX31MQnWwsjM8W8cxpbwcC6tbxAnUhFAe/9xJlSDA4YrLKs9oWiNtGZgLxShE3V+q1EKadlido\n",
              "bgDBglBoRiilPTXWqTAhnUw1uEi2wn9DOa72+AQXWMkGS6MapnVb6z/mvr4iXpA/9U2CORqSVLtA\n",
              "J6fB7YvM5OO/MEuI4dd9fuQ6TkJDrIoaSccqh8xTOLMk0xINou6XcMsQZ06ujwOIZOHyvxVggY23\n",
              "vQ4DaetG3ViW0sjjqUkAHJPIirTOHYw0Q34JxcmpTFV93orOyMX7rdbBNfht8iNMvBQL/lfmjQnT\n",
              "nHUDHmIu1edjfvz2XoDI4Q8TmYAvx4jpK/dpxIliN55lP2zV9HCMq0KpIaHp6W2HARJabKcE0phR\n",
              "SJvLmg1f1SnsGzdBe0nd5JHAE8F4Q7MHpBTgDgkAAAKvQZpDPCGTKYQ///6plgADZPTrgBGV2Vaf\n",
              "3kkXsTxzxGI+xB+VIeWNOpPL8/xbaIng7RHHT4aQpW/7nzKt+f5J9Ug501QVkdQvJ/hc92K7VZYk\n",
              "xCceGD+mMUDYjqwx+yo53IVdqkTVneNRyHKXAHrgjXeEL/egecVGl2B2pA0PzMQF2WDKXJjZSR5z\n",
              "aa0j2wmEK8aMbAo3lBHW5mjAF30pVS/FobSttD3MD1twRmqtlW6zPeeMEQ1EHWxvMZWAEcKoMR25\n",
              "WkF8qiCcUexfMGm4NE45CEL0hXyDJ/pGdmX2OsHL7n3leAVp4fPhOZ5te0Zo/a1O+PVLgyxlSW90\n",
              "mUsmuuRdunTJg8pjue3LarzuhCnN+zvUf92I/TbBcMef0gzhUcM4KkzsrAD14hpD5JgjpA4mu/0I\n",
              "vEY9QhPZ+EQ65ag/j3ZBemVq3HRehdg0ZgKAcYF5tKUVumNiwJc1aT+DaBNW00xt2ZpBrwgy4aKU\n",
              "hV18skKKuSIrDrhi6EPZVjrqu+L7R/9q1kyvbyP0ScFkROnXYo9W18Ki67cgfAscqeZsUBfxHs5F\n",
              "SvIayqhUb5RSHuUzHDqZq+xXJFzo5uMbRT8eDoELhld7qDaifooRqiRfsJvI2KtoX8VTk05rrMT1\n",
              "w9JVqQNYRQ0PrQ/0a/sXodUtE+M3+qNYDwlW81e1T/9TH5BgM59zildsvf8kJOwxIIR2wLzaw+VO\n",
              "YIsJvFD4CISk69GcifKO8Un955W2TJ1z8ruxwRXtkl9vbsOFzJQXu8CF+/vFWTkm83DfqtrG8JJj\n",
              "dlVvyYJ1BKeXZ/MgCQIFBH6WDRo9iR4XIoorBIPA47x0pB7maYnUm5syW9n4eBBvJBm0cqsJXgAP\n",
              "UsfBCYrtmi/GC7+F7PQBPl4xLuzd9PHQxqeUefte9rp2zbaAAAADB0GaZEnhDyZTAgh//qpVAADe\n",
              "QS7gBGUcHYN+0o+7YYxw+LZLGXk+wHaVHKjX4WvtUG46ssQUdqqUpxsHgVq3uIjTrY9xbE7bjQ8a\n",
              "QlcfwMqAporRPD6ODnfDXkok0opeZMWafe6lKqc+lz7hzxC/kAUGXCIJknlPpt+gX1FobkF+8wu3\n",
              "drPMmRf0sP5iLQgJq0RUD6aLG91DSTciRYp7EkhKnul7oVi+Q5Ygo6PaNfS7RyufUeIWP8+W0LbT\n",
              "tn7txPMV1Zi49HV7VIU5/FLUiarKPWKOJyhGorKnyACDaCXjDSzcfAU/YEFfcejzCsBEyA7nSiZt\n",
              "zTSpZzMK57aBlwGHQEJXn+vNz4KDo0upwZgAYPQ2ZSuP19XX0vMMvm/u6GuwV0L2X0cw1VKzR/OL\n",
              "al2cQivacVY6LKmJSEPGUBrCDOHWkA0ftwSF/4jSQON3qpIcRZ6oeUeEmBxiY5dxFfa1sU197lKU\n",
              "9LZu8PKTF1+R6fF1NVqykelfQAJe5vYrveBvw5yI++BYLD6Hccj9J0YaDF6NNk3LtEZOONqkHCHE\n",
              "DUV0AAyJbPgjtgwba9B/GTKbkWxJn/uALUb2PCUBLLcunaw2wPMx0MXaAbEh7sEFzdqL1GXeenaq\n",
              "66wHquLcBNuI2rv83qy9R+hK4xAwHXhR9u0wdWwEfg/eqSWiI9qbKuFNSeUvl6qNPGZ8OZd/dL4E\n",
              "z9bJERIruGbb66TffQYt9NQX0gioT1xN63J5INGWxKQvDk2+/DOgtWzwk6PFnYYsrDTH+O3aBFLE\n",
              "MPLf25dS4LOCL2avgsrEjunAYwOaBLBC9GE9vP4DD2RA5DgiMerDTwZ3JVrRYv++NlHxsq2CwU2E\n",
              "7rqH2NvQVXTuiszcesksEI5syezFQptLlC0f2A8hGB9NY2jgux+y2NQ6O9A5BxGjXKy5jvYRDldD\n",
              "h7sVzFOWwrzJdZ686x0S67WkBSDmqbpuEyZ1dYbGw94fuJKIa1sHbDgFh2QGTo/kCYIoZnz0xCsF\n",
              "t5IundoyfJIwiEiiaJwAP8EAAAO1QZqFSeEPJlMCCH/+qlUAAN5BLuAEZXCqLuVw4OccYlLHZmfv\n",
              "UY4/ZKS0/xyOTTSYOvmTv15bG3hQyPloJHLoUlh/w6GVZNQiojUJsp/fZELi8Qw6mH9yCGtaPh4+\n",
              "1yDd8Fc17ZJqMm+xqxTiqlv253lc3Qd/rwFAy5quLZxC1iZRxmBkpd5MQiRS04bSkYezP5bkXuxV\n",
              "E6leeBfkZIjw2z86ZSSDsJ0C3YeTAr0fH9O2n2WI2aiHriOC+/rIGv0g2eO90nR7Vdeb8Na3k38G\n",
              "Pb6KLvpciLZhE0rxQxy5GzuLrPIo5FVmQvYpmYwvlEpCeheJP1Kr0ME11fAXcFVir5nYZYVOYr/L\n",
              "IlXqhlj1zbTf6il5s/Y7BI2YIfcDB26F6EvZNKZ7UEEg2tFVloNlHvpdsuTqRhdOzjKq8f8AgZYs\n",
              "K9CRSm/mh3hDLOHsgRKLdR8ts4+u9Hj+2fj+9ylsFZIS8fCPuLoROAY+GYIYU4RX+oQu/sZ8/z9d\n",
              "ScHGvPijnqe3OWAVRp+K8wEeI2wCUb1J1nM/LyNPKwxaCXkmNYaLRRzlACPBe0MEZ6dqu9K04kPB\n",
              "srxFWgreC5oQ4IsXopZnfB4gl31lqpKsl1M35JKfetNSVFnYVsQgda3gxSHPOEYeJeQikhg8zp45\n",
              "czoz1OzFiUJn8wmt4fZEadYtlJp9rFYcmu0aq/t5yX6eiic61GlIcbXvmycxMrDesXs6O+aqUx7l\n",
              "ObBA9jzW0sbqOaqcInR16ArtrzczZCfYb8I0+bqG0Lp/2ktxXzjyItCPzWa5BfA0eEZ5pamLylwh\n",
              "CSdJ7J+xHEgxEEUcLkGFIwUofDWpNAJfowPl840EPvipVb4SrCugziHOX6V9UlVpL18F3LXjQ8TE\n",
              "xSyZC+7kjS9TVkZGKLIhQcLrhkGVeBS1CMGVHfRiyG5fGQ4MJBNrhjEezlkYm8O6SwJ55rCcRNvb\n",
              "WzrsVe3Rr7pSswnrJd0DofJkwZDftJ0XM3NTaj/i1R8cIYW/bbWCIvrXXr0sFCoHMmEtb1oi9MSc\n",
              "zmE7uxgXKOqi4kjdzj3Z8H5GL5oVDrm//y66C9f9txNuz6RTDemTDFyx8bDpGFGAGSkVQbOgH2iM\n",
              "6cBlpk6bUfmm3mD1gpu6q0Lv+KSnQ+lkYsPqleTASt1DAMSUY7PXoBoLORf97glImlcJVcIsUVwH\n",
              "DaFetiy7QtPWz2o000WWsJsxkfqBMfnmK8/lTcNhMhqYiH8tsWvL6IQh9PgxJS0Xlu7rB5T7aSAy\n",
              "oQAAApZBmqdJ4Q8mUwURPBD//qpVAADeUdPABxvns+s0AZ4foYO/zmbHM5JXcTG4dDFIVZWABo2k\n",
              "9//rbtTNs4iAQIGpErnr7shOo2RBeIYekriRDzgd3zqut4jXOvDRgQzpTSZg+4X3bKaGv5M2FS6k\n",
              "n0o2Lsk1aI3bOSEc8v7JIlB/xMXzeBAULVYTFT0ENAsQi8hk9fbOV2v/l5ik+gpjqphe99X9W4tF\n",
              "UwqZynV/vjsCIb99HwGS1AHbK6vHUYKeTvTUJd0J11GAAPsAt5Fk6PKQbQbWszI0cY2HNYg74tky\n",
              "d6T6Aa4I8l6XRepWybQ/L8xiK2/fhTcax4xA3XyQrZul3/TC5i1NGjcyM5VwxPeCVvvMWQBwgG4v\n",
              "ObJpek5+HO4DqWtHdtP7473m+QQnkM2jD8RxNj5K7hlk0IEvD0UobTf7fYRK3qQTUxXbB/BU/Gg+\n",
              "kXElveeISWwVmnr3Kjh4w3Ujr5xMqbIfZzrNvbFwsBxEFmaiOiR5FMekqXQJPOrOgbOCMMiJ8nPI\n",
              "5sgagqehyYb+Lqr8tmFnPGDwxAbBcAqccbn2r/K6x09vdHqSoXNvQgO92reqBEi5GYuYTF857cS7\n",
              "aVRHUlyAx8Q53nnTJFxGG4Z0gTm+Q2ja0NdQITl4t4YHS9j+j7MTQNumYKGeOwDXlCjOg+V16Bsx\n",
              "yefAgCatWGgshI0ClTjfbdoT35CQyaGeW2iknDOBFEpOhwqKmR/Lx/xQ7rKSKAacjfSiVA6GbLeO\n",
              "vAb7Rw7/nerXYACNwrys0XjGYkoINAQFDXzOOsORVDNVu7BuwZbeCazd79QpD0X7wHBtC4oY2qBJ\n",
              "fMFyw5WjkBy2de4MlsyHYyDyVmrmt1Xg/AjXJjCRKRaocWuACszpgQAAAxcBnsZqQ38AAmpZjwy5\n",
              "yExyBFwAmVfRuFD3taYGObCPUBQtgvf7Fk7Wjb3YLXo01vj3p0mhgTVgdDVIawFiP4ciLjl8u4jw\n",
              "KG6u8y7v69oDmqVejwCJZbgil3n2fiabR0FdjPED8lMSdLkJb40+GH9FENsAZ+2ShUV7X/rUq4Or\n",
              "99dsRaNOqKPHIlW3sCeCzELnQX2L+4vU+WeT6B03nFmSqtzzfGFy/ig48U8xS1/m7qu9vSrOP63T\n",
              "u9m8L06cEaQ7MeAymUGwAF2K4qadx3lDaqUMeNm3JG0XN3j7dMkI7xVo7z2Xbi24GIrklo1J4yDJ\n",
              "9DLyhMgh7jLDP+HkKTI75DAUbIyX8Ty1BFN/6YZFhAwUQD0XHaNTY+naKRw9sz6Hnra1MFtTYuJQ\n",
              "IejaHIfvOsBjzfLidG+e+4RGlLRsYOSpFOg9ydQyVYHI4PFA3ihF7E3I5Ovwgzif2XVBgM0vvOed\n",
              "Jv8CBdGI4TeippRoJN0eLGe8v2JgjEtwkrPew14m7K5Gjq61/fs2O6YXz+DqEdRF+duv43pmB0Wh\n",
              "08DuoE7Gx6sWWecCyeUPdN/I5tUzQp+gvSQrDsEt2iz5Wbba0XEE/jibMu5GLUY+/9zljHrVQMKy\n",
              "JlSzEOmSFRCl2lIkdQJxxFr1pofpszLzVnzxnnoGgfwpvXA1Ei1XPOaIFYblJPN2CQ8uesDrfyRM\n",
              "LHCpqPDJn//I+CClRZQ0LjrFHYiC+/by+ZlPSYPdMQs99sTEHM+g3iHzXAkkVj4B6UW7EFJ9BDjw\n",
              "IGd044lQuzkGi9Tqzt7gpw6dffudBDvbwpkankBn2DPxAP/OSu5kzQ3BruCmPy8bTjnaqlG75Xy9\n",
              "MypKIsFEm9j5j9IjUEr0CoW7MWQ6kCiiJcnN75mVQruWN8++HMYwjbtCYrG112ihs7om+AWOL16c\n",
              "Tpea6NCrP1W+JfgS+iPIeNUOwis1pcGQ1qnBf9Hn5ASBIuKTAVO9KiecY7N2s/z7V2yFdLz5eqg3\n",
              "C7Fy6tOvvC39MrbETA96z8DUwVOYzmHeKR7x2Rnt0kgNJ8uW9QAAA41BmslJ4Q8mUwU8P//+qZYA\n",
              "A2WHQjAEfHkjtzsqEEiOPkKaq/yhCdf889h83h8Pj9g8OyFLOBoeY8wFuH2Yf3ZpTBODeMnLqgGT\n",
              "3VRCdfFQ8+XxRQZIPdtmbrHyRjZiQZEhyzWbxtmBHk1uDTNSr86KZhSizv8fzDbH6X48iyOEuwnj\n",
              "qpf9PahPAO9/lR1KNkWIBmlIhTu30jVjKVsn13+dpLN+XerIPeC/jAGTLQE5p7z7XwAhqNbCeeM+\n",
              "2XsRPt4nxYfduwUYaojZq03x0l1bRIUSRW/8HQc3ZvB0UmEA7CmT3NpRh8yANM+rt19LmkczHDCq\n",
              "ez6a7reZhd7E5RLvtZQNeLXxHA+qPl20H0Ga0mvylpiRaNS3SP8Q5BPLojoI31uIi9ENOPwvbaDM\n",
              "2aikkXtshHqmrHEA9nhBSN/NygbZtXG9fdr87BZuplYOzIQTWFBVmRhTtqdtO9NIwjJeFmjSQBPg\n",
              "QIBJdxW8OPu98x//k+EqND94cQmUXG5uuzKxWGENdXDHJ9VKY9z7faV91B6NGOEmHJrEeWu9enMu\n",
              "ghleSv2Bg2yfx5R4KIld+SncU5Zt/8HfLG0jAGecOZVlitpQTbuvmKyKww4KkoERKpb4I7nJ9ZmJ\n",
              "i5Vn70o3KWk0FIMW0jYUm83UJaIp4WVQbLvwDyUqVwp6bm3jkHxdUOCfNs7bS0i7Q2FLDSUnoZyV\n",
              "UGchpVGez8sFvpnNjTlOKNzeGMtZlQMxbcYEP323PtbhRNqTRxMgc3xSJmX2Ofqyyoe50apkZIxD\n",
              "QA2y1m6Q4kKYeCTMWhnnzldiiqxqf2qoKwSYN6iZXvP3n0D95b6G4T5LnVdIfoimxyIfiVuWkm8X\n",
              "nsiuPUNNs6u9bg4wudnEkJpc8x3FWlGpNorbav7i4AzYzUnyEyEn37/Glrl21/lS3J3k9B5jSQ1Q\n",
              "v+8Zau43uwlRTLL53EPmDWDSr7EyAPMToOBo7i5gBQxmSqBhD5iqRIlSc5pPy6YqsWAcUrHm2SQ7\n",
              "lAxd5zw8VEp0/MMZLn00m7NP+36m9IEMTr2AmT36f1jya0Hb5OUuqs9o9NVLZcqRiZPJmqNbWG/K\n",
              "mUTx99zy9tA4n/+svqPhr8XH3mtvu5CXy1hQztaTm5uj+JCZmrvuRvNF9DT3m+hvkrSuhzcLjsMI\n",
              "VumCNMiLGnRFJ+K6zLm9IS5vVuuFrI4r9Ey/F8kdW7mQMeIV7pAAAANoAZ7oakN/AAJqnfAhAAXU\n",
              "Xc1u7/FHq1P+LTQbcBkpgXCRkLHReloXCP29QIsrVTvcJMb3xKX7H4ryZyG07dF/qNV1duMA1tlk\n",
              "DYH3ZzZR2VPN/4Owaz1i3VAME54AebVTOTZpYoiObGwIqqD1fvXQIdYr1UncXs8qYYWrVbZQwUBl\n",
              "CBJiB9InyQ1O1TL3uc+tZ8Wb9m2MVWXUE6Q8qNnCaTHRMWObs1JpvpRT4g3ytSiRWSxqYqNG2k51\n",
              "oHQd0Xkuzg3i5l4K5Xe8WoeKrhBtFhOM7oMR5KGXz/5HyVC3frwrDUlveynRi1nC/m/dMSJekukA\n",
              "KrKR5VizVSbfGRpaIziMoWfHjA+qJQvEuq1qNgX6nszDEdiiddIEeoFI+iExuRUx4o7rfhj8bn/8\n",
              "AMCwTBxCngtjWOVVU6MbNrN8R1YKycsHwrinh7tL3AxaNHSuoE9j7fCq2VQwG9I8uF+Nw4L7aekD\n",
              "1szpvlzQRjvrxDur9fpkmxuy+H3HJo765zRfQAxRDjHDd68jrTGnWv+vbw1nyE6odrNmy5RkGK+A\n",
              "c98GxIHqrbhdFiF4VSWzorOkaP5gj8iIrhLZbWA5Ob4o9zq83exRZ/6Nq4abJ+0YSMz6kxyjcszB\n",
              "QfrRyIn0Ype28xa6YNxJXRkasIEkJ5fsu965AUhWrmdnt4g3QL0nO5wTBhje09bciCxb6ekPn4SJ\n",
              "DoMjprprmK1k2LM1WN9qA6NKt/+8pHSzwT0tUAb1zpApeJiq5luGzJlsOK52qPEd+6x+O7zW8rhV\n",
              "eYa2rslbdyqRvJZQvGIs1BHVVTml4DXjTq+0HYmyq3rK3TlkN5RTnJHFXVM2KKapy+hHWemMaxx8\n",
              "cUqsyn4b9Gxy1r8cK4wRZyTFwpDjK6amsuXuV/oOfNXmY5GKP+l92PnSO9h/Ubg7g8+H6TIpnuQ4\n",
              "Mzb9JMALz+NglVcl2FrslCtIjYeuqg77L2YMN5BN+np+axgh437Hk1IiWzY41L/fJuSGxG83S0+j\n",
              "sw0ugDyqRGnIBfnXwdDHyEQcXr8tE/bnYr6QG7TB6vSF8Pu6405w4vd02orgcegty+TUXtvGmOgs\n",
              "AvNK0CbhFgeej0qif3U8HAYfMOoCyFScHmL3C67dzum1+Cjju1UpS9TB1okCDaJH3qX3rGFMyadA\n",
              "C7gAAAOrQZrqSeEPJlMCH//+qZYAA2UHG4AWH1VO3x2yZ3kTiYLlZNk886lovmHwtkGlJ0qLMjXT\n",
              "AshXxMpb0rn/hMDJib+R0NeZttRStUDCE7+Yu5v/BoOREy2e6PnuGfPGVWSrvrAxxqVTmvOT8dp4\n",
              "vB79jjZoJ31c2k4z+zEnZDhekL1CHJKyc2DRJmPfJ/4UglyTYYYXU661q2OH4LWkzctwLnUNO5hH\n",
              "sOoJ44KFN6EkXCeM8Ii+KzN9/0N6Cso3fbQTogrM7ale9O7hyV5aMWWmHMGptIaqr6JqH/TOZebn\n",
              "36BE6XjpfhRq4Kpg3mJuY29PNWc80D+R6bNu49d1JgqjvJ3zIXMmzzZPeu5rf7MLsRnqFuwuVU71\n",
              "i35cyJpe5hSODAPdk0Z0VjzPSDbKQePZO/KEZ/nFl0M7vUKjlUv6u0YnECnz6l4KeTVaIjIdja2c\n",
              "+m1gIGpX++TwuX1PSE0uSbVyEgZuiL9kKVRoVtCR2xkAtztPUctfR6II6wexIn4F71+8P9UCWod3\n",
              "GmgD0PNxOEdfzRZ79GJaWvKzuGLIziyjU4gJ8LhAVzcNgq5BiRTpw71x7jpxRYFVBNG/swVuCn3e\n",
              "Umlo6nNLDvmBjD7E3+OqNxv5MRTxJdAPC37M4CBi5LGPtvwVpy5jPBN2VtIdc3IiGNhmriHTBb8+\n",
              "KSMl9IGQ2b45mnhOL7TzoIkdpRVG4eDtnA3NAwyoUGdy55g/hh629XoWDZVDTwJCS3mAS9eb9v9c\n",
              "4u/BjO/aGv5pgwRxyPp3dZE+gPB590JFEfWnuvRQJF9U86yX1h/P+mHzKCCTql++zi7BQSggUthw\n",
              "C39lBHgt2qJeN62VL8EAwFjtoiDaQXb9kn/Pce84ql9SSNUlUWdylS2zkPDRC11vCouqvf95mtby\n",
              "uFlKPDaWIA/GuwDp9a/keVYn7oQ5Hz++ITgokDF2ZbKWF2RVcy7LrrGVW4kG3jQwY2PEANkFlyrz\n",
              "/O3oeKnXCIUVDu1lrRLfL6V/tz9ITTUcbF+zyQ3nQQNmvjOl249GMXKLOZer5Sukew0PMs7xIsNW\n",
              "D5RbkvlhSe4gXJSQdrRNoNA8LqHncSxa2Mbb8RxPO6R4dBjNNEKsLvTOJ2GbjZ9bdO8lLAcgcFMQ\n",
              "nsJfUY/WZ8rpftfq+dfxI8uOMw2bBPD1/BTqfJBfBM1ecEqZcXi28EA/XGJkfL9OYTO+P8jTsxGi\n",
              "rct5X3w//UsU5Exx1h5UpDTfxowQhDk47zoKlL1KgFbBAAAC5UGbC0nhDyZTAgh//qpVAADeReLg\n",
              "BGV4q99cOIG1IMViEVZ77/dHOqxxncKngSKhkdY0vDZqczPD1NOQZc91x5y09haNwVAW14LNL1D6\n",
              "rhXPrsQ1cKodC5mnzryJhFqzzS/yzm/NBzFRZaAVHpR/976hTk08SRwa0evH/z7GCejA7+3hfWh4\n",
              "HuPS/z33SJooTr+8AxGV6rZElsKaB9Al5eK2bFDCz3hwjPfHuCqG+LHHjF2Y06nZis7qJ+ynuChP\n",
              "buAKlvwzh4u+S3OMzW+EeyRWTAe4ZzJ/xBpAByA2Q+C7YlAW4B9sLSSaJM3XzjCQHtG8jJzWAlJ2\n",
              "aAFPhdYwC6PBKo2+hSeON8W4N1jjKqMqaLw5AbMpN+/tI9EWYFSnHYvMx0q4rvLxH/4n3QziWnqU\n",
              "C4SavtEjVTKmAoQ4ydF9VLidXgaz/s5w+pXu6bHYlhmGH/O1jQcSIbC9OxKjD5UB9oQ7NYT/MDOC\n",
              "UhV8HUpScs3FbPo19GTQ6OIWlb8clfjLJm1XX84MXtTKKJAwG3hqdhFV9gPqrUKONu6ktNmqiv20\n",
              "rDcxXW1l6NHnL016qIOYBFj5B0sLDq5j4VJQsjVd5Ujc9zTciZ4NXIdetjZfSN0aruCUOb9+p6EC\n",
              "BO4ABfv3XHRiY0kGbTC4ZbLWJmETnMBWWbOFxBHNENg03G89wzMkiONyktPG4ql2kIIKRG3D5Kz2\n",
              "5WsM54QbFSz31JmIoukHmpCWJ3V5HYMEa88TF4ivhCQG/ZwGSz1lkoASo+JDWbiMh7WQxGj/On4h\n",
              "INrNYHg2brfKNOj0t+NCGOy+G9zkmhLTgYLnJ5bBsTBscknNJAxk3HOYO2Y+SUivbQnCnC5r23+p\n",
              "l2zPcuivZ5k31LqFXh16M7Tx3snpp9C/WFzHsoS/t6ewYV/oEZNcRlOPEfMbOqt8mo5tbJdGpZDw\n",
              "x+G1ssE46+nHRDXn2KQ+DX5gqwTVRjEH6fnMThW5zJP6o3gEPAAAAsBBmyxJ4Q8mUwIIf/6qVQAA\n",
              "3lHTwAjK4WJVpzD9TuHYJ2H1WhFa5i8AXLRlYRJK4pSBiaSpqtdjE+XTSG/6PJQpP7CC6Rq/D/ze\n",
              "TINZLimdw5O8fDIXfx/ZF3MXfO2X81r0ensfRrzKBsv+gGnjz8o0g1fiAGkN8fkG3r22bzed+BOO\n",
              "hEgmJ1siDz9TgTs++EPAv2gMSC8DgOlZYscCYJrirmmLm90FR2Iho2YwmCx2EziHqZCMY4p98f05\n",
              "PwUy54DJ1qjtkGb8/k/3H/0kAPFnTFVvNlklobvJbTXQvPizit13ZVUQyRkLatsufn60oYv5hJE8\n",
              "/9tjUiVZkGs5ciVVOEOvltgtNX0ebiNxM8z5BhBhldomP9tchV7TSDUUrXEIHQHYhe+KLR69XhJa\n",
              "FjScPtJvRKMfKvJri31zLojL1TsV8EvJCxHmUwHZJkjgOQcgci+7i3Z2veE7NISUP+fdJlx6joDh\n",
              "JBfma3TsN8PBhRjsraPgMbrWGB5ODTo2DcbKtXFSYIJifQLrLV/DvebBPyhlr2eiUIaMZJgZheFR\n",
              "wcoBhU6tGW8ICH97R9UFCGyXcDL/pQyitnL0JySuVGLmaetiXJwtcdjgVRiU1EDNPGUfGZdLamIy\n",
              "BZfSnj6HnSN4504tMEpe8QhqdOqzgSkGMUASL3LkPm4VlBQJ4xg/EI2/I+gmj492HdzLQcQQpHfv\n",
              "UoIc6oIaH+VHH4u/BO0qdz4SrWgXgaq0wQS8vH/O1k7pavlU34Q0taSU0FPGAK38v1b1CqXEtrjv\n",
              "fcHde3QCFkDt88mb5ShCe4K6Yza/wBmzzkxW1AJyz9l5PhAtS3WUbGe5PH5jTriQACDNA2m7ghtp\n",
              "ym31zwAEx7QNAADi9IXSuTdznmOIac7oeA1G+62Bk8sGhu2QVhdL+57dn9fyKrSqrbiZ/Kw76ka3\n",
              "ej/UwAAAAiBBm05J4Q8mUwURPBD//qpVAADeUQeAAcWhrOCvGozbFa7Vecep3/8LTL8MPBNGNB/G\n",
              "/jpI4lhuOi0eeo7mWUOrJo/Il7x9AWVId5a+dTGvmfUkiXNR6nDlnK8lDzpdtjt2rs1zfRO4+6Sk\n",
              "BHEMHLiYruh3CU4BALefxji9KOksPjf2pPgyYZtWYcJduXH/dzTQifDP4bsuthPLnI7lXJsl6rPd\n",
              "IR8KJ1x5PpbKxcBh9SQlCjDIh5qhruYZlP/av9U0EwyI06xRGFWoewYvqqvf8RA5S5c15ycgl2zB\n",
              "lfQn44Zg/2FxOy7VANWSELNHU6QNzFgDi/04Ni1rQelTtj76Smgh3k4G6DDVHGSm4th7yY1hlpLf\n",
              "sO5KsXgkTV19seMehmbYi/4Np24N9NOKcrUU+bRTyKQQLeP7eJ/EmncFZuXDWIJ3jztazLxbYYJq\n",
              "7F67sDrmtfZMtnjCbRldKpEBCAMU6z/6Be8OHI7rpY7iww6hC11RJf6OMeLaUCZdxrncoWmzzzR0\n",
              "iotZ6nDBvf8dz51XWK/uSxXNxHvxQBpDF6eHl8zSjezUbgNID+TxGpgeEwg/aAofMlS9ETkxsWwh\n",
              "Osuz+jwOIFnNJdf5HqLm2CKFXiHOTPuB4eF8nBdF20UU4lxAZZsPcIOP+2uhVOvuDFoxaeYbOb4C\n",
              "sbOSah2mNCNsWJMX67XHmGFFFSGnHoEfplEozIriGbHWrvNbAKSBAAAAugGfbWpDfwACVSAAFZub\n",
              "T7tE5KzaXHZgL6WivhJimHskJUAACF/DLB0vjAaolm5Ox5xe9caOu04YEBNUZfBZPKrEim76YuCP\n",
              "Js5jnymothcEhawICxMh7JnkSKy3gkMcjjX4kM/18x8WfajyI+2vbXXlGNdaFRY6X/ej/85r6stT\n",
              "5ShLkV2rVqu8Z0cWsQObzBwqxVx9ib3RSvSjO3Z1DspNSlW5+fM8oaJp5Jhs3WQALNMIzvM2TmPu\n",
              "9QAAAbxBm29J4Q8mUwIIf/6qVQAA3mYD+ADjex+PdC/JQbsZ2Pzu1RuQvWLaDYp8RPSLiLZE1omV\n",
              "ERYO89PzZf3qhCgCb+fd63pk4g+5afh0ZXwzeMxR9dsJLP6tQ0wN2zur0G710rMtBWof8ENfQ1Mf\n",
              "9SxWblLa+zsnah98+GxJ9JlnxDgTh5FG0eI4A6xH1gUmPN5JRzN9bWNsneTjfORdDY4SXtKw7hL8\n",
              "ldP/pNQbS+Z/UxKLZRHVEmrQNK9mPNX/feeYDeqolLGkab6MZkfDAr0aLv06A06PXuShKheZUsIb\n",
              "JYl3INzIfsb45m4tWCHz6klj+k+LifKOvrISFrOrlA8U/ZtQZ22yLJY1LjM3+WvOmblzTbfDrn1H\n",
              "H2cIqP7HdiYAzjB7A3vocr3uF3VTxuAot/lD97jCMnjwc2314oXGtGGglWcGfP9/ikafr/Sz500a\n",
              "Itbx7vm1SxU/vBG8cvGzjCE4rQ9Uly3bd/lXnArnH2gZOMR6BWZYk9TFG6cnlNu98rNF8+Y92o9M\n",
              "CeZiAfsPlXv8omXE8+hKMo6q9OTQkHSlIQjqldNTKt4ZeNacG4+NeoSVD+NRkAAAI+EAAAO/QZuR\n",
              "SeEPJlMFETwQ//6qVQAA3kEu4ARleclVm0Tho4Z9Z2xKBM9ZunZAEaoyCw0i9TpwijTOYoZ97LVi\n",
              "ZZUr/RHs1z5/3s5ArzJmnoUkS6SZ9kSQTWnNsejwfUutUM2v9A8Sbmg47mHm5hnhzi7tBLVSQlMN\n",
              "dv3LgYtA/8pk4hTTdI76scTR6qVe7U+/VNY5zwAAqf+DTDsF/4XZAjSBzLvjaHTptfypq0wx9iTd\n",
              "ENSV8IsVn+wweCxik1vLI8OwA8sHbIf7dM9JxchErsPTLhCTXHXKsxJIJZB9lNvoMPEQMRw1k8vk\n",
              "C+XBOPoOIq2bVITtmLv0HiBgh5eR93ABWjD+aZTzRaWHHxnLGgmLsG+22DtmBe0QMh3fUa0kt/LM\n",
              "TBfbsVTANro84rNRfX7OQFyXW3+JavI5B7ir+vMU1jh/tGEf3TjjSwQQwHs738ttGzRGdwk4I5Mt\n",
              "7vOZ/wWqnNvUAixETqN8CqxREQNnWzcqRBZcpAow+mDUvK1pVMyIJrifTBYgzxrqfKj7VLbuDqQi\n",
              "D0LHMz+JNee2KnmgymwTVZEG7kty24/RjSLg8LMe/PMW60TKiR9amPoqV39vg61oA2SI1/9+S2mi\n",
              "XQwWRsvFswfFUrY9aEEgBGBsXvcly4gGK5GV7hOW1tuKfO7A2PktPfBOWihMKeN9KT3x2MgGl2WY\n",
              "DbUDe8wCvEgrnpnpDy/28tyAl3XBni9re/1ldv8Cwhj44fJDYy0TfQD114qtJrDhHDfPsfGwFlWm\n",
              "V0/fARlDWEodYLCmCf9vgwOX4RfNWUmkjhc3XBP6FozvdLE6fqYAQI0EleC2UGyQSRocv9wB37zG\n",
              "4qOSbaW6+Uq4Zv0fqW65W3FFYOT8NQ1j4dkyV+Kk1kpIdBXoctN3IIddiSv7XKlY59ZSMCIN9SEP\n",
              "ujiBmwId4ros8OxjyYO5HnA9t8cYYD0ntUHksqD44wl2Mc/+toFLAhulB7RW7l9J7MdR9pE785dO\n",
              "g10dthlnDuhMalCKOinoSO3fFP4nI8MRkqt+zKsTszG8k6ukCXUlTF/OZKMl+K41zlGCJF66A3L0\n",
              "LyJPWjcPs7lxJRMokAiUVUm8Jrm2cGgMqPBF+W8aOrKPCIhquh0JdoX7E8om2Vxta9PeS9JFitru\n",
              "IAfZT6HalELMIllm081gLvyVrzBwCukj+aMXHsUkadMpuan3bycT98mcrTLQeItXlR7Pj92e1y25\n",
              "QFd3Qu6GwT0ymaczVHfOE6OOHFKrj8R1i8AAQCMcdVIbelV1gVPpdVgA+YAAAAMBAZ+wakN/AADa\n",
              "WlNzj4RNZ+MdP6E7+LBNaAAQ4ReOsbguEtkU7z0XLiwvyonwvICXWduAfY1RL9n75ZR5fc3gL/Fo\n",
              "KWrYOB3471a+3AhFemqIM6W/xT0zuZ4D4PTYiLl3gNkgP4xoQZBGuY9AUf6Fc+zY0eZrnN3VGgVl\n",
              "sXlaJkcD1rqfn0HNwmSfr9GJrUkT1/GWuINYLnZIROzi+abyltC+qGfgATsKsRn6mv4InJ7eVtbr\n",
              "bTu0QILDDFKVqwrYwhtBgw1FiulXJs3TaiQOarGVI+UUUJk0ELRrJX1XsbIlBc7sH2jheAUPkPoO\n",
              "LPB+LGtlBUFqtLyEEsh7XVG3/z2byFMpv2n5g9PnaDjPJocCkkLayGRzwWYSFdkki83o+HDScEwm\n",
              "6AF4jgabWdu+yozve55Bn20y55HPvLBjpG259RZ1Xa88hPr/KMAZebOmdmNXTp4JHzZ/jXRqtxMi\n",
              "OYlTK0FP+Ph9a+yLvtWADHb8+Xz+jCvzzXATVh47hu6EFK73LBBLipSvwwslwkLl83cNyZ48jbsB\n",
              "HQefH2BaN73RyIKP4QUiPCoU9k2hhi6WSYXrENZBCViediqKlplsQ6JVSSTRFnjpspKoPLQxTWGY\n",
              "qpDhZX1L90Puw93JFm+sqqNMpdtxoEIaBuT4G17ZXKBsdOMX7JWQ5igDab/aSsZHcoFHCUYwNVkV\n",
              "cq4JNzyc6GKoCYbgnvO3GyLPcmdZH7Lx/aZ4VzKN9DHN7T+8wLn6GXP62xV9UNZk8Mum24iZbWaM\n",
              "l2uNCrTlLN9P7PKzrv2syO3JOjHu97/IHKCQ9H6PSLeJ/qf0J54pL4ArvnjkTaF5f+JKnXF3cxTX\n",
              "htq2QAykjGwMdPBG9repEcA5Izqjc9+u2tjRoDRqyB9jp21lDp1MWO4UCyvJN/yDpVUVxEm9l2MC\n",
              "Hj5rrEixZNH9YtqJqsej4eVn2hU20f9sqwoxygewVuyZDMXQpR1zMMJRI00cResmgXUrM1G3ouZA\n",
              "0+PPhmDwLWOyXLIO4EK6qMwCDgAAA/VBm7VJ4Q8mUwIf//6plgADZSRwYAN2RCV3yVhl9HQ1+Uy3\n",
              "Tk9qJSZ1p2r/hv8HrHy1w0bkqxOvD03WtuUmO3/wzmNej8c7MwO9coAb/06I+LzIN8LTN6wZ09CJ\n",
              "zaAw9N/p55pxCVmveY11CEFpRD59Wyi+diZ5bxYxTfSDdzxNNOPTWXKFmGhPB0XO8xZGXNyH+UxO\n",
              "5+SFekDH1BJRLe58DE0+xrUXyk4vTBd8jJ1kGXEFZCGcDfexw3WnK0npjVE7EX4frRmdl3IZLyS7\n",
              "zmkOjr6eeBCxH+YsDqky4xIcUOtAKU0QFEjpIreDg91AQkHTwJoqiN+eO30zF33qYFWxBe2og5YN\n",
              "EqVkfA74aUZ4ks9b70IAfIB7S090Lj7fhI2ABhyaa0nLVMJCX8fdY7pey91RRLGljKRQREqoSWN4\n",
              "Q3YAJIuWEV3oKlFyLPIULB3mxOZTXSOFc9S74S0Pd3gf/NAFpSrnzsHvFTiziZ55CZPCuomVl4uu\n",
              "OAX7W7KBIOZ3Kqwqd1zoC8s1nOd+oMEy61swIsc2Z3GFDuihhlQNlNZx3Txr+278kSXSFYIHybAH\n",
              "AgfVLzaEq19HhyuE/DwImZh3nsdlySQBV3+j+aGyR5mvsi4Sn7GvjEa6Q3UzHji3IgbhFY3Og/kG\n",
              "pDQnm4Sjd2pd07pYn1hqlS3iuNl4n8kVWGshQY1JD71h0jfOv+RrF6nzEyYv/0NWkU5C9FPiAVdC\n",
              "COsh+2Z+HKTcncxTzJmV9wdqUk0ebg3t88wVHkALo2GBmlU1SYNrDSA6HBfW9QgbfMKRHVn4mfWl\n",
              "8dTjaiek7pMhItZstrUWxbqeDu9kuSxuON+xFpr2TYxe1XIGzwjsu/V7sxESrT2LPmPWP3grx+YJ\n",
              "+UefRVMtKHI8d8CL+uL0JAJx0Mk2al3AuuIE/NZ0Vxu+gSMQ7TwRfVYcK1Ks07oeB2r83GtOaXiH\n",
              "PAFpIJKqIOF998RcGKCsQyQYaED0+CSv+j748jPGaCG0kwe8ZI4ckJZHax3a3u5sPr934zE3sRgY\n",
              "JdGE6ybJYv/o2zBtNzSvO2zZNliFqaHp92Rr3ccO+qNAVOh4JRTkPvVyiwN8+c8Q3uuZRrLpkpgx\n",
              "rG3PpeXMsHLP9f5xGJxSUBwrrScS48Ed/v3GNgfkb2yN4a1c8M/Xk4Y6sOD/6bTgmrIzi/ugGh5+\n",
              "c0XtqPARZRyTw0IWt0JK+1wlHPTxOjYEs3yomWoLQtbn4eFLy1Y2oTu/MnE/a3gW4afZ65qu9Tig\n",
              "2Y1ZXW7xeS5+PHbdFCrNjgvL3PcGShops22keR+JlJYYp0XMrdkdXmmdk98K7OaJtd6CXwAWhfnK\n",
              "I634DRn876yZgQAAAqxBn9NFETw7/wA0m13uPPoroAcbmC+fx4imBAR8YE2XAmCRB5GIyB7dLH8b\n",
              "47LKDSdPzrPWJBW9ijjZKB3jpZqEGmLyNZ1q0YH/TK5JZqinP3XkXaCWoHflLdpE4z6mhfZrEL2y\n",
              "+7dW7rLJCtTPgnx6UFS6nurP8qhQPpamTRMygC692mOcxHch/BNwoi9hZIcgdDwRhEdRwck8E6cn\n",
              "4p799CY3iQLn1KwQzIP7nNGbx938uhsazhz+iZt+H4Ud8HOSgcUDc/jrxzV6DAyGJgq9MzvN6aQ5\n",
              "0aL+oPY1XUH0H0RxDEAy5L7GGYL2hfuockPBNJ7vUdGYrED4vFEmhGyPo1gFqJtDP0H7Prf0JY6C\n",
              "5xEPlNRnTLPbF/K1vSoHq/8X2hMVA+4DEdD3rgY51DoXqDJZdFqs9AuNjmtkaDEWKjLSVZwOaAJp\n",
              "2vdv88sQ72tw95xGDcrclXadSTgb6lXGC6Xj4R1UC/yoFH2QAwY45mP1O67NnWG5sgGJkPRiN9Fu\n",
              "fXDaCrGCBM5gBhaXJ1RjKvCvjCvLbvjAJszDLxFNLEUISR4vaMkLxjliyin2BkT6v2EY0Se8OmP+\n",
              "/Ilj2q7JIJtqHohMsgjUfs0SsvOup9lXCwTjDGAbe6EVD/Y50pcuaBTDP4CJkDO6uo++7sy317Sz\n",
              "k6RWs2yRSURrQktqd8T9b5EnxGjImOT4tHJrybLkSLlkTuNJtoypDO6ocCj8JCJMP/z9wqwaqfsP\n",
              "W0EGjUQJJRRa3Xlzmmmu9YxAARG34RQ/zyAgnsAynCIYUrrhRCp/rVYHDry7IoTxp0nH6/ZiHIyI\n",
              "m5+ptNMVSltucIwO6Lvbdr9qddj5DEeBtgiwBoF2jgjgEOSsbfbb6GOfUj4ahuMcb+UudZAX49Ry\n",
              "61xAPK49CnsAHTEiMWAAAAQ2AZ/ydEN/AEtfY9sI59/QALqCsup/epwTfXbq6ut2OXDUY8kOrW5U\n",
              "gGOnIMD6FY12x2etH3/q48ULIFXdDgoBJp4RBoN3YfP05Ema4G4axfLIfu8s8ufo+KsF8DLrOF/7\n",
              "s8y4kqShPOiHTGz71jAbuVy0VPaLRBg79ReMeHbAzo2ZOZ1B4EW0nWn5raToZk/B+9ZlTcnL4SSf\n",
              "IobsprRyzuQXThZbC4aFMNqwwiGzoG6VkvJQDH05Sgur3RnkBKJsGaenljImuRcuNra2l47XuhcX\n",
              "VIRBvARxQC+4qooGV9jKoO/vFuuPwJU3VnhkxfEeXB5LlC1788OkoTvzd23l3fkZrQmG+ysW6NPe\n",
              "LAdXhwv2H3cbUYlzrdlrQ4qWWJjFW1aJAnbp5PWpMjvjb+7ylf5BopBBWuX/baK6Q8CGSJi+D4xk\n",
              "FSxADjYN7NX7BDtCAqhPP7qzEg6KuH2lb9XtYmn5wNPZ8Lx7nFX6WbmRQ0mGAgeLGXNVmbaIqe6g\n",
              "IIEwUAi0xXyKALpRp1iV2yqp9/O/oRNIjTapjsjeVkzsGQg4d/Zqyg9fyLoDveJ74370nR9dot4T\n",
              "wnJkNeOIQpw6ThnXQpJDLxTht9pZJBwHUpQhA8wqWp1DQH60c66y4T8etEAMmFk9c4u/rK/HMH7Y\n",
              "EjiBdXno45lfxpa1STwppEdVUxSFzRagpTuiyMHOUt2mMJSQFMpVF1Kbp88AYWGcdZ3Sugo79Gv6\n",
              "bLvAbtjoPfjHSanp/V+K7wM+w+pdTsFaGRXuX+4HTVpJEaBvC5Dh7uul/7J/xG2ly0AYofRWYape\n",
              "eyGz1llUjI9mX4jBzEYoQhfMibWor3XO4CO6XH0hwkysbsmpbamLMDd6yq1kJg1Xua0UoY13WXQ5\n",
              "vArv/YtlWcJDC6/9SGVgM72jlyjt3l1MgF1d6Yfk+1u97qHkwJJfh9aaTNxOYVwE3yb+n1WgbHb9\n",
              "T4kuNUAC1/LcB3T85ZT4jObTvvnZ+t3n9cdLRJQvoKnuOfZDq5AnJj8hMbjGsmB1A9urJHmo206+\n",
              "1S3GDdeLeASTB44+oThXWVRhh5MooUWwHwa1CGCSxDeNav+wvMVah4P/n/EtwZfSd8QuC2N8nq0s\n",
              "xmTj6/wXTOO2qSaSie9xnEYkrF7PrW1T8GzOdOj6sszaRvsSGAEm78p+l2WQ4PBXnaWD4NNu2a7o\n",
              "m0mZcfrWWDBDRcXUR/z3FKwDnXyFHdNrKsKWzbcnCPeDzYHNp++0r3ox1UearEdKNLOv5iV60jBj\n",
              "L6tytEpXTTHxlmMuMHL1qwKF3/lmrm5P4eLS9+QAke59tGBKlAFUZpzr7fwUf0kfxDtfjXUSsjNu\n",
              "SYbCyzzGM39y4j9oFScqKqOEMrj7MhkFHaqScJdUFqunG4i1Rr056RWTiOcgVEqJYBxQKzQ5zH/h\n",
              "iBW79D4anfb+ANcHdAAAA2sBn/RqQ38AS2vXWwMfvfQALqtKsnXpD6AXhp25PAI53fNyLdtrY0mA\n",
              "UUbYOU5dq67HOv9S+Hbrv9AmxQth5XH93MNMlyl0NBT/bAg9rkt6UMYA10og7YajBH8+NvGEPID+\n",
              "4ZZb7KL0a2dv6k8gZtRlUfj19pHvCpyMsiuDlwRNu/4m+iu5Tr0tVvOKDxVGwm1FwyTbu1CAeiZq\n",
              "45EXu3Mgfq5/TGV3oxxThNsp7tfWgcsKruFR51peS1T8x7wAoTw7COuZ401Pv6eLfIdgPv2GqMF3\n",
              "CfXrpgJ0yWyuKGxnsZ5tyDv+MgFAHtX6MFO7G0BS/sAiWEARpCLNTkb3te5Ef7K39hNqLLWdqQ8j\n",
              "CnxUJrw0R5KpdPKAKuYgEfDWAFEtwHziM3geAyKU+z3F2D6ENTlf+T21sbIwTiJGSzJHdrkqQG8x\n",
              "M7ZEGNyrRiP8DcGM+r23LbVPLaRIbqVUjBUH0zG1tqHiVCFRwDBtwdoZ/j+09Lup5qt3LPiqQgGt\n",
              "9wXykfw57VudMOaxpahPe+Jv5g6vfLgiRW1Hz8PbNwvGz5t5BGhsLKcrXCIrv/VcVpLw14Ndgb57\n",
              "P38kZMxfgQ10sGh0veuDNXoiX1Spc8BB5Sqax0ATXXzVZpIbNVHZ2AOWPHsVe0H1Yob1KXeuMfe4\n",
              "u7UTkF0UmJO0Jxe2Z0u/abIlDbvr/ejvezNC4H9+m0Atu3RYiq9Pr/hpXKjbXsD3wzNu8q/Ehlx5\n",
              "ZY0SrTi6It9INgSk26x/ONU3Pr0RAsf1xc6GoUZJqGSPfPAUmz6tEZWaoxllG3IEEKo4xvurlhHr\n",
              "q0Ho0lzr3KprmAHD62MrcqLg91pa9fC/J+35OWwAruXDd2DjL2Kt5fZZGVATedyyneK4mBL69AKR\n",
              "+xkdoNOBR6XzBSgPQviNJMZNu7XLQSbMhUNPiWn23bQn4gA4OQbvgP0DGHBcGuqawwvyf1/1NX2p\n",
              "2gpqNoQIurdu51ZtSF1ZqcJiRbkqHq/Mc04HZna5XxpO+AD/ZFYubIwroJKPEF73gF0kdmj0QcUf\n",
              "OPoUFhs/X8sGN5maHaS7O/p+oHnsfbLiBhxVtq3M6L2eZJRcV7mp78vuXmq+F3gqWw6oXP/LOnA9\n",
              "v7Qm2DlKVQgfqAOcPd92Bco14eBhK66iJq1ZeI6mrQBOHhhWwQAAA4lBm/ZJqEFomUwIf//+qZYA\n",
              "A2dUsIYAN1i8H6/1uMr4Q1Qj25bADr/raTEPpQDrMmoJUJkRq1H+gwBiUyR7UPANMHvLrawjRFiX\n",
              "8X8DggEiC3efIfCKiy/Kqg8IRK+0PW/TWaGcXFTB9BAROnnanO4RmUYK6bAAjqbxkjcl4/X0HFF9\n",
              "l5HlrREG3SvtRu/LsitqCqdUyzZ0am5sOGTZlWQaPaQeS2tnieVWDCe+jCWRy+tzeA6WrzjiiAoD\n",
              "sz8o+UYDE8oqB8O82g82eMEOeqSZ+O7enZy96m2PZTUgHYIRfUtQ6Upj9wzD7AqG2SR/orsocIpa\n",
              "U+//FYfdzabCRIVbz69ITLJ36uptAOjR89M1tuMeDS5TgCV+LlSRLUthWTHNw/BHdPYiZGS3sBwi\n",
              "tYDD3cDxUbtPxOlbJLyU1S9LgpPrJ/9q3n0WMRxHNIhFwhoFkUmYDfeohMb2wfZKrNX339REHmhV\n",
              "tpL2a8w3BjSffEG2UJHO91SodjmpKSj2pVmhFrMuAfc/R+Q0lz/+aeEdQE6qfNPGSL1XTTpXKWOZ\n",
              "t9JKOsWNnlqRfNtu8crjF0pKgTr/ucIYJNAJqxjqgI95PBLRAUKr59a+veL9DqnyUiMAqPwdWi5W\n",
              "RgJHPo0SZp8TcKTgCrO3xeWRIY5/GDX6wZoMJdM6z6r7U/H8cY62BWY4W6mYz5YdZhGcGozii7Wu\n",
              "sXKiyk54w49ltfmm7P8tLkNiUfeF4uvbSoivu0i4zE2xemuz1Q590FX1NxyRrQdMiimjFG9WQe1z\n",
              "lirIL3YrHfbRm2w39oManSNOmz+KwBvA+WgnPB8FjM/E/dccBgAakNLZj/ZBt+JXk7t+QXKAZ8eW\n",
              "KWoSTDwNWysU/SPInjKLyJn33O4ssdDFFucpMfH514LHavzwGXC4dOSkoLtidBnXn91p7JRrkvzV\n",
              "odRJkUObpv8VKzfXcFQ1f2lnVu9BbytUJDPGpWHFx8WpR2M8htj6STWgM1Eun8b6/sNNtJnABmTI\n",
              "izxh1bCAAdtnpaVdVfG10xuUyKq/WhH7h9iG+sefiHIt1cQ0ieXnqwUJ8jWsGXMorKwEb+JdYhbV\n",
              "J4qJxrGF5+QtbBoPrZIFfm9MlmIeJUSYZcmKoa2xpieo8USBlfG045sBbRKBlR6FHbCHz+LSIf8X\n",
              "ut/nMKLV3fnzOkbgSf6EJ3SyLGVkFc9NM0AcKnB2PFyVUwAAAyJBmhdJ4QpSZTAgh//+qlUAAN5F\n",
              "4uADja1B/JGLpnT4jmQ/V1SOg7P/yc8X8qOmeYbhubX2dnMAUgDyf1dNBLqysBYpOgzw9AELDJo9\n",
              "+gHGNqKrngW/KKeCdSpUOmycvXML/uXKZJjl25HFwyC7UKTln3iYpd1S/2DB0z+uY82fcU6MWR3O\n",
              "rdpLSPP5a5ZcnDTZS8PDTAZs0iyraf4Iu+8i9Y09n8lUm9HMNVSvRWVLo3ZbMNlBDKJ83WtR2Xgh\n",
              "h4oM7K0/PdrDKgn65mr6tuqbU7KKeOEPTfJxAvsPkhvWmKY9QQ6DVk4J9kMT3mArl8rr5BwjeOZ/\n",
              "bftPzv26o60IBWZZB9lLHnp2AM8foKj0taB7yDdoordvrGtunatU7Uy2E2afLDQER07a5+L3Wzhz\n",
              "qSzJXuqPA9Sbny1Cl8LxKwcmAodfjiV/xA/5287vbCVK/4EUv78QI46emaHAoLTUFAT1IBJid0zO\n",
              "HgxANvnl7zCieIVQ21E90lHr5Vb1wrOPW7jO2ZmmNbPxwcv4X+dprk+2kVRLRJwpLbCHIcIZ615o\n",
              "adyVgc39hUGXZYDb9eBb9IZru4Ylxzhe2M+wBJKiYtrf0ivjx7MCZn8g6CZ7cJ9udIgPp0UeP6FP\n",
              "fC2qza73UUcPlyQa/vVYpgleQyRgFHoBFlwoS2UVXv0B4EhKb1qe65HQG1KTKWojVy80B34GXKja\n",
              "CxqcsYEIDeBIBSectwIEcuF/HL7TGjFWJw25eb+0JzKVwoqsXvqv1SYCIWiMiClkVHh37M/W7FT9\n",
              "96239KKpkJ/2Trw3QSJfKRJk0wJkyujiXLekw3+uFG/P3N3p1yN9rr6oWVQP1li0wa2+AiEJw0i+\n",
              "kjT8Fc9++zsXevxPbNBw9aLlTO9OmvPtcTzV8in/z5gnqg/cxPa9V82Qdy2hy8bgmMJU0dizHh3C\n",
              "O0Ps4tSMj2Yhekf5djejtQDLgJU9H6yQ4zdua/TtAWB4j+TJh1cGD1uje9AhgvPyftBmU/xu+y8U\n",
              "aaVFTPM0sC6bMOo605zJbHmgvT647/mVZ+uRUCRrzMeHxlaef8JiXwVtAAAD+EGaOUnhDomUwU0T\n",
              "D//+qZYAA2S+cAuxwHACMradzbIpW2WJ5FxYwrdBvDv+q429uznZQLEcJODnVeMSmbfqIfRxcIZn\n",
              "x6Ab7lnzkmBi3eK9y51MIh0+0qTHBr+RLn3dMn7JH9Fpg/BfiwO/sSvYfcAtBrrq0gx1Vqvx1dks\n",
              "n/+oS5ATBpmGkH1AswZCJBLqoRW/ZkX3xvckQjMqGH+ZLSRjpaCwp+cptKLXxsSy2uhyP30FZek5\n",
              "ExmdBKZXcvLhWvJSrk7EQrkz3nHhtn8qLGD+pvzajJ4Y60BB9dxuqZJXJPrKFDpZyMeAXFtmD5XX\n",
              "AZkgNWo67ySQo5tfYjdlOnoR8MgRKgdfGjX06HKTpUl8MvtolQpQ3NrUpVgNLLsS979qtljDJo6K\n",
              "lOYOxHVF6EL1UmoPL6k//abiOmuI18O0AcyM8S/Ygrhu8I13AODE8HmhRjV2ylW1MtSDK5OV5sMp\n",
              "PHwr9JL30ETiLYue/E9Ax9n5RcqOz6e7pvgc2paGxdcavTqO2aazXkme9QeE+REJ9BzML62SOLS/\n",
              "6BqzFDlpHfkmxWX93ocmnI0X8D+QpahSv6BMxtxJeyhhbk8i1qiGaCT7vyLQvaIkNB5Z6efdCknU\n",
              "/wM7JrJOHZP28iBakOUGkVk7u/bfmll418VqFx06y/lsHCdDynSjXJB9G4A3HXxasIju9kOGaUje\n",
              "MJNanKceO8MIudS37KKITZpouVi1x6qL7RFASYt0cTNfVBApasQLLCMuSleQqZjOFcNtHmQtMRXk\n",
              "5LrO2pMELRFkd/ZqVBbkPJ4Sc9B2PlNFwWcMs42RONoQKzS3igvH96dGAwiyPrY//yEPW8g/V4fs\n",
              "3DlHLiwy8gv80E5KQCj9KqIJjLpuknU9pjG/pF8Gh/JHdwjB1IhGSO64QaCDaquuMMEzFEgGYL+8\n",
              "efQlD1Vx+io2opAuLwRRgQmGepkbCVpKi3VW6LB1/uXQpaUknmq4yi3sfEkKe3RHFfOMRrvs6Xim\n",
              "o3BizlJGk+egT/uVvdOcC3rA5cT/msvY6OHLYwjtNp8Uk91ksYFifYqAXmH6jBIu0GJtzuAm/0GT\n",
              "aj6KH71X0HU0WsYU4eH2kr3QwRP9116rBi2NLRFg574ZCWNdwfQHZqYFYZmsfT1zSrG0NyUxFAoG\n",
              "mkx8iVwMUbQgADMrydRYxI6Ix9hIPaPACpPe5jcKz/oaDENKdM5wcOFoco7QYgAghKLWT/37rADD\n",
              "HuQNLQyelQDyPY+YUt432UOegltP3f9aEO5DHOzx6td3tfa2ae2DZSpxZzb3KUKXFrufd/4oMjii\n",
              "jpfnwrpa0mHWTMZ33jvhxE/FsUDvYZzedtz8IBTqe+OtyAW1AAADIQGeWGpDfwACbMaAAuq055dz\n",
              "DM2d1JGHzNwn59iGaK6/7oNAmqYPhr0CPKUtBUH9fP3ItuEL7uDg5dPFBavSMYVx0bJ/J1xqkXcR\n",
              "QWoCgyWYJGHE4cB7bi2DPdaXedgy66bJv8bl5d4TrcN7S5l7H8/ZlrJaMVnQW01o6MUubBCQGlM+\n",
              "q4PjzvL/r8X49XnhtoP3v4pyvcXP1teyKJgtsvmkQ68EUNc3NPYlKPxnObYLICMEYQUdnV1rZIUv\n",
              "NC2Ejnk4JsUa8chZUdTXiXecCAvmyIC+XyFOg0Btu47CxneSpNnYdB8fImQZbI1Rc0aSXLBZduWe\n",
              "2SVTDm30jB713vDSItQKDLeUoccPh1QipDU4N1qKuBEwX9uymx0GvgjJIeB9c/ncs00YPMW5D2aN\n",
              "Cgfk20bTXU8PMDR7FPSxybZV5zUa2cv/DMigAFvdlEaLxOJB23PIGzr56Rb5F7sCO3b2IsJFmUFR\n",
              "so8m5ZOqb8jEyR547mmUK2CTjWHlw9El/pkdDHnVHEe2gzvCNbeMwUCJCglj85tqP1uWJa88eIsD\n",
              "Fdo3pNJggXSZyRl4dSf3HMHfG4z1EsRbi5DVDMkxHVU5z8RduAmD0bd1Gc1+AXDV2iK4i3lUcS+E\n",
              "OFfssKyovSuvGyaSfqePcSEiMa7kKu6TBZdgpXIX102qz2ty1D9vkCCLIpMcO9mXZHIU7Mb4Q6Lz\n",
              "QBeAF4AhhDxXCdM6n5VavmNFyBlS9eMzMIKkvDFMIAy2jRyUWuCeW/gbleu9PF7oIndi/SVhsNq4\n",
              "NC5KWmdGZEA0Od8DKFzp5AlqmZbV3Bgx/XAe9qEkrg7dbuUO+yvPtEVcXYyiehKyiOYSGGoDedp2\n",
              "rLpHwzcpHQZ9PhIKLGO4dRErm0TdALe6EqEisM/DPWHrlezqmoVL0D6G0KaBeJxzns8mhpMPwuZh\n",
              "HbEViFQdyCB8rsPebbHGRX2rZ52i4RJjXaPsDQ7Z9SQc0QRXwXYPJOwZLlC5r67q3hQ7xgOY76Md\n",
              "M0BzIll63TC136iEOWNRI1qE1t18pooh4W1NT7FwIV/f2WJmBBHhuABQQAAAA19BmlpJ4Q8mUwII\n",
              "f/6qVQAA3pBovgA4SwGiZH+x/vt/chsj7bzNs2970Wkmt0Dp+wN1Xn+VWejXLUtZd2Z0sZE3QFFg\n",
              "j9OcxJ+dAzUEefrBC+A+bZh4novovphwSuFHOGYRaNaxvI1OCEw9LpNkmHXma43y+B55Qma7wYMd\n",
              "8hAhvqDKMJ2QsJ66gA01semJvPfUyUVaNfAiA0+ytg3gfKSFFhXQfY+TxMPb05Tc81GsUFh3spuo\n",
              "YCoDHpouDqtfrZ6HkJiFqhQPhoh0bzfYYMdzhItWQnf+NyG+/WkcPe4cLeK47lX03TGZeMoauT2x\n",
              "/1DqljtYSJlCgdGJtqb1nsdvaxb7ZAVYcdaO17QQRla8bZXUeXjFPDQFik/izSX6A3FQqo2jfGK+\n",
              "R9DXWhvFbkQnVt6PybVLOjA8dp1MxekEn5ewfjJNcxCJuRzIlLnUWEE28c2NGD9oR2tfVNDFlbDp\n",
              "8LbetVJDygklK9JdZayd+Lk34VBLFfbn03EdHUOUEsYSduOzVGHvNREpkN16mH2IBmnRmY41jZLF\n",
              "JGhq635AfuBt17Qi+mF0ikQV88TQJ1VlDN/7+z5Pue3ndI8ks5E5Xl6/rKAWlj79SD0Gw8kEcCUu\n",
              "/+r4ygwyg4EHQCYX1ewb7P8l4/0lQI64UHJtzSG6hDx891qOGnJl2HdSsKMJq5Nu1UBqDTeGwON6\n",
              "/14f7HXsCqkChpyIZORrEmkYOODlVQAETHhPfLxySN+jcj1gdUL1drTF7Cg4q+NP499BJusFvULH\n",
              "FvBoeTwLCBEWmZxFuWSNl6S5YtajLBgEchMoiNetCjl/zf/10eJz9mNfyRlYbuJsZezOC9gCFWGt\n",
              "jmr+WjSMthnWvVNxoAXYhJwmnH9b/SenUM8f9dexdfeXJqKy2mF3v7mX50zkSsQmWZ5ys7UcnYKU\n",
              "A1LeSgziFilGc829NMl2nDP2KPMU0mkvt0gEU31t+7Xw82pVszOftA+CqrPCzLgzhD7Qf2tiNbX8\n",
              "fg7J/y9UjxVIrFJg2yzR3iB4qXJyUw2ikD5Ex7fKmD7A1EvRHi0GElJNR2gBZhfcRGVJk2EG5w2W\n",
              "faBRpHzF4+KGd4q+Jw6BlNlKyayczNqjHA4ltvPmaRYYZi0jTG8NvKTIlSUj9G3LqsQClngfMQAA\n",
              "AzNBmnxJ4Q8mUwURPD///qmWAANmhCDwAblBEZi5Lmf+H2uXZdBNpMNFpCdywc4+KTTM1s18LPIi\n",
              "AxqAPQGrfbVHVjc0raXtvQ6/0T1t0xcyTT31yQdCmecGYuy6ihCwFMLXF97+m9z6I3Q4w/kzUp0E\n",
              "kCokhC77NgW6R5MqZXbNSZIwtmSvXEav8coiJvY0pTf+WYD5kIVdvCWiyhMwFPyBj2wONN6IaTVV\n",
              "rQ10iUVyfztZ3YLVaMhvEh5hfFeXTwYHQUX9hxJsrWFrFHwhRFgzrE16+qnhEw2UbMOiNdK4zOnD\n",
              "f8tn6BBUT2IQpu0STUTmCvn+zH+nQw27E/Lk2FC8xkI4Jjii3kw+E7lNmk0yyWGYTNd2Fb3l4pts\n",
              "SzSqyI9pMCzK0IfEM2NoIuniX+yCx66B9pS0uKvnz2bxWAHeSssNyVgH/UoxtFHwVJuR1nsFWv3d\n",
              "L2cHfb98w/zNr/osKYOzY16XSeIP9d3pnoMg88hzZerFKw/bf2a4R4wkiSyoBMfcvZHAyxHY0EQC\n",
              "OjiN2AFnEcy+pMC7A+gRP2wHTv7oBPg7lACR5tFbrLkVmy0N0EMTZdLnrXN2G/+pWxTjty7P8UMY\n",
              "qclfRWJ0m0LqMwARDU0FIxuauJApaLGS/cgDxUmGuSQl2XMPtuv70MlxJ3xVKjt9+ZSvlFZyfYkG\n",
              "Vo/Td2j7XsJYWlIcbsDCQgKdY24Fodh7p0pAxrnxVGhlhzpsQQ0hkn+2iipkXM64YiXgEwvKfpyj\n",
              "+9bGlBv0KSgyz1daJaHX+BgtS4nP2aWFg42B7VCSSVp+UsQyu9rvBbtv/GJ4rs1muLmeCKZ6SOxm\n",
              "3fvp5DxnyLlpdpbLWHc75+7kvSGaXan4Gn+HIDyEgBDLZKmOxxc0UvoKx7QXc+KA79jN6pT/6xQX\n",
              "VP2hypqmlKy8h32smK0GX3kJ34FHgnuK3REBl1Eil3DpsunXROhlDOWuRTXNod5N0wkV5893hObL\n",
              "L5ErEgwCOHLYESA8hB+pEARsKp/aioCKLliWvYfYiQyX3e6xBvR7iP6lYs2s1ZTZ1zYpMYxQlyhk\n",
              "soayvd7PcAcBgrBk67yVaybfksMIC4gAAALPAZ6bakN/AAJrYCsAAnUjuVniXm2iXqNaNxgiVFr9\n",
              "tH4VqXT5OY1sB6wi9+n3NActJFQSd7Ul6aGQj388GZvhuVF0pc8PZabEwmpMVMmZsoGbWkeayvLs\n",
              "k7lI0Kx2MUKltnlMpiEk8jWOrmos2VnDjDeiD9n153qfr00u5K3zkY3EQ3nzZiFraXvGqmopxlBU\n",
              "j/POUHsxCayPyy6L3jiotj6uu8Equ1EHZI4qwxl3bTFF3WkTN9av/8k2tjygyLOIv8r6AA26ZofG\n",
              "tvshJcD77NoZYkM+dcTdWoJoWw/ulAdBSqKQpI1PA8fiG8Z0fJHX6at2pUNTdJiiDVSthLe2myju\n",
              "9c7TEWF1tj6zHN93zkQKga2UNe9UhxCvFEDEESA375gpy71H8iaf8SxFAVmhvdz0V/RjhugXdUGd\n",
              "/AWF9e879EZYKFzGZLXG/hhgz7YqBxBc10mhhvP12QTEvQu4D4AQGRm6IrljP9eAHqkdJoSfyEEo\n",
              "Y9CKyBOUT2c0mrjPGVaYwJ27s7Wn1N90jBA49+a1oyY30twd/jWR8vkCprizk7+VBeNsTRULxwvS\n",
              "10Pd3CQYjgCc3a5zOU2Kvgz9LnGQ3H34eXe8vsWjnrCq3VURj6hnUlU5sF/r6j4O3hhp0yKe8uM5\n",
              "RFToZ/aDqiyuQ4FcdHCnCazDMRXe7MXF9yjJsqxbfWIx+FP+PR1FBgLYzbHnNnx8BcYeEcpzXF3a\n",
              "bYwC1Se6i2ohpOhidhijOiwqWQxSG+inH41cYYZDhoCtECHAd9pAHJbKyRpM2EGsj4fDCyxSHuOI\n",
              "CB1yu4fNUI3in3qJ59KpibXB4H+DV0Ni05AQwEn/n3lvgpxNr17eu6zRKayZIXXLHRkp2mUDUy6i\n",
              "81ltMKgcHN2I0sWtP/CGgNcQRJaY4oFRQ3QCy228jzZOv2zVfvHY+U5fiQufO4W+V+Rf3zdjSzel\n",
              "i4JlCgkAAANFQZqdSeEPJlMCCH/+qlUAAN8bxZcAHG9jO9jCeu0yJR2zQL+dt0uX+h/c1zoZQS0p\n",
              "XDOMHzzv1OmkbcDDpzzimPt+8MOL8XZDMGb3j8dK523j7aisnhl2oeZlvgtDUReXKQvMknzXJk/0\n",
              "mcM7oaeNUJOyVpgiZwRXLEiGVkX14Oy1XK4xFdfMFZcFOzMxiE7s/z4K7cLl/2nW+xOeX3s0xAmj\n",
              "X7yh8wrHfsvUCfGElbCG6YyC7hPjT7zMJO/4PHM8BcM09Y45NPoGrlzPBSmTLwzzwXKmIPzKWnbf\n",
              "qMN8Kp5BL/s8oVpTGFIomi0y+ga5dacf1/a7sFrle75gfBpuKxT+Z+/uWz4MOX8oBjcBxE4o6/jb\n",
              "H198ySoIaBCEGQ3piUfLalfES8W0RK78OJes6xf5GDpOZxsb0hC2nGywIqWPbkHQaJFHBcNmng5E\n",
              "ZHTgKoG6kPcF1/ptSNp+UsHU+wqJ8F6TynxwcDW5TcvJljsr9Tfd7kHxjNgyOZk+a87KzjAgo/9g\n",
              "IjwghApXoHL6ot4RvAKyPZpZHM0uO9A4KP67J/lAOAnJtfUHMAHClPbsRw5cfdBHRC4mv/JVoX9w\n",
              "OfAMZy9zUNYk9M3lKKsEo/++b3tXi8eAWxXh8WAF9+L5dNtbMHbpNKAx2au6x4C3i8O+nOiZVigD\n",
              "d/HABloDhD+RBkrHyMKzIEMtFlMKVgVNlHeopsvp40SbMUaDfRqy80S2QgivXNVWgcKZEhlmGgLZ\n",
              "w1kANjBqaXHV7C722NvaHdIfY1+Iabh7a7qa4ZeBAxNHoUnnw28qMzCvke94H4zQvFRRncd05iYz\n",
              "844yrj4dxNSiXAX7JHxCNMU4Wd2R3Gvz/I2I8Ce9MagF/RfTLrk7JLQX3Y99CgWqQmjfBBgCXtNB\n",
              "rkZF+kVk/2olcCL/JmbQHbiGlnGKMr1i3zJaM/5bQTKwK/LT3MSNg9ENCFOHiYxeyu+HTX/YiFqW\n",
              "DKWqxjVasgxnFbCix5Ywif6JriSYQZYsqttY7s6WVdCGZl/BLJllq5CYgOJAqkWl6S4GA4oNC7lN\n",
              "HyR7HNpErcLieYzLjfpZbGpyymEAH/atW3R2fh61Lh4//ruFa3eU9KtYda3uesRdAAADSEGavknh\n",
              "DyZTAgh//qpVAADeQ8twARNeaH4byxe+HlwFZyIUsP8xgggZgm2TEDMB6ejfnf0TudaTO218ejvX\n",
              "WMP0CVN7nH07nDFArViBiKqxqkg8OdmCsvkGhkv01OzE4fYN8sLe37pvWbGuqm3ytLvviCws8foN\n",
              "epSQD9Hp/uO2nJ3zn1DSR3z97akvXvhm0RNNqVAds8vTxaKfJSlcd1UitM9xoy33CYM6aNaja5xh\n",
              "tvemEgmIu9T4ttERk8FZ7DsHHv0GD2RK/oK/fnL2j9FNAglxScCUqsWQqsxqR18lShr73YpW264O\n",
              "r+B/0S+qTEnuH3zrTBHR0xXpUOdJ1XNn1jqTWQo8oVRX93BG0fptXGMG5XEfsRKmnTA+55vVlvuN\n",
              "9ah+iMbABZ0d+LBjdkAiqXbETzwiWw2dCzpT2SadWsQVtwbGXg395BFjkcwW8wEHaAN7yzh+WTyQ\n",
              "5j0tUT+pBHZIBgu89s3/M0Kv4fBRVQ6to/ojLzefHBvyRwUX7uOHcaD6HrkJLZ06NcJ6HLORY3Eo\n",
              "id7dUzEseRG1BtYmM9BQY0MgIJCzXPeQdwgo7MRLi0EuvpWjpp130NdeUdZ/VLSAcu3VkCrmPKOb\n",
              "mKPckpjT1dIseqFZeZPoSC3XEIU9NFg20H+UCt1NycG0IQiXAFIC/v+stdjrovGVLodLATr6hrXv\n",
              "MgYLAIyDo0+3KjwqqpQ8i7HtQofYzSoMH2iqibe3vLOpYiy5+/Nyz1eN/Eb9wKr/9ERoRUXv+Ufv\n",
              "nDbJE+RuMfIFfYXJHNjryW0lUAw0GZ3F/MGN9KYcBvG1Cfgt8KilAzJt0iaDgE0HQTbzOiCUNhAl\n",
              "V+RHnbLn52NxPampuI7nCxIrmX4joZkNhKoHYmhwKYBrDwLTveNAJ2VrUDA3huvM36CeJI4oCjek\n",
              "QC38nnMqsOoN62fKON3SMaoZvyjCPLEJBkWPD0QXifu+beyDHTmrbca28JxiA71xF5wd5qx7n4fx\n",
              "ZBXjN3vfQFHn7vNCVDM7sqeaLyb990Hh1HSQXtoewkFbggbb8wyr69Kz8MPqyPAh1i1uzWsxvecL\n",
              "YFJizedQzVtWGGN4flrU/nkWoc2zL2StdqLy799YupS1Gf6QIAAAAp9BmsBJ4Q8mUwURPBD//qpV\n",
              "AADebl3a4ARaRV1FdAaUiroGiQWwZSDvxjP6soa/P/Xsb3Omcui4IDveTzqFzkJL+cQx4bAaUjrS\n",
              "sKNn2KvpmT99ACymVbuhOFkl4Hcmow7AD1+uJrrO+AVHHSVd+rNJP3KvVddwNlZqm0y7FFbD+gTS\n",
              "4jWNnTgmxDOjjIFjE9j1lq2EC2KhZomtsgDJGvPxhOn59iSxNXXZK7BVjc/f4DWdRkDNzIlAQbhL\n",
              "NGzkQeWFBJuYKaG63SQkzWi/dDzwd4wY0v6l/tD37u36h1wWcaU7vd3eIyuNEy/1dFXtdFfkBDt4\n",
              "K+sOfUF3vQJSr6JDupqd8qI1UAVOhiQBjCKHtSsAla8WvBndQ65+gMy9r+XCvMsS0lMQte2QWKQd\n",
              "2cl6O8vS4vYmtm7XXheLUY70RWLlR5+IAyL3yx9rRneRFLdvLPYserWle7Eru0bxhYM+wqtvLKUU\n",
              "n0L+loNxtfheOSNAUF0x46mRIjZaoFmH0L3qH1gQfhHD2z5di/eKNJxNLhmYjhT3vLw4LmJzrsYc\n",
              "gVFQ0JAFISY73n37lm09XoSJIDe0yjBO5LKfgNGD0Jy4NjfyuZkKoujO6MBpVsBHis+wzApKdDpq\n",
              "EXqwSsykAhmrIH3ZJ9zWZhcEfr1DvT6UKPCDwTamae8P1bqClGyGg5QREPPV1CGt5dcyychcYHoz\n",
              "mCQ6nVstSrHQrRwSvNtlvtZyOMVuHb9BqTSoR/SAxNKSLo4BTBpL3yo+GGbwIPegWO8w1yfaSwDN\n",
              "b7QLPavb1fFIwmLWzB0XJ/WVRL/k548hD4TS+UeDVNKNVdTxauiKllK3qlxhx/G6KJuu3LcSxkoP\n",
              "T4xWj0vz6Ww9nw11pazq0TQibIz5bM2Cq9O2gAAAA8wBnv9qQ38AAmzGgALqL8bVJnnQRX/iMr5O\n",
              "JIwDH0QAe/AG5jbF1HvSFpgms1g4UFVXRHujluCfsUhi9F9KDBj6aT5kpbLgtMw29yR6RXPlp1Ym\n",
              "ttxZCiqR05BKIGKdhXfJKvXR7z+ONO5PLUaVg3uykvY0tD1yIV1LLg1CK4xZrgnQE7J49ig+zlU6\n",
              "tE7vIq/MIoRkQVZcFRzf2BEDlDTzkIQABucWNz9j2xMRY4ENwU2tNbmOflvgPwOJvwVb1OTVg4HN\n",
              "W9VwIemFBvRXS8YNNwQ6+a0j+1wQPNG9b6WNhZUi6WpYl0E4KFbwa+Flvd4JiJAU2s4XGipyLAge\n",
              "hwI4lYOpkDfH+BoEXhM+9JGkxnkrEjJ6tJ5TqhwzcXCJwxpJqMZKjFNWermcSNerN/ngMwIuLUWP\n",
              "cVI+eJkS//vWRMFLg87fYa4APguJvteYtOTuBEpxfO9j2yrCD0K8Dqa+fW+jTyOLe8DYNGzALypW\n",
              "+hgGIiR0UmTJa1TGjAT5omxhbFphCgmQSB68GbecJ2exx19ACLXxDlm3VjGj0ICt6VSUp/Osx0eg\n",
              "AsbtH0NL6RExSjS4eDCGi3KnpLngptI5DOEbwHjHWBj1t5lqk10atxl+xlCIkssacex6DZIwCWoF\n",
              "phTioE0oI3ewWique+YbdrXUtbmHkjgsGIuDtYarpSYgohOqpeQUUsOuD6tWC6btGhmDkcxCQrOu\n",
              "Lm1e23JN6zsHMwTTMPAxYJ+ovMEcWn/txyFWV8Lc6eprK262hAswMp0+eUMLQmvF4JwWjuopKy5X\n",
              "d/seiJ69UWnek4lc11pemGDi2C4xPnAsWsHxd7JNYIkNuPjC/W8MPNkLDJiO045/zGM0uPR7qCMt\n",
              "H8DhCByFY+/7NxyCoWDGCbPO/zK/9DhDj9o92bSNGVtPVFzJP1AZ54rgr5VYqipHwfygYs8JJSEq\n",
              "boDZMv2A0/8xNQLa/kkh+23cK/aMEEKccGjP9za9RAqb+d1TdOn5NvFJuWk/jfvr0MJ7s8YJk3hb\n",
              "WT+WxTnFBAfOzn8M5BCpcr0bte20ZRkVXKvRE9FjAcidoxRorOB0G2H9hwhMoIPgSJDKLxHs7+Gi\n",
              "7UDUxm0DZxfSPyE4YoyRJ6agpjEmWdV5fo7wU1OwnKyXgSthy61x4HC3tbQOFclAtELMoCxEof0F\n",
              "uE9db5GaXyRnDDBfavuvgFcXAizzy9JNYQj4XsU6tCiGQwPLM+jrKliFYOTgP4ZwWMTyfyPq7hpm\n",
              "MP4M91lF3EP7jV03fvEvbbagHYYAm9TsVGb7Cep+dO3sB60AAAPHQZrjSeEPJlMCCH/+qlUAAN5S\n",
              "CQABuyAE9ZPzpOTYBDm16pqEZj1b6jpfCNqZw8vke7+Fg4I6MSzcGQYwrgDONkcVbQ/b3SQ5ZNH7\n",
              "r86LmHdrYKP/F8hUfIMaVz9w4TgHS734TrxtmULL+KZEskisJaKt+y6LEXIuHIYSE874fxZ6AvwT\n",
              "VHwuXUj27dhtDf6f/4nr0+35xF21HnWfVtubRgZaUdv7fWdhReQyXhrfKVZ8WuioRP09Tvxk7Q6B\n",
              "vcY8YIzvx3atZhiqmknhH/K7vhhho66R/VMt/Mzj/3Je5zsb55lUGxCClVbfWh2it7TupcAhyV6g\n",
              "ymgU047HLdhGfOmGI5pA0tPJxHKsIMC+pAg4Qvffue/gbvyHtNO9KxjbNboo2iJu96w6mIbRrXPb\n",
              "nB0aD01PfZYB0YnIdmT3hBnsjrjAArz6FhPvltAEIPOb/+1KwiZCrTb0M4yj5U6tqrsZJa2nZU+b\n",
              "YWf96YFZl7XgBqHCsnvPVg+mSp7lhcuR9j91xYOUcj/lJZtLhNClg5ckYG+yosaKC93GMTTYwOLv\n",
              "EmPv1HKbOBCYmDvPmnKtYuaWLd3K97nx8lzrTuwXHJwLPckpWwGEoLjqFaPxopZijuGP7Quyubc9\n",
              "ZE1UuTEVadpkSjx4qLfkntCCAxdINVMydr7InWJdkvqoi0rUsm4z0LM4XU4I6qKzEEm43m3/tSBt\n",
              "C4hKTU0/EZtVY8d3s31yp53U8oHssCy7d7DuiqnvmranmJNca3KqURkINvZFwR25BaT1zUixuuvV\n",
              "RoI3NPbB6UXnV0gMCfGiRHpRM0luG5IKKVZozmYJKGE+BP78mjlTxmJ2yItO8ESf/rYy63KitGR9\n",
              "yxXvHw6Mm7wsKQ5iSaXSdQbx6VTXwRaW35BR3CTjI65SXBn2tml385iIhcQIgBxAAncuDSlRHa1i\n",
              "iTPiYEz8Z6kXl+OOY30Bc8WTJS4D2FSgMBFH/AEnTfi1ISjF6KQW0xuV+GTaQsXnCk2eXMmzEUQ8\n",
              "PJmvmcmrInC4BGUiUZb/XwmAWZ3WfDEdf9vpOcQAXMrT+VpyC5V4xioPoKDq9/4K39BiqbeB+B8l\n",
              "NxzrhoapVxLEUj7L8kRCo+H3sDp/+Ks7+dXXYsk7sIouXlGcLfxxEK59ITDNuDeJ8PbxDE9+nxuq\n",
              "BJZ8szJWuwjzmqUVYerr7si2ZQ2zDPHnPOfPFymlev9h8bh10EsxjUWVaFI2Hr6WPOGn2EWSlg0Q\n",
              "RIomlDqYjd7hrA2Hwo7Q88mqpnMNs1OAZ0kOCg2uuYJjkRgGcAAAA75BnwFFETw3/wACakQpIADj\n",
              "RfL+1cjzevnThl8upA1SDlHNb5mXjBwlGbDBEpmqfM87TmG5t5N0x3OE/HE5arXVrJG6OJ7DN+jD\n",
              "Raf0oBbbNzs3eF984VBkjWnis1ZoRdLxJ1wQXS864nFmoc43ifVZikIwcnFCyi4cmgrewPnoh8V3\n",
              "CKwNrqYxZXmz81y6qNT7y2dXAL44AUwxZPeKBuno8l0DsD75SD8oCfpEXPc5DdLxmusHyJlY/xst\n",
              "EzWq4oBHq4qNsfFULHtXP1VowMOBRstkdj8PXB/PIa/VHEa7oYKYuQ3lVj+P72vwBLiwB5jhd3bJ\n",
              "ypFS0fNSmhCM6DVeQK9Y1FjC6WSLMqwdfH57bPB8FD9oTE5sIVXwTcjU1hJA/iY2jMebwCLWDRkN\n",
              "9vMV55ZjPWiKH5aXwLiki8sZ+ARmIv7Y3x51+ze0nTlFd566YpC4l2PKlGL4sMtlyAaNqb7QNPUZ\n",
              "pcBfFVVTfIsKNazgmGwBQ1ODjM6Il7qtIqXBR0cL4G8ARnPWibGJWl4sp/fuFSdW1mOYLdMoIQta\n",
              "IDMmOVjhPfKapWJ1i4YOsvW47Zp1o00acqGf+IapBKlJ7uaSK4IajVXcCgjtbR5mOSCCcRwjTPCB\n",
              "pPWv8VbgGlOE7e7TDfhIMa8WQ3kebE35ySj4ooaxvmEmGLF89ZRy76WQBX/Izeh8V2E/o6zqskl8\n",
              "YtEoADKkcYIjT7hwnsJiTTgr9XLo8oA1AL+pYH+SSuihlB3XSwmIOXKoHsh84/ZWQvZkxQrwqbQW\n",
              "0OJZ96LYaZ0sGYEMEPdyNhKJah1wLHcpXONJ0QWUOaIdaLEMx376JGuo4PNNAqSynZF2pSCPNQQd\n",
              "maVw9oP1f935sX32mSqb+mmnhROJOdXnkbQTt0L6M8QGQzeENzdEw0tsyIK641f+x52gPzjInaWR\n",
              "/QRYZuItt324MbdepqGDKn/CppcmUSp5wz6Hu0BSrHIbPkJpEuW6k9gN3qWyJiMOfy7hz4oKAMNc\n",
              "16v7IZAuvxl+XOkHzLJ29Xj1EgkZkN3Ag6nb/FDJhCJ200hcNmhx66zMlGcQXebd3a8nmbUtiAUo\n",
              "dNTGpAr40OltBnn7Ug0Q6Lrvh5ZrAJS9pNCtumPkkmu8KHvRI6p+X2zb2QW4x4h5B5WgeAfu+hDl\n",
              "AKbCdutvL/cAicaywnzVwjtTDlvJcdqXdAm+hGKNZ4e+iOZlI+dfFIS+e3VN6UZZQU58Uxmi+iVC\n",
              "23w11RJsbKtPa9v+FgKuvm+2tNWUI8XIA5MRyALvAAAC8wGfImpDfwACa17BljM7t7uPa4AE6Z3v\n",
              "7KL3FenTEiq0jOI3p89bvixCvkjZ6gnqvdVfZ2gCBtUu3efiiAY/AyCEaA6LRZHRapCaUva0Mo4H\n",
              "df+XGjEx7kEmLTtaEPxh4x5Nr2DOqV1P6csAbH0n5hk/Dt4LSuqZBsAaHFes5SuyHrrMUYEVatsK\n",
              "C++LeMExdreyDbZ7FgR5Kl6qyJB2+TNkbsbp2baOG5qFv3ezcXP0rB/MtADvx+aebrXOn+7EC51m\n",
              "Z5m0tCMYNoZxG2E9NC9mNPblhHp/ZQeRUnBxQT58KhrYZ9CJY99Ng/0omJ72AnTg/T1B2/vi7fci\n",
              "JNB4kmHMMNS70omn4jdSunCcuuDCy+WeD7nQpNhF6ffc1YEVz9xHXPu3r8RfuD9FS9bwH8x1DaKq\n",
              "iho78RP+pD4EQ8b3kEVEVN9qT6a4i2GGy/ZLSpRujKEwt1gZW8q3NqcZaEBNmMb4exz22UWxrN/k\n",
              "suyeXCYIJ6O7EGqneLvmCEgnL3m46h6MlIRhEyKLml1Hw+uykaQTftwe08//B7sHgObxIM0d6B6V\n",
              "5TFPqaEanyf1VtFEyxJpPYUl0aPhjNMe0CCGGonn30l0lFzs/iZBmDpG2Mb03CwGFdoMRv/6lFaG\n",
              "/DjXSKVfNojpCk0koN340NtWO/uaTgT8Lry0eWXt2TdkZNTEDakH8JfaD/Z7tV0kCptEi1KSZxqL\n",
              "IF5B2CCeg2C/HneL4zDkneoZjm+n6I37VwHCpbVH/zLRgaoOZcI+wngtBO90EOnO/HycGY+1CFp4\n",
              "YEo1P0Bqrni6HbaXhgC3HIVZZGEHp8pqNeBHKv8ZNwrYPBNWGb0uxfR+I4Gb/m23XJvvY7CHmLDM\n",
              "hMQqbfWFE14fEHTl/kCbn3QoFqiPvmzpFVXv3oraduSThEsvKkpy4Ex4o3lwn5s383A+rGqWCG2D\n",
              "9npuKR7o52sRp1EvETPp8pe3geUtzh5RGbau80mQu+Hvg7OzX12wtw3s/L82gK2AAAADSkGbJUmo\n",
              "QWiZTBTwQ//+qlUAAN6HhxVwAcaRqaIJpOMk9Ac/t5zNmxhl0T51y8nPIfKkHcuiJzr45GN8ZDT8\n",
              "qz9zbwxpx8kuYe9p6FhGa+soLYP8OvQZ7N4fbmncvem9f9rcBRM1lgAo2wQMhapVT4zHLm+CIkeg\n",
              "0PMRdXaST1PNPWNHCJLTcB2QqmgZZwWn0nBhh+ElbdkvxIDu5Gr+rbyLK4V003RG7OYaW5xfqIlQ\n",
              "jq/2Qzql+94Fenk8a0yk6PDAkLZd6hXCf4OgwnWqu/NbgtBWO3XonbgFXfK/RsU/20Ww/yl271Vh\n",
              "0s06n2P32Z4Ic9syNWRfKodkH0N3e4wA+1mQ7/iF+vo5hqqKElznkOMoXYwpYS1upmF6wXD0FVYN\n",
              "UEYgqDCFHfnHWFvDljemc9SImLNkTdwVjoz+w1+itgSKFw7/fQQSDL8xlXQjHkZFnhjcx9YL/DIi\n",
              "23xDXEHduJCTse37golaCe4D1Q0BMRegtflxCtJCN5zMQTa+DF5zdpUu8yQa2pV9+Qc8g5EgKVCa\n",
              "2EgNKnyR42p2m93QZgn9agWLgBXrNKOU4wcnIpLz2syUpnm31vcan91pOE1OOYEWxnpqhqaGHW6G\n",
              "wkJDoxdsa6vs2/X+KNKQ2RheB437IKSnXNIIa46qb7f6uSGj9sa34sVSrRSjGwCOsF0BVRIk5Acw\n",
              "nUKQrGRhypIFE4wPHlOwEnLpPhX1WQWpPJMoyIO5Qvb3B8L0KVS6dfYXvs1Kbdq3fyfTTWBugGig\n",
              "X7ujVyMfkAs7NU5mT63c9ZJyneLPlvf1FkLAqMDuulIf2r/4Ta6r7FTNoWcp9VENNFyisIkJHy/K\n",
              "7qLFIDQRCEEo+G+jxaamt+EJ83/yVRtUviybe/qwdm7vZYkqGh+sQyFr2WDhZDh8XwsiZ1ogiuw/\n",
              "/ajwoGhmlf3eVUsiCGhkLeAVzKMs/pa3xU5kYRwlUGEc0wC9tBo3GHNK6IAv7RJtjY/kvwJ/C1eW\n",
              "e4i83Mw3nJjpuDMwzZzURvKgGM2Bvb13ynOTL0YqJbch51Yih1B/hUGNbF3J2IJJCx0NcTHjllFK\n",
              "eE7S0t/hTJK0vMbr0UyJEbXZNwr22/A1CTHEcusql2bNWXH0iAl5AAAD2AGfRGpDfwACZcViWf+A\n",
              "EtTfxfRokW9inicyr6SzR26WrlS9WD1urrMPf3X5H23FOR1X5uisdymQbQQoEQFV5Bnu8Q3tSGMV\n",
              "ZCWDVaY+RrhIln1EC0G9y0MBrtrhcY+w3B5hP5RcDfFlwZeKcb7vQBE+zqqXknGorj+vNEbwaRqG\n",
              "PZavPeJiuCmF1tuQ4NfZifZzXsB2iOXfsnWfmRaF+B4JGUHYpeLYSxC96MnlvJPLotBqxF1K/b/Q\n",
              "JLE6AjiMiOenXkftXiYkMaKQAZb/Thhe9Ubs24lUUX89N2cCUwLHq8UF/IW0Q5EBhV74OHf+1asN\n",
              "zsJtw4HWTDnjS2fvkoy8TO8umNp1DfRo60lZI8C8hYD5YVimTAlz/1+ZRVftJqJIVg2H03ebvjUl\n",
              "4yGFdDnRk/Vs3bCPU5GxYCrbQTwGV6u4bTJiKMlnQwoeiTRYcGjetoywRyzDrBvWNWNjtPYcDPBp\n",
              "1tRvAUzNl+wH5kSQ6SsREsU0nZ5DWJsolhPYb07HYfAFb3liVYYaGxWrmq575yywOCdx1TRXkQI1\n",
              "piAVpZn32MsU8Sj+Hz2tPNkH09Er0iXGDDVkJSWyBEwxEOFt48OEqFCM9AuXJ6ttS1zOnmP2b1E9\n",
              "xBC5w2tR596mTlY0VRj3+oCXKpGsF0H43govJ0/Huucw2sYNDnNxe9Vl+Rn8KccGizZGKRjtTUmQ\n",
              "gcZ3I6wLs5gY7INfuWznzrQ0c2CVEk8onFaZg+4TdGHq/qOtNoEF1hGZj0JzSaOTZA+gIP5Ue85d\n",
              "lkgzjkScbFxkFl2YIFPH2hc2wsoZGEMMA0yUk2kR1SanIb+ZHx2GwJPhOBLJ0dNI7nVPkxYeWLH8\n",
              "Zz0YyFurhnEX0O5BP5ik+asNp2oCR+ZtzXYioluQvS4vBiGqdTEfYOz2IEMLL+4b5AnQDVWX5kO7\n",
              "eOyfW1qD7GLI0oPfZXCzPLwbtjhx0Q1FUTMKF2YJatO4JMpLkPFYvxJ/QIhENhSWRxGu7+PEEPhR\n",
              "/yzB5Yzxd2++qacZ0cT12hYhasKz+f7285goI19DIBdymVJVMSHD/kxBcsFCKUugwo7+5arQ5CtI\n",
              "sCqbzOHsitmvUM56fZey71kmW7CrgNDhrr7/qhz0FSvTcD5wDAXu/rjJMABdHB8Qe9VlYb7Awzi/\n",
              "PQ1kyLkTVCvAcSLDVCPmRL/NThq10rBzxqEZFRQXm/D1bz7b0dy2P2FYrlKXauSa7+T9g61Srzz2\n",
              "GhKJEqwgeppDUK6rUuRDHtN5gSJSfsKOey6vTI55s3zBS31ECiiFDn2PRzRIotl4QtO55kLxQADj\n",
              "gQAAAplBm0ZJ4QpSZTAgh//+qlUAAN5F4uAEZXCD2z6AjfqGCZbR6m8rjlumwHp6N+d/RPBN/7s2\n",
              "5J5oREeJv1fT0XBt3kfJpLQLZ5ntedBaohzYPMqxbMRZGw6sBp8JkpJMVf5T2jYiRRnRo8ompV9N\n",
              "Pg7UlQ9jWn/hEWXuqjLNJEgErCbKLAlOlZqmHR/tSIc/vgaUEjyXOt9Fs8bhu37dSr/Ai9Zl1Ghf\n",
              "l7arnAJHhsFl6BW+FnILWqoqFMiat2tILGd9N3oT7zD6Mi7zr9Ytx8PknNcdPzMbEb0DNkQebLaW\n",
              "HxL4s0pUNM1WR+d1jgHZ1DnSdVzZ9Y9agcWrL6nMXNweEasLKlsk3cgEW/ICB4GSwl27rU48SXe9\n",
              "xI+2PviFhR11QN88Ppe0wVwFJjpwDanKCE2Ujnv3cLkM5vVofVKuGgA20rAg2M3zWd+NIEps3mUb\n",
              "XeOIkMC4O70JBgJjXV9+S5lMElWSBMSTMWHNcP8NzvgjciBbgrxTfHerstRETzDTH1qODNhXpZlU\n",
              "3XvgD/i5esKPg8Ziy71TkwHEbEO1rKSPlaGRG+CYi8Vv1gqYR5GV8Bao/qfFX0ZsUVja7kDDW5N+\n",
              "cDIG/z1im6vcuknVzxOBnj1Cb+bcw+nZXVL6tlqH615ydJLssJTQUKJoqq2ul9m3QYEjURHOJR+E\n",
              "ybN0tiqSyd9hJhbFWDexaOMpEvDP8V+L0SMCZYmshmGUtavMB4ZiZ0I5YfLeRY30fIEG4ZTXadrh\n",
              "RD21GbAu0M3nh7uytw5OrErqoP37RadSXIpW6ygWRviiM5NYOaZrdUmxx92LdIelylIYx+iWqGva\n",
              "oVEhmyot5bONXdyXehMRQ4+Zd3V9ndwZ2an2ocfaGPg70fD9VuVLSB33IQAAA+9Bm2pJ4Q6JlMCC\n",
              "H/6qVQAA3kXi4ALquFiRftOSRiESLFgMADARK1V06bJ/jo8hvepVQ++OW3bjcvrtQU4psRYOm13j\n",
              "8aOfGusYjmFX8QL5K7A+AUY62VAru34B67bSA8jGci2dIO4u3+bWoLuhCAwYT4n8EsTAIZBAq97W\n",
              "aosKrD9xzfRKX74ZhHz6349oSZu5k+fLVpalROAs8QOSr7Go2RuwEF8A0aes3sPZcz36PABfu2dO\n",
              "QSIDC+rieiy7SXFfUOIhHFXW7D+7fw8Un/24+eJESrmhV8tlHMw5Y6KlAqfSHJf3i5lfeqN0HFsk\n",
              "tKk08jYg4l4B1RmBmaGRhPSNvABiatULeR/OtDeLOdvslgqa++bTqQ191fAwkHbpYl4qFniRsrwX\n",
              "tbZKGU3DidOhNwXDZp4ORGR04CqBupD3Bdf6bUjaflLB1PsKifBek8p8cHA1uU3MWDsMC/Rex4Ar\n",
              "j75TUrfoM26CqJ5+UeLxdICKBkfu2xHQnYQIBdPp72mPtRczuV6jGUu7O99yPV5ufygt7Z9wAA0l\n",
              "pzdbpb6JfCnx6iBhkskGfoeodwmzjCid3qqVbXhxXrKOaAZ9XYXF1iQkVJeceQQrY97dguDsdXjx\n",
              "WW8UmwX5lYtFOuts8jc1mrP15cm23x57NChy+9Yzws0GRNoorI7YahNfuYxRhe652a12F1kVhKLi\n",
              "BwADCJaJUtGZSBH9b8aFhGk7H5eVPqIpwUT4VQeN1RJGxlKSaF1yCDPCSXzy8o95ARyYt2pGBpz7\n",
              "ibU68uMEau/zmqR+jqHf/Z77H5Ag/4QgsBDKoLzouRYLb9QaykK5NK3YyuJ27SxTSQOUsoYtvTra\n",
              "mKlILeRAEl3MkAEvqP6XnPktQ4nHPemXZ9ddoxZuqChs6WT3PoN2j8gp1eilvhTKlFr+3xW8XAdp\n",
              "cSB6bY0fBl0FIK7nzN26fViNHBtqAwAT5R4v9mIo3/jRMX0C5AKQzBBLqT73KauQa79HcHYlzJtX\n",
              "sfFTmhnUHDPSQrYNI4aNBLnBlOD5hh7In5zlzuhA1j43LsoDpYnObbf+A3hcqkUNhD9+47BDYauB\n",
              "k2K+h7Kv6ON2k2ZiK1AwVIrz6mtqUym4oQ4J2DEreXt0hJsBHLBRZIhvlFmk54YSGrACOA3ftCQM\n",
              "OVndfi0mGfEbR9IO0nvnhwW0gwwBrMeWMTLyTWHn75lVGZfDVM358WBvHI5I8Zw2lA8WaWt96JJY\n",
              "M1xkOKCjFf3Khawz4lfDq6Tv67n47DzZen3SqLcFleGdwIzblGpbwOgpzyko/UlatU32bEK3Byw3\n",
              "JwjH39KxZnHIg2xNepoAM7tON22RiXrWjPI2YQAAAxlBn4hFETw7/wA0m13uPPdtgBugXkNUoE++\n",
              "wHQLpSiYTSSFITynCmZRUpDHghTQvq/WO1CqRzHnyP20MTo8lYINSJxe3f5xaHcXZ2/6NjmPJg2r\n",
              "BQAmk7bJOisQN4j2oBaGLH36LVOfdyNurOzD1EooxHyFSYMpgWwxxiFY8cUw7V7bS4R6ZZ7IMjd3\n",
              "ea6Bo86/RWjL+yF/1wr/tu30QZto6y5mzzrJhfsDinjxdAznFDnK0Jupknoh3ACKrVIIe8Zt7snf\n",
              "vP/PQiHjqsWAy3NnK7ZeAZPpwDWjAuMTNx+glHpHJ6wShD3/GBaP0ZohoX2sP/dsCJxKlx++LdkW\n",
              "acgxfTe5rcOTrtdwhteUGXTanDnf8tw6MCXOlTIAquAjwoKR7CT15OrxbXdjd9XxYZR6s1W21V3y\n",
              "7YqSaBXStc8j/NAkDRKBvVB2VtleRC+XJjEDbId+WOBKWnG+5SjVbM5RLiK1I+hvUB75DtlD19VQ\n",
              "sBmr7oAsQyU3kKIKVxQ51qe8pN79JwcVfqdiDOSVz3e5P19LuvYBkATv9wZULF8LduldMYBbs15t\n",
              "AKBOFcGKl1mKKlbdVLN4p8bLkzEg3GgUeAWwJY4hSw6Y7WFVsXW8X90u5x1tCwqil+E2BAxPjVRO\n",
              "YIx6eZhrtCLIa0hGYS+WkV692JZ4kTGPtQSDFcbjy8YHNf0/fh0AM+X4fEJbuktt0u9oqJD+7EzO\n",
              "e4W+QYZfnmDGmXNQvVoUzjg+XrM4z0MTrE6RilNSJTwC7RP5VCZbwcXfZRSnAFTD4yTbNTmILE58\n",
              "jyOUcFQS14o1YdmnW2VRlNhuZj2YJOW76QujWwEHquJtUgU5TziPs4ZuKPbaNrIZ4PPILr1UjYbi\n",
              "+PWtnR1YQVb1fPOz4drOQe69IUblWMgpYSyaI9l7Bt1dczO5XZEZY2E2XJ3Rab22bU1pOPFndnZy\n",
              "bYQsEAOu6mlIq5qt6GQpdGYu6RvjP3S6CK2DjQxdd3/mk8WJs1xZrKLxEAoLVux20hbXemxx1ten\n",
              "rQMdoIRW17xOVmP4YElDgRrMjZOAHrQO0MfAAAACaAGfp3RDfwBLX2PaLzAlkgBLVI8tLVD1hkRM\n",
              "mA6ErG7Rp/VH9rgRyL+B5SN/paPCvXEcNJZhJQucqQzjtJbseW364ssjymEtiiFbuRHn7LboJiJD\n",
              "p9Fsp/I+GFXW21jV7qf1OZgTcwMq+TfyS/MXSgdIT0eRygFHCErNGbibKFXtTGs7dy2ampTHSvPI\n",
              "rYG4MZsVsyrPPDNvtnjrg7Gu4YCV3fC8jybFtGkQkJHxHH5Z9y4VG0a2aay1vD9jylBR0/MI5SzJ\n",
              "r4irl3lbQCsY3S4ZKgJBpxOXrkGaGukHLvwqlf9ccH5CkgrN5eHE/IMlVHaY0a9HiZQ8fn1pI4X5\n",
              "27T9X8pfMOTD5MPHQcz9a3FAl8i18WpxRRm4QZPLsj6wIBFpRhrEmhXlMkrfbXfGb1BZuBvSSEd3\n",
              "gEQQzkn4JP9sQRMQjbd/d8j+4+D2Qq7kF9TGSuQF9tCiJzyP5rCyg8V1PBTGcDflul+zFS26TgC9\n",
              "6EmCTzqMYQz9GYwBqxdZfL+JkNNsCscO345iWs3RLElW56+22SAMwt8popmzLHjoEdUmvwoefaXW\n",
              "8McTNMlom6Qz8s1rir2hCUSI13akKN3TDIMbw7H5AfZI1aDEXI0NTCQGVKNEhWSKrHLH+nJpfGj6\n",
              "72U9Nb+bKebpzJJM/+aeSTx2u6nfXrbVnYKMU4iAfTA+Yu19a9T0qsgzUXHxg9SW7aheEzkDBZih\n",
              "oetY4VhY5A+HDS8LoEWjQY7vdLBlNNXi1tAyTLKBPKRJ4xce8upLeyieJDP55MX/bLmDOeEz56lJ\n",
              "zP/q0dXwFUTFYOwXA+A0wAOoBiwAAAPAAZ+pakN/AEtr11qDS4AW6gMYjXSvY1cPycsXaaRLP9BU\n",
              "7t7XbND9qYkqC3G35+NhV5njfGwlMyZRArgd/Hj7sw+K29lXoPYrhenftb+c/jAfU8wz170C41wH\n",
              "VracfMMGNucei5Bk8oJCN1/dbWtwGp1J5duYPFVQkPopiAaZplv2x8wVZBvssyq3OOUWyiOwe1uV\n",
              "LaLod4hdKLrNNyoDyxdr2lRrll8zPiyDlQgJ0YCvZ8hy6010eFBw3BYfOK+bixeoLThO3/U12CKS\n",
              "dBpo2NEankYwNCJqs4w21SnmusmvlWXUwl20oPu8rLooIxFZNqUdWaQH4I3g6li+4/EwzfgpSLw5\n",
              "5SaofgKoyC1CDa0RbNCWqdH8KqygixLxDgknFqPMiiC0c37q9g91Iul7kaUKn5ltRCEsWzM1kh/9\n",
              "2ZpDN/vMoV6cEiScV7J80n0yYEjHmMh369O8uCH7aEbXXneH7VpkARRqVzT762pm+FBZ3oBRFuSl\n",
              "TbUMf4/PxIcE5Erjja2Z4DJ6tND8fw976OPLr65TPEWx7GB28zwM2Pw3/fYadCCKaB0rQ9Tp59vk\n",
              "Zz/7NEXwTciaduxcKuGr4ED7IJoI6KRCTVDExPfzfzzF+ZjLtf+SlD1XaHSkNY9C4L3RRQl8q2+V\n",
              "JtUgvrq5MurlZrAfrVvCSceLegvF79fAvPOQh6+1vi1Yqbhp2wX9FB46a5w5MTOF3SJzb3aJRQ43\n",
              "9Fvnaso6pRImTaU5aaJ+AFBI9yEXm7+La4e7l/JzScuoQwRtiLBFU/RECjUwZ04tsz8xoO+ZgVS+\n",
              "tEV+WfP1LRXqU6EdvaeqCknFVwrQixoxqM6TnzeYa0XHdjJLOoI9ZrI+sgxzyCWP5FWRUCV6TYHB\n",
              "G0tWHnCODmF6J2EDfz1Qs2tETXRrD/FAvJ2nMmkmh7nLHaseRfP/dKLO++YJXYKnBsuN+OnWnvui\n",
              "b3y3Wk23fV7tO2BZ2W8dOZvAyJYLukBNvYRGCv9Ji0TVFnCVKJRxRkvu9Jkv34/45L32kiVyg8f7\n",
              "sAaqB5OMdezLM5zd11ItB4pBjUj3u+3hZVaTMMibx4DE8bS+IsfLVO/oyxrRR4Kq6crZOQx7BBRH\n",
              "p8CtJJCF/I7ufEhnur3YtMcCV19CfAI11fPU0jpzUlzBOOMyKV1nTaEkw7f6h+OnHbTTkFjpSPI2\n",
              "hIc1XpFM27b3BacANpyjmlJVvtSx/P10WOpkMdKwDfQpfLwrx7TPdE8OqBQBluhI9kMTs0LcWhB7\n",
              "7e3cEXoJImy6W8CQSAYtAAADWEGbrEmoQWiZTBTw//6plgADZYQ+MAR8eXGLb3iWPE7YPG60kv51\n",
              "J4/LKk03mHHZ23BfKdMri3yZpv7zYipC0251pAHcQOpXKZY63bDffoq73kIUQ/EPlm87t3NA6bQg\n",
              "EMZ/mr9bqkGIFS3keA+JiGDLvSMyTeqge+0wtinEKRwVMzl6X3trhOE4SndjNi70rWdJ9q9NNTQs\n",
              "iwKl8gyyqTnRykJ0Sy+LPW1V94REcsmYttber0PGtjdfTGy4S1DTEEx2GD21RrEFv4Qx3+fddGfP\n",
              "klKnONiE4fLFHQdOgsNuJ0fen9U+UO0nmf9RXu9jA9BmLvY0vD2xucXOctapEQCwGzcz/wHZZ2CP\n",
              "WxrgdxvzGFdZV4xvoUPImVmtCh7nltchCnG0v2I0bb56oXXTgpBohZyH4ZNCdMvjS+P211s/PYi4\n",
              "K4nEw6UUTHCI9lioaX/pqKbkdZIzx1WG7/K0mnTSERB9wiNr/r+aa8Eg7kGJl2b4qxxkS170DHQB\n",
              "ape4hLrD9RKKSVutxbEIvsJpNG0ca/t9vQjmHp2AXwmuw9dx2u6g/D22SliHSqcZ+1KuUSJTmstm\n",
              "NKwJ5zIWtG/ncv+Uc0rDu3XBwVTZMHJ87XinivgLHIlkLqo46WfI6csxZs4TzbsO1kkSu4jhTg6W\n",
              "hzNe0Jk639xSk4zWyix2DvhC29EqB1RJVsdEJJ5SkwXG2B9rygUonBMeM5icuReq5SZ3+2IkDXkO\n",
              "LSnAl0Ubh78vQObQWWy/EDMJVGYwTwweETvyMhNbiXpwMa89GtO8Y0KPMmYhkBX5Qp6rB97zTiy6\n",
              "Ds76oQBLM24yTcq3Idqsg1e4RaNXm8NwGOsfsB31yR6Me0WU1t6WFRVIRngceEX21N7IW65zODSt\n",
              "gYog3NK8W4E0IWo5yeC14zno2Hm63gcry8wcPlZiOCkvfwGowvzeDEhPWKuJYopraS8GvnOLA4gu\n",
              "/WL8a0I5P6pUxHmcFx20fqFuZwrmZkkUS28Ci2DwvnBvyl3KRAHEC2HNbjSt8XNc3do6mc/w8sTW\n",
              "lx5/2dMBFPnrAp+lECng5nnrh6mLUbI1WYHGrNZ37kqczX+VZD8+29qYEQ/wy4xiVS/nwF8OihWw\n",
              "ldOSRjqi0BmJsEw9IKoPeUc+tUAAAAODAZ/LakN/AEtyMfj5AAAF1WoM1dknNqfeIU944iVx8G38\n",
              "89MYVnrKj0JhEya5x1zKsa/ZKQ+E/X0EdojWrZOhulZDOotvwDVe9mm/HCHsvUGo5LZ4BbBlp77m\n",
              "RRKntulPi2p/BYrAgp5+jMKXT5df2iDBfE7c/C8HuPh3glJMMnFil7l2Z4ENaKP3BUu70v+yD/fU\n",
              "JseP9CzKD5EvTFMvQ4+hiwnokdMEi0AxHzkQvj+bvqbPgvafWPvQ11WvE+3+W6xk4LRPqWSbwuV4\n",
              "DyMA+F/7QOOluRc7Tmz7BKNVCUic1Mn+DnO1s8Obn9C5RO5SJFLdU2TdelwfQz4vYsV+l98hPgVv\n",
              "zX6VR5fAOqfO/wFnyl/pRX6726UM41un48wEkaTGeSsSMnq0nlOqHDL106YWJKqErzqlEfQx1hBX\n",
              "71kTBS4PO32GuI5XTribGMmCb6WcDMiNI2vIgF2zTwc2iSYmX3ZhyRwxwp1q+iXjN3slMP7J0401\n",
              "3DL72fE7WJcHCWfZsfBd0U7w4UpP8AhlwWDbeYgMmjQguTOXH4b8UjR3rl4Hm5YZL+J8TH9MVclM\n",
              "N6EAhTaLmTcuEft1TSQx/YcOsMU7zKsFQ+6je7aQy8TyHrQJpmtCfhNQHzzZtho+KuVx4B1XiV27\n",
              "TQmI+T38kokM3nIPKg9VuS3CcLiPsUYOa1cMiPpUV5MTfEXmhrbmIaHl/RqQXAGJ44HrUnN6ZlxH\n",
              "pTzzIYBjh3Y9r53cG0H4JSQ6Hra88aHeOgjcRUssIgP/rDo7NhG0Owg2zccbvHJk6MvgfXPGXcqL\n",
              "8lpKLtIPMRL35K4hZ3U5B35kjFrAQzNveHlUgHeonzm10Jmpj8rnFx1XQm9JMxgU41pCqIqGTPLF\n",
              "o2ovU9SU/GdDa6K3fk/gpFruhk105qFX1p3coHQuG/ola0X9hg9St+ScjQVkK1D1HIFBbXdvCuH5\n",
              "aVgCZhXu2OpE8EJBNfVp5qekAJSFyA5WNrY88iobAv7HG9vQe+EBamA0l8vaCVXJaaYp595Mq4/L\n",
              "DfIayhoBli2kgs1+IjuNp/elpAhm5i8czBiz3KqsCe9lvKcMzDh03w3239jen/LnWL1DaTi0Kuvj\n",
              "LVm4tcv5+k/sH9sNKcmoClP7WYU67GiSGtMQincwca3bWalt4Dm4zvLkVLQEopmzj2lLTCR1Upn9\n",
              "+wBhABD+Y8hSwEAAAAMZQZvNSeEKUmUwIf/+qZYAA2XiA0wBGR7W1b+WvX/g4vkHl5foXVrNKHn0\n",
              "Ch+QW+g2krW0YdlO0biZovBBDWeL08cw1DN0RtuP7sPpsf2rLrqw6w8XR9xPi6j9m5z3HKDuX3Ik\n",
              "V2T+j8IytlZoEB/89n/5bQbnK5p4Fbcu//d3kXbY+cICMCdLMKJl8Et3b0nlmfQWF9krIL4vOQVi\n",
              "POrr0JpzffAQE+8BrSecI5rJfT7IOtEVjRxpeqmHlr2AV2tO89snPLwF/MkE5ehqaaEjkbVm056r\n",
              "oRh30MQq5RzMZjrmFn23gyREan6+1nzl+UTD/h4mLi5JAgjc4h+yMYhep6vu2Ataxh4+/vpRUuhj\n",
              "PLSHraVeqiwvZotetFY2uNIdjmT5eh9G6iXz4UV6E/DRi046FB2X1kkx1Zl3h8qAOxMUFzjtWH5P\n",
              "QNubidF3utiKP6c43KcTz02vBI077DHS1qtBEFg5FhuzAiagwn9I9WIWq9UtyL7qtB7/xDYqiJ+G\n",
              "Y4FZv8LVLYbQ9OiXvO85U5zNej7ZnzZZxBoRKuGUyYa/yNT6n45Wyd1JzKVeQvBzuFTfVlC3s2G1\n",
              "e+yVq7PCvitjQneSn9n7Zuy7D5R69qeOXbrRsAbCjkLTZmubhbRvB64iBxye/Qu4HcMtIl0nCV4P\n",
              "q4otInsyOCbNkpBPWKb39VXIW17uUJPiaXBdJ6aJjt+vVKgq4sG8l/tGu61qbKdxkt6JNcF8VgeT\n",
              "NTxGX2JvPwXSet+feERPzDYusjmFxh3Bi+EcLf2rJTG96SrZoBHxj+iXmTZtJrJ/By8Ls14oRxgX\n",
              "vPKy3DtTPBZPHuDYAZIRgwILz0GAo0ZiGjFnTMxo3hmM8jHYOHJIabXWdZVPVXxaUhkg+tUePqk1\n",
              "sgQPie8XB0Fj1tfdgCTAdKhBeVRKpquQRpFMM/Xo1N4XMRJ+/WBPiKdhTwelAdUank9xDu0CqYXd\n",
              "VkvCKdIvx00SM8FZRGqLVVlCiM40fTKkbC7xTSkrCpgZ0cfw2dmtcE7S5fkj1dGYriHxuIMr8x6f\n",
              "qCQEqyEMVs6TgQAAA3RBm+5J4Q6JlMCCH/6qVQAA3kEu4ARkd1pV6rcCkHxker/0YcnEj1wpACTU\n",
              "4waLOMGCJfDgsT+QYEGhy+eeIH2+o/rmSx22eGNlkgnuSZA++jEvs12fMtSuvv1vigatdTH3ZDPi\n",
              "+xEuIl/d/1YKhThSaQ1Q3s656nseQem98ZnfcOk5vY3MuoCYC6FfSL7ECFsjv/UFstX6N2HbQZD1\n",
              "BEXU2O16YdIFGSZJmfGBVX8GAzOy2vCqWQd8GN6AocNy41guvdOE6NdgZb3mAI3TRp0mxqpuZtQ1\n",
              "mnxBAKu1BzV5USv+Dsyyga3Qlb4X96+ysv07jQx6JiULJB9M2k+3TkAJpUnybmxX66hlBMfk8ain\n",
              "kB+BBI4W/r0WKI9fU8RMRN+gORAZO/8Vep2K+ile+Gr2G3n8+0ocrFrhU1fJW9sv3dQi0yFV2368\n",
              "xhcNrxSmv0aYofX3HBYSzWv5I8tL3I/4QI9zmWPsk3FJoxNQl54S97oEU4RHTJyT8P9ALqA7pFyP\n",
              "WrE4dSybSYh4KIlyVOpitYHyZsAT1rXhtbv1lD4LmF0jIbeH4EmUBdESCUBUrE0XdeOwqzgq+61Y\n",
              "GTkoseWyUT5/Q2w9tBqCm6ldMEAIOPO0UzHO7HJW0RB6IAXJ5bb4TxMrrlvsybZxr+uRy2SpSi9I\n",
              "iwVbb8csKzXVcpL06fM1AisFbRlJuJAE8f+SoWQ9Yq5PhAvlBYzCj+4S0EP5xz66LOADbm7IaxmA\n",
              "07IfKDP08FnutclzwAv0icQLy0NzsJOabofi4sWeXhwEn0QY9oyxJ3JTv5X/KgNpWRXUGFxilJRF\n",
              "AQMNbAFBQKCTIPRI6yj0en4RC/zrLolufxZcEf8RS1wslhA8y8n+5Np+UWVA6QiF5jDUu7YUxz3l\n",
              "4u9QOQ2wyEpdI4YDHUKoK/1AOosdMB61cfD5iMSrNJfy2FuqjZN/0jl0GQUYUV7P+IqmQA3iJCXF\n",
              "cf3gAisXKcG7yeuzSQuGg+WuS1CwDc6imm3NhS28e8msKuj7IEoK9Bk5t/AxzOOi0zAaBv01Sv6u\n",
              "vGndTXkkA0gMyNXUQBZPpeVyRoV/eQAdDewYN+8pEHDC1yn2otni4ZXW4OtZHaFPJxPYloPNaXDK\n",
              "5oZM8GAeki1kI+HJNi5JTjsSCEtRI7KC0wAoIORN/kfoM4g9JpqlDgCVgQAAAnZBmhBJ4Q8mUwUR\n",
              "PD///qmWAANlOBMAOPE7uuw+AwKsLFAGJVjmRMu6un9NsTmL0L65XXsoxKs6rxS27O6ciaWMUkFJ\n",
              "bBa1AuJA6J5WltRspA7ihmU7pH2Mcy6iz8j+bO67j7uaDvsBeM980Ac8Yv7GPZeqmynNyEFz2bOq\n",
              "S2wnz08ecb6yg7tk5n35P+VJ/4EDdmoI8puXnWoI0i0nL6h/+mNCiO38w4Nkku6zKPFTkiJs6loJ\n",
              "rxnSz2TeAzWA1J8RbUVtGuK0Nu3BHrFr2ubrQ6A8ftwvOlCREW+Uw8QU6K6ZA/5tHAqhXVR0y4TY\n",
              "lxw5ExYxPQOwWnrEEtWkkYUWvHlLDoF+lPHlV59NGBo/J+I7zp7yHwhNnZsGGzrZOy81M9UoncfD\n",
              "jfnB1V3MGFTKEvwiI1e7HBo3v8Uu8sNTcbWAVrn3uhWQWr5W7IfeUy1KgXyS3QfZBKF2WCG4X6xH\n",
              "gevdM5TCxuP7GFPRP+gjKQ7bhvaCRPk+IuNCdH870NF1W/f56+QShH0Ouxo2sSnAPyU+wnRE4zJQ\n",
              "LWNyWnt6zKbQGSLghHzT5k2tmvBQ2tBeP1aoJX5EOTsqGcGLMAgwveKZ+sfvohZg6hyov3WhjZQu\n",
              "TCmPT1tlnsxOlCD3P9pYveA4tJybiOmYUghlkWuuzzSNKKflAEtfjlTaRm0kjkd435subE0fasQF\n",
              "eTzAPInQcoO2XPWj/31SWF7tXZ1SsiOFg8cdyLOh1XUQ7vBDpes4nnze0COOMQ4wwMhYKE/RacVB\n",
              "mUVEXgN+O2axbfLU/RusupE9F8uc62orfzgE20nJ5CMgYa1PXtURQMmNwLZ1zGQAApMAAAKSAZ4v\n",
              "akN/AAJrXYzwG2AZM4n2uABD7uF0qqY+ppSdaxlmQchrdZM2jr3IZb1jAwWD7tcrCohXS0S1itaB\n",
              "zUmuWb1dthB1XMzvVv1b/3jqOWXMvh9dknFmIQNkOoHcHyBXhJJo+BupW+MK0lX3TKIAEKAdS35J\n",
              "ru14QorVWzTqTcpwo9zGOPYrTVdw2+8XdNy26ZXnzR/xXyEUDqb3P98ND62hWkOCBBu6Ond2/DtL\n",
              "7xNbenhN//VpdLLEZJE4j6FQY6hqtEYDNJlDsYTTSg1wreJaqXoV/AzYuvR/Osy0SA6EyP/CKrbn\n",
              "XExIS9nXgZb2KZMUgSsE0bgi/WwJtCN5T2pyUNwuI36GtQlGofk7RF/YrDu8Jt8yVManl+yVLgJA\n",
              "h7XJbSOzhrWd8BabXpi/qtnngpsp22mW386lNcwJC7fDH0EfhRchv7YRGcIvrXp2PGcBGRgsYZ3p\n",
              "9DV3GFia9N8LVhbI0CZzSLgbdV6Ux95QBriOjFsep7D20V1VQal96Ml7GxYxSlcDeFPYJZ/BJnaJ\n",
              "FZW/S+Miss3pSA/lrJNr2uBBRQbgzhq7M1UNbLscF2coCVt/d/gyxAA3JJf5pJa9diWD0OPkzAAE\n",
              "i/4G43ALkpG8t/dOU7BcFRsl/ZvTMMU7cxUu/XT5eybPYXtlRuoV43a6ywZlqLr8OR2AfWt2wv26\n",
              "lAfVWqb3NHUsk+aw3Z7dBkfrAcgFhdhtfme1IV1oS9S1rZ2goDFLmXUrgxDvAmHLZLwGdcFRkOvL\n",
              "+c0EXNlJ6cEvPMrKbBOvSCxlF/cIwkjEVzu7R75t/q1aQQzh3pahu2RJlpcbDoZagJ9oH0jRpfFg\n",
              "OPU85EUetoXuCSlOllPgyai/whFHSAp+mQAOOAAAAhxBmjFJ4Q8mUwIf//6plgADZY8kwAia2muV\n",
              "y4Vq5Vu0y34AdW9eSrXPeD2eWOKUuTJHWixz8677aUnUD6tUOPvLHMG4hztoL8hj3LS52KH9UbuY\n",
              "rDKD7Y47/h8JYDtSsJ77LkakrB5hwRgaphTZLvBrJvVrOC6yfVvPJkON158e6xVqJdG5zrhqTz+4\n",
              "xuA1Jln9Nj/zNrtb/szkdtDRi6aFAhauXXynGEZwBkBavTsRKpenJ/PTNJBhN6l4DdUeAenBFA6n\n",
              "9fnODH07QHtd+LCzetSvgf4NXpnmX/ZcePozH152KqRxMk4+mSlRhazxDvfgHPn5uCU6uOGD/OPb\n",
              "OgJGZVIrL9k0/9ZfpXJRUnOSVPucZJwV2UPhCwm4wQA31GxqILbxi6FtNdsB6nv5hyTnDPin+jA6\n",
              "AjzLOninx8VOqJ/wkNBEdE+9OrY1ttUTojIHe3abuDi+YLIeiX6oBo8wL3a/6O/IGjbF6Bvv7X1n\n",
              "U7PyVyah/Q0V18irZAcyhquNx33uVVZIVqJeDAQsPSgmXazovAGAIFkzW3TkKkdIyMP4sxi6V/NQ\n",
              "wDbjDT2AThSZZ2q4Gl/3CrNZzsefQH+6rrPQcTzhY5BMJ8xMykWAltXuRsFsaVvx4Hugtg+ZQHwZ\n",
              "+rjSocu1LSCAmeeYv6OFYUtX9sq4qqoejd6kINdVNzo82ZDjJx6jThVfVydineCcB/A7oKFKVqAA\n",
              "AesAAAHaQZpSSeEPJlMCCH/+qlUAAN59SE8AIyPTXHSBNXySKsGZJJyuW98Egs9frmWPSEaiwi6+\n",
              "Pyw/BCtTRDyHBxSD3ITtZiGom3St7WI+yY1KiOQoH3Y20lN7uJPx8Xu5c1A46ebKdgXqcJTd635G\n",
              "VjI7hrTpil7md5Va/9a9WyJMYzSLwXDifGmTViIixI2DhFeo22qfDVED6GNTnCuRRxt8dTrdUMlM\n",
              "4NpmwljNNbttfUYHzDL7U1aFDvVn3sAHf1IhI/hNJso3mIxTGf07E3fBv9CbxS8jAPv4Rrqdt/SS\n",
              "4z7+5gAAC54NYVAu1/BfOOVMknijllBYVZiGY3uaXV3A9xqEkR4HyBT/sOeVXZ4ZTXPrOdKIvkVS\n",
              "9LVXK0b8u1nsBoLO3LRXXtohoGoujjIUJebjCyVUeCeyS47uvU0dvYIqNHoVIGQFh2re6u3CXX0F\n",
              "bxA+BN8hc3augClLdVxZfAaU/rJa/FIYaS7puj8m2JWAkSOf2CDSPsyi41ygcRy65Prs52GApCpB\n",
              "ih1ybwbk5C7uOskRHs+No0DVuJg615kZYzF0Nu76c5B2CD/qKYXmfoxv187xs19tn+xoj2GQUtnd\n",
              "PA4hNxC0gZF9vAZDM/siq9xLpXf1+DlFAAADTUGadEnhDyZTBRE8P//+qZYAA2UocGAETXVgRL0D\n",
              "GJfgP4DtRA/of3isJLbzqk9MbGwsk0cpzz1Q2VL3v+UbkEAK6UdG8EVsVFLLsrocQewuWIsQK2YN\n",
              "3LJ1rPxMPrGGT+qTRhnUpIMEC+uk/tUr6icovUPUFjaIXtXRuXlC/069+gNJ9KEPWPVguEvZLiFs\n",
              "tsZwtg+aiyF5iDFmQ5iq0SaFU2F/UKCezDvtndoeTcb5YPeEqhyzE/NgCl+EbQ0NSq+MSJv2wCdJ\n",
              "xH4z95Xu+x91sZW86BsFg/tacAb0cdYAmt8s6v73K3n7bAkP0TXzbLz1bY4nI0tB00IdDMX1SZCZ\n",
              "5lyuayd4LYVAOkxlLlsrImvWG5CH2+e0oL3vXcfCOsQxVp+KuupU3ZzRkCQo3C3rW/fX8FAc77km\n",
              "y1Mwan4h5JXkCIjekrkxSGxClY7gtONyN4iJKxzNBuBA+IqQi89ku9q6B2/iUaTE9wWeZJDlgFcd\n",
              "45ejYKrhBWuUssiWGH71vT+JvCbkGoE5+tlaINb5lPKpJQjwPc5hVXsUNN3F9Z46I8m5uNqoEN6e\n",
              "ttTKdSIDVPYwScFZu5OBVt5wb5ssDe9u6gNN2+m1BkAI+reNwIGCwiBRHRg7oPxVgxDQcUF1hgjV\n",
              "QqFlfMcXE0ttvyA+JL6ZKvHIGF+RNQuSsnxe6vCHfkQQjVeQzApZTjZ/D4eVySZjS0CEvdkJlN/4\n",
              "aE7Iw/LlaBDf9tufYUt4Mnym++8miAJetGEFxNnFR6i7IzWX1tT8fyK781vCq6kYIcktQIa4zviX\n",
              "bOmjhqSfj7BuK4pyhS8nkTSY3YBwSmEFqYSPQ/ztaJn4W2ZKfJTdZAMMaYfKSIQJ2shsVfpgbjuc\n",
              "H40+Mj5Te24HSZM2/Tds8rE53F+U/XLCnKHaXJGX9KulcYVM/8oF/qIkFLeaZjDEN9wQJIajMIbo\n",
              "BCg9Mf2L/x8/G3n+1wmMrVLCveXS7Plb08MIkU9SOBOaOydmYIC+yCAFGE2L9Yu2sCclUGixcegO\n",
              "2FSeUJWScF7iwWNmb89XGHXtcTcOvOrxNr/h0vPLs/QtdKMacUPe2+bv7hmyEPF5DJuNaYTDwFid\n",
              "UduqPvY1Fxhu+edPAjlAAD5gAAADSQGek2pDfwACVSAABwIAqPXY+81AH6H5ciAEFUv67wORRaI2\n",
              "5yClx+JdV++BZtbgg0KIVPt8ThUa9RqHQKbecN+ZE7VMwcmHif8GyY7JeYmKVEU+I/vhhnstnCJK\n",
              "Z4+vUmBlygIaH3rreJcR6JU3kCReDOyF91zL9J40EajXYsyvnC0c+pp6im/KZwXnCoWgKCdvefyK\n",
              "iO4qmskBnE31ut8heowGeF+mDsQLj55m3u8uzRsANHHWb01/aSxolFllWCHUZn+sfwdBF+R08Qqz\n",
              "hgDWh5/TTNIXGKKSb2J569I3/foVCvh0vTS6APSGiOcGH5wC+ekqNxqey0SU8EgLRZAn1QauuOo4\n",
              "vg4amqQmW8Ugo6NPdy0dBf2OOPnWqRopSzKRvJW36yRgbSmxRk8DWo3Wo+iHh0+Xsx4gFyw4pB4b\n",
              "syQLD6BCoy5Vvnh3A4s+0NmzYfN2CIaWmDKSGs9DCPPcxjtrPoZx9tWi62idvH+dN92xral958Py\n",
              "qQsrEqqcPjUYF5yXTu0Hi9DUPkCeJDtr8LO1H+dBgscnGksGrtdCMYsj/EQ/bmn9b6F3qGyixubi\n",
              "3nCyGKvZk66Im/LvOX53DLTsOAnUNt1KYxDjin5H4knrb4ABI3Fk5B6jEiLLAlTAhMPc9YMeT8FH\n",
              "JPdjoErHhrqUSe/4VzHNEkSFZHUSkcEDhu+vl7v+avjMvuCKlLSUNufLDUD9NeYQrVtDnse2q69c\n",
              "AQqkad38Sm2iaRg9Cuq7sJTpMqbJKhrR3dkKVon3Cj1+DqusJwupUqZNpl6oYKWmVxj/6xYN4pjk\n",
              "MF8yfa/j8ps3B9gq+X9vMMz17s39NbTupw6Zl6lc7+6aJAhXCpuQxw+b13wp6tgrAnEWxdbUIOqF\n",
              "LGabwx8CZ294namIAuVFr+ch5gtgQZrt8w8ihL/aI+BmX/1nUdfxeJGdvhP4y34GPg9d0pjxo8n0\n",
              "1Pa/uobffVR6QhMXpZzEPYJxbNt5Xb932IMWB9C4r/rdZ7RtCstIDS2g665Yx97Rbs/FnkYsc0XA\n",
              "qNysY1DUkO3r83Al/xrzKwGn7J5AKAfnU7aPE2jDRZ/4i7BMLVGHeqeNr0+pw/q0ZlwfCSLMVW+M\n",
              "vz4E7A+6m+AAAANaQZqVSeEPJlMCCH/+qlUAAN59K88AHG9Z3yLd8wte4OvBstgberduSDSvUjjm\n",
              "tfzwa1U4asc0Bj1YXB67t9raSahijgJv9VqPIzwB2GUcLkGurNFRSpilzQDHIAPl3c4s0dcCQb2J\n",
              "JmM+/bMWProCS7ID5sxBIVDWqWa42Uzv1wl8o55KTCF/u5ZQeXrvMTiNv90AqUcc2uu95qwfapbO\n",
              "qoRgNekJo0HV8Qvn9BCGmqKve86xbf1G19ptwyEdvveiqqTY1W+VmxOzawJiqOWD0qRrVOiPKwn2\n",
              "JVdUC4ld2CKshHS6GuXUlsZoWYZXT3ss7ffPvFxMRIMxZUkaMUwEYWyhgemz/e1xVIVhywBqzwF0\n",
              "lRZ6xb0xFARkIJRk8Ade8dMZIHQFOgk2xaEL0UADTbegdjXxu/ch55hJAk77lk4nn2Q2ZJ+uNykh\n",
              "6T7uJBzssbWXCn0Ditro15qwMdgzCTe8sqgn3x+Kt68puBLRU7i8ofmMQthilYofALK4ibb8JcT5\n",
              "15/g/+HfItMvmvOIGWwl7GWEyc7Cu/rehVAEkppdb4Cm4DE4bKPpH5ubGs99CZRUS8z4uAsjY91G\n",
              "2ds01ijrYYCm1RyvtR3uTz7dSNsdfmLZSNvZR4R2y/3z6K7lLjsgU/NpT/dIVoHXxKbb7OV020L3\n",
              "jyDh1SC9ycohagRU/UJlL2AEAg8+LKQ0x7nqAr6G3v+njsnn+F1q6BkM5DM0n6Tj4Y7Mb+H0nJGm\n",
              "cnkUh0N9Etve2D3FvVrJk6IQCdzbjiK9zlpSNmhJccse+Yqqg2nKQtxva0DaIF395BFHPcCbN/SG\n",
              "EDQAzL8xj0DHWyGIZ9gIgnxlzq/oR6+jr0tnMNfUu0OpP3ArS2fNGwjKkkAaN+F6LH7fzRqtb0Gk\n",
              "jNfnwPrjhd/xtQjjaxiYlmO/2iYW6tmQqC9eTm4Q0lVinWHXk1CIaHzFjwgbgtyraKqDOOLfLsSW\n",
              "9riCYa9Mh6hL12Sn0P24N+l0REXdWkT1/NbEFj9/GjKNaJV1druuAu+xQe3yW99/AJe+zT1hiwwE\n",
              "ijB5RHoFshH+kP6B7Ll1FYpmF2ERb8IzrHT1VlQtzvwZkLRUNqsp0hRWkWnEW2Enoizv32DUOjxH\n",
              "7MXBtcuVReQqY6Zt4BCxAAACNkGat0nhDyZTBRE8P//+qZYAA2U01QAcWXiKzQ0EOOHZmwLW/Wmo\n",
              "V/98VD2zKYRN5UN8IyX0HN8UVrsu3hf3o2mts+bxsMiJyE25PmrB8qnhQMxbNBEMdTIfGtypXups\n",
              "M1DGjiz08j5qPJlwszAG7at47oE+iJ+l+aHa1vi1H52oAGlCAq7Km6yGLIVrAcTJsvkVxsh2l6Ut\n",
              "uMVBXhKxoI+/4qeR70Bmb8fhjMzzGYeGyv1NJAaDeUiZ8zc1HWjj5fBQjZkORzcRwi2bsbA/9pwe\n",
              "IrqqQb2o+5E8L1KGnb7gKgdWnQ4r7272KOoMETP8DbnM6R7OKFf3OdFR14zryLHW6v5pd1ydBjav\n",
              "rW5ynFo+HjOj7lGgn0o9eVU/9zWIFr01sXr4/llNontkgwo2/TXLLn0WgRcK7qyiprTOBPW8svoY\n",
              "b0wrlKhNkG76uNz9C/t9pWvw7hODnOmaA5dfZkgCb29mGtiZavcehDByCmcEl19FBK30uMjPQ+hD\n",
              "/nbmE9cFdM0u9b/ceE8oHNBNyR+qONI6K5px/tPgvVQiS8q8IJDXVxvCD8k98Oni0VkBvFORpdya\n",
              "RjvQKOx0azyOhzGOCJDnTFLqqOt8lXOcnTeApSedye+qV7ZkpFeB7PpX+Tbbem8DuR3qI/lmQal+\n",
              "5kYd2fXPzdn1Ugxay77nueMWR0crT4eIBXUC78MDZX26cthWRUkYg0svuF3vftXwsaNgx8xJSXMQ\n",
              "hQcOYNEj7RZ0HPG8/49IAAADAAGe1mpDfwACaxzJACWTETAvAD99NhbeVetyqD+Vy5aL3frnoNoF\n",
              "zBNlrwm60Wp6/S/VWPIo7uKnUhjcZoGAP8zu28r+25Us3AX+d4ZOCPmKdyPbglZbuJRQ13Ju7FB4\n",
              "CSwvO+nwmQhCZSQxZioZI4DM6vXZT+m1JZ71qgZ/dqgt/V6o+hymp4n4YbqPLCS0rxcd7WPYGZnB\n",
              "LoNrdOVNBtmcjacICxTRTg9dGAgR0R0HrT5UzdtqEqN7oupUZQWRsLSkC5eexWZbv7bTyPz3xX1i\n",
              "1dVHf3yZY/JZdGtbsIdq4icAwkilxfEIrJiLcPOc5KuxHpdP8VBfPqjStmjUUOyGniLKjR3T9Hpk\n",
              "sVuB2BDLkicFy70AMROau33OoKLivK7t396KMde8mupYBbpq3dMx+z77dt8KXX9pdlXt5X/V4tIg\n",
              "Ci1sEMsAbIsXOKUuU5AhquFbNanKFGFnPQQ2jr2R+j+Am8jffsH1SBiEAop3yqxhTMH4q8MNLTtt\n",
              "BUdOUZHmCtWL5snkzGk3NSAIROimJJ549/fygubwWrftEQ8Q2uI5xVRqOLeKIw1j9rDDNcFR+5j5\n",
              "A4keYr5ZBFbybODpZ5W1NsB33+rLrGA7UjP4gal9nMU19GyxR8zQktmSscFZQy15hLwGtpPR/AT+\n",
              "6WHvTGrDHACU8ZZb0M1MWXIXRaOWpaXNcziYFkd/DuPRgFMvVi0cQZR+Fhl8OMHsbEs6W4MAJilk\n",
              "7T2LraohX1X0Hh2U5e6qalkL6h5/WISTStAdMC/fEWVYYUo1CmQgxQKtn4yYV+8Deys9SsvW/2hV\n",
              "/73vVtZL+dtRXupLfuyD2xXc34ZXHeX04Nv7IqvTp4YhL5RzuWjtGMM7R5eZQugJEjlGNgYVAhZm\n",
              "Fxg5cN0LbL+aExduPGqClcPqCNN8J5A9Jypk18Ax+kDVkS9YL6TaOJ/JLCtRugKQuWEPB3KAnJl1\n",
              "bNLVF8ZGL4kBHVIH5UwTPFV2e2twuccieXu5yA52zh10eMiym1+pIEwIK0oxYQAAAz9BmthJ4Q8m\n",
              "UwIf//6plgADZY8kwAbsSRDIahb5BsWOgBDvABKWFe1l4yceHaOA3PkchyLAj0+fpoiRYaDxSvPK\n",
              "2rqJgZzHzZG6bx/9bGXZv1NsMZWPgDEdSUcVgV+cxhPjjE7goPrr3NuJr6GTOxBSRIDMjbo4A4nk\n",
              "3gHr7suuyQrU6lO1wvLL1szJs/2KlhKNL0x3tKgo4IjaFSF5DppGw5KJPnftanwonltPvZTzsXDm\n",
              "Etl2prdSZ0dRlJl++/i1yF9ws8qcCI1MPdXDrngmmHAyBWJw5c/scW7L6+doDe8ZIUD98Fashhx8\n",
              "dfgKGRGIOv5u80+4V+jd9pnW389Z7au2QUqZPTQQ8v//CXVFhLH7sqNbEwGynRYKtQdvk3NSffDB\n",
              "DimeRbmCqalWpSmOKCCLWPqGvdGX4rIZgci2ju+jXcS4p2IpJ/Stq+Dv5Xr/bre7pLAad9gy5taR\n",
              "ttS1JVz0CXIFlh4ub8DGZ6ddTtzZzfgWuzDYOZkeeqjC/vtMGJCaGCicPMmcMoTrSVbwfXqWQId8\n",
              "KWivqY7uXRdWaZ7hF9Y/URmHePodaO6kxK3ZAv9q+G/c7DkuddbAo/xZRC2wE1UT0INKSY5Lb0RC\n",
              "CqQ5W2iSP2jNudOb4NZeNpL/n3TDiToOebw2o1FfJodrTifXPY2BsbOB2Ca5LXA3HuIBfq6ULRuk\n",
              "aEi+j2KZmvTSUlm5xeNpBiNWKE1P62RkUdDKnJz1EVL2Lm6yksFuMcUmNKix+Uyw69boHuzQTwMF\n",
              "H0dKmrjGgsmvz6ob9DtiFVcP5YYj9/O7s9npH3GRrnuPER3MQHGwESnUgYr4oUQ0RyirdYIo3Uvm\n",
              "d7p80dgfChsV0h6O28eRe6vNCpFle8gvf7vDX8kQg9zHIo+a8saXPx0EEfAy2LNsiOBTRuR3cns6\n",
              "gsxIC+ZyfYJeQzJsINkC2m1YRmA3RLDbbUMiCCdDT/AA1RAvyKMc+niqIOCOmUkifs1EUO+5PK6h\n",
              "xKEDNg51RWUDuiGrm0fIK+eRLWA2oGASqyeCeiNlbIDia5p20VkFHg7OexayzXF3QIRLns4Mq159\n",
              "Aa8W6xGz7k5pACJSNyg/Vz7mUbAZAzmZQ+cAAAOdQZr5SeEPJlMCH//+qZYAA2T064ARldlXI+jD\n",
              "KQzeLg9mjMtZOUTkfCT1G/O5cfpxxo5t6u7i10xzsAqHj6iXE+mKfncyTiccNR0g93xK2VW1r3CQ\n",
              "j8uNTRty86t5n/7rFY7awNTVQ/h3WKOi8NcqyexDEHxE9lWyY4/La36V1yInpCMLbgIe5dm3itey\n",
              "M7WtfRYfy7th2xdw0yNZknK2/VEEDNyjvEragXzISIOF5miuU9s8DDlEwZEJxX6mlPd7HxnALuaV\n",
              "lzqutrvJ8GGTv9zmRy6MqWK4b+/Agy5OveRXS4b3iO3pdgJlIOUkvaHodsNk31HJAujr3VB5HB/o\n",
              "sMfRYQP5FwKZC3WviscZAK/59YkagmOPqxOXxuhfHoaXE/GkDOdy0U21IU/796lI2bqA4UeF9Ngn\n",
              "6Ta3nFxJpVN/GbL1bCYaloBFmrP7yWxRg6ut6p3SF5hU/GTBmMQZ1xiXPOiQZi5gxzSchk6dzDbS\n",
              "xTPFYClfhFOyUj8n0N8myJkawn24RpGlN1cZXUuE2Lq0FA3sRVnC0gv78ZxKvlDC83Y3h/l9GAib\n",
              "i5+Qh/c7G9tcXkCSFfSHDNRwWqL/zp/M48uwrvyEWeeVMCDyAL88HXCC1qqbxC1AN3xH1em4pH63\n",
              "X1tF/lseAxf8P1pUMnaRaa2pcjI9sbbfXx1FVlhHjeHD1t5lHptU7BpAH5cmqQwz4gFvO+sEFWyH\n",
              "7bO5HxFtW7OYKfp/UWKhwC28Lq7j0H2981Ur1qJkeseSD+aEc8u+lTME/J7u6voCeg5NTaT6kDRf\n",
              "YV9UJ80UG4ltkpL7DJ76DwMKrlxWrTO9/+KFbn6vIJYhiU3C75OOA+yiE09jYE/2ePAlc4LCDxw0\n",
              "XxX+Xh5LqzMlH0uY74eSogkwAvsvJeVVnNmRokON7FROQd0ndEgC7waOn5QNxO/eRLEPeIl/XH5Y\n",
              "Px2dwAWlhwZ0cDb3XGEi3tPMDVOYbbhW6QEMOfSlUxkZoW/rrfeiGTK2oyXsJFo7yQeIHRGcnzeU\n",
              "StO3MCzL+9Y47cuVwEolbq0CesosftI6xthzl7LLX3faasHq7P/iLfKaHPMdL/xt7DvjaAiX8nNw\n",
              "CPYg3vDuvS/tSNqDqwwyxsoOR0BOmjtUPT/wWp165CRVSWuw35qpbs1alY1hTkWZo5+J6W1GyX5A\n",
              "0sSL6vA4hUwuBLud60duEajV7RQcQr4HAigIZL8BRFcFAgv6ZnZjT60/4AAABCVBmxpJ4Q8mUwIf\n",
              "//6plgADZPTrgBGVtOjOG0mdCELLxM8XBULgpEsgtgzuD8/tGMgEucQ50mUChzOHLMIBatEujwMT\n",
              "s5igVfmR4PyZB3F3L2jZ9Dsaq58k0tI83QGuQRRwcC6KQZgSUttZkxyiC6Lr3RdhvpQiGTsCB3aX\n",
              "byc4dYq2zrNpGpasaFE9mXnajwHzPIr5jliWtUHUmPosLQ0HHVt1OtJDWI9Xj2sork3FEzjz6VeT\n",
              "tCVuGppIs5F8Ywsb1vQtOt6RLWc4RwZFd5ghFT0MMDinwLbR8PBugxAUSKlb7iSvSq0JXSTqNKdB\n",
              "30PiB4fqyiwzvFGPetRzENcFqmg52lHCnHMX5gU7a3A7eklbciJcQ37CxgnMMbsDevX02bZ0a55T\n",
              "iGqHJqhIH04G/P8KSklzhxnMmt0VQL6rFtjTWBeW53LX8je85d7nHGJcQh7o0Z/j+C73JlWvKWfr\n",
              "OkFrPzIRdy483ubbcikx2G7v5eovqwQGBusQpTmbvsIwFmMjNHvs3a9iG6ECR1uTZRGNqypMUSY0\n",
              "ml5IGdW37h26mabLseAcYRhImEwv7lk9OEeMUCXYy2UUMnZPONUkNNHvz7PsC+GnNcxA2CeYAprO\n",
              "JGgdzJ6Fb8RHV6lTGLAF3EqSUorODH3DRQFJfbT8B2yk67h+XpH7MpTJtwwd9gXMvLEzwEtP6zTt\n",
              "ItNVa9DrlvorswM5Bp4sEx9+80DeS4HUkio9okD3bilFAX+UCVj1cLpevCp6+Jgs1qxvwlUGcRFd\n",
              "Sdi9NyECxzQlR5VeV+N8QE08JuhbyT4lTAbxfl6CxtvZ0PbZvuQ/Ii4oJ0ehwa8eMKu5N4Z4l9nD\n",
              "+LR8bAKnZofhAMlXEKxx0vISrMEW3/tie2//uHsPAabqIDKC87hoQ1NW3K9t0OqtkEnDoj3opi9I\n",
              "q7l0VScn3bWu/OCBIrTVij5N+I729Zyt9ouVlyfMTy0rg8BNUsYTnxVHUUZi6cw4dswXFJUQIJwo\n",
              "sqL7O9/4MpOgjZrEhWRoXjZIGFficGQFmc4sEla8++kahFKU3Md2N095m3eFtsGVIXmTturzCh04\n",
              "yMg6Lq6ofAtNHPE3dE4qTlZxQj9KkO6aXZGJdvg5I+UcqaJV4dhO2AXpBMaPNPMTo/k5TeU9PklA\n",
              "QhTlLhWtZYRoWtrc+0IuK3aGsNMO48PzADD89fmPItiqPtZd+eOdf6azwQlun64bUcAwVFCrKKUT\n",
              "aMJuypp1agA8tQVtbCXAlij91wppEKC04bPvx61gy9VhS/jDtqVh/xnk3T6z+mdR6dFLiyrVnSeq\n",
              "77Nxj/pwSbfZScPFiMMNNYIPs5duJJCatjI+vSh0pwHpUnMkHdbu9KeTWnAStqeVMWAynYnUAl3n\n",
              "aWDuFN6vj53YEWJIRnKmBHafhggwisYdUQAABGBBmztJ4Q8mUwIIf/6qVQAA3kEu4AON84vt8ShP\n",
              "FKu094CDa4hOIkysXcnO4v4YuARqIm5Xe25PtL/UG8E3bTVFs/gzGytko9Ua5AZP6I+L328V+9Q7\n",
              "YAbHCExabBl6Sxtcs2liCkR4v0N+KvqdIkdVap4Mmii65UZedIcp+6cEBTeE1IPUgPhY7o5yr/fy\n",
              "/my+UHe701t2yVSoi/skjC829JlKua2k8c+EcfbojlQGy31gQhCeEf/AbIKMI5LdBmrKJrIHszw2\n",
              "NUjF5tWR4ikvhiL2OsU+g+QXPnZHYh1XfpAnQkleaf7PEejnXI+rl64w9b4RoHCqGIIzdOHMif2A\n",
              "WznEOILTkE1UV3sBbPICB6Jn+c7RSQUAKdJTk5d2b5Cbg9+eKhcECHKNKaCYtjfej/LSiDyTMosv\n",
              "dslYIlKmzMk9ZemzvYFRigja2D7ecizCHgpH74ZinBFrdL4CEGa+wv9nmxZggidMWCRczIC7pp89\n",
              "dz4bb1Tgj2KNXmQnVJNnnaWswGKFHwOta55evURohKBozTN1xxE4nD8NI//gIVRPBhLk4zpDk0HM\n",
              "26N5m+01VO7G15pKuuvYfhaOKGewx5TN+PPsJhJgzMWwsFchFMDbNrd3oAtFw7p9bVYFa7nUUX2E\n",
              "E8rdoMDEbxgWmIYD6nWks6DeVIJ/Janf7OY2PpkpCHqTyqFlzJ4+V/xwExkFXM+D8Swgoxnd8IhV\n",
              "NN3nwXBqx7Y0N6zVDFwxsE7pgXoe4PoZgxeJvBr+dZ0vLWe7slRwipfKiUUJ9uiQbgESChJtLL4f\n",
              "Pdk1/8BWK55+7E/difesd6uIhQpt3omTw/xKabYpuby+NKKLUrAqqjGjw3eZvRoYCyckk+PgtK7P\n",
              "qpM8uyJHI58KAYeCX2ensi8tyKbjNIqVzEWuUngsnZQ3+bwXWLPf+BwhuTmhhin8AXwiocchHaKh\n",
              "X0vPYkfRfyAsKmi1NuCqI0LcEiwCiDA+cHdJs+SYzBPDFZuQ6zEFbxo71D7PPsHacyHxGo7uva15\n",
              "pMwUiRenM1q0SwFFajMBGen9hmX3ChQmyie3rKJwtBzCHJj1iX1u6Hcay9yfJ3PN2dbhFp0N1Txk\n",
              "IHR3im3IjDbMsEcCWiDWldtn9rtFU22m08lkYlVZNXppo/dDcyXuwsv5H9KbAz+El/L/hXr09HNi\n",
              "qErY43FosKA3sUvJOWgFhI9P2/ShWwXK8rvk54TYWieCYuLGBTZ8KpsmcrficXubAb1XcQNXpWwZ\n",
              "sFwcT3tCn+4pl8j+eTAxtn/x2yoa8UGb8DfpcxWdSc5J+n2ZCvTjfKjVvhBfIq9T3MebsHJwxaUu\n",
              "PVzOGfRWNGZslBMzFKUEu7nJVMvy8AfvYSJ8tACIGdo6C1xKBDsOCv0unD+grFSQCFe7I2fdpcfW\n",
              "Fz2fZO3mj3LzxiTYk6UcMIkSL8x9tsXxWmGaLxBGhT1ycoPIRs5phwLVgu0ivT31/S24i981Rdhr\n",
              "XlAfbquEvHTAAAAEnUGbXEnhDyZTAgh//qpVAADeh0BMwANiIYfJiRGX/fK7yLf2Qx/gl7Q2YjiZ\n",
              "7AkYn7JuZooJq34KoJlOT2OFC9Wy/ktTEoaS0D+6P72yc02C12G3Eq69BEOdutqt5L59y8MHL9Jf\n",
              "AJ1+jubHe1C8xMNbrukm5MHVhES6kS+f14k2c4ana1YjblyWVbfaWhaDls7uxStNVQcgKoq2s1ZV\n",
              "yewCyXRt5fDjqNXHPadD+RQXRp1aOlG3hoc/Vfeor9QNyQRp2TAVM9Pb6wdvOWXOlwEamWk+rG9Q\n",
              "403gW8ffD2ra9hPAUUl06cBdiIEL2MSe/N9T09FyHefFbho5uw80qx7Egkp/iO566nXC6uf20jyz\n",
              "LwgAwaGGEWBpJst2xXR5PBKkx5OPiAI5rLlySzE2r7VRTjxfrx0twDmYKZct55fufOA+HLockd0F\n",
              "U8uCeln+/seWIMw/cKnuk3GoVrQlzZ8j61Jb0AqsKvUzbhA5wqvSy1bvUWV8SEgUDmiO6l0Mm2QF\n",
              "SsSnLzeP+phvg9b9oZnqKgpIbXn1DokYs4PGTVbCv/YTpgCbxvCWh8z0vRrDhQoJDVWq79FM0o43\n",
              "sGcTdZHZlicwFCXG98dgNOBxpHVh3A/JEowQ/aRyTh6B6IiUyke1j4Cs66Bqq+Zujoage0ujTxkK\n",
              "YNVjMz73bBKqHikJf82lP+XY+byL3hebXnpqK6cxNKeMdjkCGMVmD+SQp+SfzdH9VV5HgPDXnmiT\n",
              "GeAcVMib/c/ZvZ/PqAt0H67v9o1H45SXOTOOp9WWDI3HoJh37tDHaOr0zNUDzlUm091OuclZPtjc\n",
              "dluVmKk6QmIXR8jkCEKgjL9gVWrzoe8MmKFJ/6FYP9IlQcp8hi4EVygLipAKIxqd/Rnx6gyO709O\n",
              "1z8AwGJAUEvq4QVVxbuc+nwVSzmIJnQ3eessRqTyoSDXiDkgTONfI/nqg4Y805dsk9xE8ivS3A+E\n",
              "u0+0ryXWAJ22PPMkhSuAGueuB4e0B5KkkhH/xqde156ZbnSoFrQ9N4t+YnRXUsUQAt72EuMnsZTQ\n",
              "40A0v+eKwCV9KwczHcGesIUk1p+Ltn+bJ0HNESoHBgATPN26GodEkkla4RI6KlFgkPvQxZQWvCBC\n",
              "VwsShSmbREVucJsB3VzRQ8N01oviSI0opPbnnAmBQ9pADT8JYTUw+ni6247EHHUhU5N5kN9YdJNv\n",
              "SLHWOTLlDjqe0kqEOxgFMyE9Z/8YTMkf70bWFFE1Y1z8jaAH2zE3knv8lY4f6+FwfEfoAvehl8mO\n",
              "W9aMZ23EjM2AqtIB0ypzoSj/tfQhFwiXKEmxRfgQb5zPaxmOdxnmSnZfySHh0g2AZ+JqV5d+FWGN\n",
              "r7vDLAI6qpDdM5mQnCmyAC05VFr8PCsWihU9hS53SLw3zt3z8uxZ7gzhQIyncmQR61tN8I/BCdx9\n",
              "POIViPrDOLUX6IK2ejawRUgra8+q86yTmyvyDNiCGC8paVXxsGHYIQuUqe2Gj/t3M8FGQEncXXS9\n",
              "/BghOEJf3S1y5w6gHINl1qavpYxFaFVY6E0eeVCpX6c0kYHck5BvyALjc6BXNxapO2REjB0xAAAC\n",
              "XkGbf0nhDyZTAh///qmWAANldhnwAtoywEAQfI5565RmRQZT37BMgIwaMbNGj8ZjAQS0JNPYHVpp\n",
              "bsmxeV83DxbhUw1yPiy5QXxCqu3JgkokKre5ph5LRcFrVpDjz4cqBbgC1FnkaXCmIIm1JXD7ibGo\n",
              "mRLKUv6Kv1ZhPQJCBJaBAyJOGXpoTVgZEXnNsE1f6FjeqHcN0b6JLtt8DsAR/MXVZGUq+0+bSCCy\n",
              "T4glfoSEYUfnZeTlgnEVj+ZRa0vdbW2uvHDcpmuEQWXc2Tj2rGXuagtE1HG3Z1Dfi4P3qdoYDJKG\n",
              "Vy+GMmEAaC1C7+R/Zz4EE8njInLtWQT/YG3kvILhHVcSu8E7GZGqKuQaUG6bzbkiirdcFEGKCi5G\n",
              "ebFW2cGa1v29VPqxRPf0hhlFHRR/b6DQ5imG/dBpZp9FC43CRShwXTAvL6cCWWQW9/JLuhOB99Bk\n",
              "mhqCF5B6sklylQiOaxC8IZ3lcPbDkqhMhDKBJxGHcrTDS6rWO1xQMpgETayrWQfrp9mVM7L3DC+b\n",
              "nZyshDK7KXGwrSJouTJGyt1g3yLv8fY0+Fydviyj7UGHZMY7KNIIsc7LMxG3RrjTNcdtAutN2Vlc\n",
              "iDe0YuVmKA+fsk9jk9nM3aWvWX6yI6YCmypmmVzJcYjBEW+lNjjx0eLivwLgL+OJyNt2P2sFah2h\n",
              "cVXJPVnGDeFfPHoTG9Bgg6ypo0B3SKxUCFT3vDqY0lH2KMgrO4wqDa5weH31Pipbs3L8zIEXDZZz\n",
              "ITtGoqYygj6TQLSDMtU4QJhTqqT5Axp7VhwtdZHBQrEmKc5HCQAAAmRBn51FETw3/wACaoP0NIAS\n",
              "yf8ZF7zbz1hVOPgT9S63vTp/uyscdHUk6K7lQ3IaIz0hLEdcKG7UPQ/20gQtgYI2yT5gr9xvkD7W\n",
              "4/c5H6onVjS8cb4gIZvFgC/luWnqAh/nfltACeNpDxQ4sLpa+DPyp3H3s6Tjhbfy7syJOTfRmUxO\n",
              "2Lp+5ycFjJcZLFbELTUvUpjgc7oFLq5j39DiEBg4Rr9vEDVBMABx6eWKHN/hsbW2tde/9lty3nvF\n",
              "GaXmCiZWTHqiK21lUFP58QIjMsJXxITJJpdUpDHdt1nKfmHU7nntLaaQIMsygqMPxlhJMl7UvqQ4\n",
              "OhfD1QROv4BfG8poEcypWHoedG9T7/eoxShq8kp9fAIEGvOz9HPX/cizqyJcAZdF0ebgRemXpsl4\n",
              "zG5t+72XeO1MSW+SWtP7vsyFP76xufaylO7Japthj9/ahhODvUBUoR8FmkxuS9tTCrhJDjucTM8+\n",
              "W8cRgfq6x/VTPJLY3JqujO099jKOpeqw58hqZPo6elfNL9jwJ4RzJso35D7lErZ9+J3FQpPop0qm\n",
              "DzHe1uFhF39GG+tDE60OP83+fvDRv3if5ORBJF38ICLdKUMj+ftYprJbAVsixTSUej4WJ9H4OSxF\n",
              "pR9M6SOsExdHr7CExQEQYb6hBmGhTgZ+OrIiiViM9reIeTBxBVC/WD98sRdBQflFaPDdBlHhFMm5\n",
              "ihxns1ED/NPosa/N/7Yo/7yWGnSekCaUSL0oVobBi+tiKCiq8UzQHQxYWx+wEundrSboRANILnOg\n",
              "1w1Ww3+CcPukziWj8VhiDqYTAtE74b00BlQAAAFmAZ++akN/AAJ1ZbzVWVtNr8JFQAhR8sZUIptZ\n",
              "0WyjX3iueaWtA3Cjla4x0VGvElqCIaVpDwkQ9aqujIou0TTJlbpOZn3N5P3PLP8BFmweF+bC2LjB\n",
              "h2gOpXyiX8ExnLb2dw4YuG/s2p7TBDj0t6/UrAUu+XtMqjJvEu6zbPwhm0b7DnxrANzUf2lp0iBY\n",
              "BpxrlS5Cs0LFarUfTCtW5LNRgKsWELhUJF6b9LP6jJJalmJZV0df2A21UgyN6xh2JUUDNqGX0vLI\n",
              "oGD8zreUdsR0k01jvru6qhjfSYVJKru4tEUYdyKF9AJMC92IU7CdwjB1rt76rrP85GOIHZANwI1l\n",
              "Db3QyOeg0vIdOMZdgWCF17kR6zbAB3HZbKWg2eA95I53B3yglU2KHgwFZpZoTYregbdz+kgth2Ah\n",
              "7iSXRGQ+pi2bHGpdpWlHznQ3OWZcgABkM9K4cFoProrXfV8/JUvonNIbfPAmYAAAA+9Bm6BJqEFo\n",
              "mUwIf//+qZYAA2gmSuAEZXZSEYCwwXkG2AGpvK0OHnioOOgLf/lXGTBkE7+/19oCJlcmlI9rDUWZ\n",
              "Tx4Xy+2nRNVMggs7Htw4T1i6dwGPHI2syOc5rRYg1j75b5Mig7TWcLrc44M1vhdrPLvI2r0HqDTL\n",
              "hjUQCqw4XquyyfxyQTO7Gss+o49auFa7yHTk6lszbam+Z0QmQl4XRrhyIxhyveGWqbYNG9F3/MrF\n",
              "wrZ4j9ZBPjaoH35wOy4GNFngAZgOdoEKkeb3wOdhIYS6mczSqLqnh2Od3Lu+55/36wpFuVen19MH\n",
              "oj2Baf3ydlKZ7/+40TRe86/GjZsERXfNfP1pdbeP6C9pden4t5LKSalANMiZLTdJuDMmHu/fYymD\n",
              "GDiALnTqlXLXIKfIMt1NATg3U8sDmzHchiAGJe8gRKdlEqDYCdNuGBJ/D4SIrIkYnl1xD0eVWzPz\n",
              "9v82ULTQ24ZrEnOSCIIKwNfcZ3Oa42XK4STs4o2KFVJFnCs95y3py3XcpB2JQtndEVSCld3HSRvE\n",
              "9u6qfdKG51ZwIPJHTJD19bR8LqCv3qFf/Y4N4qYODjpGX3pGyiD2MhOkQTBIAwDav5edK2m/672Y\n",
              "m+fJDtp0sW8mW7qYmpSA0lEa+3RBc5kDe1KL3JXcghFODsLQsXc7sMQhZ4Q+cfZMTdTxyG5Owjoz\n",
              "xmWBUm4u3+WP2M2xBEu/GrgpEilMh8vPzG4t6brqsDGqoGXwDraAuRSqsar3ehFPy4OvHccW7Ywd\n",
              "umYmGJHwlJb+6MxZELobEFClG2eL97O2oLRHUicb78eBjDplAn6BzLQm+3tDOUK5FNd3QQAaDs08\n",
              "QaUWV8SovMkORQr5rVmwFjak5zKa7Yua4MQ0U8do6OczENbnNK07CxYhJn8S0LIEII/C2UNZ4yOD\n",
              "DfvNrSRSEau5Wy40lACrPLzhCtUJ3FsrS1HkrYYRK4+SQ4Taj0phZejM7th/3GKsiagFTvP10JJl\n",
              "VTRlSIu8hRbVVuz1H1e5JhtsuhquSno8kdbwKoR/9dAmV2QpWDw/EY+554sEGgofK/rwY1bWptap\n",
              "dWAyOEB5PoTrqEvQIlmdb6Q6878a0KwrxV5KfGdzyPlfLcof4BJLYsiDzoN2/bq/hCc23CH3sUKq\n",
              "YdwQykMXmzyxbQNUPKiR85Ip4ZBYYhpSAANMv7WUpNucuRrFyRserqPz61dbWVgYAifrx4dW/NYk\n",
              "+qtrudm1kxr0aRmLTjvMp2rQc/QO0v+a5EXW7Uf+KrpV3BNM7OprOHhzhIpVFcYZweO7pWldizJn\n",
              "clfSUD8B7tM0/259OZACF/2H1CZxQV1IQfNJTnIHdQAAA4ZBm8FJ4QpSZTAh//6plgADaJLaMAK3\n",
              "6qwqmiKqbij1t94YdfI+P6iTlk5Od/+VafFWyp9g7h8m16qrbpQRhiyTjYaaTjhP5BIkGit7sy3T\n",
              "bPyPKqfIjhiSY+oIjPfU9tv59x2h1XAqyoA3cx9EG/Qxy8lxj1/4K2Ah1PXnFU4qqS1ErQRN+7ix\n",
              "4iwV6i/oFvOq9Y55VA0AhWlrsxp0xurZ1Vg7LIF7J0i3wweSIzxEFoBd0yE2BvMZWAEcKoMR25Wk\n",
              "F8qX8ruEsH8+IOVAtbdqaQr5Bk/0jOzL7HWDl+PZQcRtObEQX00UO0ZNO2QodzraiU/KyIcYG9Li\n",
              "k70yaOAdNjPQH4oANSm89fVu+xkemW/Y/gVXEJ+M/NRQKgQ5FyqM2wxZp8a/dJlLJrrkXbpIokMF\n",
              "+gPUoC5pEpeDqwXGDKv/CExFi2WmLUghE49H6yO1sX7lf+VA5efn8Jps+hUVeDH4Mc9LgBa/2jYf\n",
              "c6G1u6fH0F8Vmv58GQ7nH3vDpOvCnJv7J9lB99kMII1D4w0ufwwwK0dcp8z6/ZKm+ZDqF/IEIo1t\n",
              "X/iJpX2pN2VnvCxTN/DpsQaBXnRhIamjZdk7sJlrV1iTIVONY9F0c4LIctFI44KMcJUEZJHK7o5q\n",
              "SIN6wDeBy1b9P0puAUUdUD4dhtJBdeBo5GmNHXBzgUbulHncKG1M/jn/i2vxUNf4ZOfj1nfKqCgU\n",
              "YGHIqLh2eQC9NClWUsj5VaL6LkZbmr3Spft8xxzEjE70QHOIlUMGxRcjfqH3Hk9VmN/R1yrBSfpy\n",
              "cwS0oj/8aMjoeA9hKIP7nfmWMH3IDSeRWup++CJaYfiEOqyAHstL30a69nOSnS4NSDsC1o4nel9Q\n",
              "6J612M1efpekW/LmnBE7xmCuR4IY5VSngcX79Iv2htNLmuDcqbg+fB/f5ci2mCsTG4uFafDqKiKB\n",
              "B5E1IG+FcqbAUlDPrFMkmW1/83iJ2p9dSoThqn9wB2krgXYnqjFaZ7DrLFLG2v7pN4IF+kmnemlE\n",
              "UVDjz+SNKzP36wnnG7xlwlLi29btZz6k3kM3NlPW3fIUfAp1+LYTYOiR7TAXqp3Hu+d+4zQNznbr\n",
              "UH+bz38olDhiI8sh/Y0L6o189bFprbNlUtRDRRzeMaWvQ/0cpr9xZknvtbnG9AKN6PuH4GF+ZDke\n",
              "v94Talw+20PkQw8iETE0zEFFZdVCbPBVwAAAA+dBm+JJ4Q6JlMCCH/6qVQAA3kXi4ARkjY2aURut\n",
              "baGVl8I3HQ5jIe/Q/dR/8Ubo8N6lOxcDp4sLr89t3+RrCCFGMoR6hTfcyWmAWFIpkX7aXmwlYNTu\n",
              "V4MYQAY6ZQUL9LmARP1eo5gkVrrWpdaokHyu/6pin+gePAo2i0ZJgHkr5CFN3KgoRKVb9CB9LaxJ\n",
              "fULePnGNdSB7QqNLP3YVqz0nn7cruLGfBVTEMzQHTcT0DuC9B9cK55yp1jVMrgS8RYAalZ4ruQqq\n",
              "NV10MsVv/SOiimcQRMmrn9fYD3JaOEgV/XqwbSPCPrTz8KSGlNU/1yQC2QSr1/XzfD1FrOLA+wl2\n",
              "s9yMLjtbgSt4IQ/hVKbBXHLdT8jd4Gwu21U+0PzPeTEMr4GngeOZ/kczS1LHH+EbrY1zXjrcnx2T\n",
              "xHeIliu4ho9S2ETAm+HQRqZSeDCGsxMDc96wBlKEEpTU/KlTBnrHIDK9ZcoBILTFvmcLgruLxHFJ\n",
              "Uh08Du/WaqnVqYeHyaUE9nLWXlIfdUDP/Ckbxks9ADUIHYN1PwWW1k3L/1edOSa+wYe145s3AjHG\n",
              "IP81ZPIHC9XQJLTaR++ivMe0n5A6Ym7FEGwo8DRM8f893W8Q4NCQTSSiF3xzp26QTx61oTlMJLLm\n",
              "EwqFDxOahik76ISkZXtja9ISjQjzBR5Z3diSB4GyUujvms3pu1pnyAqFBloXCeieQOihRFtGx1H5\n",
              "EUGrusGN7H0Qx+KVv4IeA6Pfp3OjivM29PtbrfuKmMvmk0heUkLKQoXtw5UWJ0hAc8TfVflOLvmI\n",
              "AfdsvTywLQ6GDf8cfa+7AsvpxlHciZKyebK+CswCUKVG/XiWyuUX2KJySvg2jjPQHSgZi1G7u5VK\n",
              "D7D8eRrI8ud/fq02x3ftZJ+eYAoGE1jSHhqKerPEWsIRQQ0lU9/tzrVtzvWM7wzIJ5ZVpO8UYXJ0\n",
              "y0vFk/8Z5z2xJdUqE9zqO7pQ7ecpoi8MHuqYT20ORJXJHicgCmZIhr/md2SPldf924wH/YuLtNI4\n",
              "FXaqULnAiGxd+CLjhWSbShaVX/phzdjjGE43dp9b/lI0tsKKkcvNV4QauhfAjtBFY0mC/vWnai2V\n",
              "xz2Gy78cDoAD2TsP8jFWJkU/OnlFBkYIWgMY6U4alqVVKgGoTcPA63GCXYS4rNELZ8k9FZMP/IL0\n",
              "Ygq4b2BvwwKrMKcu8pGQZVC+EvIrlQXLHZbV2ZaF32T0Phq02+vorgDADK3RCJ/TfK4AsckgL7yk\n",
              "L71pNBHkg9g3YPce7OdOx//POJKpc7+t/xI09tstIhSwO3DqKlvePzQkGPv/hSe2MrgqFI+i7jAR\n",
              "HpEAAAPLQZoDSeEPJlMCCH/+qlUAAN5F4uAEZW76qYBgj3l8B8zzCOaz1HHy6PIb7AbFN166kpI0\n",
              "oRPHI3tFkCyu0Ll4s5b6hh77Qa/gg8ATErNXPgmQw8oH91aJMyGzOiebBLUNk8oOtaJQIg0tiEQ/\n",
              "a7nn7c+/R4+qSIdrYM2N1F9cl0vIaJOcvfmOS6mNHyHcj3HFvs4LMUAYqTMDiGOd/8Zewq6SscXJ\n",
              "2J3y+ys1g5Z1B7f6ijaODlO6+DVFfpFnDKfm4FI8oPte2acP1ITHM+0zbqSB5YXwj1aT8fjfWTND\n",
              "Ti3u4F4I2r71m/ugTEPVc6+7iGfEvuLHWTd+CCZfBdV+gGyhPqLFNRdiE+jvqBcS0TkjJdbLkQkL\n",
              "p/4buc+PT7JYVDv4br68CUwWZ7iwp8ta/QvJME8NSzdKnY7x/5KxxnspsVSMDO2eu4W38egAhxxT\n",
              "sW4IqNBYg2jz28Rdr9ZIPQXhEGyEH5afLVodM7LrjvrQ2959npHfVr3lLwkj52+YFpjdF6mz3dlO\n",
              "UEkDBN5GbKauzNDKnYRRGB61uzzXUBXsuyXObMyPRtoVf3Piya/JKMvad9RW/i1QVLsyFljQr/Pt\n",
              "PMAVdo341lKwf3Ni+JpVR92YByZAusj1JQEv7mmCnDK/n8hO5sM5pSXpw4NpjSM0AW1Im6iKyOQ+\n",
              "ROYe9rXikexFfxEofyWiGPjP6w3Ku9Jaf1jT0XWo8HSfVTA9V9U3FuP4A4VNnPK+hYfvobd95q1k\n",
              "+RaQfa/bxeDURVB2dzVSrb1Kd1wGbMNjsPieoZeDF2qS11Ck6QmDCmq+jkdqYg9p3NGFFjsigmk3\n",
              "CuB+OCuLfOyuLTRVCOawooiD6iyk2Ql+Mqd0qMws0LwLrAptGsb7Mqxd7asMwRWEms6Mul0UoBoA\n",
              "1fixV5ikrq+Ja4gAx5zp5R044bRhjnX9eqnRwas9nY/q6mZe3WH36lKXzmG1pT9zrG3d8zIUWrt9\n",
              "q9dvwyxRI+ojdkFr7QgBvAXjy8qMSjOxSJM5kK22n+lEoU7EhXAaepTcp+wdyvztFPzJePBycRcH\n",
              "UZA5tCTWGmkxbEVwnBzuvDlUBDq3w+siovsOIhLm0nCyPVdMmBHNgfSxe8yzXxCl+oosrfIZT45Y\n",
              "//v0FunRu61Hx+jwfhUoleOy/5f7PhsGCGlSIzcYlez4oAWMjinxFJ87NR0eo5MzWy3cyB8MLs+T\n",
              "1Z6+RdaIQgsYu5/q8/ffRDwkbHE/+N4Uv6E1ste6fBceYbDDq3CiSnFuS6pIt8QkJQip1N3hZECy\n",
              "JP017gWQXcAAAAMYQZolSeEPJlMFETwQ//6qVQAA3lD4AAcWExiqSZdwBy8O1N7ODnlaaj0ZVuG4\n",
              "/mgCeEg1zUj4TscG/GPoENLkND49W9aNHnt66Y2E2LiQ1Ae+2Z3IneBdDbZb6PdEuJMdKYrKmAVR\n",
              "vPwIihtC6+tJb3c9Rpjq833Ww/P7MtutxhkSJX/ikdx3RUc34wB6irFwHG6uBCN3bTV/P2hQcFMM\n",
              "mAe77OTREmVj9VHYpwzRpd6O5mcs/VhICRwZUlGK6nlQO/aC0YOHEGlxRxid0NOmgxhqQUUw/+5F\n",
              "OnD1xW8qcVPGHzVXx0zKtp8hflVeF/t8s0Opf46+ND8qKhYk/mQeL0N0KnnyqdCKozHp58UNgL+l\n",
              "KkZNcM5p25WceSAelExGuf1NHj3KxQwQEEV40Vj3pgqU+F6jdBvgJgwp2Qtyvc9xWQ4LPSDBhiOT\n",
              "pp5xLR99eJutR0JMEnWAb+2MQfKUP6Qh3tRa3kIGXANEKLygaXKyqhGCRMpD0gQlmjLFJ7lC/kND\n",
              "cQoX7aNtyEtBVKpSCL3TMamG4ZSl23vKmvPoV3VWq0tOjLDjyzVUa9VL2yOK+RCzXOeN2Wo075+2\n",
              "qg+f6VDCdFLoCVan1R7Wwc9nSc3xEl/8YXs5OXA1Gw0WLQGHyLM7EGd3cO0HyGdo3tEHEo+wXLv7\n",
              "0GOyNqQdfKi6GIrRHLy89t+kLaAdvAI2oWVbbXKsOeQJPXl/aOrpOOTiikORkSJSAQQxUInQ4YbT\n",
              "LWnXoZaMqESEiODRDvYOt2KQL/cAQgSW4DIyWwG8nFu07z8Wg4uM1lommZo5HX3DUpLC+ncx0SFx\n",
              "y+U1brz0G+QfvPZjOgVyZiseCGeGWy4WCoOolBvGDZ53IQhXGqqAyXRvWXykS3eddpLZ2JcT6stM\n",
              "PkU0U8RF61+O3YyAxrPsO7ZusQEl/5DKmhA7UuDf3c9yVtrsjM1Y/+3c1q/04fanUkQhQ23nf+KZ\n",
              "VL7X0APCd0SIvybyx7F3b0ODEW+Ul1kv/zWyELji+7a+/EPGVhw1IrxD6LPyelSXqMZy7jYRkcWM\n",
              "UxEoA4NnAAACmQGeRGpDfwACa2AJAAuj+O9+KpuXI4Y9q/hEbfS8z1qrFSGySFPsGWSyUPBBNMrg\n",
              "h2qF/hhLtIrVCUWQdZhQWOIyCitZzmLxC1Qr0ortjomnW6yKW0wiQPs08FUcYNRhF0QZ/2Ncj2Yu\n",
              "rhecYpBQEnPX4A/f9cken55upTvGnrAHtuMrlBh5rbWUMg8QpZVKnogB7zoRQZxpcE68X251rxyb\n",
              "ocQa92J/b62qgcu7dsOOEtpzGtnARHwmJhA9rwpXafr715jqHgVAvE0fYu09ivS8+SXf02hlbBM/\n",
              "Xl4PEdEWpIcRahoED09TDZfC+tLagu1RJ7zSzdXzrUC2ZFhajob2RNMZZAjUINNXm98Ws37VUR70\n",
              "5Ob2l++9oov8YLkXPLsjzs3CM2BM5NBN7tVggfXrgESVjsLULw7QxK6tYMm9ubcRCooHmvJWfLUc\n",
              "/Pu5/e7xDqvj8X9ErZvie1nXp3wb7aQWuNrtqzH5/GHkRJJsFB2GP2Wll84FX01am0uuR9OrQY9v\n",
              "BJqOoX6VE6CCJ2VHCFkniTuiw5btxYTpg0eYd9+fCADRe3drZym7pTiVPCVqq3EYBcVfFckUcuLw\n",
              "O+nGTTiMJmKkkHUGUf84BczY7LYrOidU564kpsMS6/nwIhX3Kasm4OTR1Ac9JDqXDDvuVILy/yB0\n",
              "M1dpv9UAxpyWEqrGgbWhM9P55RmMpoAvYSUcbK1cH2MMPcex17Cg7tWNMTyXuI/dEpe7qXB0X6a6\n",
              "Y7lq07FatqJpBo10IDoGhSbNacgYsKBf86T7t73mVpEZ6Hzb76/81+zlSo7t0d7tIvG81SBdW62U\n",
              "T9R8mgoO/WiAaPbz/hYSjX1ttBvQZ+TaQAalvM8/vqmZW+LPbZhHbuiyefT1cJ2BAAADYkGaRknh\n",
              "DyZTAgh//qpVAADeZgP4ARlcCnazderCiHsA9qoH0MGZRE2KXRPtwNYXpirfHJPF3JuNIR4zdvV2\n",
              "C4OXaQ2AGJD8eZZcBW3crDuqtNA2/8oEiDPSV6T0MEDtu+D88iVlvy4oCctI8h7A5MMeElnGpNWV\n",
              "F3FL1gtVosBVn2h6b5CUe1MYvpkP6FK+Zeplula6hQFbkyGHV//H/tspxLHq5DtK9/jTtnhOwm4X\n",
              "HFqpcT/8yQe04OE2LeuTmHqIrrkd8bOuT/amYl+YyKH1d7Lc8aW1vMemBpF5+QyN0ba9cWbgdW/X\n",
              "nSkXLkareopAHTApZiuD79K3VhZqKTN8kQRFJJZAYfGtkfuvBPstFc4oZaUtqE7NSo/i7nM1vOy8\n",
              "XoEt8zQ5FBlNGbMTXY8tj9l/7k9baoBNWMfEy2OU3IWDhiXNdobEkDDnR4fjAFRFk56OoqmHOslA\n",
              "IOMnGi0rbVKw0wTveC/j+xuV+6KhMEyOhDl+Y+jczmjP4mqRWGwHdy3ZW/EJwy5DpwA2NWYs/dlQ\n",
              "it9yRv2X4QZ+V5Fkzdd5ihghpnHScKme4VKDoFD5/LVd4gOPnQDKUm5Hwh3/0aflGi5qRJJ7hFOk\n",
              "yxhwgxVjWXC0d1aLJvNwCVyOWyUx05b5X3v4Wlrwi+0T1E3ky44dySgTiZMmaEK5zvXwHnY3j8+l\n",
              "LKe03l4NKwEXKh8v7zBB3uY0I/ZxO5th4/LyN3Ias1rf0hUYfAMh9QSZmnEOrItRq5MIh3KufqUr\n",
              "qi3ENrTGpT0lJZxBuyapzWGgphhYvQ5EW7Nb+46S51V4qgNTVDyByJCVUBs7uSrypLtUnoxhTV9n\n",
              "B8h3soE7dguPoZ537QTI9kDAj02Q1sv741fWVY23cjXw6UHdMYx35E6NYqQS0mpTPHrPbzKD/jYf\n",
              "+5INUzy+i7X6eJDQ6RqUO2aAtF8zaHEz2vuuvxuv+XmEehywrJE3b96dWpOUDGgyzgILF9AJYIDu\n",
              "7Vn1kOE3JEfD9+LBySU1V36sxW7VxNV2fSHv9/L4K7pBmRgbUWUwZY/fbPTi+RxdAK0pS8DavFau\n",
              "PYLJdUQg8SyVrxXQmmlpf/5GagUNeo8a39KA5YwH/XAn6Yev1SJ+Xmbouk0nQgxAm6GUgh4AljSU\n",
              "fNUmtBSRAAACgkGaaEnhDyZTBRE8EP/+qlUAAN42FYvXB/ACw/PekxV9IM5zinn447szabOTVwQ8\n",
              "F/XdJc98h1pnk4sfQom9FeJ4+0sxdUfnP2C3q41v+m4efHVS4Op3vwMiSanLS7EUHflIInL/Haye\n",
              "/LEPgpxkjUoE6VmA4AkOUZs1WECUohw93QcX0p48rPmpy4HCyWpSF5jzCNC/CJ4/ykx9uSjF1hvP\n",
              "ILomAWLNFDb+TiVk1hQFvOGeguEgopspsVSMDO7S1998kNOC9YTWbFETkfWBQylkIBp7o8DkyCYx\n",
              "U7QYg71aI4dJOf4vJBsKzQNkw2phv1pCvI/tR2bpQEUfTLPWb428mMJbEqQzAdkSJ+80L7eW0A4p\n",
              "wWfS+ipNJhkl4oyD6CE0vu8VzAGYAsanq/dffPUr40wLmudm2E6KsBtMaNhPRrfo6I8Nzv2LwEHA\n",
              "nhvmHo5L+jJiXUeLgen22B1DfUaz+Z148NUyPkbS3V/e3X6vuVrtrSgHZOauGMJ+BW6VeHTxHuFC\n",
              "5upYQ4x/AxGo4+oLNY9Dq9HVx3Y7uwaxq3TlXabvZyt7qwHb0TyDH2ZSL3JZxHGXG7uB3G2tBRLJ\n",
              "eZD4WtwKKvL3I38NY/9QD/QGRDsnOAkxQAwMALMGPykq3d8UkPkToy9fnn/q/+iep/g+ltXYNMIP\n",
              "8/xB7TlG4CUPEV/oQZO2oy2IOEKCaav3E2uwgHDVbbdO5OzSmxQ/gg8Ug1TOD4MasKFXxUf6oORE\n",
              "b36i2cYsOXJalUbplfhJRaztuMg2qn4FBeoJ+1GQskbL5n+eOQ6JSMwI10Itsp+Hn1wouhukioga\n",
              "AA88+3CV6SE3t/WQ+R5wjUhJ8MIZAAC2gQAAA2cBnodqQ38AANsX5X4SdNACECH6gYV/RAulU0mK\n",
              "V+X6E0eKE7bwZMrXZuUZHuGKjp7yVU19EOJlD+5QJ1UVOP94WHLhSdXppGYBNAvgTbJ7kgVmKH2D\n",
              "tgkjU/b1Q6gEBpHseLwhE32vrtidgbSFRNoIz25/mqea1Q0m3SxyRQa2WTOVxqM4k4Cy3kU2RkNM\n",
              "b0P7JqRYv7o9rDnzVnnjXZApphJM2ysuNYaX614Jo5VFxyWEZYkux2VkOy0qrd/S9/0CCz6CjfEP\n",
              "/6oBOGvC/WK1SEWZjUiKBAjkozRHSd9yTduA9Cq1Dzdz+tU9GqvxFNE9XwnT2tCj+JFtImbLzZea\n",
              "83vQmT0KmclM6iyfNyt04d5XS0R3oYcW9GJh+Md9kWE+5PnOUEu7d/DvpSv6R5l4TecOoGFxaTVX\n",
              "uA5iiQ8j2Hiar4rIeLsVzTsQx5kB+3dJwDreoTwg8M00IsclWheQpQc8XgBJV6rsazqLkojxr80x\n",
              "ugnKfx7jFUhrZVLoElUOM3wkSlGWWtd38fmxBopJKqif2IYjAnW5XF9ybggA2EqXz+XUR/jNgFiQ\n",
              "MniFy68LSSAHGcU4QfFNy+ZordK4WaGxb37AQgmvHW4M0YYBIZAJvR1HBK6hhtnfy/hQc8GQHZNY\n",
              "J5iQr2sda5QIpM8Pa6XGGmtxLrUHHD4TVNqOQIcpX3wd7u1mTxhbyt8oW3xY7uIBXSbG5lVC7HIZ\n",
              "dirUw2PAqF+QUjqAy2JTXWLnRYWdtUJOpj4bnx1FzinB9U6YGO+3QsO68dOJdwyoiDAxa7u6hpNp\n",
              "dW2g2X/5gBfatiZxhEEpNO2cDfq/ISJ2ecw54YTI4hb3nmZIAbtMwBDIzf6cMGtpac/4sFu/sZGL\n",
              "ySIbSO/VfapClyTFuGZeUakRUVi9GfpDW95QzhXAcZBnHki9LSejGAWtonKJEfWmG5Y3YW9mu0yU\n",
              "0Zdsz8bddty23K9XOH2nQfl7p2Sc3L/41IbVOp8Fql7pzey2QKlo+kktSV67myZu5U5vGkBA7vvg\n",
              "H00C/zEf9EMjQK2G8+6bKADSDI6xrtWyKA9XvrMdi7CfyXIUiZv2D3Tj/ItgEZdcJqHPzC5NQDl3\n",
              "9m0y9w87duTzNdDng52qBtwDhRy50gk7FtjjDEMY3ZA9zQwqUbb3EK64AAJuAAADHkGaiknhDyZT\n",
              "BTwQ//6qVQAA3kEu4ARlHGUKng4xsgPw6XOXy1RQQ712PuTncX8E+pyOFcgUX63L/ISBF0U4zUXw\n",
              "De1TdxW7mnix6C0UM0Dh75CMI2igGZbdKu7vvkMy/b0Pzrf3Y9BPjuQTA0stQ+vRz4YlDzqlZ6eE\n",
              "ZZLE0J5ANkRuurPISrh/9dVrKT8oJivri76CknbxjN/sBsV8pZ9M6Q+92G8AvHqACsCqY/EiVf/h\n",
              "J7K54A+sIHoIDDZ/k9u7H8oM4Zv7f49Eu5hiMFj00VVqV0c80uQX3Zy3i5dvQfhiEWA6y4LYP5i5\n",
              "QlvXnolss7+DQYoeTKea536Y2pzxACo7v7hhbu3bESr5rdQKIrQTXXViOKy0zv2qam5jbmwH8zkK\n",
              "lzgjT8dRjPac02clhsXnZe1mw9q0vIFsYL19COACrBlqCev1MhtyaDO6wIa83+r6G2yhakdTPXIi\n",
              "6YbF5JuAa36liz6d5RxLgGQyyWIZused2XIEQ9FtyJoHeMl1txDSKyyApKi8io7F73ArRO94Di4k\n",
              "qRHcczFEjlSS8M/JYk3qTq1Fhg+DJZzlIIpcaUaGUNgE8GEz71qKNiUc+P3GvFrsWDbQlRrx7z8v\n",
              "q3HR70Ftu5SLntw3diDFQw3Hc3VHAtb7s5UvV21q3lw0nT6kBvhqbQUXG0gH10hA7Xec3ikFfoF5\n",
              "lmGHxJBD9BC/UGimrdjS4B5szPPJbbSLN0o5snnV3muFbOEekjLU3BScC5Hv3JfYA7ruOMFcyqMI\n",
              "lUAbPWpc5Us5zVbIYx0YFkQhrIbR5q86Y84GaL/usWxWfvzhPCchp1vtd9ZneEer41M5zFQiGvio\n",
              "bCLUnap4obdlLR16coflB5R089+ABQcjh/Kswpn5epwl8mO1F6ccxQT+yU8XX6LpeGz9oF7yCLhK\n",
              "QYbUvUHaYhlBtbvwzyezNV4HnvYIOdK2Jawf9YS7Wn2CEa3IdwZ9naYJhfpHgvBGlv8SiapD/WmL\n",
              "/S2jHjTx2/3Z4ioJ2h187tZHKEuhdEOzSc/Kh8Cmv32utizct7knLNLJFowcAAAKSAAAASwBnqlq\n",
              "Q38AAOKTuRgd5z0486HP6ABC/vuibpyhsG87T2EI1bNH32hq8lm8wRkkUBW9ljvHD1UbRUBQdHcN\n",
              "dF82PHTuDRFvDZRHycjbHsk42AloTQlhWzTu+9dOGFFviXu1NAuEEnopO+P4v7pEa8ffgnP97znV\n",
              "kQRYRDrysLiD6HxdAnP5+WO0a/6Jb4da+g48CbMeUlD+86xakhCL03PFG9Iti6B63AFfON7hzbvR\n",
              "/bYNKwC3vSdOlTR6GnlKO/NUQpJv3jdhG4qwiLbhsPkzNzx6QCTdsB1g6jPZdrM0XRjiJg42R2pO\n",
              "OCst8s9ma58n33NZX3W8WuO82+LdZPkd/g/Wq34Cy4jEVNhp4swMtxZr3KZmTRVwX0zoqVkP/7/j\n",
              "TJ7CoEwxQCMACVkAAAIRQZqrSeEPJlMCCH/+qlUAAN5R08AIyjUOx22VNuq6mwbOInJspOnrmETw\n",
              "cXVOWjPzex9H9KD94dPOPKh7qXvFsV+6SsSeYI/euSTri5wF3NZqod7t9i70YPSLW7RrzHpltjNE\n",
              "9xB8HwMT3Fn3zPAxu12IIF1ZS9POEtUbKy2U7bqylVnq19/aA1Q5U0D/eljgrwr97n96H7gVbtzD\n",
              "H5elY79xCWkQOQIf4NROOKUkyr4tCBSMZfMAzqySx1uO/MdWPl1RQEWVxfgUrWiEjBgec4yQVtNO\n",
              "ARFscyHctvR93//7tg/77vAOOU0/O044CX98yDXMWgm+z+1Sm75SQQrK/IumHdIpfN+0/85pSXTh\n",
              "q5OrA2Hqhjv4sN8gTwqKReHaAHv91zb78+uxA39Hg0Jsp9avr5yB3xWcqAVMeVzu0MTeE6+tO05z\n",
              "HMgWvdtoNWv4NE1Wg3NaHn5fQ9JgN3+qrm6P9v0TtuHVW3A1peUfjYLZFrSC92y58iEG+eHVrCHI\n",
              "7FmoA6zOB57BFXAAB6i2hiSykD2qG8zf1NRAqB/iLFSGkZ0mU7+X6hAHdvwUJkq1Y+Jq3mUMGAAC\n",
              "wgL59vf7jgJfpZgec3mkkU/x5NXX1PNtcyYZDo9nwTkL4phRod5OT7wbOOJHACAsuzwVOKFfJx4o\n",
              "t+g6MiHYOTyGecLS65tBw7Uz4hAE+fI4O26oAABnwAAAAq1Bms1J4Q8mUwURPBD//qpVAADeYOT4\n",
              "ABxEOm1WjnnkxOa+jsevuZ0qMcMrrV25oqfczd2ODHSqxUozGhpisACkU8JnxfV7dksUU/EhEbxd\n",
              "xtHn0xxYtqHL3F810wOmvr7Q36/j0NZ4U7hP84cZi9KJ+Ai8yd7+ctqrrSMaCao6TB02Zv52FnXh\n",
              "mOuVG2BWuR32d6OL61oqLz31noJazoRMBB14DYA+2FBfNb6RiQWWlCIWbJGiv/vdEnkJiGWbIja6\n",
              "SkyQYxMzKormlHnqLt3XJaZv07y7qo/9cW36qqH6BWvfR30lG2x/94+6tgP71wfOeYiOxxU6Suie\n",
              "qNwd4vCOM7+h+HyPbXWMiHSMHv6TlDECfM+UUpgBQU8sQBVDpid03SwIdSI1NYCAr/d6Q9VlWw0W\n",
              "datw2ryiEQMZ45o4pMR7QaDVUZ0shtuQQuk2D6hE7Kj+U2erZ+vPbPh4gNbOIZa7VpUzqGqdB5Ix\n",
              "bpf3KmyaLiCTzgdANQ9/+oZdAe+r1XUqSn3K4LDYf99XPIa7LTszFbizPnFlTvkb6aIRByNXVGm/\n",
              "Uo6x8UoT50wvN/3kfEfU4s6oRGYhZPuTRmMPEerhuKIYq+NQP1QMWeTjn5H2X0V3o9i8arY84FRB\n",
              "2FHXUXAeuMjznj9SDbNOlWtmN8er0AAMcHk3mJIMBg5DkjJd98Q9XrsT7ootMEXz1fn2xF2w3l4g\n",
              "K5w++wsUmdRh9MaJcVhvdj04ZY6HAULKJUsSi5hTQCkEh+Pv9fyRLX4b9I4uH15sJBO+jinOsAF/\n",
              "c/lnkY2rDCE4t0ELsGrxSgaucifRn3GkjuESsknJT0tqa0a3sGHzd+eILhpxh8IFf04ZojVqUyfy\n",
              "DgONmZup2XPbW4vzaYnMC123Ryv8TbXHt8T8pTNXsC7gAFbAAAACbQGe7GpDfwACdWW7mPbQZlxq\n",
              "9My/qqhS9u6gXm0g6NnTsV4E1bEwTqDKmMEQC7xaHAA/rq08ewG84Sd92lrJFeOy7oHcwAxHQneY\n",
              "8KMVbBnjcOdZ+iU/nbrFZn/j/xotzmk4sjWzbc0Vlm9evNvMqFif4pNj+4qjrNcctV2XjSoKTD34\n",
              "DkexfOghHkWx5ZoFLWJHAgmC35+2PzVaQbbwoZatvbBbMhsdHGSYG44nsUJZp/ugm9+31XWOfa3d\n",
              "+qIvn+trcxCyOnFhYVCfks38lm4XZWTYSKZBdQ6rk30hk6w98n8GWfg5D/a2mlTYnoeujk0g3kC+\n",
              "b2C9zXuqJodjcd1R0W43RmOsVNwDT4dqwPhj6cvukeYl7SDK0odPGeZ/vcmykW0UNTdHxo7Z+HlH\n",
              "OX/Mk95R9/MQ0xrmjVMrX3xcAA8hI9DkJj8zauNgP0HA3OJppaun4zZrOQ31nSXfpv9wA7oSiHQ1\n",
              "d2n2/jISyRPaXhnfVh45+ww+zttWyhy4QJRKMRfXAb0Dxj4DwelQx8gUbasg5rV4j8/zlQP2iY3Y\n",
              "dmbZg1oo4dW1RMNyOhPDg7BSuhq6oRHy7xg+b3sUIARB/i1lBNr+pD9cyx8Irewd7G923wBBdJB5\n",
              "YrLwBKGfbTu6hUrAafT0vJz/1vpnSvR+QxuTpRT8Ipce6Cm9k9rzUimEX4GnX2iY3kmejkTq1vNQ\n",
              "2TxEUDbyTFwoU06PrWJ42Mvs71O7Tu18R5S4b3sgftYz+/UiIx8ko3yFXfaLPJ/swq7FGHx9nWtc\n",
              "QChJq7htFfZQpT8ZYkrcfP0hTCCTTzRr0Qrc2JRpMAAB3QAAAx1Bmu5J4Q8mUwIIf/6qVQAA3kXi\n",
              "4ARkevDLzHUHQAaD7KtSreNTS7Ady9a86cIpDYu5JNUzhiQ+re7qcHpoeZRL1daTMuPZ7DteVe9x\n",
              "UtLo/JXAD6tNOSJNjVoFmcndqJAHEower9vyWolKZRY8Eq4dRdrr93NYvxOxcBY/QnYFF94/rEv0\n",
              "x8H0PRN2OxXFv9PoQfioRQ5jHyjqWyss63YgQflfhHuGkRa5zExLjSZ+YwOWpT2j/eSzMtkrQEFW\n",
              "MvQrIg6331p9KrLRG0TZOMkVHybKsLndLsqr47FULBcOpKMTp+rcQJQeC3k/GO06/Xe87zH5L/uy\n",
              "m6SzvAlqLGNZ9RlMHdQGpRAN+/UAePz7hR9eH7hWSIXn+gmvKwTvaAKFNc/8BzaXSANFdCCA94hz\n",
              "900WqQiC13Lqt3GF4bnBGeS10xbhT0lwlxeWMEpcqrdKHA6TnWsuHAxQUHQwA/gi7cIEtvWLU/+V\n",
              "2f270cv4kZLuwyX8Ehi+uRf3GT1gWAjpbmuFGfXOrGFtOlHhO6k92ystulXnYHwsE4AM0zl4WkUt\n",
              "ST4p0eWO7i2SaSd8KA2uANMCrSM1cHchL03rtofkKq1Bn7yeE4pbs7XRznjncY1SVJ/PnFHElYxW\n",
              "Jzp8ekzI24NorvTNlna6g9Ha76S5cQaG+4gwcB6MNKMMWSgat+uTgW4i324nMIWeghot5KGqOZG3\n",
              "Wm/7DouhQc+rvGuNZDBDWMeaBIIeB6khNmADZDIriu0XsV8VqVe4SxnY+gULDKSMpmfw9tTKqWNP\n",
              "L3w5sBXeGgXm8BZsusxil5sE3UshBKJm4+ZpmdDPonzKcJXOq/I2mL7KMrvonjwDsl7d0M6ACMpM\n",
              "Qk/VbRkjLdDRVCEoZUJEdw6agzgaZhn4p+MakCdi14IdyugndX7/b7mPENhOpjAH/hgxQESMmtXM\n",
              "50o2ZSjZMIAA0c1qYkNaOYhuLxkeYh8icz5/fp3L9nzle3g//yxTvy8tN0ZvBmPTPFIo9QjE6tuv\n",
              "U7l4lvNJS/oVE6kgrw0+EYlt26SGa69IBc7WTv0PHDMr1mw7oQAABGlBmxJJ4Q8mUwIf//6plgAD\n",
              "abP/hyHzgCJrai6T2d7uNBw6aTopVuUBHhHazVeFmOfYSG84Dl6/7fsnRcmqiAsT0knJpA/3JWbt\n",
              "JhA9JyZ7g0ageo4KlYC6o1kI5YFf3zcj4rYx37G3LOdnw0ygOTZAz88HFb3nlZzKqRPJjfD6gqnw\n",
              "ULe0lYRmi4hLK8CXGdhpjlv/118jRWGiXGMxRq13zV92tkft4PQTseoTaV9YNOyms7oYOyCakB08\n",
              "uDLz5Em9npKVjy+GgIidCn8t/GMwhxCz9oUez2BkCawCeZMDXPXcyr1jDnvKGeVyY8TvRosJaKxp\n",
              "VdUqbBEDTcDBP6Q45RspfYap60IQY26Unnvbvd1dfzcgZ/tHJiE+tmO3K6Y8ehMawNzEhLN0l2YR\n",
              "CWw5LjrD0/0qmusUmI7gHTgPkt8Wj2bVohb57mH/zo723mf64KwHZKWPo9cLlk7xoMuyCHDTNuoB\n",
              "MD7Hr4O6aPXlzizhx6/XR15q69yDN3Z7q8Gy9kL5IhlH6J9864FcvDhzJ0X/OM0knG14wHZ33HsG\n",
              "YScLLRlNyVGiiixuo5oIP3RHp9GCTkZdYV0lzNCFgBZNTMKbl93e5VIDdrzHiGXdyfRAwhAQpItU\n",
              "XMxTTzBoDRjGGuTHjjJG2G3l4mIKsNEXAnX0vorGCSMO9MW2JqL/+ZPongHQmpwJ4Lei1sudP0as\n",
              "eoAZlCCJAMfQFKLlMITQ0QeFxsq5/SKyKfy2BdP0FgCTYRvtKAxGFE9tpQvLOYlMnlV9aIr8tvcV\n",
              "5quWMVXP2mKgDbzDoSBliEINa9/WpcWZVBqa1jkcDT0j8dxN04bRnY8hm9h8iRb4TGmPWff0NpoD\n",
              "IqtooqTw8Sl9JLn0PAV1sucaaTBGZx8/vSrTIHRm2/r371ZQX1jBHCBkXljH7AQFSuoyBkWi41Ol\n",
              "6hjnkE2zsDyK37aHOcIHoEueMr0kCKHG56JGyV4rPsxMNMj+aVviv6Q1kLYnyRAshDjbCcpOwjVu\n",
              "ccYeyvSb77Kt6fzVuv/lPrG79+DLW/WiK/LnAyIhpVAtQoGmOAIN+m5xsYIjkFrmixsVdWgRPujG\n",
              "k/mlhqhGRrk0VmQeNkZPuRL8SK2CCC0OYcWjSdSOjgKEewE3Ap2dILIlZaHH29cZr1ArBDl0S7tf\n",
              "zV+qtrFINE9sjeN6lQUw/VHyl18QPL42+1ry4Hr/1vEEMtTNcAY1y83l6K/uhdeCdswYK/0q6Ht6\n",
              "aUqvaQWY0UZTDL5dZCJ8g7Id8qSZz/PPAICDgF/8L+EArFOmlQsyEXkklW0hiOCuWI6Hqf2AUW3A\n",
              "9VRKgUJrQElFgU/JkzInXtcyVGT3p6oIScVnwsfpvvIOJOqSqvWZRiZpI9ENgYMyXus6UsCZhyd2\n",
              "uchcfipw5vIQieewVTRBwsQmvbLeF/4z2IVCo6bkBe9/usc7ura4cdK5EI5GxCF4DQXj5I8smcPi\n",
              "uPt/qqqkElnYm6SED3ozfH324BmPAHXsZ6zF8C4hAAADlkGfMEURPDv/ADSbXe5DbC/kjWAFvFap\n",
              "WKqXQ/Qu2wD8JrImmKSw5RmYhVoIBlkSNla7LunA+T3blfcmTIX/ZvKqAuMqePwPCRbwzeqsCW/m\n",
              "g8MZWelFvCvN0gmWPUMri6pxX+BUiKcYJ4yWYUCyeWwC9KfMfxtPnwRHgI5TyGZDJiGlzupJ7wzB\n",
              "LpUhEDdRRup38xi1opPVkAlfi0BNXYQqbC12oyEv8RYyrIjkdj9LxsVsGbfIOLOri8i5fR6gf+5j\n",
              "GLvs/AKZ3dX+PwoyrR6sSjQxNZPZPmOeO+QlVlvzGiW+lDpOoW9Wgl4WaBRJTx3PVX3etkJAFb9g\n",
              "BVd5nybZJ2YgeIL2kvUbuhTSu20KZdON+hGAss0MucS4XwDJJ7fkTmcjJ3nQAVqVZiSWHO8kK0gI\n",
              "mZtGaO4nqo+KHfM9H3ogYyEeZntBb8AcgpIH/8sGFNq7tjmHlajt2DP9g6en8y4AT/W34/K+pQ4q\n",
              "2wKm7IEjs5TBNBZCn6WCTpA+bbG1FXaNyPOnkiCxgJOBR9UBsZBXKArTP7Rjkihv9EzWGAzgifuV\n",
              "M1DVVf7ls4uE689jQpio1Z9ay06awDcIXEJtN0gK4w1SVqmJgXJuBku3YyDWvavg6O1Kn3Rohs6K\n",
              "4aBEu03Dh6Jpw88qxv5lIoe5QItTeU3lKdbReA4xWHgSQq6ifqRIVOzG5cx+08/6tMngOztAFpyf\n",
              "ZpO1KdRb7T/q9p8cxLr7Eo2HdMGbe4sQmypx5GXGd+c4eiUNPZlTPJZSOk73uyD6nJRLzdoveB1c\n",
              "PkMSs+0WuRkL5aq+xWmD44j/0juxG6t3mk8DfyjYoby1N7z4leMGngLHJnzXdcwU8xIVSBO3TrnX\n",
              "YbmZMCW4Bbb15aC/AUpO5/hyR71RboFsMK+n96LGE4A28byh52SmGRhMvv0DgmZWOFPC/nsDIvRx\n",
              "65vqsJvn3SOIb/AbR94R4rZtWH94sItpCmiJZMAcF2nFvVkKMIbZ+kP+CdmFxIrIfmOnRH8QGQJL\n",
              "0SPmk7zOz80W4jYfd7QrrzFGedlr1+zy1X79YtjGSY2m9AGfVBKgtX422dzuiyrmqPJtFPhLTQ5p\n",
              "fNMuzaXgJgrJXqzXQy7k61YX3/gF+vwQn4TTRvRaerm70WXvzV3nYFkBsBPg2hvkQSgEeE865gDz\n",
              "bBI9huLQjBeWvp8fVPTScf21RGkuzEPw7pk01UE9rQ5ri/Wt7JEqvgAAA5YBn090Q38AS19j2wHX\n",
              "YIAC6X866CmRIKVJAek5/HSjiZ6Np+Jdqvpg7PFkVViNHL60/c/fqs5xHgRlw8M0cp4eVR20RGiY\n",
              "vg+7i9FlRyvjEzbqaxYdhKOQiUbA7j0FJkrx6V5w5pxN7fzyU+mzSS6RIht24AyKe+k5Ak0HvAAA\n",
              "J7ZHEgtBtUWf0CERK6e2SsYUrv+NK2f4zPpMdFzMDFFo6mySKjP7rw04pts+FMvrrGEXPUeNUCiu\n",
              "gsYpTMf47on21rvRhWj6pqAqWvj6SAn7FieU9pVHMgGxJZQKY0rx4xV40OFtqI0xDqC3YrIWCEhc\n",
              "UnBo9/4IGKuAlEWmSdsonYP85BaezPqexGSKgz/4RXKpgPgZ7F03hGrv0hhEVY9ubRjcHqpYdh6E\n",
              "BPkpoOoCR6irhl38kJ8U/kfoAo68OtS6WjSmBHC2On1d3ncINWCrG5WQfLOs7EtVbVO1CkTUK/Uv\n",
              "1ZXHhKyTm5yFrjA7zPiUVpV1kEMiWpka0HEO13TgmuoTlZYzZmwCQelAtlbx2P+V2Rh4UmNz0JPR\n",
              "i/M73SrLQLlmKmAO14JMNUD4b89+ZNLb1toecHKUegFYpgMBx0hcq49hzLE4yPTcFov9+dviJ/cd\n",
              "zwqO3sTXuxlCklnSltsjuHd/WgHO957X6c6/wZQpP85rrS5LDmXMrOEcewLu1O7/4GdeMOPBuyop\n",
              "tzwx0r9dsP6XyeAdvSUkN1z6zYM+ktMAXvhSjyG+nSRq6Rpxfd7P9Eq71fH1tGFE8/uOyGVGqKzp\n",
              "GiejoLNRvxgA8W1eIVjoxhrQViUX6pBnXxawIZAv6tYcr5g361pLNkbdzDUW7lt2qTH8JcjqNY+4\n",
              "xgN+gYVeQjmad8kwvCxOpz6QDSFKWPTdtdKyP1Rgggg5IUFPK03NiyEFzAwevk+f2HIMx72KUYt/\n",
              "q+l6lg4ndU4ywVbWZW2cXXjNSntjSBn1OfX1wXcdoS5QAFbQO+/zqiN0ENd/KLDPRESXCXqbVS+H\n",
              "2I5TBi80zZimy+PMORVIRrKC/3zSz68mMekLtVlBGCd68QSnnO9HwnmV6JPgVCBSl3s3TWjktBXc\n",
              "46u0kg73NO71UMIXhaZnbY4jDtIuVTZZ6Pcpq5ExitB78R5hjS2yZ095TIKLgh44Xb/R1rRytsKG\n",
              "J9JO9IdIHEaBcLz6M98GOLkvkC1z8ch2FnUZcBrkOUnlXX5eex+oV4+Gx7lOenm4QrYAAANMAZ9R\n",
              "akN/AEtr11sHmHEfaB/KcW2CwAhRkRwPtrxxakR4Ik0rroDLr6iGDKOT8U0XP18GHyX1IN0sxLFy\n",
              "ecwwp2H9SVkaws6dFiyNLedxs9Ta1993ulJ+CUnOk0bzCn6wcQ6/lkWLvkrDD1VxtOrQ9U1mseei\n",
              "aZ0oFdA1r5BWa64ko80iy5716Jh/59+Pv4hvwzQ5TlkKM/vtTkZgbdzb+0hbww4TNHm3q7fDpeBT\n",
              "G8s0lt6hpgV6iXRBp+RG6ryaQ7LNa2ew3aGx1k4U830EJX2288SPaGt9fDf9c3G14CMhg0CpizDB\n",
              "F2brc2um3bVEp8WRLX3HfRYKUoNPywg+zshuMhZHt4k3joLUs0t/dM0/vNCWFSfiS1iZrZvRRASs\n",
              "3PJ9W3XmDH8hw+iUvZ7IWcRxwsrKB4OITRQDoMSo5talAtTOMHRnzA2rmxppCR3CSQnKPVd1BGY6\n",
              "0uqJWkZFKclO/Eyb3XN8fLQHqKlfKk8RW/sBCDjcComgZXjrhNynOjRFYStR+YRng/Wgf4MipMTR\n",
              "kUh35qZ3VAKAF42nXAjtvOd62uEdI6Ovh9PGP0d32ds5jG3ztvAkrHDz5DF9lwN9/dzPMiKDR0Gz\n",
              "PFNpcBAZp2PfWHJ8IMNIcspQWR+irZUF56pw0onvLzSoONYjWAkYeYwNgdMnmaTiWxYSxvQ9O7tR\n",
              "+lIa9WoFYe8MCV7bPCwaqwL5xkwJLAqLHBnGn3tMUIg7iGIXfasDw81T//crgHIDPY1pOQth4ZYv\n",
              "bkn8c77LT1PFf2OmQNgq4cqjIw84I0ynjR9CItOnNvSKYwoJSpIyto3r8U4InUS7uHPZIswewXpT\n",
              "28nM0OqwDDWoZZcyaeSXVvbc1Ls6DBDqzwtcuGCZhV5Gq7Goy4y2EQxjRrgeT36apCu30hhTMdvf\n",
              "/0NlrG5WLJU2BiTxP37vSB0IYhdCI4bmDiT/TAcyuyRmBOcUq1EgBcenknsAo1PoVRWZXoBuMSuU\n",
              "csci5LwoRRG4vuSt3mhCtnFa66dahFAgeMJOgHtdfuKR5DnXtVotql4AIS2T7e68sb98/KF6C1Ao\n",
              "o2taCj3SW07642E3UzLLd+wgosoM67+e1Z5UHCGIG/eP95iWTPl1qXAyoQAAA1ZBm1NJqEFomUwI\n",
              "If/+qlUAAN5g08ADdivItn16m22FLA+xH65cR5PmjabItdKxfzRYkRsCt+x5NF0o5pl6aqVhqSO9\n",
              "jkhqVG0S5P1qIGM5lA+7j3Y+OfUh2WQo7oyiw67eNubCeOQv7QPG17IelWVb5Pej56a+LCEzE5RR\n",
              "sqBPByYKkI9Tx6r8ZpYMwnMlsQTCgpjmMK9tbU2aJ87qx8tk14NolSySgtk5dRRvH8Ol3/a44fop\n",
              "vdpUH+bCtBx8uWLt41AcanSiCwfw96dsztm8kM3Xmoje3eW8ZOQgNDSnSSU8DUDoTT0WJ70Gg+PR\n",
              "SgijB89/bwhLSuumqTikn+sN4FsZhp0tLfZAuL20TYJPkhB7aA3BYQePNdoN+QeWfd4CEnwkIUqq\n",
              "E+hh/HHt/nR/BQkBwLCC86v7lv/OX0yDeE8tsunTo7W7HRPnu04tWFknFrYV4B3DE8DsBvUZR+qx\n",
              "TEGsNUEwpChL0KR4kgIjaqpkyx9ZstpPAFohTD0N9/zKZCxLV1MnAH/rx4mE/UKaiFp84WksIveP\n",
              "V4eWQYw+gy6GLsXmP0ZoFjrTWf6RE3LFP8JDW8C9rdd10w16gXk2FjSAJJuo4Yt2LhojX3geSaq+\n",
              "ygc4SyDs4uRprMM06SqG63/50C6SkvAStPNHY2cA9WmZKULbzuCH+3IgNIH3ILUJP3ift+LzmBIS\n",
              "o/18aY7KFYj8KloW5AD7g+Xq3A7OL17UB0IjN5uH0IT5GVe3Xr1+XWrRGtAeA8pTS4sf5sTJldGf\n",
              "u+QxGjixZ/Wj/847NRHNHJcNXxpqRrkqDLZDH7XfEN3LdpiOzw9Lf8Kd80gvShloHHYTc4C2vLsp\n",
              "t9Bh3zKNnTW+buLQ8NOf2DbvtIaN3iJqTrL6Yw68CfZzKiAL8fPHMBdolBsDkXRr13648MvBfOCo\n",
              "16eAkNSVjFKDbp6KaMAcRyfnHuDbyCXGeVK1FPT1dRbwIob/PHydM7VTwZzmNm5AwfqATrNhj24c\n",
              "2lqJLvkTgCn4IV8vjo1sg8+adeu37RpK0nPke+F03164DYLzE/1gqHBM+LiVCDdB0iISHB8Wx1fw\n",
              "PZz2K6lute14D+zQwOqvmPd3GMBaJE1STIFZYvZa2fABNFCYv8KjM1KmhAAtoAAAA7FBm3RJ4QpS\n",
              "ZTAgh//+qlUAAN5BLuADjTJ61nvMP9+8DNL1Y/z0AbAeyf0Pnt5d5IyvbSIhA7ZDeAAdB/pdV0yO\n",
              "nWZHzV1G5zko8apJPDvKrIS61NrLEdpPPFjNYUQ3bF2TSrokRHEoVfRe8tVrQWdXQAPA2Ocjis/h\n",
              "MAnC/kgVeLdJBlNAR63rgkLz7A3ukR0WYz1iEMqM3yYhq+bxZGnMqykde4WrgOno/F+AZB1ZYrc2\n",
              "/1t/Zjl+/g01oypOAF4hQzbLWqg6SbpjocEV2qlVaO9ze4b/pVFRBDUMwysqLlJe8vEBX3HtbDzr\n",
              "d+IDlGJ2UidjpWERgXGln51NH/lqb3b+sbEAsisfIhcZQLYFtTLj00BqGjDEinzluVrHvc4xDBmG\n",
              "hTHRVYPmDvq+nPVMUj8IRmYQIgQrW7VRlTOCXQZbkZ95CQW84+wjRXfvEoynYn0ldGes7Pf6yLcU\n",
              "jzOGtF7OwVqHLK/97TANTbA/DVypsRfs4NvDspnnKV7OCnbpZyf8+ghIULvwhvsKDAOzms5vee6k\n",
              "OZl3A/mBmnA5ZYBY/39cB+56XFkBq49HFg1FEjWb0w23yHkSDQcrs5ljGJR4cvEiNq6WlSIwEHbz\n",
              "JDdtqIEvhwbVfDbg7iaN+zE28tGm+yHix7YiguBxdEP55vilMozT4A56nVr8Viw6dA3IJHHIG7i/\n",
              "zXVMZeLfVig4ShKzBPh0I9EClRdgtBShChEXPwQs5Xg02soC/saigWPHTcJhhN5pfhZsSNLythCa\n",
              "p/WGyQG+YgupHw6ciG0gI4YVOAbJt/55S9ykkvJfqzATJhRtR5Uvk/3+1xP43LIC2+0LJuSBZIYL\n",
              "hwW4qUsDmcjfLRMt5f2vW8b7T5h0g6U3VW4FKSh3A5b7YKs9XMLyXgE9QcqQKmQa7hNvpo7MzT6U\n",
              "HkrKRqdu6GnmC7TeiYGacpl905f0DA5X4ikzX6rXBM47wYeuXParar3qr4hiWhEwfD4lDRTMW70w\n",
              "q0+RZBTmvp+X1irjxaJOwFLFAt4sa/OnkGCERG0RbZAOu3nI0SvEDKFVk4F2WEqskTkbMP7BGdOa\n",
              "ZMJ8S/SHZ13hKutHy1lpxhLEDKsjSpUGeYIDdjjVOvNV4GjV+5GJa/XqlxEoRNPoacN6kCB2moKj\n",
              "/esfnApekmjcLvXpGeSZ0jOXjnHsi9EPUCTthx7AJnDXtUx18PpbcpeABi4+7VipLXl4Zzas/oA9\n",
              "jPxGWknOJjcRt/YHEmkphsjpAs0gqMW+BvQAAAPDQZuWSeEOiZTBTRMEP/6qVQAA3k0dsADdkBnl\n",
              "+fj2o2OkSBCp/3h0DuoUOT7JTgWXk4QYuZ9Ftjwouyg2kc/4ejWlSEYw4YV71O4ka3DHa4hHa1ck\n",
              "oL5uqJsjscGAeVV36xFy86JQFhQJgIj4fbuBuDDO8km0n1GHqN4aR3EeTs6ZnbWlohE5wBg3+/N9\n",
              "q+LCzSxg/Rcc5hZCSbvf+xW3n2wm2yMjX9XLUHY+vOCygpP2zfarDw1s/nRehW7z18ZOWWV15+Df\n",
              "joW5odl82r1LH2uYGqpOiRb6fKuxSVuhlA+0FJ4WaF/Qw0o/WZZcQOUQiVo84Kl6nl4v3FHn1Nny\n",
              "Ngu1scBvaFplLBheLsdDQhDOv3zPM9F8qFJGKXXDN4FNnPn12PVVzNT4HvKpsQgxyI9Wc/onzirB\n",
              "8xMRRBjotllIqAUXuO+9lNiifX7H/+W6mpHkcswJYyWU0hXhie5l7+Q7Xux18Ir9X4vgW6z0W9Ux\n",
              "mFZ3d2rMlFLJPyEUAahDPGcWtjavrmrrh5wVKgBnRgThmpsfTDUi60TeEqdXc4o3ukWhdXSvp9+j\n",
              "qpcDsV7pn4voQtGD7lo4iJbFHe0wI25M0DivjmgdG7IKsp5XVYeIb9yI4DB1/IA5hBguInxIF+uu\n",
              "mORYFFFBQ645xAHpmJJQRRHX/GLZkXOGmoYuUrDkZqFeKiNnaAmwC311kGkdZLkY+8V28HOyausS\n",
              "Zmcpx/P0B538LLWzMb8CltuNic/dlTBJaSUiQKt5V2WjJadB4btgFRnNBFLwxQjICHUA/1yHjZCb\n",
              "KyS6HVIa6YXEs5bE8K22gAkGhDYpa2s8oSVLHScAxEEOp/aytz6/nYqsyTMNDmM2QxCxlJWty/hL\n",
              "70nKJ/Fh/zrOh/KSKX/XPQRcW4Nvu3z5+53cfN0YSRD1/0e3j0BbU+zAvh4QPK8fCIcc22k7gW0B\n",
              "LTWSpf6zGvaU19lg/u16juNhZdlXeGihGOqdtaeiivOGEcWwqQj0cYgoVu028EXihgol0TxvEII+\n",
              "Lnn4IoW9EYbUTmeBJzMltLjxINMXwGK+qlw31bs8sEX3MEkPXl4t21nHxAEyCvY18/sV95czT1fb\n",
              "Mxu7H8BSnD8+11/nz8zMBSNjU2cvAlhOkH4CzLF5ExilZ2ZW/AoLjJmDWShka9rZS7yAftdo0zuh\n",
              "N8RUIV/CQMsnO0z8+36x9wH6gKm2CFf8C0MuSpgPFP9xy4Fflqs0aWnwpM2hVk/8sgrgqrDQIk4D\n",
              "NgZpIWkr8QQLAI0jz8V5KqKgfHp/2lTBAAACIAGftWpDfwACar+r2QAt2ATybrrtZNW9Nj16PTkc\n",
              "N8n62XLKTqhTPG+HkqwOmjM3uuabB4lgySiA0bjKSRsePURQRIudtKognCzxRzSs7DZgXRxnt7YS\n",
              "8t4+E0YAta+N7ci43hMT6xsUIa8ntffoKCVVlJ1NxUEI804O8dfcnr/A0dyIpNZCgMNO+TjPxE9/\n",
              "LIu0YsCsCfs9dabvzgLeJkbEzSGIMacC4nKbGb2ESpWwsH7wLQRzIPcukqv4AtB/IYrL13nqGQ1r\n",
              "E43gWAvLQ79Tn18yoIHTL7wEgltyxW2H3pFWzTlYY99mDFPdRcz1BhlThg2NDGbgT6pCWmiRgWZ2\n",
              "jwmIFAXhNp9US2UOy6Or8kYPMO9s9XfCpEFrMOB5fPMtjeFwyI4dKdU34Yb3uAxeQB7nrbdo38VZ\n",
              "IDeo1xsm4KjfqqGY9YH6QpgvY51msVPxp2WomEYbZ12naGz0h4+mubx6cmQOutnDqceh3BOwY4FJ\n",
              "lGzhbXW1vtEuOsHI+BGF/WeIKsPzCuqDCHxE/UQnOhIl1h8R64PcXeXrlY3cNuU6/POXgS/Fjgo7\n",
              "YH9KWVBBRaRMt14SWU25obpYhlM9zqY8o4Wb09lQOKFzxJBFlPE1LR5p29QzSRT8zu1iuuOdQjvg\n",
              "FAUDIbT+rs9xMaisqgUfQ/ruGicvehvuCUkh7GspJgbkMXJmHEvjLEqgAqBO02orAURBzVEAAAMA\n",
              "MyAAAAPfQZu5SeEPJlMCCH/+qlUAAN6HDa1wAWzWTVE5AxXfem4xgrOYp3qFZYLXz6j0jZNzN/KU\n",
              "5nh+bR0vLn8RAoNriIuMnj1xdC8SUEuoyu4bgHMWO2nVQ4uLuCvwXZSx58Bc8f5Fy+1/COV6z0o2\n",
              "LGLTKKT9UfgEucPuHtIVPXs5XBuoX+zR+XNe2q8+SNgUM62hHK9hzg13i6BpCXCnLTK9D84z3C5Y\n",
              "9kNWuX9vwfj60D5nE5axdUKKXFakCwuvYbDpi7bSvmvsDJmdYYyhyjpy1L50C9dTz1SRYfcxUDBS\n",
              "bYhcXhFOUQknaEtHKIjN7XF89gXhNOYNLfM4+F/SA/vuG2l0eGJEl9FZtFN6pNv/G0jSXeLzWPGR\n",
              "wap5VoyDeuE4KRcbN74b3kPhig1Sp2f3TxoVGU5gU7Sou0HYude66KfNhUnqyZ3l3ZFUW5KC8myK\n",
              "MFyvlOgy+ncZCdqxQTBNT0xm8M0rI2WfeKxh5EDSMLFORHutd/BiQGngxBi9vaoEfr4tVlqAoHuQ\n",
              "oa6iXUWRcyBU0xAcdTKoYXmess2ndqzVdD/0IXKfdbYNfLbeshgydGmVQgflCT/bulieNTv4Blb2\n",
              "Imh/OWaRNF+byVQINrfN8CtIiFiLB5bI2hYkHRuI94W7VR/fv2SjMVHMCUWUIBMMwSc5xo5k28PO\n",
              "1ZI2G0+cg7CFEH58tH/jwdG0JtdiJcAuUKs03JfbpELK+yVpvVQErZgvDS3gd9NyzHfihS/WcYIN\n",
              "/yzjQ2X0JwLlvFqBmmkitfxJZOhZsUOtIA09N6ajB89KqNv11v4mAhdILY7tu+SEY2jJHrTy2fQS\n",
              "XqNipF+74A0Vg1oh6CeZ1ninqJZtYJei894rDTBkwwK2jxOHGYAuxj0MQPvl/eskdL3Q0rG6D6M9\n",
              "y+j3FJG4Xk/1oO4Am2pv8hZWo8NtwGE/gXYPgcyQXPGe1bhDQTpzoIJ6ipyhook4Uv7rUFaaWUso\n",
              "9g8sS5rfTzmKe6xFPE5Uj1KrlQJ4MreGrGcYQQdSw0pJFlXY8VjlLW5T9iLAyIOTgjxTEsRVQrXh\n",
              "l3S5dIhkkpFa4CgmcS6wEXdUirxISx6D4LgK5GRQQXIHP48Vrc7x1mTe1DH1lZYBJSMvw/2MVjmY\n",
              "gqcPziOLTZY+/lpqjFWQM3Gh7P423YPivyDHllutTeB4HszAP5Mx2Spgq5bIrbVVxXqFGf3R1jXu\n",
              "bZSfEuuBcyl6th7u/ZHj7ucQmr5rXYNZ97s/MnbiYLIEfhzKLDwJ+E5AWBDhxINpcM+zZqU+txTw\n",
              "P/12VFCN+DqrRBMS+biAWCuK323XsEjPZKWWwQAABBhBn9dFETw3/wACbMaAAuq0pTUtEoWmIzFb\n",
              "TLZP6UZSUqaKNxi2bclqNaDjpSUFEUXUFjmPgkQFJ7YImf0VI+kp3K94ly1e98XNqcMHkb55kuWU\n",
              "dKH+rfiE1wDixS/DR0xGMxtcQ1T6bVZht6bx9ZmPae5/c0vnFoMooa3pROF8+W8qrmy6TTUzF3Gv\n",
              "GRNC718BYe7GUkbRPllEB4E2hCYAlcx9CYT/TNlGbyuoVrHsy28S5JZ4XyIRMuddkPsJbeP6FPJ7\n",
              "1HS/evAQXtLfxG+LFchR+N6rvIZcNm26gFdh9FB6Vh7tbf3Pat7ALxvbeDAbsbhcTEkWGroaFNg7\n",
              "rtT/JCBR8bVK81WlsNu/KgFmeMM9+BKtI0EPLS7Mg6lG3id281X6lNuwB4zj3hs8pJrPFZMVs9jF\n",
              "puAJItC2orDC5uXUc2Wgcd/G9XfMGhC1QO0JfhTZl1qYWu6C2PRefGYK9er+7Y9PwwC9FVLKLNGB\n",
              "ShJowKCIBtUnQnPOBBmbW/1Q+pqlvbabZY9LSTkVYlN14+wm8yotIv83G4NxfvhutAr0xu3eHQUa\n",
              "L2T4SwZzodol8tVi+p/OkWGCQLuHbajj+FHaDa8qeObIV8nUqqO2wzeW1rHWIUpepCjFopJQFWaF\n",
              "YQhUk52R4II9x110qsSQ+xHl9I3wS/mUn+4LaS4eVjIEh7/wICU28y3sgvhlfxZ/3IZE7EKQc3kL\n",
              "z1WXp3rNwZrb9691iIKAm9j4S2jwBlc6JnMgt326RrCDyhJLkVXIMHN7GNyrnipO9bEQOyRrNt/n\n",
              "N8SOj6+XFt/WFQ8rlRBdCrdCr7+wqW0X60txCH06QIEmNl/oimBQEtNjDhPWKxMPCGITgDaxAlB9\n",
              "+SK0ICPAw+DjTByngx0yCCxtkVxRgp86A10apLoVvo/bb1QvIY3Yq+8NxwhxfSH6/+CKTW2YLaXC\n",
              "TnUp/TcU35dyL6faftSdRIlgQ7PDPWqR4mnXT1upy/WIPgi0YNvE9zMTT9r1JuxR2W9aBRyxvVkg\n",
              "Mpfs4bP9mMLVMx06StQkk7+DZ5b9U+/F6ZQDzK/RnBwM/MwwD/KvPF2dtj37H046l4WQSyEXUhCF\n",
              "qj30wfDdQeDsZ1KRyd1hjEOg2uewtrOftrNghoeH7G5liw5NI521NXr0SLolbml5bnABIQDv0Ugo\n",
              "ANm+ZXortAHLJZSUe4u+Qgxtn0xJ5UiSWGrfMJ97TKGrgPTzKvJ2HtCTuRELQLx4u21jR1CK6gcG\n",
              "0OfrRsa4GeO6OwRPPgIY5+oE+6DqQX50uNPEO4BcPsHLeZL5+deToMYj6OoGQnSNNfxIz1MBKqSf\n",
              "SLOPKbaRN0IcbyvQJcF4Y6VRyzFL6wXyJknbvDuwqd4TTmI3Y8KmeV1d8rARE0MblkmjGAZVAAAD\n",
              "CAGf+GpDfwACaxnLKzF86UZ2FdY9ZlQV89XitB/63cUXjl0z++2bvwABdVp1S95AKAP6hvgEXoXH\n",
              "h5GvCuZl+coC2YBavcguE+i7PGMhS/NaYm7Fc1J0qmr78OQf3oILK/j0IpUTvkuiCzEra9/bNtwS\n",
              "nEub8ubX5xq+GnuzVf+Nsa2iucQkYaugytYJez53hKEecS0HmD979H1n6E4gIgdJhwutzOmxrARR\n",
              "EtQjKwiNVEqyZC/oh32gI9TGkJz7euwc26WSQx92cmn6q/mdGvvepFFCzjRTHxRbrjUqjOAXwalI\n",
              "SdfU4DMWd+8mDC0Y/hCtwJmHvhY954AeRJij7ts6ptO+6o1j/ZAj8Vda1Xj38NtZ2nV9eomgwH89\n",
              "cKvEAP7U/XtRiVUWz79xCWHhE9VN8aG3JhWEUQ6ebklFN18j7vfwZYGE2CxS5dqbNRVqPQcEqlWX\n",
              "qCbr1V8Wtvthz3c2b+uyPd0r7Si3bbeUsWY7pbxNkk4kDr4pDW8GqZE9zKy5r8mGQAmgUJXCWbPo\n",
              "5A1ilSkNMXqZJ9lrguf49+SCLGobzh0kgP4WTiKRIa2HAadwF4QVxwXaBYivS7cHWB5D7nGY5PcT\n",
              "WA2MF7Yj7eY/xUI7p+X3lvaH/ydlu1U4QB7tgywJqlNmFt/1T1NeikiDYpjwD7IlTweAwUSUSi32\n",
              "8Hed5fZz+RSYBiCKPozRDH3clNh44dac+GJs+zrc/ZM016mZ2JWRuygPNAM/GyCqQCBtJNoI5aLS\n",
              "lOwXFs9WdiUyFq6u8YkBMTyegIDawYwAZL+jadjD4fE54GgvVu41MmQHpX1/NCLRwvEt99Kk9+lC\n",
              "YOfDacGcPg917iiq+2I9lxK2MJaJ/e9XMhgA7gS43c3tMiYr7GzkwDalNTIcXQxQGqLexFSJyquf\n",
              "qckkEExaBL8Nq1bkCdcMFMeiuX/qKa+UukqX1+WsspwE1T1WW5ZBfHPdDnGE3XEblmhpPujabrp+\n",
              "eVe2FcniuNRf1LJQ52Y7YlBGlAfbmKnK6QV2DO4oajpKNB6QAAACGEGb+0moQWiZTBTw//6plgAD\n",
              "ZY8kwAbr8MGmwahUOHd4YAdW9ePyV6+alqBQsttnM+PoCUGG8kVeDB1vcTMon6XuZY26ZNeOWxPj\n",
              "xQiFVKp1FTbXVWy7haBglySp03bbaKCOT+hOuzDHH1z/KKoSvr9wfqyHXnpQ4zSu2lLYEE3H0O05\n",
              "dTwoFXu/PVy+/4uq4S5BuRyRJXD0/NTQL4V56l+C82VOMHY1Sm8E1j4c3U1LarDoh7vm3SNU/PM0\n",
              "dqFP0jOI5QYnrYd3Z0rvGK4b2ZXtRABSZITZGwJGu2XWC3Hepd/qLmYJVR20HLYpymQi23mPvIHv\n",
              "A/PDQbEF/mCYQeOn0+mEeDAy6OuN7ADxX0Ru3rCXG8qxGpM5w0MqFP8YZnraDDhjgpERffNmWAE8\n",
              "r6M2/mrcux3LBI8XVEeukR90spgc8KQg0DMHDSo+GgamRMmWIGMaTbSiBvW8Co+RJdwG++j5eMYi\n",
              "27furt/9c2FCiAwUMpLhbXvn2/C7fHL0QuBqaLxSzzhtr9+nZcmVGxbBZhrOt5DxHpKFZK6KCMaX\n",
              "rz6EFRzfoWssiHz3mF3dFgSq3kHE8VQeBrIsyxrX+G6WU8OEreGkYqCnc1EYUQCev3/9TB1nWx+E\n",
              "oGJoXRxNR701ikEo7eJS8wmoEkbMlZXBdowlTehhGMYYhsceN25TNBEGaqpB7mhicvisJrUw9KlL\n",
              "QaOJ9TqpAAACzwGeGmpDfwACa5GSLtx2EACda+WvYuYMWp0UVTUmk4ns2QjuBXa68oDbSUoWgfxF\n",
              "IbRPH/GPgnHuO58bv8nT0MzmhEtTqLzhtV8pXHy2jF2ADVehZN1dV2BaxJMO48qKv1uqvHFy+34t\n",
              "jlvfxjZtrDP+ACgDrnjXWF5LAzO8OcNRVeSsrGLM0UoeG4WVK70EIGjgxiFjJDeM98bKpimYF4B5\n",
              "iZtRl0TR89EEqDwjGItS87Y73TmR9wxjzNR6Mn4gHgpbeN/xzJKDL+YHaNVZX0XUSw67QpcwUW7X\n",
              "X7Ll+mvngBGtgDe7iv1I7bIP0LitPRm7oN1BuDQJKS6J/5KZKM/V7m07TOdkQBHwMnxuc0MRjYKT\n",
              "9FQtcKmo3DGTnXgGh5C3o8Q02GFdvmiPLCx9fUTTExoeZqNFmQ6pBgoyXCMiIb525jUfqRNYYOkk\n",
              "6gXr+5BlCRBlEstQpf0Oo7NZdX8SpRDY/GImwYuElm0H6Vy9LcdjJ7sHQWZ3YOZ96AuCwSlTddPv\n",
              "FQYIskSZSug4iHGRAcQ026259Ubc0RqyjyoXeHXkadzmMmPyMKJB213tc7HuEsE015HrNKDF6ohk\n",
              "SZnaryaI7qYGIS2CldOLhOjo45gwAf98JEUEFnQjbxwQcvauiNqaX5xP0rMRMuMqg60GyLUHT3Bv\n",
              "TrjtyvP8Dz7PonjKF41+Vr0y6XLZHgvmxhULeQFyIjDJatj7VfaCzsMvOQdK9yzFmGkVGhIHzugV\n",
              "xhknNgKqRF2yDL9oeaSZqv/l7uN3pK/+snvaKFJ+ISUbwO7Fw7WYOfvcIiUcfktVw52rfNvG4Hk8\n",
              "RnUUkXyR2ebREHYw6ZODpl6bCGpfBZDi9vwfpn7sAIAatGyYIYdqqhP6v98aOR/VtYveaz+cjufd\n",
              "sA5WJtIqMLK9kMYuuTawgRexOi5NCEIZviXrg9zQ/xu4q6uyf/pfnIuSuAMqAAACw0GaHEnhClJl\n",
              "MCH//qmWAANlKHBgBE1tOm3EGMpUsGrgqa28lYM2fGP2r/nnsPm8VpjbOaEn/DD96U7h6eU+r1hd\n",
              "NlzIFzM2/RMmeFgR2MWirBf8cJvmY4WIdS+D1UvHsHt8BNpATPEBHMYF0AS/LUoqyjPir9IwoPGN\n",
              "glXRv8Ku703cyJwVkQHS6I+lMCywTHIrToq7hPePUE23HtSOQ3j7FMQWOF8YZ31WEGTy1gp2O3SY\n",
              "XxGdhsDevX02eSWgcmJRh9blBKxftoLQ+wAjbquOKtezUIKf3BWgNmavq27BW1dV3vdZru2snzum\n",
              "MOvIbHGOn3ANXpM8Vlf4VYmf0KVQ4rXLys2qlIePiTP68277OfA6jBzxuG/gc/o4C4EnV5StYbjZ\n",
              "4geZV9vt1xK3CY5HvWAFWiBPKTafFNthUrtcfBM7IwjOj7Irj/pqEY/PerhCj8yAYLdt3F4XHV/O\n",
              "PqtNGqI61WDkfe3Ljn2aChTkqEsr8JLJEhcjPznBF1nUEPsfe3e10dHwrS5UAQTvskFRf24exkAS\n",
              "hsksXKbpmVs9lC2DODMlb8twWp4eq5BIn25sIq7iorQHO6QLa5EYjvEFgISoHoRfZI8khfrITJAL\n",
              "waAHRUeCK+0Q/Sm/v2oSzEFNz2Tp1S0zfHYLcHBaD9bgna2zspS+4vkMIGxTFLBeIYZVZFLLOovD\n",
              "TjZ2aW9IlSTJcbA34WjwmP+t0GbTsgU3kOaNupFgOlEp+Gpm3WN0aU7MZxtWLy2ssK6N0uO1NTq4\n",
              "/J8/OZwZEJJPeyeVfU1CUsHSwN8pOwjQ39m8kOvoiicCQ7lQRlj5B0Ztn1fuwwBqIlAp8dY1eXm2\n",
              "TnZW6Uw8bOC+ZwfjBHZK5YEwq/0vAxf9lqYAn8Q7RazZnHVWOvfdtalAZ5VgVYAYjUwMcxjUqNbV\n",
              "arf28mtdQlHq4gxGFv3RAAADjkGaPUnhDomUwIf//qmWAANl91TsAOPbUvg2vdoZgpU+Jx+Da4Df\n",
              "HzKOWl7R7Dq13WpaoxkfwpRWNDqrEodzAROqhWYQ13gSraq5rcfwetnLG4o0WdgARzXInm0+Hzcw\n",
              "XHQtaWkTpRymbLGuPhoKELn7SLO1xVik8I/ubNQ3kN6E2uZA/GfN9uwqSoTfoFKvHBieMAx/Yvs/\n",
              "zFR+KHfpC21tBuzhRtb2tDmQ2ZafKf/AfP8zqDCRKZQteP2flKntMUzv6KngjxeUznOe6BsnDzOL\n",
              "v3BaGxV3RqBWDs84f33sKOJUa2nnHIhRwEUmd6ufghG70OM6+YrUfLUR/fStFtV3xo+NsTm7NXha\n",
              "l5BdTFLUmguuq0lCIt8ph4gp0V0yB/zaOBVCuqjplLS2a+6UheY62qfmuknscxVGF7PdZz8CRbsV\n",
              "i1ljSRuVz9xUTuPhxvzg6q7mDCplCX8ECn7FRTl+DlPQWX+7clRid8dZ2rvB7xF3t9BSYIW877kS\n",
              "4owA1vDifL0aD393Op2Z/r/jhryORyIyIPbhvvKuPKNiUU0tTyus8pITu9CuH/Au2JWqdnQuZiNB\n",
              "MLCvW4ojCxYdmU9Oew+5FUqLVvzlCXtd/YRltRkBSisBExEioY4+g1k+L7PAawouLVbEROTKqlqB\n",
              "MjBLeLr4jGM02ZOSFq63Cbt+sio+pk6+aSxknjpKn52MA+/v3ABbM5CjrMdLBuz5FmZeZyThpMYW\n",
              "FdbRUFLDq0K7HFZ5TMNkCimXYd/uMbgp2zZW/fRjbSFcqLWkGCduVKvoWAx8QCC0A2rMRGS9ysQa\n",
              "vcw0wXWa7YY5WmATRd5TaC7h47UbuVs4fb7fd4qmFDIBtkFh9aAUiUBNLf+SKmY2+7uUGq453jUm\n",
              "WZTKBtKdWmjk1Wko/870ui5nnT3lkX+zGT0EeyDZwPhzOvuhCIle4B6ZjIImBbshTzPdwKMqE8G8\n",
              "BTHucePWoDA2iGmW+rf2cfmmw/WZAi2CEuNfHYM6wQCqQjKtrt4BITXPOcB8dG/cF6AmUq1+gwgv\n",
              "7bGNXxxL8aFC7CAYKnZlTkClvyf8sxQNbYx7nglq+m/4Kd8kkqpXKgTbxilXECS9+0XeKZRwUKRs\n",
              "psB8qqljxwjkRMUPFVS4Sbh+TqgKIlR6ZkKKxGWP9yKHGxHzM/lY/qkt+XszymUwQxYVa7nhlL+k\n",
              "WFNuNPNzpvejVWkfqtHcpIEAAAN5QZpeSeEPJlMCCH/+qlUAAN42GCeLAA3Y+et2mLYngVVy9ff+\n",
              "3KlANm6wpv0eRGSuTJn8RN8vn5kcfIEAx6693mGQO6ETuGrCZzq+MzVPmzQHW5UE04BLYBPsF3rn\n",
              "vSAoDY4+hK3KVd6hmKdTNftXPicbmIMhq+7i0vXAGukOvqxMb3A3O4Mdbmcn5W+qNE10aqzLsgGg\n",
              "1Q4g7cyR7tjD5tPr3x5lnkBRGakypGWVmCf23FCc1YAcOLpimSSpPMz2GMeKuCKan61SHRN9TLif\n",
              "+C6PCbr+lvaTlwH86w08206dbHxsrtRnxAcHDcTIxCkNIPucxAHcHbGe/Dsvn8z9PWAdqP9O2BC1\n",
              "igbhAx29e5oj1ypuHuyPF5RK6s/ZqSdApCMR2oy4Sw0l86/XuJSUcyTqIhAaonOsYxG2u+EFsP/0\n",
              "3DmWmzviEehQBu0FAh900iIHbNShCtnQsSL5tzPu76XT3cpPJ5KnSeLzKlhDZLEu5BuZD9jfHM3F\n",
              "qwQ+fUksf0nxcT5R19ZCQtOhqkT8ZEdtJKbSfZXYe77d+vbDCdTehWPLGOQNPsQ2ONJ5pWZJK9oI\n",
              "karg9ALTj/q+YiGdFtp/ZD8hQ5o3u63AU1vLNrVbSeLFOqm0Itx2mnNdmTtMpPiXOvtMjz4eH51B\n",
              "j/E2pfWpQtxjsuKRM/e2dWT+7mB2z6ZZ+LOVNomcrx/jzX3xL0PVr/Y+zndKDE018Xr8gouksB4Y\n",
              "YZ4VjfvPEQdeh8Dh166D56rZ7h5lzROamD09aU9YelSV++wF+S97/rXUtPCTr1Sr+H6EeRIFs5Fi\n",
              "vTYEwwrQ8edOj3Q/0DFQsbSNo9ulGnO05ZLgkLpW2DCqg37hjWnL/5fZWeU3bSretnhuGp+PW5Yg\n",
              "7TmY5GCwPT8bKpowHfovOa95BUZhAb2FjVuKpwBJ15is5O8y3buMh3Hr1W82AdFpLovCVZsAWTPw\n",
              "HjxCqAe0i/IC/7z7Yg2zl96iRwI4Ww3PhMA1AVOXIklsNCp6mIVFid9UhhRG7Cjh/Ig0moOuvbDy\n",
              "EAL9NdPPbJQJ3qTpqeHokq03jiYR0CaA8Dj1b+NlXJXs/FTA/qlF+18C6jF9kbywE/8dQEzz0rPM\n",
              "D9Cc80b1/siDBkJpfJ8rE9Fg15w9PLsyD4Gry0nX6HhdIVatIdmFRlIoKfBZRxMWFduVAgVqgAAA\n",
              "A0dBmmFJ4Q8mUwIf//6plgADZTTVABdIDs1DlJ88bd6uAFO4kpwqOeCQkz6VrVtQ3ZKlD8B8USaA\n",
              "NTPkcVtY0UghrXR8yOJJHdJW5VG+vdreHD6Z8ZGXp3na7cfz3sq8qGTEXbxleT+DK+qjK2fJHAZz\n",
              "cB1I/XrZvrEEzQ7mKSn/ZTtV/IodZAQMPcyhxgGWR2Q5FcFhRSaN8faSXD1ocN0HrNj1lY1UTnwb\n",
              "O3tLsLt340fUBtXYbkgnV+FfKRM89PfKCPWCoL1/Bo31oDltTVzTExfv0YrK0mJAB+WyweKD7VLD\n",
              "CvGhBFFo1HgkCo6VK2EvCzzIWW4F12VbOs3X7+Kpen5rphHUVANp1Mssizdc8YiKru2a8IwEgFBb\n",
              "Bye+k1UcrWMfDLp1mQpJHiCbzTMlaYxDUM9ccqTeWJuEcomszrwSjxSsZuYS8Vg8no+MeCp9NIaM\n",
              "hjB+4/htLBzKwHxa0vtsg9SoF4VnfZEwvLmHrk610J4Eq863OioWsIyV8c5WYOATuVjymzXZxsIZ\n",
              "6qsnYZiOGviriGuZJ3vP4yBVPRD72XaJdVCuptbGIyJY0Su8M+Mif2s1V/OoDwY0kZ1omNnEVQYb\n",
              "6+JryRjsSVHBzSs8EK/GTgl8F5549dU0dyuySiIHer1IaSWchfXsh7l2Sr9IHF+I9hayBh4JBCDh\n",
              "bbGHxhctkpu29qz2YRGaF2qnynCTHTmlbtyrl4O89aYVJJG/+cS1gTLSknekin0tEk7RfiYO5WBM\n",
              "hCfDxAFR0SwvLr2bIwkuNy8L/AHO7LQvbRmuZqufROwe/88YIvyh24aafJDsM8C7uPgrmePo7a7s\n",
              "cRmntdrW9JEbt7FHLH6I1GV9wgVgOv3INUVEpLwTsVxh0zwkwYYzQxpIZNpuR/ppqye8k8/x9NMI\n",
              "ZSIqIZsPvqtFI0JaOsHe15a5TDcFZqswMfuuDFK1NQKMOWyNadkwRF4rqbvmldj/mIcRNWo5kdWm\n",
              "cqdO36KeSviyvzzULBz64hUYnQUw/iPCsU3GdHUjFZY2GUxtDW/Kd738X/+PVvHMnQ9D7VbHFQIz\n",
              "1KDf5wEM2G66Z46MpQqrQwIKNWDqO06Z4+cmC3E5ijytJiUuglLewXUKSAAAA8xBnp9FETw3/wAC\n",
              "bH2QA3QOXxMEdu5zEzOcD6ZEZfHQAdT8I2EIefvumBwk6HlzSpAvMOQo/yQA1dx8sTt6jIuxnmWu\n",
              "TpmSMdO02arBnf67RT9ajCvODsWMifN864tGTH7TQbbQc5DU5SMR3DGCpVBwXRso7E7I7L1xc3/H\n",
              "iF8EF+bBYlFFHL5wqEL3Ocdv0qwJjA/z/kLpeeAIjEgMXcwmP2v3OTBaDGcWJbr571V6SUBkrsb0\n",
              "e/kFta7V+GhkJh1ovzE2l6ell6jSQqORDKAGLyuJJlMaZ8VRkJZ+ij64qxCEI7d4LrIejmbrNrTY\n",
              "jxl1HSmBjwC9geUMYjTQs/tbCDl8z3sWWy73g5ijMB2W2Tkil3atq1+U4M4ESv1iwNjaN0AhryHP\n",
              "j3jO0oyAeH+ez2s2tckPjEaE446Ilv+IP4rCYqqxqe20VFqa4P1+rHrb+5ugXRQlDA2yqKv6u5Vf\n",
              "lNTOWIzi6XMSxDAW63HuUHUqjcbnsnQlApi84EyTqY5Aft5DSGDRQDL0cVSU/enVfBz97y7kgp5S\n",
              "jwS/JES5gp5az3SAXggOFeMKfJyY8c8C1ibS1/PUKNmhdRuF9rHSYcbQOy+w4sjgJL+sDj1fmytE\n",
              "PibIt0t9vGwKYdyRlk2rzwHuLEc4rS4GUzaqXJXbhT34ibAlz57o2otc3tELxUjO7t7/dIiIU361\n",
              "q5pfFDUHEJo1W6jEa7F8ch3PTQiSuurBOkCVksINHi+6QRmCXdsOTmbjnruWsEKElrW4i7w4NcH6\n",
              "j/6J7xxQqmA7mDz3VyisOOIeqxvcjmS5zkQ1MwEXC3fY9IeGCzWThz4B/hZMLsRWOxM+qAYV+T54\n",
              "NCD2A28kINX6VdNk5/JYbpPw4FD/CtJuml4gvgbtCQ20qr9AgsOfpCGUqFH4uJReoM9+P7ZyW9t7\n",
              "gSC8gPN+mi0mK04wUE76hx5Zib3/YyN/I95rIvhmBbe8fO9lwdZNEgL8eQaFfHWmTvC/58g1t54T\n",
              "TjweUDSCEnhORXsZXW43gRgZLeyKFZRXJQVmL7g4eri+t9v6Ah7qRlFY1VUA6DISSIFNccNoau8N\n",
              "Zsb3IblsjKWbD8WpvvfbEWlVf/4JK1dJqkX3pDVtlmqqUPaLeJBtGPaRDcjZ+QGh+D0gOLK2PrRL\n",
              "ONZuj+7k2IebXVbv5lry/r3qITYR1dVFAuB4t8NPEClniaeqsvrVxzMu8exZO0RPzxXrTw4vAsNq\n",
              "QsB82iFM6HZ8DylWvOnJ6js1t61O7AHSym7MIHIxUyY4Lwr1tVZ8cGtqXQQfayRzCvkAAAJVAZ6g\n",
              "akN/AAJrXot7Ibxhg0bFaygBCMSCuZOngWTkZs6aB4DsNegL9e8Vzv/vucbgh2zT8n84ztadye1b\n",
              "dFqdYrhaH35Ir7JaA6K821Nt5g0MVvu9xQN35Bxr3w1I2JJOa4ml6rE/hFgc57+iJ+bRJT7V2ylS\n",
              "0LtHWaUY9+8EW7m7w3S7FcssvYwhrgBw734sxJLEiC+eqSNO6tH9T3gI4UIzAox0xZVDXV9Od+Fw\n",
              "ZsrcZG2s/1riKTfZtuABQyIBMRyrMTHdgAwQPL0NR8+Z/0YvxvCh32BQO3IDaqZ2FHSQ11d3D9KY\n",
              "wifP82L0AvSvpp/dwOgzyrsO+hTbcTTrkF1jBU3vPUg2RLrmp11WGMKfZiLLqvyBgdQDd7VjKgf+\n",
              "IlP/carep7Z2Y++AFQPfs9OrSRvGz8mbpIhls5Pnchwfk+GVaTVm6+UDMzUaFsMfKabYI0n7IPFM\n",
              "fEn4OZHiAd836HU4/LJy3XtcSqiei2K2rF1YpHxsjt2lzYCq4ykCtP1iVA3FmIxBExfK/KqycXqN\n",
              "ZvGfbYu4QGsmHEDrrlMgEErwmQvyDOf9En8zghDLR/NaGIOH0t+v1nG0y9C4huLSmdyMD/76yCTW\n",
              "nIPXEGee9t/7Pb12ZWZyImZr7ikrIS1xIbAF9lhziPSU2cJ6NfMpOlOVZ2Uo05KRY0M8SLch4fTn\n",
              "36aSq8R19fO93r+rL+gvniEALvnjqXeZT71JzcALaga3hzB8yaWRY6RzXVi8DUfClyJbZu+cmtm5\n",
              "HbSYP34nqQ6nD5SaU6JP2ng8QxF4AIWAAAADFUGaokmoQWiZTAh3//6plgADaCFMwASzua20rsoE\n",
              "F0zcvremUb/wSzezQWLD/Q7cgYElLqcFVLP1fxDq4I48Lwu1D8s1LTJvhmLrxrRCtYmLMO/ZeYWf\n",
              "yQ1YhQVPFkBTMHwzws5eA9mNhtFbydFDY7nX+Rk+Ce5B4Q3gD627Zxe+LgWU7kPQ9L4z6CMHX8Ff\n",
              "hqqdwPl/WvIR+9sltmT5wg9fFvrjLCZYYSGjustgM0wrt+vXP/IyEMcZZ5Vvpn7ZNOZUuCJoK03g\n",
              "RyoI7OTT5SzpguM6NpcGEYCLn3GPRGeDh97OuUGpYI1kEUwe6glJwstQwkeWZDAldutXf7Xu3kG4\n",
              "VxuHDB5SrN90jAhyCiZMSn6G1F7jMtVi9vp6QUxgS/hWV/EfLURdbMx+SGQ8IOsdSpyuxtPwMDQ9\n",
              "dWny2WZ6w9cAdz9m/dvSxxnN1MTsb30ZTas8FBNjuKtOxLsIkNnHawmEb2C+ebp8fEhMQXUwGvwd\n",
              "Xdo7NdhPkpUSaaxNXQ/H8/QXekfdfj5nCTfz5qhqKfmSSq35v0XUrRDabeSp6zz1yZzfdqmFyw8J\n",
              "wGepqsmPF6qLs/jT4PErJ7CHrpXzqq4xOoW5hJK40TvFG4mfSslAyCEmYLyYzWoCn2mqzSXUvEhs\n",
              "zCB98+ik9x4kK13TebYPQbyC+gbpydUOyUpGWm3eJn1exoaONs+zViPH4Dk0CsxfmPSVeXqRGRuY\n",
              "PTFiW+u/eWRovM9huqXF4o10D9anKHc6YrI1+RLi+MB8zoAzF0e/7N9ZUtXD++D1rLm/PqARnWl1\n",
              "Tg+80wjq3Jp+1ai8KovAh8X7dPj1qmVCFB94KsFR39CIRjevyHTyXjyvTuBhn+/eetSBGNU991Bc\n",
              "GPKyoWrTu9iAuUIFTlQ26DyjlqfTNmwZU5uYozXQk6tVPaYaL5nA38HXqR1goJeLORQ2Cx9jeAjb\n",
              "i99/q2JRKzNxvlHeNNoR3GJW8V7PGxfits2WDBo195MuwacPmkszlErhf11tQlgXu4bR64HO1XqE\n",
              "r39zXnxgLXLcjC67YLTqpwB3QQAAAptBmsNJ4QpSZTAhv/6nhAAGvWHZAC3i/NGwEkrPHKSB4dpR\n",
              "NWZ7+lXhDBrbmsTOeu99hnQ303CuUniVgZjTSr7o1Ygh2vYZfSReI7aap44a7g+3XeuFQfcms61j\n",
              "xsznPzNSRgArPQ26qKMZz6MQRvIXEA44bxoEW9Tjl4+arJ5nv1N2tBEU8tgOqTbwGq3SWS1ORBYS\n",
              "zp2zMBRt5U5sbqChyaPb+iBXdWzHqvvzRU6nYVpDF8ZoslKCSMo6f/bWj8VZODJ8zBHv+zJRPmuP\n",
              "EWsFe4oNKBBS/7NkRyZrXaDsGObn4TEty5VuQIQjymPiqPAt9ktZfyYhjmVZyQyg5cPcPE67pUrX\n",
              "IPNXKx0zz1VvWNXw6sgS7x92zCt/Em0xNu7spcIDf5Eq4mBGBaL6OxGBcC0aNj7QrdHBWB/UFjVs\n",
              "+FEyutvnmSzeeaW0xVvmoZrvDFCY9INPAu6Ii2eF1c48Mppd9XW9i7sDW3um9anAriTQ66xcY562\n",
              "in6w33qcMdJlH8J1JGJ53dngmKiuI+MKE14OW0hXC/epXDv4shDTCXEmAjdGTEqjjND2cTAWQxcV\n",
              "SGCKqvQpI9ACsXzYw5y87OVDC+DIbvAccAFx3MEqqATg6BI59XFI9bnk21gAzUT42/aeeio+fbyn\n",
              "d4yxl6NvkalQUXV9WCzJBDcsBGG2cpj7x9wHTM+BFmJ1uz080j5IqXTg6sY+e4SfgSdD3zX086Tu\n",
              "4Z8jRRK+6EtfVBnk6+LmAUWToG9ayQl3BGflWu7pIJ9IEL8cghyaZaGl+K10JFxq5t/SaeTCKOLJ\n",
              "eGoI2dgTum8dKuj/m/mpWF7WAL+mKDIsL2BE/yGHhHWsVpGLGrAjWWRaiiwuOYu/lKfRy6/jSOUC\n",
              "IC+LjcvAAAAHKm1vb3YAAABsbXZoZAAAAAAAAAAAAAAAAAAAA+gAACcQAAEAAAEAAAAAAAAAAAAA\n",
              "AAABAAAAAAAAAAAAAAAAAAAAAQAAAAAAAAAAAAAAAAAAQAAAAAAAAAAAAAAAAAAAAAAAAAAAAAAA\n",
              "AAAAAAAAAAIAAAZUdHJhawAAAFx0a2hkAAAAAwAAAAAAAAAAAAAAAQAAAAAAACcQAAAAAAAAAAAA\n",
              "AAAAAAAAAAABAAAAAAAAAAAAAAAAAAAAAQAAAAAAAAAAAAAAAAAAQAAAAAKAAAAB4AAAAAAAJGVk\n",
              "dHMAAAAcZWxzdAAAAAAAAAABAAAnEAAACAAAAQAAAAAFzG1kaWEAAAAgbWRoZAAAAAAAAAAAAAAA\n",
              "AAAAKAAAAZAAVcQAAAAAAC1oZGxyAAAAAAAAAAB2aWRlAAAAAAAAAAAAAAAAVmlkZW9IYW5kbGVy\n",
              "AAAABXdtaW5mAAAAFHZtaGQAAAABAAAAAAAAAAAAAAAkZGluZgAAABxkcmVmAAAAAAAAAAEAAAAM\n",
              "dXJsIAAAAAEAAAU3c3RibAAAALdzdHNkAAAAAAAAAAEAAACnYXZjMQAAAAAAAAABAAAAAAAAAAAA\n",
              "AAAAAAAAAAKAAeAASAAAAEgAAAAAAAAAAQAAAAAAAAAAAAAAAAAAAAAAAAAAAAAAAAAAAAAAAAAA\n",
              "ABj//wAAADVhdmNDAWQAFv/hABhnZAAWrNlAoD2hAAADAAEAAAMAFA8WLZYBAAZo6+PLIsD9+PgA\n",
              "AAAAHHV1aWRraEDyXyRPxbo5pRvPAyPzAAAAAAAAABhzdHRzAAAAAAAAAAEAAABkAAAEAAAAABRz\n",
              "dHNzAAAAAAAAAAEAAAABAAACeGN0dHMAAAAAAAAATQAAAAEAAAgAAAAAAQAADAAAAAABAAAEAAAA\n",
              "AAMAAAgAAAAAAQAADAAAAAABAAAEAAAAAAEAAAwAAAAAAQAABAAAAAADAAAIAAAAAAEAAAwAAAAA\n",
              "AQAABAAAAAABAAAIAAAAAAEAAAwAAAAAAQAABAAAAAABAAAUAAAAAAEAAAgAAAAAAQAAAAAAAAAB\n",
              "AAAEAAAAAAIAAAgAAAAAAQAADAAAAAABAAAEAAAAAAEAAAgAAAAAAQAADAAAAAABAAAEAAAAAAIA\n",
              "AAgAAAAAAQAADAAAAAABAAAEAAAAAAEAABAAAAAAAgAABAAAAAABAAAMAAAAAAEAAAQAAAAAAQAA\n",
              "CAAAAAABAAAUAAAAAAEAAAgAAAAAAQAAAAAAAAABAAAEAAAAAAEAAAwAAAAAAQAABAAAAAACAAAI\n",
              "AAAAAAEAAAwAAAAAAQAABAAAAAACAAAIAAAAAAEAAAwAAAAAAQAABAAAAAABAAAIAAAAAAEAAAwA\n",
              "AAAAAQAABAAAAAAFAAAIAAAAAAEAABAAAAAAAgAABAAAAAAEAAAIAAAAAAEAAAwAAAAAAQAABAAA\n",
              "AAABAAAIAAAAAAEAAAwAAAAAAQAABAAAAAABAAAMAAAAAAEAAAQAAAAAAQAACAAAAAABAAAMAAAA\n",
              "AAEAAAQAAAAAAQAACAAAAAABAAAUAAAAAAEAAAgAAAAAAQAAAAAAAAABAAAEAAAAAAIAAAgAAAAA\n",
              "AQAADAAAAAABAAAEAAAAAAEAABAAAAAAAgAABAAAAAABAAAMAAAAAAEAAAQAAAAAAwAACAAAAAAB\n",
              "AAAQAAAAAAIAAAQAAAAAAgAACAAAAAAcc3RzYwAAAAAAAAABAAAAAQAAAGQAAAABAAABpHN0c3oA\n",
              "AAAAAAAAAAAAAGQAACJSAAADyQAAA64AAAKzAAADCwAAA7kAAAKaAAADGwAAA5EAAANsAAADrwAA\n",
              "AukAAALEAAACJAAAAL4AAAHAAAADwwAAAwUAAAP5AAACsAAABDoAAANvAAADjQAAAyYAAAP8AAAD\n",
              "JQAAA2MAAAM3AAAC0wAAA0kAAANMAAACowAAA9AAAAPLAAADwgAAAvcAAANOAAAD3AAAAp0AAAPz\n",
              "AAADHQAAAmwAAAPEAAADXAAAA4cAAAMdAAADeAAAAnoAAAKWAAACIAAAAd4AAANRAAADTQAAA14A\n",
              "AAI6AAADBAAAA0MAAAOhAAAEKQAABGQAAAShAAACYgAAAmgAAAFqAAAD8wAAA4oAAAPrAAADzwAA\n",
              "AxwAAAKdAAADZgAAAoYAAANrAAADIgAAATAAAAIVAAACsQAAAnEAAAMhAAAEbQAAA5oAAAOaAAAD\n",
              "UAAAA1oAAAO1AAADxwAAAiQAAAPjAAAEHAAAAwwAAAIcAAAC0wAAAscAAAOSAAADfQAAA0sAAAPQ\n",
              "AAACWQAAAxkAAAKfAAAAFHN0Y28AAAAAAAAAAQAAADAAAABidWR0YQAAAFptZXRhAAAAAAAAACFo\n",
              "ZGxyAAAAAAAAAABtZGlyYXBwbAAAAAAAAAAAAAAAAC1pbHN0AAAAJal0b28AAAAdZGF0YQAAAAEA\n",
              "AAAATGF2ZjU4Ljc2LjEwMA==\n",
              "\">\n",
              "  Your browser does not support the video tag.\n",
              "</video>"
            ],
            "text/plain": [
              "<IPython.core.display.HTML object>"
            ]
          },
          "execution_count": 59,
          "metadata": {},
          "output_type": "execute_result"
        }
      ],
      "source": [
        "# Creando la figura\n",
        "fig = plt.figure()\n",
        "\n",
        "# Inicializar la cámara para capturar cada cuadro de la animación\n",
        "camera = Camera(fig)\n",
        "\n",
        "# Establecer que los ejes X y Y tengan la misma escala\n",
        "plt.axis('equal')\n",
        "plt.title('Simulación del movimiento del péndulo doble', fontweight='bold')\n",
        "\n",
        "# Haciendo un ciclo para cada captura\n",
        "for i in range(0, 200, 2):\n",
        "    # Calcula las posiciones (x, y) de las masas\n",
        "    x1 = L1 * np.sin(solution[i, 0])\n",
        "    y1 = -L1 * np.cos(solution[i, 0])\n",
        "\n",
        "    x2 = L2 * np.sin(solution[i, 2]) + x1\n",
        "    y2 = -L2 * np.cos(solution[i, 2]) + y1\n",
        "\n",
        "    # Dibujar las varillas y masas\n",
        "    plt.plot([0, x1], [0, y1], 'k-')  # Varilla del origen a la masa 1\n",
        "    plt.plot([x1, x2], [y1, y2], 'k-')  # Varilla de la masa 1 a la masa 2\n",
        "    plt.plot(x1, y1, 'ro')  # Masa 1\n",
        "    plt.plot(x2, y2, 'ro')  # Masa 2\n",
        "\n",
        "    camera.snap()  # Tomando capturas de cada instante de la gráfica\n",
        "\n",
        "# Para que no quede un gráfico en blanco para la salida\n",
        "plt.close(fig)\n",
        "\n",
        "# Animación con intervalo de 100 milisegundos entre cuadros\n",
        "anim = camera.animate(interval=100)\n",
        "\n",
        "# Mostrar animación en formato HTML\n",
        "HTML(anim.to_html5_video())\n"
      ]
    },
    {
      "cell_type": "markdown",
      "metadata": {},
      "source": [
        "### 2. Compruebe con una solución particular , que las constantes de movimiento identificadas del sistema en la **parte 2**, son en realidad constantes."
      ]
    },
    {
      "cell_type": "markdown",
      "metadata": {},
      "source": [
        "Estableciendo la velocidad angular como w"
      ]
    },
    {
      "cell_type": "code",
      "execution_count": 60,
      "metadata": {},
      "outputs": [
        {
          "data": {
            "text/latex": [
              "$\\displaystyle cte = \\frac{L_{1}^{2} m_{1} w_{1}^{2}{\\left(t \\right)}}{2} + \\frac{L_{1}^{2} m_{2} w_{1}^{2}{\\left(t \\right)}}{2} + L_{1} L_{2} m_{2} w_{1}{\\left(t \\right)} w_{2}{\\left(t \\right)} \\cos{\\left(\\theta_{1}{\\left(t \\right)} - \\theta_{2}{\\left(t \\right)} \\right)} - L_{1} g m_{1} \\cos{\\left(\\theta_{1}{\\left(t \\right)} \\right)} - L_{1} g m_{2} \\cos{\\left(\\theta_{1}{\\left(t \\right)} \\right)} + \\frac{L_{2}^{2} m_{2} w_{2}^{2}{\\left(t \\right)}}{2} - L_{2} g m_{2} \\cos{\\left(\\theta_{2}{\\left(t \\right)} \\right)}$"
            ],
            "text/plain": [
              "Eq(cte, L1**2*m1*w1(t)**2/2 + L1**2*m2*w1(t)**2/2 + L1*L2*m2*w1(t)*w2(t)*cos(theta1(t) - theta2(t)) - L1*g*m1*cos(theta1(t)) - L1*g*m2*cos(theta1(t)) + L2**2*m2*w2(t)**2/2 - L2*g*m2*cos(theta2(t)))"
            ]
          },
          "execution_count": 60,
          "metadata": {},
          "output_type": "execute_result"
        }
      ],
      "source": [
        "Pendulo_doble_Jacobi_Function_w = simplify(Pendulo_doble_Jacobi_Function.subs(\n",
        "    {Derivative(theta1, t): w1,\n",
        "    Derivative(theta2, t): w2}))\n",
        "Pendulo_doble_Jacobi_Function_w"
      ]
    },
    {
      "cell_type": "markdown",
      "metadata": {},
      "source": [
        "Convirtamos la expresión en una función de python"
      ]
    },
    {
      "cell_type": "code",
      "execution_count": 61,
      "metadata": {},
      "outputs": [],
      "source": [
        "# Regresando a su valor simbolico a los parámetros del sistema\n",
        "L1, L2, m1, m2, g = symbols('L1 L2 m1 m2 g')\n",
        "\n",
        "Pendulo_doble_Jacobi_Function_p = lambdify((theta1,theta2,  w1, w2,   g, m1, m2, L1, L2), Pendulo_doble_Jacobi_Function_w.rhs)"
      ]
    },
    {
      "cell_type": "code",
      "execution_count": 62,
      "metadata": {},
      "outputs": [],
      "source": [
        "# Estableciendo númericamente los parámetros\n",
        "L1, L2, m1, m2, g = L1p, L2p, m1p, m2p, gp "
      ]
    },
    {
      "cell_type": "code",
      "execution_count": 63,
      "metadata": {},
      "outputs": [
        {
          "data": {
            "text/plain": [
              "array([-25.96858582, -25.96858577, -25.96858593, -25.96858634,\n",
              "       -25.9685862 , -25.96858619, -25.9685863 , -25.96858645,\n",
              "       -25.96858666, -25.96858673, -25.96858667, -25.96858659,\n",
              "       -25.96858663, -25.96858667, -25.96858625, -25.96858573,\n",
              "       -25.96858666, -25.96858639, -25.96858573, -25.96858638,\n",
              "       -25.96858655, -25.9685865 , -25.96858656, -25.96858661,\n",
              "       -25.96858663, -25.96858664, -25.96858664, -25.96858663,\n",
              "       -25.96858664, -25.96858665, -25.9685867 , -25.96858679,\n",
              "       -25.96858695, -25.96858711, -25.96858631, -25.96858552,\n",
              "       -25.96858609, -25.96858653, -25.96858589, -25.9685859 ,\n",
              "       -25.96858607, -25.96858619, -25.96858621, -25.96858626,\n",
              "       -25.96858616, -25.96858608, -25.96858598, -25.96858635,\n",
              "       -25.96858646, -25.9685866 , -25.96858647, -25.96858632,\n",
              "       -25.96858639, -25.96858643, -25.96858644, -25.96858645,\n",
              "       -25.96858647, -25.96858646, -25.96858648, -25.9685865 ,\n",
              "       -25.96858645, -25.96858644, -25.96858653, -25.96858654,\n",
              "       -25.96858649, -25.9685864 , -25.9685864 , -25.96858637,\n",
              "       -25.96858643, -25.96858653, -25.96858655, -25.9685863 ,\n",
              "       -25.96858612, -25.9685865 , -25.9685866 , -25.96858669,\n",
              "       -25.96858676, -25.96858685, -25.96858669, -25.96858662,\n",
              "       -25.96858667, -25.96858677, -25.96858686, -25.96858697,\n",
              "       -25.96858715, -25.96858639, -25.96858631, -25.96858706,\n",
              "       -25.96858605, -25.96858668, -25.96858625, -25.96858609,\n",
              "       -25.96858611, -25.96858618, -25.9685862 , -25.9685862 ,\n",
              "       -25.9685862 , -25.96858621, -25.96858619, -25.96858617,\n",
              "       -25.96858616, -25.96858616, -25.96858614, -25.96858603,\n",
              "       -25.96858597, -25.96858669, -25.96858686, -25.96858672,\n",
              "       -25.96858639, -25.96858642, -25.96858645, -25.96858643,\n",
              "       -25.96858643, -25.96858636, -25.9685862 , -25.96858641,\n",
              "       -25.9685864 , -25.96858639, -25.96858637, -25.96858639,\n",
              "       -25.9685864 , -25.96858638, -25.96858638, -25.96858638,\n",
              "       -25.96858638, -25.96858641, -25.96858638, -25.96858626,\n",
              "       -25.96858623, -25.96858624, -25.9685863 , -25.96858631,\n",
              "       -25.9685861 , -25.96858579, -25.96858565, -25.96858556,\n",
              "       -25.96858549, -25.96858553, -25.96858568, -25.96858545,\n",
              "       -25.96858558, -25.96858611, -25.96858596, -25.96858571,\n",
              "       -25.96858566, -25.96858566, -25.96858567, -25.96858567,\n",
              "       -25.96858567, -25.96858568, -25.96858568, -25.96858568,\n",
              "       -25.9685857 , -25.96858582, -25.96858603, -25.96858593,\n",
              "       -25.96858553, -25.96858552, -25.96858611, -25.96858589,\n",
              "       -25.96858648, -25.96858638, -25.96858622, -25.96858621,\n",
              "       -25.96858622, -25.96858622, -25.96858622, -25.96858621,\n",
              "       -25.96858613, -25.9685861 , -25.96858613, -25.96858612,\n",
              "       -25.96858622, -25.96858641, -25.96858635, -25.96858598,\n",
              "       -25.96858575, -25.96858574, -25.9685858 , -25.96858583,\n",
              "       -25.96858593, -25.96858603, -25.96858593, -25.96858589,\n",
              "       -25.96858593, -25.9685859 , -25.96858588, -25.96858589,\n",
              "       -25.96858588, -25.96858587, -25.96858589, -25.96858589,\n",
              "       -25.96858588, -25.96858607, -25.96858619, -25.96858607,\n",
              "       -25.96858603, -25.96858622, -25.96858618, -25.96858615])"
            ]
          },
          "execution_count": 63,
          "metadata": {},
          "output_type": "execute_result"
        }
      ],
      "source": [
        "values_jacobi_function = Pendulo_doble_Jacobi_Function_p(\n",
        "   solution[:, 0], solution[:, 2], solution[:, 1],\n",
        "   solution[:, 3], g, m1, m2, L1, L2\n",
        ")"
      ]
    },
    {
      "cell_type": "code",
      "execution_count": 64,
      "metadata": {},
      "outputs": [
        {
          "data": {
            "text/plain": [
              "[<matplotlib.lines.Line2D at 0x7ff419358df0>]"
            ]
          },
          "execution_count": 64,
          "metadata": {},
          "output_type": "execute_result"
        },
        {
          "data": {
            "image/png": "[encoded data removed]",
            "text/plain": [
              "<Figure size 640x480 with 1 Axes>"
            ]
          },
          "metadata": {},
          "output_type": "display_data"
        }
      ],
      "source": [
        "plt.plot(t_integrate,values_jacobi_function)"
      ]
    }
  ],
  "metadata": {
    "colab": {
      "provenance": []
    },
    "kernelspec": {
      "display_name": "Python 3",
      "name": "python3"
    },
    "language_info": {
      "codemirror_mode": {
        "name": "ipython",
        "version": 3
      },
      "file_extension": ".py",
      "mimetype": "text/x-python",
      "name": "python",
      "nbconvert_exporter": "python",
      "pygments_lexer": "ipython3",
      "version": "3.10.12"
    }
  },
  "nbformat": 4,
  "nbformat_minor": 0
}
