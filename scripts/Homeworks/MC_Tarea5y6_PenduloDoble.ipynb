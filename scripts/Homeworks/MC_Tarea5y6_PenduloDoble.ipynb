{
  "cells": [
    {
      "cell_type": "markdown",
      "metadata": {
        "id": "6XE49aAfGdAu"
      },
      "source": [
        "<p>\n",
        "<img src=\"https://drive.google.com/uc?id=1ZHUKcwzA5c-PKUwoGmBG3TsHk6TmZ-Y0\" align=\"left\" width=\"250\">\n",
        "</p>\n",
        "<p>\n",
        "<h1><b><center>Mecánica Celeste</center></b></h1>\n",
        "<h2><b><center>Prof. Jorge I. Zuluaga</center></b></h1>\n",
        "<h2><b><center>Tarea 5 y 6</center></b><h2>\n",
        "<h3><b><center>El péndulo doble</center></b><h3>\n",
        "<h5><center><b>Asignada</b>: 26 de Octubre de 2023</center><h5>\n",
        "<h5><center><b>Entrega</b>: 14 de Noviembre de 2023</center><h5>\n",
        "</p>"
      ]
    },
    {
      "cell_type": "markdown",
      "metadata": {
        "id": "DZ3br0tlHiUH"
      },
      "source": [
        "<hr/>\n",
        "<b>Nombre</b>: Bryan Camilo Restrepo Arcila\n",
        "<br/>\n",
        "<b>Cédula</b>: 1000567825\n",
        "<br/>\n",
        "<b>Última actualización</b>:\n",
        "<hr/>"
      ]
    },
    {
      "cell_type": "markdown",
      "metadata": {
        "id": "32KKSLFEHYpg"
      },
      "source": [
        "## Enunciado"
      ]
    },
    {
      "cell_type": "markdown",
      "metadata": {
        "id": "BJv9-ZZAIUgW"
      },
      "source": [
        "**Objetivo**: Estudiar la dinámica del péndulo doble utilizando los métodos de Lagrange y Hamilton.\n",
        "\n",
        "Un péndulo doble es un sistema formado por 2 partículas puntuales de masas $m_1$ y $m_2$ unidas por varillas inextensibles de longitudes $L_1$ y $L_2$. La varilla $L_1$ esta fija a un punto del espacio.\n",
        "\n",
        "**Procedimiento**:"
      ]
    },
    {
      "cell_type": "markdown",
      "metadata": {
        "id": "xYGuJo1gfAf3"
      },
      "source": [
        "**Parte 1. La receta de Lagrange**\n",
        "\n",
        "1. Para este sistema identifique:\n",
        "\n",
        "  - Número de partículas: _____________\n",
        "  - Número de coordenadas: _____________\n",
        "  - Número de restricciones: _____________\n",
        "  - Número de grados de libertad: _____________\n",
        "\n",
        "2. Escriba las ecuaciones que describen las restricciones del sistema.\n",
        "\n",
        "3. Identifique las variables generalizadas del sistema y explique por qué esas variables son apropiadas para describir el sistema con el método de Lagrange.\n",
        "\n",
        "4. Escriba las ecuaciones que permiten transformar de las variables generalizadas $\\{q_j\\}_M$ a las coordenadas $\\{\\vec r_i\\}_N$ y viceversa (transformación inversa).\n",
        "\n",
        "5. Usando `SymPy` escriba una rutina que, dadas las ecuaciones de transformación  $\\{\\vec r_i(\\{q_j\\}_M)\\}_N$ calcule la función de energía cinética para el sistema. Intente que la rutina sea tan general posible que pueda ser aplicada a otros sistemas.\n",
        "\n",
        "6. Usando `SymPy` escriba una rutina que, dadas las ecuaciones de transformación  $\\{\\vec r_i(\\{q_j\\}_M)\\}_N$ y las componentes cartesianas de las fuerzas que actúan sobre las partículas, determine las fuerzas generalizadas. Intente que la rutina sea tan general posible que pueda ser aplicada a otros sitstemas.\n",
        "\n",
        "7. Usando los resultados en 5 y en 6, escriba las ecuaciones de movimiento del sistema. Es normal que las ecuaciones se escriban como la segunda derivada de cada variable generalizada como función de las primeras derivada de las variables generalizadas y las variables generalizadas en sí.  Es decir las ecuaciones deben tener la forma:\n",
        "\n",
        "  $$\n",
        "  \\ddot q_j = f_j (t,\\{q_j\\}_M,\\{\\dot q_j\\}_M)\n",
        "  $$\n"
      ]
    },
    {
      "cell_type": "markdown",
      "metadata": {
        "id": "ZZiwA0xtfEJf"
      },
      "source": [
        "**Parte 2. Lagrangiano**\n",
        "\n",
        "1. Encuentre la forma de la función potencial de la que derivan las fuerzas generalizadas del sistema.\n",
        "\n",
        "2. Con la función potencial y la función lagrangiana, escriba el lagrangiano del sistema.\n",
        "\n",
        "3. Deduzca, a partir de las ecuaciones de Euler-Lagrange, las ecuaciones de movimiento y verifique que coinciden con las ecuaciones de movimiento obtenidas a partir de las ecuaciones de Lagrange.\n",
        "\n",
        "4. Evalúe las simetrías del lagrangiano:\n",
        "  - ¿Tiene simetría de traslación?: _________ en caso afirmativo ¿cuáles son las constantes (cuadraturas) asociadas?: _________\n",
        "  - ¿Tiene simetría de rotación?: _________ en caso afirmativo ¿cuáles son las constantes (cuadraturas) asociadas?: _________\n",
        "  - ¿Tiene simetría temporal?: _________ en caso afirmativo ¿cuáles son las constantes (cuadraturas) asociadas?: _________\n",
        "  - ¿Tiene variables cíclicas? ¿cuáles?: _________\n",
        "  - Escriba explícitamente la función de Jacobi $h(t,\\{q_j\\}_M,\\{\\dot q_j\\}_M)$ del sistema y diga si es constante o no."
      ]
    },
    {
      "cell_type": "markdown",
      "metadata": {
        "id": "-1Iz7rhZg2DA"
      },
      "source": [
        "**Parte 3. Hamiltoniano**\n",
        "\n",
        "1. Escriba los momentos generalizados $\\{p_j\\}_M$ del sistema como función de las velocidades generalizadas $\\{q_j\\}_M$ del sistema.\n",
        "\n",
        "2. Escriba la función de energía cinética en función de $\\{p_j\\}_M$.\n",
        "\n",
        "3. Escriba el Lagrangianop $\\{L_{qp}(t,\\{q_j\\}_M,\\{p_j\\}_M)\\}$ del sistema.\n",
        "\n",
        "4. Escriba el Hamiltoniano $\\{H(t,\\{q_j\\}_M,\\{p_j\\}_M)\\}$ del sistema.\n",
        "\n",
        "5. A partir del Hamiltoniano escriba explícitamente las ecuaciones de movimiento usando las ecuaciones canónicas."
      ]
    },
    {
      "cell_type": "markdown",
      "metadata": {
        "id": "LFjc7elmhk2_"
      },
      "source": [
        "**Parte 4. Experimentos numéricos**\n",
        "\n",
        "1. Escriba un programa para resolver numéricamente las ecuaciones de movimiento obtenidas en la **parte 1**. Con condiciones iniciales apropiadas, resuelva las ecuaciones y haga una animación del movimiento del péndulo.\n",
        "\n",
        "2. Compruebe con una solución particular , que las constantes de movimiento identificadas del sistema en la **parte 2**, son en realidad constantes.\n",
        "\n",
        "3. Escriba un programa para resolver numéricamente las ecuaciones de movimiento obtenidas en la **parte 3**. Con condiciones iniciales apropiadas, resuelva las ecuaciones y haga una animación del movimiento del péndulo.\n",
        "\n",
        "4. El espacio de fases del sistema tiene muchas dimensiones. Se puede reducir si si fijan algunas variables del sistema. Fije en 0 el valor de las variables y momentos generalizados de la partícula 1 y gráfique contornos del Hamiltoniano en el espacio de fase resultante con las variables y momentos generalizados de la partícula 2.\n",
        "\n",
        "5. Es bien sabido que el péndulo doble experimenta caos. Vamos a comprobarlo. Escoja condiciones iniciales arbitrarias para las variables (use las variables del formalismo Hamiltoniano). Grafique la evolución en el tiempo de las variables generalizadas de ambas partículas. Cambie ahora sutilmente las condiciones iniciales y estudie la evolución a largo plazo de las variables generalizadas.  Haga una animación que muestre la evolución del sistema con condiciones sutilmente diferentes como la que aparece [aquí](https://en.wikipedia.org/wiki/Double_pendulum#/media/File:Demonstrating_Chaos_with_a_Double_Pendulum.gif)."
      ]
    },
    {
      "cell_type": "markdown",
      "metadata": {
        "id": "NI1EmWvOa_o2"
      },
      "source": [
        "**Resultados esperados**:\n",
        "\n",
        "- Este notebook con el procedimiento debidamente comentado.\n",
        "\n",
        "- Respuestas a las preguntas que terminan en '________'.\n",
        "\n",
        "- Rutinas solicitadas.\n",
        "\n",
        "- Fórmulas solicitadas: ecuaciones de movimiento, forma explícita de las funciones de energía cinética, fuerzas generalizadas, lagrangiano, hamiltoniano.\n",
        "\n",
        "- Gráficos:\n",
        "  - Constantes de movimiento.\n",
        "  - Animaciones del movimiento.\n",
        "  - Contornos del Hamiltoniano.\n",
        "  - Evolución de las variables generalizadas.\n",
        "  - Animación ilustrando el caos.\n",
        "\n",
        "- En caso de utilizar ayudas como `ChatGPT` o códigos de `Stack Over Flow` debe citar debidamente la fuente, pero también entender a cabalidad el código, el profesor puede pedir justificación."
      ]
    },
    {
      "cell_type": "markdown",
      "metadata": {},
      "source": [
        "Instalemos las librerias necesarias"
      ]
    },
    {
      "cell_type": "code",
      "execution_count": 59,
      "metadata": {},
      "outputs": [],
      "source": [
        "import numpy as np\n",
        "import sympy as sp\n",
        "from sympy import symbols, Function, diff, sin, cos, simplify, Rational\n"
      ]
    },
    {
      "cell_type": "markdown",
      "metadata": {
        "id": "J0ISSYQpHex_"
      },
      "source": [
        "## Solución"
      ]
    },
    {
      "cell_type": "markdown",
      "metadata": {},
      "source": [
        "\n",
        "1. Para este sistema identifique:\n",
        "\n",
        "  - Número de partículas: ______2_______\n",
        "  - Número de coordenadas: ______6_______\n",
        "  - Número de restricciones: ______4_______\n",
        "  - Número de grados de libertad: ______2_______"
      ]
    },
    {
      "cell_type": "markdown",
      "metadata": {},
      "source": [
        "### 2. Escriba las ecuaciones que describen las restricciones del sistema."
      ]
    },
    {
      "cell_type": "markdown",
      "metadata": {},
      "source": [
        "Definamos los simbolos para todo nuestro procedimiento"
      ]
    },
    {
      "cell_type": "code",
      "execution_count": 60,
      "metadata": {},
      "outputs": [
        {
          "name": "stdout",
          "output_type": "stream",
          "text": [
            "Restricciones del pendulo doble\n"
          ]
        },
        {
          "data": {
            "text/latex": [
              "$\\displaystyle z_{1} = 0$"
            ],
            "text/plain": [
              "Eq(z1, 0)"
            ]
          },
          "metadata": {},
          "output_type": "display_data"
        },
        {
          "data": {
            "text/latex": [
              "$\\displaystyle z_{2} = 0$"
            ],
            "text/plain": [
              "Eq(z2, 0)"
            ]
          },
          "metadata": {},
          "output_type": "display_data"
        },
        {
          "data": {
            "text/latex": [
              "$\\displaystyle x_{1}^{2} + y_{1}^{2} = L_{1}^{2}$"
            ],
            "text/plain": [
              "Eq(x1**2 + y1**2, L1**2)"
            ]
          },
          "metadata": {},
          "output_type": "display_data"
        },
        {
          "data": {
            "text/latex": [
              "$\\displaystyle \\left(- x_{1} + x_{2}\\right)^{2} + \\left(- y_{1} + y_{2}\\right)^{2} = L_{2}^{2}$"
            ],
            "text/plain": [
              "Eq((-x1 + x2)**2 + (-y1 + y2)**2, L2**2)"
            ]
          },
          "metadata": {},
          "output_type": "display_data"
        }
      ],
      "source": [
        "# Definiendo simbolos\n",
        "\n",
        "# sistema de q_s:\n",
        "L1, L2, theta1, theta2 = sp.symbols('L1 L2 theta1 theta2')\n",
        "\n",
        "# Sistema cartesiano\n",
        "x1, y1, z1, x2, y2, z2 = sp.symbols('x1 y1 z1 x2 y2 z2')\n",
        "\n",
        "## Restricciones del sistema \n",
        "\n",
        "# Restricciones de movimiento en un plano\n",
        "first_restriction = sp.Eq(z1, 0) \n",
        "second_restriction =  sp.Eq(z2,0)\n",
        "\n",
        "# Restricciones de las varillas:\n",
        "third_restriction = sp.Eq(x1**2 + y1**2 , L1**2)\n",
        "fourth_restriction = sp.Eq((x2 - x1)**2 + (y2 - y1)**2, L2**2)\n",
        "\n",
        "# Imprimamos las restricciones\n",
        "print('Restricciones del pendulo doble')\n",
        "display(first_restriction, second_restriction, third_restriction, fourth_restriction)"
      ]
    },
    {
      "cell_type": "markdown",
      "metadata": {},
      "source": [
        "### 3. Identifique las variables generalizadas del sistema y explique por qué esas variables son apropiadas para describir el sistema con el método de Lagrange."
      ]
    },
    {
      "cell_type": "markdown",
      "metadata": {},
      "source": [
        "La variables generalizadas más correctas del problema del pendulo doble son los angulos $\\theta_1$ y $\\theta_2$, estos angulos son los angulos que tienen las varillas con respecto al eje y, y tienen ventajas respecto a otras coordendas generalizadas porque:\n",
        "\n",
        "- Reducen el número de coordenadas necesarias: Al utilizar los ángulos, se reducen las cuatro coordenadas cartesianas a solo dos coordenadas generalizadas.\n",
        "\n",
        "- Simplifican las restricciones: Las longitudes de las varillas son constantes y, por tanto, no necesitan ser consideradas como variables independientes. Los ángulos incorporan naturalmente esta restricción geométrica."
      ]
    },
    {
      "cell_type": "markdown",
      "metadata": {},
      "source": [
        "### 4. Escriba las ecuaciones que permiten transformar de las variables generalizadas $\\{q_j\\}_M$ a las coordenadas $\\{\\vec r_i\\}_N$ y viceversa (transformación inversa).\n"
      ]
    },
    {
      "cell_type": "code",
      "execution_count": 61,
      "metadata": {},
      "outputs": [
        {
          "name": "stdout",
          "output_type": "stream",
          "text": [
            "De coordenadas generalizadas a cartesianas\n"
          ]
        },
        {
          "data": {
            "text/latex": [
              "$\\displaystyle x_{1} = L_{1} \\sin{\\left(\\theta_{1} \\right)}$"
            ],
            "text/plain": [
              "Eq(x1, L1*sin(theta1))"
            ]
          },
          "metadata": {},
          "output_type": "display_data"
        },
        {
          "data": {
            "text/latex": [
              "$\\displaystyle y_{1} = L_{1} \\cos{\\left(\\theta_{1} \\right)}$"
            ],
            "text/plain": [
              "Eq(y1, L1*cos(theta1))"
            ]
          },
          "metadata": {},
          "output_type": "display_data"
        },
        {
          "data": {
            "text/latex": [
              "$\\displaystyle x_{2} = L_{1} \\sin{\\left(\\theta_{1} \\right)} + L_{2} \\sin{\\left(\\theta_{2} \\right)}$"
            ],
            "text/plain": [
              "Eq(x2, L1*sin(theta1) + L2*sin(theta2))"
            ]
          },
          "metadata": {},
          "output_type": "display_data"
        },
        {
          "data": {
            "text/latex": [
              "$\\displaystyle y_{2} = L_{1} \\cos{\\left(\\theta_{1} \\right)} + L_{2} \\cos{\\left(\\theta_{2} \\right)}$"
            ],
            "text/plain": [
              "Eq(y2, L1*cos(theta1) + L2*cos(theta2))"
            ]
          },
          "metadata": {},
          "output_type": "display_data"
        },
        {
          "name": "stdout",
          "output_type": "stream",
          "text": [
            "De cartesianas a generalizadas\n"
          ]
        },
        {
          "data": {
            "text/latex": [
              "$\\displaystyle \\theta_{1} = \\operatorname{asin}{\\left(\\frac{x_{1}}{L_{1}} \\right)}$"
            ],
            "text/plain": [
              "Eq(theta1, asin(x1/L1))"
            ]
          },
          "metadata": {},
          "output_type": "display_data"
        },
        {
          "data": {
            "text/latex": [
              "$\\displaystyle \\theta_{1} = \\operatorname{acos}{\\left(\\frac{y_{1}}{L_{1}} \\right)}$"
            ],
            "text/plain": [
              "Eq(theta1, acos(y1/L1))"
            ]
          },
          "metadata": {},
          "output_type": "display_data"
        },
        {
          "data": {
            "text/latex": [
              "$\\displaystyle \\theta_{2} = - \\operatorname{asin}{\\left(\\frac{x_{1} - x_{2}}{L_{2}} \\right)}$"
            ],
            "text/plain": [
              "Eq(theta2, -asin((x1 - x2)/L2))"
            ]
          },
          "metadata": {},
          "output_type": "display_data"
        }
      ],
      "source": [
        "# Definiendo el eje positivo y hacía abajo, y el x hacía la derecha \n",
        "\n",
        "# Primero de coordenadas generalizadas a cartesianas\n",
        "x1_equation = sp.Eq(x1, L1 * sp.sin(theta1))\n",
        "y1_equation = sp.Eq(y1, L1 * sp.cos(theta1))\n",
        "x2_equation = sp.Eq(x2, L1 * sp.sin(theta1) + L2 * sp.sin(theta2) )\n",
        "y2_equation = sp.Eq(y2, L1 * sp.cos(theta1) + L2 * sp.cos(theta2))\n",
        "\n",
        "## Ahora de cartesianas a generalizadas\n",
        "\n",
        "# Primero resolvamos las ecuaciones \n",
        "theta1_solutions = sp.solve(( x1_equation), theta1) # Dos soluciones para theta1\n",
        "theta1_solutions_2 = sp.solve(( y1_equation), theta1)\n",
        "\n",
        "theta2_solutions = sp.solve((  x2_equation, y2_equation), theta2) # Dos soluciones para theta2\n",
        "\n",
        "# Poniendo las soluciones en ecuaciones\n",
        "theta1_equation = sp.Eq(theta1, theta1_solutions[1])\n",
        "theta1_equation_2 = sp.Eq(theta1, theta1_solutions_2[1]) \n",
        "\n",
        "# Reemplando L1*sin(theta1) por x1\n",
        "theta2_solution = theta2_solutions[1][0].subs(L1 * sp.sin(theta1), x1)\n",
        "theta2_equation = sp.Eq(theta2, theta2_solution) # Construyendo la ecuación\n",
        "\n",
        "## Imprimiendo nuestros resultados\n",
        "print('De coordenadas generalizadas a cartesianas')\n",
        "display(x1_equation, y1_equation, x2_equation, y2_equation)\n",
        "\n",
        "print('De cartesianas a generalizadas')\n",
        "display(theta1_equation, theta1_equation_2, theta2_equation)"
      ]
    },
    {
      "cell_type": "markdown",
      "metadata": {},
      "source": [
        "5. Usando `SymPy` escriba una rutina que, dadas las ecuaciones de transformación  $\\{\\vec r_i(\\{q_j\\}_M)\\}_N$ calcule la función de energía cinética para el sistema. Intente que la rutina sea tan general posible que pueda ser aplicada a otros sitstemas."
      ]
    },
    {
      "cell_type": "code",
      "execution_count": 62,
      "metadata": {},
      "outputs": [
        {
          "data": {
            "text/latex": [
              "$\\displaystyle L_{1} \\cos{\\left(\\theta_{1}{\\left(t \\right)} \\right)} \\frac{d}{d t} \\theta_{1}{\\left(t \\right)}$"
            ],
            "text/plain": [
              "L1*cos(theta1(t))*Derivative(theta1(t), t)"
            ]
          },
          "execution_count": 62,
          "metadata": {},
          "output_type": "execute_result"
        }
      ],
      "source": [
        "# Vamos a usar 'Function' para definir theta1 como una función del tiempo.\n",
        "from sympy import symbols, Function, cos\n",
        "\n",
        "# Definir theta1 como función del tiempo t\n",
        "t = symbols('t')\n",
        "theta1 = Function('theta1')(t)\n",
        "L1 = symbols('L1')\n",
        "\n",
        "# Definir x1 en términos de theta1(t)\n",
        "x1 = L1 * sp.sin(theta1)\n",
        "\n",
        "# Calcular dx1/dt usando 'diff' que automáticamente tomará en cuenta la cadena de derivadas\n",
        "dx1_dt = sp.diff(x1, t)\n",
        "dx1_dt\n"
      ]
    },
    {
      "cell_type": "code",
      "execution_count": 65,
      "metadata": {},
      "outputs": [
        {
          "data": {
            "text/latex": [
              "$\\displaystyle \\frac{L_{1}^{2} m_{1} \\left(\\frac{d}{d t} \\operatorname{theta1(t)}{\\left(t \\right)}\\right)^{2}}{2} + \\frac{m_{2} \\left(L_{1}^{2} \\left(\\frac{d}{d t} \\operatorname{theta1(t)}{\\left(t \\right)}\\right)^{2} + 2 L_{1} L_{2} \\cos{\\left(\\operatorname{theta1(t)}{\\left(t \\right)} - \\theta_{2}{\\left(t \\right)} \\right)} \\frac{d}{d t} \\operatorname{theta1(t)}{\\left(t \\right)} \\frac{d}{d t} \\theta_{2}{\\left(t \\right)} + L_{2}^{2} \\left(\\frac{d}{d t} \\theta_{2}{\\left(t \\right)}\\right)^{2}\\right)}{2}$"
            ],
            "text/plain": [
              "L1**2*m1*Derivative(theta1(t)(t), t)**2/2 + m2*(L1**2*Derivative(theta1(t)(t), t)**2 + 2*L1*L2*cos(theta1(t)(t) - theta2(t))*Derivative(theta1(t)(t), t)*Derivative(theta2(t), t) + L2**2*Derivative(theta2(t), t)**2)/2"
            ]
          },
          "execution_count": 65,
          "metadata": {},
          "output_type": "execute_result"
        }
      ],
      "source": [
        "def kinetic_energy_3d(transform_equations_per_particle):\n",
        "    \"\"\"\n",
        "    Esta función recibe una lista de diccionarios, donde cada diccionario\n",
        "    debe contener las ecuaciones de transformación de sympy y\n",
        "    las variables generalizadas por cada ecuación, si no aparece la función\n",
        "    se asume esta como 0, por ejemplo en el caso de z=0.\n",
        "\n",
        "    Retorna la función de energía cinética del sistema considerando movimiento en x, y, z.\n",
        "    \"\"\"\n",
        "    T_total = 0  # Energía cinética total del sistema inicialmente es cero\n",
        "    t = symbols('t')  # Símbolo para el tiempo\n",
        "\n",
        "    # Procesamos cada partícula y calculamos su energía cinética\n",
        "    for particle in transform_equations_per_particle:\n",
        "        m = particle['mass']  # Masa de la partícula\n",
        "        q = particle['q']  # Variables generalizadas como funciones del tiempo\n",
        "\n",
        "        # Convertimos las variables generalizadas a funciones del tiempo y calculamos sus derivadas\n",
        "        q_funcs = {qi: Function(str(qi))(t) for qi in q}\n",
        "        dq_funcs = {qi: diff(q_func, t) for qi, q_func in q_funcs.items()}\n",
        "\n",
        "        # Sustituimos las variables generalizadas en las ecuaciones de transformación por las funciones\n",
        "        x = particle['x'].subs(q_funcs) if 'x' in particle else 0\n",
        "        y = particle['y'].subs(q_funcs) if 'y' in particle else 0\n",
        "        z = particle['z'].subs(q_funcs) if 'z' in particle else 0\n",
        "\n",
        "        # Calculamos las derivadas de x, y, y z con respecto al tiempo usando la regla de la cadena\n",
        "        vx = x.diff(t).subs(dq_funcs) if 'x' in particle else 0\n",
        "        vy = y.diff(t).subs(dq_funcs) if 'y' in particle else 0\n",
        "        vz = z.diff(t).subs(dq_funcs) if 'z' in particle else 0\n",
        "\n",
        "        # Calculamos la energía cinética de la partícula y la sumamos al total\n",
        "        T = Rational(1, 2) * m * (vx**2 + vy**2 + vz**2)\n",
        "        T_total += T\n",
        "\n",
        "    # Simplificamos la energía cinética total y la retornamos\n",
        "    return simplify(T_total)\n",
        "\n",
        "# Ejemplo de uso de la función con movimiento en z\n",
        "# Definir las variables generalizadas\n",
        "q1, q2 = symbols('q1 q2')\n",
        "m1, m2, L1, L2 = symbols('m1 m2 L1 L2')\n",
        "\n",
        "# Lista de ecuaciones de transformación para cada partícula considerando también z\n",
        "z2 = Function('z2')(t)  # Definimos z2 como una función del tiempo t\n",
        "transform_equations_per_particle = [\n",
        "    {\n",
        "        'mass': m1,\n",
        "        'x': L1 * sin(theta1),\n",
        "        'y': -L1 * cos(theta1),\n",
        "        'q': [theta1],\n",
        "    },\n",
        "    {\n",
        "        'mass': m2,\n",
        "        'x': L1 * sin(theta1) + L2 * sin(theta2),\n",
        "        'y': -L1 * cos(theta1) - L2 * cos(theta2),\n",
        "       'q': [theta1, theta2],\n",
        "    }\n",
        "]\n",
        "\n",
        "# Calcular la energía cinética del sistema incluyendo z\n",
        "T_total_example_3d = kinetic_energy_3d(transform_equations_per_particle)\n",
        "T_total_example_3d\n"
      ]
    },
    {
      "cell_type": "code",
      "execution_count": 64,
      "metadata": {},
      "outputs": [
        {
          "data": {
            "text/latex": [
              "$\\displaystyle 2.25 \\cos{\\left(q_{1}{\\left(t \\right)} - q_{2}{\\left(t \\right)} \\right)} \\frac{d}{d t} q_{1}{\\left(t \\right)} \\frac{d}{d t} q_{2}{\\left(t \\right)} + 1.75 \\left(\\frac{d}{d t} q_{1}{\\left(t \\right)}\\right)^{2} + 1.6875 \\left(\\frac{d}{d t} q_{2}{\\left(t \\right)}\\right)^{2} + 0.75 \\left(\\frac{d}{d t} z_{2}{\\left(t \\right)}\\right)^{2}$"
            ],
            "text/plain": [
              "2.25*cos(q1(t) - q2(t))*Derivative(q1(t), t)*Derivative(q2(t), t) + 1.75*Derivative(q1(t), t)**2 + 1.6875*Derivative(q2(t), t)**2 + 0.75*Derivative(z2(t), t)**2"
            ]
          },
          "execution_count": 64,
          "metadata": {},
          "output_type": "execute_result"
        }
      ],
      "source": [
        "# Valores específicos para las longitudes de las varillas, masas y velocidades angulares\n",
        "values = {L1: 1, L2: 1.5, m1: 2, m2: 1.5, 'q1(t)': np.pi/4, 'dq1(t)': 0.5, 'q2(t)': np.pi/3, 'dq2(t)': 0.75, 'z2(t)': 0.3, 'dz2(t)': 0.1}\n",
        "\n",
        "# Sustituir los valores en la expresión de la energía cinética\n",
        "T_evaluated = T_total_example_3d.subs(values)\n",
        "T_evaluated"
      ]
    }
  ],
  "metadata": {
    "colab": {
      "provenance": []
    },
    "kernelspec": {
      "display_name": "Python 3",
      "name": "python3"
    },
    "language_info": {
      "codemirror_mode": {
        "name": "ipython",
        "version": 3
      },
      "file_extension": ".py",
      "mimetype": "text/x-python",
      "name": "python",
      "nbconvert_exporter": "python",
      "pygments_lexer": "ipython3",
      "version": "3.10.12"
    }
  },
  "nbformat": 4,
  "nbformat_minor": 0
}
