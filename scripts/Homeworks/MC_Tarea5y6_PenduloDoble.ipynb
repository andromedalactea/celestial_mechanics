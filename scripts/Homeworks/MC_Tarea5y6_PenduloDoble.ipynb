{
  "cells": [
    {
      "cell_type": "markdown",
      "metadata": {
        "id": "6XE49aAfGdAu"
      },
      "source": [
        "<p>\n",
        "<img src=\"https://drive.google.com/uc?id=1ZHUKcwzA5c-PKUwoGmBG3TsHk6TmZ-Y0\" align=\"left\" width=\"250\">\n",
        "</p>\n",
        "<p>\n",
        "<h1><b><center>Mecánica Celeste</center></b></h1>\n",
        "<h2><b><center>Prof. Jorge I. Zuluaga</center></b></h1>\n",
        "<h2><b><center>Tarea 5 y 6</center></b><h2>\n",
        "<h3><b><center>El péndulo doble</center></b><h3>\n",
        "<h5><center><b>Asignada</b>: 26 de Octubre de 2023</center><h5>\n",
        "<h5><center><b>Entrega</b>: 14 de Noviembre de 2023</center><h5>\n",
        "</p>"
      ]
    },
    {
      "cell_type": "markdown",
      "metadata": {
        "id": "DZ3br0tlHiUH"
      },
      "source": [
        "<hr/>\n",
        "<b>Nombre</b>: Bryan Camilo Restrepo Arcila\n",
        "<br/>\n",
        "<b>Cédula</b>: 1000567825\n",
        "<br/>\n",
        "<b>Última actualización</b>:\n",
        "<hr/>"
      ]
    },
    {
      "cell_type": "markdown",
      "metadata": {
        "id": "32KKSLFEHYpg"
      },
      "source": [
        "## Enunciado"
      ]
    },
    {
      "cell_type": "markdown",
      "metadata": {
        "id": "BJv9-ZZAIUgW"
      },
      "source": [
        "**Objetivo**: Estudiar la dinámica del péndulo doble utilizando los métodos de Lagrange y Hamilton.\n",
        "\n",
        "Un péndulo doble es un sistema formado por 2 partículas puntuales de masas $m_1$ y $m_2$ unidas por varillas inextensibles de longitudes $L_1$ y $L_2$. La varilla $L_1$ esta fija a un punto del espacio.\n",
        "\n",
        "**Procedimiento**:"
      ]
    },
    {
      "cell_type": "markdown",
      "metadata": {
        "id": "xYGuJo1gfAf3"
      },
      "source": [
        "**Parte 1. La receta de Lagrange**\n",
        "\n",
        "1. Para este sistema identifique:\n",
        "\n",
        "  - Número de partículas: _____________\n",
        "  - Número de coordenadas: _____________\n",
        "  - Número de restricciones: _____________\n",
        "  - Número de grados de libertad: _____________\n",
        "\n",
        "2. Escriba las ecuaciones que describen las restricciones del sistema.\n",
        "\n",
        "3. Identifique las variables generalizadas del sistema y explique por qué esas variables son apropiadas para describir el sistema con el método de Lagrange.\n",
        "\n",
        "4. Escriba las ecuaciones que permiten transformar de las variables generalizadas $\\{q_j\\}_M$ a las coordenadas $\\{\\vec r_i\\}_N$ y viceversa (transformación inversa).\n",
        "\n",
        "5. Usando `SymPy` escriba una rutina que, dadas las ecuaciones de transformación  $\\{\\vec r_i(\\{q_j\\}_M)\\}_N$ calcule la función de energía cinética para el sistema. Intente que la rutina sea tan general posible que pueda ser aplicada a otros sitstemas.\n",
        "\n",
        "6. Usando `SymPy` escriba una rutina que, dadas las ecuaciones de transformación  $\\{\\vec r_i(\\{q_j\\}_M)\\}_N$ y las componentes cartesianas de las fuerzas que actúan sobre las partículas, determine las fuerzas generalizadas. Intente que la rutina sea tan general posible que pueda ser aplicada a otros sitstemas.\n",
        "\n",
        "7. Usando los resultados en 5 y en 6, escriba las ecuaciones de movimiento del sistema. Es normal que las ecuaciones se escriban como la segunda derivada de cada variable generalizada como función de las primeras derivada de las variables generalizadas y las variables generalizadas en sí.  Es decir las ecuaciones deben tener la forma:\n",
        "\n",
        "  $$\n",
        "  \\ddot q_j = f_j (t,\\{q_j\\}_M,\\{\\dot q_j\\}_M)\n",
        "  $$\n"
      ]
    },
    {
      "cell_type": "markdown",
      "metadata": {
        "id": "ZZiwA0xtfEJf"
      },
      "source": [
        "**Parte 2. Lagrangiano**\n",
        "\n",
        "1. Encuentre la forma de la función potencial de la que derivan las fuerzas generalizadas del sistema.\n",
        "\n",
        "2. Con la función potencial y la función lagrangiana, escriba el lagrangiano del sistema.\n",
        "\n",
        "3. Deduzca, a partir de las ecuaciones de Euler-Lagrange, las ecuaciones de movimiento y verifique que coinciden con las ecuaciones de movimiento obtenidas a partir de las ecuaciones de Lagrange.\n",
        "\n",
        "4. Evalúe las simetrías del lagrangiano:\n",
        "  - ¿Tiene simetría de traslación?: _________ en caso afirmativo ¿cuáles son las constantes (cuadraturas) asociadas?: _________\n",
        "  - ¿Tiene simetría de rotación?: _________ en caso afirmativo ¿cuáles son las constantes (cuadraturas) asociadas?: _________\n",
        "  - ¿Tiene simetría temporal?: _________ en caso afirmativo ¿cuáles son las constantes (cuadraturas) asociadas?: _________\n",
        "  - ¿Tiene variables cíclicas? ¿cuáles?: _________\n",
        "  - Escriba explícitamente la función de Jacobi $h(t,\\{q_j\\}_M,\\{\\dot q_j\\}_M)$ del sistema y diga si es constante o no."
      ]
    },
    {
      "cell_type": "markdown",
      "metadata": {
        "id": "-1Iz7rhZg2DA"
      },
      "source": [
        "**Parte 3. Hamiltoniano**\n",
        "\n",
        "1. Escriba los momentos generalizados $\\{p_j\\}_M$ del sistema como función de las velocidades generalizadas $\\{q_j\\}_M$ del sistema.\n",
        "\n",
        "2. Escriba la función de energía cinética en función de $\\{p_j\\}_M$.\n",
        "\n",
        "3. Escriba el Lagrangianop $\\{L_{qp}(t,\\{q_j\\}_M,\\{p_j\\}_M)\\}$ del sistema.\n",
        "\n",
        "4. Escriba el Hamiltoniano $\\{H(t,\\{q_j\\}_M,\\{p_j\\}_M)\\}$ del sistema.\n",
        "\n",
        "5. A partir del Hamiltoniano escriba explícitamente las ecuaciones de movimiento usando las ecuaciones canónicas."
      ]
    },
    {
      "cell_type": "markdown",
      "metadata": {
        "id": "LFjc7elmhk2_"
      },
      "source": [
        "**Parte 4. Experimentos numéricos**\n",
        "\n",
        "1. Escriba un programa para resolver numéricamente las ecuaciones de movimiento obtenidas en la **parte 1**. Con condiciones iniciales apropiadas, resuelva las ecuaciones y haga una animación del movimiento del péndulo.\n",
        "\n",
        "2. Compruebe con una solución particular , que las constantes de movimiento identificadas del sistema en la **parte 2**, son en realidad constantes.\n",
        "\n",
        "3. Escriba un programa para resolver numéricamente las ecuaciones de movimiento obtenidas en la **parte 3**. Con condiciones iniciales apropiadas, resuelva las ecuaciones y haga una animación del movimiento del péndulo.\n",
        "\n",
        "4. El espacio de fases del sistema tiene muchas dimensiones. Se puede reducir si si fijan algunas variables del sistema. Fije en 0 el valor de las variables y momentos generalizados de la partícula 1 y gráfique contornos del Hamiltoniano en el espacio de fase resultante con las variables y momentos generalizados de la partícula 2.\n",
        "\n",
        "5. Es bien sabido que el péndulo doble experimenta caos. Vamos a comprobarlo. Escoja condiciones iniciales arbitrarias para las variables (use las variables del formalismo Hamiltoniano). Grafique la evolución en el tiempo de las variables generalizadas de ambas partículas. Cambie ahora sutilmente las condiciones iniciales y estudie la evolución a largo plazo de las variables generalizadas.  Haga una animación que muestre la evolución del sistema con condiciones sutilmente diferentes como la que aparece [aquí](https://en.wikipedia.org/wiki/Double_pendulum#/media/File:Demonstrating_Chaos_with_a_Double_Pendulum.gif)."
      ]
    },
    {
      "cell_type": "markdown",
      "metadata": {
        "id": "NI1EmWvOa_o2"
      },
      "source": [
        "**Resultados esperados**:\n",
        "\n",
        "- Este notebook con el procedimiento debidamente comentado.\n",
        "\n",
        "- Respuestas a las preguntas que terminan en '________'.\n",
        "\n",
        "- Rutinas solicitadas.\n",
        "\n",
        "- Fórmulas solicitadas: ecuaciones de movimiento, forma explícita de las funciones de energía cinética, fuerzas generalizadas, lagrangiano, hamiltoniano.\n",
        "\n",
        "- Gráficos:\n",
        "  - Constantes de movimiento.\n",
        "  - Animaciones del movimiento.\n",
        "  - Contornos del Hamiltoniano.\n",
        "  - Evolución de las variables generalizadas.\n",
        "  - Animación ilustrando el caos.\n",
        "\n",
        "- En caso de utilizar ayudas como `ChatGPT` o códigos de `Stack Over Flow` debe citar debidamente la fuente, pero también entender a cabalidad el código, el profesor puede pedir justificación."
      ]
    },
    {
      "cell_type": "markdown",
      "metadata": {
        "id": "J0ISSYQpHex_"
      },
      "source": [
        "## Solución"
      ]
    },
    {
      "cell_type": "code",
      "execution_count": null,
      "metadata": {
        "id": "iH20o0jpHhgr"
      },
      "outputs": [],
      "source": []
    }
  ],
  "metadata": {
    "colab": {
      "provenance": []
    },
    "kernelspec": {
      "display_name": "Python 3",
      "name": "python3"
    },
    "language_info": {
      "name": "python"
    }
  },
  "nbformat": 4,
  "nbformat_minor": 0
}
