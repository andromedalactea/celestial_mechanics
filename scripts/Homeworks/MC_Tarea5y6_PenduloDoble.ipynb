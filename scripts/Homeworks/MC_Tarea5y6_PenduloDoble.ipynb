{
  "cells": [
    {
      "cell_type": "markdown",
      "metadata": {
        "id": "6XE49aAfGdAu"
      },
      "source": [
        "<p>\n",
        "<img src=\"https://drive.google.com/uc?id=1ZHUKcwzA5c-PKUwoGmBG3TsHk6TmZ-Y0\" align=\"left\" width=\"250\">\n",
        "</p>\n",
        "<p>\n",
        "<h1><b><center>Mecánica Celeste</center></b></h1>\n",
        "<h2><b><center>Prof. Jorge I. Zuluaga</center></b></h1>\n",
        "<h2><b><center>Tarea 5 y 6</center></b><h2>\n",
        "<h3><b><center>El péndulo doble</center></b><h3>\n",
        "<h5><center><b>Asignada</b>: 26 de Octubre de 2023</center><h5>\n",
        "<h5><center><b>Entrega</b>: 14 de Noviembre de 2023</center><h5>\n",
        "</p>"
      ]
    },
    {
      "cell_type": "markdown",
      "metadata": {
        "id": "DZ3br0tlHiUH"
      },
      "source": [
        "<hr/>\n",
        "<b>Nombre</b>: Bryan Camilo Restrepo Arcila\n",
        "<br/>\n",
        "<b>Cédula</b>: 1000567825\n",
        "<br/>\n",
        "<b>Última actualización</b>:\n",
        "<hr/>"
      ]
    },
    {
      "cell_type": "markdown",
      "metadata": {
        "id": "32KKSLFEHYpg"
      },
      "source": [
        "## Enunciado"
      ]
    },
    {
      "cell_type": "markdown",
      "metadata": {
        "id": "BJv9-ZZAIUgW"
      },
      "source": [
        "**Objetivo**: Estudiar la dinámica del péndulo doble utilizando los métodos de Lagrange y Hamilton.\n",
        "\n",
        "Un péndulo doble es un sistema formado por 2 partículas puntuales de masas $m_1$ y $m_2$ unidas por varillas inextensibles de longitudes $L_1$ y $L_2$. La varilla $L_1$ esta fija a un punto del espacio.\n",
        "\n",
        "**Procedimiento**:"
      ]
    },
    {
      "cell_type": "markdown",
      "metadata": {
        "id": "xYGuJo1gfAf3"
      },
      "source": [
        "**Parte 1. La receta de Lagrange**\n",
        "\n",
        "1. Para este sistema identifique:\n",
        "\n",
        "  - Número de partículas: _____________\n",
        "  - Número de coordenadas: _____________\n",
        "  - Número de restricciones: _____________\n",
        "  - Número de grados de libertad: _____________\n",
        "\n",
        "2. Escriba las ecuaciones que describen las restricciones del sistema.\n",
        "\n",
        "3. Identifique las variables generalizadas del sistema y explique por qué esas variables son apropiadas para describir el sistema con el método de Lagrange.\n",
        "\n",
        "4. Escriba las ecuaciones que permiten transformar de las variables generalizadas $\\{q_j\\}_M$ a las coordenadas $\\{\\vec r_i\\}_N$ y viceversa (transformación inversa).\n",
        "\n",
        "5. Usando `SymPy` escriba una rutina que, dadas las ecuaciones de transformación  $\\{\\vec r_i(\\{q_j\\}_M)\\}_N$ calcule la función de energía cinética para el sistema. Intente que la rutina sea tan general posible que pueda ser aplicada a otros sistemas.\n",
        "\n",
        "6. Usando `SymPy` escriba una rutina que, dadas las ecuaciones de transformación  $\\{\\vec r_i(\\{q_j\\}_M)\\}_N$ y las componentes cartesianas de las fuerzas que actúan sobre las partículas, determine las fuerzas generalizadas. Intente que la rutina sea tan general posible que pueda ser aplicada a otros sitstemas.\n",
        "\n",
        "7. Usando los resultados en 5 y en 6, escriba las ecuaciones de movimiento del sistema. Es normal que las ecuaciones se escriban como la segunda derivada de cada variable generalizada como función de las primeras derivada de las variables generalizadas y las variables generalizadas en sí.  Es decir las ecuaciones deben tener la forma:\n",
        "\n",
        "  $$\n",
        "  \\ddot q_j = f_j (t,\\{q_j\\}_M,\\{\\dot q_j\\}_M)\n",
        "  $$\n"
      ]
    },
    {
      "cell_type": "markdown",
      "metadata": {
        "id": "ZZiwA0xtfEJf"
      },
      "source": [
        "**Parte 2. Lagrangiano**\n",
        "\n",
        "1. Encuentre la forma de la función potencial de la que derivan las fuerzas generalizadas del sistema.\n",
        "\n",
        "2. Con la función potencial y la función lagrangiana, escriba el lagrangiano del sistema.\n",
        "\n",
        "3. Deduzca, a partir de las ecuaciones de Euler-Lagrange, las ecuaciones de movimiento y verifique que coinciden con las ecuaciones de movimiento obtenidas a partir de las ecuaciones de Lagrange.\n",
        "\n",
        "4. Evalúe las simetrías del lagrangiano:\n",
        "  - ¿Tiene simetría de traslación?: _________ en caso afirmativo ¿cuáles son las constantes (cuadraturas) asociadas?: _________\n",
        "  - ¿Tiene simetría de rotación?: _________ en caso afirmativo ¿cuáles son las constantes (cuadraturas) asociadas?: _________\n",
        "  - ¿Tiene simetría temporal?: _________ en caso afirmativo ¿cuáles son las constantes (cuadraturas) asociadas?: _________\n",
        "  - ¿Tiene variables cíclicas? ¿cuáles?: _________\n",
        "  - Escriba explícitamente la función de Jacobi $h(t,\\{q_j\\}_M,\\{\\dot q_j\\}_M)$ del sistema y diga si es constante o no."
      ]
    },
    {
      "cell_type": "markdown",
      "metadata": {
        "id": "-1Iz7rhZg2DA"
      },
      "source": [
        "**Parte 3. Hamiltoniano**\n",
        "\n",
        "1. Escriba los momentos generalizados $\\{p_j\\}_M$ del sistema como función de las velocidades generalizadas $\\{q_j\\}_M$ del sistema.\n",
        "\n",
        "2. Escriba la función de energía cinética en función de $\\{p_j\\}_M$.\n",
        "\n",
        "3. Escriba el Lagrangianop $\\{L_{qp}(t,\\{q_j\\}_M,\\{p_j\\}_M)\\}$ del sistema.\n",
        "\n",
        "4. Escriba el Hamiltoniano $\\{H(t,\\{q_j\\}_M,\\{p_j\\}_M)\\}$ del sistema.\n",
        "\n",
        "5. A partir del Hamiltoniano escriba explícitamente las ecuaciones de movimiento usando las ecuaciones canónicas."
      ]
    },
    {
      "cell_type": "markdown",
      "metadata": {
        "id": "LFjc7elmhk2_"
      },
      "source": [
        "**Parte 4. Experimentos numéricos**\n",
        "\n",
        "1. Escriba un programa para resolver numéricamente las ecuaciones de movimiento obtenidas en la **parte 1**. Con condiciones iniciales apropiadas, resuelva las ecuaciones y haga una animación del movimiento del péndulo.\n",
        "\n",
        "2. Compruebe con una solución particular , que las constantes de movimiento identificadas del sistema en la **parte 2**, son en realidad constantes.\n",
        "\n",
        "3. Escriba un programa para resolver numéricamente las ecuaciones de movimiento obtenidas en la **parte 3**. Con condiciones iniciales apropiadas, resuelva las ecuaciones y haga una animación del movimiento del péndulo.\n",
        "\n",
        "4. El espacio de fases del sistema tiene muchas dimensiones. Se puede reducir si si fijan algunas variables del sistema. Fije en 0 el valor de las variables y momentos generalizados de la partícula 1 y gráfique contornos del Hamiltoniano en el espacio de fase resultante con las variables y momentos generalizados de la partícula 2.\n",
        "\n",
        "5. Es bien sabido que el péndulo doble experimenta caos. Vamos a comprobarlo. Escoja condiciones iniciales arbitrarias para las variables (use las variables del formalismo Hamiltoniano). Grafique la evolución en el tiempo de las variables generalizadas de ambas partículas. Cambie ahora sutilmente las condiciones iniciales y estudie la evolución a largo plazo de las variables generalizadas.  Haga una animación que muestre la evolución del sistema con condiciones sutilmente diferentes como la que aparece [aquí](https://en.wikipedia.org/wiki/Double_pendulum#/media/File:Demonstrating_Chaos_with_a_Double_Pendulum.gif)."
      ]
    },
    {
      "cell_type": "markdown",
      "metadata": {
        "id": "NI1EmWvOa_o2"
      },
      "source": [
        "**Resultados esperados**:\n",
        "\n",
        "- Este notebook con el procedimiento debidamente comentado.\n",
        "\n",
        "- Respuestas a las preguntas que terminan en '________'.\n",
        "\n",
        "- Rutinas solicitadas.\n",
        "\n",
        "- Fórmulas solicitadas: ecuaciones de movimiento, forma explícita de las funciones de energía cinética, fuerzas generalizadas, lagrangiano, hamiltoniano.\n",
        "\n",
        "- Gráficos:\n",
        "  - Constantes de movimiento.\n",
        "  - Animaciones del movimiento.\n",
        "  - Contornos del Hamiltoniano.\n",
        "  - Evolución de las variables generalizadas.\n",
        "  - Animación ilustrando el caos.\n",
        "\n",
        "- En caso de utilizar ayudas como `ChatGPT` o códigos de `Stack Over Flow` debe citar debidamente la fuente, pero también entender a cabalidad el código, el profesor puede pedir justificación."
      ]
    },
    {
      "cell_type": "markdown",
      "metadata": {},
      "source": [
        "Instalemos las librerias necesarias"
      ]
    },
    {
      "cell_type": "code",
      "execution_count": 28,
      "metadata": {},
      "outputs": [],
      "source": [
        "import numpy as np\n",
        "import sympy as sp\n",
        "from sympy import symbols, Function, diff, sin, cos, simplify, Rational, Eq, Matrix, Derivative, solve\n"
      ]
    },
    {
      "cell_type": "markdown",
      "metadata": {
        "id": "J0ISSYQpHex_"
      },
      "source": [
        "## Solución"
      ]
    },
    {
      "cell_type": "markdown",
      "metadata": {},
      "source": [
        "\n",
        "### 1. Para este sistema identifique:\n",
        "\n",
        "  - Número de partículas: ______2_______\n",
        "  - Número de coordenadas: ______6_______\n",
        "  - Número de restricciones: ______4_______\n",
        "  - Número de grados de libertad: ______2_______"
      ]
    },
    {
      "cell_type": "markdown",
      "metadata": {},
      "source": [
        "### 2. Escriba las ecuaciones que describen las restricciones del sistema."
      ]
    },
    {
      "cell_type": "markdown",
      "metadata": {},
      "source": [
        "Definamos los simbolos para todo nuestro procedimiento"
      ]
    },
    {
      "cell_type": "code",
      "execution_count": 29,
      "metadata": {},
      "outputs": [
        {
          "name": "stdout",
          "output_type": "stream",
          "text": [
            "Restricciones del pendulo doble\n"
          ]
        },
        {
          "data": {
            "text/latex": [
              "$\\displaystyle z_{1} = 0$"
            ],
            "text/plain": [
              "Eq(z1, 0)"
            ]
          },
          "metadata": {},
          "output_type": "display_data"
        },
        {
          "data": {
            "text/latex": [
              "$\\displaystyle z_{2} = 0$"
            ],
            "text/plain": [
              "Eq(z2, 0)"
            ]
          },
          "metadata": {},
          "output_type": "display_data"
        },
        {
          "data": {
            "text/latex": [
              "$\\displaystyle x_{1}^{2} + y_{1}^{2} = L_{1}^{2}$"
            ],
            "text/plain": [
              "Eq(x1**2 + y1**2, L1**2)"
            ]
          },
          "metadata": {},
          "output_type": "display_data"
        },
        {
          "data": {
            "text/latex": [
              "$\\displaystyle \\left(- x_{1} + x_{2}\\right)^{2} + \\left(- y_{1} + y_{2}\\right)^{2} = L_{2}^{2}$"
            ],
            "text/plain": [
              "Eq((-x1 + x2)**2 + (-y1 + y2)**2, L2**2)"
            ]
          },
          "metadata": {},
          "output_type": "display_data"
        }
      ],
      "source": [
        "# Definiendo simbolos\n",
        "\n",
        "# sistema de q_s:\n",
        "L1, L2, theta1, theta2 = sp.symbols('L1 L2 theta1 theta2')\n",
        "\n",
        "# Sistema cartesiano\n",
        "x1, y1, z1, x2, y2, z2 = sp.symbols('x1 y1 z1 x2 y2 z2')\n",
        "\n",
        "## Restricciones del sistema \n",
        "\n",
        "# Restricciones de movimiento en un plano\n",
        "first_restriction = sp.Eq(z1, 0) \n",
        "second_restriction =  sp.Eq(z2,0)\n",
        "\n",
        "# Restricciones de las varillas:\n",
        "third_restriction = sp.Eq(x1**2 + y1**2 , L1**2)\n",
        "fourth_restriction = sp.Eq((x2 - x1)**2 + (y2 - y1)**2, L2**2)\n",
        "\n",
        "# Imprimamos las restricciones\n",
        "print('Restricciones del pendulo doble')\n",
        "display(first_restriction, second_restriction, third_restriction, fourth_restriction)"
      ]
    },
    {
      "cell_type": "markdown",
      "metadata": {},
      "source": [
        "### 3. Identifique las variables generalizadas del sistema y explique por qué esas variables son apropiadas para describir el sistema con el método de Lagrange."
      ]
    },
    {
      "cell_type": "markdown",
      "metadata": {},
      "source": [
        "La variables generalizadas más correctas del problema del pendulo doble son los angulos $\\theta_1$ y $\\theta_2$, estos angulos son los angulos que tienen las varillas con respecto al eje y, y tienen ventajas respecto a otras coordendas generalizadas porque:\n",
        "\n",
        "- Reducen el número de coordenadas necesarias: Al utilizar los ángulos, se reducen las cuatro coordenadas cartesianas a solo dos coordenadas generalizadas.\n",
        "\n",
        "- Simplifican las restricciones: Las longitudes de las varillas son constantes y, por tanto, no necesitan ser consideradas como variables independientes. Los ángulos incorporan naturalmente esta restricción geométrica."
      ]
    },
    {
      "cell_type": "markdown",
      "metadata": {},
      "source": [
        "### 4. Escriba las ecuaciones que permiten transformar de las variables generalizadas $\\{q_j\\}_M$ a las coordenadas $\\{\\vec r_i\\}_N$ y viceversa (transformación inversa).\n"
      ]
    },
    {
      "cell_type": "code",
      "execution_count": 30,
      "metadata": {},
      "outputs": [
        {
          "name": "stdout",
          "output_type": "stream",
          "text": [
            "De coordenadas generalizadas a cartesianas\n"
          ]
        },
        {
          "data": {
            "text/latex": [
              "$\\displaystyle x_{1} = L_{1} \\sin{\\left(\\theta_{1} \\right)}$"
            ],
            "text/plain": [
              "Eq(x1, L1*sin(theta1))"
            ]
          },
          "metadata": {},
          "output_type": "display_data"
        },
        {
          "data": {
            "text/latex": [
              "$\\displaystyle y_{1} = L_{1} \\cos{\\left(\\theta_{1} \\right)}$"
            ],
            "text/plain": [
              "Eq(y1, L1*cos(theta1))"
            ]
          },
          "metadata": {},
          "output_type": "display_data"
        },
        {
          "data": {
            "text/latex": [
              "$\\displaystyle x_{2} = L_{1} \\sin{\\left(\\theta_{1} \\right)} + L_{2} \\sin{\\left(\\theta_{2} \\right)}$"
            ],
            "text/plain": [
              "Eq(x2, L1*sin(theta1) + L2*sin(theta2))"
            ]
          },
          "metadata": {},
          "output_type": "display_data"
        },
        {
          "data": {
            "text/latex": [
              "$\\displaystyle y_{2} = L_{1} \\cos{\\left(\\theta_{1} \\right)} + L_{2} \\cos{\\left(\\theta_{2} \\right)}$"
            ],
            "text/plain": [
              "Eq(y2, L1*cos(theta1) + L2*cos(theta2))"
            ]
          },
          "metadata": {},
          "output_type": "display_data"
        },
        {
          "name": "stdout",
          "output_type": "stream",
          "text": [
            "De cartesianas a generalizadas\n"
          ]
        },
        {
          "data": {
            "text/latex": [
              "$\\displaystyle \\theta_{1} = \\operatorname{asin}{\\left(\\frac{x_{1}}{L_{1}} \\right)}$"
            ],
            "text/plain": [
              "Eq(theta1, asin(x1/L1))"
            ]
          },
          "metadata": {},
          "output_type": "display_data"
        },
        {
          "data": {
            "text/latex": [
              "$\\displaystyle \\theta_{1} = \\operatorname{acos}{\\left(\\frac{y_{1}}{L_{1}} \\right)}$"
            ],
            "text/plain": [
              "Eq(theta1, acos(y1/L1))"
            ]
          },
          "metadata": {},
          "output_type": "display_data"
        },
        {
          "data": {
            "text/latex": [
              "$\\displaystyle \\theta_{2} = - \\operatorname{asin}{\\left(\\frac{x_{1} - x_{2}}{L_{2}} \\right)}$"
            ],
            "text/plain": [
              "Eq(theta2, -asin((x1 - x2)/L2))"
            ]
          },
          "metadata": {},
          "output_type": "display_data"
        }
      ],
      "source": [
        "# Definiendo el eje positivo y hacía abajo, y el x hacía la derecha \n",
        "\n",
        "# Primero de coordenadas generalizadas a cartesianas\n",
        "x1_equation = sp.Eq(x1, L1 * sp.sin(theta1))\n",
        "y1_equation = sp.Eq(y1, L1 * sp.cos(theta1))\n",
        "x2_equation = sp.Eq(x2, L1 * sp.sin(theta1) + L2 * sp.sin(theta2) )\n",
        "y2_equation = sp.Eq(y2, L1 * sp.cos(theta1) + L2 * sp.cos(theta2))\n",
        "\n",
        "## Ahora de cartesianas a generalizadas\n",
        "\n",
        "# Primero resolvamos las ecuaciones \n",
        "theta1_solutions = sp.solve(( x1_equation), theta1) # Dos soluciones para theta1\n",
        "theta1_solutions_2 = sp.solve(( y1_equation), theta1)\n",
        "\n",
        "theta2_solutions = sp.solve((  x2_equation, y2_equation), theta2) # Dos soluciones para theta2\n",
        "\n",
        "# Poniendo las soluciones en ecuaciones\n",
        "theta1_equation = sp.Eq(theta1, theta1_solutions[1])\n",
        "theta1_equation_2 = sp.Eq(theta1, theta1_solutions_2[1]) \n",
        "\n",
        "# Reemplando L1*sin(theta1) por x1\n",
        "theta2_solution = theta2_solutions[1][0].subs(L1 * sp.sin(theta1), x1)\n",
        "theta2_equation = sp.Eq(theta2, theta2_solution) # Construyendo la ecuación\n",
        "\n",
        "## Imprimiendo nuestros resultados\n",
        "print('De coordenadas generalizadas a cartesianas')\n",
        "display(x1_equation, y1_equation, x2_equation, y2_equation)\n",
        "\n",
        "print('De cartesianas a generalizadas')\n",
        "display(theta1_equation, theta1_equation_2, theta2_equation)"
      ]
    },
    {
      "cell_type": "markdown",
      "metadata": {},
      "source": [
        "5. Usando `SymPy` escriba una rutina que, dadas las ecuaciones de transformación  $\\{\\vec r_i(\\{q_j\\}_M)\\}_N$ calcule la función de energía cinética para el sistema. Intente que la rutina sea tan general posible que pueda ser aplicada a otros sitstemas."
      ]
    },
    {
      "cell_type": "code",
      "execution_count": 31,
      "metadata": {},
      "outputs": [],
      "source": [
        "def kinetic_energy(transform_equations_per_particle):\n",
        "    \"\"\"\n",
        "    Esta función recibe una lista de diccionarios, donde cada diccionario\n",
        "    debe contener las ecuaciones de transformación de sympy y\n",
        "    las variables generalizadas por cada ecuación, si no aparece la función\n",
        "    se asume esta como 0, por ejemplo en el caso de z=0.\n",
        "\n",
        "    Retorna la función de energía cinética del sistema considerando movimiento en x, y, z.\n",
        "    \"\"\"\n",
        "    energy_total = 0  # Energía cinética total del sistema inicialmente es cero\n",
        "    t = symbols('t')  # Símbolo para el tiempo\n",
        "\n",
        "    # Procesamos cada partícula y calculamos su energía cinética\n",
        "    for particle in transform_equations_per_particle:\n",
        "        m = particle['mass']  # Masa de la partícula\n",
        "        q = particle['q']  # Variables generalizadas como funciones del tiempo\n",
        "\n",
        "        # Convertimos las variables generalizadas a funciones del tiempo y calculamos sus derivadas\n",
        "        q_funcs = {qi: Function(str(qi))(t) for qi in q}\n",
        "        #dq_funcs = {qi: diff(q_func, t) for qi, q_func in q_funcs.items()}\n",
        "\n",
        "        # Sustituimos las variables generalizadas en las ecuaciones de transformación por las funciones\n",
        "        x = particle['x'].subs(q_funcs) if 'x' in particle else 0\n",
        "        y = particle['y'].subs(q_funcs) if 'y' in particle else 0\n",
        "        z = particle['z'].subs(q_funcs) if 'z' in particle else 0\n",
        "\n",
        "        # Calculamos las derivadas de x, y, y z con respecto al tiempo usando la regla de la cadena\n",
        "        vx = x.diff(t) if 'x' in particle else 0\n",
        "        vy = y.diff(t) if 'y' in particle else 0\n",
        "        vz = z.diff(t) if 'z' in particle else 0\n",
        "\n",
        "        # Calculamos la energía cinética de la partícula y la sumamos al total\n",
        "        E = Rational(1, 2) * m * (vx**2 + vy**2 + vz**2)\n",
        "        energy_total += E\n",
        "\n",
        "    # Simplificamos la energía cinética total y la retornamos\n",
        "    return simplify(energy_total)\n"
      ]
    },
    {
      "cell_type": "markdown",
      "metadata": {},
      "source": [
        "usemos esta función  para hallar la ecuación de la engergía cinética de nuestro problema del pendulo doble"
      ]
    },
    {
      "cell_type": "code",
      "execution_count": 32,
      "metadata": {},
      "outputs": [
        {
          "data": {
            "text/latex": [
              "$\\displaystyle T = \\frac{L_{1}^{2} m_{1} \\left(\\frac{d}{d t} \\theta_{1}{\\left(t \\right)}\\right)^{2}}{2} + \\frac{m_{2} \\left(L_{1}^{2} \\left(\\frac{d}{d t} \\theta_{1}{\\left(t \\right)}\\right)^{2} + 2 L_{1} L_{2} \\cos{\\left(\\theta_{1}{\\left(t \\right)} - \\theta_{2}{\\left(t \\right)} \\right)} \\frac{d}{d t} \\theta_{1}{\\left(t \\right)} \\frac{d}{d t} \\theta_{2}{\\left(t \\right)} + L_{2}^{2} \\left(\\frac{d}{d t} \\theta_{2}{\\left(t \\right)}\\right)^{2}\\right)}{2}$"
            ],
            "text/plain": [
              "Eq(T, L1**2*m1*Derivative(theta1(t), t)**2/2 + m2*(L1**2*Derivative(theta1(t), t)**2 + 2*L1*L2*cos(theta1(t) - theta2(t))*Derivative(theta1(t), t)*Derivative(theta2(t), t) + L2**2*Derivative(theta2(t), t)**2)/2)"
            ]
          },
          "execution_count": 32,
          "metadata": {},
          "output_type": "execute_result"
        }
      ],
      "source": [
        "# Definir las variables generalizadas\n",
        "theta1, theta2 = symbols('theta1 theta2')\n",
        "m1, m2, L1, L2 = symbols('m1 m2 L1 L2')\n",
        "\n",
        "# Lista de ecuaciones de transformación para cada partícula \n",
        "transform_equations_per_particle = [\n",
        "    {\n",
        "        'mass': m1,\n",
        "        'x': L1 * sin(theta1),\n",
        "        'y': L1 * cos(theta1),\n",
        "        'q': [theta1],\n",
        "    },\n",
        "    {\n",
        "        'mass': m2,\n",
        "        'x': L1 * sin(theta1) + L2 * sin(theta2),\n",
        "        'y': L1 * cos(theta1) + L2 * cos(theta2),\n",
        "       'q': [theta1, theta2],\n",
        "    }\n",
        "]\n",
        "\n",
        "# Calcular la función de energía cinética del sistema  \n",
        "T_total = kinetic_energy(transform_equations_per_particle)\n",
        "# Imprimiendo la energía cinética\n",
        "T = symbols('T')\n",
        "Ttotal_equation = Eq(T, T_total)\n",
        "Ttotal_equation"
      ]
    },
    {
      "cell_type": "code",
      "execution_count": 33,
      "metadata": {},
      "outputs": [
        {
          "data": {
            "text/latex": [
              "$\\displaystyle Q_{1} = L_{1} \\left(L_{1} m_{1} \\frac{d^{2}}{d t^{2}} \\theta_{1}{\\left(t \\right)} + L_{1} m_{2} \\frac{d^{2}}{d t^{2}} \\theta_{1}{\\left(t \\right)} + L_{2} m_{2} \\sin{\\left(\\theta_{1}{\\left(t \\right)} - \\theta_{2}{\\left(t \\right)} \\right)} \\left(\\frac{d}{d t} \\theta_{2}{\\left(t \\right)}\\right)^{2} + L_{2} m_{2} \\cos{\\left(\\theta_{1}{\\left(t \\right)} - \\theta_{2}{\\left(t \\right)} \\right)} \\frac{d^{2}}{d t^{2}} \\theta_{2}{\\left(t \\right)}\\right)$"
            ],
            "text/plain": [
              "Eq(Q1, L1*(L1*m1*Derivative(theta1(t), (t, 2)) + L1*m2*Derivative(theta1(t), (t, 2)) + L2*m2*sin(theta1(t) - theta2(t))*Derivative(theta2(t), t)**2 + L2*m2*cos(theta1(t) - theta2(t))*Derivative(theta2(t), (t, 2))))"
            ]
          },
          "metadata": {},
          "output_type": "display_data"
        },
        {
          "data": {
            "text/latex": [
              "$\\displaystyle Q_{2} = L_{2} m_{2} \\left(- L_{1} \\sin{\\left(\\theta_{1}{\\left(t \\right)} - \\theta_{2}{\\left(t \\right)} \\right)} \\left(\\frac{d}{d t} \\theta_{1}{\\left(t \\right)}\\right)^{2} + L_{1} \\cos{\\left(\\theta_{1}{\\left(t \\right)} - \\theta_{2}{\\left(t \\right)} \\right)} \\frac{d^{2}}{d t^{2}} \\theta_{1}{\\left(t \\right)} + L_{2} \\frac{d^{2}}{d t^{2}} \\theta_{2}{\\left(t \\right)}\\right)$"
            ],
            "text/plain": [
              "Eq(Q2, L2*m2*(-L1*sin(theta1(t) - theta2(t))*Derivative(theta1(t), t)**2 + L1*cos(theta1(t) - theta2(t))*Derivative(theta1(t), (t, 2)) + L2*Derivative(theta2(t), (t, 2))))"
            ]
          },
          "metadata": {},
          "output_type": "display_data"
        }
      ],
      "source": [
        "def Q_k_from_T_total(T_function, qs):\n",
        "    \"\"\"\n",
        "    Las qs ya deben entrar como funciones del tiempo\n",
        "    \"\"\"\n",
        "    \n",
        "    Q=[]\n",
        "    t = symbols('t')  # Símbolo para el tiempo\n",
        "    for q in qs:\n",
        "\n",
        "        # Primero encontremos las derivadas respecto a las qs\n",
        "        dT_dq = T_function.diff(q)\n",
        "\n",
        "        # Ahora respecto a las q punto:\n",
        "        dT_dq_dot = T_function.diff(Derivative(q, t))\n",
        "\n",
        "        # Ahora eso lo derivamos respecto al tiempo\n",
        "        dt_dT_dq_dot = dT_dq_dot.diff(t)\n",
        "        Q.append(simplify(dt_dT_dq_dot - dT_dq))\n",
        "    return(Q)\n",
        "\n",
        "t = symbols('t')  # Símbolo para el tiempo\n",
        "theta1 = Function('theta1')(t)\n",
        "theta2 = Function('theta2')(t)\n",
        "\n",
        "Qs = Q_k_from_T_total(T_total,  [theta1, theta2])\n",
        "\n",
        "# Imprimamos nuestros resultados\n",
        "for i,j in enumerate(Qs): \n",
        "    Qj = symbols(f'Q{i + 1}')\n",
        "    display(Eq(Qj,j))"
      ]
    },
    {
      "cell_type": "markdown",
      "metadata": {},
      "source": [
        "### 6. Usando `SymPy` escriba una rutina que, dadas las ecuaciones de transformación  $\\{\\vec r_i(\\{q_j\\}_M)\\}_N$ y las componentes cartesianas de las fuerzas que actúan sobre las partículas, determine las fuerzas generalizadas. Intente que la rutina sea tan general posible que pueda ser aplicada a otros sitstemas."
      ]
    },
    {
      "cell_type": "code",
      "execution_count": 34,
      "metadata": {},
      "outputs": [],
      "source": [
        "\n",
        "\n",
        "# Hagamos una función que encuentre las fuerzas generalizadas de muchos sistemas\n",
        "def generalized_forces(transform_equations, forces):\n",
        "    # t será nuestro símbolo para el tiempo\n",
        "    t = sp.symbols('t')\n",
        "    Q = [] # en esta lista vamos a ir agegando nuestros Qj\n",
        "\n",
        "    for j, qj in enumerate(transform_equations['q']):\n",
        "        Qj = 0\n",
        "        for i, particle in enumerate(transform_equations['particles']):\n",
        "            # Extraemos el vector de posición de la partícula i\n",
        "            r_i = sp.Matrix(particle['r'])\n",
        "            # Calculamos la derivada parcial del vector r_i respecto a la variable generalizada qj\n",
        "            dr_i_dqj = r_i.diff(qj)\n",
        "            # Agregamos el producto punto de la fuerza en la partícula i y dr_i_dqj a Qj\n",
        "            Qj += forces[i].dot(dr_i_dqj)\n",
        "        # Agregamos la fuerza generalizada para la variable qj a la lista de fuerzas generalizadas\n",
        "        Q.append(simplify(Qj))\n",
        "\n",
        "    return Q"
      ]
    },
    {
      "cell_type": "markdown",
      "metadata": {},
      "source": [
        "Ahora usemos esta función para hallar las Fuerzas generalizadas de nuestro sistema de pendulo doble"
      ]
    },
    {
      "cell_type": "code",
      "execution_count": 35,
      "metadata": {},
      "outputs": [
        {
          "data": {
            "text/latex": [
              "$\\displaystyle Q_{1} = L_{1} g \\left(- m_{1} - m_{2}\\right) \\sin{\\left(\\theta_{1}{\\left(t \\right)} \\right)}$"
            ],
            "text/plain": [
              "Eq(Q1, L1*g*(-m1 - m2)*sin(theta1(t)))"
            ]
          },
          "metadata": {},
          "output_type": "display_data"
        },
        {
          "data": {
            "text/latex": [
              "$\\displaystyle Q_{2} = - L_{2} g m_{2} \\sin{\\left(\\theta_{2}{\\left(t \\right)} \\right)}$"
            ],
            "text/plain": [
              "Eq(Q2, -L2*g*m2*sin(theta2(t)))"
            ]
          },
          "metadata": {},
          "output_type": "display_data"
        }
      ],
      "source": [
        "# Definir las variables generalizadas y las fuerzas\n",
        "# Haciendo nuetsras variables funciones del tiempo\n",
        "theta1 = Function('theta1')(t)\n",
        "theta2 = Function('theta2')(t)\n",
        "m1, m2, L1, L2, g = symbols('m1 m2 L1 L2 g')\n",
        "\n",
        "# Ecuaciones de transformación para las posiciones de las partículas en términos de las variables generalizadas\n",
        "r1 = [L1 * sin(theta1), L1 * cos(theta1), 0]  # Posición de la primera masa\n",
        "r2 = [L1 * sin(theta1) + L2 * sin(theta2),  L1 * cos(theta1) + L2 * cos(theta2), 0]  # Posición de la segunda masa\n",
        "\n",
        "# Fuerzas actuando sobre las partículas (en este caso, solo la gravedad)\n",
        "F1 = [0, m1 * g, 0]\n",
        "F2 = [0, m2 * g, 0]\n",
        "\n",
        "# Construir las ecuaciones de transformación y las fuerzas en la estructura correcta\n",
        "transform_equations = {\n",
        "    'q': [theta1, theta2],\n",
        "    'particles': [\n",
        "        {'r': r1},\n",
        "        {'r': r2}\n",
        "    ]\n",
        "}\n",
        "\n",
        "forces = [Matrix(F1), Matrix(F2)]\n",
        "\n",
        "# Calcular las fuerzas generalizadas para el péndulo doble\n",
        "generalized_forces = generalized_forces(transform_equations, forces)\n",
        "\n",
        "# Imprimamos nuestros resultados\n",
        "for i,j in enumerate(generalized_forces, start = 1): \n",
        "    Qj = symbols(f'Q{i}')\n",
        "    display(Eq(Qj,j))"
      ]
    },
    {
      "cell_type": "markdown",
      "metadata": {},
      "source": [
        "7. Usando los resultados en 5 y en 6, escriba las ecuaciones de movimiento del sistema. Es normal que las ecuaciones se escriban como la segunda derivada de cada variable generalizada como función de las primeras derivada de las variables generalizadas y las variables generalizadas en sí.  Es decir las ecuaciones deben tener la forma:\n",
        "\n",
        "  $$\n",
        "  \\ddot q_j = f_j (t,\\{q_j\\}_M,\\{\\dot q_j\\}_M)\n",
        "  $$"
      ]
    },
    {
      "cell_type": "markdown",
      "metadata": {},
      "source": [
        "primero obtengamos las Qs a partir de la ecuación de Lagrange con la función de Energí cinética"
      ]
    },
    {
      "cell_type": "code",
      "execution_count": 36,
      "metadata": {},
      "outputs": [
        {
          "data": {
            "text/latex": [
              "$\\displaystyle Q_{1} = L_{1} \\left(L_{1} m_{1} \\frac{d^{2}}{d t^{2}} \\theta_{1}{\\left(t \\right)} + L_{1} m_{2} \\frac{d^{2}}{d t^{2}} \\theta_{1}{\\left(t \\right)} + L_{2} m_{2} \\sin{\\left(\\theta_{1}{\\left(t \\right)} - \\theta_{2}{\\left(t \\right)} \\right)} \\left(\\frac{d}{d t} \\theta_{2}{\\left(t \\right)}\\right)^{2} + L_{2} m_{2} \\cos{\\left(\\theta_{1}{\\left(t \\right)} - \\theta_{2}{\\left(t \\right)} \\right)} \\frac{d^{2}}{d t^{2}} \\theta_{2}{\\left(t \\right)}\\right)$"
            ],
            "text/plain": [
              "Eq(Q1, L1*(L1*m1*Derivative(theta1(t), (t, 2)) + L1*m2*Derivative(theta1(t), (t, 2)) + L2*m2*sin(theta1(t) - theta2(t))*Derivative(theta2(t), t)**2 + L2*m2*cos(theta1(t) - theta2(t))*Derivative(theta2(t), (t, 2))))"
            ]
          },
          "metadata": {},
          "output_type": "display_data"
        },
        {
          "data": {
            "text/latex": [
              "$\\displaystyle Q_{2} = L_{2} m_{2} \\left(- L_{1} \\sin{\\left(\\theta_{1}{\\left(t \\right)} - \\theta_{2}{\\left(t \\right)} \\right)} \\left(\\frac{d}{d t} \\theta_{1}{\\left(t \\right)}\\right)^{2} + L_{1} \\cos{\\left(\\theta_{1}{\\left(t \\right)} - \\theta_{2}{\\left(t \\right)} \\right)} \\frac{d^{2}}{d t^{2}} \\theta_{1}{\\left(t \\right)} + L_{2} \\frac{d^{2}}{d t^{2}} \\theta_{2}{\\left(t \\right)}\\right)$"
            ],
            "text/plain": [
              "Eq(Q2, L2*m2*(-L1*sin(theta1(t) - theta2(t))*Derivative(theta1(t), t)**2 + L1*cos(theta1(t) - theta2(t))*Derivative(theta1(t), (t, 2)) + L2*Derivative(theta2(t), (t, 2))))"
            ]
          },
          "metadata": {},
          "output_type": "display_data"
        }
      ],
      "source": [
        "def Q_k_from_T_total(T_function, qs):\n",
        "    \"\"\"\n",
        "    Las qs ya deben entrar como funciones del tiempo\n",
        "    \"\"\"\n",
        "    \n",
        "    Q=[]\n",
        "    t = symbols('t')  # Símbolo para el tiempo\n",
        "    for q in qs:\n",
        "\n",
        "        # Primero encontremos las derivadas respecto a las qs\n",
        "        dT_dq = T_function.diff(q)\n",
        "\n",
        "        # Ahora respecto a las q punto:\n",
        "        dT_dq_dot = T_function.diff(Derivative(q, t))\n",
        "\n",
        "        # Ahora eso lo derivamos respecto al tiempo\n",
        "        dt_dT_dq_dot = dT_dq_dot.diff(t)\n",
        "        Q.append(simplify(dt_dT_dq_dot - dT_dq))\n",
        "    return(Q)\n",
        "\n",
        "# Ahora usemos esta función para obtener las Qs\n",
        "t = symbols('t')  # Símbolo para el tiempo\n",
        "theta1 = Function('theta1')(t)\n",
        "theta2 = Function('theta2')(t)\n",
        "\n",
        "Qs = Q_k_from_T_total(T_total,  [theta1, theta2])\n",
        "\n",
        "# Imprimamos nuestros resultados\n",
        "for i,j in enumerate(Qs): \n",
        "    Qj = symbols(f'Q{i + 1}')\n",
        "    display(Eq(Qj,j))"
      ]
    },
    {
      "cell_type": "code",
      "execution_count": 37,
      "metadata": {},
      "outputs": [],
      "source": [
        "def Qs_from_T_function(T_function, variables):\n",
        "    \"\"\"\n",
        "    Calcula las derivadas generalizadas (Q_k) para un conjunto de variables de una función \n",
        "    de energía cinética total dada. Devuelve una lista de expresiones para cada Q_k.\n",
        "    \n",
        "    Parámetros:\n",
        "    - T_function : sympy.Expr\n",
        "        La función de energía cinética del sistema.\n",
        "    - variables : list\n",
        "        Lista de variables generalizadas como funciones del t.\n",
        "    \n",
        "    Retorna:\n",
        "    - list\n",
        "        Lista de expresiones de derivadas generalizadas Q_k.\n",
        "    \"\"\"\n",
        "    \n",
        "    Q = []  # Lista para almacenar las derivadas generalizadas\n",
        "    t = symbols('t')  # Definir el símbolo del t\n",
        "    for q in variables:\n",
        "        # Encontrar la derivada parcial de la energía cinética con respecto a q\n",
        "        dT_dq = T_function.diff(q)\n",
        "\n",
        "        # Encontrar la derivada parcial de la energía cinética con respecto a q punto (derivada de q)\n",
        "        dT_dq_punto = T_function.diff(Derivative(q, t))\n",
        "\n",
        "        # Derivar dT_dq_punto con respecto al t\n",
        "        d_dt_dT_dq_punto = dT_dq_punto.diff(t)\n",
        "        \n",
        "        # Calcular la derivada generalizada Q y añadirla a la lista\n",
        "        Q.append(simplify(d_dt_dT_dq_punto - dT_dq))\n",
        "    return Q\n",
        "\n"
      ]
    },
    {
      "cell_type": "markdown",
      "metadata": {},
      "source": [
        "Usando la función para calcular nuetros Qs a partir de la ecuación de lagrange"
      ]
    },
    {
      "cell_type": "code",
      "execution_count": 38,
      "metadata": {},
      "outputs": [
        {
          "data": {
            "text/latex": [
              "$\\displaystyle Q_{1} = L_{1} \\left(L_{1} m_{1} \\frac{d^{2}}{d t^{2}} \\theta_{1}{\\left(t \\right)} + L_{1} m_{2} \\frac{d^{2}}{d t^{2}} \\theta_{1}{\\left(t \\right)} + L_{2} m_{2} \\sin{\\left(\\theta_{1}{\\left(t \\right)} - \\theta_{2}{\\left(t \\right)} \\right)} \\left(\\frac{d}{d t} \\theta_{2}{\\left(t \\right)}\\right)^{2} + L_{2} m_{2} \\cos{\\left(\\theta_{1}{\\left(t \\right)} - \\theta_{2}{\\left(t \\right)} \\right)} \\frac{d^{2}}{d t^{2}} \\theta_{2}{\\left(t \\right)}\\right)$"
            ],
            "text/plain": [
              "Eq(Q1, L1*(L1*m1*Derivative(theta1(t), (t, 2)) + L1*m2*Derivative(theta1(t), (t, 2)) + L2*m2*sin(theta1(t) - theta2(t))*Derivative(theta2(t), t)**2 + L2*m2*cos(theta1(t) - theta2(t))*Derivative(theta2(t), (t, 2))))"
            ]
          },
          "metadata": {},
          "output_type": "display_data"
        },
        {
          "data": {
            "text/latex": [
              "$\\displaystyle Q_{2} = L_{2} m_{2} \\left(- L_{1} \\sin{\\left(\\theta_{1}{\\left(t \\right)} - \\theta_{2}{\\left(t \\right)} \\right)} \\left(\\frac{d}{d t} \\theta_{1}{\\left(t \\right)}\\right)^{2} + L_{1} \\cos{\\left(\\theta_{1}{\\left(t \\right)} - \\theta_{2}{\\left(t \\right)} \\right)} \\frac{d^{2}}{d t^{2}} \\theta_{1}{\\left(t \\right)} + L_{2} \\frac{d^{2}}{d t^{2}} \\theta_{2}{\\left(t \\right)}\\right)$"
            ],
            "text/plain": [
              "Eq(Q2, L2*m2*(-L1*sin(theta1(t) - theta2(t))*Derivative(theta1(t), t)**2 + L1*cos(theta1(t) - theta2(t))*Derivative(theta1(t), (t, 2)) + L2*Derivative(theta2(t), (t, 2))))"
            ]
          },
          "metadata": {},
          "output_type": "display_data"
        }
      ],
      "source": [
        "# Haciendo nuetsras variables funciones del tiempo\n",
        "theta1 = Function('theta1')(t)\n",
        "theta2 = Function('theta2')(t)\n",
        "\n",
        "# Calcular las Qs para theta1 y theta2\n",
        "Qs = Qs_from_T_function(T_total, [theta1, theta2])\n",
        "\n",
        "# Mostrar los resultados (asumiendo que Qs ha sido calculado)\n",
        "for i, Q in enumerate(Qs, start=1):\n",
        "     display(Eq(symbols(f'Q{i}'), Q))"
      ]
    },
    {
      "cell_type": "markdown",
      "metadata": {},
      "source": []
    },
    {
      "cell_type": "markdown",
      "metadata": {},
      "source": [
        "Ahora ya tenemos los Qs por dos metodos, podemos igualarlos para despejar nuestra aceleración angular"
      ]
    },
    {
      "cell_type": "code",
      "execution_count": 39,
      "metadata": {},
      "outputs": [
        {
          "data": {
            "text/latex": [
              "$\\displaystyle \\frac{d^{2}}{d t^{2}} \\theta_{1}{\\left(t \\right)} = - \\frac{L_{2} m_{2} \\sin{\\left(\\theta_{1}{\\left(t \\right)} - \\theta_{2}{\\left(t \\right)} \\right)} \\left(\\frac{d}{d t} \\theta_{2}{\\left(t \\right)}\\right)^{2} + L_{2} m_{2} \\cos{\\left(\\theta_{1}{\\left(t \\right)} - \\theta_{2}{\\left(t \\right)} \\right)} \\frac{d^{2}}{d t^{2}} \\theta_{2}{\\left(t \\right)} + g m_{1} \\sin{\\left(\\theta_{1}{\\left(t \\right)} \\right)} + g m_{2} \\sin{\\left(\\theta_{1}{\\left(t \\right)} \\right)}}{L_{1} \\left(m_{1} + m_{2}\\right)}$"
            ],
            "text/plain": [
              "Eq(Derivative(theta1(t), (t, 2)), -(L2*m2*sin(theta1(t) - theta2(t))*Derivative(theta2(t), t)**2 + L2*m2*cos(theta1(t) - theta2(t))*Derivative(theta2(t), (t, 2)) + g*m1*sin(theta1(t)) + g*m2*sin(theta1(t)))/(L1*(m1 + m2)))"
            ]
          },
          "metadata": {},
          "output_type": "display_data"
        },
        {
          "data": {
            "text/latex": [
              "$\\displaystyle \\frac{d^{2}}{d t^{2}} \\theta_{2}{\\left(t \\right)} = \\frac{L_{1} \\sin{\\left(\\theta_{1}{\\left(t \\right)} - \\theta_{2}{\\left(t \\right)} \\right)} \\left(\\frac{d}{d t} \\theta_{1}{\\left(t \\right)}\\right)^{2} - L_{1} \\cos{\\left(\\theta_{1}{\\left(t \\right)} - \\theta_{2}{\\left(t \\right)} \\right)} \\frac{d^{2}}{d t^{2}} \\theta_{1}{\\left(t \\right)} - g \\sin{\\left(\\theta_{2}{\\left(t \\right)} \\right)}}{L_{2}}$"
            ],
            "text/plain": [
              "Eq(Derivative(theta2(t), (t, 2)), (L1*sin(theta1(t) - theta2(t))*Derivative(theta1(t), t)**2 - L1*cos(theta1(t) - theta2(t))*Derivative(theta1(t), (t, 2)) - g*sin(theta2(t)))/L2)"
            ]
          },
          "metadata": {},
          "output_type": "display_data"
        }
      ],
      "source": [
        "# Igualando\n",
        "eq_1 = Eq(generalized_forces[0], Qs[0])\n",
        "eq_2 = Eq(generalized_forces[1], Qs[1])\n",
        "\n",
        "# Despejando las aceleraciones angulares\n",
        "d2_theta1 = Eq(Derivative(theta1, t, 2),solve(eq_1,Derivative(theta1, t, 2))[0])\n",
        "d2_theta2 = Eq(Derivative(theta2, t, 2),solve(eq_2,Derivative(theta2, t, 2))[0])\n",
        "\n",
        "# Mostrando los resultados \n",
        "display(d2_theta1, d2_theta2)"
      ]
    },
    {
      "cell_type": "markdown",
      "metadata": {},
      "source": [
        "-----------------"
      ]
    },
    {
      "cell_type": "markdown",
      "metadata": {},
      "source": [
        "sin dependencias la una de la otra"
      ]
    },
    {
      "cell_type": "code",
      "execution_count": 40,
      "metadata": {},
      "outputs": [
        {
          "data": {
            "text/latex": [
              "$\\displaystyle \\frac{d^{2}}{d t^{2}} \\theta_{1}{\\left(t \\right)} = \\frac{- \\frac{L_{1} m_{2} \\sin{\\left(2 \\theta_{1}{\\left(t \\right)} - 2 \\theta_{2}{\\left(t \\right)} \\right)} \\left(\\frac{d}{d t} \\theta_{1}{\\left(t \\right)}\\right)^{2}}{2} - L_{2} m_{2} \\sin{\\left(\\theta_{1}{\\left(t \\right)} - \\theta_{2}{\\left(t \\right)} \\right)} \\left(\\frac{d}{d t} \\theta_{2}{\\left(t \\right)}\\right)^{2} - g m_{1} \\sin{\\left(\\theta_{1}{\\left(t \\right)} \\right)} - \\frac{g m_{2} \\sin{\\left(\\theta_{1}{\\left(t \\right)} - 2 \\theta_{2}{\\left(t \\right)} \\right)}}{2} - \\frac{g m_{2} \\sin{\\left(\\theta_{1}{\\left(t \\right)} \\right)}}{2}}{L_{1} \\left(m_{1} - m_{2} \\cos^{2}{\\left(\\theta_{1}{\\left(t \\right)} - \\theta_{2}{\\left(t \\right)} \\right)} + m_{2}\\right)}$"
            ],
            "text/plain": [
              "Eq(Derivative(theta1(t), (t, 2)), (-L1*m2*sin(2*theta1(t) - 2*theta2(t))*Derivative(theta1(t), t)**2/2 - L2*m2*sin(theta1(t) - theta2(t))*Derivative(theta2(t), t)**2 - g*m1*sin(theta1(t)) - g*m2*sin(theta1(t) - 2*theta2(t))/2 - g*m2*sin(theta1(t))/2)/(L1*(m1 - m2*cos(theta1(t) - theta2(t))**2 + m2)))"
            ]
          },
          "metadata": {},
          "output_type": "display_data"
        },
        {
          "data": {
            "text/latex": [
              "$\\displaystyle \\frac{d^{2}}{d t^{2}} \\theta_{2}{\\left(t \\right)} = \\frac{L_{1} m_{1} \\sin{\\left(\\theta_{1}{\\left(t \\right)} - \\theta_{2}{\\left(t \\right)} \\right)} \\left(\\frac{d}{d t} \\theta_{1}{\\left(t \\right)}\\right)^{2} + L_{1} m_{2} \\sin{\\left(\\theta_{1}{\\left(t \\right)} - \\theta_{2}{\\left(t \\right)} \\right)} \\left(\\frac{d}{d t} \\theta_{1}{\\left(t \\right)}\\right)^{2} + \\frac{L_{2} m_{2} \\sin{\\left(2 \\theta_{1}{\\left(t \\right)} - 2 \\theta_{2}{\\left(t \\right)} \\right)} \\left(\\frac{d}{d t} \\theta_{2}{\\left(t \\right)}\\right)^{2}}{2} + \\frac{g m_{1} \\sin{\\left(2 \\theta_{1}{\\left(t \\right)} - \\theta_{2}{\\left(t \\right)} \\right)}}{2} - \\frac{g m_{1} \\sin{\\left(\\theta_{2}{\\left(t \\right)} \\right)}}{2} + \\frac{g m_{2} \\sin{\\left(2 \\theta_{1}{\\left(t \\right)} - \\theta_{2}{\\left(t \\right)} \\right)}}{2} - \\frac{g m_{2} \\sin{\\left(\\theta_{2}{\\left(t \\right)} \\right)}}{2}}{L_{2} \\left(m_{1} - m_{2} \\cos^{2}{\\left(\\theta_{1}{\\left(t \\right)} - \\theta_{2}{\\left(t \\right)} \\right)} + m_{2}\\right)}$"
            ],
            "text/plain": [
              "Eq(Derivative(theta2(t), (t, 2)), (L1*m1*sin(theta1(t) - theta2(t))*Derivative(theta1(t), t)**2 + L1*m2*sin(theta1(t) - theta2(t))*Derivative(theta1(t), t)**2 + L2*m2*sin(2*theta1(t) - 2*theta2(t))*Derivative(theta2(t), t)**2/2 + g*m1*sin(2*theta1(t) - theta2(t))/2 - g*m1*sin(theta2(t))/2 + g*m2*sin(2*theta1(t) - theta2(t))/2 - g*m2*sin(theta2(t))/2)/(L2*(m1 - m2*cos(theta1(t) - theta2(t))**2 + m2)))"
            ]
          },
          "metadata": {},
          "output_type": "display_data"
        }
      ],
      "source": [
        "# Resolvemos el sistema de ecuaciones para las segundas derivadas de theta1 y theta2\n",
        "solutions = solve((eq_1, eq_2), (Derivative(theta1, t, 2), Derivative(theta2, t, 2)), dict=True)\n",
        "\n",
        "# Convertimos las soluciones en ecuaciones para mostrarlas\n",
        "solutions_eqs = [Eq(key, value) for solution in solutions for key, value in solution.items()]\n",
        "\n",
        "# Imprimimos las soluciones de manera 'bonita'\n",
        "for eq in solutions_eqs:\n",
        "    display(simplify(eq))\n"
      ]
    },
    {
      "cell_type": "markdown",
      "metadata": {},
      "source": [
        "### **Parte 2. Lagrangiano**\n",
        "\n",
        "## 1. Encuentre la forma de la función potencial de la que derivan las fuerzas generalizadas del sistema."
      ]
    },
    {
      "cell_type": "code",
      "execution_count": 41,
      "metadata": {},
      "outputs": [
        {
          "data": {
            "text/latex": [
              "$\\displaystyle Ugen = - g \\left(L_{1} m_{1} \\cos{\\left(\\theta_{1}{\\left(t \\right)} \\right)} + L_{1} m_{2} \\cos{\\left(\\theta_{1}{\\left(t \\right)} \\right)} + L_{2} m_{2} \\cos{\\left(\\theta_{2}{\\left(t \\right)} \\right)}\\right)$"
            ],
            "text/plain": [
              "Eq(Ugen, -g*(L1*m1*cos(theta1(t)) + L1*m2*cos(theta1(t)) + L2*m2*cos(theta2(t))))"
            ]
          },
          "execution_count": 41,
          "metadata": {},
          "output_type": "execute_result"
        }
      ],
      "source": [
        "# Definamos esta función potencial\n",
        "Ugen = symbols(\"Ugen\") # Asignandole un simbolo\n",
        "\n",
        "# Escribiendo la ecuación\n",
        "potential_function = Eq(Ugen,simplify(-(m1*g*L1*cos(theta1)+m2*g*(L1 * sp.cos(theta1) + L2 * sp.cos(theta2)))))\n",
        "potential_function"
      ]
    },
    {
      "cell_type": "markdown",
      "metadata": {},
      "source": [
        "## 2. Con la función potencial y la función lagrangiana, escriba el lagrangiano del sistema."
      ]
    },
    {
      "cell_type": "code",
      "execution_count": 42,
      "metadata": {},
      "outputs": [
        {
          "data": {
            "text/latex": [
              "$\\displaystyle L = \\frac{L_{1}^{2} m_{1} \\left(\\frac{d}{d t} \\theta_{1}{\\left(t \\right)}\\right)^{2}}{2} + g \\left(L_{1} m_{1} \\cos{\\left(\\theta_{1}{\\left(t \\right)} \\right)} + L_{1} m_{2} \\cos{\\left(\\theta_{1}{\\left(t \\right)} \\right)} + L_{2} m_{2} \\cos{\\left(\\theta_{2}{\\left(t \\right)} \\right)}\\right) + \\frac{m_{2} \\left(L_{1}^{2} \\left(\\frac{d}{d t} \\theta_{1}{\\left(t \\right)}\\right)^{2} + 2 L_{1} L_{2} \\cos{\\left(\\theta_{1}{\\left(t \\right)} - \\theta_{2}{\\left(t \\right)} \\right)} \\frac{d}{d t} \\theta_{1}{\\left(t \\right)} \\frac{d}{d t} \\theta_{2}{\\left(t \\right)} + L_{2}^{2} \\left(\\frac{d}{d t} \\theta_{2}{\\left(t \\right)}\\right)^{2}\\right)}{2}$"
            ],
            "text/plain": [
              "Eq(L, L1**2*m1*Derivative(theta1(t), t)**2/2 + g*(L1*m1*cos(theta1(t)) + L1*m2*cos(theta1(t)) + L2*m2*cos(theta2(t))) + m2*(L1**2*Derivative(theta1(t), t)**2 + 2*L1*L2*cos(theta1(t) - theta2(t))*Derivative(theta1(t), t)*Derivative(theta2(t), t) + L2**2*Derivative(theta2(t), t)**2)/2)"
            ]
          },
          "execution_count": 42,
          "metadata": {},
          "output_type": "execute_result"
        }
      ],
      "source": [
        "L = symbols('L') # Primero definamos el simbolo del Lagrangiano\n",
        "# Ahora podemos tener la ecuación del lagrangiano como L = T - Ugen\n",
        "Lagrangiano = simplify(Ttotal_equation.rhs - potential_function.rhs)\n",
        "Lagrangiano_equation =  Eq(L, Lagrangiano ) \n",
        "Lagrangiano_equation"
      ]
    },
    {
      "cell_type": "markdown",
      "metadata": {},
      "source": [
        "### 3. Deduzca, a partir de las ecuaciones de Euler-Lagrange, las ecuaciones de movimiento y verifique que coinciden con las ecuaciones de movimiento obtenidas a partir de las ecuaciones de Lagrange."
      ]
    },
    {
      "cell_type": "markdown",
      "metadata": {},
      "source": [
        "$$\\left\\{ \\frac{d}{dt} \\left( \\frac{\\partial L}{\\partial \\dot{q}_j} \\right) - \\frac{\\partial L}{\\partial q_j} = 0 \\right\\}_M$$\n"
      ]
    },
    {
      "cell_type": "markdown",
      "metadata": {},
      "source": [
        "Para la solyución de este problema nos podemos valer del codigo que teniamos para hallar las ecuaciones de Lagrange, solo que ahora nuestro resultado usamos a L en vez de T, y este va igualado a 0 en vez de los $Q_k$"
      ]
    },
    {
      "cell_type": "code",
      "execution_count": 43,
      "metadata": {},
      "outputs": [
        {
          "data": {
            "text/latex": [
              "$\\displaystyle 0 = L_{1} \\left(L_{1} m_{1} \\frac{d^{2}}{d t^{2}} \\theta_{1}{\\left(t \\right)} + L_{1} m_{2} \\frac{d^{2}}{d t^{2}} \\theta_{1}{\\left(t \\right)} + L_{2} m_{2} \\sin{\\left(\\theta_{1}{\\left(t \\right)} - \\theta_{2}{\\left(t \\right)} \\right)} \\left(\\frac{d}{d t} \\theta_{2}{\\left(t \\right)}\\right)^{2} + L_{2} m_{2} \\cos{\\left(\\theta_{1}{\\left(t \\right)} - \\theta_{2}{\\left(t \\right)} \\right)} \\frac{d^{2}}{d t^{2}} \\theta_{2}{\\left(t \\right)} + g m_{1} \\sin{\\left(\\theta_{1}{\\left(t \\right)} \\right)} + g m_{2} \\sin{\\left(\\theta_{1}{\\left(t \\right)} \\right)}\\right)$"
            ],
            "text/plain": [
              "Eq(0, L1*(L1*m1*Derivative(theta1(t), (t, 2)) + L1*m2*Derivative(theta1(t), (t, 2)) + L2*m2*sin(theta1(t) - theta2(t))*Derivative(theta2(t), t)**2 + L2*m2*cos(theta1(t) - theta2(t))*Derivative(theta2(t), (t, 2)) + g*m1*sin(theta1(t)) + g*m2*sin(theta1(t))))"
            ]
          },
          "metadata": {},
          "output_type": "display_data"
        },
        {
          "data": {
            "text/latex": [
              "$\\displaystyle 0 = L_{2} m_{2} \\left(- L_{1} \\sin{\\left(\\theta_{1}{\\left(t \\right)} - \\theta_{2}{\\left(t \\right)} \\right)} \\left(\\frac{d}{d t} \\theta_{1}{\\left(t \\right)}\\right)^{2} + L_{1} \\cos{\\left(\\theta_{1}{\\left(t \\right)} - \\theta_{2}{\\left(t \\right)} \\right)} \\frac{d^{2}}{d t^{2}} \\theta_{1}{\\left(t \\right)} + L_{2} \\frac{d^{2}}{d t^{2}} \\theta_{2}{\\left(t \\right)} + g \\sin{\\left(\\theta_{2}{\\left(t \\right)} \\right)}\\right)$"
            ],
            "text/plain": [
              "Eq(0, L2*m2*(-L1*sin(theta1(t) - theta2(t))*Derivative(theta1(t), t)**2 + L1*cos(theta1(t) - theta2(t))*Derivative(theta1(t), (t, 2)) + L2*Derivative(theta2(t), (t, 2)) + g*sin(theta2(t))))"
            ]
          },
          "metadata": {},
          "output_type": "display_data"
        }
      ],
      "source": [
        "t = symbols('t')  # Símbolo para el tiempo\n",
        "theta1 = Function('theta1')(t)\n",
        "theta2 = Function('theta2')(t)\n",
        "\n",
        "Euler_Lagrange_equations = Q_k_from_T_total(Lagrangiano,  [theta1, theta2])\n",
        "\n",
        "# Imprimamos nuestros resultados\n",
        "equatio_E_L_1 = Eq(0,Euler_Lagrange_equations[0])\n",
        "equatio_E_L_2 = Eq(0,Euler_Lagrange_equations[1])\n",
        "\n",
        "# Mostrando nuestros resultados\n",
        "display(equatio_E_L_1, equatio_E_L_2)"
      ]
    },
    {
      "cell_type": "markdown",
      "metadata": {},
      "source": [
        "A partir de estás expresiones de Equler-Lagrange poodemos despejar la aceleracion angular $\\ddot{\\theta_1} , \\ddot{\\theta_2} $"
      ]
    },
    {
      "cell_type": "code",
      "execution_count": 44,
      "metadata": {},
      "outputs": [
        {
          "data": {
            "text/latex": [
              "$\\displaystyle \\frac{d^{2}}{d t^{2}} \\theta_{1}{\\left(t \\right)} = - \\frac{L_{2} m_{2} \\sin{\\left(\\theta_{1}{\\left(t \\right)} - \\theta_{2}{\\left(t \\right)} \\right)} \\left(\\frac{d}{d t} \\theta_{2}{\\left(t \\right)}\\right)^{2} + L_{2} m_{2} \\cos{\\left(\\theta_{1}{\\left(t \\right)} - \\theta_{2}{\\left(t \\right)} \\right)} \\frac{d^{2}}{d t^{2}} \\theta_{2}{\\left(t \\right)} + g m_{1} \\sin{\\left(\\theta_{1}{\\left(t \\right)} \\right)} + g m_{2} \\sin{\\left(\\theta_{1}{\\left(t \\right)} \\right)}}{L_{1} \\left(m_{1} + m_{2}\\right)}$"
            ],
            "text/plain": [
              "Eq(Derivative(theta1(t), (t, 2)), -(L2*m2*sin(theta1(t) - theta2(t))*Derivative(theta2(t), t)**2 + L2*m2*cos(theta1(t) - theta2(t))*Derivative(theta2(t), (t, 2)) + g*m1*sin(theta1(t)) + g*m2*sin(theta1(t)))/(L1*(m1 + m2)))"
            ]
          },
          "metadata": {},
          "output_type": "display_data"
        },
        {
          "data": {
            "text/latex": [
              "$\\displaystyle \\frac{d^{2}}{d t^{2}} \\theta_{2}{\\left(t \\right)} = \\frac{L_{1} \\sin{\\left(\\theta_{1}{\\left(t \\right)} - \\theta_{2}{\\left(t \\right)} \\right)} \\left(\\frac{d}{d t} \\theta_{1}{\\left(t \\right)}\\right)^{2} - L_{1} \\cos{\\left(\\theta_{1}{\\left(t \\right)} - \\theta_{2}{\\left(t \\right)} \\right)} \\frac{d^{2}}{d t^{2}} \\theta_{1}{\\left(t \\right)} - g \\sin{\\left(\\theta_{2}{\\left(t \\right)} \\right)}}{L_{2}}$"
            ],
            "text/plain": [
              "Eq(Derivative(theta2(t), (t, 2)), (L1*sin(theta1(t) - theta2(t))*Derivative(theta1(t), t)**2 - L1*cos(theta1(t) - theta2(t))*Derivative(theta1(t), (t, 2)) - g*sin(theta2(t)))/L2)"
            ]
          },
          "metadata": {},
          "output_type": "display_data"
        }
      ],
      "source": [
        "# Despejando las aceleraciones angulares\n",
        "d2_theta1EL = Eq(Derivative(theta1, t, 2),solve(equatio_E_L_1,Derivative(theta1, t, 2))[0])\n",
        "d2_theta2EL = Eq(Derivative(theta2, t, 2),solve(equatio_E_L_2,Derivative(theta2, t, 2))[0])\n",
        "\n",
        "# Mostrando nuestros resultados\n",
        "display(d2_theta1EL, d2_theta2EL)"
      ]
    },
    {
      "cell_type": "markdown",
      "metadata": {},
      "source": [
        "Mostremos los resultados anteriores a partir de las ecuaciones de Lagrange"
      ]
    },
    {
      "cell_type": "code",
      "execution_count": 45,
      "metadata": {},
      "outputs": [
        {
          "data": {
            "text/latex": [
              "$\\displaystyle \\frac{d^{2}}{d t^{2}} \\theta_{1}{\\left(t \\right)} = - \\frac{L_{2} m_{2} \\sin{\\left(\\theta_{1}{\\left(t \\right)} - \\theta_{2}{\\left(t \\right)} \\right)} \\left(\\frac{d}{d t} \\theta_{2}{\\left(t \\right)}\\right)^{2} + L_{2} m_{2} \\cos{\\left(\\theta_{1}{\\left(t \\right)} - \\theta_{2}{\\left(t \\right)} \\right)} \\frac{d^{2}}{d t^{2}} \\theta_{2}{\\left(t \\right)} + g m_{1} \\sin{\\left(\\theta_{1}{\\left(t \\right)} \\right)} + g m_{2} \\sin{\\left(\\theta_{1}{\\left(t \\right)} \\right)}}{L_{1} \\left(m_{1} + m_{2}\\right)}$"
            ],
            "text/plain": [
              "Eq(Derivative(theta1(t), (t, 2)), -(L2*m2*sin(theta1(t) - theta2(t))*Derivative(theta2(t), t)**2 + L2*m2*cos(theta1(t) - theta2(t))*Derivative(theta2(t), (t, 2)) + g*m1*sin(theta1(t)) + g*m2*sin(theta1(t)))/(L1*(m1 + m2)))"
            ]
          },
          "metadata": {},
          "output_type": "display_data"
        },
        {
          "data": {
            "text/latex": [
              "$\\displaystyle \\frac{d^{2}}{d t^{2}} \\theta_{2}{\\left(t \\right)} = \\frac{L_{1} \\sin{\\left(\\theta_{1}{\\left(t \\right)} - \\theta_{2}{\\left(t \\right)} \\right)} \\left(\\frac{d}{d t} \\theta_{1}{\\left(t \\right)}\\right)^{2} - L_{1} \\cos{\\left(\\theta_{1}{\\left(t \\right)} - \\theta_{2}{\\left(t \\right)} \\right)} \\frac{d^{2}}{d t^{2}} \\theta_{1}{\\left(t \\right)} - g \\sin{\\left(\\theta_{2}{\\left(t \\right)} \\right)}}{L_{2}}$"
            ],
            "text/plain": [
              "Eq(Derivative(theta2(t), (t, 2)), (L1*sin(theta1(t) - theta2(t))*Derivative(theta1(t), t)**2 - L1*cos(theta1(t) - theta2(t))*Derivative(theta1(t), (t, 2)) - g*sin(theta2(t)))/L2)"
            ]
          },
          "metadata": {},
          "output_type": "display_data"
        }
      ],
      "source": [
        "# Mostrando los resultados \n",
        "display(d2_theta1, d2_theta2)"
      ]
    },
    {
      "cell_type": "markdown",
      "metadata": {},
      "source": [
        "Efectivamente se puede observar que ambos resultados para las aceleraciones angulares son iguales"
      ]
    },
    {
      "cell_type": "markdown",
      "metadata": {},
      "source": [
        "4. Evalúe las simetrías del lagrangiano:\n",
        "  - ¿Tiene simetría de traslación?: ____No_____ en caso afirmativo ¿cuáles son las constantes (cuadraturas) asociadas?: _________\n",
        "  - ¿Tiene simetría de rotación?: _____No____ en caso afirmativo ¿cuáles son las constantes (cuadraturas) asociadas?: _________\n",
        "  - ¿Tiene simetría temporal?: _____Si____ en caso afirmativo ¿cuáles son las constantes (cuadraturas) asociadas?: ___La función de Jacobi y la energia ______\n",
        "  - ¿Tiene variables cíclicas? Si ¿cuáles?: ____El tiempo_____\n",
        "  - Escriba explícitamente la función de Jacobi $h(t,\\{q_j\\}_M,\\{\\dot q_j\\}_M)$ del sistema y diga si es constante o no."
      ]
    },
    {
      "cell_type": "markdown",
      "metadata": {},
      "source": [
        "Encontremos la función de Jacobi de este sistema, para esto hagamos una función que a partir de cualquier lagrangiano y sus variables generalizadas obtenga la función de Jacobi:\n",
        "$$h \\equiv \\sum_j \\left( \\frac{\\partial L}{\\partial \\dot{q}_j} \\dot{q}_j \\right) - L = \\text{cte}\n",
        "$$"
      ]
    },
    {
      "cell_type": "code",
      "execution_count": 46,
      "metadata": {},
      "outputs": [],
      "source": [
        "def Jacobi_function(L_function, variables):\n",
        "    \"\"\"\n",
        "    Calculala funcion de Jacobi a partir del lagrangiano\n",
        "    y las variables generalizadas\n",
        "    \n",
        "    Parámetros:\n",
        "    - L_function : sympy.Expr\n",
        "        Lagrangiano del sistema.\n",
        "    - variables : list\n",
        "        Lista de variables generalizadas como funciones del t.\n",
        "    \n",
        "    Retorna:\n",
        "    - La función de Jacobi\n",
        "    \"\"\"\n",
        "    \n",
        "    \n",
        "    t = symbols('t')  # Definir el símbolo del t\n",
        "    Jacobi_function = 0\n",
        "    for q in variables:\n",
        "        Jacobi_function += L_function.diff(Derivative(q, t))*Derivative(q, t)\n",
        "    Jacobi_function += -L_function\n",
        "    return simplify(Jacobi_function)"
      ]
    },
    {
      "cell_type": "markdown",
      "metadata": {},
      "source": [
        "Ahora usemos esta función para calcular la función de Jacobi"
      ]
    },
    {
      "cell_type": "code",
      "execution_count": 47,
      "metadata": {},
      "outputs": [
        {
          "data": {
            "text/latex": [
              "$\\displaystyle cte = \\frac{L_{1}^{2} m_{1} \\left(\\frac{d}{d t} \\theta_{1}{\\left(t \\right)}\\right)^{2}}{2} + \\frac{L_{1}^{2} m_{2} \\left(\\frac{d}{d t} \\theta_{1}{\\left(t \\right)}\\right)^{2}}{2} + L_{1} L_{2} m_{2} \\cos{\\left(\\theta_{1}{\\left(t \\right)} - \\theta_{2}{\\left(t \\right)} \\right)} \\frac{d}{d t} \\theta_{1}{\\left(t \\right)} \\frac{d}{d t} \\theta_{2}{\\left(t \\right)} - L_{1} g m_{1} \\cos{\\left(\\theta_{1}{\\left(t \\right)} \\right)} - L_{1} g m_{2} \\cos{\\left(\\theta_{1}{\\left(t \\right)} \\right)} + \\frac{L_{2}^{2} m_{2} \\left(\\frac{d}{d t} \\theta_{2}{\\left(t \\right)}\\right)^{2}}{2} - L_{2} g m_{2} \\cos{\\left(\\theta_{2}{\\left(t \\right)} \\right)}$"
            ],
            "text/plain": [
              "Eq(cte, L1**2*m1*Derivative(theta1(t), t)**2/2 + L1**2*m2*Derivative(theta1(t), t)**2/2 + L1*L2*m2*cos(theta1(t) - theta2(t))*Derivative(theta1(t), t)*Derivative(theta2(t), t) - L1*g*m1*cos(theta1(t)) - L1*g*m2*cos(theta1(t)) + L2**2*m2*Derivative(theta2(t), t)**2/2 - L2*g*m2*cos(theta2(t)))"
            ]
          },
          "execution_count": 47,
          "metadata": {},
          "output_type": "execute_result"
        }
      ],
      "source": [
        "cte = symbols('cte')\n",
        "Pendulo_doble_Jacobi = Jacobi_function(Lagrangiano, [theta1, theta2])\n",
        "Pendulo_doble_Jacobi_Function = Eq(cte, Pendulo_doble_Jacobi)\n",
        "Pendulo_doble_Jacobi_Function"
      ]
    },
    {
      "cell_type": "markdown",
      "metadata": {},
      "source": [
        "La anterior es la funcion de Jacobi"
      ]
    },
    {
      "cell_type": "markdown",
      "metadata": {},
      "source": [
        "## **Parte 3. Hamiltoniano**\n",
        "\n",
        "### 1. Escriba los momentos generalizados $\\{p_j\\}_M$ del sistema como función de las velocidades generalizadas $\\{q_j\\}_M$ del sistema.\n",
        "\n",
        "$$P_j = \\frac{\\partial L}{\\partial \\dot{q_j}}$$"
      ]
    },
    {
      "cell_type": "markdown",
      "metadata": {},
      "source": [
        "Hagamos una función que a partir del lagrangiano y las variables generalizadas obtenga los $P_j$"
      ]
    },
    {
      "cell_type": "code",
      "execution_count": 48,
      "metadata": {},
      "outputs": [],
      "source": [
        "def Pj_to_hamiltoniano(L_function, variables):\n",
        "    \"\"\"\n",
        "   Calcula los Pj para el Hamiltoniano a partir del lagrangiano\n",
        "    y las variables generalizadas\n",
        "    Parámetros:\n",
        "    - L_function : sympy.Expr\n",
        "        Lagrangiano del sistema.\n",
        "    - variables : list\n",
        "        Lista de variables generalizadas como funciones del t.\n",
        "    \n",
        "    Retorna:\n",
        "    - list. con las Pj\n",
        "    \"\"\"\n",
        "    \n",
        "    \n",
        "    t = symbols('t')  # Definir el símbolo del t\n",
        "    Pj = []\n",
        "    for q in variables:\n",
        "        Pj.append(simplify(L_function.diff(Derivative(q, t))))\n",
        "    return Pj"
      ]
    },
    {
      "cell_type": "code",
      "execution_count": 49,
      "metadata": {},
      "outputs": [
        {
          "data": {
            "text/latex": [
              "$\\displaystyle \\frac{L_{1}^{2} m_{1} \\left(\\frac{d}{d t} \\theta_{1}{\\left(t \\right)}\\right)^{2}}{2} + g \\left(L_{1} m_{1} \\cos{\\left(\\theta_{1}{\\left(t \\right)} \\right)} + L_{1} m_{2} \\cos{\\left(\\theta_{1}{\\left(t \\right)} \\right)} + L_{2} m_{2} \\cos{\\left(\\theta_{2}{\\left(t \\right)} \\right)}\\right) + \\frac{m_{2} \\left(L_{1}^{2} \\left(\\frac{d}{d t} \\theta_{1}{\\left(t \\right)}\\right)^{2} + 2 L_{1} L_{2} \\cos{\\left(\\theta_{1}{\\left(t \\right)} - \\theta_{2}{\\left(t \\right)} \\right)} \\frac{d}{d t} \\theta_{1}{\\left(t \\right)} \\frac{d}{d t} \\theta_{2}{\\left(t \\right)} + L_{2}^{2} \\left(\\frac{d}{d t} \\theta_{2}{\\left(t \\right)}\\right)^{2}\\right)}{2}$"
            ],
            "text/plain": [
              "L1**2*m1*Derivative(theta1(t), t)**2/2 + g*(L1*m1*cos(theta1(t)) + L1*m2*cos(theta1(t)) + L2*m2*cos(theta2(t))) + m2*(L1**2*Derivative(theta1(t), t)**2 + 2*L1*L2*cos(theta1(t) - theta2(t))*Derivative(theta1(t), t)*Derivative(theta2(t), t) + L2**2*Derivative(theta2(t), t)**2)/2"
            ]
          },
          "execution_count": 49,
          "metadata": {},
          "output_type": "execute_result"
        }
      ],
      "source": [
        "Lagrangiano"
      ]
    },
    {
      "cell_type": "code",
      "execution_count": 50,
      "metadata": {},
      "outputs": [
        {
          "data": {
            "text/latex": [
              "$\\displaystyle P_{1} = L_{1} \\left(L_{1} m_{1} \\frac{d}{d t} \\theta_{1}{\\left(t \\right)} + m_{2} \\left(L_{1} \\frac{d}{d t} \\theta_{1}{\\left(t \\right)} + L_{2} \\cos{\\left(\\theta_{1}{\\left(t \\right)} - \\theta_{2}{\\left(t \\right)} \\right)} \\frac{d}{d t} \\theta_{2}{\\left(t \\right)}\\right)\\right)$"
            ],
            "text/plain": [
              "Eq(P1, L1*(L1*m1*Derivative(theta1(t), t) + m2*(L1*Derivative(theta1(t), t) + L2*cos(theta1(t) - theta2(t))*Derivative(theta2(t), t))))"
            ]
          },
          "metadata": {},
          "output_type": "display_data"
        },
        {
          "data": {
            "text/latex": [
              "$\\displaystyle P_{2} = L_{2} m_{2} \\left(L_{1} \\cos{\\left(\\theta_{1}{\\left(t \\right)} - \\theta_{2}{\\left(t \\right)} \\right)} \\frac{d}{d t} \\theta_{1}{\\left(t \\right)} + L_{2} \\frac{d}{d t} \\theta_{2}{\\left(t \\right)}\\right)$"
            ],
            "text/plain": [
              "Eq(P2, L2*m2*(L1*cos(theta1(t) - theta2(t))*Derivative(theta1(t), t) + L2*Derivative(theta2(t), t)))"
            ]
          },
          "metadata": {},
          "output_type": "display_data"
        }
      ],
      "source": [
        "# Usemos esta función para encontrar nuestro Hamiltoniano\n",
        "Pjs = Pj_to_hamiltoniano(Lagrangiano, [theta1, theta2])\n",
        "\n",
        "# Ahora con estos podemos encontrar las ecuaciones de los p\n",
        "# Para esto definamos nuestros symbolos para los P\n",
        "P1, P2 = symbols('P1 P2')\n",
        "\n",
        "P1_equation = Eq(P1, Pjs[0])\n",
        "P2_equation = Eq(P2, Pjs[1])\n",
        "\n",
        "# Mostrando nuestros resultados\n",
        "display(P1_equation, P2_equation)"
      ]
    },
    {
      "cell_type": "markdown",
      "metadata": {},
      "source": [
        "2. Escriba la función de energía cinética en función de $\\{p_j\\}_M$."
      ]
    },
    {
      "cell_type": "markdown",
      "metadata": {},
      "source": [
        "para esto despejemos de los $P_j$ nuestras aceleraciones angulares"
      ]
    },
    {
      "cell_type": "code",
      "execution_count": 55,
      "metadata": {},
      "outputs": [
        {
          "data": {
            "text/latex": [
              "$\\displaystyle \\frac{d}{d t} \\theta_{1}{\\left(t \\right)} = \\frac{- L_{1} P_{2} \\cos{\\left(\\theta_{1}{\\left(t \\right)} - \\theta_{2}{\\left(t \\right)} \\right)} + L_{2} P_{1}}{L_{1}^{2} L_{2} \\left(m_{1} - m_{2} \\cos^{2}{\\left(\\theta_{1}{\\left(t \\right)} - \\theta_{2}{\\left(t \\right)} \\right)} + m_{2}\\right)}$"
            ],
            "text/plain": [
              "Eq(Derivative(theta1(t), t), (-L1*P2*cos(theta1(t) - theta2(t)) + L2*P1)/(L1**2*L2*(m1 - m2*cos(theta1(t) - theta2(t))**2 + m2)))"
            ]
          },
          "metadata": {},
          "output_type": "display_data"
        },
        {
          "data": {
            "text/latex": [
              "$\\displaystyle \\frac{d}{d t} \\theta_{2}{\\left(t \\right)} = \\frac{L_{1} P_{2} m_{1} + L_{1} P_{2} m_{2} - L_{2} P_{1} m_{2} \\cos{\\left(\\theta_{1}{\\left(t \\right)} - \\theta_{2}{\\left(t \\right)} \\right)}}{L_{1} L_{2}^{2} m_{2} \\left(m_{1} - m_{2} \\cos^{2}{\\left(\\theta_{1}{\\left(t \\right)} - \\theta_{2}{\\left(t \\right)} \\right)} + m_{2}\\right)}$"
            ],
            "text/plain": [
              "Eq(Derivative(theta2(t), t), (L1*P2*m1 + L1*P2*m2 - L2*P1*m2*cos(theta1(t) - theta2(t)))/(L1*L2**2*m2*(m1 - m2*cos(theta1(t) - theta2(t))**2 + m2)))"
            ]
          },
          "metadata": {},
          "output_type": "display_data"
        }
      ],
      "source": [
        "# Resolvemos el sistema de ecuaciones para las segundas derivadas de theta1 y theta2\n",
        "angular_acelerations = solve((P1_equation, P2_equation), (Derivative(theta1, t), Derivative(theta2, t)), dict=True)\n",
        "\n",
        "# Asignemos las soluciones a una variable\n",
        "solutions_angular_acelerations = [value for solution in angular_acelerations for key, value in solution.items()]\n",
        "\n",
        "# Convertimos las soluciones en ecuaciones para mostrarlas\n",
        "solutions_eqs = [Eq(key, value) for solution in angular_acelerations for key, value in solution.items()]\n",
        "\n",
        "\n",
        "# Imprimimos las soluciones en forma de ecuación\n",
        "for eq in solutions_eqs:\n",
        "    display(simplify(eq))"
      ]
    },
    {
      "cell_type": "markdown",
      "metadata": {},
      "source": [
        "Ahora reemplazamos estos valores en la expresión que tenemos para la función de energía cinética"
      ]
    },
    {
      "cell_type": "code",
      "execution_count": 60,
      "metadata": {},
      "outputs": [
        {
          "data": {
            "text/latex": [
              "$\\displaystyle T_{Pj} = \\frac{L_{1}^{2} P_{2}^{2} m_{1} + L_{1}^{2} P_{2}^{2} m_{2} - 2 L_{1} L_{2} P_{1} P_{2} m_{2} \\cos{\\left(\\theta_{1}{\\left(t \\right)} - \\theta_{2}{\\left(t \\right)} \\right)} + L_{2}^{2} P_{1}^{2} m_{2}}{2 L_{1}^{2} L_{2}^{2} m_{2} \\left(m_{1} - m_{2} \\cos^{2}{\\left(\\theta_{1}{\\left(t \\right)} - \\theta_{2}{\\left(t \\right)} \\right)} + m_{2}\\right)}$"
            ],
            "text/plain": [
              "Eq(T_Pj, (L1**2*P2**2*m1 + L1**2*P2**2*m2 - 2*L1*L2*P1*P2*m2*cos(theta1(t) - theta2(t)) + L2**2*P1**2*m2)/(2*L1**2*L2**2*m2*(m1 - m2*cos(theta1(t) - theta2(t))**2 + m2)))"
            ]
          },
          "execution_count": 60,
          "metadata": {},
          "output_type": "execute_result"
        }
      ],
      "source": [
        "T_total_Pj = simplify(T_total.subs(\n",
        "    {Derivative(theta1, t):solutions_angular_acelerations[0],\n",
        "    Derivative(theta2, t): solutions_angular_acelerations[1]}))\n",
        "\n",
        "# Hacemos una ecuación para la nueva expresion de la fucion de energia cinética\n",
        "T_Pj = symbols('T_Pj')\n",
        "Ttotal_equation = Eq(T_Pj, T_total_Pj)\n",
        "\n",
        "# Imprimiendo nuestros resultados\n",
        "Ttotal_equation"
      ]
    },
    {
      "cell_type": "markdown",
      "metadata": {},
      "source": [
        "En la anterior celda se puede observar la energía cinética a partir de los $P_j$"
      ]
    }
  ],
  "metadata": {
    "colab": {
      "provenance": []
    },
    "kernelspec": {
      "display_name": "Python 3",
      "name": "python3"
    },
    "language_info": {
      "codemirror_mode": {
        "name": "ipython",
        "version": 3
      },
      "file_extension": ".py",
      "mimetype": "text/x-python",
      "name": "python",
      "nbconvert_exporter": "python",
      "pygments_lexer": "ipython3",
      "version": "3.10.12"
    }
  },
  "nbformat": 4,
  "nbformat_minor": 0
}
