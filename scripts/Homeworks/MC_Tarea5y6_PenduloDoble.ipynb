{
  "cells": [
    {
      "cell_type": "markdown",
      "metadata": {
        "id": "6XE49aAfGdAu"
      },
      "source": [
        "<p>\n",
        "<img src=\"https://drive.google.com/uc?id=1ZHUKcwzA5c-PKUwoGmBG3TsHk6TmZ-Y0\" align=\"left\" width=\"250\">\n",
        "</p>\n",
        "<p>\n",
        "<h1><b><center>Mecánica Celeste</center></b></h1>\n",
        "<h2><b><center>Prof. Jorge I. Zuluaga</center></b></h1>\n",
        "<h2><b><center>Tarea 5 y 6</center></b><h2>\n",
        "<h3><b><center>El péndulo doble</center></b><h3>\n",
        "<h5><center><b>Asignada</b>: 26 de Octubre de 2023</center><h5>\n",
        "<h5><center><b>Entrega</b>: 14 de Noviembre de 2023</center><h5>\n",
        "</p>"
      ]
    },
    {
      "cell_type": "markdown",
      "metadata": {
        "id": "DZ3br0tlHiUH"
      },
      "source": [
        "<hr/>\n",
        "<b>Nombre</b>: Bryan Camilo Restrepo Arcila\n",
        "<br/>\n",
        "<b>Cédula</b>: 1000567825\n",
        "<br/>\n",
        "<b>Última actualización</b>:\n",
        "<hr/>"
      ]
    },
    {
      "cell_type": "markdown",
      "metadata": {
        "id": "32KKSLFEHYpg"
      },
      "source": [
        "## Enunciado"
      ]
    },
    {
      "cell_type": "markdown",
      "metadata": {
        "id": "BJv9-ZZAIUgW"
      },
      "source": [
        "**Objetivo**: Estudiar la dinámica del péndulo doble utilizando los métodos de Lagrange y Hamilton.\n",
        "\n",
        "Un péndulo doble es un sistema formado por 2 partículas puntuales de masas $m_1$ y $m_2$ unidas por varillas inextensibles de longitudes $L_1$ y $L_2$. La varilla $L_1$ esta fija a un punto del espacio.\n",
        "\n",
        "**Procedimiento**:"
      ]
    },
    {
      "cell_type": "markdown",
      "metadata": {
        "id": "xYGuJo1gfAf3"
      },
      "source": [
        "**Parte 1. La receta de Lagrange**\n",
        "\n",
        "1. Para este sistema identifique:\n",
        "\n",
        "  - Número de partículas: _____________\n",
        "  - Número de coordenadas: _____________\n",
        "  - Número de restricciones: _____________\n",
        "  - Número de grados de libertad: _____________\n",
        "\n",
        "2. Escriba las ecuaciones que describen las restricciones del sistema.\n",
        "\n",
        "3. Identifique las variables generalizadas del sistema y explique por qué esas variables son apropiadas para describir el sistema con el método de Lagrange.\n",
        "\n",
        "4. Escriba las ecuaciones que permiten transformar de las variables generalizadas $\\{q_j\\}_M$ a las coordenadas $\\{\\vec r_i\\}_N$ y viceversa (transformación inversa).\n",
        "\n",
        "5. Usando `SymPy` escriba una rutina que, dadas las ecuaciones de transformación  $\\{\\vec r_i(\\{q_j\\}_M)\\}_N$ calcule la función de energía cinética para el sistema. Intente que la rutina sea tan general posible que pueda ser aplicada a otros sistemas.\n",
        "\n",
        "6. Usando `SymPy` escriba una rutina que, dadas las ecuaciones de transformación  $\\{\\vec r_i(\\{q_j\\}_M)\\}_N$ y las componentes cartesianas de las fuerzas que actúan sobre las partículas, determine las fuerzas generalizadas. Intente que la rutina sea tan general posible que pueda ser aplicada a otros sitstemas.\n",
        "\n",
        "7. Usando los resultados en 5 y en 6, escriba las ecuaciones de movimiento del sistema. Es normal que las ecuaciones se escriban como la segunda derivada de cada variable generalizada como función de las primeras derivada de las variables generalizadas y las variables generalizadas en sí.  Es decir las ecuaciones deben tener la forma:\n",
        "\n",
        "  $$\n",
        "  \\ddot q_j = f_j (t,\\{q_j\\}_M,\\{\\dot q_j\\}_M)\n",
        "  $$\n"
      ]
    },
    {
      "cell_type": "markdown",
      "metadata": {
        "id": "ZZiwA0xtfEJf"
      },
      "source": [
        "**Parte 2. Lagrangiano**\n",
        "\n",
        "1. Encuentre la forma de la función potencial de la que derivan las fuerzas generalizadas del sistema.\n",
        "\n",
        "2. Con la función potencial y la función lagrangiana, escriba el lagrangiano del sistema.\n",
        "\n",
        "3. Deduzca, a partir de las ecuaciones de Euler-Lagrange, las ecuaciones de movimiento y verifique que coinciden con las ecuaciones de movimiento obtenidas a partir de las ecuaciones de Lagrange.\n",
        "\n",
        "4. Evalúe las simetrías del lagrangiano:\n",
        "  - ¿Tiene simetría de traslación?: _________ en caso afirmativo ¿cuáles son las constantes (cuadraturas) asociadas?: _________\n",
        "  - ¿Tiene simetría de rotación?: _________ en caso afirmativo ¿cuáles son las constantes (cuadraturas) asociadas?: _________\n",
        "  - ¿Tiene simetría temporal?: _________ en caso afirmativo ¿cuáles son las constantes (cuadraturas) asociadas?: _________\n",
        "  - ¿Tiene variables cíclicas? ¿cuáles?: _________\n",
        "  - Escriba explícitamente la función de Jacobi $h(t,\\{q_j\\}_M,\\{\\dot q_j\\}_M)$ del sistema y diga si es constante o no."
      ]
    },
    {
      "cell_type": "markdown",
      "metadata": {
        "id": "-1Iz7rhZg2DA"
      },
      "source": [
        "**Parte 3. Hamiltoniano**\n",
        "\n",
        "1. Escriba los momentos generalizados $\\{p_j\\}_M$ del sistema como función de las velocidades generalizadas $\\{q_j\\}_M$ del sistema.\n",
        "\n",
        "2. Escriba la función de energía cinética en función de $\\{p_j\\}_M$.\n",
        "\n",
        "3. Escriba el Lagrangianop $\\{L_{qp}(t,\\{q_j\\}_M,\\{p_j\\}_M)\\}$ del sistema.\n",
        "\n",
        "4. Escriba el Hamiltoniano $\\{H(t,\\{q_j\\}_M,\\{p_j\\}_M)\\}$ del sistema.\n",
        "\n",
        "5. A partir del Hamiltoniano escriba explícitamente las ecuaciones de movimiento usando las ecuaciones canónicas."
      ]
    },
    {
      "cell_type": "markdown",
      "metadata": {
        "id": "LFjc7elmhk2_"
      },
      "source": [
        "**Parte 4. Experimentos numéricos**\n",
        "\n",
        "1. Escriba un programa para resolver numéricamente las ecuaciones de movimiento obtenidas en la **parte 1**. Con condiciones iniciales apropiadas, resuelva las ecuaciones y haga una animación del movimiento del péndulo.\n",
        "\n",
        "2. Compruebe con una solución particular , que las constantes de movimiento identificadas del sistema en la **parte 2**, son en realidad constantes.\n",
        "\n",
        "3. Escriba un programa para resolver numéricamente las ecuaciones de movimiento obtenidas en la **parte 3**. Con condiciones iniciales apropiadas, resuelva las ecuaciones y haga una animación del movimiento del péndulo.\n",
        "\n",
        "4. El espacio de fases del sistema tiene muchas dimensiones. Se puede reducir si si fijan algunas variables del sistema. Fije en 0 el valor de las variables y momentos generalizados de la partícula 1 y gráfique contornos del Hamiltoniano en el espacio de fase resultante con las variables y momentos generalizados de la partícula 2.\n",
        "\n",
        "5. Es bien sabido que el péndulo doble experimenta caos. Vamos a comprobarlo. Escoja condiciones iniciales arbitrarias para las variables (use las variables del formalismo Hamiltoniano). Grafique la evolución en el tiempo de las variables generalizadas de ambas partículas. Cambie ahora sutilmente las condiciones iniciales y estudie la evolución a largo plazo de las variables generalizadas.  Haga una animación que muestre la evolución del sistema con condiciones sutilmente diferentes como la que aparece [aquí](https://en.wikipedia.org/wiki/Double_pendulum#/media/File:Demonstrating_Chaos_with_a_Double_Pendulum.gif)."
      ]
    },
    {
      "cell_type": "markdown",
      "metadata": {
        "id": "NI1EmWvOa_o2"
      },
      "source": [
        "**Resultados esperados**:\n",
        "\n",
        "- Este notebook con el procedimiento debidamente comentado.\n",
        "\n",
        "- Respuestas a las preguntas que terminan en '________'.\n",
        "\n",
        "- Rutinas solicitadas.\n",
        "\n",
        "- Fórmulas solicitadas: ecuaciones de movimiento, forma explícita de las funciones de energía cinética, fuerzas generalizadas, lagrangiano, hamiltoniano.\n",
        "\n",
        "- Gráficos:\n",
        "  - Constantes de movimiento.\n",
        "  - Animaciones del movimiento.\n",
        "  - Contornos del Hamiltoniano.\n",
        "  - Evolución de las variables generalizadas.\n",
        "  - Animación ilustrando el caos.\n",
        "\n",
        "- En caso de utilizar ayudas como `ChatGPT` o códigos de `Stack Over Flow` debe citar debidamente la fuente, pero también entender a cabalidad el código, el profesor puede pedir justificación."
      ]
    },
    {
      "cell_type": "markdown",
      "metadata": {},
      "source": [
        "Instalemos las librerias necesarias"
      ]
    },
    {
      "cell_type": "code",
      "execution_count": 42,
      "metadata": {},
      "outputs": [],
      "source": [
        "import numpy as np\n",
        "import sympy as sp\n",
        "from sympy import symbols, Function, diff, sin, cos, simplify, Rational, Eq, Matrix, Derivative, solve, lambdify\n",
        "import matplotlib.pyplot as plt\n",
        "from IPython.display import HTML\n",
        "from celluloid import Camera"
      ]
    },
    {
      "cell_type": "markdown",
      "metadata": {
        "id": "J0ISSYQpHex_"
      },
      "source": [
        "## Solución"
      ]
    },
    {
      "cell_type": "markdown",
      "metadata": {},
      "source": [
        "\n",
        "### 1. Para este sistema identifique:\n",
        "\n",
        "  - Número de partículas: ______2_______\n",
        "  - Número de coordenadas: ______6_______\n",
        "  - Número de restricciones: ______4_______\n",
        "  - Número de grados de libertad: ______2_______"
      ]
    },
    {
      "cell_type": "markdown",
      "metadata": {},
      "source": [
        "### 2. Escriba las ecuaciones que describen las restricciones del sistema."
      ]
    },
    {
      "cell_type": "markdown",
      "metadata": {},
      "source": [
        "Definamos los simbolos para todo nuestro procedimiento"
      ]
    },
    {
      "cell_type": "code",
      "execution_count": 3,
      "metadata": {},
      "outputs": [
        {
          "name": "stdout",
          "output_type": "stream",
          "text": [
            "Restricciones del pendulo doble\n"
          ]
        },
        {
          "data": {
            "text/latex": [
              "$\\displaystyle z_{1} = 0$"
            ],
            "text/plain": [
              "Eq(z1, 0)"
            ]
          },
          "metadata": {},
          "output_type": "display_data"
        },
        {
          "data": {
            "text/latex": [
              "$\\displaystyle z_{2} = 0$"
            ],
            "text/plain": [
              "Eq(z2, 0)"
            ]
          },
          "metadata": {},
          "output_type": "display_data"
        },
        {
          "data": {
            "text/latex": [
              "$\\displaystyle x_{1}^{2} + y_{1}^{2} = L_{1}^{2}$"
            ],
            "text/plain": [
              "Eq(x1**2 + y1**2, L1**2)"
            ]
          },
          "metadata": {},
          "output_type": "display_data"
        },
        {
          "data": {
            "text/latex": [
              "$\\displaystyle \\left(- x_{1} + x_{2}\\right)^{2} + \\left(- y_{1} + y_{2}\\right)^{2} = L_{2}^{2}$"
            ],
            "text/plain": [
              "Eq((-x1 + x2)**2 + (-y1 + y2)**2, L2**2)"
            ]
          },
          "metadata": {},
          "output_type": "display_data"
        }
      ],
      "source": [
        "# Definiendo simbolos\n",
        "\n",
        "# sistema de q_s:\n",
        "L1, L2, theta1, theta2 = sp.symbols('L1 L2 theta1 theta2')\n",
        "\n",
        "# Sistema cartesiano\n",
        "x1, y1, z1, x2, y2, z2 = sp.symbols('x1 y1 z1 x2 y2 z2')\n",
        "\n",
        "## Restricciones del sistema \n",
        "\n",
        "# Restricciones de movimiento en un plano\n",
        "first_restriction = sp.Eq(z1, 0) \n",
        "second_restriction =  sp.Eq(z2,0)\n",
        "\n",
        "# Restricciones de las varillas:\n",
        "third_restriction = sp.Eq(x1**2 + y1**2 , L1**2)\n",
        "fourth_restriction = sp.Eq((x2 - x1)**2 + (y2 - y1)**2, L2**2)\n",
        "\n",
        "# Imprimamos las restricciones\n",
        "print('Restricciones del pendulo doble')\n",
        "display(first_restriction, second_restriction, third_restriction, fourth_restriction)"
      ]
    },
    {
      "cell_type": "markdown",
      "metadata": {},
      "source": [
        "### 3. Identifique las variables generalizadas del sistema y explique por qué esas variables son apropiadas para describir el sistema con el método de Lagrange."
      ]
    },
    {
      "cell_type": "markdown",
      "metadata": {},
      "source": [
        "La variables generalizadas más correctas del problema del pendulo doble son los angulos $\\theta_1$ y $\\theta_2$, estos angulos son los angulos que tienen las varillas con respecto al eje y, y tienen ventajas respecto a otras coordendas generalizadas porque:\n",
        "\n",
        "- Reducen el número de coordenadas necesarias: Al utilizar los ángulos, se reducen las cuatro coordenadas cartesianas a solo dos coordenadas generalizadas.\n",
        "\n",
        "- Simplifican las restricciones: Las longitudes de las varillas son constantes y, por tanto, no necesitan ser consideradas como variables independientes. Los ángulos incorporan naturalmente esta restricción geométrica."
      ]
    },
    {
      "cell_type": "markdown",
      "metadata": {},
      "source": [
        "### 4. Escriba las ecuaciones que permiten transformar de las variables generalizadas $\\{q_j\\}_M$ a las coordenadas $\\{\\vec r_i\\}_N$ y viceversa (transformación inversa).\n"
      ]
    },
    {
      "cell_type": "code",
      "execution_count": 4,
      "metadata": {},
      "outputs": [
        {
          "name": "stdout",
          "output_type": "stream",
          "text": [
            "De coordenadas generalizadas a cartesianas\n"
          ]
        },
        {
          "data": {
            "text/latex": [
              "$\\displaystyle x_{1} = L_{1} \\sin{\\left(\\theta_{1} \\right)}$"
            ],
            "text/plain": [
              "Eq(x1, L1*sin(theta1))"
            ]
          },
          "metadata": {},
          "output_type": "display_data"
        },
        {
          "data": {
            "text/latex": [
              "$\\displaystyle y_{1} = L_{1} \\cos{\\left(\\theta_{1} \\right)}$"
            ],
            "text/plain": [
              "Eq(y1, L1*cos(theta1))"
            ]
          },
          "metadata": {},
          "output_type": "display_data"
        },
        {
          "data": {
            "text/latex": [
              "$\\displaystyle x_{2} = L_{1} \\sin{\\left(\\theta_{1} \\right)} + L_{2} \\sin{\\left(\\theta_{2} \\right)}$"
            ],
            "text/plain": [
              "Eq(x2, L1*sin(theta1) + L2*sin(theta2))"
            ]
          },
          "metadata": {},
          "output_type": "display_data"
        },
        {
          "data": {
            "text/latex": [
              "$\\displaystyle y_{2} = L_{1} \\cos{\\left(\\theta_{1} \\right)} + L_{2} \\cos{\\left(\\theta_{2} \\right)}$"
            ],
            "text/plain": [
              "Eq(y2, L1*cos(theta1) + L2*cos(theta2))"
            ]
          },
          "metadata": {},
          "output_type": "display_data"
        },
        {
          "name": "stdout",
          "output_type": "stream",
          "text": [
            "De cartesianas a generalizadas\n"
          ]
        },
        {
          "data": {
            "text/latex": [
              "$\\displaystyle \\theta_{1} = \\operatorname{asin}{\\left(\\frac{x_{1}}{L_{1}} \\right)}$"
            ],
            "text/plain": [
              "Eq(theta1, asin(x1/L1))"
            ]
          },
          "metadata": {},
          "output_type": "display_data"
        },
        {
          "data": {
            "text/latex": [
              "$\\displaystyle \\theta_{1} = \\operatorname{acos}{\\left(\\frac{y_{1}}{L_{1}} \\right)}$"
            ],
            "text/plain": [
              "Eq(theta1, acos(y1/L1))"
            ]
          },
          "metadata": {},
          "output_type": "display_data"
        },
        {
          "data": {
            "text/latex": [
              "$\\displaystyle \\theta_{2} = - \\operatorname{asin}{\\left(\\frac{x_{1} - x_{2}}{L_{2}} \\right)}$"
            ],
            "text/plain": [
              "Eq(theta2, -asin((x1 - x2)/L2))"
            ]
          },
          "metadata": {},
          "output_type": "display_data"
        }
      ],
      "source": [
        "# Definiendo el eje positivo y hacía abajo, y el x hacía la derecha \n",
        "\n",
        "# Primero de coordenadas generalizadas a cartesianas\n",
        "x1_equation = sp.Eq(x1, L1 * sp.sin(theta1))\n",
        "y1_equation = sp.Eq(y1, L1 * sp.cos(theta1))\n",
        "x2_equation = sp.Eq(x2, L1 * sp.sin(theta1) + L2 * sp.sin(theta2) )\n",
        "y2_equation = sp.Eq(y2, L1 * sp.cos(theta1) + L2 * sp.cos(theta2))\n",
        "\n",
        "## Ahora de cartesianas a generalizadas\n",
        "\n",
        "# Primero resolvamos las ecuaciones \n",
        "theta1_solutions = sp.solve(( x1_equation), theta1) # Dos soluciones para theta1\n",
        "theta1_solutions_2 = sp.solve(( y1_equation), theta1)\n",
        "\n",
        "theta2_solutions = sp.solve((  x2_equation, y2_equation), theta2) # Dos soluciones para theta2\n",
        "\n",
        "# Poniendo las soluciones en ecuaciones\n",
        "theta1_equation = sp.Eq(theta1, theta1_solutions[1])\n",
        "theta1_equation_2 = sp.Eq(theta1, theta1_solutions_2[1]) \n",
        "\n",
        "# Reemplando L1*sin(theta1) por x1\n",
        "theta2_solution = theta2_solutions[1][0].subs(L1 * sp.sin(theta1), x1)\n",
        "theta2_equation = sp.Eq(theta2, theta2_solution) # Construyendo la ecuación\n",
        "\n",
        "## Imprimiendo nuestros resultados\n",
        "print('De coordenadas generalizadas a cartesianas')\n",
        "display(x1_equation, y1_equation, x2_equation, y2_equation)\n",
        "\n",
        "print('De cartesianas a generalizadas')\n",
        "display(theta1_equation, theta1_equation_2, theta2_equation)"
      ]
    },
    {
      "cell_type": "markdown",
      "metadata": {},
      "source": [
        "5. Usando `SymPy` escriba una rutina que, dadas las ecuaciones de transformación  $\\{\\vec r_i(\\{q_j\\}_M)\\}_N$ calcule la función de energía cinética para el sistema. Intente que la rutina sea tan general posible que pueda ser aplicada a otros sitstemas."
      ]
    },
    {
      "cell_type": "code",
      "execution_count": 5,
      "metadata": {},
      "outputs": [],
      "source": [
        "def kinetic_energy(transform_equations_per_particle):\n",
        "    \"\"\"\n",
        "    Esta función recibe una lista de diccionarios, donde cada diccionario\n",
        "    debe contener las ecuaciones de transformación de sympy y\n",
        "    las variables generalizadas por cada ecuación, si no aparece la función\n",
        "    se asume esta como 0, por ejemplo en el caso de z=0.\n",
        "\n",
        "    Retorna la función de energía cinética del sistema considerando movimiento en x, y, z.\n",
        "    \"\"\"\n",
        "    energy_total = 0  # Energía cinética total del sistema inicialmente es cero\n",
        "    t = symbols('t')  # Símbolo para el tiempo\n",
        "\n",
        "    # Procesamos cada partícula y calculamos su energía cinética\n",
        "    for particle in transform_equations_per_particle:\n",
        "        m = particle['mass']  # Masa de la partícula\n",
        "        q = particle['q']  # Variables generalizadas como funciones del tiempo\n",
        "\n",
        "        # Convertimos las variables generalizadas a funciones del tiempo y calculamos sus derivadas\n",
        "        q_funcs = {qi: Function(str(qi))(t) for qi in q}\n",
        "        #dq_funcs = {qi: diff(q_func, t) for qi, q_func in q_funcs.items()}\n",
        "\n",
        "        # Sustituimos las variables generalizadas en las ecuaciones de transformación por las funciones\n",
        "        x = particle['x'].subs(q_funcs) if 'x' in particle else 0\n",
        "        y = particle['y'].subs(q_funcs) if 'y' in particle else 0\n",
        "        z = particle['z'].subs(q_funcs) if 'z' in particle else 0\n",
        "\n",
        "        # Calculamos las derivadas de x, y, y z con respecto al tiempo usando la regla de la cadena\n",
        "        vx = x.diff(t) if 'x' in particle else 0\n",
        "        vy = y.diff(t) if 'y' in particle else 0\n",
        "        vz = z.diff(t) if 'z' in particle else 0\n",
        "\n",
        "        # Calculamos la energía cinética de la partícula y la sumamos al total\n",
        "        E = Rational(1, 2) * m * (vx**2 + vy**2 + vz**2)\n",
        "        energy_total += E\n",
        "\n",
        "    # Simplificamos la energía cinética total y la retornamos\n",
        "    return simplify(energy_total)\n"
      ]
    },
    {
      "cell_type": "markdown",
      "metadata": {},
      "source": [
        "usemos esta función  para hallar la ecuación de la engergía cinética de nuestro problema del pendulo doble"
      ]
    },
    {
      "cell_type": "code",
      "execution_count": 6,
      "metadata": {},
      "outputs": [
        {
          "data": {
            "text/latex": [
              "$\\displaystyle T = \\frac{L_{1}^{2} m_{1} \\left(\\frac{d}{d t} \\theta_{1}{\\left(t \\right)}\\right)^{2}}{2} + \\frac{m_{2} \\left(L_{1}^{2} \\left(\\frac{d}{d t} \\theta_{1}{\\left(t \\right)}\\right)^{2} + 2 L_{1} L_{2} \\cos{\\left(\\theta_{1}{\\left(t \\right)} - \\theta_{2}{\\left(t \\right)} \\right)} \\frac{d}{d t} \\theta_{1}{\\left(t \\right)} \\frac{d}{d t} \\theta_{2}{\\left(t \\right)} + L_{2}^{2} \\left(\\frac{d}{d t} \\theta_{2}{\\left(t \\right)}\\right)^{2}\\right)}{2}$"
            ],
            "text/plain": [
              "Eq(T, L1**2*m1*Derivative(theta1(t), t)**2/2 + m2*(L1**2*Derivative(theta1(t), t)**2 + 2*L1*L2*cos(theta1(t) - theta2(t))*Derivative(theta1(t), t)*Derivative(theta2(t), t) + L2**2*Derivative(theta2(t), t)**2)/2)"
            ]
          },
          "execution_count": 6,
          "metadata": {},
          "output_type": "execute_result"
        }
      ],
      "source": [
        "# Definir las variables generalizadas\n",
        "theta1, theta2 = symbols('theta1 theta2')\n",
        "m1, m2, L1, L2 = symbols('m1 m2 L1 L2')\n",
        "\n",
        "# Lista de ecuaciones de transformación para cada partícula \n",
        "transform_equations_per_particle = [\n",
        "    {\n",
        "        'mass': m1,\n",
        "        'x': L1 * sin(theta1),\n",
        "        'y': L1 * cos(theta1),\n",
        "        'q': [theta1],\n",
        "    },\n",
        "    {\n",
        "        'mass': m2,\n",
        "        'x': L1 * sin(theta1) + L2 * sin(theta2),\n",
        "        'y': L1 * cos(theta1) + L2 * cos(theta2),\n",
        "       'q': [theta1, theta2],\n",
        "    }\n",
        "]\n",
        "\n",
        "# Calcular la función de energía cinética del sistema  \n",
        "T_total = kinetic_energy(transform_equations_per_particle)\n",
        "# Imprimiendo la energía cinética\n",
        "T = symbols('T')\n",
        "Ttotal_equation = Eq(T, T_total)\n",
        "Ttotal_equation"
      ]
    },
    {
      "cell_type": "code",
      "execution_count": 7,
      "metadata": {},
      "outputs": [
        {
          "data": {
            "text/latex": [
              "$\\displaystyle Q_{1} = L_{1} \\left(L_{1} m_{1} \\frac{d^{2}}{d t^{2}} \\theta_{1}{\\left(t \\right)} + L_{1} m_{2} \\frac{d^{2}}{d t^{2}} \\theta_{1}{\\left(t \\right)} + L_{2} m_{2} \\sin{\\left(\\theta_{1}{\\left(t \\right)} - \\theta_{2}{\\left(t \\right)} \\right)} \\left(\\frac{d}{d t} \\theta_{2}{\\left(t \\right)}\\right)^{2} + L_{2} m_{2} \\cos{\\left(\\theta_{1}{\\left(t \\right)} - \\theta_{2}{\\left(t \\right)} \\right)} \\frac{d^{2}}{d t^{2}} \\theta_{2}{\\left(t \\right)}\\right)$"
            ],
            "text/plain": [
              "Eq(Q1, L1*(L1*m1*Derivative(theta1(t), (t, 2)) + L1*m2*Derivative(theta1(t), (t, 2)) + L2*m2*sin(theta1(t) - theta2(t))*Derivative(theta2(t), t)**2 + L2*m2*cos(theta1(t) - theta2(t))*Derivative(theta2(t), (t, 2))))"
            ]
          },
          "metadata": {},
          "output_type": "display_data"
        },
        {
          "data": {
            "text/latex": [
              "$\\displaystyle Q_{2} = L_{2} m_{2} \\left(- L_{1} \\sin{\\left(\\theta_{1}{\\left(t \\right)} - \\theta_{2}{\\left(t \\right)} \\right)} \\left(\\frac{d}{d t} \\theta_{1}{\\left(t \\right)}\\right)^{2} + L_{1} \\cos{\\left(\\theta_{1}{\\left(t \\right)} - \\theta_{2}{\\left(t \\right)} \\right)} \\frac{d^{2}}{d t^{2}} \\theta_{1}{\\left(t \\right)} + L_{2} \\frac{d^{2}}{d t^{2}} \\theta_{2}{\\left(t \\right)}\\right)$"
            ],
            "text/plain": [
              "Eq(Q2, L2*m2*(-L1*sin(theta1(t) - theta2(t))*Derivative(theta1(t), t)**2 + L1*cos(theta1(t) - theta2(t))*Derivative(theta1(t), (t, 2)) + L2*Derivative(theta2(t), (t, 2))))"
            ]
          },
          "metadata": {},
          "output_type": "display_data"
        }
      ],
      "source": [
        "def Q_k_from_T_total(T_function, qs):\n",
        "    \"\"\"\n",
        "    Las qs ya deben entrar como funciones del tiempo\n",
        "    \"\"\"\n",
        "    \n",
        "    Q=[]\n",
        "    t = symbols('t')  # Símbolo para el tiempo\n",
        "    for q in qs:\n",
        "\n",
        "        # Primero encontremos las derivadas respecto a las qs\n",
        "        dT_dq = T_function.diff(q)\n",
        "\n",
        "        # Ahora respecto a las q punto:\n",
        "        dT_dq_dot = T_function.diff(Derivative(q, t))\n",
        "\n",
        "        # Ahora eso lo derivamos respecto al tiempo\n",
        "        dt_dT_dq_dot = dT_dq_dot.diff(t)\n",
        "        Q.append(simplify(dt_dT_dq_dot - dT_dq))\n",
        "    return(Q)\n",
        "\n",
        "t = symbols('t')  # Símbolo para el tiempo\n",
        "theta1 = Function('theta1')(t)\n",
        "theta2 = Function('theta2')(t)\n",
        "\n",
        "Qs = Q_k_from_T_total(T_total,  [theta1, theta2])\n",
        "\n",
        "# Imprimamos nuestros resultados\n",
        "for i,j in enumerate(Qs): \n",
        "    Qj = symbols(f'Q{i + 1}')\n",
        "    display(Eq(Qj,j))"
      ]
    },
    {
      "cell_type": "markdown",
      "metadata": {},
      "source": [
        "### 6. Usando `SymPy` escriba una rutina que, dadas las ecuaciones de transformación  $\\{\\vec r_i(\\{q_j\\}_M)\\}_N$ y las componentes cartesianas de las fuerzas que actúan sobre las partículas, determine las fuerzas generalizadas. Intente que la rutina sea tan general posible que pueda ser aplicada a otros sitstemas."
      ]
    },
    {
      "cell_type": "code",
      "execution_count": 8,
      "metadata": {},
      "outputs": [],
      "source": [
        "\n",
        "\n",
        "# Hagamos una función que encuentre las fuerzas generalizadas de muchos sistemas\n",
        "def generalized_forces(transform_equations, forces):\n",
        "    # t será nuestro símbolo para el tiempo\n",
        "    t = sp.symbols('t')\n",
        "    Q = [] # en esta lista vamos a ir agegando nuestros Qj\n",
        "\n",
        "    for j, qj in enumerate(transform_equations['q']):\n",
        "        Qj = 0\n",
        "        for i, particle in enumerate(transform_equations['particles']):\n",
        "            # Extraemos el vector de posición de la partícula i\n",
        "            r_i = sp.Matrix(particle['r'])\n",
        "            # Calculamos la derivada parcial del vector r_i respecto a la variable generalizada qj\n",
        "            dr_i_dqj = r_i.diff(qj)\n",
        "            # Agregamos el producto punto de la fuerza en la partícula i y dr_i_dqj a Qj\n",
        "            Qj += forces[i].dot(dr_i_dqj)\n",
        "        # Agregamos la fuerza generalizada para la variable qj a la lista de fuerzas generalizadas\n",
        "        Q.append(simplify(Qj))\n",
        "\n",
        "    return Q"
      ]
    },
    {
      "cell_type": "markdown",
      "metadata": {},
      "source": [
        "Ahora usemos esta función para hallar las Fuerzas generalizadas de nuestro sistema de pendulo doble"
      ]
    },
    {
      "cell_type": "code",
      "execution_count": 9,
      "metadata": {},
      "outputs": [
        {
          "data": {
            "text/latex": [
              "$\\displaystyle Q_{1} = L_{1} g \\left(- m_{1} - m_{2}\\right) \\sin{\\left(\\theta_{1}{\\left(t \\right)} \\right)}$"
            ],
            "text/plain": [
              "Eq(Q1, L1*g*(-m1 - m2)*sin(theta1(t)))"
            ]
          },
          "metadata": {},
          "output_type": "display_data"
        },
        {
          "data": {
            "text/latex": [
              "$\\displaystyle Q_{2} = - L_{2} g m_{2} \\sin{\\left(\\theta_{2}{\\left(t \\right)} \\right)}$"
            ],
            "text/plain": [
              "Eq(Q2, -L2*g*m2*sin(theta2(t)))"
            ]
          },
          "metadata": {},
          "output_type": "display_data"
        }
      ],
      "source": [
        "# Definir las variables generalizadas y las fuerzas\n",
        "# Haciendo nuetsras variables funciones del tiempo\n",
        "theta1 = Function('theta1')(t)\n",
        "theta2 = Function('theta2')(t)\n",
        "m1, m2, L1, L2, g = symbols('m1 m2 L1 L2 g')\n",
        "\n",
        "# Ecuaciones de transformación para las posiciones de las partículas en términos de las variables generalizadas\n",
        "r1 = [L1 * sin(theta1), L1 * cos(theta1), 0]  # Posición de la primera masa\n",
        "r2 = [L1 * sin(theta1) + L2 * sin(theta2),  L1 * cos(theta1) + L2 * cos(theta2), 0]  # Posición de la segunda masa\n",
        "\n",
        "# Fuerzas actuando sobre las partículas (en este caso, solo la gravedad)\n",
        "F1 = [0, m1 * g, 0]\n",
        "F2 = [0, m2 * g, 0]\n",
        "\n",
        "# Construir las ecuaciones de transformación y las fuerzas en la estructura correcta\n",
        "transform_equations = {\n",
        "    'q': [theta1, theta2],\n",
        "    'particles': [\n",
        "        {'r': r1},\n",
        "        {'r': r2}\n",
        "    ]\n",
        "}\n",
        "\n",
        "forces = [Matrix(F1), Matrix(F2)]\n",
        "\n",
        "# Calcular las fuerzas generalizadas para el péndulo doble\n",
        "generalized_forces = generalized_forces(transform_equations, forces)\n",
        "\n",
        "# Imprimamos nuestros resultados\n",
        "for i,j in enumerate(generalized_forces, start = 1): \n",
        "    Qj = symbols(f'Q{i}')\n",
        "    display(Eq(Qj,j))"
      ]
    },
    {
      "cell_type": "markdown",
      "metadata": {},
      "source": [
        "7. Usando los resultados en 5 y en 6, escriba las ecuaciones de movimiento del sistema. Es normal que las ecuaciones se escriban como la segunda derivada de cada variable generalizada como función de las primeras derivada de las variables generalizadas y las variables generalizadas en sí.  Es decir las ecuaciones deben tener la forma:\n",
        "\n",
        "  $$\n",
        "  \\ddot q_j = f_j (t,\\{q_j\\}_M,\\{\\dot q_j\\}_M)\n",
        "  $$"
      ]
    },
    {
      "cell_type": "markdown",
      "metadata": {},
      "source": [
        "primero obtengamos las Qs a partir de la ecuación de Lagrange con la función de Energí cinética"
      ]
    },
    {
      "cell_type": "code",
      "execution_count": 10,
      "metadata": {},
      "outputs": [
        {
          "data": {
            "text/latex": [
              "$\\displaystyle Q_{1} = L_{1} \\left(L_{1} m_{1} \\frac{d^{2}}{d t^{2}} \\theta_{1}{\\left(t \\right)} + L_{1} m_{2} \\frac{d^{2}}{d t^{2}} \\theta_{1}{\\left(t \\right)} + L_{2} m_{2} \\sin{\\left(\\theta_{1}{\\left(t \\right)} - \\theta_{2}{\\left(t \\right)} \\right)} \\left(\\frac{d}{d t} \\theta_{2}{\\left(t \\right)}\\right)^{2} + L_{2} m_{2} \\cos{\\left(\\theta_{1}{\\left(t \\right)} - \\theta_{2}{\\left(t \\right)} \\right)} \\frac{d^{2}}{d t^{2}} \\theta_{2}{\\left(t \\right)}\\right)$"
            ],
            "text/plain": [
              "Eq(Q1, L1*(L1*m1*Derivative(theta1(t), (t, 2)) + L1*m2*Derivative(theta1(t), (t, 2)) + L2*m2*sin(theta1(t) - theta2(t))*Derivative(theta2(t), t)**2 + L2*m2*cos(theta1(t) - theta2(t))*Derivative(theta2(t), (t, 2))))"
            ]
          },
          "metadata": {},
          "output_type": "display_data"
        },
        {
          "data": {
            "text/latex": [
              "$\\displaystyle Q_{2} = L_{2} m_{2} \\left(- L_{1} \\sin{\\left(\\theta_{1}{\\left(t \\right)} - \\theta_{2}{\\left(t \\right)} \\right)} \\left(\\frac{d}{d t} \\theta_{1}{\\left(t \\right)}\\right)^{2} + L_{1} \\cos{\\left(\\theta_{1}{\\left(t \\right)} - \\theta_{2}{\\left(t \\right)} \\right)} \\frac{d^{2}}{d t^{2}} \\theta_{1}{\\left(t \\right)} + L_{2} \\frac{d^{2}}{d t^{2}} \\theta_{2}{\\left(t \\right)}\\right)$"
            ],
            "text/plain": [
              "Eq(Q2, L2*m2*(-L1*sin(theta1(t) - theta2(t))*Derivative(theta1(t), t)**2 + L1*cos(theta1(t) - theta2(t))*Derivative(theta1(t), (t, 2)) + L2*Derivative(theta2(t), (t, 2))))"
            ]
          },
          "metadata": {},
          "output_type": "display_data"
        }
      ],
      "source": [
        "def Q_k_from_T_total(T_function, qs):\n",
        "    \"\"\"\n",
        "    Las qs ya deben entrar como funciones del tiempo\n",
        "    \"\"\"\n",
        "    \n",
        "    Q=[]\n",
        "    t = symbols('t')  # Símbolo para el tiempo\n",
        "    for q in qs:\n",
        "\n",
        "        # Primero encontremos las derivadas respecto a las qs\n",
        "        dT_dq = T_function.diff(q)\n",
        "\n",
        "        # Ahora respecto a las q punto:\n",
        "        dT_dq_dot = T_function.diff(Derivative(q, t))\n",
        "\n",
        "        # Ahora eso lo derivamos respecto al tiempo\n",
        "        dt_dT_dq_dot = dT_dq_dot.diff(t)\n",
        "        Q.append(simplify(dt_dT_dq_dot - dT_dq))\n",
        "    return(Q)\n",
        "\n",
        "# Ahora usemos esta función para obtener las Qs\n",
        "t = symbols('t')  # Símbolo para el tiempo\n",
        "theta1 = Function('theta1')(t)\n",
        "theta2 = Function('theta2')(t)\n",
        "\n",
        "Qs = Q_k_from_T_total(T_total,  [theta1, theta2])\n",
        "\n",
        "# Imprimamos nuestros resultados\n",
        "for i,j in enumerate(Qs): \n",
        "    Qj = symbols(f'Q{i + 1}')\n",
        "    display(Eq(Qj,j))"
      ]
    },
    {
      "cell_type": "code",
      "execution_count": 11,
      "metadata": {},
      "outputs": [],
      "source": [
        "def Qs_from_T_function(T_function, variables):\n",
        "    \"\"\"\n",
        "    Calcula las derivadas generalizadas (Q_k) para un conjunto de variables de una función \n",
        "    de energía cinética total dada. Devuelve una lista de expresiones para cada Q_k.\n",
        "    \n",
        "    Parámetros:\n",
        "    - T_function : sympy.Expr\n",
        "        La función de energía cinética del sistema.\n",
        "    - variables : list\n",
        "        Lista de variables generalizadas como funciones del t.\n",
        "    \n",
        "    Retorna:\n",
        "    - list\n",
        "        Lista de expresiones de derivadas generalizadas Q_k.\n",
        "    \"\"\"\n",
        "    \n",
        "    Q = []  # Lista para almacenar las derivadas generalizadas\n",
        "    t = symbols('t')  # Definir el símbolo del t\n",
        "    for q in variables:\n",
        "        # Encontrar la derivada parcial de la energía cinética con respecto a q\n",
        "        dT_dq = T_function.diff(q)\n",
        "\n",
        "        # Encontrar la derivada parcial de la energía cinética con respecto a q punto (derivada de q)\n",
        "        dT_dq_punto = T_function.diff(Derivative(q, t))\n",
        "\n",
        "        # Derivar dT_dq_punto con respecto al t\n",
        "        d_dt_dT_dq_punto = dT_dq_punto.diff(t)\n",
        "        \n",
        "        # Calcular la derivada generalizada Q y añadirla a la lista\n",
        "        Q.append(simplify(d_dt_dT_dq_punto - dT_dq))\n",
        "    return Q\n",
        "\n"
      ]
    },
    {
      "cell_type": "markdown",
      "metadata": {},
      "source": [
        "Usando la función para calcular nuetros Qs a partir de la ecuación de lagrange"
      ]
    },
    {
      "cell_type": "code",
      "execution_count": 12,
      "metadata": {},
      "outputs": [
        {
          "data": {
            "text/latex": [
              "$\\displaystyle Q_{1} = L_{1} \\left(L_{1} m_{1} \\frac{d^{2}}{d t^{2}} \\theta_{1}{\\left(t \\right)} + L_{1} m_{2} \\frac{d^{2}}{d t^{2}} \\theta_{1}{\\left(t \\right)} + L_{2} m_{2} \\sin{\\left(\\theta_{1}{\\left(t \\right)} - \\theta_{2}{\\left(t \\right)} \\right)} \\left(\\frac{d}{d t} \\theta_{2}{\\left(t \\right)}\\right)^{2} + L_{2} m_{2} \\cos{\\left(\\theta_{1}{\\left(t \\right)} - \\theta_{2}{\\left(t \\right)} \\right)} \\frac{d^{2}}{d t^{2}} \\theta_{2}{\\left(t \\right)}\\right)$"
            ],
            "text/plain": [
              "Eq(Q1, L1*(L1*m1*Derivative(theta1(t), (t, 2)) + L1*m2*Derivative(theta1(t), (t, 2)) + L2*m2*sin(theta1(t) - theta2(t))*Derivative(theta2(t), t)**2 + L2*m2*cos(theta1(t) - theta2(t))*Derivative(theta2(t), (t, 2))))"
            ]
          },
          "metadata": {},
          "output_type": "display_data"
        },
        {
          "data": {
            "text/latex": [
              "$\\displaystyle Q_{2} = L_{2} m_{2} \\left(- L_{1} \\sin{\\left(\\theta_{1}{\\left(t \\right)} - \\theta_{2}{\\left(t \\right)} \\right)} \\left(\\frac{d}{d t} \\theta_{1}{\\left(t \\right)}\\right)^{2} + L_{1} \\cos{\\left(\\theta_{1}{\\left(t \\right)} - \\theta_{2}{\\left(t \\right)} \\right)} \\frac{d^{2}}{d t^{2}} \\theta_{1}{\\left(t \\right)} + L_{2} \\frac{d^{2}}{d t^{2}} \\theta_{2}{\\left(t \\right)}\\right)$"
            ],
            "text/plain": [
              "Eq(Q2, L2*m2*(-L1*sin(theta1(t) - theta2(t))*Derivative(theta1(t), t)**2 + L1*cos(theta1(t) - theta2(t))*Derivative(theta1(t), (t, 2)) + L2*Derivative(theta2(t), (t, 2))))"
            ]
          },
          "metadata": {},
          "output_type": "display_data"
        }
      ],
      "source": [
        "# Haciendo nuetsras variables funciones del tiempo\n",
        "theta1 = Function('theta1')(t)\n",
        "theta2 = Function('theta2')(t)\n",
        "\n",
        "# Calcular las Qs para theta1 y theta2\n",
        "Qs = Qs_from_T_function(T_total, [theta1, theta2])\n",
        "\n",
        "# Mostrar los resultados (asumiendo que Qs ha sido calculado)\n",
        "for i, Q in enumerate(Qs, start=1):\n",
        "     display(Eq(symbols(f'Q{i}'), Q))"
      ]
    },
    {
      "cell_type": "markdown",
      "metadata": {},
      "source": []
    },
    {
      "cell_type": "markdown",
      "metadata": {},
      "source": [
        "Ahora ya tenemos los Qs por dos metodos, podemos igualarlos para despejar nuestra aceleración angular"
      ]
    },
    {
      "cell_type": "code",
      "execution_count": 13,
      "metadata": {},
      "outputs": [
        {
          "data": {
            "text/latex": [
              "$\\displaystyle \\frac{d^{2}}{d t^{2}} \\theta_{1}{\\left(t \\right)} = - \\frac{L_{2} m_{2} \\sin{\\left(\\theta_{1}{\\left(t \\right)} - \\theta_{2}{\\left(t \\right)} \\right)} \\left(\\frac{d}{d t} \\theta_{2}{\\left(t \\right)}\\right)^{2} + L_{2} m_{2} \\cos{\\left(\\theta_{1}{\\left(t \\right)} - \\theta_{2}{\\left(t \\right)} \\right)} \\frac{d^{2}}{d t^{2}} \\theta_{2}{\\left(t \\right)} + g m_{1} \\sin{\\left(\\theta_{1}{\\left(t \\right)} \\right)} + g m_{2} \\sin{\\left(\\theta_{1}{\\left(t \\right)} \\right)}}{L_{1} \\left(m_{1} + m_{2}\\right)}$"
            ],
            "text/plain": [
              "Eq(Derivative(theta1(t), (t, 2)), -(L2*m2*sin(theta1(t) - theta2(t))*Derivative(theta2(t), t)**2 + L2*m2*cos(theta1(t) - theta2(t))*Derivative(theta2(t), (t, 2)) + g*m1*sin(theta1(t)) + g*m2*sin(theta1(t)))/(L1*(m1 + m2)))"
            ]
          },
          "metadata": {},
          "output_type": "display_data"
        },
        {
          "data": {
            "text/latex": [
              "$\\displaystyle \\frac{d^{2}}{d t^{2}} \\theta_{2}{\\left(t \\right)} = \\frac{L_{1} \\sin{\\left(\\theta_{1}{\\left(t \\right)} - \\theta_{2}{\\left(t \\right)} \\right)} \\left(\\frac{d}{d t} \\theta_{1}{\\left(t \\right)}\\right)^{2} - L_{1} \\cos{\\left(\\theta_{1}{\\left(t \\right)} - \\theta_{2}{\\left(t \\right)} \\right)} \\frac{d^{2}}{d t^{2}} \\theta_{1}{\\left(t \\right)} - g \\sin{\\left(\\theta_{2}{\\left(t \\right)} \\right)}}{L_{2}}$"
            ],
            "text/plain": [
              "Eq(Derivative(theta2(t), (t, 2)), (L1*sin(theta1(t) - theta2(t))*Derivative(theta1(t), t)**2 - L1*cos(theta1(t) - theta2(t))*Derivative(theta1(t), (t, 2)) - g*sin(theta2(t)))/L2)"
            ]
          },
          "metadata": {},
          "output_type": "display_data"
        }
      ],
      "source": [
        "# Igualando\n",
        "eq_1 = Eq(generalized_forces[0], Qs[0])\n",
        "eq_2 = Eq(generalized_forces[1], Qs[1])\n",
        "\n",
        "# Despejando las aceleraciones angulares\n",
        "d2_theta1 = Eq(Derivative(theta1, t, 2),solve(eq_1,Derivative(theta1, t, 2))[0])\n",
        "d2_theta2 = Eq(Derivative(theta2, t, 2),solve(eq_2,Derivative(theta2, t, 2))[0])\n",
        "\n",
        "# Mostrando los resultados \n",
        "display(d2_theta1, d2_theta2)"
      ]
    },
    {
      "cell_type": "markdown",
      "metadata": {},
      "source": [
        "-----------------"
      ]
    },
    {
      "cell_type": "markdown",
      "metadata": {},
      "source": [
        "sin dependencias la una de la otra"
      ]
    },
    {
      "cell_type": "code",
      "execution_count": 14,
      "metadata": {},
      "outputs": [
        {
          "data": {
            "text/latex": [
              "$\\displaystyle \\frac{d^{2}}{d t^{2}} \\theta_{1}{\\left(t \\right)} = \\frac{- \\frac{L_{1} m_{2} \\sin{\\left(2 \\theta_{1}{\\left(t \\right)} - 2 \\theta_{2}{\\left(t \\right)} \\right)} \\left(\\frac{d}{d t} \\theta_{1}{\\left(t \\right)}\\right)^{2}}{2} - L_{2} m_{2} \\sin{\\left(\\theta_{1}{\\left(t \\right)} - \\theta_{2}{\\left(t \\right)} \\right)} \\left(\\frac{d}{d t} \\theta_{2}{\\left(t \\right)}\\right)^{2} - g m_{1} \\sin{\\left(\\theta_{1}{\\left(t \\right)} \\right)} - \\frac{g m_{2} \\sin{\\left(\\theta_{1}{\\left(t \\right)} - 2 \\theta_{2}{\\left(t \\right)} \\right)}}{2} - \\frac{g m_{2} \\sin{\\left(\\theta_{1}{\\left(t \\right)} \\right)}}{2}}{L_{1} \\left(m_{1} - m_{2} \\cos^{2}{\\left(\\theta_{1}{\\left(t \\right)} - \\theta_{2}{\\left(t \\right)} \\right)} + m_{2}\\right)}$"
            ],
            "text/plain": [
              "Eq(Derivative(theta1(t), (t, 2)), (-L1*m2*sin(2*theta1(t) - 2*theta2(t))*Derivative(theta1(t), t)**2/2 - L2*m2*sin(theta1(t) - theta2(t))*Derivative(theta2(t), t)**2 - g*m1*sin(theta1(t)) - g*m2*sin(theta1(t) - 2*theta2(t))/2 - g*m2*sin(theta1(t))/2)/(L1*(m1 - m2*cos(theta1(t) - theta2(t))**2 + m2)))"
            ]
          },
          "metadata": {},
          "output_type": "display_data"
        },
        {
          "data": {
            "text/latex": [
              "$\\displaystyle \\frac{d^{2}}{d t^{2}} \\theta_{2}{\\left(t \\right)} = \\frac{L_{1} m_{1} \\sin{\\left(\\theta_{1}{\\left(t \\right)} - \\theta_{2}{\\left(t \\right)} \\right)} \\left(\\frac{d}{d t} \\theta_{1}{\\left(t \\right)}\\right)^{2} + L_{1} m_{2} \\sin{\\left(\\theta_{1}{\\left(t \\right)} - \\theta_{2}{\\left(t \\right)} \\right)} \\left(\\frac{d}{d t} \\theta_{1}{\\left(t \\right)}\\right)^{2} + \\frac{L_{2} m_{2} \\sin{\\left(2 \\theta_{1}{\\left(t \\right)} - 2 \\theta_{2}{\\left(t \\right)} \\right)} \\left(\\frac{d}{d t} \\theta_{2}{\\left(t \\right)}\\right)^{2}}{2} + \\frac{g m_{1} \\sin{\\left(2 \\theta_{1}{\\left(t \\right)} - \\theta_{2}{\\left(t \\right)} \\right)}}{2} - \\frac{g m_{1} \\sin{\\left(\\theta_{2}{\\left(t \\right)} \\right)}}{2} + \\frac{g m_{2} \\sin{\\left(2 \\theta_{1}{\\left(t \\right)} - \\theta_{2}{\\left(t \\right)} \\right)}}{2} - \\frac{g m_{2} \\sin{\\left(\\theta_{2}{\\left(t \\right)} \\right)}}{2}}{L_{2} \\left(m_{1} - m_{2} \\cos^{2}{\\left(\\theta_{1}{\\left(t \\right)} - \\theta_{2}{\\left(t \\right)} \\right)} + m_{2}\\right)}$"
            ],
            "text/plain": [
              "Eq(Derivative(theta2(t), (t, 2)), (L1*m1*sin(theta1(t) - theta2(t))*Derivative(theta1(t), t)**2 + L1*m2*sin(theta1(t) - theta2(t))*Derivative(theta1(t), t)**2 + L2*m2*sin(2*theta1(t) - 2*theta2(t))*Derivative(theta2(t), t)**2/2 + g*m1*sin(2*theta1(t) - theta2(t))/2 - g*m1*sin(theta2(t))/2 + g*m2*sin(2*theta1(t) - theta2(t))/2 - g*m2*sin(theta2(t))/2)/(L2*(m1 - m2*cos(theta1(t) - theta2(t))**2 + m2)))"
            ]
          },
          "metadata": {},
          "output_type": "display_data"
        }
      ],
      "source": [
        "# Resolvemos el sistema de ecuaciones para las segundas derivadas de theta1 y theta2\n",
        "solutions = solve((eq_1, eq_2), (Derivative(theta1, t, 2), Derivative(theta2, t, 2)), dict=True)\n",
        "\n",
        "# Convertimos las soluciones en ecuaciones para mostrarlas\n",
        "solutions_eqs = [Eq(key, value) for solution in solutions for key, value in solution.items()]\n",
        "\n",
        "# Imprimimos las soluciones de manera 'bonita'\n",
        "for eq in solutions_eqs:\n",
        "    display(simplify(eq))\n"
      ]
    },
    {
      "cell_type": "markdown",
      "metadata": {},
      "source": [
        "### **Parte 2. Lagrangiano**\n",
        "\n",
        "## 1. Encuentre la forma de la función potencial de la que derivan las fuerzas generalizadas del sistema."
      ]
    },
    {
      "cell_type": "code",
      "execution_count": 15,
      "metadata": {},
      "outputs": [
        {
          "data": {
            "text/latex": [
              "$\\displaystyle Ugen = - g \\left(L_{1} m_{1} \\cos{\\left(\\theta_{1}{\\left(t \\right)} \\right)} + L_{1} m_{2} \\cos{\\left(\\theta_{1}{\\left(t \\right)} \\right)} + L_{2} m_{2} \\cos{\\left(\\theta_{2}{\\left(t \\right)} \\right)}\\right)$"
            ],
            "text/plain": [
              "Eq(Ugen, -g*(L1*m1*cos(theta1(t)) + L1*m2*cos(theta1(t)) + L2*m2*cos(theta2(t))))"
            ]
          },
          "execution_count": 15,
          "metadata": {},
          "output_type": "execute_result"
        }
      ],
      "source": [
        "# Definamos esta función potencial\n",
        "Ugen = symbols(\"Ugen\") # Asignandole un simbolo\n",
        "\n",
        "# Escribiendo la ecuación\n",
        "potential_function = Eq(Ugen,simplify(-(m1*g*L1*cos(theta1)+m2*g*(L1 * sp.cos(theta1) + L2 * sp.cos(theta2)))))\n",
        "potential_function"
      ]
    },
    {
      "cell_type": "markdown",
      "metadata": {},
      "source": [
        "## 2. Con la función potencial y la función lagrangiana, escriba el lagrangiano del sistema."
      ]
    },
    {
      "cell_type": "code",
      "execution_count": 16,
      "metadata": {},
      "outputs": [
        {
          "data": {
            "text/latex": [
              "$\\displaystyle L = \\frac{L_{1}^{2} m_{1} \\left(\\frac{d}{d t} \\theta_{1}{\\left(t \\right)}\\right)^{2}}{2} + g \\left(L_{1} m_{1} \\cos{\\left(\\theta_{1}{\\left(t \\right)} \\right)} + L_{1} m_{2} \\cos{\\left(\\theta_{1}{\\left(t \\right)} \\right)} + L_{2} m_{2} \\cos{\\left(\\theta_{2}{\\left(t \\right)} \\right)}\\right) + \\frac{m_{2} \\left(L_{1}^{2} \\left(\\frac{d}{d t} \\theta_{1}{\\left(t \\right)}\\right)^{2} + 2 L_{1} L_{2} \\cos{\\left(\\theta_{1}{\\left(t \\right)} - \\theta_{2}{\\left(t \\right)} \\right)} \\frac{d}{d t} \\theta_{1}{\\left(t \\right)} \\frac{d}{d t} \\theta_{2}{\\left(t \\right)} + L_{2}^{2} \\left(\\frac{d}{d t} \\theta_{2}{\\left(t \\right)}\\right)^{2}\\right)}{2}$"
            ],
            "text/plain": [
              "Eq(L, L1**2*m1*Derivative(theta1(t), t)**2/2 + g*(L1*m1*cos(theta1(t)) + L1*m2*cos(theta1(t)) + L2*m2*cos(theta2(t))) + m2*(L1**2*Derivative(theta1(t), t)**2 + 2*L1*L2*cos(theta1(t) - theta2(t))*Derivative(theta1(t), t)*Derivative(theta2(t), t) + L2**2*Derivative(theta2(t), t)**2)/2)"
            ]
          },
          "execution_count": 16,
          "metadata": {},
          "output_type": "execute_result"
        }
      ],
      "source": [
        "L = symbols('L') # Primero definamos el simbolo del Lagrangiano\n",
        "# Ahora podemos tener la ecuación del lagrangiano como L = T - Ugen\n",
        "Lagrangiano = simplify(Ttotal_equation.rhs - potential_function.rhs)\n",
        "Lagrangiano_equation =  Eq(L, Lagrangiano ) \n",
        "Lagrangiano_equation"
      ]
    },
    {
      "cell_type": "markdown",
      "metadata": {},
      "source": [
        "### 3. Deduzca, a partir de las ecuaciones de Euler-Lagrange, las ecuaciones de movimiento y verifique que coinciden con las ecuaciones de movimiento obtenidas a partir de las ecuaciones de Lagrange."
      ]
    },
    {
      "cell_type": "markdown",
      "metadata": {},
      "source": [
        "$$\\left\\{ \\frac{d}{dt} \\left( \\frac{\\partial L}{\\partial \\dot{q}_j} \\right) - \\frac{\\partial L}{\\partial q_j} = 0 \\right\\}_M$$\n"
      ]
    },
    {
      "cell_type": "markdown",
      "metadata": {},
      "source": [
        "Para la solyución de este problema nos podemos valer del codigo que teniamos para hallar las ecuaciones de Lagrange, solo que ahora nuestro resultado usamos a L en vez de T, y este va igualado a 0 en vez de los $Q_k$"
      ]
    },
    {
      "cell_type": "code",
      "execution_count": 17,
      "metadata": {},
      "outputs": [
        {
          "data": {
            "text/latex": [
              "$\\displaystyle 0 = L_{1} \\left(L_{1} m_{1} \\frac{d^{2}}{d t^{2}} \\theta_{1}{\\left(t \\right)} + L_{1} m_{2} \\frac{d^{2}}{d t^{2}} \\theta_{1}{\\left(t \\right)} + L_{2} m_{2} \\sin{\\left(\\theta_{1}{\\left(t \\right)} - \\theta_{2}{\\left(t \\right)} \\right)} \\left(\\frac{d}{d t} \\theta_{2}{\\left(t \\right)}\\right)^{2} + L_{2} m_{2} \\cos{\\left(\\theta_{1}{\\left(t \\right)} - \\theta_{2}{\\left(t \\right)} \\right)} \\frac{d^{2}}{d t^{2}} \\theta_{2}{\\left(t \\right)} + g m_{1} \\sin{\\left(\\theta_{1}{\\left(t \\right)} \\right)} + g m_{2} \\sin{\\left(\\theta_{1}{\\left(t \\right)} \\right)}\\right)$"
            ],
            "text/plain": [
              "Eq(0, L1*(L1*m1*Derivative(theta1(t), (t, 2)) + L1*m2*Derivative(theta1(t), (t, 2)) + L2*m2*sin(theta1(t) - theta2(t))*Derivative(theta2(t), t)**2 + L2*m2*cos(theta1(t) - theta2(t))*Derivative(theta2(t), (t, 2)) + g*m1*sin(theta1(t)) + g*m2*sin(theta1(t))))"
            ]
          },
          "metadata": {},
          "output_type": "display_data"
        },
        {
          "data": {
            "text/latex": [
              "$\\displaystyle 0 = L_{2} m_{2} \\left(- L_{1} \\sin{\\left(\\theta_{1}{\\left(t \\right)} - \\theta_{2}{\\left(t \\right)} \\right)} \\left(\\frac{d}{d t} \\theta_{1}{\\left(t \\right)}\\right)^{2} + L_{1} \\cos{\\left(\\theta_{1}{\\left(t \\right)} - \\theta_{2}{\\left(t \\right)} \\right)} \\frac{d^{2}}{d t^{2}} \\theta_{1}{\\left(t \\right)} + L_{2} \\frac{d^{2}}{d t^{2}} \\theta_{2}{\\left(t \\right)} + g \\sin{\\left(\\theta_{2}{\\left(t \\right)} \\right)}\\right)$"
            ],
            "text/plain": [
              "Eq(0, L2*m2*(-L1*sin(theta1(t) - theta2(t))*Derivative(theta1(t), t)**2 + L1*cos(theta1(t) - theta2(t))*Derivative(theta1(t), (t, 2)) + L2*Derivative(theta2(t), (t, 2)) + g*sin(theta2(t))))"
            ]
          },
          "metadata": {},
          "output_type": "display_data"
        }
      ],
      "source": [
        "t = symbols('t')  # Símbolo para el tiempo\n",
        "theta1 = Function('theta1')(t)\n",
        "theta2 = Function('theta2')(t)\n",
        "\n",
        "Euler_Lagrange_equations = Q_k_from_T_total(Lagrangiano,  [theta1, theta2])\n",
        "\n",
        "# Imprimamos nuestros resultados\n",
        "equatio_E_L_1 = Eq(0,Euler_Lagrange_equations[0])\n",
        "equatio_E_L_2 = Eq(0,Euler_Lagrange_equations[1])\n",
        "\n",
        "# Mostrando nuestros resultados\n",
        "display(equatio_E_L_1, equatio_E_L_2)"
      ]
    },
    {
      "cell_type": "markdown",
      "metadata": {},
      "source": [
        "A partir de estás expresiones de Equler-Lagrange poodemos despejar la aceleracion angular $\\ddot{\\theta_1} , \\ddot{\\theta_2} $"
      ]
    },
    {
      "cell_type": "code",
      "execution_count": 18,
      "metadata": {},
      "outputs": [
        {
          "data": {
            "text/latex": [
              "$\\displaystyle \\frac{d^{2}}{d t^{2}} \\theta_{1}{\\left(t \\right)} = - \\frac{L_{2} m_{2} \\sin{\\left(\\theta_{1}{\\left(t \\right)} - \\theta_{2}{\\left(t \\right)} \\right)} \\left(\\frac{d}{d t} \\theta_{2}{\\left(t \\right)}\\right)^{2} + L_{2} m_{2} \\cos{\\left(\\theta_{1}{\\left(t \\right)} - \\theta_{2}{\\left(t \\right)} \\right)} \\frac{d^{2}}{d t^{2}} \\theta_{2}{\\left(t \\right)} + g m_{1} \\sin{\\left(\\theta_{1}{\\left(t \\right)} \\right)} + g m_{2} \\sin{\\left(\\theta_{1}{\\left(t \\right)} \\right)}}{L_{1} \\left(m_{1} + m_{2}\\right)}$"
            ],
            "text/plain": [
              "Eq(Derivative(theta1(t), (t, 2)), -(L2*m2*sin(theta1(t) - theta2(t))*Derivative(theta2(t), t)**2 + L2*m2*cos(theta1(t) - theta2(t))*Derivative(theta2(t), (t, 2)) + g*m1*sin(theta1(t)) + g*m2*sin(theta1(t)))/(L1*(m1 + m2)))"
            ]
          },
          "metadata": {},
          "output_type": "display_data"
        },
        {
          "data": {
            "text/latex": [
              "$\\displaystyle \\frac{d^{2}}{d t^{2}} \\theta_{2}{\\left(t \\right)} = \\frac{L_{1} \\sin{\\left(\\theta_{1}{\\left(t \\right)} - \\theta_{2}{\\left(t \\right)} \\right)} \\left(\\frac{d}{d t} \\theta_{1}{\\left(t \\right)}\\right)^{2} - L_{1} \\cos{\\left(\\theta_{1}{\\left(t \\right)} - \\theta_{2}{\\left(t \\right)} \\right)} \\frac{d^{2}}{d t^{2}} \\theta_{1}{\\left(t \\right)} - g \\sin{\\left(\\theta_{2}{\\left(t \\right)} \\right)}}{L_{2}}$"
            ],
            "text/plain": [
              "Eq(Derivative(theta2(t), (t, 2)), (L1*sin(theta1(t) - theta2(t))*Derivative(theta1(t), t)**2 - L1*cos(theta1(t) - theta2(t))*Derivative(theta1(t), (t, 2)) - g*sin(theta2(t)))/L2)"
            ]
          },
          "metadata": {},
          "output_type": "display_data"
        }
      ],
      "source": [
        "# Despejando las aceleraciones angulares\n",
        "d2_theta1EL = Eq(Derivative(theta1, t, 2),solve(equatio_E_L_1,Derivative(theta1, t, 2))[0])\n",
        "d2_theta2EL = Eq(Derivative(theta2, t, 2),solve(equatio_E_L_2,Derivative(theta2, t, 2))[0])\n",
        "\n",
        "# Mostrando nuestros resultados\n",
        "display(d2_theta1EL, d2_theta2EL)"
      ]
    },
    {
      "cell_type": "markdown",
      "metadata": {},
      "source": [
        "Mostremos los resultados anteriores a partir de las ecuaciones de Lagrange"
      ]
    },
    {
      "cell_type": "code",
      "execution_count": 19,
      "metadata": {},
      "outputs": [
        {
          "data": {
            "text/latex": [
              "$\\displaystyle \\frac{d^{2}}{d t^{2}} \\theta_{1}{\\left(t \\right)} = - \\frac{L_{2} m_{2} \\sin{\\left(\\theta_{1}{\\left(t \\right)} - \\theta_{2}{\\left(t \\right)} \\right)} \\left(\\frac{d}{d t} \\theta_{2}{\\left(t \\right)}\\right)^{2} + L_{2} m_{2} \\cos{\\left(\\theta_{1}{\\left(t \\right)} - \\theta_{2}{\\left(t \\right)} \\right)} \\frac{d^{2}}{d t^{2}} \\theta_{2}{\\left(t \\right)} + g m_{1} \\sin{\\left(\\theta_{1}{\\left(t \\right)} \\right)} + g m_{2} \\sin{\\left(\\theta_{1}{\\left(t \\right)} \\right)}}{L_{1} \\left(m_{1} + m_{2}\\right)}$"
            ],
            "text/plain": [
              "Eq(Derivative(theta1(t), (t, 2)), -(L2*m2*sin(theta1(t) - theta2(t))*Derivative(theta2(t), t)**2 + L2*m2*cos(theta1(t) - theta2(t))*Derivative(theta2(t), (t, 2)) + g*m1*sin(theta1(t)) + g*m2*sin(theta1(t)))/(L1*(m1 + m2)))"
            ]
          },
          "metadata": {},
          "output_type": "display_data"
        },
        {
          "data": {
            "text/latex": [
              "$\\displaystyle \\frac{d^{2}}{d t^{2}} \\theta_{2}{\\left(t \\right)} = \\frac{L_{1} \\sin{\\left(\\theta_{1}{\\left(t \\right)} - \\theta_{2}{\\left(t \\right)} \\right)} \\left(\\frac{d}{d t} \\theta_{1}{\\left(t \\right)}\\right)^{2} - L_{1} \\cos{\\left(\\theta_{1}{\\left(t \\right)} - \\theta_{2}{\\left(t \\right)} \\right)} \\frac{d^{2}}{d t^{2}} \\theta_{1}{\\left(t \\right)} - g \\sin{\\left(\\theta_{2}{\\left(t \\right)} \\right)}}{L_{2}}$"
            ],
            "text/plain": [
              "Eq(Derivative(theta2(t), (t, 2)), (L1*sin(theta1(t) - theta2(t))*Derivative(theta1(t), t)**2 - L1*cos(theta1(t) - theta2(t))*Derivative(theta1(t), (t, 2)) - g*sin(theta2(t)))/L2)"
            ]
          },
          "metadata": {},
          "output_type": "display_data"
        }
      ],
      "source": [
        "# Mostrando los resultados \n",
        "display(d2_theta1, d2_theta2)"
      ]
    },
    {
      "cell_type": "markdown",
      "metadata": {},
      "source": [
        "Efectivamente se puede observar que ambos resultados para las aceleraciones angulares son iguales"
      ]
    },
    {
      "cell_type": "markdown",
      "metadata": {},
      "source": [
        "4. Evalúe las simetrías del lagrangiano:\n",
        "  - ¿Tiene simetría de traslación?: ____No_____ en caso afirmativo ¿cuáles son las constantes (cuadraturas) asociadas?: _________\n",
        "  - ¿Tiene simetría de rotación?: _____No____ en caso afirmativo ¿cuáles son las constantes (cuadraturas) asociadas?: _________\n",
        "  - ¿Tiene simetría temporal?: _____Si____ en caso afirmativo ¿cuáles son las constantes (cuadraturas) asociadas?: ___La función de Jacobi y la energia ______\n",
        "  - ¿Tiene variables cíclicas? Si ¿cuáles?: ____El tiempo_____\n",
        "  - Escriba explícitamente la función de Jacobi $h(t,\\{q_j\\}_M,\\{\\dot q_j\\}_M)$ del sistema y diga si es constante o no."
      ]
    },
    {
      "cell_type": "markdown",
      "metadata": {},
      "source": [
        "Encontremos la función de Jacobi de este sistema, para esto hagamos una función que a partir de cualquier lagrangiano y sus variables generalizadas obtenga la función de Jacobi:\n",
        "$$h \\equiv \\sum_j \\left( \\frac{\\partial L}{\\partial \\dot{q}_j} \\dot{q}_j \\right) - L = \\text{cte}\n",
        "$$"
      ]
    },
    {
      "cell_type": "code",
      "execution_count": 20,
      "metadata": {},
      "outputs": [],
      "source": [
        "def Jacobi_function(L_function, variables):\n",
        "    \"\"\"\n",
        "    Calculala funcion de Jacobi a partir del lagrangiano\n",
        "    y las variables generalizadas\n",
        "    \n",
        "    Parámetros:\n",
        "    - L_function : sympy.Expr\n",
        "        Lagrangiano del sistema.\n",
        "    - variables : list\n",
        "        Lista de variables generalizadas como funciones del t.\n",
        "    \n",
        "    Retorna:\n",
        "    - La función de Jacobi\n",
        "    \"\"\"\n",
        "    \n",
        "    \n",
        "    t = symbols('t')  # Definir el símbolo del t\n",
        "    Jacobi_function = 0\n",
        "    for q in variables:\n",
        "        Jacobi_function += L_function.diff(Derivative(q, t))*Derivative(q, t)\n",
        "    Jacobi_function += -L_function\n",
        "    return simplify(Jacobi_function)"
      ]
    },
    {
      "cell_type": "markdown",
      "metadata": {},
      "source": [
        "Ahora usemos esta función para calcular la función de Jacobi"
      ]
    },
    {
      "cell_type": "code",
      "execution_count": 21,
      "metadata": {},
      "outputs": [
        {
          "data": {
            "text/latex": [
              "$\\displaystyle cte = \\frac{L_{1}^{2} m_{1} \\left(\\frac{d}{d t} \\theta_{1}{\\left(t \\right)}\\right)^{2}}{2} + \\frac{L_{1}^{2} m_{2} \\left(\\frac{d}{d t} \\theta_{1}{\\left(t \\right)}\\right)^{2}}{2} + L_{1} L_{2} m_{2} \\cos{\\left(\\theta_{1}{\\left(t \\right)} - \\theta_{2}{\\left(t \\right)} \\right)} \\frac{d}{d t} \\theta_{1}{\\left(t \\right)} \\frac{d}{d t} \\theta_{2}{\\left(t \\right)} - L_{1} g m_{1} \\cos{\\left(\\theta_{1}{\\left(t \\right)} \\right)} - L_{1} g m_{2} \\cos{\\left(\\theta_{1}{\\left(t \\right)} \\right)} + \\frac{L_{2}^{2} m_{2} \\left(\\frac{d}{d t} \\theta_{2}{\\left(t \\right)}\\right)^{2}}{2} - L_{2} g m_{2} \\cos{\\left(\\theta_{2}{\\left(t \\right)} \\right)}$"
            ],
            "text/plain": [
              "Eq(cte, L1**2*m1*Derivative(theta1(t), t)**2/2 + L1**2*m2*Derivative(theta1(t), t)**2/2 + L1*L2*m2*cos(theta1(t) - theta2(t))*Derivative(theta1(t), t)*Derivative(theta2(t), t) - L1*g*m1*cos(theta1(t)) - L1*g*m2*cos(theta1(t)) + L2**2*m2*Derivative(theta2(t), t)**2/2 - L2*g*m2*cos(theta2(t)))"
            ]
          },
          "execution_count": 21,
          "metadata": {},
          "output_type": "execute_result"
        }
      ],
      "source": [
        "cte = symbols('cte')\n",
        "Pendulo_doble_Jacobi = Jacobi_function(Lagrangiano, [theta1, theta2])\n",
        "Pendulo_doble_Jacobi_Function = Eq(cte, Pendulo_doble_Jacobi)\n",
        "Pendulo_doble_Jacobi_Function"
      ]
    },
    {
      "cell_type": "markdown",
      "metadata": {},
      "source": [
        "La anterior es la funcion de Jacobi"
      ]
    },
    {
      "cell_type": "markdown",
      "metadata": {},
      "source": [
        "## **Parte 3. Hamiltoniano**\n",
        "\n",
        "### 1. Escriba los momentos generalizados $\\{p_j\\}_M$ del sistema como función de las velocidades generalizadas $\\{q_j\\}_M$ del sistema.\n",
        "\n",
        "$$P_j = \\frac{\\partial L}{\\partial \\dot{q_j}}$$"
      ]
    },
    {
      "cell_type": "markdown",
      "metadata": {},
      "source": [
        "Hagamos una función que a partir del lagrangiano y las variables generalizadas obtenga los $P_j$"
      ]
    },
    {
      "cell_type": "code",
      "execution_count": 22,
      "metadata": {},
      "outputs": [],
      "source": [
        "def Pj_to_hamiltoniano(L_function, variables):\n",
        "    \"\"\"\n",
        "   Calcula los Pj para el Hamiltoniano a partir del lagrangiano\n",
        "    y las variables generalizadas\n",
        "    Parámetros:\n",
        "    - L_function : sympy.Expr\n",
        "        Lagrangiano del sistema.\n",
        "    - variables : list\n",
        "        Lista de variables generalizadas como funciones del t.\n",
        "    \n",
        "    Retorna:\n",
        "    - list. con las Pj\n",
        "    \"\"\"\n",
        "    \n",
        "    \n",
        "    t = symbols('t')  # Definir el símbolo del t\n",
        "    Pj = []\n",
        "    for q in variables:\n",
        "        Pj.append(simplify(L_function.diff(Derivative(q, t))))\n",
        "    return Pj"
      ]
    },
    {
      "cell_type": "code",
      "execution_count": 23,
      "metadata": {},
      "outputs": [
        {
          "data": {
            "text/latex": [
              "$\\displaystyle \\frac{L_{1}^{2} m_{1} \\left(\\frac{d}{d t} \\theta_{1}{\\left(t \\right)}\\right)^{2}}{2} + g \\left(L_{1} m_{1} \\cos{\\left(\\theta_{1}{\\left(t \\right)} \\right)} + L_{1} m_{2} \\cos{\\left(\\theta_{1}{\\left(t \\right)} \\right)} + L_{2} m_{2} \\cos{\\left(\\theta_{2}{\\left(t \\right)} \\right)}\\right) + \\frac{m_{2} \\left(L_{1}^{2} \\left(\\frac{d}{d t} \\theta_{1}{\\left(t \\right)}\\right)^{2} + 2 L_{1} L_{2} \\cos{\\left(\\theta_{1}{\\left(t \\right)} - \\theta_{2}{\\left(t \\right)} \\right)} \\frac{d}{d t} \\theta_{1}{\\left(t \\right)} \\frac{d}{d t} \\theta_{2}{\\left(t \\right)} + L_{2}^{2} \\left(\\frac{d}{d t} \\theta_{2}{\\left(t \\right)}\\right)^{2}\\right)}{2}$"
            ],
            "text/plain": [
              "L1**2*m1*Derivative(theta1(t), t)**2/2 + g*(L1*m1*cos(theta1(t)) + L1*m2*cos(theta1(t)) + L2*m2*cos(theta2(t))) + m2*(L1**2*Derivative(theta1(t), t)**2 + 2*L1*L2*cos(theta1(t) - theta2(t))*Derivative(theta1(t), t)*Derivative(theta2(t), t) + L2**2*Derivative(theta2(t), t)**2)/2"
            ]
          },
          "execution_count": 23,
          "metadata": {},
          "output_type": "execute_result"
        }
      ],
      "source": [
        "Lagrangiano"
      ]
    },
    {
      "cell_type": "code",
      "execution_count": 24,
      "metadata": {},
      "outputs": [
        {
          "data": {
            "text/latex": [
              "$\\displaystyle P_{1}{\\left(t \\right)} = L_{1} \\left(L_{1} m_{1} \\frac{d}{d t} \\theta_{1}{\\left(t \\right)} + m_{2} \\left(L_{1} \\frac{d}{d t} \\theta_{1}{\\left(t \\right)} + L_{2} \\cos{\\left(\\theta_{1}{\\left(t \\right)} - \\theta_{2}{\\left(t \\right)} \\right)} \\frac{d}{d t} \\theta_{2}{\\left(t \\right)}\\right)\\right)$"
            ],
            "text/plain": [
              "Eq(P1(t), L1*(L1*m1*Derivative(theta1(t), t) + m2*(L1*Derivative(theta1(t), t) + L2*cos(theta1(t) - theta2(t))*Derivative(theta2(t), t))))"
            ]
          },
          "metadata": {},
          "output_type": "display_data"
        },
        {
          "data": {
            "text/latex": [
              "$\\displaystyle P_{2}{\\left(t \\right)} = L_{2} m_{2} \\left(L_{1} \\cos{\\left(\\theta_{1}{\\left(t \\right)} - \\theta_{2}{\\left(t \\right)} \\right)} \\frac{d}{d t} \\theta_{1}{\\left(t \\right)} + L_{2} \\frac{d}{d t} \\theta_{2}{\\left(t \\right)}\\right)$"
            ],
            "text/plain": [
              "Eq(P2(t), L2*m2*(L1*cos(theta1(t) - theta2(t))*Derivative(theta1(t), t) + L2*Derivative(theta2(t), t)))"
            ]
          },
          "metadata": {},
          "output_type": "display_data"
        }
      ],
      "source": [
        "# Usemos esta función para encontrar nuestro Hamiltoniano\n",
        "Pjs = Pj_to_hamiltoniano(Lagrangiano, [theta1, theta2])\n",
        "\n",
        "# Ahora con estos podemos encontrar las ecuaciones de los p\n",
        "# Para esto definamos nuestros symbolos para los P\n",
        "P1, P2 = symbols('P1 P2')\n",
        "P1, P2 = Function('P1')(t), Function('P2')(t)\n",
        "P1_equation = Eq(P1, Pjs[0])\n",
        "P2_equation = Eq(P2, Pjs[1])\n",
        "\n",
        "# Mostrando nuestros resultados\n",
        "display(P1_equation, P2_equation)"
      ]
    },
    {
      "cell_type": "markdown",
      "metadata": {},
      "source": [
        "### 2. Escriba la función de energía cinética en función de $\\{p_j\\}_M$."
      ]
    },
    {
      "cell_type": "markdown",
      "metadata": {},
      "source": [
        "para esto despejemos de los $P_j$ nuestras aceleraciones angulares"
      ]
    },
    {
      "cell_type": "code",
      "execution_count": 25,
      "metadata": {},
      "outputs": [
        {
          "data": {
            "text/latex": [
              "$\\displaystyle \\frac{d}{d t} \\theta_{1}{\\left(t \\right)} = \\frac{- L_{1} P_{2}{\\left(t \\right)} \\cos{\\left(\\theta_{1}{\\left(t \\right)} - \\theta_{2}{\\left(t \\right)} \\right)} + L_{2} P_{1}{\\left(t \\right)}}{L_{1}^{2} L_{2} \\left(m_{1} - m_{2} \\cos^{2}{\\left(\\theta_{1}{\\left(t \\right)} - \\theta_{2}{\\left(t \\right)} \\right)} + m_{2}\\right)}$"
            ],
            "text/plain": [
              "Eq(Derivative(theta1(t), t), (-L1*P2(t)*cos(theta1(t) - theta2(t)) + L2*P1(t))/(L1**2*L2*(m1 - m2*cos(theta1(t) - theta2(t))**2 + m2)))"
            ]
          },
          "metadata": {},
          "output_type": "display_data"
        },
        {
          "data": {
            "text/latex": [
              "$\\displaystyle \\frac{d}{d t} \\theta_{2}{\\left(t \\right)} = \\frac{L_{1} m_{1} P_{2}{\\left(t \\right)} + L_{1} m_{2} P_{2}{\\left(t \\right)} - L_{2} m_{2} P_{1}{\\left(t \\right)} \\cos{\\left(\\theta_{1}{\\left(t \\right)} - \\theta_{2}{\\left(t \\right)} \\right)}}{L_{1} L_{2}^{2} m_{2} \\left(m_{1} - m_{2} \\cos^{2}{\\left(\\theta_{1}{\\left(t \\right)} - \\theta_{2}{\\left(t \\right)} \\right)} + m_{2}\\right)}$"
            ],
            "text/plain": [
              "Eq(Derivative(theta2(t), t), (L1*m1*P2(t) + L1*m2*P2(t) - L2*m2*P1(t)*cos(theta1(t) - theta2(t)))/(L1*L2**2*m2*(m1 - m2*cos(theta1(t) - theta2(t))**2 + m2)))"
            ]
          },
          "metadata": {},
          "output_type": "display_data"
        }
      ],
      "source": [
        "# Resolvemos el sistema de ecuaciones para las segundas derivadas de theta1 y theta2\n",
        "angular_acelerations = solve((P1_equation, P2_equation), (Derivative(theta1, t), Derivative(theta2, t)), dict=True)\n",
        "\n",
        "# Asignemos las soluciones a una variable\n",
        "solutions_angular_acelerations = [value for solution in angular_acelerations for key, value in solution.items()]\n",
        "\n",
        "# Convertimos las soluciones en ecuaciones para mostrarlas\n",
        "solutions_eqs = [Eq(key, value) for solution in angular_acelerations for key, value in solution.items()]\n",
        "\n",
        "\n",
        "# Imprimimos las soluciones en forma de ecuación\n",
        "for eq in solutions_eqs:\n",
        "    display(simplify(eq))"
      ]
    },
    {
      "cell_type": "markdown",
      "metadata": {},
      "source": [
        "Ahora reemplazamos estos valores en la expresión que tenemos para la función de energía cinética"
      ]
    },
    {
      "cell_type": "code",
      "execution_count": 26,
      "metadata": {},
      "outputs": [
        {
          "data": {
            "text/latex": [
              "$\\displaystyle T_{Pj} = \\frac{L_{1}^{2} m_{1} P_{2}^{2}{\\left(t \\right)} + L_{1}^{2} m_{2} P_{2}^{2}{\\left(t \\right)} - 2 L_{1} L_{2} m_{2} P_{1}{\\left(t \\right)} P_{2}{\\left(t \\right)} \\cos{\\left(\\theta_{1}{\\left(t \\right)} - \\theta_{2}{\\left(t \\right)} \\right)} + L_{2}^{2} m_{2} P_{1}^{2}{\\left(t \\right)}}{2 L_{1}^{2} L_{2}^{2} m_{2} \\left(m_{1} - m_{2} \\cos^{2}{\\left(\\theta_{1}{\\left(t \\right)} - \\theta_{2}{\\left(t \\right)} \\right)} + m_{2}\\right)}$"
            ],
            "text/plain": [
              "Eq(T_Pj, (L1**2*m1*P2(t)**2 + L1**2*m2*P2(t)**2 - 2*L1*L2*m2*P1(t)*P2(t)*cos(theta1(t) - theta2(t)) + L2**2*m2*P1(t)**2)/(2*L1**2*L2**2*m2*(m1 - m2*cos(theta1(t) - theta2(t))**2 + m2)))"
            ]
          },
          "execution_count": 26,
          "metadata": {},
          "output_type": "execute_result"
        }
      ],
      "source": [
        "T_total_Pj = simplify(T_total.subs(\n",
        "    {Derivative(theta1, t):solutions_angular_acelerations[0],\n",
        "    Derivative(theta2, t): solutions_angular_acelerations[1]}))\n",
        "\n",
        "# Hacemos una ecuación para la nueva expresion de la fucion de energia cinética\n",
        "T_Pj = symbols('T_Pj')\n",
        "Ttotal_equation = Eq(T_Pj, T_total_Pj)\n",
        "\n",
        "# Imprimiendo nuestros resultados\n",
        "Ttotal_equation"
      ]
    },
    {
      "cell_type": "markdown",
      "metadata": {},
      "source": [
        "En la anterior celda se puede observar la energía cinética a partir de los $P_j$"
      ]
    },
    {
      "cell_type": "markdown",
      "metadata": {},
      "source": [
        "### 3. Escriba el Lagrangianop $\\{L_{qp}(t,\\{q_j\\}_M,\\{p_j\\}_M)\\}$ del sistema."
      ]
    },
    {
      "cell_type": "markdown",
      "metadata": {},
      "source": [
        "Del punto anterior ya tenemos las expresiones para las aceleraciones angulares en terminos de los Pj, solo basta con reemplazarlas en nuestro Lagrangiano para obtener nuestro $\\{L_{qp}(t,\\{q_j\\}_M,\\{p_j\\}_M)\\}$"
      ]
    },
    {
      "cell_type": "code",
      "execution_count": 27,
      "metadata": {},
      "outputs": [
        {
          "data": {
            "text/latex": [
              "$\\displaystyle L_{P} = \\frac{2 L_{1}^{2} L_{2}^{2} g m_{2} \\left(m_{1} - m_{2} \\cos^{2}{\\left(\\theta_{1}{\\left(t \\right)} - \\theta_{2}{\\left(t \\right)} \\right)} + m_{2}\\right)^{2} \\left(L_{1} m_{1} \\cos{\\left(\\theta_{1}{\\left(t \\right)} \\right)} + L_{1} m_{2} \\cos{\\left(\\theta_{1}{\\left(t \\right)} \\right)} + L_{2} m_{2} \\cos{\\left(\\theta_{2}{\\left(t \\right)} \\right)}\\right) + m_{1} m_{2} \\left(L_{1} P_{2}{\\left(t \\right)} \\cos{\\left(\\theta_{1}{\\left(t \\right)} - \\theta_{2}{\\left(t \\right)} \\right)} - L_{2} P_{1}{\\left(t \\right)}\\right)^{2} + m_{2}^{2} \\left(L_{1} P_{2}{\\left(t \\right)} \\cos{\\left(\\theta_{1}{\\left(t \\right)} - \\theta_{2}{\\left(t \\right)} \\right)} - L_{2} P_{1}{\\left(t \\right)}\\right)^{2} - 2 m_{2} \\left(L_{1} P_{2}{\\left(t \\right)} \\cos{\\left(\\theta_{1}{\\left(t \\right)} - \\theta_{2}{\\left(t \\right)} \\right)} - L_{2} P_{1}{\\left(t \\right)}\\right) \\left(L_{1} m_{1} P_{2}{\\left(t \\right)} + L_{1} m_{2} P_{2}{\\left(t \\right)} - L_{2} m_{2} P_{1}{\\left(t \\right)} \\cos{\\left(\\theta_{1}{\\left(t \\right)} - \\theta_{2}{\\left(t \\right)} \\right)}\\right) \\cos{\\left(\\theta_{1}{\\left(t \\right)} - \\theta_{2}{\\left(t \\right)} \\right)} + \\left(L_{1} m_{1} P_{2}{\\left(t \\right)} + L_{1} m_{2} P_{2}{\\left(t \\right)} - L_{2} m_{2} P_{1}{\\left(t \\right)} \\cos{\\left(\\theta_{1}{\\left(t \\right)} - \\theta_{2}{\\left(t \\right)} \\right)}\\right)^{2}}{2 L_{1}^{2} L_{2}^{2} m_{2} \\left(m_{1} - m_{2} \\cos^{2}{\\left(\\theta_{1}{\\left(t \\right)} - \\theta_{2}{\\left(t \\right)} \\right)} + m_{2}\\right)^{2}}$"
            ],
            "text/plain": [
              "Eq(L_P, (2*L1**2*L2**2*g*m2*(m1 - m2*cos(theta1(t) - theta2(t))**2 + m2)**2*(L1*m1*cos(theta1(t)) + L1*m2*cos(theta1(t)) + L2*m2*cos(theta2(t))) + m1*m2*(L1*P2(t)*cos(theta1(t) - theta2(t)) - L2*P1(t))**2 + m2**2*(L1*P2(t)*cos(theta1(t) - theta2(t)) - L2*P1(t))**2 - 2*m2*(L1*P2(t)*cos(theta1(t) - theta2(t)) - L2*P1(t))*(L1*m1*P2(t) + L1*m2*P2(t) - L2*m2*P1(t)*cos(theta1(t) - theta2(t)))*cos(theta1(t) - theta2(t)) + (L1*m1*P2(t) + L1*m2*P2(t) - L2*m2*P1(t)*cos(theta1(t) - theta2(t)))**2)/(2*L1**2*L2**2*m2*(m1 - m2*cos(theta1(t) - theta2(t))**2 + m2)**2))"
            ]
          },
          "execution_count": 27,
          "metadata": {},
          "output_type": "execute_result"
        }
      ],
      "source": [
        "Lagrangiano_Pj = simplify(Lagrangiano.subs(\n",
        "    {Derivative(theta1, t):solutions_angular_acelerations[0],\n",
        "    Derivative(theta2, t): solutions_angular_acelerations[1]}))\n",
        "\n",
        "# Hacemos una ecuación para la nueva expresion de la fucion de energia cinética\n",
        "L_P = symbols('L_P')\n",
        "Lagrangiano_Pj_equation = Eq(L_P, Lagrangiano_Pj)\n",
        "\n",
        "# Imprimiendo nuestros resultados\n",
        "Lagrangiano_Pj_equation"
      ]
    },
    {
      "cell_type": "markdown",
      "metadata": {},
      "source": [
        "En la anterior celda se puede observar el lagrangiano en terminos de los $q_j$ y $p_j$"
      ]
    },
    {
      "cell_type": "markdown",
      "metadata": {},
      "source": [
        "### 4. Escriba el Hamiltoniano $\\{H(t,\\{q_j\\}_M,\\{p_j\\}_M)\\}$ del sistema.\n",
        "$$H(q_j, p_j, t) = \\sum_k p_k \\dot{q}_k(q_j, p_j, t) - L(q_j, p_j, t)$$"
      ]
    },
    {
      "cell_type": "markdown",
      "metadata": {},
      "source": [
        "Listo ahora con esta expresión podemos, encontrar nuestro hamiltoniano, hagamos una función que me encuentre el hamiltoniano de un sistema a partir de las expresion para $\\dot{q}_k(q_j, p_j, t)$, los $p_k$ y la expresión Lqp"
      ]
    },
    {
      "cell_type": "code",
      "execution_count": 28,
      "metadata": {},
      "outputs": [],
      "source": [
        "def Hamiltoniano_(Lqp, pk, dotqj_pk):\n",
        "    \"\"\" \n",
        "    Calcula el Hamiltoniano a partir de los q_k(q_j, p_j, t), los p_k y el\n",
        "    Lagrangiano en términos de q y p.\n",
        "    \n",
        "    Parámetros:\n",
        "    - Lqp: sympy.Expr\n",
        "        Lagrangiano del sistema en términos de p y q.\n",
        "    - pk: list\n",
        "        Lista de los p_k del sistema.\n",
        "    - dotqj_pk: list\n",
        "        Lista de q_k punto en términos de q y p.\n",
        "    \n",
        "    Retorna:\n",
        "    - sympy.Expr: Expresión para el Hamiltoniano.\n",
        "    \"\"\"\n",
        "   \n",
        "    Hamil = sum(p * q_dot for p, q_dot in zip(pk, dotqj_pk))\n",
        "    Hamil -= Lqp\n",
        "\n",
        "    return simplify(Hamil)\n"
      ]
    },
    {
      "cell_type": "code",
      "execution_count": 29,
      "metadata": {},
      "outputs": [
        {
          "data": {
            "text/latex": [
              "$\\displaystyle H = \\frac{- L_{1}^{3} L_{2}^{2} g m_{1}^{2} m_{2} \\cos{\\left(\\theta_{1}{\\left(t \\right)} \\right)} + L_{1}^{3} L_{2}^{2} g m_{1} m_{2}^{2} \\cos^{2}{\\left(\\theta_{1}{\\left(t \\right)} - \\theta_{2}{\\left(t \\right)} \\right)} \\cos{\\left(\\theta_{1}{\\left(t \\right)} \\right)} - 2 L_{1}^{3} L_{2}^{2} g m_{1} m_{2}^{2} \\cos{\\left(\\theta_{1}{\\left(t \\right)} \\right)} + L_{1}^{3} L_{2}^{2} g m_{2}^{3} \\cos^{2}{\\left(\\theta_{1}{\\left(t \\right)} - \\theta_{2}{\\left(t \\right)} \\right)} \\cos{\\left(\\theta_{1}{\\left(t \\right)} \\right)} - L_{1}^{3} L_{2}^{2} g m_{2}^{3} \\cos{\\left(\\theta_{1}{\\left(t \\right)} \\right)} - L_{1}^{2} L_{2}^{3} g m_{1} m_{2}^{2} \\cos{\\left(\\theta_{2}{\\left(t \\right)} \\right)} + L_{1}^{2} L_{2}^{3} g m_{2}^{3} \\cos^{2}{\\left(\\theta_{1}{\\left(t \\right)} - \\theta_{2}{\\left(t \\right)} \\right)} \\cos{\\left(\\theta_{2}{\\left(t \\right)} \\right)} - L_{1}^{2} L_{2}^{3} g m_{2}^{3} \\cos{\\left(\\theta_{2}{\\left(t \\right)} \\right)} + \\frac{L_{1}^{2} m_{1} P_{2}^{2}{\\left(t \\right)}}{2} + \\frac{L_{1}^{2} m_{2} P_{2}^{2}{\\left(t \\right)}}{2} - L_{1} L_{2} m_{2} P_{1}{\\left(t \\right)} P_{2}{\\left(t \\right)} \\cos{\\left(\\theta_{1}{\\left(t \\right)} - \\theta_{2}{\\left(t \\right)} \\right)} + \\frac{L_{2}^{2} m_{2} P_{1}^{2}{\\left(t \\right)}}{2}}{L_{1}^{2} L_{2}^{2} m_{2} \\left(m_{1} - m_{2} \\cos^{2}{\\left(\\theta_{1}{\\left(t \\right)} - \\theta_{2}{\\left(t \\right)} \\right)} + m_{2}\\right)}$"
            ],
            "text/plain": [
              "Eq(H, (-L1**3*L2**2*g*m1**2*m2*cos(theta1(t)) + L1**3*L2**2*g*m1*m2**2*cos(theta1(t) - theta2(t))**2*cos(theta1(t)) - 2*L1**3*L2**2*g*m1*m2**2*cos(theta1(t)) + L1**3*L2**2*g*m2**3*cos(theta1(t) - theta2(t))**2*cos(theta1(t)) - L1**3*L2**2*g*m2**3*cos(theta1(t)) - L1**2*L2**3*g*m1*m2**2*cos(theta2(t)) + L1**2*L2**3*g*m2**3*cos(theta1(t) - theta2(t))**2*cos(theta2(t)) - L1**2*L2**3*g*m2**3*cos(theta2(t)) + L1**2*m1*P2(t)**2/2 + L1**2*m2*P2(t)**2/2 - L1*L2*m2*P1(t)*P2(t)*cos(theta1(t) - theta2(t)) + L2**2*m2*P1(t)**2/2)/(L1**2*L2**2*m2*(m1 - m2*cos(theta1(t) - theta2(t))**2 + m2)))"
            ]
          },
          "metadata": {},
          "output_type": "display_data"
        }
      ],
      "source": [
        "# Usando la función anterior para hallar la expresión de nuestro Hamiltoniano\n",
        "Hamiltoniano = Hamiltoniano_(Lagrangiano_Pj,\n",
        "                              [P1, P2],\n",
        "                              solutions_angular_acelerations)\n",
        "\n",
        "# Hagamos una ecuación para nuestro hamiltoniano\n",
        "H = symbols('H') # Definiendo el simbolo para el hamiltoniano\n",
        "Hamiltoniano_equation = Eq(H, Hamiltoniano)\n",
        "\n",
        "# Imprimamos nuestros resultados\n",
        "display(Hamiltoniano_equation)"
      ]
    },
    {
      "cell_type": "markdown",
      "metadata": {},
      "source": [
        "En la anterior celda podemos observar la expresion para el Hamiltoniano del pendulo doble"
      ]
    },
    {
      "cell_type": "markdown",
      "metadata": {},
      "source": [
        "### 5. A partir del Hamiltoniano escriba explícitamente las ecuaciones de movimiento usando las ecuaciones canónicas."
      ]
    },
    {
      "cell_type": "markdown",
      "metadata": {},
      "source": [
        "\\begin{equation}\n",
        "\\begin{cases}\n",
        "\\dot{q}_j = +\\frac{\\partial H}{\\partial p_j} & M \\\\\n",
        "\\dot{p}_j = -\\frac{\\partial H}{\\partial q_j} & M\n",
        "\\end{cases}\n",
        "\\end{equation}\n",
        "\n",
        "\\begin{equation}\n",
        "\\frac{\\partial H}{\\partial t} = -\\frac{\\partial L_{qp}}{\\partial t}\n",
        "\\end{equation}\n"
      ]
    },
    {
      "cell_type": "markdown",
      "metadata": {},
      "source": [
        "Definamos algunas funciones: Una que que encuentre $\\dot{q}_j$ a partir de H al igual para $\\dot{p}_j$"
      ]
    },
    {
      "cell_type": "code",
      "execution_count": 30,
      "metadata": {},
      "outputs": [],
      "source": [
        "# Defininedo la funcion para qj\n",
        "dotqj_function = lambda H, pj: [simplify(H.diff(i)) for i in pj]\n",
        "\n",
        "# Definiendo la funcion para pj punto \n",
        "dotpj_function = lambda H, qj: [-simplify(H.diff(i)) for i in qj]\n"
      ]
    },
    {
      "cell_type": "code",
      "execution_count": 31,
      "metadata": {},
      "outputs": [
        {
          "data": {
            "text/latex": [
              "$\\displaystyle \\frac{d}{d t} \\theta_{1}{\\left(t \\right)} = \\frac{- L_{1} P_{2}{\\left(t \\right)} \\cos{\\left(\\theta_{1}{\\left(t \\right)} - \\theta_{2}{\\left(t \\right)} \\right)} + L_{2} P_{1}{\\left(t \\right)}}{L_{1}^{2} L_{2} \\left(m_{1} - m_{2} \\cos^{2}{\\left(\\theta_{1}{\\left(t \\right)} - \\theta_{2}{\\left(t \\right)} \\right)} + m_{2}\\right)}$"
            ],
            "text/plain": [
              "Eq(Derivative(theta1(t), t), (-L1*P2(t)*cos(theta1(t) - theta2(t)) + L2*P1(t))/(L1**2*L2*(m1 - m2*cos(theta1(t) - theta2(t))**2 + m2)))"
            ]
          },
          "metadata": {},
          "output_type": "display_data"
        },
        {
          "data": {
            "text/latex": [
              "$\\displaystyle \\frac{d}{d t} \\theta_{2}{\\left(t \\right)} = \\frac{L_{1} m_{1} P_{2}{\\left(t \\right)} + L_{1} m_{2} P_{2}{\\left(t \\right)} - L_{2} m_{2} P_{1}{\\left(t \\right)} \\cos{\\left(\\theta_{1}{\\left(t \\right)} - \\theta_{2}{\\left(t \\right)} \\right)}}{L_{1} L_{2}^{2} m_{2} \\left(m_{1} - m_{2} \\cos^{2}{\\left(\\theta_{1}{\\left(t \\right)} - \\theta_{2}{\\left(t \\right)} \\right)} + m_{2}\\right)}$"
            ],
            "text/plain": [
              "Eq(Derivative(theta2(t), t), (L1*m1*P2(t) + L1*m2*P2(t) - L2*m2*P1(t)*cos(theta1(t) - theta2(t)))/(L1*L2**2*m2*(m1 - m2*cos(theta1(t) - theta2(t))**2 + m2)))"
            ]
          },
          "metadata": {},
          "output_type": "display_data"
        },
        {
          "data": {
            "text/latex": [
              "$\\displaystyle \\frac{d}{d t} P_{1}{\\left(t \\right)} = - \\frac{L_{1}^{3} L_{2}^{2} g m_{1}^{3} \\sin{\\left(\\theta_{1}{\\left(t \\right)} \\right)} - 2 L_{1}^{3} L_{2}^{2} g m_{1}^{2} m_{2} \\sin{\\left(\\theta_{1}{\\left(t \\right)} \\right)} \\cos^{2}{\\left(\\theta_{1}{\\left(t \\right)} - \\theta_{2}{\\left(t \\right)} \\right)} + 3 L_{1}^{3} L_{2}^{2} g m_{1}^{2} m_{2} \\sin{\\left(\\theta_{1}{\\left(t \\right)} \\right)} + L_{1}^{3} L_{2}^{2} g m_{1} m_{2}^{2} \\sin{\\left(\\theta_{1}{\\left(t \\right)} \\right)} \\cos^{4}{\\left(\\theta_{1}{\\left(t \\right)} - \\theta_{2}{\\left(t \\right)} \\right)} - 4 L_{1}^{3} L_{2}^{2} g m_{1} m_{2}^{2} \\sin{\\left(\\theta_{1}{\\left(t \\right)} \\right)} \\cos^{2}{\\left(\\theta_{1}{\\left(t \\right)} - \\theta_{2}{\\left(t \\right)} \\right)} + 3 L_{1}^{3} L_{2}^{2} g m_{1} m_{2}^{2} \\sin{\\left(\\theta_{1}{\\left(t \\right)} \\right)} + L_{1}^{3} L_{2}^{2} g m_{2}^{3} \\sin{\\left(\\theta_{1}{\\left(t \\right)} \\right)} \\cos^{4}{\\left(\\theta_{1}{\\left(t \\right)} - \\theta_{2}{\\left(t \\right)} \\right)} - 2 L_{1}^{3} L_{2}^{2} g m_{2}^{3} \\sin{\\left(\\theta_{1}{\\left(t \\right)} \\right)} \\cos^{2}{\\left(\\theta_{1}{\\left(t \\right)} - \\theta_{2}{\\left(t \\right)} \\right)} + L_{1}^{3} L_{2}^{2} g m_{2}^{3} \\sin{\\left(\\theta_{1}{\\left(t \\right)} \\right)} - \\frac{L_{1}^{2} m_{1} P_{2}^{2}{\\left(t \\right)} \\sin{\\left(2 \\theta_{1}{\\left(t \\right)} - 2 \\theta_{2}{\\left(t \\right)} \\right)}}{2} - \\frac{L_{1}^{2} m_{2} P_{2}^{2}{\\left(t \\right)} \\sin{\\left(2 \\theta_{1}{\\left(t \\right)} - 2 \\theta_{2}{\\left(t \\right)} \\right)}}{2} + L_{1} L_{2} m_{1} P_{1}{\\left(t \\right)} P_{2}{\\left(t \\right)} \\sin{\\left(\\theta_{1}{\\left(t \\right)} - \\theta_{2}{\\left(t \\right)} \\right)} + L_{1} L_{2} m_{2} P_{1}{\\left(t \\right)} P_{2}{\\left(t \\right)} \\sin{\\left(\\theta_{1}{\\left(t \\right)} - \\theta_{2}{\\left(t \\right)} \\right)} \\cos^{2}{\\left(\\theta_{1}{\\left(t \\right)} - \\theta_{2}{\\left(t \\right)} \\right)} + L_{1} L_{2} m_{2} P_{1}{\\left(t \\right)} P_{2}{\\left(t \\right)} \\sin{\\left(\\theta_{1}{\\left(t \\right)} - \\theta_{2}{\\left(t \\right)} \\right)} - \\frac{L_{2}^{2} m_{2} P_{1}^{2}{\\left(t \\right)} \\sin{\\left(2 \\theta_{1}{\\left(t \\right)} - 2 \\theta_{2}{\\left(t \\right)} \\right)}}{2}}{L_{1}^{2} L_{2}^{2} \\left(m_{1}^{2} - 2 m_{1} m_{2} \\cos^{2}{\\left(\\theta_{1}{\\left(t \\right)} - \\theta_{2}{\\left(t \\right)} \\right)} + 2 m_{1} m_{2} + m_{2}^{2} \\cos^{4}{\\left(\\theta_{1}{\\left(t \\right)} - \\theta_{2}{\\left(t \\right)} \\right)} - 2 m_{2}^{2} \\cos^{2}{\\left(\\theta_{1}{\\left(t \\right)} - \\theta_{2}{\\left(t \\right)} \\right)} + m_{2}^{2}\\right)}$"
            ],
            "text/plain": [
              "Eq(Derivative(P1(t), t), -(L1**3*L2**2*g*m1**3*sin(theta1(t)) - 2*L1**3*L2**2*g*m1**2*m2*sin(theta1(t))*cos(theta1(t) - theta2(t))**2 + 3*L1**3*L2**2*g*m1**2*m2*sin(theta1(t)) + L1**3*L2**2*g*m1*m2**2*sin(theta1(t))*cos(theta1(t) - theta2(t))**4 - 4*L1**3*L2**2*g*m1*m2**2*sin(theta1(t))*cos(theta1(t) - theta2(t))**2 + 3*L1**3*L2**2*g*m1*m2**2*sin(theta1(t)) + L1**3*L2**2*g*m2**3*sin(theta1(t))*cos(theta1(t) - theta2(t))**4 - 2*L1**3*L2**2*g*m2**3*sin(theta1(t))*cos(theta1(t) - theta2(t))**2 + L1**3*L2**2*g*m2**3*sin(theta1(t)) - L1**2*m1*P2(t)**2*sin(2*theta1(t) - 2*theta2(t))/2 - L1**2*m2*P2(t)**2*sin(2*theta1(t) - 2*theta2(t))/2 + L1*L2*m1*P1(t)*P2(t)*sin(theta1(t) - theta2(t)) + L1*L2*m2*P1(t)*P2(t)*sin(theta1(t) - theta2(t))*cos(theta1(t) - theta2(t))**2 + L1*L2*m2*P1(t)*P2(t)*sin(theta1(t) - theta2(t)) - L2**2*m2*P1(t)**2*sin(2*theta1(t) - 2*theta2(t))/2)/(L1**2*L2**2*(m1**2 - 2*m1*m2*cos(theta1(t) - theta2(t))**2 + 2*m1*m2 + m2**2*cos(theta1(t) - theta2(t))**4 - 2*m2**2*cos(theta1(t) - theta2(t))**2 + m2**2)))"
            ]
          },
          "metadata": {},
          "output_type": "display_data"
        },
        {
          "data": {
            "text/latex": [
              "$\\displaystyle \\frac{d}{d t} P_{2}{\\left(t \\right)} = - \\frac{L_{1}^{2} L_{2}^{3} g m_{1}^{2} m_{2} \\sin{\\left(\\theta_{2}{\\left(t \\right)} \\right)} - 2 L_{1}^{2} L_{2}^{3} g m_{1} m_{2}^{2} \\sin{\\left(\\theta_{2}{\\left(t \\right)} \\right)} \\cos^{2}{\\left(\\theta_{1}{\\left(t \\right)} - \\theta_{2}{\\left(t \\right)} \\right)} + 2 L_{1}^{2} L_{2}^{3} g m_{1} m_{2}^{2} \\sin{\\left(\\theta_{2}{\\left(t \\right)} \\right)} + L_{1}^{2} L_{2}^{3} g m_{2}^{3} \\sin{\\left(\\theta_{2}{\\left(t \\right)} \\right)} \\cos^{4}{\\left(\\theta_{1}{\\left(t \\right)} - \\theta_{2}{\\left(t \\right)} \\right)} - 2 L_{1}^{2} L_{2}^{3} g m_{2}^{3} \\sin{\\left(\\theta_{2}{\\left(t \\right)} \\right)} \\cos^{2}{\\left(\\theta_{1}{\\left(t \\right)} - \\theta_{2}{\\left(t \\right)} \\right)} + L_{1}^{2} L_{2}^{3} g m_{2}^{3} \\sin{\\left(\\theta_{2}{\\left(t \\right)} \\right)} + \\frac{L_{1}^{2} m_{1} P_{2}^{2}{\\left(t \\right)} \\sin{\\left(2 \\theta_{1}{\\left(t \\right)} - 2 \\theta_{2}{\\left(t \\right)} \\right)}}{2} + \\frac{L_{1}^{2} m_{2} P_{2}^{2}{\\left(t \\right)} \\sin{\\left(2 \\theta_{1}{\\left(t \\right)} - 2 \\theta_{2}{\\left(t \\right)} \\right)}}{2} - L_{1} L_{2} m_{1} P_{1}{\\left(t \\right)} P_{2}{\\left(t \\right)} \\sin{\\left(\\theta_{1}{\\left(t \\right)} - \\theta_{2}{\\left(t \\right)} \\right)} - L_{1} L_{2} m_{2} P_{1}{\\left(t \\right)} P_{2}{\\left(t \\right)} \\sin{\\left(\\theta_{1}{\\left(t \\right)} - \\theta_{2}{\\left(t \\right)} \\right)} \\cos^{2}{\\left(\\theta_{1}{\\left(t \\right)} - \\theta_{2}{\\left(t \\right)} \\right)} - L_{1} L_{2} m_{2} P_{1}{\\left(t \\right)} P_{2}{\\left(t \\right)} \\sin{\\left(\\theta_{1}{\\left(t \\right)} - \\theta_{2}{\\left(t \\right)} \\right)} + \\frac{L_{2}^{2} m_{2} P_{1}^{2}{\\left(t \\right)} \\sin{\\left(2 \\theta_{1}{\\left(t \\right)} - 2 \\theta_{2}{\\left(t \\right)} \\right)}}{2}}{L_{1}^{2} L_{2}^{2} \\left(m_{1}^{2} - 2 m_{1} m_{2} \\cos^{2}{\\left(\\theta_{1}{\\left(t \\right)} - \\theta_{2}{\\left(t \\right)} \\right)} + 2 m_{1} m_{2} + m_{2}^{2} \\cos^{4}{\\left(\\theta_{1}{\\left(t \\right)} - \\theta_{2}{\\left(t \\right)} \\right)} - 2 m_{2}^{2} \\cos^{2}{\\left(\\theta_{1}{\\left(t \\right)} - \\theta_{2}{\\left(t \\right)} \\right)} + m_{2}^{2}\\right)}$"
            ],
            "text/plain": [
              "Eq(Derivative(P2(t), t), -(L1**2*L2**3*g*m1**2*m2*sin(theta2(t)) - 2*L1**2*L2**3*g*m1*m2**2*sin(theta2(t))*cos(theta1(t) - theta2(t))**2 + 2*L1**2*L2**3*g*m1*m2**2*sin(theta2(t)) + L1**2*L2**3*g*m2**3*sin(theta2(t))*cos(theta1(t) - theta2(t))**4 - 2*L1**2*L2**3*g*m2**3*sin(theta2(t))*cos(theta1(t) - theta2(t))**2 + L1**2*L2**3*g*m2**3*sin(theta2(t)) + L1**2*m1*P2(t)**2*sin(2*theta1(t) - 2*theta2(t))/2 + L1**2*m2*P2(t)**2*sin(2*theta1(t) - 2*theta2(t))/2 - L1*L2*m1*P1(t)*P2(t)*sin(theta1(t) - theta2(t)) - L1*L2*m2*P1(t)*P2(t)*sin(theta1(t) - theta2(t))*cos(theta1(t) - theta2(t))**2 - L1*L2*m2*P1(t)*P2(t)*sin(theta1(t) - theta2(t)) + L2**2*m2*P1(t)**2*sin(2*theta1(t) - 2*theta2(t))/2)/(L1**2*L2**2*(m1**2 - 2*m1*m2*cos(theta1(t) - theta2(t))**2 + 2*m1*m2 + m2**2*cos(theta1(t) - theta2(t))**4 - 2*m2**2*cos(theta1(t) - theta2(t))**2 + m2**2)))"
            ]
          },
          "metadata": {},
          "output_type": "display_data"
        }
      ],
      "source": [
        "# Usemos estas funciones para hallar nuestros dotqj y dotpj\n",
        "dotqj = dotqj_function(Hamiltoniano, [P1, P2])\n",
        "dotpj = dotpj_function(Hamiltoniano, [theta1, theta2])\n",
        "\n",
        "## Ahora veamos estas expresiones en sus ecuaciones correspondientes\n",
        "# Para los q punto \n",
        "dotq1_equation = Eq(Derivative(theta1, t ), dotqj[0])\n",
        "dotq2_equation = Eq(Derivative(theta2, t ), dotqj[1])\n",
        "\n",
        "# Para los p punto\n",
        "dotp1_equation = Eq(Derivative(P1, t ), dotpj[0])\n",
        "dotp2_equation = Eq(Derivative(P2, t ), dotpj[1])\n",
        "\n",
        "# Mostrando los resultados \n",
        "display(dotq1_equation, dotq2_equation, dotp1_equation, dotp2_equation)"
      ]
    },
    {
      "cell_type": "markdown",
      "metadata": {},
      "source": [
        "## **Parte 4. Experimentos numéricos**\n",
        "\n",
        "### 1. Escriba un programa para resolver numéricamente las ecuaciones de movimiento obtenidas en la **parte 1**. Con condiciones iniciales apropiadas, resuelva las ecuaciones y haga una animación del movimiento del péndulo."
      ]
    },
    {
      "cell_type": "markdown",
      "metadata": {},
      "source": [
        "Traigamos las ecuaciones que habiamos obtenido para las aceleraciones angulares en la parte1"
      ]
    },
    {
      "cell_type": "code",
      "execution_count": 32,
      "metadata": {},
      "outputs": [
        {
          "data": {
            "text/latex": [
              "$\\displaystyle \\frac{d^{2}}{d t^{2}} \\theta_{1}{\\left(t \\right)} = - \\frac{L_{2} m_{2} \\sin{\\left(\\theta_{1}{\\left(t \\right)} - \\theta_{2}{\\left(t \\right)} \\right)} \\left(\\frac{d}{d t} \\theta_{2}{\\left(t \\right)}\\right)^{2} + L_{2} m_{2} \\cos{\\left(\\theta_{1}{\\left(t \\right)} - \\theta_{2}{\\left(t \\right)} \\right)} \\frac{d^{2}}{d t^{2}} \\theta_{2}{\\left(t \\right)} + g m_{1} \\sin{\\left(\\theta_{1}{\\left(t \\right)} \\right)} + g m_{2} \\sin{\\left(\\theta_{1}{\\left(t \\right)} \\right)}}{L_{1} \\left(m_{1} + m_{2}\\right)}$"
            ],
            "text/plain": [
              "Eq(Derivative(theta1(t), (t, 2)), -(L2*m2*sin(theta1(t) - theta2(t))*Derivative(theta2(t), t)**2 + L2*m2*cos(theta1(t) - theta2(t))*Derivative(theta2(t), (t, 2)) + g*m1*sin(theta1(t)) + g*m2*sin(theta1(t)))/(L1*(m1 + m2)))"
            ]
          },
          "metadata": {},
          "output_type": "display_data"
        },
        {
          "data": {
            "text/latex": [
              "$\\displaystyle \\frac{d^{2}}{d t^{2}} \\theta_{2}{\\left(t \\right)} = \\frac{L_{1} \\sin{\\left(\\theta_{1}{\\left(t \\right)} - \\theta_{2}{\\left(t \\right)} \\right)} \\left(\\frac{d}{d t} \\theta_{1}{\\left(t \\right)}\\right)^{2} - L_{1} \\cos{\\left(\\theta_{1}{\\left(t \\right)} - \\theta_{2}{\\left(t \\right)} \\right)} \\frac{d^{2}}{d t^{2}} \\theta_{1}{\\left(t \\right)} - g \\sin{\\left(\\theta_{2}{\\left(t \\right)} \\right)}}{L_{2}}$"
            ],
            "text/plain": [
              "Eq(Derivative(theta2(t), (t, 2)), (L1*sin(theta1(t) - theta2(t))*Derivative(theta1(t), t)**2 - L1*cos(theta1(t) - theta2(t))*Derivative(theta1(t), (t, 2)) - g*sin(theta2(t)))/L2)"
            ]
          },
          "metadata": {},
          "output_type": "display_data"
        }
      ],
      "source": [
        "display(d2_theta1, d2_theta2)"
      ]
    },
    {
      "cell_type": "markdown",
      "metadata": {},
      "source": [
        "Debemos llevar estas ecuaciones diferenciales de segundo orden a una de primer orden"
      ]
    },
    {
      "cell_type": "code",
      "execution_count": 33,
      "metadata": {},
      "outputs": [
        {
          "data": {
            "text/latex": [
              "$\\displaystyle \\frac{d}{d t} \\theta_{1}{\\left(t \\right)} = w_{1}{\\left(t \\right)}$"
            ],
            "text/plain": [
              "Eq(Derivative(theta1(t), t), w1(t))"
            ]
          },
          "metadata": {},
          "output_type": "display_data"
        },
        {
          "data": {
            "text/latex": [
              "$\\displaystyle \\frac{d}{d t} w_{1}{\\left(t \\right)} = - \\frac{L_{2} m_{2} w_{2}^{2}{\\left(t \\right)} \\sin{\\left(\\theta_{1}{\\left(t \\right)} - \\theta_{2}{\\left(t \\right)} \\right)} + L_{2} m_{2} \\cos{\\left(\\theta_{1}{\\left(t \\right)} - \\theta_{2}{\\left(t \\right)} \\right)} \\frac{d}{d t} w_{2}{\\left(t \\right)} + g m_{1} \\sin{\\left(\\theta_{1}{\\left(t \\right)} \\right)} + g m_{2} \\sin{\\left(\\theta_{1}{\\left(t \\right)} \\right)}}{L_{1} \\left(m_{1} + m_{2}\\right)}$"
            ],
            "text/plain": [
              "Eq(Derivative(w1(t), t), -(L2*m2*w2(t)**2*sin(theta1(t) - theta2(t)) + L2*m2*cos(theta1(t) - theta2(t))*Derivative(w2(t), t) + g*m1*sin(theta1(t)) + g*m2*sin(theta1(t)))/(L1*(m1 + m2)))"
            ]
          },
          "metadata": {},
          "output_type": "display_data"
        },
        {
          "data": {
            "text/latex": [
              "$\\displaystyle \\frac{d}{d t} \\theta_{2}{\\left(t \\right)} = w_{2}{\\left(t \\right)}$"
            ],
            "text/plain": [
              "Eq(Derivative(theta2(t), t), w2(t))"
            ]
          },
          "metadata": {},
          "output_type": "display_data"
        },
        {
          "data": {
            "text/latex": [
              "$\\displaystyle \\frac{d}{d t} w_{2}{\\left(t \\right)} = \\frac{L_{1} w_{1}^{2}{\\left(t \\right)} \\sin{\\left(\\theta_{1}{\\left(t \\right)} - \\theta_{2}{\\left(t \\right)} \\right)} - L_{1} \\cos{\\left(\\theta_{1}{\\left(t \\right)} - \\theta_{2}{\\left(t \\right)} \\right)} \\frac{d}{d t} w_{1}{\\left(t \\right)} - g \\sin{\\left(\\theta_{2}{\\left(t \\right)} \\right)}}{L_{2}}$"
            ],
            "text/plain": [
              "Eq(Derivative(w2(t), t), (L1*w1(t)**2*sin(theta1(t) - theta2(t)) - L1*cos(theta1(t) - theta2(t))*Derivative(w1(t), t) - g*sin(theta2(t)))/L2)"
            ]
          },
          "metadata": {},
          "output_type": "display_data"
        }
      ],
      "source": [
        "# Definimos los simbolos de las variables de transformación\n",
        "w1, w2 = symbols('w1 w2')\n",
        "w1, w2 = Function('w1')(t), Function('w2')(t)\n",
        "## Establecemos w como d(theta)/dt\n",
        "\n",
        "omega1_equation = Eq(Derivative(theta1,t), w1)\n",
        "omega2_equation = Eq(Derivative(theta2,t), w2)\n",
        "\n",
        "\n",
        "# Ahora reemplazamos omega en nuestras expresiones para la aceleración angular\n",
        "\n",
        "d2_theta1_w = simplify(d2_theta1.subs(\n",
        "    {Derivative(theta1, t): w1,\n",
        "    Derivative(theta2, t): w2,\n",
        "    Derivative(theta1, t, 2): Derivative(w1,t)}))\n",
        "\n",
        "d2_theta2_w = simplify(d2_theta2.subs(\n",
        "    {Derivative(theta1, t): w1,\n",
        "    Derivative(theta2, t): w2}))\n",
        "\n",
        "display(omega1_equation, d2_theta1_w, omega2_equation, d2_theta2_w)"
      ]
    },
    {
      "cell_type": "markdown",
      "metadata": {},
      "source": [
        "vamos a desacoplarlas"
      ]
    },
    {
      "cell_type": "code",
      "execution_count": 34,
      "metadata": {},
      "outputs": [
        {
          "data": {
            "text/latex": [
              "$\\displaystyle \\frac{L_{1} m_{1} w_{1}^{2}{\\left(t \\right)} \\sin{\\left(\\theta_{1}{\\left(t \\right)} - \\theta_{2}{\\left(t \\right)} \\right)} + L_{1} m_{2} w_{1}^{2}{\\left(t \\right)} \\sin{\\left(\\theta_{1}{\\left(t \\right)} - \\theta_{2}{\\left(t \\right)} \\right)} + \\frac{L_{2} m_{2} w_{2}^{2}{\\left(t \\right)} \\sin{\\left(2 \\theta_{1}{\\left(t \\right)} - 2 \\theta_{2}{\\left(t \\right)} \\right)}}{2} + \\frac{g m_{1} \\sin{\\left(2 \\theta_{1}{\\left(t \\right)} - \\theta_{2}{\\left(t \\right)} \\right)}}{2} - \\frac{g m_{1} \\sin{\\left(\\theta_{2}{\\left(t \\right)} \\right)}}{2} + \\frac{g m_{2} \\sin{\\left(2 \\theta_{1}{\\left(t \\right)} - \\theta_{2}{\\left(t \\right)} \\right)}}{2} - \\frac{g m_{2} \\sin{\\left(\\theta_{2}{\\left(t \\right)} \\right)}}{2}}{L_{2} \\left(m_{1} - m_{2} \\cos^{2}{\\left(\\theta_{1}{\\left(t \\right)} - \\theta_{2}{\\left(t \\right)} \\right)} + m_{2}\\right)}$"
            ],
            "text/plain": [
              "(L1*m1*w1(t)**2*sin(theta1(t) - theta2(t)) + L1*m2*w1(t)**2*sin(theta1(t) - theta2(t)) + L2*m2*w2(t)**2*sin(2*theta1(t) - 2*theta2(t))/2 + g*m1*sin(2*theta1(t) - theta2(t))/2 - g*m1*sin(theta2(t))/2 + g*m2*sin(2*theta1(t) - theta2(t))/2 - g*m2*sin(theta2(t))/2)/(L2*(m1 - m2*cos(theta1(t) - theta2(t))**2 + m2))"
            ]
          },
          "execution_count": 34,
          "metadata": {},
          "output_type": "execute_result"
        }
      ],
      "source": [
        "desacoplate_solutions = solve((d2_theta1_w, d2_theta2_w), (Derivative(w1, t), Derivative(w2, t)), dict=True)\n",
        "desacoplate_solutions = [ value for solution in solutions for key, value in solution.items()]\n",
        "\n",
        "d2_theta1_w = simplify(desacoplate_solutions[0].subs(\n",
        "    {Derivative(theta1, t): w1,\n",
        "    Derivative(theta2, t): w2}))\n",
        "\n",
        "d2_theta2_w = simplify(desacoplate_solutions[1].subs(\n",
        "    {Derivative(theta1, t): w1,\n",
        "    Derivative(theta2, t): w2}))\n",
        "d2_theta2_w"
      ]
    },
    {
      "cell_type": "code",
      "execution_count": 35,
      "metadata": {},
      "outputs": [
        {
          "data": {
            "text/latex": [
              "$\\displaystyle \\frac{L_{1} m_{1} w_{1}^{2}{\\left(t \\right)} \\sin{\\left(\\theta_{1}{\\left(t \\right)} - \\theta_{2}{\\left(t \\right)} \\right)} + L_{1} m_{2} w_{1}^{2}{\\left(t \\right)} \\sin{\\left(\\theta_{1}{\\left(t \\right)} - \\theta_{2}{\\left(t \\right)} \\right)} + \\frac{L_{2} m_{2} w_{2}^{2}{\\left(t \\right)} \\sin{\\left(2 \\theta_{1}{\\left(t \\right)} - 2 \\theta_{2}{\\left(t \\right)} \\right)}}{2} + \\frac{g m_{1} \\sin{\\left(2 \\theta_{1}{\\left(t \\right)} - \\theta_{2}{\\left(t \\right)} \\right)}}{2} - \\frac{g m_{1} \\sin{\\left(\\theta_{2}{\\left(t \\right)} \\right)}}{2} + \\frac{g m_{2} \\sin{\\left(2 \\theta_{1}{\\left(t \\right)} - \\theta_{2}{\\left(t \\right)} \\right)}}{2} - \\frac{g m_{2} \\sin{\\left(\\theta_{2}{\\left(t \\right)} \\right)}}{2}}{L_{2} \\left(m_{1} - m_{2} \\cos^{2}{\\left(\\theta_{1}{\\left(t \\right)} - \\theta_{2}{\\left(t \\right)} \\right)} + m_{2}\\right)}$"
            ],
            "text/plain": [
              "(L1*m1*w1(t)**2*sin(theta1(t) - theta2(t)) + L1*m2*w1(t)**2*sin(theta1(t) - theta2(t)) + L2*m2*w2(t)**2*sin(2*theta1(t) - 2*theta2(t))/2 + g*m1*sin(2*theta1(t) - theta2(t))/2 - g*m1*sin(theta2(t))/2 + g*m2*sin(2*theta1(t) - theta2(t))/2 - g*m2*sin(theta2(t))/2)/(L2*(m1 - m2*cos(theta1(t) - theta2(t))**2 + m2))"
            ]
          },
          "execution_count": 35,
          "metadata": {},
          "output_type": "execute_result"
        }
      ],
      "source": [
        "d2_theta2_w"
      ]
    },
    {
      "cell_type": "markdown",
      "metadata": {},
      "source": [
        "Pasemos nuestras funciones simbolicas a funciones de python"
      ]
    },
    {
      "cell_type": "code",
      "execution_count": 36,
      "metadata": {},
      "outputs": [],
      "source": [
        "\n",
        "dw1_dt_func = lambdify((theta1,theta2, w1,  w2, g, m1, m2, L1, L2), d2_theta1_w)\n",
        "dw2_dt_func = lambdify((theta1, theta2, w1,  w2, g,m1, m2,  L1, L2), d2_theta2_w)\n"
      ]
    },
    {
      "cell_type": "code",
      "execution_count": null,
      "metadata": {},
      "outputs": [],
      "source": [
        "dw1_dt_func(1,1,1,1,1,1,1,1,1)"
      ]
    },
    {
      "cell_type": "code",
      "execution_count": 37,
      "metadata": {},
      "outputs": [],
      "source": [
        "from scipy.integrate import odeint\n",
        "import numpy as np\n",
        "from sympy import symbols, lambdify\n",
        "\n",
        "\n",
        "\n",
        "# Convertir a funciones numéricas\n",
        "domega1_dt_func = dw1_dt_func\n",
        "domega2_dt_func = dw2_dt_func\n",
        "\n",
        "# Define las ecuaciones diferenciales del péndulo doble\n",
        "def double_pendulum_derivs(y, t, L1, L2, m1, m2, g):\n",
        "    theta1, w1, theta2, w2 = y\n",
        "    \n",
        "    # Evaluar las funciones numéricas\n",
        "    domega1_dt = domega1_dt_func(theta1,theta2, w1,  w2, g, m1, m2, L1, L2)\n",
        "    domega2_dt = domega2_dt_func(theta1, theta2, w1,  w2, g,m1, m2,  L1, L2)\n",
        "    \n",
        "    # Las derivadas de theta1 y theta2 son simplemente omega1 y omega2\n",
        "    dtheta1_dt = w1\n",
        "    dtheta2_dt = w2\n",
        "\n",
        "    \n",
        "    return [dtheta1_dt, domega1_dt, dtheta2_dt, domega2_dt]\n",
        "\n",
        "# Parámetros y condiciones iniciales\n",
        "L1, L2, m1, m2, g = 1, 1, 1, 1, 2  # Definir los valores reales aquí\n",
        "y0 = [np.pi/4, 0, np.pi/4, 0]  # Condiciones iniciales\n",
        "t = np.linspace(0, 2, 200)  # Array de tiempo para la integración\n",
        "\n",
        "# Integración con odeint\n",
        "solution = odeint(double_pendulum_derivs, y0, t, args=(L1, L2, m1, m2, g))\n",
        "\n"
      ]
    },
    {
      "cell_type": "code",
      "execution_count": 47,
      "metadata": {},
      "outputs": [
        {
          "data": {
            "text/html": [
              "<video width=\"640\" height=\"480\" controls autoplay loop>\n",
              "  <source type=\"video/mp4\" src=\"data:video/mp4;base64,AAAAIGZ0eXBNNFYgAAACAE00ViBpc29taXNvMmF2YzEAAAAIZnJlZQAAKhJtZGF0AAACrwYF//+r\n",
              "3EXpvebZSLeWLNgg2SPu73gyNjQgLSBjb3JlIDE2MyByMzA2MCA1ZGI2YWE2IC0gSC4yNjQvTVBF\n",
              "Ry00IEFWQyBjb2RlYyAtIENvcHlsZWZ0IDIwMDMtMjAyMSAtIGh0dHA6Ly93d3cudmlkZW9sYW4u\n",
              "b3JnL3gyNjQuaHRtbCAtIG9wdGlvbnM6IGNhYmFjPTEgcmVmPTMgZGVibG9jaz0xOjA6MCBhbmFs\n",
              "eXNlPTB4MzoweDExMyBtZT1oZXggc3VibWU9NyBwc3k9MSBwc3lfcmQ9MS4wMDowLjAwIG1peGVk\n",
              "X3JlZj0xIG1lX3JhbmdlPTE2IGNocm9tYV9tZT0xIHRyZWxsaXM9MSA4eDhkY3Q9MSBjcW09MCBk\n",
              "ZWFkem9uZT0yMSwxMSBmYXN0X3Bza2lwPTEgY2hyb21hX3FwX29mZnNldD0tMiB0aHJlYWRzPTE1\n",
              "IGxvb2thaGVhZF90aHJlYWRzPTIgc2xpY2VkX3RocmVhZHM9MCBucj0wIGRlY2ltYXRlPTEgaW50\n",
              "ZXJsYWNlZD0wIGJsdXJheV9jb21wYXQ9MCBjb25zdHJhaW5lZF9pbnRyYT0wIGJmcmFtZXM9MyBi\n",
              "X3B5cmFtaWQ9MiBiX2FkYXB0PTEgYl9iaWFzPTAgZGlyZWN0PTEgd2VpZ2h0Yj0xIG9wZW5fZ29w\n",
              "PTAgd2VpZ2h0cD0yIGtleWludD0yNTAga2V5aW50X21pbj0xMCBzY2VuZWN1dD00MCBpbnRyYV9y\n",
              "ZWZyZXNoPTAgcmNfbG9va2FoZWFkPTQwIHJjPWNyZiBtYnRyZWU9MSBjcmY9MjMuMCBxY29tcD0w\n",
              "LjYwIHFwbWluPTAgcXBtYXg9NjkgcXBzdGVwPTQgaXBfcmF0aW89MS40MCBhcT0xOjEuMDAAgAAA\n",
              "DClliIQAEf/+94gfMstp+TrXchHnrS6tH1DuRnFepL3+IAAAAwAAAwAAZUDfKVB/eXDc4AAABPAA\n",
              "xgn/wZp/4kpYzUSQnIcK6l1rvb39YLgJFdawowtix2sGqqQiukf5hE1UVUdHN7oKSJag0qF7LFYj\n",
              "FmFGgibrE2zKZiBVBwjI/iHqqB7Ww+PZV1ASX0qxUBGI7INtM2HByRQZ/ZtC2+qE5PBZfffwrc+0\n",
              "kt5NVfYcqpb24zLA7r5r/bF2PobLM3ca5R09R/kpMJH85sEtPlrTdMqEo3P1SWpr+wWOqPhOytJG\n",
              "9h3DmYNOR8gF2WBVQWXAHho1GnWwIwCiwgwyX5SJ78bldeKwMEoS4+APQk6w79ZkfNmEEjlBa4gG\n",
              "V73brvstRtoFR/kt0UGKHADkXPvElWPHngHbUoyQyZE86UiBzyRls7FnU+uEz84lVZPgccDSRdvw\n",
              "zxlPvgErwTjYAaRY9Ol7fTBOCz0tKu8lQtmzAPbKzLbNpAWXP0RKBJ0rhpnHjO3F8Vt1kkna1Olf\n",
              "NpwjvnZzluNduR4E70AGkRqJpWDyRmIBXxd7+GFpQDT3cAyh9kThUTNGHcGvStlPuRq8KJnvgJB3\n",
              "v2QuCxpv8obl86YyqmIL6zK8WkL8PDheZn/5it96yhgoRvgVylI9VkFXDc6w6grFloMkkdkKvXtS\n",
              "U3v7vDPGjBeUu4Ei0KDTwzUAoVMKSTUQwO1S2ixMQNY7Rdl7qbtZQN7xMmnZuZ5tHsF94J28OPYN\n",
              "BuO2ATzU0CkETTgWTjYX/djU1uHZKikwZuiWVXHaZ5lSRCvSIlIh+jWVv3o5VrjmlEo9rMVpuyNu\n",
              "pkBYevDwgNYrgP5jeqpiNDN6Vxd22p5ISWuajPM99O0njaDtl03YCmFsOtUN67SDZcwvRVW1HCj6\n",
              "sxEYnvd74f3jKjEdUtTd+Gbg62V5X008eEIN9n+tHIO2ZL8Wkm+kV5gRfNcNY0sbYzuPh/rLUIJU\n",
              "5RtIEOZ14ALmssxY1JrHYAWZD0NwF3StCvCcMQx+D9peyUP9zuLDGfUoCwmfbJnIUYiTtKWWe7Ih\n",
              "JzL4mMr7qqe8EYJIBk3xoOo3o2Wv1q5zmueZUPtGDNqoP8jcFKxkwma2T6z/MpE+be+6eo3fMphr\n",
              "8ZcY0ag8ZSIGUz5NPCg0F8jp5q/zu/V8kFwBfoBMPyGfr0i8HP21BOgz4+cir0XYRFDOOCqA6uEk\n",
              "lccKDNcOiaUesek/6WEghym5ibCnsZToFEeN3MaF1uW4X3uKe+txRL+NqQEnEF65/yIgE4Lj5ZM/\n",
              "/iB7VxAAAOctGkB6oAc/oAHmUyCdTZhPGebKMZvUhyP1HV3LGi1Xxmi6NppNv8+K4hEDqk+tP0Z9\n",
              "+58Nn0DycSxyqsVuOAKB3uXKVbJ4amws/eUQBwSzQZwUDx3SDJ3I4koAvzBASA+N65USc1fZymAO\n",
              "25UzC/TU3kTN7P97cl667mxGoFNmSKGuGIQth9bcw/HIxbXOBCDeoVt/mMof9+0wRYbZ9sBz3vdV\n",
              "7Jt2xxUOwERL0+odZ8XCekuz4HmGZTMVPtvOKZQSyDMjLL1lqjkeEq9qaq225BzCKVIduUZ7ea0y\n",
              "mRdKzGn6lCnHrS7HSTAGpFbqy5nKOyhYxLz92fZOOEgBb2ghXCfvMo63AgY7XK0dmtY4o7s6xZFj\n",
              "Lxb7baeFmFKrsBNFF/BKEbG6GxXuCBPjW+EKsK/40WzVRA1i1tugYKjEHX75sAZUS3YPveylZNzd\n",
              "54DUxv8QwefUWjzT96pP7sYDCIAPtf7a8P8+tLzRsBGggKr/iCjeCOcKPlzNVyfVouKnvsr8Vm9t\n",
              "vMgaHXYgxfs9GtySMeLM3sU4XRGiGQRnnJmXoQM7cpeQBN1roOMu86ZNWr/X6eoOZPk64J7ZJnYb\n",
              "Me3qqByinwFgu1LxFM2ttTkj1g0iG3AImO6hTfKDabLsoitDaeWico4JXL/fH1RcWOYvdVJq/n0p\n",
              "yBHbjFgWFr++WUvn237BvBrFSrbZaDTk9WHRTic1R1d2pXebkPLvvaUm0vmwEvo0CG+j0aZA2ggz\n",
              "K6GObOtS2+U88l4AFFMf0LTa9VIT3L7IqHsfO/d0eR/g0AVvB/vY36/zzzK8GqOiWtD8AAADAAPy\n",
              "KB/EuUJyUea6MgjjyW1I++InIIYQFjOqKfASibWNQE5pIW2cwDFL9YaYRwT0t2fRDkQGmAGH1Q2r\n",
              "yBEsquO0zzKlIpRSdZvV691Zi0SN3t38VHDNhKkFqVbV4rM8BYuGXaB8J0Ff8RXlDG45tE9OVRed\n",
              "w9O6EHALykvyYy1Dy9AIkDhyXA7FfZOfzK5QqZ47aBdE3z0PaaN7fiApcAw9beQcggbqqfAveraf\n",
              "GjTExEWz9l0L0smZudkB7p3cgdOwxwfUUCrqhB0TPdMNplN8Li4bHjVbi+cNSDS/ocACaPQOmL6t\n",
              "Qo/BQAABDQsa6mBfa0VNL1Vxd3BJz4ft/lqH0/n6oeXT5e30IXYSzUkLz9vAnC2QhDf/RJDCEE6d\n",
              "EHNKSZ+POJ1n48FsH+SIiSFXVClgSGtZbwb2j9SQGjhPLbrPoOa6RkYfYLAFeIqhRpe2v9P7B4yb\n",
              "RGp58i38RHy/qNTH7UPCWn5FsK7cj6BK+LH9JnXklc+bJsyF3XfbwvrwVwIVfDNafyE9wl6Kkblc\n",
              "0LTT0G0RhG4iadrnOzbBIC/mRSC/cTrmBnLNMiX5UxoXXUhfyT0ynMBhthvTKDa53BSH5OTbbuWp\n",
              "B2+3eYd1YKALX2BLpQG+xk6uKQQsc2SISSN+BsEv1njf2NKdKpbbaCJnjKd1qdkmd134/VVOGR3A\n",
              "S2vK0SLJG5YlPoJ3c4P+5u+V6+0hwEXp7ybMVE9YRRvTfTVsfWDVO0AFS2ZrdquZdt0hiMQLAUik\n",
              "3w5uUu/LRjlQMQMx9D0vGftLmW3loiZroX/Vvd99IV0O8qRTdPB9+K++nKebMDvU8uOEYtIcdRyb\n",
              "VMRfpP3rN8FNYuplDr539npd3UMVYAwyvfatYfZp0yl6Nek5ag8AKOT//0JqixagDYmCLjw/gB4X\n",
              "QEWMNkRJK//GLPL3wKOfTs1TeLaaMjvAeeU8S5pAe7tyinyFLyGUlW0h33ElMvMmtAeIXf9IzMjf\n",
              "gJ/plIIay4Jib41Mz2kkTBRnZgPGhcdy9IXrN/XRSzgLCWDzfaFFtK1jnMJPTh5bka2BbumaQx98\n",
              "/bMdAbSKepgehRyu84SGjD8j7Swz4fGvFQEvz90HahnfHSjAaeSP+N9gGU3OtE3RL5C7g+wSbk3V\n",
              "I+ucC8CaMJTPLSNvwEN7OgM2Db+J20SciuLi1e11fxiS9oThzW5vpQa6Ka2ukj9fyxuM+72kcH6y\n",
              "WHD/vOKF3y/Y8pKI4Oo287lP62FldwFMZ2UwRj1f9wDDCEmWG7zKFBe5KUPCc6v57JAbzrRxhD0r\n",
              "KTuPJqbJkMl0JDnPkl6C8gS0DuU0CcEvyaN0voWx2+caM09H3QeEWpTuvi8T8uqIWwUYqWRT+dIz\n",
              "bMX27e+1MLGsCCWvvIiPv3hsLXe5+WuRFy2crPJqU++8seNeE8B06Nfsep2KGnVfZX0Z8nrtP2w2\n",
              "7KUvfUYbcv964D5yk0mmKXCbEZqWJL5497Y/nNmvcLPFJF7n0O21W7gVd+LMI0BaMkAUJZW0Clmk\n",
              "NnktzVUa/mq0ew6Mx+dSi/N8rdeJnvipZJQsxH/PPNmu9E1YP1WpVZ9QyoLVo5RQtQbPJ+9a1Ro5\n",
              "gLuXXHxe1DVgrPDgwZz2teGOPw3Epj3OasTLtB9MvTuDaGNmpjTng4fE3OVL942mpf0rpRuglPfH\n",
              "ncrNxm4pKrV9vkqHSd2JMT9z+m2rhGzoqTyW36PS0WuxSd+yzCkemiZ3oT/7iNkL5/fEeKg6ZIgp\n",
              "hsJTottL9eAGGm5uDJX7W5IrBv5m+XT/GgPIuIETXa0hAEq5M5KtjUeKfMTp7VvnPj7wnNY7qmJb\n",
              "6gVL9PNNI4RVPuNilM1+izgXaB+mmVFv4ZfuVz2mRLbUTQQKieJJXhL129z4gT+rT/nseHK72AD1\n",
              "6P06X1j/mVsmZ4Nt4OJAf2IDhkTdA9cQShk83A1XUqtHStc7IR+Ilm5pKNlKIZxNgEacX9B6ZGlb\n",
              "LxqJKN/TL7dKO1nI0xg5O1LfIBuRSpIiHOH9+LI3kAAAAwAYsQAAAONBmiRsQQ/+qlUAAiPLn7HW\n",
              "vTzABNGE8flugLL0izCMkyQiz43ygm6XQjnh/EhTGB1T1VErX6odbTaxchFX5Nk9O3wun3PfReAQ\n",
              "lMmg9pzzFIaTTRoXmu/yQ6sBgnvZ/co91H+A4sCOrk0AUj7U1aepPiuL/jVK+tVOACBECQQqFWd4\n",
              "opM3CQ6rGFFB8Aqes4vs+aW/33xxKB9/Om5mcP1QzJP22VAI6zgwh6Q2GaDJYWBD4C4yKpp4KdrY\n",
              "XHZ3diOZNvPgQTJ0pVrq3g8ysdYoB6q4S65jyf6fjYI9b++zG5E35AAAAHJBnkJ4h38ABCE0OW9S\n",
              "uU4ABL1P1sMYtmkjcfQrKN7OU3mbaHXWJcxQZv1RDmLWJuxkBANLU4B9J68zIj04CAZEMmA6gIeP\n",
              "IpDlcdllBGheQ6VrpUgdn/9mmFZHk8ZQ2Hc4KSVapDQcO1/lXjD4A3QjoeEAAABMAZ5hdEN/AAYh\n",
              "CPuzFcuAEGaxyZBRycsUf7e7iGTu7rqYKaGEAff21ogGK8l2dOl2JlIvgzLk7QTGBIcQ62xGkf6c\n",
              "+YH5G5VwA7VJ+wAAAF8BnmNqQ38ABiAA2yaNmyG/QAj1RhY96ylpFR0gwVozcMlNYiN5599Xjmkh\n",
              "OuVs1jpqA7C29OtCQKfUFMwmgRG+/qaC/3Px5tYa1acXcWxH/SzBP9oo/VupGA+Ayo73QQAAAJdB\n",
              "mmdJqEFomUwIf//+qZYACIHzVAqPkSunAahTvFjVfcoqRyFiLVybWD9yhWLbhL//UmcLvt//4GVg\n",
              "ym1a7rMYsv0BLD3kN380eBcz54Bw0Qbd1hRP+nZqPOGJQojLP7FWXveUk8nlLLlOnGgFVEH+bq+k\n",
              "eQC6Ml3t8KWsGWFYvYpYYZd309eWky0Y/hQ/QXExYAZoXXmBAAAALUGehUURLDf/AAYfONx2cpFJ\n",
              "uMLXRZ8pWZqaPIeK6wf+r4zvIgQWafzGyQDAgQAAAHEBnqZqQ38ABiPuQBf7kwAgU/sKOyIncqT2\n",
              "aWoZOb0xKmot5O0Zs8EiTbKX87+hNc3bg4rsrEdiMibEL+0F+5wpASTsNcI3R2MgXMAAVAiHKFvG\n",
              "cLFWyca0tR5SSBAs4xd65K4Cw9nqCme/BgWA492zsQAAAJdBmqhJqEFsmUwIIf/+qlUAAjP1UsoR\n",
              "oZ4gXsGPIEdYlO6MRajf/L2Sl8ZCuJ1+FjNdRXrfOtx5gs2iu6z/pZk9YjDcaut5n9QV/LiNzAEs\n",
              "TglhS1lTC5b1D50tP8Uixf0HEnojipEcKLoVQeiNiWnKRvSlf+crY8wM2QxbRQ63ZawgvPe6QGbx\n",
              "BgaDhjEB4BXJ9AHXmGaAAAAAO0GayknhClJlMFFSw//+qZYAAxWKV1JtYdHiLqNAYIgEdUr3iah5\n",
              "qGgIg32sKDCyoAF9m6h49nmkwAccAAAAhQGe6WpDfwACK1Cg6xTABLGuzv6W5/x7I3cOZ9epqJxG\n",
              "0ypol636egLMrJw1cE4MGtTOgt8bd0oi84pEkv8A1q9CQMPCEdBe02HYp3hkxOFTk282DU519LFT\n",
              "aMtKcyk+Qw/dguJXwfvd9rd9xE3e+uyAnp7NJfaHIgAUN2H0qrnFm0T8ASsAAACMQZrrSeEOiZTA\n",
              "h//+qZYAAxUVtnuKqACdTHg01aH3l8SVTlnNbaaC5qT/eMjeC5QST+EIxSlAwqjBM6QnLmfStTEG\n",
              "tZyuIX+DsecchNGvW2KrPY/CwBvD7RUA5Vm4zlACF6cQ4e0vbjKR77D7NMlFSfsGNQGPIuxBFvwn\n",
              "7AxzXSLyOHKxrdUQnwxwAfcAAACJQZsMSeEPJlMCH//+qZYAAxnulQAPjWjfxYIAJyUoWBX3jvkY\n",
              "w0kJ4D3LhHoXeN3RGU83sROPK9oXaKWjTwC1w/f6metaIcmJwsAbwjRqj4mriOoZxySQLzraaxBB\n",
              "KZEJyQA+TUu0wktlrRw0+9g0llM/CUElFWaoumlIyagSk7RabISx4C+zKT8AAACDQZstSeEPJlMC\n",
              "H//+qZYAASAwvqMK4ATTVOeNBrqf92gPLWOOl77BP3z+HHnUA2X84t9Wwf4/GzPPJKQYq9nt6eIp\n",
              "Tag6Uv3xvhMPv9jgQE3kmzfOEgzKLwK3aMbrSUi8Bt2wXdUXuPzMY/Na58h1o+k2wFUh3+p4rP3N\n",
              "Q2EPIEo8sN0AAACSQZtOSeEPJlMCH//+qZYAASFuE12m5hYABLCZ3kKfaIAqP12A/hSZyhdFIq6j\n",
              "kRsVwvBpp/Y5+SBsmU5Mty68ZZwatgd1aJ73zzRQ/rOIkQCtX/4j3nbOhFp0caS1ok/egpr4f8iv\n",
              "MREjVmXkrYZvbK7r7r88k0kqAvy/ms7UFADfUpszla1UYnE1Vn+cLingIOEAAADUQZtvSeEPJlMC\n",
              "H//+qZYAAShienzt1SQA3Y88ytYnMp3Dv9ug74SugfyYkH+xKDxJIyKKv2NCTNOQmp7UQQ5IxJMr\n",
              "jhHDCIk2xdHPYvrDYrK0VYdWCQJyXmOQP97yyn68b04IRAEkPnarQuXnQXLYU+5LgJ4DwySaJILs\n",
              "cwpqMRYJX4vgsVB+7rAq9LhLGUrjIROQd8XEB6xyC9Q1DocjCwEpayi6V1qCPVCzJ1GkBijVeaFj\n",
              "5P90Xbv0Y/+Dl0SN3Cr2byr/SAJWx3+4YE9MbEEiAQMAAACrQZuQSeEPJlMCH//+qZYAASifgnym\n",
              "6AnH28E78iRLJsYTolKc2d++tw/Y1yE3RA0zfhC38eM+80I0Fub+OCvsDSuPfL+nsvV4F4o0YA3e\n",
              "vCB36nSk2J5e5u10/Csun5fOb8adyzgOgHSNdcdUWiDfKkHhYfPs25JhX/pf4cjQ3+bOVPqOJEQp\n",
              "NjBAA2GDyyKWCOCjXMwYtLnCSH8FzDXblgBF2ZRi7Y3ClHkYAAAAb0GbsUnhDyZTAh///qmWAAEp\n",
              "+ZTQowgYDjePzKWQDRPdybkvXK8EZLqvu8TpNwnZ91glPPWkr9M+nS8RGlznXVziYQKMaSBgNPUw\n",
              "hHzHUj1pbfBUA2ETloyNTqJh/4kjF2x0VK6qY8SQbKXvijgvYAAAAKhBm9JJ4Q8mUwIf//6plgAA\n",
              "bQVf162AgDiZ3A6RtfHKn05RGepQ4N90D07jwI7nsQA49+mbZiSrot1N/KUJ6EK8vecdoPbGBzAv\n",
              "tymiQGLIuarWO5YS0C4du8X18wJXFj41TcyvlhuQyRIt44EKio+sB7Os6DrtmdRnEfLs/ud/wral\n",
              "JjtP3EaDGA+L/O02LeijTg4FticgJfcwWL8ylLcs3ddn5y2EtIEAAAC9QZvzSeEPJlMCH//+qZYA\n",
              "AGyWZEz5MPMAAr/mddPqNjOMQ2tzSVTVYhE65EWSdAbSHpSyat1tlsBu8uG4c1RqfYeH86475UK4\n",
              "Vt9KrrVHgdDPZSjLS6UM9ddMe7neD8o0ZnoG8CZ8tFRXUDYMRorBsvPIU6fwRftepAIT3j3k5SeJ\n",
              "qavmVQnlJ9WjXhe1BD6paxvoJjbit7bPuk+gc3LGobPZ0aFp2fTI/O3GyZ/PMduboqTM8fQT+geH\n",
              "HQELAAAAuUGaFEnhDyZTAh///qmWAABsrRgEx2igAnb5Vw5dAB1CqFeOtqTdRtQQLMKr7HagyunK\n",
              "ayHAtJfZe6wrDrbF25qxVl6UWi97aGPfltU2wtz6avf/dt5aUC9UGG2hen+dq/dlGAN93AyGblvk\n",
              "tEK0N62fROJkLTLjwbZaHYFrNIJwPTcAIzwv+fVp8ftLowPiozFUWAZh0rO95nHEX69qT3Qz2IQ6\n",
              "HZfJZselPObe8K3lrjlgV1c/MN6AAAAAoEGaNUnhDyZTAgh//qpVAAAcn3qXMxivqUOt1p1TxIAV\n",
              "/7AkOBjJS6bsCeU1f49ZU3RcvlUktUa0dSKODzKkEigFzVqugevyOgBKOBIAbFy/wTcnq842ZZMg\n",
              "2dUpiNkQSkDljDSl1wQUjmX0Df/W/vr2qb4MRYQUax2ydzVsZzWHYqOfnUtIVrG/92c1/eHMsfaj\n",
              "/WQ5P4EjCnhI49ANiDkAAABzQZpWSeEPJlMCCH/+qlUAABvvepk3BQgMNTrEXjjABmq/xdT/6gOU\n",
              "erVY15o+gn98ewo0sr4BqGJrmFmsqowAboAd7ByWpnY/az7HEX+mMV0pesCzfi1OkQ6JgiwAG3t5\n",
              "VjCkJ3ddAzmhIrM5pbuOKIiBswAAANdBmnhJ4Q8mUwURPBD//qpVAAAcn3qZOZy/ld3Z1ABtV3pC\n",
              "P4jluQ+MXPOp445QIR24AvkLKUufCflVEuHlylwGOqIWkS1n+eUU7lx7uEeLBrmY2pkFL0n5TOU7\n",
              "bHlRdhXB+8x1dQ9BvBq/J6NdU3xXDF5cxOuOduGgEZPGtr//+ZirZx8y0mEmVlRjNWf7xrqOBuQx\n",
              "MuDlP/pBQac33dHWbwYpwiE0VMLAkb55lKztXbq2m1fuIPXGeRcnDv5qIkp//oTvCsj9LT9nUHpf\n",
              "2H27sKT6DxznHQAAAFkBnpdqQ38AAE+Twi2a/SPmqQFgS1oAR6o4+uKF67k4S4g+V6kK3yJhzZ+G\n",
              "jIaDrqAvEAZ/r0e5WgLKzOXqUFXSb3Sl+w4DvBCDQtP4HOd/O0vgubB2XHvzPwAAAF1BmppJ4Q8m\n",
              "UwU8EP/+qlUAAArg0ajcF6j2496mbrl5/I0v88IRABp1D9Fx/4MtroAkCVkovbiTXkKtH7WWVjmp\n",
              "xdU3otwZcI70lQllnyFhxVzMzMBHKlgBO/AJnzAAAACPAZ65akN/AAAdsoKV8ylVAAS7PBJxhmc1\n",
              "QsrBgeN2IW2oux5J4Qa3Q9jZqBneNeREm9EclcyHjvgBGdAF9v4MZLcQAC6MX8V6T1gN8d9RwS7D\n",
              "mn77UvgJFxzwq+DamRttkx3fAx7y29IrTj1Zv4TpbF3B3h5Z2H1ABRfE0Yw5TX0cvmMMYvT8vuZc\n",
              "u0Bt7FkAAAAvQZq7SeEPJlMCCH/+qlUAAArkWD7tkvgc5IgOEExgOYAFGLdZVTMp08PA32Yu464A\n",
              "AADOQZrdSeEPJlMFETwQ//6qVQAACu8N/vDh54DMtBBFwpBKgPIBVMfGE5bZsTBO3WIShflbtncl\n",
              "mVT48Ya6/ElgSyYaQGHqUx+lP188VzhOvGL5EQlrNiDnBSjgwANOpbIZn7XcwTavjeidfCplUNe4\n",
              "woEPurE8ww/2ufOFcov200v3aUJCbOxGMTJ9/FJJCuBDVwnEK7oRVXj5iL0hk7UC2LAvC3F6s0m4\n",
              "AJqdOE/aZu0JPvuSD09AURD03geeO94WdsgH09T7rgl+yKlcAsEAAABdAZ78akN/AAAdqmuf+uu/\n",
              "z4AVeUvb1Cj0TRPPXrKKqH6uXyxQUryXhYWC/IBP4b9IgOn6GBPe/WLypd6iPwAMrWjlqp11a3Ps\n",
              "yOoIU+YQrktjZGhqnSk6dLqoaQ1NAAAAuUGa/knhDyZTAgj//rUqgAAFd+gxQCwkHftx9wAJo8bn\n",
              "vPLDC5OEYBf5fgH8mu82WSwckQ3WXTPu7aouSMZeodZh0kcgXEbmm7YU5fPH37SN+PCIuB1+S2Gs\n",
              "ABb7m/gmG8iNv8SLDrjRdDpEGy0tG5OCvdzYLF5QbpgDFfFti97lKFfhHRTBh6eab6O3xbwtADww\n",
              "vXHOCIWQWOEAvEBTPskkSPIR7DgVEaTfzpMiw0Sj5Lnw/Deqwk7AAAAAY0GbAEnhDyZTBRE8Ef/+\n",
              "tSqAAAIAzrGa1KAHMuKyYLk4Fm3sN3H0gRf/9P8In3chm1TfZpV16tKsSp+/AWk78+sPZQxNZeHb\n",
              "XEZtCP3BtIYAFnprN9RlYd1T4m8lb9pjF+mZkgAAAF8Bnz9qQ38AAAtbzwKKGbW1LgBBlTI4Puz4\n",
              "W0Ea2n1aY8rAdhNqhti8ZVQ6Z5vUPIThgACqB+eWQMX9MXu8QmGcDyC1CG8rzIRZyqGqb1a7CNgt\n",
              "xx6n/4mzP33dpPeswQAAAKhBmyRJ4Q8mUwII//61KoAAAhDPALr3nAC2kfe9SK7n6PPuaGZFJC8x\n",
              "VMW4KyzBKXLPTZ3c1E5/ef/1gNkEReDi79oiBDY2PR+pIgQDD7M8Q9t1gCAArtNOUOEuM8qhtTJ/\n",
              "RuC8/yMmXjf8b+B4FBTfRG1/x/4tI5E2Pt/Ck44zPDgEerPIDOrh+fBo8jeGrIDT+qiTB6pcme9O\n",
              "+AKrfxCTjwPZi1ozHEAAAACIQZ9CRRE8O/8AAAgEf2xeKANvgBHqmvZDHsIcGr1AJrAPvB7qrntU\n",
              "GpTNge/av6g/kjz5KDp7cPxQ6KhHpfiaUsmOt7uPsr0M+6wkf8orexiyAxngA11PbH2gFBe5eDqx\n",
              "obL362KO7LnNjW9qistjlSoOzV5o3lmPamVQyin+crGD8PCyWFnIwQAAAGEBn2F0Q38AAAtRNb8R\n",
              "51twAlrDho/A+CVz5W0WUa+EEDMyt4jqMSiOjZh0tZOCUTvn+CdpH1e0YZUCKyxgpJdp7+6NnTgh\n",
              "TuJX20i5CYvEov/1muOfYySAivKE688z/CUcAAAAhgGfY2pDfwAAC6PPM3vEuADaUTO7vbUv4GYK\n",
              "Rjs/V2ccbK/6xudoUp6yEmBPmsGxFFegpfS0ENlPZ9ogqL1d3L4wxl0nZ3yiR/S1m1m4lPZrAiEp\n",
              "MMj+M1fCykYuH2hhcqBcK7ZaQFFLTt5yPt92BIhO6pW2ujBNpXBPXtmI6mwOfTQG++MvAAAAoUGb\n",
              "aEmoQWiZTAgh//6qVQAABCHEkGexxEAHAU6ZQIGZXsN3rj/DDQWbJ7xgVRVxlkjwRD8C6yTxeyQQ\n",
              "AAqNX/xXjaODXnI9rqKcAXGSPU2x/JSOIsz563+xp9n+C54hEu9iypkti0lcTowIx0fWZxp9i7ST\n",
              "hyk+ClitdeJvsz4pfExjaT65LVAGBmZnnaNtrfplqFsvbQX5kyisyIWqvsDpAAAAjkGfhkURLDv/\n",
              "AAAW5WAVvmPHgSxWIAahjNInA6hfD5wshuGa8tEuFgCa9O2CfQvtE27cIuR5b8sclFdVbhLQpW0+\n",
              "fmI4EcFOkBp+jWHhuXXAOUiZYGwUmOt07NwgQP2uW899HWG6oU8LayAcj3kTmEGsX1pMN9XhGHEQ\n",
              "7Ve4K97qr0SUNYOzo6661qWem4EAAACSAZ+ldEN/AAALn/FzWtuAD8e1usKTgNH/Zohlhuox2bhh\n",
              "DrnOeQScl/TyYHWuYr+ox4N7JMtS8OTkMohUUCOTyq/womoThekF0HOU+BKRN262u8O0isCKuNZd\n",
              "xDDQA2qj8Kfk6YhOqE3YEBVW0UH1ItN2eUxGXTpPlJJJ8PR5iIbGw0Vs85mkzC+dQQcrBhtuqIEA\n",
              "AAClAZ+nakN/AAAfwogaK0rX1Ldg0AI9HnmbJyzIF1MEPWZsXb93C0uDq66mhFNep12ou/LlmZUL\n",
              "Uk/XLibqAZHagR4MQNqgteTDdOzXYzAdw/pPWWqbc2qCYcxhMHGHWjibymWJeOT6019ZQz4oT2Bo\n",
              "TZ57cYSpBjxwXY29Npe+0sQaBfxOmlXM1zvkEWKQDpNVwS4tvU8lcFPHxwJ/8Ywo98fCb4PAAAAA\n",
              "qUGbqkmoQWyZTBRMEP/+qlUAAARA2jm0l4ATLIsjToqUn4i+X6oHaPz+URBkiO8LD+33g51l5SM5\n",
              "8BP4hIIFSJcbOneqwrx9oxR+tesUD6uEVKVV8X6fGy8iVGm6czRk4EGS1tIedhrJRYvPsrb6Q9/Y\n",
              "vuavbx9ykIEQ2A1wlXULobWXSoSViGr6nO0CLG+bGbvwEwbZAh/9O9+7ip55Yys6wG3jFEeNEdwA\n",
              "AACdAZ/JakN/AAAL8THgcutACPS2kqIroiq4n5AlWgk2ZAM9czyTYQpg4OGqeOWiWaDeI11XrO+t\n",
              "QlQILsQ5qj7sMKnbclu9b7o0UCZCne7XM7e6f14RV929Vk2jCMeVGXKBF7yLfTPO0s0yRSsddKZO\n",
              "PR752BbKw9cCzhFbnBbD1XzjvBFXr75Ztyl3uNxW3xwt4PrTjC14rvkfWnyGQQAAAJ1Bm81J4QpS\n",
              "ZTAh//6plgAALvkvjwCzLf3YeWgU1YzoTtj0DotjvE/k317RHWxcweITAkJ6BJRSyY6dDvz5L1P/\n",
              "5LB3JSoH54qEnneFOALkElN86pjjpzLu3XLJNJpF/gHs1cVfVkeYGOnu8xXv9RVRQbZvmEMFIO/f\n",
              "n5vrgza488k06TsGepEIysUGIsnstN1imJidoR0JSiKFz/WUAAAAWEGf60U0TDf/AAAgtuAUgGLV\n",
              "ZmBg4J2QKfjt3H9409UnJ15wFIBFbrCDiTIoU1lnsyriI+aARTKBRSu93OuPguzt303T3NQpWSvh\n",
              "BCNZhi+jJudLOtlmvu4AAACEAZ4MakN/AAAgtQjOgCtmmHBqBtP9ZPB0aCfCw1/joADjdZMsCo11\n",
              "ZRD5RtmflfaeW3YAFihC3RXJ+T7yPwDffZwcimqMyWjHU8Mvdu1C2J95fYPHhARCdAYb3+Mkv1zf\n",
              "ucfufWpt6HZmB3C2VcUJ5R35xHsN3MMJAEteQesYAIoX8vyxAAAAbUGaD0moQWiZTBTw//6plgAA\n",
              "MBimR4PSAX89XIiRG/LAAUji30/5d4YUAB2aIj9EB5PhzQO/YVP4qo5hyJddH6O2w4aDYLdHfaBn\n",
              "N1vWPrJOXf+JnmZ/TOSk1UHlU13jxPQM6m9iXu+rbk0vKv8AAACxAZ4uakN/AAAhtQbrswARj9Je\n",
              "VcdAWuw3cKG69va+DwdShZca1MN01VKiPswJwKnVkJQc9wPUHRcXo0LY82YjNgNgrmXP7MTfEAcv\n",
              "2EOhtQnY19lNHTtjyLCjIpTGUCf4/6qx6GgekCO4WxJoYyMnmywO2B9Cef9IqoaUifKouX/oqOyo\n",
              "y9Zly8ektRntlc1OQQGbDWb3pRm0pi+4STxvbc2+417xWaAAqyy96i5Vn7yPAAAAtEGaMUnhClJl\n",
              "MFLDf/6nhAAAX875WVcdcCAC5+kPVbIlGMwN6CLaF4iP0djLye3y6/XzY8aghzrEIUilH+lWXgKt\n",
              "kEcJL6CncB19BywVLxzqHCSL2bVo9zABXU/EWefxKiqShKjbeQ+CBvs/4o5dnBJ46BflqSaRo1gK\n",
              "7Mg/gMKMU9NhJHF2UIFosYnS3Ufauk9yB2mOgyo2DKHjzkDZxOAemtuc81lIe0Ub4xXJOoHU+L35\n",
              "8AAAAJIBnlBqQ38AACK15pNV3RABxceLDXM5tjBzJKnWLrnQIW7NoEtJpKRkUsxWPKBpmvdkstxr\n",
              "YKmkVzzYFP0RpYKCPcgpnb0FWoK+JavZACsntwbLndw1SH/WtmVpfZNW8tT2Govqqqtwqgy63mGw\n",
              "jFOZO9YBCTw/MP7f3N/OWKIwORH4NcmrCu48/U2jdNvchoYSCAAABSJtb292AAAAbG12aGQAAAAA\n",
              "AAAAAAAAAAAAAAPoAAATiAABAAABAAAAAAAAAAAAAAAAAQAAAAAAAAAAAAAAAAAAAAEAAAAAAAAA\n",
              "AAAAAAAAAEAAAAAAAAAAAAAAAAAAAAAAAAAAAAAAAAAAAAAAAAACAAAETHRyYWsAAABcdGtoZAAA\n",
              "AAMAAAAAAAAAAAAAAAEAAAAAAAATiAAAAAAAAAAAAAAAAAAAAAAAAQAAAAAAAAAAAAAAAAAAAAEA\n",
              "AAAAAAAAAAAAAAAAAEAAAAACgAAAAeAAAAAAACRlZHRzAAAAHGVsc3QAAAAAAAAAAQAAE4gAAAgA\n",
              "AAEAAAAAA8RtZGlhAAAAIG1kaGQAAAAAAAAAAAAAAAAAACgAAADIAFXEAAAAAAAtaGRscgAAAAAA\n",
              "AAAAdmlkZQAAAAAAAAAAAAAAAFZpZGVvSGFuZGxlcgAAAANvbWluZgAAABR2bWhkAAAAAQAAAAAA\n",
              "AAAAAAAAJGRpbmYAAAAcZHJlZgAAAAAAAAABAAAADHVybCAAAAABAAADL3N0YmwAAAC3c3RzZAAA\n",
              "AAAAAAABAAAAp2F2YzEAAAAAAAAAAQAAAAAAAAAAAAAAAAAAAAACgAHgAEgAAABIAAAAAAAAAAEA\n",
              "AAAAAAAAAAAAAAAAAAAAAAAAAAAAAAAAAAAAAAAAAAAY//8AAAA1YXZjQwFkABb/4QAYZ2QAFqzZ\n",
              "QKA9oQAAAwABAAADABQPFi2WAQAGaOvjyyLA/fj4AAAAABx1dWlka2hA8l8kT8W6OaUbzwMj8wAA\n",
              "AAAAAAAYc3R0cwAAAAAAAAABAAAAMgAABAAAAAAUc3RzcwAAAAAAAAABAAAAAQAAAThjdHRzAAAA\n",
              "AAAAACUAAAABAAAIAAAAAAEAABQAAAAAAQAACAAAAAABAAAAAAAAAAEAAAQAAAAAAQAAEAAAAAAC\n",
              "AAAEAAAAAAEAAAgAAAAAAQAADAAAAAABAAAEAAAAAAwAAAgAAAAAAQAADAAAAAABAAAEAAAAAAEA\n",
              "AAwAAAAAAQAABAAAAAABAAAIAAAAAAEAAAwAAAAAAQAABAAAAAABAAAIAAAAAAEAAAwAAAAAAQAA\n",
              "BAAAAAABAAAUAAAAAAEAAAgAAAAAAQAAAAAAAAABAAAEAAAAAAEAABQAAAAAAQAACAAAAAABAAAA\n",
              "AAAAAAEAAAQAAAAAAQAADAAAAAABAAAEAAAAAAEAABAAAAAAAgAABAAAAAABAAAMAAAAAAEAAAQA\n",
              "AAAAAQAADAAAAAABAAAEAAAAABxzdHNjAAAAAAAAAAEAAAABAAAAMgAAAAEAAADcc3RzegAAAAAA\n",
              "AAAAAAAAMgAADuAAAADnAAAAdgAAAFAAAABjAAAAmwAAADEAAAB1AAAAmwAAAD8AAACJAAAAkAAA\n",
              "AI0AAACHAAAAlgAAANgAAACvAAAAcwAAAKwAAADBAAAAvQAAAKQAAAB3AAAA2wAAAF0AAABhAAAA\n",
              "kwAAADMAAADSAAAAYQAAAL0AAABnAAAAYwAAAKwAAACMAAAAZQAAAIoAAAClAAAAkgAAAJYAAACp\n",
              "AAAArQAAAKEAAAChAAAAXAAAAIgAAABxAAAAtQAAALgAAACWAAAAFHN0Y28AAAAAAAAAAQAAADAA\n",
              "AABidWR0YQAAAFptZXRhAAAAAAAAACFoZGxyAAAAAAAAAABtZGlyYXBwbAAAAAAAAAAAAAAAAC1p\n",
              "bHN0AAAAJal0b28AAAAdZGF0YQAAAAEAAAAATGF2ZjU4Ljc2LjEwMA==\n",
              "\">\n",
              "  Your browser does not support the video tag.\n",
              "</video>"
            ],
            "text/plain": [
              "<IPython.core.display.HTML object>"
            ]
          },
          "execution_count": 47,
          "metadata": {},
          "output_type": "execute_result"
        }
      ],
      "source": [
        "fig = plt.figure()  # Creando la figura\n",
        "\n",
        "# Inicializar la cámara para capturar cada cuadro de la animación\n",
        "c = Camera(fig)\n",
        "\n",
        "# Establecer que los ejes X y Y tengan la misma escala\n",
        "plt.axis('equal')\n",
        "plt.title('Simulación del movimiento del pendulo doble',\n",
        "           fontweight='bold')  # Poniendo el titulo a la simulación\n",
        "\n",
        "for i in range(0,200,4):\n",
        "    # Calcula las posiciones (x, y) de las masas\n",
        "    x1 = L1 * np.sin(solution[i, 0])\n",
        "    y1 = -L1 * np.cos(solution[i, 0])\n",
        "\n",
        "    x2 = L2 * np.sin(solution[i, 2]) + x1\n",
        "    y2 = -L2 * np.cos(solution[i, 2]) + y1\n",
        "\n",
        "    plt.plot(x1,y1,marker = 'o')\n",
        "    plt.plot(x2,y2,marker = 'o')\n",
        "\n",
        "    c.snap()  # Tomando capturas de cada instante de la gráfica\n",
        "\n",
        "plt.close(fig)  # Para que no quede un gráfico en blanco para la salida\n",
        "anim = c.animate(interval=100)  # 50 milisegundos entre cuadros para que la animación no sea muy larga \n",
        "HTML(anim.to_html5_video())"
      ]
    },
    {
      "cell_type": "code",
      "execution_count": null,
      "metadata": {},
      "outputs": [],
      "source": [
        "fig = plt.figure()  # Creando la figura\n",
        "\n",
        "# Inicializar la cámara para capturar cada cuadro de la animación\n",
        "c = Camera(fig)\n",
        "\n",
        "# Establecer que los ejes X y Y tengan la misma escala\n",
        "plt.axis('equal')\n",
        "plt.title('Simulación de la trayectoria de los cuerpos \\npor Coordendas de Jacobi',\n",
        "           fontweight='bold')  # Poniendo el titulo a la simulación\n",
        "\n",
        "# Bucle que recorre 10 iteraciones para crear la animación\n",
        "for i in range(0,500,3):\n",
        "    if i == 0:  # Solo añadir etiquetas en la primera iteración\n",
        "        plt.plot(r0[i, 0], r0[i, 1], 'ko', label='Luna')  # Grafica de la posición de la luna\n",
        "        plt.plot(r1[i, 0], r1[i, 1], 'bo', label='Planeta')  # Grafica de la posición del planeta\n",
        "        plt.plot(r2[i, 0], r2[i, 1], 'yo', label='Estrella \"e\"')  # Grafica de la posición de la estrella \"e\"\n",
        "        plt.plot(r3[i, 0], r3[i, 1], 'ro', label='Estrella \"s\"')  # Grafica de la posición de la estrella \"s\"\n",
        "    else:  # Para las iteraciones restantes, no añadir etiquetas\n",
        "        plt.plot(r0[i, 0], r0[i, 1], 'ko')  \n",
        "        plt.plot(r1[i, 0], r1[i, 1], 'bo')  \n",
        "        plt.plot(r2[i, 0], r2[i, 1], 'yo')  \n",
        "        plt.plot(r3[i, 0], r3[i, 1], 'ro')  \n",
        "        \n",
        "    c.snap()  # Tomando capturas de cada instante de la gráfica\n",
        "\n",
        "# Mostrar la leyenda solo una vez\n",
        "plt.legend()\n",
        "\n",
        "plt.close(fig)  # Para que no quede un gráfico en blanco para la salida\n",
        "anim = c.animate(interval=100)  # 50 milisegundos entre cuadros para que la animación no sea muy larga \n",
        "HTML(anim.to_html5_video())"
      ]
    },
    {
      "cell_type": "code",
      "execution_count": 40,
      "metadata": {},
      "outputs": [
        {
          "data": {
            "image/png": "[encoded data removed]",
            "text/plain": [
              "<Figure size 640x480 with 1 Axes>"
            ]
          },
          "metadata": {},
          "output_type": "display_data"
        }
      ],
      "source": [
        "import matplotlib.pyplot as plt\n",
        "import matplotlib.animation as animation\n",
        "\n",
        "# Calcula las posiciones (x, y) de las masas\n",
        "x1 = L1 * np.sin(solution[:, 0])\n",
        "y1 = -L1 * np.cos(solution[:, 0])\n",
        "\n",
        "x2 = L2 * np.sin(solution[:, 2]) + x1\n",
        "y2 = -L2 * np.cos(solution[:, 2]) + y1\n",
        "\n",
        "# Configurar la figura para la animación\n",
        "fig, ax = plt.subplots()\n",
        "line, = ax.plot([], [], 'o-', lw=2)\n",
        "time_text = ax.text(0.05, 0.9, '', transform=ax.transAxes)\n",
        "ax.set_xlim(-L1 - L2 - 0.5, L1 + L2 + 0.5)\n",
        "ax.set_ylim(-L1 - L2 - 0.5, L1 + L2 + 0.5)\n",
        "\n",
        "# Inicializa los objetos que se animarán\n",
        "def init():\n",
        "    line.set_data([], [])\n",
        "    time_text.set_text('')\n",
        "    return line, time_text\n",
        "\n",
        "# Función de animación que se llama secuencialmente\n",
        "def animate(i):\n",
        "    thisx = [0, x1[i], x2[i]]\n",
        "    thisy = [0, y1[i], y2[i]]\n",
        "\n",
        "    line.set_data(thisx, thisy)\n",
        "    time_text.set_text('time = %.2f' % t[i])\n",
        "    return line, time_text\n",
        "\n",
        "# Crea la animación\n",
        "ani = animation.FuncAnimation(fig, animate, frames=len(t), interval=t[1] - t[0], blit=True, init_func=init)\n",
        "\n",
        "plt.show()\n"
      ]
    }
  ],
  "metadata": {
    "colab": {
      "provenance": []
    },
    "kernelspec": {
      "display_name": "Python 3",
      "name": "python3"
    },
    "language_info": {
      "codemirror_mode": {
        "name": "ipython",
        "version": 3
      },
      "file_extension": ".py",
      "mimetype": "text/x-python",
      "name": "python",
      "nbconvert_exporter": "python",
      "pygments_lexer": "ipython3",
      "version": "3.10.12"
    }
  },
  "nbformat": 4,
  "nbformat_minor": 0
}
