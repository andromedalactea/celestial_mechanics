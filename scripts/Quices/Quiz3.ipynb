{
 "cells": [
  {
   "cell_type": "code",
   "execution_count": 1,
   "metadata": {},
   "outputs": [],
   "source": [
    "import numpy as np\n",
    "import pandas as pd \n",
    "from astroquery.jplhorizons import Horizons\n",
    "from astropy import constants"
   ]
  },
  {
   "cell_type": "markdown",
   "metadata": {},
   "source": [
    "Partiendo de la posición y velocidad de Júpiter el día, mes y año de su cumpleaños a la media noche, calcular, usando el método de Euler y el método de Verlet, la posición y velocidad de Júpiter 10 día después. Compare el resultado con el valor obtenido con Astroquery para ese mismo día.  No cambie las unidades de au y días a metros y segundos y para el parámetro gravitacional del Sol use el valor 0.0002959122 au³/d²"
   ]
  },
  {
   "cell_type": "code",
   "execution_count": 18,
   "metadata": {},
   "outputs": [
    {
     "name": "stdout",
     "output_type": "stream",
     "text": [
      "Fecha inicial: A.D. 2002-Jul-26 00:00:00.0000\n",
      "Fecha  Final: A.D. 2002-Aug-05 00:00:00.0000\n",
      "\n",
      "Valores reales después de 10 días, seguún Astroquery:\n",
      "x: -3.185579180768156, y: 5.364921313548042, z: 0.03677344745148706\n",
      "vx: -0.01929145383012097, vy: -0.01488380355524235, vz: 0.0002103996277248161\n",
      "\n",
      "Condiciones estimadas por el método de Euler después de 10 días:\n",
      "x: -3.1955875942999756, y: 5.376169199026981, z: 0.03713618019279433\n",
      "vx: -0.02106202479736272, vy: -0.012554913474460883, vz: 0.00020087056402323336\n",
      "\n",
      "Condiciones estimadas por el método de Verlet después de 10 días:\n",
      "x: -3.195227341106062, y: 5.375505201276991, z: 0.03713194068748877\n",
      "vx: -0.02106202479736272, vy: -0.012554913474460883, vz: 0.00020087056402323336\n",
      "\n",
      "Errores porcentuales por el método de Euler:\n",
      "x: 0.314%, y: 0.210%, z: 0.986%\n",
      "vx: 9.178%, vy: 15.647%, vz: 4.529%\n",
      "\n",
      "Errores porcentuales por el método de Verlet:\n",
      "x: 0.303%, y: 0.197%, z: 0.975%\n",
      "vx: 9.178%, vy: 15.647%, vz: 4.529%\n",
      "\n",
      "Como se puede observar en los porcentajes de error el método de verlet en este caso fue un poco más preciso\n"
     ]
    }
   ],
   "source": [
    "#!pip install -q astroquery\n",
    "#Importando las librerias necesarias\n",
    "import numpy as np\n",
    "import pandas as pd \n",
    "from astroquery.jplhorizons import Horizons\n",
    "from astropy import constants\n",
    "\n",
    "U_sun=0.0002959122 #au³/d² \n",
    "#Teniendo en cuenta que mi fecha de nacimiento es 2002-07-26, entonces extraigamos las condiciones inciales para Jupiter este día:\n",
    "Condiciones_Jupiter=Horizons(id='599', location='0', epochs={'start': '2002-07-26', 'stop': '2002-08-06', 'step': '10d'}).vectors().to_pandas()[['datetime_str', 'x', 'y', 'z', 'vx', 'vy', 'vz']]\n",
    "\n",
    "#La primera fila de nuestro dataframe corresponde a las condiciones iniciales de Jupiter en el día de mi nacimiento, y la segunda las condiciones 10 días después:\n",
    "#Vamos a calcular estas condiciones 10 días después, por el metodo de Euler y Verlet:\n",
    "\n",
    "#Método de Euler:\n",
    "\n",
    "#Definamos la función que nos permite encontrar la posición por el método euler:\n",
    "xf=lambda xi,vi,dt: xi+vi*dt\n",
    "\n",
    "#Ahora definamos la funcón que nos permite encontrar la velocidad por el método euler:\n",
    "def vf(vi,xi,r,dt):\n",
    "    #En este caso la aceleración es generada por la fuerza gravitacional del sol entonces:\n",
    "    ai=-xi*U_sun/r**3\n",
    "    return vi+ai*dt\n",
    "\n",
    "r=np.sqrt(Condiciones_Jupiter.iloc[0][1]**2+Condiciones_Jupiter.iloc[0][2]**2+Condiciones_Jupiter.iloc[0][3]**2)\n",
    "Condiciones_finales_euler=[]\n",
    "#Condiciones finales para la posicón \n",
    "for i in range(1,4): Condiciones_finales_euler.append(xf(Condiciones_Jupiter.iloc[0][i],Condiciones_Jupiter.iloc[0][i+3],10))\n",
    "#Condiciones finales para la velocidad\n",
    "for i in range(1,4): Condiciones_finales_euler.append(vf(Condiciones_Jupiter.iloc[0][i+3],Condiciones_Jupiter.iloc[0][i],r,10))\n",
    "\n",
    "\n",
    "#Ahora por el método de Verlet:\n",
    "\n",
    "#Para el caso de Verlet podemos usar las mismas funciones que en el caso de euler, solamente que en el caso de la posicion ahora la velocidad usada\n",
    "# es la velocidad calculada para las caracteristicas finales\n",
    "Condiciones_finales_verlet=[]\n",
    "#Condiciones finales para la posicón\n",
    "for i in range(1,4): Condiciones_finales_verlet.append(xf(Condiciones_Jupiter.iloc[0][i],Condiciones_finales_euler[i+2],10))\n",
    "\n",
    "#Uniendo las codiciones finales por el metodo de verlet \n",
    "Condiciones_finales_verlet=Condiciones_finales_verlet+[Condiciones_finales_euler[i] for i in range(3,6)]\n",
    "\n",
    "# Extrayendo los valores reales\n",
    "valores_reales = Condiciones_Jupiter.iloc[1]\n",
    "\n",
    "# Imprimiendo los resultados\n",
    "print(\"Fecha inicial:\", Condiciones_Jupiter.loc[0, 'datetime_str'])\n",
    "print(\"Fecha  Final:\", Condiciones_Jupiter.loc[1, 'datetime_str'])\n",
    "\n",
    "print(\"\\nValores reales después de 10 días, seguún Astroquery:\")\n",
    "print(f\"x: {valores_reales['x']}, y: {valores_reales['y']}, z: {valores_reales['z']}\")\n",
    "print(f\"vx: {valores_reales['vx']}, vy: {valores_reales['vy']}, vz: {valores_reales['vz']}\")\n",
    "\n",
    "print(\"\\nCondiciones estimadas por el método de Euler después de 10 días:\")\n",
    "print(f\"x: {Condiciones_finales_euler[0]}, y: {Condiciones_finales_euler[1]}, z: {Condiciones_finales_euler[2]}\")\n",
    "print(f\"vx: {Condiciones_finales_euler[3]}, vy: {Condiciones_finales_euler[4]}, vz: {Condiciones_finales_euler[5]}\")\n",
    "\n",
    "print(\"\\nCondiciones estimadas por el método de Verlet después de 10 días:\")\n",
    "print(f\"x: {Condiciones_finales_verlet[0]}, y: {Condiciones_finales_verlet[1]}, z: {Condiciones_finales_verlet[2]}\")\n",
    "print(f\"vx: {Condiciones_finales_verlet[3]}, vy: {Condiciones_finales_verlet[4]}, vz: {Condiciones_finales_verlet[5]}\")\n",
    "\n",
    "#Ahora calculemos el error porcentual para cada una de las condiciones finales, con respecto a los valores reales obtenidos por Astroquery:\n",
    "# Calculando los errores porcentuales para el método de Euler\n",
    "errores_euler = [abs((Condiciones_finales_euler[i] - valores_reales[i+1]) / valores_reales[i+1]) * 100 for i in range(6)]\n",
    "\n",
    "# Calculando los errores porcentuales para el método de Verlet\n",
    "errores_verlet = [abs((Condiciones_finales_verlet[i] - valores_reales[i+1]) / valores_reales[i+1]) * 100 for i in range(6)]\n",
    "\n",
    "# Imprimiendo los errores porcentuales\n",
    "print(\"\\nErrores porcentuales por el método de Euler:\")\n",
    "print(f\"x: {errores_euler[0]:.3f}%, y: {errores_euler[1]:.3f}%, z: {errores_euler[2]:.3f}%\")\n",
    "print(f\"vx: {errores_euler[3]:.3f}%, vy: {errores_euler[4]:.3f}%, vz: {errores_euler[5]:.3f}%\")\n",
    "\n",
    "print(\"\\nErrores porcentuales por el método de Verlet:\")\n",
    "print(f\"x: {errores_verlet[0]:.3f}%, y: {errores_verlet[1]:.3f}%, z: {errores_verlet[2]:.3f}%\")\n",
    "print(f\"vx: {errores_verlet[3]:.3f}%, vy: {errores_verlet[4]:.3f}%, vz: {errores_verlet[5]:.3f}%\")\n",
    "\n",
    "print(f'\\nComo se puede observar en los porcentajes de error el método de verlet en este caso fue un poco más preciso')\n"
   ]
  },
  {
   "cell_type": "code",
   "execution_count": 26,
   "metadata": {},
   "outputs": [
    {
     "data": {
      "text/html": [
       "<div>\n",
       "<style scoped>\n",
       "    .dataframe tbody tr th:only-of-type {\n",
       "        vertical-align: middle;\n",
       "    }\n",
       "\n",
       "    .dataframe tbody tr th {\n",
       "        vertical-align: top;\n",
       "    }\n",
       "\n",
       "    .dataframe thead th {\n",
       "        text-align: right;\n",
       "    }\n",
       "</style>\n",
       "<table border=\"1\" class=\"dataframe\">\n",
       "  <thead>\n",
       "    <tr style=\"text-align: right;\">\n",
       "      <th></th>\n",
       "      <th>datetime_str</th>\n",
       "      <th>x</th>\n",
       "      <th>y</th>\n",
       "      <th>z</th>\n",
       "      <th>vx</th>\n",
       "      <th>vy</th>\n",
       "      <th>vz</th>\n",
       "    </tr>\n",
       "  </thead>\n",
       "  <tbody>\n",
       "    <tr>\n",
       "      <th>0</th>\n",
       "      <td>A.D. 2002-Jul-26 00:00:00.0000</td>\n",
       "      <td>-2.984607</td>\n",
       "      <td>5.501054</td>\n",
       "      <td>0.035123</td>\n",
       "      <td>-0.021098</td>\n",
       "      <td>-0.012489</td>\n",
       "      <td>0.000201</td>\n",
       "    </tr>\n",
       "    <tr>\n",
       "      <th>1</th>\n",
       "      <td>A.D. 2002-Aug-05 00:00:00.0000</td>\n",
       "      <td>-3.185579</td>\n",
       "      <td>5.364921</td>\n",
       "      <td>0.036773</td>\n",
       "      <td>-0.019291</td>\n",
       "      <td>-0.014884</td>\n",
       "      <td>0.000210</td>\n",
       "    </tr>\n",
       "  </tbody>\n",
       "</table>\n",
       "</div>"
      ],
      "text/plain": [
       "                     datetime_str         x         y         z        vx  \\\n",
       "0  A.D. 2002-Jul-26 00:00:00.0000 -2.984607  5.501054  0.035123 -0.021098   \n",
       "1  A.D. 2002-Aug-05 00:00:00.0000 -3.185579  5.364921  0.036773 -0.019291   \n",
       "\n",
       "         vy        vz  \n",
       "0 -0.012489  0.000201  \n",
       "1 -0.014884  0.000210  "
      ]
     },
     "execution_count": 26,
     "metadata": {},
     "output_type": "execute_result"
    }
   ],
   "source": [
    "Condiciones_Jupiter"
   ]
  },
  {
   "cell_type": "code",
   "execution_count": 24,
   "metadata": {},
   "outputs": [
    {
     "data": {
      "text/plain": [
       "6.2586506277706535"
      ]
     },
     "execution_count": 24,
     "metadata": {},
     "output_type": "execute_result"
    }
   ],
   "source": [
    "((-2.984607)**2+5.501054**2+0.035123**2)**0.5"
   ]
  }
 ],
 "metadata": {
  "kernelspec": {
   "display_name": ".venv",
   "language": "python",
   "name": "python3"
  },
  "language_info": {
   "codemirror_mode": {
    "name": "ipython",
    "version": 3
   },
   "file_extension": ".py",
   "mimetype": "text/x-python",
   "name": "python",
   "nbconvert_exporter": "python",
   "pygments_lexer": "ipython3",
   "version": "3.10.12"
  },
  "orig_nbformat": 4
 },
 "nbformat": 4,
 "nbformat_minor": 2
}
