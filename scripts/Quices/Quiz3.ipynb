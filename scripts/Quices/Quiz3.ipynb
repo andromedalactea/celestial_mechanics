{
 "cells": [
  {
   "cell_type": "code",
   "execution_count": 1,
   "metadata": {},
   "outputs": [],
   "source": [
    "import numpy as np\n",
    "import pandas as pd \n",
    "from astroquery.jplhorizons import Horizons\n",
    "from astropy import constants"
   ]
  },
  {
   "cell_type": "markdown",
   "metadata": {},
   "source": [
    "Partiendo de la posición y velocidad de Júpiter el día, mes y año de su cumpleaños a la media noche, calcular, usando el método de Euler y el método de Verlet, la posición y velocidad de Júpiter 10 día después. Compare el resultado con el valor obtenido con Astroquery para ese mismo día.  No cambie las unidades de au y días a metros y segundos y para el parámetro gravitacional del Sol use el valor 0.0002959122 au³/d²"
   ]
  },
  {
   "cell_type": "code",
   "execution_count": 2,
   "metadata": {},
   "outputs": [],
   "source": [
    "#Importando las librerias necesarias\n",
    "import numpy as np\n",
    "import pandas as pd \n",
    "from astroquery.jplhorizons import Horizons\n",
    "#from astropy import constants\n",
    "\n",
    "#Teniendo en cuenta que mi fecha de nacimiento es 2002-07-26, entonces extraigamos las condiciones inciales para Jupiter este día:\n",
    "Horizons(id='599', location='0', epochs={'start': '2002-01-01', 'stop': '2022-12-31', 'step': '90d'}).vectors().to_pandas()[['datetime_str', 'x', 'y', 'z', 'vx', 'vy', 'vz']]"
   ]
  },
  {
   "cell_type": "code",
   "execution_count": null,
   "metadata": {},
   "outputs": [],
   "source": []
  }
 ],
 "metadata": {
  "kernelspec": {
   "display_name": ".venv",
   "language": "python",
   "name": "python3"
  },
  "language_info": {
   "codemirror_mode": {
    "name": "ipython",
    "version": 3
   },
   "file_extension": ".py",
   "mimetype": "text/x-python",
   "name": "python",
   "nbconvert_exporter": "python",
   "pygments_lexer": "ipython3",
   "version": "3.10.12"
  },
  "orig_nbformat": 4
 },
 "nbformat": 4,
 "nbformat_minor": 2
}
